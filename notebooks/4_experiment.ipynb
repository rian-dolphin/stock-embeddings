{
 "cells": [
  {
   "cell_type": "markdown",
   "metadata": {},
   "source": [
    "### XXXXXX"
   ]
  },
  {
   "cell_type": "code",
   "execution_count": 1,
   "metadata": {},
   "outputs": [],
   "source": [
    "%load_ext autoreload\n",
    "%autoreload 2\n",
    "import sys\n",
    "sys.path.append('../')"
   ]
  },
  {
   "cell_type": "code",
   "execution_count": 2,
   "metadata": {},
   "outputs": [
    {
     "name": "stdout",
     "output_type": "stream",
     "text": [
      "No change made because period entered is 1\n"
     ]
    }
   ],
   "source": [
    "from utils.returns_data_class import ReturnsData\n",
    "PERIOD = 1\n",
    "data = ReturnsData(\n",
    "    daily_returns_path=\"../Data/returns_df_611.csv\",\n",
    "    extras_path=\"../Data/historical_stocks.csv\",\n",
    ")\n",
    "data.change_returns_period(PERIOD)\n",
    "X = data.returns_df.values.T"
   ]
  },
  {
   "cell_type": "code",
   "execution_count": 3,
   "metadata": {},
   "outputs": [
    {
     "name": "stdout",
     "output_type": "stream",
     "text": [
      "Context Size: 10, Period: 10, Stride: 3\n",
      "Number of Negative Samples: 30\n"
     ]
    },
    {
     "name": "stderr",
     "output_type": "stream",
     "text": [
      "100%|██████████| 87/87 [00:07<00:00, 11.59it/s]\n",
      "100%|██████████| 87/87 [00:07<00:00, 11.44it/s]\n",
      "100%|██████████| 87/87 [00:07<00:00, 11.61it/s]\n",
      "100%|██████████| 87/87 [00:07<00:00, 11.68it/s]\n",
      "100%|██████████| 87/87 [00:07<00:00, 11.41it/s]\n",
      "100%|██████████| 89/89 [00:07<00:00, 11.69it/s]\n",
      "100%|██████████| 87/87 [00:08<00:00, 10.84it/s]\n"
     ]
    },
    {
     "name": "stdout",
     "output_type": "stream",
     "text": [
      "nearly returning\n",
      "Number (anchor, positive, negative) samples: 953771\n"
     ]
    }
   ],
   "source": [
    "num_TS = X.shape[0]\n",
    "num_pos_samples = 10\n",
    "period = 10\n",
    "stride = 3\n",
    "num_neg_samples = 30\n",
    "\n",
    "print(f\"Context Size: {num_pos_samples}, Period: {period}, Stride: {stride}\")\n",
    "print(f\"Number of Negative Samples: {num_neg_samples}\")\n",
    "\n",
    "from utils.context import get_tgt_context_euclidean_multiprocess\n",
    "positive_tgt_context_sets = get_tgt_context_euclidean_multiprocess(ts_array=X, m=period, k=num_pos_samples, stride=stride, z_normalize=False, st_dev_pruning=False, verbose=True)\n",
    "negative_tgt_context_sets = get_tgt_context_euclidean_multiprocess(ts_array=X, m=period, k=num_neg_samples, stride=stride, z_normalize=False, st_dev_pruning=False, top_k=False, verbose=True)\n",
    "print(f\"Number (anchor, positive, negative) samples: {len(positive_tgt_context_sets)}\")"
   ]
  },
  {
   "cell_type": "code",
   "execution_count": 4,
   "metadata": {},
   "outputs": [
    {
     "name": "stdout",
     "output_type": "stream",
     "text": [
      "The most commonly co-occurring stocks with JPM are: ['C', 'BAC', 'WFC', 'USB', 'PNC']\n"
     ]
    },
    {
     "data": {
      "text/plain": [
       "C      0.030750\n",
       "BAC    0.026393\n",
       "WFC    0.024920\n",
       "USB    0.023959\n",
       "PNC    0.020884\n",
       "Name: count, dtype: float64"
      ]
     },
     "execution_count": 4,
     "metadata": {},
     "output_type": "execute_result"
    }
   ],
   "source": [
    "import pandas as pd\n",
    "import numpy as np\n",
    "ticker = \"JPM\"\n",
    "i = data.ticker2idx[ticker]\n",
    "temp = np.array([xi[1] for xi in positive_tgt_context_sets if xi[0] == i]).flatten()\n",
    "print(\n",
    "    f\"The most commonly co-occurring stocks with {ticker} are: {[data.idx2ticker[xi] for xi in pd.Series(temp).value_counts().index][:5]}\"\n",
    ")\n",
    "temp = pd.Series(temp).value_counts()\n",
    "temp.index = temp.index.map(data.idx2ticker)\n",
    "temp = temp/temp.sum()\n",
    "temp.iloc[:5]"
   ]
  },
  {
   "cell_type": "markdown",
   "metadata": {},
   "source": [
    "Sample positive and negative pairs based on Chi-Squared p-value. If cooccurrence is more than random with high confidence then sample more.\n",
    "\n"
   ]
  },
  {
   "cell_type": "code",
   "execution_count": 5,
   "metadata": {},
   "outputs": [
    {
     "name": "stderr",
     "output_type": "stream",
     "text": [
      "  0%|          | 0/611 [00:00<?, ?it/s]"
     ]
    },
    {
     "name": "stderr",
     "output_type": "stream",
     "text": [
      "100%|██████████| 611/611 [00:35<00:00, 17.20it/s]\n"
     ]
    }
   ],
   "source": [
    "from tqdm import tqdm\n",
    "\n",
    "def get_cooccurrence_counts(tgt_context_sets, data:ReturnsData):\n",
    "    distributions = {}\n",
    "    for ticker in tqdm(data.tickers):\n",
    "        i = data.ticker2idx[ticker]\n",
    "        all_samples = np.array([xi[1] for xi in tgt_context_sets if xi[0] == i]).flatten()\n",
    "        sample_count = pd.Series(all_samples).value_counts()\n",
    "        sample_count.index = sample_count.index.map(data.idx2ticker)\n",
    "        sample_count = sample_count.to_dict()\n",
    "        # Add zero cooccurrences\n",
    "        zero_cooccurrences = set(data.tickers)-set(sample_count.keys())-set([ticker])\n",
    "        sample_count.update(dict.fromkeys(list(zero_cooccurrences), 0))\n",
    "\n",
    "        distributions[ticker] = sample_count\n",
    "    return distributions\n",
    "positive_sample_distributions = get_cooccurrence_counts(positive_tgt_context_sets, data)"
   ]
  },
  {
   "cell_type": "code",
   "execution_count": 8,
   "metadata": {},
   "outputs": [
    {
     "name": "stdout",
     "output_type": "stream",
     "text": [
      "Observed Count: 480.0\n",
      "Expected Count: 25.548281505728315\n",
      "Test Statistic: 89.90989392471835\n",
      "P-value: 0.0\n"
     ]
    },
    {
     "data": {
      "text/plain": [
       "0.0"
      ]
     },
     "execution_count": 8,
     "metadata": {},
     "output_type": "execute_result"
    }
   ],
   "source": [
    "import pandas as pd\n",
    "from scipy.stats import norm\n",
    "from typing import Literal\n",
    "\n",
    "def test_ticker_cooccurrence_significance(\n",
    "    t1: str,\n",
    "    t2: str,\n",
    "    distributions: dict,\n",
    "    test_direction: Literal[\"positive_samples\", \"negative_samples\"] = \"positive_samples\",\n",
    "    alpha: float | None = None,\n",
    "    verbose: bool = False,\n",
    "):\n",
    "    # Convert to DataFrame\n",
    "    df = pd.DataFrame(distributions).fillna(0)\n",
    "\n",
    "    # Calculate total counts\n",
    "    total_counts = df.sum().sum()\n",
    "\n",
    "    # Observed count for word_b with word_2\n",
    "    observed_count = df.loc[t2, t1]\n",
    "\n",
    "    # Expected count under equal frequency assumption\n",
    "    # (1/num_TS)*int((X.shape[1]-period)/stride) * num_pos_samples\n",
    "    expected_count = df[t1].sum() / len(df)\n",
    "\n",
    "    # Perform a Z-test for proportions\n",
    "    test_statistic = (observed_count - expected_count) / np.sqrt(\n",
    "        expected_count * (1 - expected_count / total_counts)\n",
    "    )\n",
    "    # p_value = norm.sf(abs(z_score))  # two-tailed test\n",
    "    if test_direction==\"positive_samples\":\n",
    "        p_value = norm.sf(test_statistic)  # one-tailed test\n",
    "    elif test_direction==\"negative_samples\":\n",
    "        p_value = norm.cdf(test_statistic)\n",
    "\n",
    "    if verbose:\n",
    "        print(f\"Observed Count: {observed_count}\")\n",
    "        print(f\"Expected Count: {expected_count}\")\n",
    "        print(f\"Test Statistic: {test_statistic}\")\n",
    "        print(f\"P-value: {p_value}\")\n",
    "    if alpha is None:\n",
    "        return p_value\n",
    "    else:\n",
    "        return p_value < alpha\n",
    "\n",
    "test_ticker_cooccurrence_significance(\"JPM\", \"C\", positive_sample_distributions, verbose=True, test_direction=\"positive_samples\")"
   ]
  },
  {
   "cell_type": "code",
   "execution_count": 19,
   "metadata": {},
   "outputs": [
    {
     "name": "stderr",
     "output_type": "stream",
     "text": [
      "100%|██████████| 611/611 [5:29:09<00:00, 32.32s/it]  \n"
     ]
    }
   ],
   "source": [
    "samples = []\n",
    "\n",
    "for ticker in tqdm(data.tickers):\n",
    "    for t, c in positive_sample_distributions[ticker].items():\n",
    "        p_value_positive = test_ticker_cooccurrence_significance(\n",
    "            ticker,\n",
    "            t,\n",
    "            positive_sample_distributions,\n",
    "            test_direction=\"positive_samples\",\n",
    "        )\n",
    "\n",
    "        samples.append((ticker,t,c,p_value_positive))\n"
   ]
  },
  {
   "cell_type": "code",
   "execution_count": 20,
   "metadata": {},
   "outputs": [],
   "source": [
    "import pickle\n",
    "with open('samples.pkl', 'wb') as f:\n",
    "    pickle.dump(samples, f)"
   ]
  },
  {
   "cell_type": "markdown",
   "metadata": {},
   "source": [
    "Load samples"
   ]
  },
  {
   "cell_type": "code",
   "execution_count": 52,
   "metadata": {},
   "outputs": [],
   "source": [
    "samples_df = pd.DataFrame(samples, columns=[\"query_ticker\", \"sample_ticker\", \"count\", \"p_value\"])\n",
    "samples_df[\"query_ticker_idx\"] = samples_df[\"query_ticker\"].map(data.ticker2idx)\n",
    "samples_df[\"sample_ticker_idx\"] = samples_df[\"sample_ticker\"].map(data.ticker2idx)"
   ]
  },
  {
   "cell_type": "code",
   "execution_count": 109,
   "metadata": {},
   "outputs": [],
   "source": [
    "def get_distribution(ticker, samples_df, sample_type:Literal[\"positive_samples\", \"negative_samples\"]=\"positive_samples\"):\n",
    "    filtered_df = samples_df[samples_df[\"query_ticker\"]==ticker].copy()\n",
    "    if sample_type==\"positive_samples\":\n",
    "        filtered_df = filtered_df[filtered_df[\"p_value\"]<0.025].copy()\n",
    "    elif sample_type==\"negative_samples\":\n",
    "        filtered_df = filtered_df[filtered_df[\"p_value\"]>0.7].copy()\n",
    "    else:\n",
    "        raise ValueError(\"Invalid sample_type\")\n",
    "    filtered_df[\"pos_prob\"] = filtered_df[\"count\"]/filtered_df[\"count\"].sum()\n",
    "    filtered_df[\"pos_prob_sq\"] = filtered_df[\"pos_prob\"]**2\n",
    "    filtered_df[\"pos_prob_sq\"] = filtered_df[\"pos_prob_sq\"]/filtered_df[\"pos_prob_sq\"].sum()\n",
    "    # filtered_df[\"pos_prob_sq\"] = filtered_df[\"pos_prob_sq\"].round(3)\n",
    "    filtered_distribution = filtered_df[[\"query_ticker\", \"sample_ticker\", \"pos_prob_sq\"]].values\n",
    "    return filtered_distribution"
   ]
  },
  {
   "cell_type": "code",
   "execution_count": 110,
   "metadata": {},
   "outputs": [],
   "source": [
    "def sample_tgt_context_sets(filtered_distribution, n_samples, sample_size):\n",
    "    # Unique first elements\n",
    "    unique_first_elements = np.unique(filtered_distribution[:, 0])\n",
    "    if len(unique_first_elements)>1:\n",
    "        raise ValueError(\"Should only be a single distribution\")\n",
    "    first_elem = unique_first_elements[0]\n",
    "\n",
    "    sampled_pairs = []\n",
    "\n",
    "    # Filter distribution for the current first element\n",
    "    current_distribution = filtered_distribution[filtered_distribution[:, 0] == first_elem]\n",
    "\n",
    "    # Check if there are enough elements to sample\n",
    "    if len(current_distribution) < sample_size:\n",
    "        raise ValueError(f\"Not enough elements to sample {sample_size} times for '{first_elem}'\")\n",
    "\n",
    "    # Extract second elements and probabilities\n",
    "    second_elements = current_distribution[:, 1]\n",
    "    probabilities = current_distribution[:, 2].astype(float)\n",
    "\n",
    "    # Sample multiple times\n",
    "    # samples_for_first_elem = []\n",
    "    for _ in range(n_samples):\n",
    "        # Sample without replacement\n",
    "        sampled_indices = np.random.choice(len(probabilities), size=sample_size, replace=False, p=probabilities)\n",
    "        sampled_second_elements = second_elements[sampled_indices]\n",
    "        # samples_for_first_elem.append(list(sampled_second_elements))\n",
    "\n",
    "        # Append to result\n",
    "        sampled_pairs.append((first_elem, list(sampled_second_elements)))\n",
    "\n",
    "    return sampled_pairs\n"
   ]
  },
  {
   "cell_type": "code",
   "execution_count": null,
   "metadata": {},
   "outputs": [],
   "source": []
  },
  {
   "cell_type": "code",
   "execution_count": null,
   "metadata": {},
   "outputs": [],
   "source": []
  },
  {
   "cell_type": "code",
   "execution_count": 112,
   "metadata": {},
   "outputs": [
    {
     "name": "stderr",
     "output_type": "stream",
     "text": [
      "100%|██████████| 611/611 [00:43<00:00, 13.95it/s]\n"
     ]
    }
   ],
   "source": [
    "\n",
    "num_neg_samples = 20\n",
    "num_pos_samples = 5\n",
    "num_sets = 1000\n",
    "dist_shapes = []\n",
    "positive_tgt_context_sets = []\n",
    "negative_tgt_context_sets = []\n",
    "for ticker in tqdm(data.tickers):\n",
    "    temp_ticker_distribution_pos = get_distribution(ticker, samples_df, sample_type=\"positive_samples\")\n",
    "    temp_ticker_distribution_neg = get_distribution(ticker, samples_df, sample_type=\"negative_samples\")\n",
    "    dist_shapes.append((temp_ticker_distribution_pos.shape[0], temp_ticker_distribution_neg.shape[0]))\n",
    "    temp_ticker_positive_sets = sample_tgt_context_sets(temp_ticker_distribution_pos, n_samples=num_sets, sample_size=num_pos_samples)\n",
    "    temp_ticker_negative_sets = sample_tgt_context_sets(temp_ticker_distribution_neg, n_samples=num_sets, sample_size=num_neg_samples)\n",
    "    positive_tgt_context_sets += temp_ticker_positive_sets\n",
    "    negative_tgt_context_sets += temp_ticker_negative_sets"
   ]
  },
  {
   "cell_type": "code",
   "execution_count": 113,
   "metadata": {},
   "outputs": [
    {
     "data": {
      "application/vnd.plotly.v1+json": {
       "config": {
        "plotlyServerURL": "https://plot.ly"
       },
       "data": [
        {
         "alignmentgroup": "True",
         "bingroup": "x",
         "hovertemplate": "variable=0<br>value=%{x}<br>count=%{y}<extra></extra>",
         "legendgroup": "0",
         "marker": {
          "color": "#636efa",
          "pattern": {
           "shape": ""
          }
         },
         "name": "0",
         "offsetgroup": "0",
         "orientation": "v",
         "showlegend": true,
         "type": "histogram",
         "x": [
          302,
          291,
          311,
          368,
          430,
          257,
          333,
          413,
          300,
          340,
          312,
          335,
          281,
          457,
          519,
          357,
          345,
          308,
          274,
          380,
          299,
          301,
          327,
          357,
          243,
          442,
          257,
          427,
          331,
          342,
          243,
          244,
          378,
          352,
          292,
          521,
          519,
          356,
          283,
          358,
          341,
          490,
          300,
          295,
          317,
          442,
          443,
          288,
          323,
          379,
          293,
          364,
          315,
          335,
          487,
          367,
          482,
          336,
          314,
          308,
          340,
          341,
          407,
          367,
          381,
          302,
          318,
          517,
          374,
          293,
          444,
          433,
          322,
          335,
          351,
          436,
          363,
          350,
          398,
          384,
          316,
          331,
          343,
          301,
          364,
          453,
          462,
          318,
          268,
          383,
          332,
          273,
          283,
          382,
          329,
          376,
          252,
          252,
          281,
          427,
          310,
          331,
          296,
          290,
          431,
          301,
          307,
          295,
          417,
          311,
          383,
          285,
          307,
          318,
          378,
          401,
          294,
          275,
          396,
          500,
          340,
          305,
          402,
          330,
          502,
          244,
          348,
          279,
          471,
          489,
          306,
          337,
          296,
          431,
          334,
          311,
          397,
          352,
          480,
          343,
          372,
          356,
          317,
          376,
          332,
          282,
          319,
          324,
          292,
          394,
          456,
          335,
          386,
          315,
          380,
          395,
          498,
          330,
          312,
          344,
          289,
          337,
          339,
          322,
          279,
          306,
          382,
          423,
          504,
          516,
          531,
          347,
          288,
          277,
          262,
          297,
          327,
          508,
          317,
          411,
          375,
          490,
          361,
          275,
          519,
          353,
          366,
          332,
          485,
          293,
          304,
          293,
          547,
          378,
          507,
          342,
          487,
          325,
          296,
          305,
          339,
          313,
          432,
          493,
          319,
          496,
          296,
          353,
          466,
          329,
          456,
          286,
          297,
          436,
          307,
          288,
          314,
          449,
          308,
          320,
          326,
          304,
          354,
          347,
          298,
          339,
          412,
          293,
          325,
          301,
          311,
          323,
          297,
          354,
          309,
          278,
          319,
          507,
          282,
          506,
          437,
          337,
          445,
          301,
          250,
          499,
          452,
          297,
          317,
          300,
          279,
          369,
          530,
          306,
          269,
          302,
          378,
          293,
          318,
          342,
          387,
          307,
          307,
          277,
          305,
          336,
          470,
          434,
          363,
          333,
          251,
          286,
          303,
          281,
          417,
          274,
          357,
          342,
          285,
          393,
          377,
          276,
          316,
          317,
          330,
          312,
          323,
          408,
          283,
          449,
          345,
          405,
          315,
          322,
          434,
          305,
          282,
          506,
          467,
          432,
          401,
          403,
          319,
          360,
          404,
          335,
          330,
          347,
          329,
          316,
          268,
          278,
          307,
          416,
          347,
          364,
          360,
          364,
          424,
          279,
          495,
          332,
          294,
          451,
          383,
          256,
          302,
          300,
          299,
          309,
          291,
          333,
          362,
          283,
          341,
          388,
          294,
          394,
          350,
          396,
          292,
          285,
          424,
          262,
          394,
          340,
          296,
          361,
          367,
          401,
          299,
          314,
          369,
          483,
          337,
          306,
          467,
          324,
          277,
          324,
          265,
          382,
          482,
          413,
          270,
          279,
          332,
          310,
          500,
          535,
          280,
          329,
          540,
          502,
          406,
          295,
          359,
          452,
          429,
          308,
          272,
          423,
          342,
          299,
          377,
          443,
          353,
          256,
          306,
          305,
          283,
          437,
          293,
          301,
          287,
          349,
          448,
          465,
          365,
          308,
          334,
          314,
          459,
          268,
          331,
          348,
          309,
          375,
          458,
          347,
          377,
          349,
          488,
          324,
          500,
          373,
          403,
          361,
          410,
          354,
          403,
          336,
          301,
          440,
          272,
          299,
          403,
          300,
          301,
          344,
          340,
          473,
          251,
          453,
          346,
          511,
          248,
          359,
          489,
          409,
          311,
          276,
          332,
          243,
          335,
          536,
          248,
          229,
          513,
          260,
          252,
          375,
          392,
          335,
          281,
          365,
          313,
          330,
          318,
          346,
          235,
          342,
          491,
          371,
          276,
          300,
          334,
          291,
          259,
          318,
          342,
          285,
          418,
          425,
          368,
          260,
          491,
          309,
          423,
          323,
          268,
          498,
          498,
          324,
          299,
          338,
          426,
          399,
          347,
          510,
          422,
          278,
          265,
          354,
          401,
          471,
          427,
          322,
          307,
          343,
          309,
          364,
          366,
          344,
          480,
          508,
          297,
          315,
          329,
          299,
          418,
          306,
          340,
          310,
          336,
          331,
          339,
          257,
          269,
          309,
          294,
          334,
          352,
          311,
          377,
          329,
          428,
          340,
          309,
          460,
          318,
          363,
          340,
          405,
          382,
          301,
          284,
          420,
          395,
          339,
          282,
          461,
          424,
          261,
          419,
          286,
          375,
          284,
          379,
          417,
          373,
          315,
          388,
          354,
          523,
          446,
          307,
          262,
          351,
          305,
          324,
          309,
          347,
          314,
          392,
          432,
          297,
          294,
          421,
          328,
          344,
          461,
          354,
          444,
          404,
          330,
          461,
          307,
          306,
          500,
          432,
          251,
          311,
          459,
          530,
          299,
          311,
          352,
          394,
          328,
          356,
          311,
          320,
          354,
          439,
          420,
          331,
          328,
          292,
          319,
          416,
          318,
          279,
          331,
          364,
          423,
          373,
          314,
          284,
          489,
          293
         ],
         "xaxis": "x",
         "yaxis": "y"
        }
       ],
       "layout": {
        "barmode": "relative",
        "legend": {
         "title": {
          "text": "variable"
         },
         "tracegroupgap": 0
        },
        "margin": {
         "t": 60
        },
        "template": {
         "data": {
          "bar": [
           {
            "error_x": {
             "color": "#2a3f5f"
            },
            "error_y": {
             "color": "#2a3f5f"
            },
            "marker": {
             "line": {
              "color": "#E5ECF6",
              "width": 0.5
             },
             "pattern": {
              "fillmode": "overlay",
              "size": 10,
              "solidity": 0.2
             }
            },
            "type": "bar"
           }
          ],
          "barpolar": [
           {
            "marker": {
             "line": {
              "color": "#E5ECF6",
              "width": 0.5
             },
             "pattern": {
              "fillmode": "overlay",
              "size": 10,
              "solidity": 0.2
             }
            },
            "type": "barpolar"
           }
          ],
          "carpet": [
           {
            "aaxis": {
             "endlinecolor": "#2a3f5f",
             "gridcolor": "white",
             "linecolor": "white",
             "minorgridcolor": "white",
             "startlinecolor": "#2a3f5f"
            },
            "baxis": {
             "endlinecolor": "#2a3f5f",
             "gridcolor": "white",
             "linecolor": "white",
             "minorgridcolor": "white",
             "startlinecolor": "#2a3f5f"
            },
            "type": "carpet"
           }
          ],
          "choropleth": [
           {
            "colorbar": {
             "outlinewidth": 0,
             "ticks": ""
            },
            "type": "choropleth"
           }
          ],
          "contour": [
           {
            "colorbar": {
             "outlinewidth": 0,
             "ticks": ""
            },
            "colorscale": [
             [
              0,
              "#0d0887"
             ],
             [
              0.1111111111111111,
              "#46039f"
             ],
             [
              0.2222222222222222,
              "#7201a8"
             ],
             [
              0.3333333333333333,
              "#9c179e"
             ],
             [
              0.4444444444444444,
              "#bd3786"
             ],
             [
              0.5555555555555556,
              "#d8576b"
             ],
             [
              0.6666666666666666,
              "#ed7953"
             ],
             [
              0.7777777777777778,
              "#fb9f3a"
             ],
             [
              0.8888888888888888,
              "#fdca26"
             ],
             [
              1,
              "#f0f921"
             ]
            ],
            "type": "contour"
           }
          ],
          "contourcarpet": [
           {
            "colorbar": {
             "outlinewidth": 0,
             "ticks": ""
            },
            "type": "contourcarpet"
           }
          ],
          "heatmap": [
           {
            "colorbar": {
             "outlinewidth": 0,
             "ticks": ""
            },
            "colorscale": [
             [
              0,
              "#0d0887"
             ],
             [
              0.1111111111111111,
              "#46039f"
             ],
             [
              0.2222222222222222,
              "#7201a8"
             ],
             [
              0.3333333333333333,
              "#9c179e"
             ],
             [
              0.4444444444444444,
              "#bd3786"
             ],
             [
              0.5555555555555556,
              "#d8576b"
             ],
             [
              0.6666666666666666,
              "#ed7953"
             ],
             [
              0.7777777777777778,
              "#fb9f3a"
             ],
             [
              0.8888888888888888,
              "#fdca26"
             ],
             [
              1,
              "#f0f921"
             ]
            ],
            "type": "heatmap"
           }
          ],
          "heatmapgl": [
           {
            "colorbar": {
             "outlinewidth": 0,
             "ticks": ""
            },
            "colorscale": [
             [
              0,
              "#0d0887"
             ],
             [
              0.1111111111111111,
              "#46039f"
             ],
             [
              0.2222222222222222,
              "#7201a8"
             ],
             [
              0.3333333333333333,
              "#9c179e"
             ],
             [
              0.4444444444444444,
              "#bd3786"
             ],
             [
              0.5555555555555556,
              "#d8576b"
             ],
             [
              0.6666666666666666,
              "#ed7953"
             ],
             [
              0.7777777777777778,
              "#fb9f3a"
             ],
             [
              0.8888888888888888,
              "#fdca26"
             ],
             [
              1,
              "#f0f921"
             ]
            ],
            "type": "heatmapgl"
           }
          ],
          "histogram": [
           {
            "marker": {
             "pattern": {
              "fillmode": "overlay",
              "size": 10,
              "solidity": 0.2
             }
            },
            "type": "histogram"
           }
          ],
          "histogram2d": [
           {
            "colorbar": {
             "outlinewidth": 0,
             "ticks": ""
            },
            "colorscale": [
             [
              0,
              "#0d0887"
             ],
             [
              0.1111111111111111,
              "#46039f"
             ],
             [
              0.2222222222222222,
              "#7201a8"
             ],
             [
              0.3333333333333333,
              "#9c179e"
             ],
             [
              0.4444444444444444,
              "#bd3786"
             ],
             [
              0.5555555555555556,
              "#d8576b"
             ],
             [
              0.6666666666666666,
              "#ed7953"
             ],
             [
              0.7777777777777778,
              "#fb9f3a"
             ],
             [
              0.8888888888888888,
              "#fdca26"
             ],
             [
              1,
              "#f0f921"
             ]
            ],
            "type": "histogram2d"
           }
          ],
          "histogram2dcontour": [
           {
            "colorbar": {
             "outlinewidth": 0,
             "ticks": ""
            },
            "colorscale": [
             [
              0,
              "#0d0887"
             ],
             [
              0.1111111111111111,
              "#46039f"
             ],
             [
              0.2222222222222222,
              "#7201a8"
             ],
             [
              0.3333333333333333,
              "#9c179e"
             ],
             [
              0.4444444444444444,
              "#bd3786"
             ],
             [
              0.5555555555555556,
              "#d8576b"
             ],
             [
              0.6666666666666666,
              "#ed7953"
             ],
             [
              0.7777777777777778,
              "#fb9f3a"
             ],
             [
              0.8888888888888888,
              "#fdca26"
             ],
             [
              1,
              "#f0f921"
             ]
            ],
            "type": "histogram2dcontour"
           }
          ],
          "mesh3d": [
           {
            "colorbar": {
             "outlinewidth": 0,
             "ticks": ""
            },
            "type": "mesh3d"
           }
          ],
          "parcoords": [
           {
            "line": {
             "colorbar": {
              "outlinewidth": 0,
              "ticks": ""
             }
            },
            "type": "parcoords"
           }
          ],
          "pie": [
           {
            "automargin": true,
            "type": "pie"
           }
          ],
          "scatter": [
           {
            "fillpattern": {
             "fillmode": "overlay",
             "size": 10,
             "solidity": 0.2
            },
            "type": "scatter"
           }
          ],
          "scatter3d": [
           {
            "line": {
             "colorbar": {
              "outlinewidth": 0,
              "ticks": ""
             }
            },
            "marker": {
             "colorbar": {
              "outlinewidth": 0,
              "ticks": ""
             }
            },
            "type": "scatter3d"
           }
          ],
          "scattercarpet": [
           {
            "marker": {
             "colorbar": {
              "outlinewidth": 0,
              "ticks": ""
             }
            },
            "type": "scattercarpet"
           }
          ],
          "scattergeo": [
           {
            "marker": {
             "colorbar": {
              "outlinewidth": 0,
              "ticks": ""
             }
            },
            "type": "scattergeo"
           }
          ],
          "scattergl": [
           {
            "marker": {
             "colorbar": {
              "outlinewidth": 0,
              "ticks": ""
             }
            },
            "type": "scattergl"
           }
          ],
          "scattermapbox": [
           {
            "marker": {
             "colorbar": {
              "outlinewidth": 0,
              "ticks": ""
             }
            },
            "type": "scattermapbox"
           }
          ],
          "scatterpolar": [
           {
            "marker": {
             "colorbar": {
              "outlinewidth": 0,
              "ticks": ""
             }
            },
            "type": "scatterpolar"
           }
          ],
          "scatterpolargl": [
           {
            "marker": {
             "colorbar": {
              "outlinewidth": 0,
              "ticks": ""
             }
            },
            "type": "scatterpolargl"
           }
          ],
          "scatterternary": [
           {
            "marker": {
             "colorbar": {
              "outlinewidth": 0,
              "ticks": ""
             }
            },
            "type": "scatterternary"
           }
          ],
          "surface": [
           {
            "colorbar": {
             "outlinewidth": 0,
             "ticks": ""
            },
            "colorscale": [
             [
              0,
              "#0d0887"
             ],
             [
              0.1111111111111111,
              "#46039f"
             ],
             [
              0.2222222222222222,
              "#7201a8"
             ],
             [
              0.3333333333333333,
              "#9c179e"
             ],
             [
              0.4444444444444444,
              "#bd3786"
             ],
             [
              0.5555555555555556,
              "#d8576b"
             ],
             [
              0.6666666666666666,
              "#ed7953"
             ],
             [
              0.7777777777777778,
              "#fb9f3a"
             ],
             [
              0.8888888888888888,
              "#fdca26"
             ],
             [
              1,
              "#f0f921"
             ]
            ],
            "type": "surface"
           }
          ],
          "table": [
           {
            "cells": {
             "fill": {
              "color": "#EBF0F8"
             },
             "line": {
              "color": "white"
             }
            },
            "header": {
             "fill": {
              "color": "#C8D4E3"
             },
             "line": {
              "color": "white"
             }
            },
            "type": "table"
           }
          ]
         },
         "layout": {
          "annotationdefaults": {
           "arrowcolor": "#2a3f5f",
           "arrowhead": 0,
           "arrowwidth": 1
          },
          "autotypenumbers": "strict",
          "coloraxis": {
           "colorbar": {
            "outlinewidth": 0,
            "ticks": ""
           }
          },
          "colorscale": {
           "diverging": [
            [
             0,
             "#8e0152"
            ],
            [
             0.1,
             "#c51b7d"
            ],
            [
             0.2,
             "#de77ae"
            ],
            [
             0.3,
             "#f1b6da"
            ],
            [
             0.4,
             "#fde0ef"
            ],
            [
             0.5,
             "#f7f7f7"
            ],
            [
             0.6,
             "#e6f5d0"
            ],
            [
             0.7,
             "#b8e186"
            ],
            [
             0.8,
             "#7fbc41"
            ],
            [
             0.9,
             "#4d9221"
            ],
            [
             1,
             "#276419"
            ]
           ],
           "sequential": [
            [
             0,
             "#0d0887"
            ],
            [
             0.1111111111111111,
             "#46039f"
            ],
            [
             0.2222222222222222,
             "#7201a8"
            ],
            [
             0.3333333333333333,
             "#9c179e"
            ],
            [
             0.4444444444444444,
             "#bd3786"
            ],
            [
             0.5555555555555556,
             "#d8576b"
            ],
            [
             0.6666666666666666,
             "#ed7953"
            ],
            [
             0.7777777777777778,
             "#fb9f3a"
            ],
            [
             0.8888888888888888,
             "#fdca26"
            ],
            [
             1,
             "#f0f921"
            ]
           ],
           "sequentialminus": [
            [
             0,
             "#0d0887"
            ],
            [
             0.1111111111111111,
             "#46039f"
            ],
            [
             0.2222222222222222,
             "#7201a8"
            ],
            [
             0.3333333333333333,
             "#9c179e"
            ],
            [
             0.4444444444444444,
             "#bd3786"
            ],
            [
             0.5555555555555556,
             "#d8576b"
            ],
            [
             0.6666666666666666,
             "#ed7953"
            ],
            [
             0.7777777777777778,
             "#fb9f3a"
            ],
            [
             0.8888888888888888,
             "#fdca26"
            ],
            [
             1,
             "#f0f921"
            ]
           ]
          },
          "colorway": [
           "#636efa",
           "#EF553B",
           "#00cc96",
           "#ab63fa",
           "#FFA15A",
           "#19d3f3",
           "#FF6692",
           "#B6E880",
           "#FF97FF",
           "#FECB52"
          ],
          "font": {
           "color": "#2a3f5f"
          },
          "geo": {
           "bgcolor": "white",
           "lakecolor": "white",
           "landcolor": "#E5ECF6",
           "showlakes": true,
           "showland": true,
           "subunitcolor": "white"
          },
          "hoverlabel": {
           "align": "left"
          },
          "hovermode": "closest",
          "mapbox": {
           "style": "light"
          },
          "paper_bgcolor": "white",
          "plot_bgcolor": "#E5ECF6",
          "polar": {
           "angularaxis": {
            "gridcolor": "white",
            "linecolor": "white",
            "ticks": ""
           },
           "bgcolor": "#E5ECF6",
           "radialaxis": {
            "gridcolor": "white",
            "linecolor": "white",
            "ticks": ""
           }
          },
          "scene": {
           "xaxis": {
            "backgroundcolor": "#E5ECF6",
            "gridcolor": "white",
            "gridwidth": 2,
            "linecolor": "white",
            "showbackground": true,
            "ticks": "",
            "zerolinecolor": "white"
           },
           "yaxis": {
            "backgroundcolor": "#E5ECF6",
            "gridcolor": "white",
            "gridwidth": 2,
            "linecolor": "white",
            "showbackground": true,
            "ticks": "",
            "zerolinecolor": "white"
           },
           "zaxis": {
            "backgroundcolor": "#E5ECF6",
            "gridcolor": "white",
            "gridwidth": 2,
            "linecolor": "white",
            "showbackground": true,
            "ticks": "",
            "zerolinecolor": "white"
           }
          },
          "shapedefaults": {
           "line": {
            "color": "#2a3f5f"
           }
          },
          "ternary": {
           "aaxis": {
            "gridcolor": "white",
            "linecolor": "white",
            "ticks": ""
           },
           "baxis": {
            "gridcolor": "white",
            "linecolor": "white",
            "ticks": ""
           },
           "bgcolor": "#E5ECF6",
           "caxis": {
            "gridcolor": "white",
            "linecolor": "white",
            "ticks": ""
           }
          },
          "title": {
           "x": 0.05
          },
          "xaxis": {
           "automargin": true,
           "gridcolor": "white",
           "linecolor": "white",
           "ticks": "",
           "title": {
            "standoff": 15
           },
           "zerolinecolor": "white",
           "zerolinewidth": 2
          },
          "yaxis": {
           "automargin": true,
           "gridcolor": "white",
           "linecolor": "white",
           "ticks": "",
           "title": {
            "standoff": 15
           },
           "zerolinecolor": "white",
           "zerolinewidth": 2
          }
         }
        },
        "xaxis": {
         "anchor": "y",
         "domain": [
          0,
          1
         ],
         "title": {
          "text": "value"
         }
        },
        "yaxis": {
         "anchor": "x",
         "domain": [
          0,
          1
         ],
         "title": {
          "text": "count"
         }
        }
       }
      }
     },
     "metadata": {},
     "output_type": "display_data"
    }
   ],
   "source": [
    "import plotly.express as px\n",
    "px.histogram(np.array(dist_shapes)[:,1])"
   ]
  },
  {
   "cell_type": "code",
   "execution_count": null,
   "metadata": {},
   "outputs": [],
   "source": []
  },
  {
   "cell_type": "code",
   "execution_count": 91,
   "metadata": {},
   "outputs": [
    {
     "data": {
      "application/vnd.plotly.v1+json": {
       "config": {
        "plotlyServerURL": "https://plot.ly"
       },
       "data": [
        {
         "hovertemplate": "variable=0<br>index=%{x}<br>value=%{y}<extra></extra>",
         "legendgroup": "0",
         "marker": {
          "color": "#636efa",
          "symbol": "circle"
         },
         "mode": "markers",
         "name": "0",
         "orientation": "v",
         "showlegend": true,
         "type": "scatter",
         "x": [
          0,
          1,
          2,
          3,
          4,
          5,
          6,
          7,
          8,
          9,
          10,
          11,
          12,
          13,
          14,
          15,
          16,
          17,
          18,
          19,
          20,
          21,
          22,
          23,
          24,
          25,
          26,
          27,
          28,
          29,
          30,
          31,
          32,
          33,
          34,
          35,
          36,
          37,
          38,
          39,
          40,
          41,
          42,
          43,
          44,
          45,
          46,
          47,
          48,
          49,
          50,
          51,
          52,
          53,
          54,
          55,
          56,
          57,
          58,
          59,
          60,
          61,
          62,
          63,
          64,
          65,
          66,
          67,
          68,
          69,
          70,
          71,
          72,
          73,
          74,
          75,
          76,
          77,
          78,
          79,
          80,
          81,
          82,
          83,
          84,
          85,
          86,
          87,
          88,
          89,
          90,
          91,
          92,
          93,
          94,
          95,
          96,
          97,
          98,
          99,
          100,
          101,
          102,
          103,
          104,
          105,
          106,
          107,
          108,
          109,
          110,
          111,
          112,
          113,
          114,
          115,
          116,
          117,
          118,
          119,
          120,
          121,
          122,
          123,
          124,
          125,
          126,
          127,
          128,
          129,
          130,
          131,
          132,
          133,
          134,
          135,
          136,
          137,
          138,
          139,
          140,
          141,
          142,
          143,
          144,
          145,
          146,
          147,
          148,
          149,
          150,
          151,
          152,
          153,
          154,
          155,
          156,
          157,
          158,
          159,
          160,
          161,
          162,
          163,
          164,
          165,
          166,
          167,
          168,
          169,
          170,
          171,
          172,
          173,
          174,
          175,
          176,
          177,
          178,
          179,
          180,
          181,
          182,
          183,
          184,
          185,
          186,
          187,
          188,
          189,
          190,
          191,
          192,
          193,
          194,
          195,
          196,
          197,
          198,
          199,
          200,
          201,
          202,
          203,
          204,
          205,
          206,
          207,
          208,
          209,
          210,
          211,
          212,
          213,
          214,
          215,
          216,
          217,
          218,
          219,
          220,
          221,
          222,
          223,
          224,
          225,
          226,
          227,
          228,
          229,
          230,
          231,
          232,
          233,
          234,
          235,
          236,
          237,
          238,
          239,
          240,
          241,
          242,
          243,
          244,
          245,
          246,
          247,
          248,
          249,
          250,
          251,
          252,
          253,
          254,
          255,
          256,
          257,
          258,
          259,
          260,
          261,
          262,
          263,
          264,
          265,
          266,
          267,
          268,
          269,
          270,
          271,
          272,
          273,
          274,
          275,
          276,
          277,
          278,
          279,
          280,
          281,
          282,
          283,
          284,
          285,
          286,
          287,
          288,
          289,
          290,
          291,
          292,
          293,
          294,
          295,
          296,
          297,
          298,
          299,
          300,
          301,
          302,
          303,
          304,
          305,
          306,
          307,
          308,
          309,
          310,
          311,
          312,
          313,
          314,
          315,
          316,
          317,
          318,
          319,
          320,
          321,
          322,
          323,
          324,
          325,
          326,
          327,
          328,
          329,
          330,
          331,
          332,
          333,
          334,
          335,
          336,
          337,
          338,
          339,
          340,
          341,
          342,
          343,
          344,
          345,
          346,
          347,
          348,
          349,
          350,
          351,
          352,
          353,
          354,
          355,
          356,
          357,
          358,
          359,
          360,
          361,
          362,
          363,
          364,
          365,
          366,
          367,
          368,
          369,
          370,
          371,
          372,
          373,
          374,
          375,
          376,
          377,
          378,
          379,
          380,
          381,
          382,
          383,
          384,
          385,
          386,
          387,
          388,
          389,
          390,
          391,
          392,
          393,
          394,
          395,
          396,
          397,
          398,
          399,
          400,
          401,
          402,
          403,
          404,
          405,
          406,
          407,
          408,
          409,
          410,
          411,
          412,
          413,
          414,
          415,
          416,
          417,
          418,
          419,
          420,
          421,
          422,
          423,
          424,
          425,
          426,
          427,
          428,
          429,
          430,
          431,
          432,
          433,
          434,
          435,
          436,
          437,
          438,
          439,
          440,
          441,
          442,
          443,
          444,
          445,
          446,
          447,
          448,
          449,
          450,
          451,
          452,
          453,
          454,
          455,
          456,
          457,
          458,
          459,
          460,
          461,
          462,
          463,
          464,
          465,
          466,
          467,
          468,
          469,
          470,
          471,
          472,
          473,
          474,
          475,
          476,
          477,
          478,
          479,
          480,
          481,
          482,
          483,
          484,
          485,
          486,
          487,
          488,
          489,
          490,
          491,
          492,
          493,
          494,
          495,
          496,
          497,
          498,
          499,
          500,
          501,
          502,
          503,
          504,
          505,
          506,
          507,
          508,
          509,
          510,
          511,
          512,
          513,
          514,
          515,
          516,
          517,
          518,
          519,
          520,
          521,
          522,
          523,
          524,
          525,
          526,
          527,
          528,
          529,
          530,
          531,
          532,
          533,
          534,
          535,
          536,
          537,
          538,
          539,
          540,
          541,
          542,
          543,
          544,
          545,
          546,
          547,
          548,
          549,
          550,
          551,
          552,
          553,
          554,
          555,
          556,
          557,
          558,
          559,
          560,
          561,
          562,
          563,
          564,
          565,
          566,
          567,
          568,
          569,
          570,
          571,
          572,
          573,
          574,
          575,
          576,
          577,
          578,
          579,
          580,
          581,
          582,
          583,
          584,
          585,
          586,
          587,
          588,
          589,
          590,
          591,
          592,
          593,
          594,
          595,
          596,
          597,
          598,
          599,
          600,
          601,
          602,
          603,
          604,
          605,
          606,
          607,
          608,
          609
         ],
         "xaxis": "x",
         "y": [
          0,
          0,
          8.547493503677287e-269,
          8.169047091988492e-242,
          2.848543338815371e-216,
          1.3314312626678521e-197,
          2.541624128540192e-176,
          2.8601712977349213e-148,
          5.0064750683023796e-142,
          2.0035954422014523e-107,
          1.9180106401330503e-103,
          1.9180106401330503e-103,
          2.964405952762062e-98,
          3.350234157728595e-93,
          7.078049393619796e-86,
          7.395485975977756e-79,
          1.3826453004691714e-76,
          1.835885403169371e-75,
          1.835885403169371e-75,
          8.775672529906805e-67,
          9.772607779685971e-66,
          1.0672182667595524e-64,
          1.1429025921688422e-63,
          1.2002697146290128e-62,
          9.785688770074254e-56,
          8.790002015900655e-55,
          8.790002015900655e-55,
          4.7072880162390075e-51,
          4.7072880162390075e-51,
          3.835016931551855e-50,
          1.8445491650835957e-47,
          5.28923613324891e-44,
          4.523545226226157e-39,
          1.0167165746733162e-36,
          5.945345331207958e-36,
          3.409504052996252e-35,
          1.9175356335418173e-34,
          1.9175356335418173e-34,
          3.03487627122176e-32,
          8.05600400524905e-31,
          4.03113395021309e-30,
          4.03113395021309e-30,
          4.03113395021309e-30,
          1.978254693609e-29,
          4.494077481487566e-28,
          2.0804014231356946e-27,
          2.0804014231356946e-27,
          7.865563787371203e-25,
          3.3038774246341524e-24,
          3.3038774246341524e-24,
          5.499258993152332e-23,
          2.179187924907794e-22,
          2.179187924907794e-22,
          3.2284046990210178e-21,
          1.2069676535365963e-20,
          4.4256873469623226e-20,
          4.4256873469623226e-20,
          1.5916441366628603e-19,
          1.5916441366628603e-19,
          5.614281529978348e-19,
          5.614281529978348e-19,
          5.614281529978348e-19,
          1.942353696119422e-18,
          7.161066216949131e-17,
          2.292913629199382e-16,
          7.201127165089448e-16,
          7.201127165089448e-16,
          2.218298073411369e-15,
          2.218298073411369e-15,
          6.702703470176014e-15,
          6.702703470176014e-15,
          1.9865295832030927e-14,
          1.9865295832030927e-14,
          5.77509918335095e-14,
          1.6468267634634928e-13,
          1.6468267634634928e-13,
          4.606439396775357e-13,
          3.4017950848072923e-12,
          8.981413172509446e-12,
          2.326122526507982e-11,
          2.326122526507982e-11,
          2.326122526507982e-11,
          2.326122526507982e-11,
          5.909874634177087e-11,
          1.4729515543156173e-10,
          3.601391207087605e-10,
          3.601391207087605e-10,
          3.601391207087605e-10,
          3.601391207087605e-10,
          8.638360438689288e-10,
          8.638360438689288e-10,
          2.032729145604749e-9,
          2.032729145604749e-9,
          4.6927059893974834e-9,
          4.6927059893974834e-9,
          4.6927059893974834e-9,
          4.6927059893974834e-9,
          4.6927059893974834e-9,
          1.0628495611062796e-8,
          1.0628495611062796e-8,
          1.0628495611062796e-8,
          2.3617526483249913e-8,
          2.3617526483249913e-8,
          5.148981462076066e-8,
          1.101395614700664e-7,
          1.101395614700664e-7,
          1.101395614700664e-7,
          1.101395614700664e-7,
          2.311596106811323e-7,
          2.311596106811323e-7,
          2.311596106811323e-7,
          2.311596106811323e-7,
          2.311596106811323e-7,
          4.760355933643161e-7,
          4.760355933643161e-7,
          4.760355933643161e-7,
          9.619197747712561e-7,
          9.619197747712561e-7,
          0.0000019073229324956656,
          0.0000019073229324956656,
          0.000003711167339571021,
          0.000003711167339571021,
          0.000003711167339571021,
          0.000007086206794942371,
          0.000007086206794942371,
          0.000013278569770221493,
          0.000013278569770221493,
          0.000024419763944320043,
          0.000024419763944320043,
          0.000024419763944320043,
          0.000024419763944320043,
          0.000024419763944320043,
          0.00004407620480824508,
          0.00004407620480824508,
          0.00007808379375629453,
          0.00007808379375629453,
          0.00007808379375629453,
          0.00007808379375629453,
          0.00007808379375629453,
          0.00013577965140187297,
          0.00013577965140187297,
          0.000231766397774838,
          0.0003883606322915482,
          0.0006388781724492642,
          0.0006388781724492642,
          0.0006388781724492642,
          0.0006388781724492642,
          0.0006388781724492642,
          0.0006388781724492642,
          0.0010318834613523553,
          0.0010318834613523553,
          0.0010318834613523553,
          0.0016364673214046888,
          0.0016364673214046888,
          0.0016364673214046888,
          0.0025485046474329224,
          0.0025485046474329224,
          0.0025485046474329224,
          0.0025485046474329224,
          0.0025485046474329224,
          0.0025485046474329224,
          0.0025485046474329224,
          0.003897674401836363,
          0.008638793630619215,
          0.008638793630619215,
          0.01252222982983067,
          0.01252222982983067,
          0.01252222982983067,
          0.01252222982983067,
          0.01252222982983067,
          0.017834277220306595,
          0.017834277220306595,
          0.024959618579199528,
          0.024959618579199528,
          0.024959618579199528,
          0.0343319445637787,
          0.0343319445637787,
          0.04642085275936855,
          0.04642085275936855,
          0.04642085275936855,
          0.04642085275936855,
          0.04642085275936855,
          0.061711461081835714,
          0.061711461081835714,
          0.061711461081835714,
          0.0806767928650588,
          0.0806767928650588,
          0.0806767928650588,
          0.0806767928650588,
          0.10374395288138394,
          0.10374395288138394,
          0.10374395288138394,
          0.10374395288138394,
          0.13125618455011495,
          0.16343392350268843,
          0.16343392350268843,
          0.16343392350268843,
          0.16343392350268843,
          0.16343392350268843,
          0.20033875657709171,
          0.20033875657709171,
          0.20033875657709171,
          0.20033875657709171,
          0.20033875657709171,
          0.24184457551799282,
          0.24184457551799282,
          0.24184457551799282,
          0.2876200392973743,
          0.2876200392973743,
          0.2876200392973743,
          0.33712566404429456,
          0.33712566404429456,
          0.33712566404429456,
          0.33712566404429456,
          0.33712566404429456,
          0.33712566404429456,
          0.3896274850173916,
          0.3896274850173916,
          0.44422743165409445,
          0.44422743165409445,
          0.44422743165409445,
          0.44422743165409445,
          0.44422743165409445,
          0.49990856945383366,
          0.5555914913117072,
          0.5555914913117072,
          0.5555914913117072,
          0.5555914913117072,
          0.5555914913117072,
          0.6101966863649786,
          0.6101966863649786,
          0.6101966863649786,
          0.6101966863649786,
          0.6101966863649786,
          0.6101966863649786,
          0.6627069188318777,
          0.6627069188318777,
          0.6627069188318777,
          0.6627069188318777,
          0.7122236479836275,
          0.7122236479836275,
          0.7122236479836275,
          0.7122236479836275,
          0.7122236479836275,
          0.7580123135254963,
          0.7580123135254963,
          0.7995327634083067,
          0.7995327634083067,
          0.7995327634083067,
          0.8364529713431204,
          0.8364529713431204,
          0.8364529713431204,
          0.8364529713431204,
          0.8364529713431204,
          0.8686461786940004,
          0.8686461786940004,
          0.8686461786940004,
          0.8686461786940004,
          0.8686461786940004,
          0.8686461786940004,
          0.8686461786940004,
          0.8686461786940004,
          0.8686461786940004,
          0.8686461786940004,
          0.8686461786940004,
          0.8961733998677994,
          0.8961733998677994,
          0.8961733998677994,
          0.8961733998677994,
          0.8961733998677994,
          0.8961733998677994,
          0.9192546065832234,
          0.9192546065832234,
          0.9382327033510887,
          0.9382327033510887,
          0.9382327033510887,
          0.9382327033510887,
          0.9382327033510887,
          0.9382327033510887,
          0.9382327033510887,
          0.9382327033510887,
          0.9382327033510887,
          0.9535345838342987,
          0.9535345838342987,
          0.9535345838342987,
          0.9535345838342987,
          0.9656331791723627,
          0.9656331791723627,
          0.9656331791723627,
          0.9750136165189353,
          0.9750136165189353,
          0.9750136165189353,
          0.9750136165189353,
          0.9750136165189353,
          0.9750136165189353,
          0.9750136165189353,
          0.9750136165189353,
          0.9750136165189353,
          0.9821455815731992,
          0.9821455815731992,
          0.9821455815731992,
          0.9821455815731992,
          0.9821455815731992,
          0.9874629077534313,
          0.9874629077534313,
          0.9874629077534313,
          0.9874629077534313,
          0.9874629077534313,
          0.9874629077534313,
          0.9874629077534313,
          0.9874629077534313,
          0.9874629077534313,
          0.9874629077534313,
          0.9874629077534313,
          0.9874629077534313,
          0.9913504521841322,
          0.9913504521841322,
          0.9941375703940997,
          0.9941375703940997,
          0.9941375703940997,
          0.9941375703940997,
          0.9941375703940997,
          0.9941375703940997,
          0.9941375703940997,
          0.9941375703940997,
          0.9960970166797851,
          0.9960970166797851,
          0.9960970166797851,
          0.9960970166797851,
          0.9960970166797851,
          0.9974478733687555,
          0.9974478733687555,
          0.9974478733687555,
          0.9974478733687555,
          0.9974478733687555,
          0.9983611095799912,
          0.9983611095799912,
          0.9983611095799912,
          0.9983611095799912,
          0.9983611095799912,
          0.9983611095799912,
          0.9983611095799912,
          0.9983611095799912,
          0.9983611095799912,
          0.9983611095799912,
          0.9989665269681419,
          0.9989665269681419,
          0.9989665269681419,
          0.9989665269681419,
          0.9989665269681419,
          0.9989665269681419,
          0.9989665269681419,
          0.9989665269681419,
          0.9989665269681419,
          0.9993600993056224,
          0.9993600993056224,
          0.9993600993056224,
          0.9993600993056224,
          0.9993600993056224,
          0.9993600993056224,
          0.9996109943827439,
          0.9996109943827439,
          0.9996109943827439,
          0.9996109943827439,
          0.9996109943827439,
          0.9996109943827439,
          0.9997678346593831,
          0.9997678346593831,
          0.9997678346593831,
          0.9997678346593831,
          0.9997678346593831,
          0.9997678346593831,
          0.9998639783817377,
          0.9998639783817377,
          0.9998639783817377,
          0.9998639783817377,
          0.9998639783817377,
          0.9998639783817377,
          0.9998639783817377,
          0.9998639783817377,
          0.9999217722981475,
          0.9999217722981475,
          0.9999217722981475,
          0.9999217722981475,
          0.9999217722981475,
          0.9999217722981475,
          0.9999217722981475,
          0.9999217722981475,
          0.9999217722981475,
          0.9999558398687729,
          0.9999558398687729,
          0.9999558398687729,
          0.9999558398687729,
          0.9999558398687729,
          0.9999558398687729,
          0.9999558398687729,
          0.9999558398687729,
          0.9999558398687729,
          0.9999558398687729,
          0.999975532241024,
          0.999975532241024,
          0.999975532241024,
          0.999975532241024,
          0.9999866945162452,
          0.9999866945162452,
          0.9999866945162452,
          0.9999866945162452,
          0.9999866945162452,
          0.9999928989938142,
          0.9999928989938142,
          0.9999928989938142,
          0.9999928989938142,
          0.9999928989938142,
          0.9999928989938142,
          0.9999962808528273,
          0.9999962808528273,
          0.9999962808528273,
          0.9999962808528273,
          0.9999962808528273,
          0.9999962808528273,
          0.9999962808528273,
          0.9999962808528273,
          0.9999962808528273,
          0.9999962808528273,
          0.999998088457889,
          0.999998088457889,
          0.999998088457889,
          0.999998088457889,
          0.999998088457889,
          0.999998088457889,
          0.999998088457889,
          0.999998088457889,
          0.999998088457889,
          0.999998088457889,
          0.999998088457889,
          0.999999035892735,
          0.999999035892735,
          0.999999035892735,
          0.999999035892735,
          0.999999035892735,
          0.999999035892735,
          0.999999035892735,
          0.999999035892735,
          0.9999995228522948,
          0.9999995228522948,
          0.9999995228522948,
          0.9999995228522948,
          0.9999995228522948,
          0.9999995228522948,
          0.9999995228522948,
          0.9999995228522948,
          0.9999997682859744,
          0.9999997682859744,
          0.9999997682859744,
          0.9999997682859744,
          0.9999997682859744,
          0.9999997682859744,
          0.9999997682859744,
          0.9999997682859744,
          0.9999997682859744,
          0.9999997682859744,
          0.9999997682859744,
          0.9999997682859744,
          0.9999998895894159,
          0.9999998895894159,
          0.9999998895894159,
          0.9999998895894159,
          0.9999998895894159,
          0.9999998895894159,
          0.9999998895894159,
          0.9999999483802701,
          0.9999999483802701,
          0.9999999483802701,
          0.9999999483802701,
          0.9999999483802701,
          0.9999999763214076,
          0.9999999763214076,
          0.9999999763214076,
          0.9999999763214076,
          0.9999999763214076,
          0.9999999763214076,
          0.9999999763214076,
          0.9999999763214076,
          0.9999999763214076,
          0.999999989343358,
          0.999999989343358,
          0.999999989343358,
          0.999999989343358,
          0.999999989343358,
          0.999999989343358,
          0.999999989343358,
          0.999999989343358,
          0.999999989343358,
          0.9999999952945727,
          0.9999999952945727,
          0.9999999952945727,
          0.9999999952945727,
          0.9999999952945727,
          0.9999999952945727,
          0.9999999952945727,
          0.9999999952945727,
          0.9999999952945727,
          0.9999999952945727,
          0.999999997961633,
          0.999999997961633,
          0.999999997961633,
          0.999999997961633,
          0.999999997961633,
          0.999999997961633,
          0.999999997961633,
          0.999999997961633,
          0.999999997961633,
          0.999999997961633,
          0.9999999991337137,
          0.9999999991337137,
          0.9999999991337137,
          0.9999999991337137,
          0.9999999991337137,
          0.9999999991337137,
          0.9999999991337137,
          0.9999999991337137,
          0.9999999991337137,
          0.9999999991337137,
          0.9999999991337137,
          0.9999999991337137,
          0.9999999991337137,
          0.9999999991337137,
          0.9999999991337137,
          0.9999999991337137,
          0.9999999991337137,
          0.9999999996388167,
          0.9999999996388167,
          0.9999999996388167,
          0.9999999996388167,
          0.9999999996388167,
          0.9999999996388167,
          0.9999999996388167,
          0.9999999996388167,
          0.9999999996388167,
          0.9999999996388167,
          0.9999999996388167,
          0.9999999996388167,
          0.9999999996388167,
          0.9999999998522685,
          0.9999999998522685,
          0.9999999998522685,
          0.9999999998522685,
          0.9999999999407224,
          0.9999999999407224,
          0.9999999999407224,
          0.9999999999407224,
          0.9999999999407224,
          0.9999999999407224,
          0.9999999999407224,
          0.9999999999407224,
          0.9999999999407224,
          0.9999999999407224,
          0.9999999999766669,
          0.9999999999766669,
          0.9999999999766669,
          0.9999999999766669,
          0.9999999999766669,
          0.9999999999766669,
          0.9999999999766669,
          0.9999999999766669,
          0.9999999999766669,
          0.9999999999766669,
          0.9999999999766669,
          0.9999999999909903,
          0.9999999999909903,
          0.9999999999909903,
          0.9999999999909903,
          0.9999999999909903,
          0.9999999999909903,
          0.9999999999909903,
          0.9999999999909903,
          0.9999999999909903,
          0.9999999999909903,
          0.9999999999909903,
          0.9999999999909903,
          0.9999999999965873,
          0.9999999999965873,
          0.9999999999965873,
          0.9999999999965873,
          0.9999999999965873,
          0.9999999999965873,
          0.9999999999987319,
          0.9999999999987319,
          0.9999999999987319,
          0.9999999999987319,
          0.9999999999987319,
          0.9999999999987319,
          0.9999999999995378,
          0.9999999999995378,
          0.9999999999995378,
          0.9999999999995378,
          0.9999999999995378,
          0.9999999999995378,
          0.9999999999995378,
          0.9999999999995378,
          0.9999999999995378,
          0.9999999999995378,
          0.9999999999995378,
          0.9999999999995378,
          0.9999999999995378,
          0.9999999999995378,
          0.9999999999995378,
          0.9999999999995378,
          0.9999999999995378,
          0.9999999999995378
         ],
         "yaxis": "y"
        }
       ],
       "layout": {
        "legend": {
         "title": {
          "text": "variable"
         },
         "tracegroupgap": 0
        },
        "margin": {
         "t": 60
        },
        "template": {
         "data": {
          "bar": [
           {
            "error_x": {
             "color": "#f2f5fa"
            },
            "error_y": {
             "color": "#f2f5fa"
            },
            "marker": {
             "line": {
              "color": "rgb(17,17,17)",
              "width": 0.5
             },
             "pattern": {
              "fillmode": "overlay",
              "size": 10,
              "solidity": 0.2
             }
            },
            "type": "bar"
           }
          ],
          "barpolar": [
           {
            "marker": {
             "line": {
              "color": "rgb(17,17,17)",
              "width": 0.5
             },
             "pattern": {
              "fillmode": "overlay",
              "size": 10,
              "solidity": 0.2
             }
            },
            "type": "barpolar"
           }
          ],
          "carpet": [
           {
            "aaxis": {
             "endlinecolor": "#A2B1C6",
             "gridcolor": "#506784",
             "linecolor": "#506784",
             "minorgridcolor": "#506784",
             "startlinecolor": "#A2B1C6"
            },
            "baxis": {
             "endlinecolor": "#A2B1C6",
             "gridcolor": "#506784",
             "linecolor": "#506784",
             "minorgridcolor": "#506784",
             "startlinecolor": "#A2B1C6"
            },
            "type": "carpet"
           }
          ],
          "choropleth": [
           {
            "colorbar": {
             "outlinewidth": 0,
             "ticks": ""
            },
            "type": "choropleth"
           }
          ],
          "contour": [
           {
            "colorbar": {
             "outlinewidth": 0,
             "ticks": ""
            },
            "colorscale": [
             [
              0,
              "#0d0887"
             ],
             [
              0.1111111111111111,
              "#46039f"
             ],
             [
              0.2222222222222222,
              "#7201a8"
             ],
             [
              0.3333333333333333,
              "#9c179e"
             ],
             [
              0.4444444444444444,
              "#bd3786"
             ],
             [
              0.5555555555555556,
              "#d8576b"
             ],
             [
              0.6666666666666666,
              "#ed7953"
             ],
             [
              0.7777777777777778,
              "#fb9f3a"
             ],
             [
              0.8888888888888888,
              "#fdca26"
             ],
             [
              1,
              "#f0f921"
             ]
            ],
            "type": "contour"
           }
          ],
          "contourcarpet": [
           {
            "colorbar": {
             "outlinewidth": 0,
             "ticks": ""
            },
            "type": "contourcarpet"
           }
          ],
          "heatmap": [
           {
            "colorbar": {
             "outlinewidth": 0,
             "ticks": ""
            },
            "colorscale": [
             [
              0,
              "#0d0887"
             ],
             [
              0.1111111111111111,
              "#46039f"
             ],
             [
              0.2222222222222222,
              "#7201a8"
             ],
             [
              0.3333333333333333,
              "#9c179e"
             ],
             [
              0.4444444444444444,
              "#bd3786"
             ],
             [
              0.5555555555555556,
              "#d8576b"
             ],
             [
              0.6666666666666666,
              "#ed7953"
             ],
             [
              0.7777777777777778,
              "#fb9f3a"
             ],
             [
              0.8888888888888888,
              "#fdca26"
             ],
             [
              1,
              "#f0f921"
             ]
            ],
            "type": "heatmap"
           }
          ],
          "heatmapgl": [
           {
            "colorbar": {
             "outlinewidth": 0,
             "ticks": ""
            },
            "colorscale": [
             [
              0,
              "#0d0887"
             ],
             [
              0.1111111111111111,
              "#46039f"
             ],
             [
              0.2222222222222222,
              "#7201a8"
             ],
             [
              0.3333333333333333,
              "#9c179e"
             ],
             [
              0.4444444444444444,
              "#bd3786"
             ],
             [
              0.5555555555555556,
              "#d8576b"
             ],
             [
              0.6666666666666666,
              "#ed7953"
             ],
             [
              0.7777777777777778,
              "#fb9f3a"
             ],
             [
              0.8888888888888888,
              "#fdca26"
             ],
             [
              1,
              "#f0f921"
             ]
            ],
            "type": "heatmapgl"
           }
          ],
          "histogram": [
           {
            "marker": {
             "pattern": {
              "fillmode": "overlay",
              "size": 10,
              "solidity": 0.2
             }
            },
            "type": "histogram"
           }
          ],
          "histogram2d": [
           {
            "colorbar": {
             "outlinewidth": 0,
             "ticks": ""
            },
            "colorscale": [
             [
              0,
              "#0d0887"
             ],
             [
              0.1111111111111111,
              "#46039f"
             ],
             [
              0.2222222222222222,
              "#7201a8"
             ],
             [
              0.3333333333333333,
              "#9c179e"
             ],
             [
              0.4444444444444444,
              "#bd3786"
             ],
             [
              0.5555555555555556,
              "#d8576b"
             ],
             [
              0.6666666666666666,
              "#ed7953"
             ],
             [
              0.7777777777777778,
              "#fb9f3a"
             ],
             [
              0.8888888888888888,
              "#fdca26"
             ],
             [
              1,
              "#f0f921"
             ]
            ],
            "type": "histogram2d"
           }
          ],
          "histogram2dcontour": [
           {
            "colorbar": {
             "outlinewidth": 0,
             "ticks": ""
            },
            "colorscale": [
             [
              0,
              "#0d0887"
             ],
             [
              0.1111111111111111,
              "#46039f"
             ],
             [
              0.2222222222222222,
              "#7201a8"
             ],
             [
              0.3333333333333333,
              "#9c179e"
             ],
             [
              0.4444444444444444,
              "#bd3786"
             ],
             [
              0.5555555555555556,
              "#d8576b"
             ],
             [
              0.6666666666666666,
              "#ed7953"
             ],
             [
              0.7777777777777778,
              "#fb9f3a"
             ],
             [
              0.8888888888888888,
              "#fdca26"
             ],
             [
              1,
              "#f0f921"
             ]
            ],
            "type": "histogram2dcontour"
           }
          ],
          "mesh3d": [
           {
            "colorbar": {
             "outlinewidth": 0,
             "ticks": ""
            },
            "type": "mesh3d"
           }
          ],
          "parcoords": [
           {
            "line": {
             "colorbar": {
              "outlinewidth": 0,
              "ticks": ""
             }
            },
            "type": "parcoords"
           }
          ],
          "pie": [
           {
            "automargin": true,
            "type": "pie"
           }
          ],
          "scatter": [
           {
            "marker": {
             "line": {
              "color": "#283442"
             }
            },
            "type": "scatter"
           }
          ],
          "scatter3d": [
           {
            "line": {
             "colorbar": {
              "outlinewidth": 0,
              "ticks": ""
             }
            },
            "marker": {
             "colorbar": {
              "outlinewidth": 0,
              "ticks": ""
             }
            },
            "type": "scatter3d"
           }
          ],
          "scattercarpet": [
           {
            "marker": {
             "colorbar": {
              "outlinewidth": 0,
              "ticks": ""
             }
            },
            "type": "scattercarpet"
           }
          ],
          "scattergeo": [
           {
            "marker": {
             "colorbar": {
              "outlinewidth": 0,
              "ticks": ""
             }
            },
            "type": "scattergeo"
           }
          ],
          "scattergl": [
           {
            "marker": {
             "line": {
              "color": "#283442"
             }
            },
            "type": "scattergl"
           }
          ],
          "scattermapbox": [
           {
            "marker": {
             "colorbar": {
              "outlinewidth": 0,
              "ticks": ""
             }
            },
            "type": "scattermapbox"
           }
          ],
          "scatterpolar": [
           {
            "marker": {
             "colorbar": {
              "outlinewidth": 0,
              "ticks": ""
             }
            },
            "type": "scatterpolar"
           }
          ],
          "scatterpolargl": [
           {
            "marker": {
             "colorbar": {
              "outlinewidth": 0,
              "ticks": ""
             }
            },
            "type": "scatterpolargl"
           }
          ],
          "scatterternary": [
           {
            "marker": {
             "colorbar": {
              "outlinewidth": 0,
              "ticks": ""
             }
            },
            "type": "scatterternary"
           }
          ],
          "surface": [
           {
            "colorbar": {
             "outlinewidth": 0,
             "ticks": ""
            },
            "colorscale": [
             [
              0,
              "#0d0887"
             ],
             [
              0.1111111111111111,
              "#46039f"
             ],
             [
              0.2222222222222222,
              "#7201a8"
             ],
             [
              0.3333333333333333,
              "#9c179e"
             ],
             [
              0.4444444444444444,
              "#bd3786"
             ],
             [
              0.5555555555555556,
              "#d8576b"
             ],
             [
              0.6666666666666666,
              "#ed7953"
             ],
             [
              0.7777777777777778,
              "#fb9f3a"
             ],
             [
              0.8888888888888888,
              "#fdca26"
             ],
             [
              1,
              "#f0f921"
             ]
            ],
            "type": "surface"
           }
          ],
          "table": [
           {
            "cells": {
             "fill": {
              "color": "#506784"
             },
             "line": {
              "color": "rgb(17,17,17)"
             }
            },
            "header": {
             "fill": {
              "color": "#2a3f5f"
             },
             "line": {
              "color": "rgb(17,17,17)"
             }
            },
            "type": "table"
           }
          ]
         },
         "layout": {
          "annotationdefaults": {
           "arrowcolor": "#f2f5fa",
           "arrowhead": 0,
           "arrowwidth": 1
          },
          "autotypenumbers": "strict",
          "coloraxis": {
           "colorbar": {
            "outlinewidth": 0,
            "ticks": ""
           }
          },
          "colorscale": {
           "diverging": [
            [
             0,
             "#8e0152"
            ],
            [
             0.1,
             "#c51b7d"
            ],
            [
             0.2,
             "#de77ae"
            ],
            [
             0.3,
             "#f1b6da"
            ],
            [
             0.4,
             "#fde0ef"
            ],
            [
             0.5,
             "#f7f7f7"
            ],
            [
             0.6,
             "#e6f5d0"
            ],
            [
             0.7,
             "#b8e186"
            ],
            [
             0.8,
             "#7fbc41"
            ],
            [
             0.9,
             "#4d9221"
            ],
            [
             1,
             "#276419"
            ]
           ],
           "sequential": [
            [
             0,
             "#0d0887"
            ],
            [
             0.1111111111111111,
             "#46039f"
            ],
            [
             0.2222222222222222,
             "#7201a8"
            ],
            [
             0.3333333333333333,
             "#9c179e"
            ],
            [
             0.4444444444444444,
             "#bd3786"
            ],
            [
             0.5555555555555556,
             "#d8576b"
            ],
            [
             0.6666666666666666,
             "#ed7953"
            ],
            [
             0.7777777777777778,
             "#fb9f3a"
            ],
            [
             0.8888888888888888,
             "#fdca26"
            ],
            [
             1,
             "#f0f921"
            ]
           ],
           "sequentialminus": [
            [
             0,
             "#0d0887"
            ],
            [
             0.1111111111111111,
             "#46039f"
            ],
            [
             0.2222222222222222,
             "#7201a8"
            ],
            [
             0.3333333333333333,
             "#9c179e"
            ],
            [
             0.4444444444444444,
             "#bd3786"
            ],
            [
             0.5555555555555556,
             "#d8576b"
            ],
            [
             0.6666666666666666,
             "#ed7953"
            ],
            [
             0.7777777777777778,
             "#fb9f3a"
            ],
            [
             0.8888888888888888,
             "#fdca26"
            ],
            [
             1,
             "#f0f921"
            ]
           ]
          },
          "colorway": [
           "#636efa",
           "#EF553B",
           "#00cc96",
           "#ab63fa",
           "#FFA15A",
           "#19d3f3",
           "#FF6692",
           "#B6E880",
           "#FF97FF",
           "#FECB52"
          ],
          "font": {
           "color": "#f2f5fa"
          },
          "geo": {
           "bgcolor": "rgb(17,17,17)",
           "lakecolor": "rgb(17,17,17)",
           "landcolor": "rgb(17,17,17)",
           "showlakes": true,
           "showland": true,
           "subunitcolor": "#506784"
          },
          "hoverlabel": {
           "align": "left"
          },
          "hovermode": "closest",
          "mapbox": {
           "style": "dark"
          },
          "paper_bgcolor": "rgb(17,17,17)",
          "plot_bgcolor": "rgb(17,17,17)",
          "polar": {
           "angularaxis": {
            "gridcolor": "#506784",
            "linecolor": "#506784",
            "ticks": ""
           },
           "bgcolor": "rgb(17,17,17)",
           "radialaxis": {
            "gridcolor": "#506784",
            "linecolor": "#506784",
            "ticks": ""
           }
          },
          "scene": {
           "xaxis": {
            "backgroundcolor": "rgb(17,17,17)",
            "gridcolor": "#506784",
            "gridwidth": 2,
            "linecolor": "#506784",
            "showbackground": true,
            "ticks": "",
            "zerolinecolor": "#C8D4E3"
           },
           "yaxis": {
            "backgroundcolor": "rgb(17,17,17)",
            "gridcolor": "#506784",
            "gridwidth": 2,
            "linecolor": "#506784",
            "showbackground": true,
            "ticks": "",
            "zerolinecolor": "#C8D4E3"
           },
           "zaxis": {
            "backgroundcolor": "rgb(17,17,17)",
            "gridcolor": "#506784",
            "gridwidth": 2,
            "linecolor": "#506784",
            "showbackground": true,
            "ticks": "",
            "zerolinecolor": "#C8D4E3"
           }
          },
          "shapedefaults": {
           "line": {
            "color": "#f2f5fa"
           }
          },
          "sliderdefaults": {
           "bgcolor": "#C8D4E3",
           "bordercolor": "rgb(17,17,17)",
           "borderwidth": 1,
           "tickwidth": 0
          },
          "ternary": {
           "aaxis": {
            "gridcolor": "#506784",
            "linecolor": "#506784",
            "ticks": ""
           },
           "baxis": {
            "gridcolor": "#506784",
            "linecolor": "#506784",
            "ticks": ""
           },
           "bgcolor": "rgb(17,17,17)",
           "caxis": {
            "gridcolor": "#506784",
            "linecolor": "#506784",
            "ticks": ""
           }
          },
          "title": {
           "x": 0.05
          },
          "updatemenudefaults": {
           "bgcolor": "#506784",
           "borderwidth": 0
          },
          "xaxis": {
           "automargin": true,
           "gridcolor": "#283442",
           "linecolor": "#506784",
           "ticks": "",
           "title": {
            "standoff": 15
           },
           "zerolinecolor": "#283442",
           "zerolinewidth": 2
          },
          "yaxis": {
           "automargin": true,
           "gridcolor": "#283442",
           "linecolor": "#506784",
           "ticks": "",
           "title": {
            "standoff": 15
           },
           "zerolinecolor": "#283442",
           "zerolinewidth": 2
          }
         }
        },
        "xaxis": {
         "anchor": "y",
         "domain": [
          0,
          1
         ],
         "title": {
          "text": "index"
         }
        },
        "yaxis": {
         "anchor": "x",
         "domain": [
          0,
          1
         ],
         "title": {
          "text": "value"
         }
        }
       }
      }
     },
     "metadata": {},
     "output_type": "display_data"
    }
   ],
   "source": [
    "import plotly.express as px\n",
    "fig = px.scatter(temp)\n",
    "fig.update_layout(template=\"plotly_dark\")"
   ]
  },
  {
   "cell_type": "code",
   "execution_count": 66,
   "metadata": {},
   "outputs": [
    {
     "data": {
      "application/vnd.plotly.v1+json": {
       "config": {
        "plotlyServerURL": "https://plot.ly"
       },
       "data": [
        {
         "hovertemplate": "variable=0<br>index=%{x}<br>value=%{y}<extra></extra>",
         "legendgroup": "0",
         "marker": {
          "color": "#636efa",
          "symbol": "circle"
         },
         "mode": "markers",
         "name": "0",
         "orientation": "v",
         "showlegend": true,
         "type": "scatter",
         "x": [
          0,
          1,
          2,
          3,
          4,
          5,
          6,
          7,
          8,
          9,
          10,
          11,
          12,
          13,
          14,
          15,
          16,
          17,
          18,
          19,
          20,
          21,
          22,
          23,
          24,
          25,
          26,
          27,
          28,
          29,
          30,
          31,
          32,
          33,
          34,
          35,
          36,
          37,
          38,
          39,
          40,
          41,
          42,
          43,
          44,
          45,
          46,
          47,
          48,
          49,
          50,
          51,
          52,
          53,
          54,
          55,
          56,
          57,
          58,
          59,
          60,
          61,
          62,
          63,
          64,
          65,
          66,
          67,
          68,
          69,
          70,
          71,
          72,
          73,
          74,
          75,
          76,
          77,
          78,
          79,
          80,
          81,
          82,
          83,
          84,
          85,
          86,
          87,
          88,
          89,
          90,
          91,
          92,
          93,
          94,
          95,
          96,
          97,
          98,
          99,
          100,
          101,
          102,
          103,
          104,
          105,
          106,
          107,
          108,
          109,
          110,
          111,
          112,
          113,
          114,
          115,
          116,
          117,
          118,
          119,
          120,
          121,
          122,
          123,
          124,
          125,
          126,
          127,
          128,
          129,
          130,
          131,
          132,
          133,
          134,
          135,
          136,
          137,
          138,
          139,
          140,
          141,
          142,
          143,
          144,
          145,
          146,
          147,
          148,
          149,
          150,
          151,
          152,
          153,
          154,
          155,
          156,
          157,
          158,
          159,
          160,
          161,
          162,
          163,
          164,
          165,
          166,
          167,
          168,
          169,
          170,
          171,
          172,
          173,
          174,
          175,
          176,
          177,
          178,
          179,
          180,
          181,
          182,
          183,
          184,
          185,
          186,
          187,
          188,
          189,
          190,
          191,
          192,
          193,
          194,
          195,
          196,
          197,
          198,
          199,
          200,
          201,
          202,
          203,
          204,
          205,
          206,
          207,
          208,
          209,
          210,
          211,
          212,
          213,
          214,
          215,
          216,
          217,
          218,
          219,
          220,
          221,
          222,
          223,
          224,
          225,
          226,
          227,
          228,
          229,
          230,
          231,
          232,
          233,
          234,
          235,
          236,
          237,
          238,
          239,
          240,
          241,
          242,
          243,
          244,
          245,
          246,
          247,
          248,
          249,
          250,
          251,
          252,
          253,
          254,
          255,
          256,
          257,
          258,
          259,
          260,
          261,
          262,
          263,
          264,
          265,
          266,
          267,
          268,
          269,
          270,
          271,
          272,
          273,
          274,
          275,
          276,
          277,
          278,
          279,
          280,
          281,
          282,
          283,
          284,
          285,
          286,
          287,
          288,
          289,
          290,
          291,
          292,
          293,
          294,
          295,
          296,
          297,
          298,
          299,
          300,
          301,
          302,
          303,
          304,
          305,
          306,
          307,
          308,
          309,
          310,
          311,
          312,
          313,
          314,
          315,
          316,
          317,
          318,
          319,
          320,
          321,
          322,
          323,
          324,
          325,
          326,
          327,
          328,
          329,
          330,
          331,
          332,
          333,
          334,
          335,
          336,
          337,
          338,
          339,
          340,
          341,
          342,
          343,
          344,
          345,
          346,
          347,
          348,
          349,
          350,
          351,
          352,
          353,
          354,
          355,
          356,
          357,
          358,
          359,
          360,
          361,
          362,
          363,
          364,
          365,
          366,
          367,
          368,
          369,
          370,
          371,
          372,
          373,
          374,
          375,
          376,
          377,
          378,
          379,
          380,
          381,
          382,
          383,
          384,
          385,
          386,
          387,
          388,
          389,
          390,
          391,
          392,
          393,
          394,
          395,
          396,
          397,
          398,
          399,
          400,
          401,
          402,
          403,
          404,
          405,
          406,
          407,
          408,
          409,
          410,
          411,
          412,
          413,
          414,
          415,
          416,
          417,
          418,
          419,
          420,
          421,
          422,
          423,
          424,
          425,
          426,
          427,
          428,
          429,
          430,
          431,
          432,
          433,
          434,
          435,
          436,
          437,
          438,
          439,
          440,
          441,
          442,
          443,
          444,
          445,
          446,
          447,
          448,
          449,
          450,
          451,
          452,
          453,
          454,
          455,
          456,
          457,
          458,
          459,
          460,
          461,
          462,
          463,
          464,
          465,
          466,
          467,
          468,
          469,
          470,
          471,
          472,
          473,
          474,
          475,
          476,
          477,
          478,
          479,
          480,
          481,
          482,
          483,
          484,
          485,
          486,
          487,
          488,
          489,
          490,
          491,
          492,
          493,
          494,
          495,
          496,
          497,
          498,
          499,
          500,
          501,
          502,
          503,
          504,
          505,
          506,
          507,
          508,
          509,
          510,
          511,
          512,
          513,
          514,
          515,
          516,
          517,
          518,
          519,
          520,
          521,
          522,
          523,
          524,
          525,
          526,
          527,
          528,
          529,
          530,
          531,
          532,
          533,
          534,
          535,
          536,
          537,
          538,
          539,
          540,
          541,
          542,
          543,
          544,
          545,
          546,
          547,
          548,
          549,
          550,
          551,
          552,
          553,
          554,
          555,
          556,
          557,
          558,
          559,
          560,
          561,
          562,
          563,
          564,
          565,
          566,
          567,
          568,
          569,
          570,
          571,
          572,
          573,
          574,
          575,
          576,
          577,
          578,
          579,
          580
         ],
         "xaxis": "x",
         "y": [
          0,
          0,
          0,
          0,
          0,
          0,
          0,
          0,
          0,
          0,
          0,
          0,
          0,
          0,
          0,
          0,
          0,
          0,
          0,
          0,
          8.171323265548e-311,
          1.5864768558872826e-308,
          2.1922961855577496e-277,
          5.803422853933048e-250,
          7.160517828652684e-246,
          1.0582396113040788e-208,
          8.800380532995122e-196,
          3.625332521189374e-192,
          1.5839503453046122e-181,
          3.8566513432310696e-166,
          6.8640520045601554e-158,
          6.444109563900257e-133,
          1.7750129754747026e-128,
          5.154796160795053e-127,
          3.0146807883415567e-121,
          5.191085336077545e-117,
          7.495072759507809e-113,
          7.841316516660628e-101,
          5.252387112366985e-80,
          7.727919974466322e-68,
          1.0672182667595524e-64,
          1.2484209890121234e-60,
          1.0683455718093487e-56,
          1.0683455718093487e-56,
          3.063977442593869e-49,
          1.0270477536918428e-45,
          2.5194384028928723e-42,
          1.7051340998766462e-37,
          5.720935755703414e-33,
          3.03487627122176e-32,
          4.03113395021309e-30,
          9.445122063750862e-27,
          1.5916441366628603e-19,
          2.292913629199382e-16,
          7.201127165089448e-16,
          1.9865295832030927e-14,
          1.2639123498293839e-12,
          2.326122526507982e-11,
          5.909874634177087e-11,
          3.601391207087605e-10,
          3.601391207087605e-10,
          4.6927059893974834e-9,
          2.3617526483249913e-8,
          4.760355933643161e-7,
          0.0000019073229324956656,
          0.0000019073229324956656,
          0.0000019073229324956656,
          0.0000019073229324956656,
          0.000003711167339571021,
          0.000003711167339571021,
          0.000007086206794942371,
          0.000013278569770221493,
          0.00004407620480824508,
          0.00007808379375629453,
          0.00013577965140187297,
          0.000231766397774838,
          0.000231766397774838,
          0.0006388781724492642,
          0.0006388781724492642,
          0.0010318834613523553,
          0.0010318834613523553,
          0.0025485046474329224,
          0.003897674401836363,
          0.003897674401836363,
          0.005854799163509441,
          0.005854799163509441,
          0.005854799163509441,
          0.008638793630619215,
          0.01252222982983067,
          0.017834277220306595,
          0.017834277220306595,
          0.017834277220306595,
          0.024959618579199528,
          0.0343319445637787,
          0.0343319445637787,
          0.04642085275936855,
          0.061711461081835714,
          0.0806767928650588,
          0.0806767928650588,
          0.10374395288138394,
          0.10374395288138394,
          0.10374395288138394,
          0.10374395288138394,
          0.16343392350268843,
          0.20033875657709171,
          0.20033875657709171,
          0.24184457551799282,
          0.24184457551799282,
          0.2876200392973743,
          0.2876200392973743,
          0.2876200392973743,
          0.33712566404429456,
          0.33712566404429456,
          0.3896274850173916,
          0.44422743165409445,
          0.44422743165409445,
          0.49990856945383366,
          0.49990856945383366,
          0.49990856945383366,
          0.49990856945383366,
          0.5555914913117072,
          0.5555914913117072,
          0.5555914913117072,
          0.6101966863649786,
          0.6101966863649786,
          0.6101966863649786,
          0.6101966863649786,
          0.6101966863649786,
          0.6627069188318777,
          0.7122236479836275,
          0.7122236479836275,
          0.7122236479836275,
          0.7122236479836275,
          0.7122236479836275,
          0.7122236479836275,
          0.7580123135254963,
          0.7995327634083067,
          0.7995327634083067,
          0.7995327634083067,
          0.7995327634083067,
          0.7995327634083067,
          0.7995327634083067,
          0.8364529713431204,
          0.8364529713431204,
          0.8364529713431204,
          0.8364529713431204,
          0.8686461786940004,
          0.8686461786940004,
          0.8686461786940004,
          0.8686461786940004,
          0.8961733998677994,
          0.8961733998677994,
          0.8961733998677994,
          0.8961733998677994,
          0.8961733998677994,
          0.9192546065832234,
          0.9192546065832234,
          0.9192546065832234,
          0.9382327033510887,
          0.9382327033510887,
          0.9382327033510887,
          0.9382327033510887,
          0.9382327033510887,
          0.9382327033510887,
          0.9382327033510887,
          0.9382327033510887,
          0.9382327033510887,
          0.9382327033510887,
          0.9535345838342987,
          0.9535345838342987,
          0.9535345838342987,
          0.9535345838342987,
          0.9535345838342987,
          0.9750136165189353,
          0.9750136165189353,
          0.9750136165189353,
          0.9750136165189353,
          0.9750136165189353,
          0.9821455815731992,
          0.9821455815731992,
          0.9821455815731992,
          0.9821455815731992,
          0.9821455815731992,
          0.9874629077534313,
          0.9874629077534313,
          0.9874629077534313,
          0.9874629077534313,
          0.9874629077534313,
          0.9874629077534313,
          0.9874629077534313,
          0.9874629077534313,
          0.9874629077534313,
          0.9874629077534313,
          0.9913504521841322,
          0.9913504521841322,
          0.9913504521841322,
          0.9913504521841322,
          0.9913504521841322,
          0.9941375703940997,
          0.9941375703940997,
          0.9960970166797851,
          0.9960970166797851,
          0.9960970166797851,
          0.9960970166797851,
          0.9960970166797851,
          0.9960970166797851,
          0.9974478733687555,
          0.9974478733687555,
          0.9974478733687555,
          0.9974478733687555,
          0.9974478733687555,
          0.9983611095799912,
          0.9983611095799912,
          0.9983611095799912,
          0.9983611095799912,
          0.9983611095799912,
          0.9983611095799912,
          0.9983611095799912,
          0.9989665269681419,
          0.9989665269681419,
          0.9989665269681419,
          0.9989665269681419,
          0.9989665269681419,
          0.9989665269681419,
          0.9993600993056224,
          0.9993600993056224,
          0.9993600993056224,
          0.9993600993056224,
          0.9993600993056224,
          0.9993600993056224,
          0.9993600993056224,
          0.9993600993056224,
          0.9996109943827439,
          0.9996109943827439,
          0.9996109943827439,
          0.9996109943827439,
          0.9996109943827439,
          0.9996109943827439,
          0.9996109943827439,
          0.9996109943827439,
          0.9996109943827439,
          0.9996109943827439,
          0.9996109943827439,
          0.9996109943827439,
          0.9996109943827439,
          0.9996109943827439,
          0.9997678346593831,
          0.9997678346593831,
          0.9997678346593831,
          0.9997678346593831,
          0.9997678346593831,
          0.9997678346593831,
          0.9997678346593831,
          0.9997678346593831,
          0.9997678346593831,
          0.9997678346593831,
          0.9998639783817377,
          0.9998639783817377,
          0.9998639783817377,
          0.9999217722981475,
          0.9999217722981475,
          0.9999217722981475,
          0.9999217722981475,
          0.9999217722981475,
          0.9999217722981475,
          0.9999217722981475,
          0.9999558398687729,
          0.9999558398687729,
          0.9999558398687729,
          0.9999558398687729,
          0.9999558398687729,
          0.9999558398687729,
          0.9999558398687729,
          0.9999558398687729,
          0.9999558398687729,
          0.9999558398687729,
          0.9999558398687729,
          0.999975532241024,
          0.999975532241024,
          0.999975532241024,
          0.999975532241024,
          0.999975532241024,
          0.999975532241024,
          0.999975532241024,
          0.999975532241024,
          0.999975532241024,
          0.999975532241024,
          0.9999866945162452,
          0.9999866945162452,
          0.9999866945162452,
          0.9999866945162452,
          0.9999866945162452,
          0.9999928989938142,
          0.9999928989938142,
          0.9999928989938142,
          0.9999928989938142,
          0.9999928989938142,
          0.9999928989938142,
          0.9999928989938142,
          0.9999928989938142,
          0.9999962808528273,
          0.9999962808528273,
          0.9999962808528273,
          0.9999962808528273,
          0.999998088457889,
          0.999998088457889,
          0.999998088457889,
          0.999998088457889,
          0.999998088457889,
          0.999998088457889,
          0.999998088457889,
          0.999998088457889,
          0.999998088457889,
          0.999998088457889,
          0.999998088457889,
          0.999998088457889,
          0.999998088457889,
          0.999998088457889,
          0.999998088457889,
          0.999998088457889,
          0.999999035892735,
          0.999999035892735,
          0.999999035892735,
          0.999999035892735,
          0.999999035892735,
          0.999999035892735,
          0.9999995228522948,
          0.9999995228522948,
          0.9999995228522948,
          0.9999995228522948,
          0.9999995228522948,
          0.9999995228522948,
          0.9999995228522948,
          0.9999995228522948,
          0.9999997682859744,
          0.9999997682859744,
          0.9999997682859744,
          0.9999997682859744,
          0.9999997682859744,
          0.9999997682859744,
          0.9999997682859744,
          0.9999997682859744,
          0.9999997682859744,
          0.9999997682859744,
          0.9999997682859744,
          0.9999997682859744,
          0.9999997682859744,
          0.9999997682859744,
          0.9999997682859744,
          0.9999997682859744,
          0.9999997682859744,
          0.9999997682859744,
          0.9999998895894159,
          0.9999998895894159,
          0.9999998895894159,
          0.9999998895894159,
          0.9999998895894159,
          0.9999998895894159,
          0.9999998895894159,
          0.9999998895894159,
          0.9999998895894159,
          0.9999998895894159,
          0.9999998895894159,
          0.9999998895894159,
          0.9999998895894159,
          0.9999998895894159,
          0.9999998895894159,
          0.9999998895894159,
          0.9999999483802701,
          0.9999999483802701,
          0.9999999483802701,
          0.9999999483802701,
          0.9999999483802701,
          0.9999999483802701,
          0.9999999483802701,
          0.9999999483802701,
          0.9999999483802701,
          0.9999999483802701,
          0.9999999483802701,
          0.9999999763214076,
          0.9999999763214076,
          0.9999999763214076,
          0.9999999763214076,
          0.9999999763214076,
          0.9999999763214076,
          0.9999999763214076,
          0.9999999763214076,
          0.9999999763214076,
          0.9999999763214076,
          0.9999999763214076,
          0.9999999763214076,
          0.9999999763214076,
          0.9999999763214076,
          0.9999999763214076,
          0.9999999763214076,
          0.9999999763214076,
          0.9999999763214076,
          0.999999989343358,
          0.999999989343358,
          0.999999989343358,
          0.999999989343358,
          0.999999989343358,
          0.999999989343358,
          0.999999989343358,
          0.999999989343358,
          0.9999999952945727,
          0.9999999952945727,
          0.9999999952945727,
          0.9999999952945727,
          0.9999999952945727,
          0.9999999952945727,
          0.9999999952945727,
          0.9999999952945727,
          0.9999999952945727,
          0.9999999952945727,
          0.9999999952945727,
          0.9999999952945727,
          0.9999999952945727,
          0.9999999952945727,
          0.9999999952945727,
          0.9999999952945727,
          0.9999999952945727,
          0.999999997961633,
          0.999999997961633,
          0.999999997961633,
          0.999999997961633,
          0.999999997961633,
          0.999999997961633,
          0.999999997961633,
          0.999999997961633,
          0.999999997961633,
          0.999999997961633,
          0.999999997961633,
          0.999999997961633,
          0.999999997961633,
          0.999999997961633,
          0.999999997961633,
          0.999999997961633,
          0.999999997961633,
          0.999999997961633,
          0.999999997961633,
          0.999999997961633,
          0.999999997961633,
          0.999999997961633,
          0.999999997961633,
          0.9999999991337137,
          0.9999999991337137,
          0.9999999991337137,
          0.9999999991337137,
          0.9999999991337137,
          0.9999999991337137,
          0.9999999991337137,
          0.9999999991337137,
          0.9999999991337137,
          0.9999999991337137,
          0.9999999991337137,
          0.9999999991337137,
          0.9999999991337137,
          0.9999999991337137,
          0.9999999991337137,
          0.9999999991337137,
          0.9999999991337137,
          0.9999999991337137,
          0.9999999991337137,
          0.9999999991337137,
          0.9999999991337137,
          0.9999999991337137,
          0.9999999991337137,
          0.9999999991337137,
          0.9999999991337137,
          0.9999999996388167,
          0.9999999996388167,
          0.9999999996388167,
          0.9999999996388167,
          0.9999999996388167,
          0.9999999996388167,
          0.9999999996388167,
          0.9999999996388167,
          0.9999999996388167,
          0.9999999996388167,
          0.9999999996388167,
          0.9999999996388167,
          0.9999999996388167,
          0.9999999996388167,
          0.9999999998522685,
          0.9999999998522685,
          0.9999999998522685,
          0.9999999998522685,
          0.9999999998522685,
          0.9999999998522685,
          0.9999999998522685,
          0.9999999998522685,
          0.9999999998522685,
          0.9999999998522685,
          0.9999999998522685,
          0.9999999998522685,
          0.9999999998522685,
          0.9999999998522685,
          0.9999999998522685,
          0.9999999998522685,
          0.9999999999407224,
          0.9999999999407224,
          0.9999999999407224,
          0.9999999999407224,
          0.9999999999407224,
          0.9999999999407224,
          0.9999999999407224,
          0.9999999999407224,
          0.9999999999407224,
          0.9999999999407224,
          0.9999999999407224,
          0.9999999999407224,
          0.9999999999407224,
          0.9999999999407224,
          0.9999999999407224,
          0.9999999999407224,
          0.9999999999766669,
          0.9999999999766669,
          0.9999999999766669,
          0.9999999999766669,
          0.9999999999766669,
          0.9999999999766669,
          0.9999999999766669,
          0.9999999999766669,
          0.9999999999766669,
          0.9999999999766669,
          0.9999999999766669,
          0.9999999999766669,
          0.9999999999909903,
          0.9999999999909903,
          0.9999999999909903,
          0.9999999999909903,
          0.9999999999909903,
          0.9999999999909903,
          0.9999999999909903,
          0.9999999999909903,
          0.9999999999909903,
          0.9999999999909903,
          0.9999999999909903,
          0.9999999999909903,
          0.9999999999909903,
          0.9999999999909903,
          0.9999999999909903,
          0.9999999999909903,
          0.9999999999965873,
          0.9999999999965873,
          0.9999999999965873,
          0.9999999999965873,
          0.9999999999965873,
          0.9999999999965873,
          0.9999999999965873,
          0.9999999999965873,
          0.9999999999965873,
          0.9999999999965873,
          0.9999999999965873,
          0.9999999999965873,
          0.9999999999965873,
          0.9999999999965873,
          0.9999999999965873,
          0.9999999999965873,
          0.9999999999965873,
          0.9999999999965873,
          0.9999999999965873,
          0.9999999999965873,
          0.9999999999987319,
          0.9999999999987319,
          0.9999999999987319,
          0.9999999999987319,
          0.9999999999987319,
          0.9999999999987319,
          0.9999999999987319,
          0.9999999999987319,
          0.9999999999987319,
          0.9999999999987319,
          0.9999999999987319,
          0.9999999999987319,
          0.9999999999987319,
          0.9999999999987319,
          0.9999999999987319,
          0.9999999999987319,
          0.9999999999987319
         ],
         "yaxis": "y"
        }
       ],
       "layout": {
        "legend": {
         "title": {
          "text": "variable"
         },
         "tracegroupgap": 0
        },
        "margin": {
         "t": 60
        },
        "template": {
         "data": {
          "bar": [
           {
            "error_x": {
             "color": "#f2f5fa"
            },
            "error_y": {
             "color": "#f2f5fa"
            },
            "marker": {
             "line": {
              "color": "rgb(17,17,17)",
              "width": 0.5
             },
             "pattern": {
              "fillmode": "overlay",
              "size": 10,
              "solidity": 0.2
             }
            },
            "type": "bar"
           }
          ],
          "barpolar": [
           {
            "marker": {
             "line": {
              "color": "rgb(17,17,17)",
              "width": 0.5
             },
             "pattern": {
              "fillmode": "overlay",
              "size": 10,
              "solidity": 0.2
             }
            },
            "type": "barpolar"
           }
          ],
          "carpet": [
           {
            "aaxis": {
             "endlinecolor": "#A2B1C6",
             "gridcolor": "#506784",
             "linecolor": "#506784",
             "minorgridcolor": "#506784",
             "startlinecolor": "#A2B1C6"
            },
            "baxis": {
             "endlinecolor": "#A2B1C6",
             "gridcolor": "#506784",
             "linecolor": "#506784",
             "minorgridcolor": "#506784",
             "startlinecolor": "#A2B1C6"
            },
            "type": "carpet"
           }
          ],
          "choropleth": [
           {
            "colorbar": {
             "outlinewidth": 0,
             "ticks": ""
            },
            "type": "choropleth"
           }
          ],
          "contour": [
           {
            "colorbar": {
             "outlinewidth": 0,
             "ticks": ""
            },
            "colorscale": [
             [
              0,
              "#0d0887"
             ],
             [
              0.1111111111111111,
              "#46039f"
             ],
             [
              0.2222222222222222,
              "#7201a8"
             ],
             [
              0.3333333333333333,
              "#9c179e"
             ],
             [
              0.4444444444444444,
              "#bd3786"
             ],
             [
              0.5555555555555556,
              "#d8576b"
             ],
             [
              0.6666666666666666,
              "#ed7953"
             ],
             [
              0.7777777777777778,
              "#fb9f3a"
             ],
             [
              0.8888888888888888,
              "#fdca26"
             ],
             [
              1,
              "#f0f921"
             ]
            ],
            "type": "contour"
           }
          ],
          "contourcarpet": [
           {
            "colorbar": {
             "outlinewidth": 0,
             "ticks": ""
            },
            "type": "contourcarpet"
           }
          ],
          "heatmap": [
           {
            "colorbar": {
             "outlinewidth": 0,
             "ticks": ""
            },
            "colorscale": [
             [
              0,
              "#0d0887"
             ],
             [
              0.1111111111111111,
              "#46039f"
             ],
             [
              0.2222222222222222,
              "#7201a8"
             ],
             [
              0.3333333333333333,
              "#9c179e"
             ],
             [
              0.4444444444444444,
              "#bd3786"
             ],
             [
              0.5555555555555556,
              "#d8576b"
             ],
             [
              0.6666666666666666,
              "#ed7953"
             ],
             [
              0.7777777777777778,
              "#fb9f3a"
             ],
             [
              0.8888888888888888,
              "#fdca26"
             ],
             [
              1,
              "#f0f921"
             ]
            ],
            "type": "heatmap"
           }
          ],
          "heatmapgl": [
           {
            "colorbar": {
             "outlinewidth": 0,
             "ticks": ""
            },
            "colorscale": [
             [
              0,
              "#0d0887"
             ],
             [
              0.1111111111111111,
              "#46039f"
             ],
             [
              0.2222222222222222,
              "#7201a8"
             ],
             [
              0.3333333333333333,
              "#9c179e"
             ],
             [
              0.4444444444444444,
              "#bd3786"
             ],
             [
              0.5555555555555556,
              "#d8576b"
             ],
             [
              0.6666666666666666,
              "#ed7953"
             ],
             [
              0.7777777777777778,
              "#fb9f3a"
             ],
             [
              0.8888888888888888,
              "#fdca26"
             ],
             [
              1,
              "#f0f921"
             ]
            ],
            "type": "heatmapgl"
           }
          ],
          "histogram": [
           {
            "marker": {
             "pattern": {
              "fillmode": "overlay",
              "size": 10,
              "solidity": 0.2
             }
            },
            "type": "histogram"
           }
          ],
          "histogram2d": [
           {
            "colorbar": {
             "outlinewidth": 0,
             "ticks": ""
            },
            "colorscale": [
             [
              0,
              "#0d0887"
             ],
             [
              0.1111111111111111,
              "#46039f"
             ],
             [
              0.2222222222222222,
              "#7201a8"
             ],
             [
              0.3333333333333333,
              "#9c179e"
             ],
             [
              0.4444444444444444,
              "#bd3786"
             ],
             [
              0.5555555555555556,
              "#d8576b"
             ],
             [
              0.6666666666666666,
              "#ed7953"
             ],
             [
              0.7777777777777778,
              "#fb9f3a"
             ],
             [
              0.8888888888888888,
              "#fdca26"
             ],
             [
              1,
              "#f0f921"
             ]
            ],
            "type": "histogram2d"
           }
          ],
          "histogram2dcontour": [
           {
            "colorbar": {
             "outlinewidth": 0,
             "ticks": ""
            },
            "colorscale": [
             [
              0,
              "#0d0887"
             ],
             [
              0.1111111111111111,
              "#46039f"
             ],
             [
              0.2222222222222222,
              "#7201a8"
             ],
             [
              0.3333333333333333,
              "#9c179e"
             ],
             [
              0.4444444444444444,
              "#bd3786"
             ],
             [
              0.5555555555555556,
              "#d8576b"
             ],
             [
              0.6666666666666666,
              "#ed7953"
             ],
             [
              0.7777777777777778,
              "#fb9f3a"
             ],
             [
              0.8888888888888888,
              "#fdca26"
             ],
             [
              1,
              "#f0f921"
             ]
            ],
            "type": "histogram2dcontour"
           }
          ],
          "mesh3d": [
           {
            "colorbar": {
             "outlinewidth": 0,
             "ticks": ""
            },
            "type": "mesh3d"
           }
          ],
          "parcoords": [
           {
            "line": {
             "colorbar": {
              "outlinewidth": 0,
              "ticks": ""
             }
            },
            "type": "parcoords"
           }
          ],
          "pie": [
           {
            "automargin": true,
            "type": "pie"
           }
          ],
          "scatter": [
           {
            "marker": {
             "line": {
              "color": "#283442"
             }
            },
            "type": "scatter"
           }
          ],
          "scatter3d": [
           {
            "line": {
             "colorbar": {
              "outlinewidth": 0,
              "ticks": ""
             }
            },
            "marker": {
             "colorbar": {
              "outlinewidth": 0,
              "ticks": ""
             }
            },
            "type": "scatter3d"
           }
          ],
          "scattercarpet": [
           {
            "marker": {
             "colorbar": {
              "outlinewidth": 0,
              "ticks": ""
             }
            },
            "type": "scattercarpet"
           }
          ],
          "scattergeo": [
           {
            "marker": {
             "colorbar": {
              "outlinewidth": 0,
              "ticks": ""
             }
            },
            "type": "scattergeo"
           }
          ],
          "scattergl": [
           {
            "marker": {
             "line": {
              "color": "#283442"
             }
            },
            "type": "scattergl"
           }
          ],
          "scattermapbox": [
           {
            "marker": {
             "colorbar": {
              "outlinewidth": 0,
              "ticks": ""
             }
            },
            "type": "scattermapbox"
           }
          ],
          "scatterpolar": [
           {
            "marker": {
             "colorbar": {
              "outlinewidth": 0,
              "ticks": ""
             }
            },
            "type": "scatterpolar"
           }
          ],
          "scatterpolargl": [
           {
            "marker": {
             "colorbar": {
              "outlinewidth": 0,
              "ticks": ""
             }
            },
            "type": "scatterpolargl"
           }
          ],
          "scatterternary": [
           {
            "marker": {
             "colorbar": {
              "outlinewidth": 0,
              "ticks": ""
             }
            },
            "type": "scatterternary"
           }
          ],
          "surface": [
           {
            "colorbar": {
             "outlinewidth": 0,
             "ticks": ""
            },
            "colorscale": [
             [
              0,
              "#0d0887"
             ],
             [
              0.1111111111111111,
              "#46039f"
             ],
             [
              0.2222222222222222,
              "#7201a8"
             ],
             [
              0.3333333333333333,
              "#9c179e"
             ],
             [
              0.4444444444444444,
              "#bd3786"
             ],
             [
              0.5555555555555556,
              "#d8576b"
             ],
             [
              0.6666666666666666,
              "#ed7953"
             ],
             [
              0.7777777777777778,
              "#fb9f3a"
             ],
             [
              0.8888888888888888,
              "#fdca26"
             ],
             [
              1,
              "#f0f921"
             ]
            ],
            "type": "surface"
           }
          ],
          "table": [
           {
            "cells": {
             "fill": {
              "color": "#506784"
             },
             "line": {
              "color": "rgb(17,17,17)"
             }
            },
            "header": {
             "fill": {
              "color": "#2a3f5f"
             },
             "line": {
              "color": "rgb(17,17,17)"
             }
            },
            "type": "table"
           }
          ]
         },
         "layout": {
          "annotationdefaults": {
           "arrowcolor": "#f2f5fa",
           "arrowhead": 0,
           "arrowwidth": 1
          },
          "autotypenumbers": "strict",
          "coloraxis": {
           "colorbar": {
            "outlinewidth": 0,
            "ticks": ""
           }
          },
          "colorscale": {
           "diverging": [
            [
             0,
             "#8e0152"
            ],
            [
             0.1,
             "#c51b7d"
            ],
            [
             0.2,
             "#de77ae"
            ],
            [
             0.3,
             "#f1b6da"
            ],
            [
             0.4,
             "#fde0ef"
            ],
            [
             0.5,
             "#f7f7f7"
            ],
            [
             0.6,
             "#e6f5d0"
            ],
            [
             0.7,
             "#b8e186"
            ],
            [
             0.8,
             "#7fbc41"
            ],
            [
             0.9,
             "#4d9221"
            ],
            [
             1,
             "#276419"
            ]
           ],
           "sequential": [
            [
             0,
             "#0d0887"
            ],
            [
             0.1111111111111111,
             "#46039f"
            ],
            [
             0.2222222222222222,
             "#7201a8"
            ],
            [
             0.3333333333333333,
             "#9c179e"
            ],
            [
             0.4444444444444444,
             "#bd3786"
            ],
            [
             0.5555555555555556,
             "#d8576b"
            ],
            [
             0.6666666666666666,
             "#ed7953"
            ],
            [
             0.7777777777777778,
             "#fb9f3a"
            ],
            [
             0.8888888888888888,
             "#fdca26"
            ],
            [
             1,
             "#f0f921"
            ]
           ],
           "sequentialminus": [
            [
             0,
             "#0d0887"
            ],
            [
             0.1111111111111111,
             "#46039f"
            ],
            [
             0.2222222222222222,
             "#7201a8"
            ],
            [
             0.3333333333333333,
             "#9c179e"
            ],
            [
             0.4444444444444444,
             "#bd3786"
            ],
            [
             0.5555555555555556,
             "#d8576b"
            ],
            [
             0.6666666666666666,
             "#ed7953"
            ],
            [
             0.7777777777777778,
             "#fb9f3a"
            ],
            [
             0.8888888888888888,
             "#fdca26"
            ],
            [
             1,
             "#f0f921"
            ]
           ]
          },
          "colorway": [
           "#636efa",
           "#EF553B",
           "#00cc96",
           "#ab63fa",
           "#FFA15A",
           "#19d3f3",
           "#FF6692",
           "#B6E880",
           "#FF97FF",
           "#FECB52"
          ],
          "font": {
           "color": "#f2f5fa"
          },
          "geo": {
           "bgcolor": "rgb(17,17,17)",
           "lakecolor": "rgb(17,17,17)",
           "landcolor": "rgb(17,17,17)",
           "showlakes": true,
           "showland": true,
           "subunitcolor": "#506784"
          },
          "hoverlabel": {
           "align": "left"
          },
          "hovermode": "closest",
          "mapbox": {
           "style": "dark"
          },
          "paper_bgcolor": "rgb(17,17,17)",
          "plot_bgcolor": "rgb(17,17,17)",
          "polar": {
           "angularaxis": {
            "gridcolor": "#506784",
            "linecolor": "#506784",
            "ticks": ""
           },
           "bgcolor": "rgb(17,17,17)",
           "radialaxis": {
            "gridcolor": "#506784",
            "linecolor": "#506784",
            "ticks": ""
           }
          },
          "scene": {
           "xaxis": {
            "backgroundcolor": "rgb(17,17,17)",
            "gridcolor": "#506784",
            "gridwidth": 2,
            "linecolor": "#506784",
            "showbackground": true,
            "ticks": "",
            "zerolinecolor": "#C8D4E3"
           },
           "yaxis": {
            "backgroundcolor": "rgb(17,17,17)",
            "gridcolor": "#506784",
            "gridwidth": 2,
            "linecolor": "#506784",
            "showbackground": true,
            "ticks": "",
            "zerolinecolor": "#C8D4E3"
           },
           "zaxis": {
            "backgroundcolor": "rgb(17,17,17)",
            "gridcolor": "#506784",
            "gridwidth": 2,
            "linecolor": "#506784",
            "showbackground": true,
            "ticks": "",
            "zerolinecolor": "#C8D4E3"
           }
          },
          "shapedefaults": {
           "line": {
            "color": "#f2f5fa"
           }
          },
          "sliderdefaults": {
           "bgcolor": "#C8D4E3",
           "bordercolor": "rgb(17,17,17)",
           "borderwidth": 1,
           "tickwidth": 0
          },
          "ternary": {
           "aaxis": {
            "gridcolor": "#506784",
            "linecolor": "#506784",
            "ticks": ""
           },
           "baxis": {
            "gridcolor": "#506784",
            "linecolor": "#506784",
            "ticks": ""
           },
           "bgcolor": "rgb(17,17,17)",
           "caxis": {
            "gridcolor": "#506784",
            "linecolor": "#506784",
            "ticks": ""
           }
          },
          "title": {
           "x": 0.05
          },
          "updatemenudefaults": {
           "bgcolor": "#506784",
           "borderwidth": 0
          },
          "xaxis": {
           "automargin": true,
           "gridcolor": "#283442",
           "linecolor": "#506784",
           "ticks": "",
           "title": {
            "standoff": 15
           },
           "zerolinecolor": "#283442",
           "zerolinewidth": 2
          },
          "yaxis": {
           "automargin": true,
           "gridcolor": "#283442",
           "linecolor": "#506784",
           "ticks": "",
           "title": {
            "standoff": 15
           },
           "zerolinecolor": "#283442",
           "zerolinewidth": 2
          }
         }
        },
        "xaxis": {
         "anchor": "y",
         "domain": [
          0,
          1
         ],
         "title": {
          "text": "index"
         }
        },
        "yaxis": {
         "anchor": "x",
         "domain": [
          0,
          1
         ],
         "title": {
          "text": "value"
         }
        }
       }
      }
     },
     "metadata": {},
     "output_type": "display_data"
    }
   ],
   "source": [
    "import plotly.express as px\n",
    "fig = px.scatter(temp)\n",
    "fig.update_layout(template=\"plotly_dark\")"
   ]
  },
  {
   "cell_type": "code",
   "execution_count": null,
   "metadata": {},
   "outputs": [],
   "source": []
  },
  {
   "cell_type": "code",
   "execution_count": 114,
   "metadata": {},
   "outputs": [],
   "source": [
    "index_samples = []\n",
    "for pos, neg in zip(positive_tgt_context_sets,negative_tgt_context_sets):\n",
    "    # index_samples.append((pos[0], pos[1], neg[1]))\n",
    "    index_samples.append((data.ticker2idx[pos[0]], [data.ticker2idx[xi] for xi in pos[1]], [data.ticker2idx[xi] for xi in neg[1]]))"
   ]
  },
  {
   "cell_type": "markdown",
   "metadata": {},
   "source": [
    "### Experimental Contrastive Loss"
   ]
  },
  {
   "cell_type": "code",
   "execution_count": 115,
   "metadata": {},
   "outputs": [],
   "source": [
    "import torch\n",
    "from torch.utils.data import Dataset, DataLoader\n",
    "\n",
    "\n",
    "class MultiPosNegDataset(Dataset):\n",
    "    def __init__(self, index_samples):\n",
    "        self.index_samples = index_samples\n",
    "\n",
    "    def __len__(self):\n",
    "        return len(self.index_samples)\n",
    "\n",
    "    def __getitem__(self, idx):\n",
    "        anchor_idx, positive_indices, negative_indices = self.index_samples[idx]\n",
    "        # Convert indices list to tensor\n",
    "\n",
    "        positive_indices_tensor = torch.tensor(positive_indices)\n",
    "        negative_indices_tensor = torch.tensor(negative_indices)\n",
    "        return anchor_idx, positive_indices_tensor, negative_indices_tensor\n",
    "\n",
    "\n",
    "def normalize_embeddings(embeddings):\n",
    "    with torch.no_grad():  # Ensure no gradients are computed in this block\n",
    "        norms = embeddings.weight.norm(dim=1, keepdim=True)\n",
    "        embeddings.weight.data = embeddings.weight.data / norms\n",
    "    return embeddings\n",
    "\n",
    "\n",
    "# def experimental_loss(\n",
    "#     anchor_embeddings: torch.Tensor,\n",
    "#     positive_embeddings: torch.Tensor,\n",
    "#     negative_embeddings: torch.Tensor,\n",
    "# ) -> torch.Tensor:\n",
    "#     \"\"\"\n",
    "\n",
    "#     Args:\n",
    "#         anchor_embeddings (torch.Tensor): shape (batch_size, embedding_dim)\n",
    "#         positive_embeddings (torch.Tensor): (batch_size, num_pos_samples, embedding_dim)\n",
    "#         negative_embeddings (torch.Tensor): (batch_size, num_neg_samples, embedding_dim)\n",
    "\n",
    "#     Returns:\n",
    "#         torch.Tensor: _description_\n",
    "#     \"\"\"\n",
    "#     positive_scores = torch.einsum(\n",
    "#             \"bpd,bd->bp\", [positive_embeddings, anchor_embeddings]\n",
    "#         )\n",
    "#     negative_scores = torch.einsum(\n",
    "#             \"bnd,bd->bn\", [negative_embeddings, anchor_embeddings]\n",
    "#         )\n",
    "#     # positive_loss = - torch.sum(torch.nn.functional.logsigmoid(positive_scores), dim=1)\n",
    "#     # negative_loss = - torch.sum(torch.log(1-torch.sigmoid(negative_scores)), dim=1)\n",
    "#     criterion = torch.nn.BCEWithLogitsLoss()\n",
    "#     positive_loss = criterion(positive_scores, torch.ones_like(positive_scores))\n",
    "#     negative_loss = criterion(negative_scores, torch.zeros_like(negative_scores))\n",
    "#     loss = torch.sum(positive_loss + negative_loss)\n",
    "\n",
    "#     return loss\n",
    "\n",
    "def experimental_loss(\n",
    "    anchor_embeddings: torch.Tensor,\n",
    "    positive_embeddings: torch.Tensor,\n",
    "    negative_embeddings: torch.Tensor,\n",
    ") -> torch.Tensor:\n",
    "    \"\"\"\n",
    "\n",
    "    Args:\n",
    "        anchor_embeddings (torch.Tensor): shape (batch_size, embedding_dim)\n",
    "        positive_embeddings (torch.Tensor): (batch_size, num_pos_samples, embedding_dim)\n",
    "        negative_embeddings (torch.Tensor): (batch_size, num_neg_samples, embedding_dim)\n",
    "\n",
    "    Returns:\n",
    "        torch.Tensor: _description_\n",
    "    \"\"\"\n",
    "    positive_scores = torch.einsum(\n",
    "            \"bd,bd->b\", [torch.mean(positive_embeddings, dim=1), anchor_embeddings]\n",
    "        )\n",
    "    negative_scores = torch.einsum(\n",
    "            \"bd,bd->b\", [torch.mean(negative_embeddings, dim=1), anchor_embeddings]\n",
    "        )\n",
    "    # positive_loss = - torch.sum(torch.nn.functional.logsigmoid(positive_scores))\n",
    "    # negative_loss = - torch.sum(torch.log(1-torch.sigmoid(negative_scores)+0.00001))\n",
    "    criterion = torch.nn.BCEWithLogitsLoss()\n",
    "    positive_loss = criterion(positive_scores, torch.ones_like(positive_scores))\n",
    "    negative_loss = criterion(negative_scores, torch.zeros_like(negative_scores))\n",
    "\n",
    "    loss = positive_loss + negative_loss\n",
    "\n",
    "    return loss\n",
    "\n",
    "# def experimental_loss(\n",
    "#     anchor_embeddings: torch.Tensor,\n",
    "#     positive_embeddings: torch.Tensor,\n",
    "#     negative_embeddings: torch.Tensor,\n",
    "# ) -> torch.Tensor:\n",
    "#     \"\"\"\n",
    "\n",
    "#     Args:\n",
    "#         anchor_embeddings (torch.Tensor): shape (batch_size, embedding_dim)\n",
    "#         positive_embeddings (torch.Tensor): (batch_size, num_pos_samples, embedding_dim)\n",
    "#         negative_embeddings (torch.Tensor): (batch_size, num_neg_samples, embedding_dim)\n",
    "\n",
    "#     Returns:\n",
    "#         torch.Tensor: _description_\n",
    "#     \"\"\"\n",
    "#     ### POSITIVE LOSS - Sigmoid over each positive\n",
    "#     positive_scores = torch.einsum(\n",
    "#             \"bpd,bd->bp\", [positive_embeddings, anchor_embeddings]\n",
    "#         )\n",
    "#     criterion = torch.nn.BCEWithLogitsLoss()\n",
    "#     positive_loss = criterion(positive_scores, torch.ones_like(positive_scores))\n",
    "\n",
    "#     ### NEGATIVE LOSS - Softmax with aggregate positive representation\n",
    "#     criterion = torch.nn.NLLLoss()\n",
    "#     aggregate_positive_embeddings = torch.mean(positive_embeddings, dim=1) # (batch_size, embedding_dim)\n",
    "#     aggregate_positive_scores = torch.einsum(\n",
    "#             \"bd,bd->b\", [aggregate_positive_embeddings, anchor_embeddings]\n",
    "#         )\n",
    "#     # aggregate_positive_scores = torch.mean(positive_scores, dim=1)\n",
    "#     negative_scores = torch.einsum(\n",
    "#             \"bnd,bd->bn\", [negative_embeddings, anchor_embeddings]\n",
    "#         )\n",
    "#     #-- Make first column the aggregate positive scores\n",
    "#     #- concatenated.shape = (batch_size, 1+num_neg_samples)\n",
    "#     concatenated = torch.concat((aggregate_positive_scores.unsqueeze(1), negative_scores), dim=1)\n",
    "#     #-- Create target for NLLLoss\n",
    "#     target = torch.zeros(concatenated.shape[0], dtype=torch.long)\n",
    "\n",
    "#     negative_loss = criterion(torch.nn.functional.log_softmax(concatenated, dim=1), target)\n",
    "#     loss = positive_loss + negative_loss\n",
    "\n",
    "#     return loss"
   ]
  },
  {
   "cell_type": "markdown",
   "metadata": {},
   "source": [
    "### Training"
   ]
  },
  {
   "cell_type": "code",
   "execution_count": 116,
   "metadata": {},
   "outputs": [
    {
     "name": "stdout",
     "output_type": "stream",
     "text": [
      "Epoch [1/10], Loss: 1.3234279422855697\n",
      "Epoch [2/10], Loss: 1.1308365246922676\n",
      "Epoch [3/10], Loss: 1.0473937370306672\n",
      "Epoch [4/10], Loss: 1.027993889955374\n",
      "Epoch [5/10], Loss: 1.0229337490521944\n",
      "Epoch [6/10], Loss: 1.021214877881334\n"
     ]
    },
    {
     "ename": "KeyboardInterrupt",
     "evalue": "",
     "output_type": "error",
     "traceback": [
      "\u001b[0;31m---------------------------------------------------------------------------\u001b[0m",
      "\u001b[0;31mKeyboardInterrupt\u001b[0m                         Traceback (most recent call last)",
      "Cell \u001b[0;32mIn[116], line 34\u001b[0m\n\u001b[1;32m     31\u001b[0m \u001b[38;5;66;03m# normalise the embeddings to prevent degenerate solution\u001b[39;00m\n\u001b[1;32m     32\u001b[0m embeddings \u001b[38;5;241m=\u001b[39m normalize_embeddings(embeddings)\n\u001b[0;32m---> 34\u001b[0m \u001b[43m\u001b[49m\u001b[38;5;28;43;01mfor\u001b[39;49;00m\u001b[43m \u001b[49m\u001b[43mi\u001b[49m\u001b[43m,\u001b[49m\u001b[43m \u001b[49m\u001b[43m(\u001b[49m\u001b[43manchor_idx\u001b[49m\u001b[43m,\u001b[49m\u001b[43m \u001b[49m\u001b[43mpositive_idx\u001b[49m\u001b[43m,\u001b[49m\u001b[43m \u001b[49m\u001b[43mnegative_indices\u001b[49m\u001b[43m)\u001b[49m\u001b[43m \u001b[49m\u001b[38;5;129;43;01min\u001b[39;49;00m\u001b[43m \u001b[49m\u001b[38;5;28;43menumerate\u001b[39;49m\u001b[43m(\u001b[49m\u001b[43mdata_loader\u001b[49m\u001b[43m)\u001b[49m\u001b[43m:\u001b[49m\n\u001b[1;32m     35\u001b[0m \n\u001b[1;32m     36\u001b[0m \u001b[43m    \u001b[49m\u001b[38;5;66;43;03m# Get the embeddings for anchor, positive, and negative\u001b[39;49;00m\n\u001b[1;32m     37\u001b[0m \u001b[43m    \u001b[49m\u001b[43manchor_embeddings\u001b[49m\u001b[43m \u001b[49m\u001b[38;5;241;43m=\u001b[39;49m\u001b[43m \u001b[49m\u001b[43membeddings\u001b[49m\u001b[43m(\u001b[49m\u001b[43manchor_idx\u001b[49m\u001b[43m)\u001b[49m\u001b[43m \u001b[49m\u001b[38;5;66;43;03m# shape: (batch_size, embedding_dim)\u001b[39;49;00m\n\u001b[1;32m     38\u001b[0m \u001b[43m    \u001b[49m\u001b[43mpositive_embeddings\u001b[49m\u001b[43m \u001b[49m\u001b[38;5;241;43m=\u001b[39;49m\u001b[43m \u001b[49m\u001b[43membeddings\u001b[49m\u001b[43m(\u001b[49m\u001b[43mpositive_idx\u001b[49m\u001b[43m)\u001b[49m\u001b[43m \u001b[49m\u001b[38;5;66;43;03m# shape: (batch_size, num_pos_samples embedding_dim)\u001b[39;49;00m\n",
      "File \u001b[0;32m/opt/homebrew/Caskroom/miniforge/base/envs/phd/lib/python3.11/site-packages/torch/utils/data/dataloader.py:626\u001b[0m, in \u001b[0;36m_BaseDataLoaderIter.__next__\u001b[0;34m(self)\u001b[0m\n\u001b[1;32m    625\u001b[0m \u001b[38;5;28;01mdef\u001b[39;00m \u001b[38;5;21m__next__\u001b[39m(\u001b[38;5;28mself\u001b[39m) \u001b[38;5;241m-\u001b[39m\u001b[38;5;241m>\u001b[39m Any:\n\u001b[0;32m--> 626\u001b[0m \u001b[43m    \u001b[49m\u001b[38;5;28;43;01mwith\u001b[39;49;00m\u001b[43m \u001b[49m\u001b[43mtorch\u001b[49m\u001b[38;5;241;43m.\u001b[39;49m\u001b[43mautograd\u001b[49m\u001b[38;5;241;43m.\u001b[39;49m\u001b[43mprofiler\u001b[49m\u001b[38;5;241;43m.\u001b[39;49m\u001b[43mrecord_function\u001b[49m\u001b[43m(\u001b[49m\u001b[38;5;28;43mself\u001b[39;49m\u001b[38;5;241;43m.\u001b[39;49m\u001b[43m_profile_name\u001b[49m\u001b[43m)\u001b[49m\u001b[43m:\u001b[49m\n\u001b[1;32m    627\u001b[0m \u001b[43m        \u001b[49m\u001b[38;5;28;43;01mif\u001b[39;49;00m\u001b[43m \u001b[49m\u001b[38;5;28;43mself\u001b[39;49m\u001b[38;5;241;43m.\u001b[39;49m\u001b[43m_sampler_iter\u001b[49m\u001b[43m \u001b[49m\u001b[38;5;129;43;01mis\u001b[39;49;00m\u001b[43m \u001b[49m\u001b[38;5;28;43;01mNone\u001b[39;49;00m\u001b[43m:\u001b[49m\n\u001b[1;32m    628\u001b[0m \u001b[43m            \u001b[49m\u001b[38;5;66;43;03m# TODO(https://github.com/pytorch/pytorch/issues/76750)\u001b[39;49;00m\n\u001b[1;32m    629\u001b[0m \u001b[43m            \u001b[49m\u001b[38;5;28;43mself\u001b[39;49m\u001b[38;5;241;43m.\u001b[39;49m\u001b[43m_reset\u001b[49m\u001b[43m(\u001b[49m\u001b[43m)\u001b[49m\u001b[43m  \u001b[49m\u001b[38;5;66;43;03m# type: ignore[call-arg]\u001b[39;49;00m\n",
      "File \u001b[0;32m/opt/homebrew/Caskroom/miniforge/base/envs/phd/lib/python3.11/site-packages/torch/autograd/profiler.py:636\u001b[0m, in \u001b[0;36mrecord_function.__exit__\u001b[0;34m(self, exc_type, exc_value, traceback)\u001b[0m\n\u001b[1;32m    631\u001b[0m     \u001b[38;5;28mself\u001b[39m\u001b[38;5;241m.\u001b[39mrecord \u001b[38;5;241m=\u001b[39m torch\u001b[38;5;241m.\u001b[39mops\u001b[38;5;241m.\u001b[39mprofiler\u001b[38;5;241m.\u001b[39m_record_function_enter_new(\n\u001b[1;32m    632\u001b[0m         \u001b[38;5;28mself\u001b[39m\u001b[38;5;241m.\u001b[39mname, \u001b[38;5;28mself\u001b[39m\u001b[38;5;241m.\u001b[39margs\n\u001b[1;32m    633\u001b[0m     )\n\u001b[1;32m    634\u001b[0m     \u001b[38;5;28;01mreturn\u001b[39;00m \u001b[38;5;28mself\u001b[39m\n\u001b[0;32m--> 636\u001b[0m \u001b[38;5;28;01mdef\u001b[39;00m \u001b[38;5;21m__exit__\u001b[39m(\u001b[38;5;28mself\u001b[39m, exc_type: Any, exc_value: Any, traceback: Any):\n\u001b[1;32m    637\u001b[0m     \u001b[38;5;28;01mif\u001b[39;00m \u001b[38;5;129;01mnot\u001b[39;00m \u001b[38;5;28mself\u001b[39m\u001b[38;5;241m.\u001b[39mrun_callbacks_on_exit:\n\u001b[1;32m    638\u001b[0m         \u001b[38;5;28;01mreturn\u001b[39;00m\n",
      "\u001b[0;31mKeyboardInterrupt\u001b[0m: "
     ]
    }
   ],
   "source": [
    "import numpy as np\n",
    "import torch\n",
    "import torch.nn as nn\n",
    "import torch.optim as optim\n",
    "from torch.utils.data import DataLoader, TensorDataset\n",
    "\n",
    "# Parameters\n",
    "num_items = num_TS  # Number of items in your dataset\n",
    "embedding_size = 16  # Size of each embedding\n",
    "learning_rate = 0.001\n",
    "epochs = 10\n",
    "batch_size = 2048\n",
    "\n",
    "# Initialize the embedding matrix\n",
    "embeddings = nn.Embedding(num_embeddings=num_items, embedding_dim=embedding_size)\n",
    "\n",
    "# Optimizer\n",
    "optimizer = optim.Adam(embeddings.parameters(), lr=learning_rate)\n",
    "\n",
    "# Prepare your index_samples as a tensor\n",
    "# index_samples = torch.tensor([(35, 12, 98), (47, 12, 4), ...])  # Your index tuples as a tensor\n",
    "# Create the dataset and data loader\n",
    "npair_dataset = MultiPosNegDataset(index_samples)\n",
    "data_loader = DataLoader(npair_dataset, batch_size=batch_size, shuffle=True)\n",
    "\n",
    "losses = []\n",
    "REGULARIZATION_WEIGHT = 1\n",
    "# Training loop with batching\n",
    "for epoch in range(epochs):\n",
    "    total_loss = 0\n",
    "    # normalise the embeddings to prevent degenerate solution\n",
    "    embeddings = normalize_embeddings(embeddings)\n",
    "\n",
    "    for i, (anchor_idx, positive_idx, negative_indices) in enumerate(data_loader):\n",
    "\n",
    "        # Get the embeddings for anchor, positive, and negative\n",
    "        anchor_embeddings = embeddings(anchor_idx) # shape: (batch_size, embedding_dim)\n",
    "        positive_embeddings = embeddings(positive_idx) # shape: (batch_size, num_pos_samples embedding_dim)\n",
    "        negative_embeddings = embeddings(negative_indices) # shape: (batch_size, num_neg_samples, embedding_dim)\n",
    "\n",
    "        # Compute the loss\n",
    "        loss = experimental_loss(anchor_embeddings, positive_embeddings, negative_embeddings)\n",
    "        regularization_loss = REGULARIZATION_WEIGHT * torch.square(embeddings.weight.norm(dim=1) - 1).sum()\n",
    "        loss = loss + regularization_loss\n",
    "        total_loss += loss.item()\n",
    "        losses.append((loss.item(), regularization_loss.item()))\n",
    "\n",
    "        # Backward pass and optimize\n",
    "        optimizer.zero_grad()\n",
    "        loss.backward()\n",
    "        optimizer.step()\n",
    "\n",
    "    if (epoch % 1 == 0) | (epoch==epochs-1) | (epoch==0):\n",
    "        print(f'Epoch [{epoch+1}/{epochs}], Loss: {total_loss/len(data_loader)}')\n",
    "\n",
    "embeddings = normalize_embeddings(embeddings)"
   ]
  },
  {
   "cell_type": "code",
   "execution_count": 14,
   "metadata": {},
   "outputs": [
    {
     "data": {
      "application/vnd.plotly.v1+json": {
       "config": {
        "plotlyServerURL": "https://plot.ly"
       },
       "data": [
        {
         "hovertemplate": "variable=0<br>index=%{x}<br>value=%{y}<extra></extra>",
         "legendgroup": "0",
         "marker": {
          "color": "#636efa",
          "symbol": "circle"
         },
         "mode": "markers",
         "name": "0",
         "orientation": "v",
         "showlegend": true,
         "type": "scatter",
         "x": [
          0,
          1,
          2,
          3,
          4,
          5,
          6,
          7,
          8,
          9,
          10,
          11,
          12,
          13,
          14,
          15,
          16,
          17,
          18,
          19,
          20,
          21,
          22,
          23,
          24,
          25,
          26,
          27,
          28,
          29,
          30,
          31,
          32,
          33,
          34,
          35,
          36,
          37,
          38,
          39,
          40,
          41,
          42,
          43,
          44,
          45,
          46,
          47,
          48,
          49,
          50,
          51,
          52,
          53,
          54,
          55,
          56,
          57,
          58,
          59,
          60,
          61,
          62,
          63,
          64,
          65,
          66,
          67,
          68,
          69,
          70,
          71,
          72,
          73,
          74,
          75,
          76,
          77,
          78,
          79,
          80,
          81,
          82,
          83,
          84,
          85,
          86,
          87,
          88,
          89,
          90,
          91,
          92,
          93,
          94,
          95,
          96,
          97,
          98,
          99,
          100,
          101,
          102,
          103,
          104,
          105,
          106,
          107,
          108,
          109,
          110,
          111,
          112,
          113,
          114,
          115,
          116,
          117,
          118,
          119,
          120,
          121,
          122,
          123,
          124,
          125,
          126,
          127,
          128,
          129,
          130,
          131,
          132,
          133,
          134,
          135,
          136,
          137,
          138,
          139,
          140,
          141,
          142,
          143,
          144,
          145,
          146,
          147,
          148,
          149,
          150,
          151,
          152,
          153,
          154,
          155,
          156,
          157,
          158,
          159,
          160,
          161,
          162,
          163,
          164,
          165,
          166,
          167,
          168,
          169,
          170,
          171,
          172,
          173,
          174,
          175,
          176,
          177,
          178,
          179,
          180,
          181,
          182,
          183,
          184,
          185,
          186,
          187,
          188,
          189,
          190,
          191,
          192,
          193,
          194,
          195,
          196,
          197,
          198,
          199,
          200,
          201,
          202,
          203,
          204,
          205,
          206,
          207,
          208,
          209,
          210,
          211,
          212,
          213,
          214,
          215,
          216,
          217,
          218,
          219,
          220,
          221,
          222,
          223,
          224,
          225,
          226,
          227,
          228,
          229,
          230,
          231,
          232,
          233,
          234,
          235,
          236,
          237,
          238,
          239,
          240,
          241,
          242,
          243,
          244,
          245,
          246,
          247,
          248,
          249,
          250,
          251,
          252,
          253,
          254,
          255,
          256,
          257,
          258,
          259,
          260,
          261,
          262,
          263,
          264,
          265,
          266,
          267,
          268,
          269,
          270,
          271,
          272,
          273,
          274,
          275,
          276,
          277,
          278,
          279,
          280,
          281,
          282,
          283,
          284,
          285,
          286,
          287,
          288,
          289,
          290,
          291,
          292,
          293,
          294,
          295,
          296,
          297,
          298,
          299,
          300,
          301,
          302,
          303,
          304,
          305,
          306,
          307,
          308,
          309,
          310,
          311,
          312,
          313,
          314,
          315,
          316,
          317,
          318,
          319,
          320,
          321,
          322,
          323,
          324,
          325,
          326,
          327,
          328,
          329,
          330,
          331,
          332,
          333,
          334,
          335,
          336,
          337,
          338,
          339,
          340,
          341,
          342,
          343,
          344,
          345,
          346,
          347,
          348,
          349,
          350,
          351,
          352,
          353,
          354,
          355,
          356,
          357,
          358,
          359,
          360,
          361,
          362,
          363,
          364,
          365,
          366,
          367,
          368,
          369,
          370,
          371,
          372,
          373,
          374,
          375,
          376,
          377,
          378,
          379,
          380,
          381,
          382,
          383,
          384,
          385,
          386,
          387,
          388,
          389,
          390,
          391,
          392,
          393,
          394,
          395,
          396,
          397,
          398,
          399,
          400,
          401,
          402,
          403,
          404,
          405,
          406,
          407,
          408,
          409,
          410,
          411,
          412,
          413,
          414,
          415,
          416,
          417,
          418,
          419,
          420,
          421,
          422,
          423,
          424,
          425,
          426,
          427,
          428,
          429,
          430,
          431,
          432,
          433,
          434,
          435,
          436,
          437,
          438,
          439,
          440,
          441,
          442,
          443,
          444,
          445,
          446,
          447,
          448,
          449,
          450,
          451,
          452,
          453,
          454,
          455,
          456,
          457,
          458,
          459,
          460,
          461,
          462,
          463,
          464,
          465,
          466,
          467,
          468,
          469,
          470,
          471,
          472,
          473,
          474,
          475,
          476,
          477,
          478,
          479
         ],
         "xaxis": "x",
         "y": [
          4.163429260253906,
          4.166129112243652,
          4.165719509124756,
          4.164250373840332,
          4.167149543762207,
          4.158025741577148,
          4.164629936218262,
          4.161619186401367,
          4.163657188415527,
          4.1604323387146,
          4.159411907196045,
          4.156290531158447,
          4.159394264221191,
          4.156249523162842,
          4.156580924987793,
          4.151211738586426,
          4.153962135314941,
          4.156543731689453,
          4.152205467224121,
          4.1531243324279785,
          4.15868616104126,
          4.152403831481934,
          4.147363185882568,
          4.150848388671875,
          4.150381565093994,
          4.146737575531006,
          4.149784564971924,
          4.145665645599365,
          4.142380714416504,
          4.140355587005615,
          4.147725582122803,
          4.139088153839111,
          4.142087459564209,
          4.142933368682861,
          4.138308525085449,
          4.135189056396484,
          4.136329650878906,
          4.134644985198975,
          4.135848522186279,
          4.135354518890381,
          4.12911319732666,
          4.125326633453369,
          4.126613616943359,
          4.122879505157471,
          4.125687599182129,
          4.1245903968811035,
          4.1215925216674805,
          4.121099472045898,
          4.119637489318848,
          4.114387035369873,
          4.11637544631958,
          4.115736484527588,
          4.111477375030518,
          4.112328052520752,
          4.106713771820068,
          4.107928276062012,
          4.1026740074157715,
          4.103323936462402,
          4.097731113433838,
          4.0978827476501465,
          4.093317031860352,
          4.094099521636963,
          4.085565567016602,
          4.0865702629089355,
          4.0863823890686035,
          4.081121444702148,
          4.079713344573975,
          4.077296257019043,
          4.078713417053223,
          4.080602169036865,
          4.0729851722717285,
          4.0708394050598145,
          4.067877292633057,
          4.060811519622803,
          4.059770584106445,
          4.056919097900391,
          4.05062198638916,
          4.051365375518799,
          4.0453782081604,
          4.043524265289307,
          4.040780544281006,
          4.038126468658447,
          4.034430503845215,
          4.025986671447754,
          4.0237956047058105,
          4.015477657318115,
          4.016592502593994,
          4.01754903793335,
          4.0113348960876465,
          4.003133296966553,
          3.999650716781616,
          3.9880282878875732,
          3.9981398582458496,
          3.9903881549835205,
          3.986384153366089,
          3.978156566619873,
          3.9759578704833984,
          3.975426197052002,
          3.968846559524536,
          3.9629881381988525,
          3.96042537689209,
          3.9626646041870117,
          3.956730365753174,
          3.9425175189971924,
          3.942795991897583,
          3.9308412075042725,
          3.9274940490722656,
          3.923814535140991,
          3.9224367141723633,
          3.91721773147583,
          3.911470651626587,
          3.8995041847229004,
          3.8984222412109375,
          3.8924400806427,
          3.8848540782928467,
          3.884460687637329,
          3.8692939281463623,
          3.8694193363189697,
          3.865463972091675,
          3.8649656772613525,
          3.85550856590271,
          3.8475351333618164,
          3.842547655105591,
          3.834632635116577,
          3.8372676372528076,
          3.8286144733428955,
          3.8209283351898193,
          3.8185207843780518,
          3.8108086585998535,
          3.8065078258514404,
          3.7925021648406982,
          3.7896194458007812,
          3.7749991416931152,
          3.78574538230896,
          3.7786617279052734,
          3.773141384124756,
          3.751547336578369,
          3.7559988498687744,
          3.7502636909484863,
          3.7468671798706055,
          3.741556167602539,
          3.723423480987549,
          3.709956169128418,
          3.712003707885742,
          3.7175066471099854,
          3.7085554599761963,
          3.700136184692383,
          3.686547040939331,
          3.682445764541626,
          3.6755619049072266,
          3.6713614463806152,
          3.667316198348999,
          3.653687000274658,
          3.6584091186523438,
          3.641728639602661,
          3.6423568725585938,
          3.6367549896240234,
          3.6159660816192627,
          3.620873212814331,
          3.6222474575042725,
          3.6186814308166504,
          3.603654146194458,
          3.5855038166046143,
          3.584677219390869,
          3.5822606086730957,
          3.571143627166748,
          3.5756101608276367,
          3.569413185119629,
          3.5633692741394043,
          3.565190553665161,
          3.5442304611206055,
          3.5459043979644775,
          3.533492088317871,
          3.5364503860473633,
          3.5164737701416016,
          3.5097198486328125,
          3.504601001739502,
          3.4977242946624756,
          3.4973652362823486,
          3.4949886798858643,
          3.484410047531128,
          3.4848968982696533,
          3.483110189437866,
          3.4658727645874023,
          3.4523110389709473,
          3.4456136226654053,
          3.4465126991271973,
          3.4441068172454834,
          3.4226574897766113,
          3.4164199829101562,
          3.433074712753296,
          3.3787600994110107,
          3.4130609035491943,
          3.4171693325042725,
          3.3912155628204346,
          3.3847010135650635,
          3.377896785736084,
          3.384767532348633,
          3.368508815765381,
          3.361571788787842,
          3.3736538887023926,
          3.3564093112945557,
          3.353029489517212,
          3.3418729305267334,
          3.3336098194122314,
          3.331718683242798,
          3.334329843521118,
          3.3325579166412354,
          3.3472847938537598,
          3.3103084564208984,
          3.3181862831115723,
          3.299747943878174,
          3.2972209453582764,
          3.302238702774048,
          3.290912389755249,
          3.29221773147583,
          3.262528657913208,
          3.277106523513794,
          3.2669789791107178,
          3.273289918899536,
          3.261162519454956,
          3.260042905807495,
          3.264328718185425,
          3.2593917846679688,
          3.260923147201538,
          3.242607355117798,
          3.24067759513855,
          3.2409591674804688,
          3.2291219234466553,
          3.233539581298828,
          3.2117459774017334,
          3.1997885704040527,
          3.1947250366210938,
          3.188633680343628,
          3.1858856678009033,
          3.1962673664093018,
          3.182628631591797,
          3.1940572261810303,
          3.180983304977417,
          3.1850671768188477,
          3.1724612712860107,
          3.161916494369507,
          3.1608290672302246,
          3.168855905532837,
          3.1431808471679688,
          3.1449458599090576,
          3.1314051151275635,
          3.14314341545105,
          3.1337027549743652,
          3.136624813079834,
          3.127394914627075,
          3.120419502258301,
          3.0979037284851074,
          3.1114954948425293,
          3.113708972930908,
          3.119194746017456,
          3.1136341094970703,
          3.1001524925231934,
          3.1009185314178467,
          3.1011738777160645,
          3.1124870777130127,
          3.083900213241577,
          3.0851781368255615,
          3.057706832885742,
          3.0843656063079834,
          3.070740222930908,
          3.0643773078918457,
          3.0682573318481445,
          3.052009105682373,
          3.0640056133270264,
          3.0751185417175293,
          3.064594030380249,
          3.0591671466827393,
          3.0398640632629395,
          3.0398685932159424,
          3.040741205215454,
          3.0375797748565674,
          3.0380210876464844,
          3.0181727409362793,
          3.026418447494507,
          3.0202083587646484,
          3.0181849002838135,
          3.0071215629577637,
          3.0207674503326416,
          3.007554531097412,
          3.0263783931732178,
          3.0027058124542236,
          2.998262405395508,
          2.9972341060638428,
          3.0106191635131836,
          2.9949381351470947,
          2.9879441261291504,
          2.972355842590332,
          2.976677417755127,
          2.9828858375549316,
          2.9787042140960693,
          2.974586248397827,
          2.987856388092041,
          2.985139846801758,
          2.9655044078826904,
          2.9827253818511963,
          2.946126937866211,
          2.967012882232666,
          2.954143762588501,
          2.954113721847534,
          2.9388372898101807,
          2.958848476409912,
          2.9543659687042236,
          2.936389446258545,
          2.9487650394439697,
          2.933654546737671,
          2.9388179779052734,
          2.937535524368286,
          2.9297962188720703,
          2.9545929431915283,
          2.931368589401245,
          2.9242610931396484,
          2.938173532485962,
          2.9293720722198486,
          2.9017632007598877,
          2.9058029651641846,
          2.9388747215270996,
          2.8939130306243896,
          2.905768632888794,
          2.911479949951172,
          2.9088518619537354,
          2.918689012527466,
          2.8862061500549316,
          2.9127767086029053,
          2.90403151512146,
          2.8854808807373047,
          2.8858861923217773,
          2.9056482315063477,
          2.908226490020752,
          2.8885154724121094,
          2.8438892364501953,
          2.9018661975860596,
          2.9067494869232178,
          2.879927158355713,
          2.8877501487731934,
          2.8879778385162354,
          2.8550493717193604,
          2.876070737838745,
          2.923206329345703,
          2.8792014122009277,
          2.8785393238067627,
          2.8547122478485107,
          2.887221097946167,
          2.862975835800171,
          2.8926303386688232,
          2.8501927852630615,
          2.8534529209136963,
          2.858189821243286,
          2.8511266708374023,
          2.8548498153686523,
          2.8352715969085693,
          2.857912063598633,
          2.871877908706665,
          2.8247427940368652,
          2.8296520709991455,
          2.851719379425049,
          2.8041369915008545,
          2.829505205154419,
          2.8372950553894043,
          2.8479676246643066,
          2.8463916778564453,
          2.8192248344421387,
          2.820598602294922,
          2.805694580078125,
          2.8050923347473145,
          2.806743621826172,
          2.81510066986084,
          2.8160929679870605,
          2.835989236831665,
          2.8258657455444336,
          2.831749439239502,
          2.832221746444702,
          2.808253526687622,
          2.8291985988616943,
          2.817361831665039,
          2.8274178504943848,
          2.81959867477417,
          2.799698829650879,
          2.7985446453094482,
          2.807401657104492,
          2.8051161766052246,
          2.804780960083008,
          2.80104660987854,
          2.7985763549804688,
          2.7948362827301025,
          2.823307752609253,
          2.8306407928466797,
          2.8115787506103516,
          2.820605993270874,
          2.804818630218506,
          2.7984652519226074,
          2.80428409576416,
          2.7991647720336914,
          2.801500082015991,
          2.8039989471435547,
          2.793208122253418,
          2.7834880352020264,
          2.798598289489746,
          2.7694976329803467,
          2.814751386642456,
          2.791242837905884,
          2.7889418601989746,
          2.776580572128296,
          2.8063480854034424,
          2.772857904434204,
          2.763857364654541,
          2.77872371673584,
          2.7546303272247314,
          2.7799227237701416,
          2.7869904041290283,
          2.75164532661438,
          2.7561631202697754,
          2.7452518939971924,
          2.7714147567749023,
          2.769674301147461,
          2.759883165359497,
          2.808779001235962,
          2.7567179203033447,
          2.775045394897461,
          2.764138698577881,
          2.7599165439605713,
          2.7319490909576416,
          2.762869358062744,
          2.737787961959839,
          2.768275260925293,
          2.752654790878296,
          2.706700325012207,
          2.7723655700683594,
          2.76741886138916,
          2.772329330444336,
          2.7837061882019043,
          2.738837718963623,
          2.7478103637695312,
          2.7535507678985596,
          2.7321102619171143,
          2.7775774002075195,
          2.755004405975342,
          2.755565643310547,
          2.75441312789917,
          2.773707628250122,
          2.755453586578369,
          2.7298829555511475,
          2.7692654132843018,
          2.727794885635376,
          2.757300853729248,
          2.7463207244873047,
          2.739119291305542,
          2.736020088195801,
          2.728740930557251,
          2.7207133769989014,
          2.739846706390381,
          2.737722158432007,
          2.7312357425689697,
          2.732950448989868,
          2.7638649940490723,
          2.742727279663086,
          2.7394020557403564,
          2.7132434844970703,
          2.7462754249572754,
          2.7209386825561523,
          2.7242140769958496,
          2.7389039993286133,
          2.7115352153778076,
          2.7382168769836426,
          2.714383363723755,
          2.7368085384368896,
          2.7294163703918457,
          2.70161509513855,
          2.724454402923584,
          2.7215869426727295,
          2.7176218032836914,
          2.75740122795105,
          2.7293026447296143,
          2.7223458290100098,
          2.760096549987793
         ],
         "yaxis": "y"
        }
       ],
       "layout": {
        "legend": {
         "title": {
          "text": "variable"
         },
         "tracegroupgap": 0
        },
        "margin": {
         "t": 60
        },
        "template": {
         "data": {
          "bar": [
           {
            "error_x": {
             "color": "#2a3f5f"
            },
            "error_y": {
             "color": "#2a3f5f"
            },
            "marker": {
             "line": {
              "color": "#E5ECF6",
              "width": 0.5
             },
             "pattern": {
              "fillmode": "overlay",
              "size": 10,
              "solidity": 0.2
             }
            },
            "type": "bar"
           }
          ],
          "barpolar": [
           {
            "marker": {
             "line": {
              "color": "#E5ECF6",
              "width": 0.5
             },
             "pattern": {
              "fillmode": "overlay",
              "size": 10,
              "solidity": 0.2
             }
            },
            "type": "barpolar"
           }
          ],
          "carpet": [
           {
            "aaxis": {
             "endlinecolor": "#2a3f5f",
             "gridcolor": "white",
             "linecolor": "white",
             "minorgridcolor": "white",
             "startlinecolor": "#2a3f5f"
            },
            "baxis": {
             "endlinecolor": "#2a3f5f",
             "gridcolor": "white",
             "linecolor": "white",
             "minorgridcolor": "white",
             "startlinecolor": "#2a3f5f"
            },
            "type": "carpet"
           }
          ],
          "choropleth": [
           {
            "colorbar": {
             "outlinewidth": 0,
             "ticks": ""
            },
            "type": "choropleth"
           }
          ],
          "contour": [
           {
            "colorbar": {
             "outlinewidth": 0,
             "ticks": ""
            },
            "colorscale": [
             [
              0,
              "#0d0887"
             ],
             [
              0.1111111111111111,
              "#46039f"
             ],
             [
              0.2222222222222222,
              "#7201a8"
             ],
             [
              0.3333333333333333,
              "#9c179e"
             ],
             [
              0.4444444444444444,
              "#bd3786"
             ],
             [
              0.5555555555555556,
              "#d8576b"
             ],
             [
              0.6666666666666666,
              "#ed7953"
             ],
             [
              0.7777777777777778,
              "#fb9f3a"
             ],
             [
              0.8888888888888888,
              "#fdca26"
             ],
             [
              1,
              "#f0f921"
             ]
            ],
            "type": "contour"
           }
          ],
          "contourcarpet": [
           {
            "colorbar": {
             "outlinewidth": 0,
             "ticks": ""
            },
            "type": "contourcarpet"
           }
          ],
          "heatmap": [
           {
            "colorbar": {
             "outlinewidth": 0,
             "ticks": ""
            },
            "colorscale": [
             [
              0,
              "#0d0887"
             ],
             [
              0.1111111111111111,
              "#46039f"
             ],
             [
              0.2222222222222222,
              "#7201a8"
             ],
             [
              0.3333333333333333,
              "#9c179e"
             ],
             [
              0.4444444444444444,
              "#bd3786"
             ],
             [
              0.5555555555555556,
              "#d8576b"
             ],
             [
              0.6666666666666666,
              "#ed7953"
             ],
             [
              0.7777777777777778,
              "#fb9f3a"
             ],
             [
              0.8888888888888888,
              "#fdca26"
             ],
             [
              1,
              "#f0f921"
             ]
            ],
            "type": "heatmap"
           }
          ],
          "heatmapgl": [
           {
            "colorbar": {
             "outlinewidth": 0,
             "ticks": ""
            },
            "colorscale": [
             [
              0,
              "#0d0887"
             ],
             [
              0.1111111111111111,
              "#46039f"
             ],
             [
              0.2222222222222222,
              "#7201a8"
             ],
             [
              0.3333333333333333,
              "#9c179e"
             ],
             [
              0.4444444444444444,
              "#bd3786"
             ],
             [
              0.5555555555555556,
              "#d8576b"
             ],
             [
              0.6666666666666666,
              "#ed7953"
             ],
             [
              0.7777777777777778,
              "#fb9f3a"
             ],
             [
              0.8888888888888888,
              "#fdca26"
             ],
             [
              1,
              "#f0f921"
             ]
            ],
            "type": "heatmapgl"
           }
          ],
          "histogram": [
           {
            "marker": {
             "pattern": {
              "fillmode": "overlay",
              "size": 10,
              "solidity": 0.2
             }
            },
            "type": "histogram"
           }
          ],
          "histogram2d": [
           {
            "colorbar": {
             "outlinewidth": 0,
             "ticks": ""
            },
            "colorscale": [
             [
              0,
              "#0d0887"
             ],
             [
              0.1111111111111111,
              "#46039f"
             ],
             [
              0.2222222222222222,
              "#7201a8"
             ],
             [
              0.3333333333333333,
              "#9c179e"
             ],
             [
              0.4444444444444444,
              "#bd3786"
             ],
             [
              0.5555555555555556,
              "#d8576b"
             ],
             [
              0.6666666666666666,
              "#ed7953"
             ],
             [
              0.7777777777777778,
              "#fb9f3a"
             ],
             [
              0.8888888888888888,
              "#fdca26"
             ],
             [
              1,
              "#f0f921"
             ]
            ],
            "type": "histogram2d"
           }
          ],
          "histogram2dcontour": [
           {
            "colorbar": {
             "outlinewidth": 0,
             "ticks": ""
            },
            "colorscale": [
             [
              0,
              "#0d0887"
             ],
             [
              0.1111111111111111,
              "#46039f"
             ],
             [
              0.2222222222222222,
              "#7201a8"
             ],
             [
              0.3333333333333333,
              "#9c179e"
             ],
             [
              0.4444444444444444,
              "#bd3786"
             ],
             [
              0.5555555555555556,
              "#d8576b"
             ],
             [
              0.6666666666666666,
              "#ed7953"
             ],
             [
              0.7777777777777778,
              "#fb9f3a"
             ],
             [
              0.8888888888888888,
              "#fdca26"
             ],
             [
              1,
              "#f0f921"
             ]
            ],
            "type": "histogram2dcontour"
           }
          ],
          "mesh3d": [
           {
            "colorbar": {
             "outlinewidth": 0,
             "ticks": ""
            },
            "type": "mesh3d"
           }
          ],
          "parcoords": [
           {
            "line": {
             "colorbar": {
              "outlinewidth": 0,
              "ticks": ""
             }
            },
            "type": "parcoords"
           }
          ],
          "pie": [
           {
            "automargin": true,
            "type": "pie"
           }
          ],
          "scatter": [
           {
            "fillpattern": {
             "fillmode": "overlay",
             "size": 10,
             "solidity": 0.2
            },
            "type": "scatter"
           }
          ],
          "scatter3d": [
           {
            "line": {
             "colorbar": {
              "outlinewidth": 0,
              "ticks": ""
             }
            },
            "marker": {
             "colorbar": {
              "outlinewidth": 0,
              "ticks": ""
             }
            },
            "type": "scatter3d"
           }
          ],
          "scattercarpet": [
           {
            "marker": {
             "colorbar": {
              "outlinewidth": 0,
              "ticks": ""
             }
            },
            "type": "scattercarpet"
           }
          ],
          "scattergeo": [
           {
            "marker": {
             "colorbar": {
              "outlinewidth": 0,
              "ticks": ""
             }
            },
            "type": "scattergeo"
           }
          ],
          "scattergl": [
           {
            "marker": {
             "colorbar": {
              "outlinewidth": 0,
              "ticks": ""
             }
            },
            "type": "scattergl"
           }
          ],
          "scattermapbox": [
           {
            "marker": {
             "colorbar": {
              "outlinewidth": 0,
              "ticks": ""
             }
            },
            "type": "scattermapbox"
           }
          ],
          "scatterpolar": [
           {
            "marker": {
             "colorbar": {
              "outlinewidth": 0,
              "ticks": ""
             }
            },
            "type": "scatterpolar"
           }
          ],
          "scatterpolargl": [
           {
            "marker": {
             "colorbar": {
              "outlinewidth": 0,
              "ticks": ""
             }
            },
            "type": "scatterpolargl"
           }
          ],
          "scatterternary": [
           {
            "marker": {
             "colorbar": {
              "outlinewidth": 0,
              "ticks": ""
             }
            },
            "type": "scatterternary"
           }
          ],
          "surface": [
           {
            "colorbar": {
             "outlinewidth": 0,
             "ticks": ""
            },
            "colorscale": [
             [
              0,
              "#0d0887"
             ],
             [
              0.1111111111111111,
              "#46039f"
             ],
             [
              0.2222222222222222,
              "#7201a8"
             ],
             [
              0.3333333333333333,
              "#9c179e"
             ],
             [
              0.4444444444444444,
              "#bd3786"
             ],
             [
              0.5555555555555556,
              "#d8576b"
             ],
             [
              0.6666666666666666,
              "#ed7953"
             ],
             [
              0.7777777777777778,
              "#fb9f3a"
             ],
             [
              0.8888888888888888,
              "#fdca26"
             ],
             [
              1,
              "#f0f921"
             ]
            ],
            "type": "surface"
           }
          ],
          "table": [
           {
            "cells": {
             "fill": {
              "color": "#EBF0F8"
             },
             "line": {
              "color": "white"
             }
            },
            "header": {
             "fill": {
              "color": "#C8D4E3"
             },
             "line": {
              "color": "white"
             }
            },
            "type": "table"
           }
          ]
         },
         "layout": {
          "annotationdefaults": {
           "arrowcolor": "#2a3f5f",
           "arrowhead": 0,
           "arrowwidth": 1
          },
          "autotypenumbers": "strict",
          "coloraxis": {
           "colorbar": {
            "outlinewidth": 0,
            "ticks": ""
           }
          },
          "colorscale": {
           "diverging": [
            [
             0,
             "#8e0152"
            ],
            [
             0.1,
             "#c51b7d"
            ],
            [
             0.2,
             "#de77ae"
            ],
            [
             0.3,
             "#f1b6da"
            ],
            [
             0.4,
             "#fde0ef"
            ],
            [
             0.5,
             "#f7f7f7"
            ],
            [
             0.6,
             "#e6f5d0"
            ],
            [
             0.7,
             "#b8e186"
            ],
            [
             0.8,
             "#7fbc41"
            ],
            [
             0.9,
             "#4d9221"
            ],
            [
             1,
             "#276419"
            ]
           ],
           "sequential": [
            [
             0,
             "#0d0887"
            ],
            [
             0.1111111111111111,
             "#46039f"
            ],
            [
             0.2222222222222222,
             "#7201a8"
            ],
            [
             0.3333333333333333,
             "#9c179e"
            ],
            [
             0.4444444444444444,
             "#bd3786"
            ],
            [
             0.5555555555555556,
             "#d8576b"
            ],
            [
             0.6666666666666666,
             "#ed7953"
            ],
            [
             0.7777777777777778,
             "#fb9f3a"
            ],
            [
             0.8888888888888888,
             "#fdca26"
            ],
            [
             1,
             "#f0f921"
            ]
           ],
           "sequentialminus": [
            [
             0,
             "#0d0887"
            ],
            [
             0.1111111111111111,
             "#46039f"
            ],
            [
             0.2222222222222222,
             "#7201a8"
            ],
            [
             0.3333333333333333,
             "#9c179e"
            ],
            [
             0.4444444444444444,
             "#bd3786"
            ],
            [
             0.5555555555555556,
             "#d8576b"
            ],
            [
             0.6666666666666666,
             "#ed7953"
            ],
            [
             0.7777777777777778,
             "#fb9f3a"
            ],
            [
             0.8888888888888888,
             "#fdca26"
            ],
            [
             1,
             "#f0f921"
            ]
           ]
          },
          "colorway": [
           "#636efa",
           "#EF553B",
           "#00cc96",
           "#ab63fa",
           "#FFA15A",
           "#19d3f3",
           "#FF6692",
           "#B6E880",
           "#FF97FF",
           "#FECB52"
          ],
          "font": {
           "color": "#2a3f5f"
          },
          "geo": {
           "bgcolor": "white",
           "lakecolor": "white",
           "landcolor": "#E5ECF6",
           "showlakes": true,
           "showland": true,
           "subunitcolor": "white"
          },
          "hoverlabel": {
           "align": "left"
          },
          "hovermode": "closest",
          "mapbox": {
           "style": "light"
          },
          "paper_bgcolor": "white",
          "plot_bgcolor": "#E5ECF6",
          "polar": {
           "angularaxis": {
            "gridcolor": "white",
            "linecolor": "white",
            "ticks": ""
           },
           "bgcolor": "#E5ECF6",
           "radialaxis": {
            "gridcolor": "white",
            "linecolor": "white",
            "ticks": ""
           }
          },
          "scene": {
           "xaxis": {
            "backgroundcolor": "#E5ECF6",
            "gridcolor": "white",
            "gridwidth": 2,
            "linecolor": "white",
            "showbackground": true,
            "ticks": "",
            "zerolinecolor": "white"
           },
           "yaxis": {
            "backgroundcolor": "#E5ECF6",
            "gridcolor": "white",
            "gridwidth": 2,
            "linecolor": "white",
            "showbackground": true,
            "ticks": "",
            "zerolinecolor": "white"
           },
           "zaxis": {
            "backgroundcolor": "#E5ECF6",
            "gridcolor": "white",
            "gridwidth": 2,
            "linecolor": "white",
            "showbackground": true,
            "ticks": "",
            "zerolinecolor": "white"
           }
          },
          "shapedefaults": {
           "line": {
            "color": "#2a3f5f"
           }
          },
          "ternary": {
           "aaxis": {
            "gridcolor": "white",
            "linecolor": "white",
            "ticks": ""
           },
           "baxis": {
            "gridcolor": "white",
            "linecolor": "white",
            "ticks": ""
           },
           "bgcolor": "#E5ECF6",
           "caxis": {
            "gridcolor": "white",
            "linecolor": "white",
            "ticks": ""
           }
          },
          "title": {
           "x": 0.05
          },
          "xaxis": {
           "automargin": true,
           "gridcolor": "white",
           "linecolor": "white",
           "ticks": "",
           "title": {
            "standoff": 15
           },
           "zerolinecolor": "white",
           "zerolinewidth": 2
          },
          "yaxis": {
           "automargin": true,
           "gridcolor": "white",
           "linecolor": "white",
           "ticks": "",
           "title": {
            "standoff": 15
           },
           "zerolinecolor": "white",
           "zerolinewidth": 2
          }
         }
        },
        "xaxis": {
         "anchor": "y",
         "domain": [
          0,
          1
         ],
         "title": {
          "text": "index"
         }
        },
        "yaxis": {
         "anchor": "x",
         "domain": [
          0,
          1
         ],
         "title": {
          "text": "value"
         }
        }
       }
      }
     },
     "metadata": {},
     "output_type": "display_data"
    }
   ],
   "source": [
    "import plotly.express as px\n",
    "losses=np.array(losses)\n",
    "px.scatter(losses[:,0])"
   ]
  },
  {
   "cell_type": "code",
   "execution_count": 130,
   "metadata": {},
   "outputs": [
    {
     "data": {
      "application/vnd.plotly.v1+json": {
       "config": {
        "plotlyServerURL": "https://plot.ly"
       },
       "data": [
        {
         "hovertemplate": "variable=0<br>index=%{x}<br>value=%{y}<extra></extra>",
         "legendgroup": "0",
         "marker": {
          "color": "#636efa",
          "symbol": "circle"
         },
         "mode": "markers",
         "name": "0",
         "orientation": "v",
         "showlegend": true,
         "type": "scatter",
         "x": [
          0,
          1,
          2,
          3,
          4,
          5,
          6,
          7,
          8,
          9,
          10,
          11,
          12,
          13,
          14,
          15,
          16,
          17,
          18,
          19,
          20,
          21,
          22,
          23,
          24,
          25,
          26,
          27,
          28,
          29,
          30,
          31,
          32,
          33,
          34,
          35,
          36,
          37,
          38,
          39,
          40,
          41,
          42,
          43,
          44,
          45,
          46,
          47,
          48,
          49,
          50,
          51,
          52,
          53,
          54,
          55,
          56,
          57,
          58,
          59,
          60,
          61,
          62,
          63,
          64,
          65,
          66,
          67,
          68,
          69,
          70,
          71,
          72,
          73,
          74,
          75,
          76,
          77,
          78,
          79,
          80,
          81,
          82,
          83,
          84,
          85,
          86,
          87,
          88,
          89,
          90,
          91,
          92,
          93,
          94,
          95,
          96,
          97,
          98,
          99,
          100,
          101,
          102,
          103,
          104,
          105,
          106,
          107,
          108,
          109,
          110,
          111,
          112,
          113,
          114,
          115,
          116,
          117,
          118,
          119,
          120,
          121,
          122,
          123,
          124,
          125,
          126,
          127,
          128,
          129,
          130,
          131,
          132,
          133,
          134,
          135,
          136,
          137,
          138,
          139,
          140,
          141,
          142,
          143,
          144,
          145,
          146,
          147,
          148,
          149,
          150,
          151,
          152,
          153,
          154,
          155,
          156,
          157,
          158,
          159,
          160,
          161,
          162,
          163,
          164,
          165,
          166,
          167,
          168,
          169,
          170,
          171,
          172,
          173,
          174,
          175,
          176,
          177,
          178,
          179,
          180,
          181,
          182,
          183,
          184,
          185,
          186,
          187,
          188,
          189,
          190,
          191,
          192,
          193,
          194,
          195,
          196,
          197,
          198,
          199,
          200,
          201,
          202,
          203,
          204,
          205,
          206,
          207,
          208,
          209,
          210,
          211,
          212,
          213,
          214,
          215,
          216,
          217,
          218,
          219,
          220,
          221,
          222,
          223,
          224,
          225,
          226,
          227,
          228,
          229,
          230,
          231,
          232,
          233,
          234,
          235,
          236,
          237,
          238,
          239,
          240,
          241,
          242,
          243,
          244,
          245,
          246,
          247,
          248,
          249,
          250,
          251,
          252,
          253,
          254,
          255,
          256,
          257,
          258,
          259,
          260,
          261,
          262,
          263,
          264,
          265,
          266,
          267,
          268,
          269,
          270,
          271,
          272,
          273,
          274,
          275,
          276,
          277,
          278,
          279,
          280,
          281,
          282,
          283,
          284,
          285,
          286,
          287,
          288,
          289,
          290,
          291,
          292,
          293,
          294,
          295,
          296,
          297,
          298,
          299,
          300,
          301,
          302,
          303,
          304,
          305,
          306,
          307,
          308,
          309,
          310,
          311,
          312,
          313,
          314,
          315,
          316,
          317,
          318,
          319,
          320,
          321,
          322,
          323,
          324,
          325,
          326,
          327,
          328,
          329,
          330,
          331,
          332,
          333,
          334,
          335,
          336,
          337,
          338,
          339,
          340,
          341,
          342,
          343,
          344,
          345,
          346,
          347,
          348,
          349,
          350,
          351,
          352,
          353,
          354,
          355,
          356,
          357,
          358,
          359,
          360,
          361,
          362,
          363,
          364,
          365,
          366,
          367,
          368,
          369,
          370,
          371,
          372,
          373,
          374,
          375,
          376,
          377,
          378,
          379,
          380,
          381,
          382,
          383,
          384,
          385,
          386,
          387,
          388,
          389,
          390,
          391,
          392,
          393,
          394,
          395,
          396,
          397,
          398,
          399,
          400,
          401,
          402,
          403,
          404,
          405,
          406,
          407,
          408,
          409,
          410,
          411,
          412,
          413,
          414,
          415,
          416,
          417,
          418,
          419,
          420,
          421,
          422,
          423,
          424,
          425,
          426,
          427,
          428,
          429,
          430,
          431,
          432,
          433,
          434,
          435,
          436,
          437,
          438,
          439,
          440,
          441,
          442,
          443,
          444,
          445,
          446,
          447,
          448,
          449,
          450,
          451,
          452,
          453,
          454,
          455,
          456,
          457,
          458,
          459,
          460,
          461,
          462,
          463,
          464,
          465,
          466,
          467,
          468,
          469,
          470,
          471,
          472,
          473,
          474,
          475,
          476,
          477,
          478,
          479,
          480,
          481,
          482,
          483,
          484,
          485,
          486,
          487,
          488,
          489,
          490,
          491,
          492,
          493,
          494,
          495,
          496,
          497,
          498,
          499,
          500,
          501,
          502,
          503,
          504,
          505,
          506,
          507,
          508,
          509,
          510,
          511,
          512,
          513,
          514,
          515,
          516,
          517,
          518,
          519,
          520,
          521,
          522,
          523,
          524,
          525,
          526,
          527,
          528,
          529,
          530,
          531,
          532,
          533,
          534,
          535,
          536,
          537,
          538,
          539,
          540,
          541,
          542,
          543,
          544,
          545,
          546,
          547,
          548,
          549,
          550,
          551,
          552,
          553,
          554,
          555,
          556,
          557,
          558,
          559,
          560,
          561,
          562,
          563,
          564,
          565,
          566,
          567,
          568,
          569,
          570,
          571,
          572,
          573,
          574,
          575,
          576,
          577,
          578,
          579,
          580,
          581,
          582,
          583,
          584,
          585,
          586,
          587,
          588,
          589,
          590,
          591,
          592,
          593,
          594,
          595,
          596,
          597,
          598,
          599,
          600,
          601,
          602,
          603,
          604,
          605,
          606,
          607,
          608,
          609,
          610,
          611,
          612,
          613,
          614,
          615,
          616,
          617,
          618,
          619,
          620,
          621,
          622,
          623,
          624,
          625,
          626,
          627,
          628,
          629,
          630,
          631,
          632,
          633,
          634,
          635,
          636,
          637,
          638,
          639,
          640,
          641,
          642,
          643,
          644,
          645,
          646,
          647,
          648,
          649,
          650,
          651,
          652,
          653,
          654,
          655,
          656,
          657,
          658,
          659,
          660,
          661,
          662,
          663,
          664,
          665,
          666,
          667,
          668,
          669,
          670,
          671,
          672,
          673,
          674,
          675,
          676,
          677,
          678,
          679,
          680,
          681,
          682,
          683,
          684,
          685,
          686,
          687,
          688,
          689,
          690,
          691,
          692,
          693,
          694,
          695,
          696,
          697,
          698,
          699,
          700,
          701,
          702,
          703,
          704,
          705,
          706,
          707,
          708,
          709,
          710,
          711,
          712,
          713,
          714,
          715,
          716,
          717,
          718,
          719,
          720,
          721,
          722,
          723,
          724,
          725,
          726,
          727,
          728,
          729,
          730,
          731,
          732,
          733,
          734,
          735,
          736,
          737,
          738,
          739,
          740,
          741,
          742,
          743,
          744,
          745,
          746,
          747,
          748,
          749,
          750,
          751,
          752,
          753,
          754,
          755,
          756,
          757,
          758,
          759,
          760,
          761,
          762,
          763,
          764,
          765,
          766,
          767,
          768,
          769,
          770,
          771,
          772,
          773,
          774,
          775,
          776,
          777,
          778,
          779,
          780,
          781,
          782,
          783,
          784,
          785,
          786,
          787,
          788,
          789,
          790,
          791,
          792,
          793,
          794,
          795,
          796,
          797,
          798,
          799,
          800,
          801,
          802,
          803,
          804,
          805,
          806,
          807,
          808,
          809,
          810,
          811,
          812,
          813,
          814,
          815,
          816,
          817,
          818,
          819,
          820,
          821,
          822,
          823,
          824,
          825,
          826,
          827,
          828,
          829,
          830,
          831,
          832,
          833,
          834,
          835,
          836,
          837,
          838,
          839,
          840,
          841,
          842,
          843,
          844,
          845,
          846,
          847,
          848,
          849,
          850,
          851,
          852,
          853,
          854,
          855,
          856,
          857,
          858,
          859,
          860,
          861,
          862,
          863,
          864,
          865,
          866,
          867,
          868,
          869,
          870,
          871,
          872,
          873,
          874,
          875,
          876,
          877,
          878,
          879,
          880,
          881,
          882,
          883,
          884,
          885,
          886,
          887,
          888,
          889,
          890,
          891,
          892,
          893,
          894,
          895,
          896,
          897,
          898,
          899,
          900,
          901,
          902,
          903,
          904,
          905,
          906,
          907,
          908,
          909,
          910,
          911,
          912,
          913,
          914,
          915,
          916,
          917,
          918,
          919,
          920,
          921,
          922,
          923,
          924,
          925,
          926,
          927,
          928,
          929
         ],
         "xaxis": "x",
         "y": [
          1.1226575225009583e-12,
          0.1379367709159851,
          0.10455957800149918,
          0.09324222803115845,
          0.08944252878427505,
          0.07159263640642166,
          0.041474610567092896,
          0.03852316737174988,
          0.05702585726976395,
          0.05296222120523453,
          0.027372265234589577,
          0.01623137667775154,
          0.027744008228182793,
          0.035101279616355896,
          0.02503318153321743,
          0.0134500777348876,
          0.013864526525139809,
          0.018827049061655998,
          0.017847631126642227,
          0.012951472774147987,
          0.010434185154736042,
          0.010351145640015602,
          0.009969285689294338,
          0.0091071967035532,
          0.008304775692522526,
          0.007079845294356346,
          0.005961509887129068,
          0.005870063789188862,
          0.005991608370095491,
          0.00512711564078927,
          0.004078380763530731,
          0.00393577478826046,
          0.003989206627011299,
          0.0033969483338296413,
          0.002783687086775899,
          0.0026846230030059814,
          0.002634341362863779,
          0.0023046336136758327,
          0.002032657153904438,
          0.0019462333293631673,
          0.0017911565955728292,
          0.0015527086798101664,
          0.0013810696545988321,
          0.0013361377641558647,
          0.0012754835188388824,
          0.0010939131025224924,
          0.0009472966194152832,
          0.000922474660910666,
          0.0008872774778865278,
          0.0007945270626805723,
          0.0007559983641840518,
          0.0007466013776138425,
          0.0006381875718943775,
          0.0005362067022360861,
          0.0005206256755627692,
          0.0005590097280219197,
          0.0005431182798929513,
          0.00046377614489756525,
          0.00044690363574773073,
          0.00043152333819307387,
          0.00041231204522773623,
          0.0003861584700644016,
          0.00038479003706015646,
          0.0003972950216848403,
          0.0004015404265373945,
          0.00037628060090355575,
          0.00035072737955488265,
          0.000365014944691211,
          0.00039744877722114325,
          0.0004331837990321219,
          0.0004344632034189999,
          0.00039336486952379346,
          0.0004184505669400096,
          0.00048034454812295735,
          0.00045837913057766855,
          0.0004074194293934852,
          0.0004202059644740075,
          0.0005085665616206825,
          0.0005593369132839143,
          0.0004883467918261886,
          0.000453396060038358,
          0.0005208292277529836,
          0.0006067064823582768,
          0.0005801126244477928,
          0.0006312773912213743,
          0.0006225220859050751,
          0.0006945600034669042,
          0.0007292531663551927,
          0.0006820254493504763,
          0.0006759990355931222,
          0.0007540388614870608,
          0.000836377264931798,
          0.0009026697953231633,
          0.0007722439477220178,
          0.0008358664927072823,
          0.0009152592974714935,
          0.0009265114786103368,
          0.000935251940973103,
          0.0009243879467248917,
          0.0011434194166213274,
          0.0010128028225153685,
          0.000957063224632293,
          0.0011627457570284605,
          0.00122684589587152,
          0.0012769943568855524,
          0.0010876139858737588,
          0.001259319018572569,
          0.0013916738098487258,
          0.0014615082181990147,
          0.001301788492128253,
          0.00139825779478997,
          0.0016840884927660227,
          0.001639439957216382,
          0.0014591652434319258,
          0.0013729124329984188,
          0.0017074979841709137,
          0.0019249008037149906,
          0.001685240538790822,
          0.0014730464899912477,
          0.0017083538696169853,
          0.001762594562023878,
          0.001826901687309146,
          0.001710214070044458,
          0.001938416389748454,
          0.0019300016574561596,
          0.0018642469076439738,
          0.0019533997401595116,
          0.0020075582433491945,
          0.0019527743570506573,
          0.0018272098386660218,
          0.0020175022073090076,
          0.002183173783123493,
          0.0019297038670629263,
          0.001878045964986086,
          0.0020686835050582886,
          0.002124496502801776,
          0.002052689902484417,
          0.0021014101803302765,
          0.0020714125130325556,
          0.002114341827109456,
          0.0021899535786360502,
          0.002310211071744561,
          0.001994882244616747,
          0.0020294608548283577,
          0.002298051957041025,
          0.002551174256950617,
          0.0020009903237223625,
          0.0019684932194650173,
          0.002421447541564703,
          0.0024157632142305374,
          0.0023128266911953688,
          0.002030083443969488,
          0.0024078995920717716,
          0.002460308140143752,
          0.0023370981216430664,
          0.002131038811057806,
          0.0025611952878534794,
          0.002660150872543454,
          0.002269872697070241,
          0.002343615284189582,
          0.0022744741290807724,
          0.002638610079884529,
          0.002391711575910449,
          0.0023493252228945494,
          0.0024449829943478107,
          0.002613033400848508,
          0.0024902108125388622,
          0.0025549065321683884,
          0.002652012510225177,
          0.00260357023216784,
          0.002528267912566662,
          0.0026034978218376637,
          0.00260161142796278,
          0.0026000086218118668,
          0.002712805522605777,
          0.002523471135646105,
          0.0024787085130810738,
          0.0027429694309830666,
          0.0027908827178180218,
          0.002243836410343647,
          0.0024462093133479357,
          0.0027812588959932327,
          0.002626084489747882,
          0.0024867907632142305,
          0.0024743692483752966,
          0.0025029347743839025,
          0.002492474624887109,
          0.002544739516451955,
          0.002666461281478405,
          0.0024737371131777763,
          0.0024236240424215794,
          0.002344540087506175,
          0.0028452519327402115,
          0.002617546357214451,
          0.0022037504240870476,
          0.002583189634606242,
          0.0026154308579862118,
          0.0025787176564335823,
          0.0022607462015002966,
          0.002474655397236347,
          0.002823193557560444,
          0.002533638384193182,
          0.0023419347126036882,
          0.0024484300520271063,
          0.002838506828993559,
          0.0027283472009003162,
          0.002342774299904704,
          0.0022810392547398806,
          0.0025969038251787424,
          0.0028028227388858795,
          0.0026289946399629116,
          0.0022321450524032116,
          0.002443313365802169,
          0.00274459645152092,
          0.002811003942042589,
          0.0023008561693131924,
          0.002261864021420479,
          0.0024748111609369516,
          0.002683711238205433,
          0.0024711836595088243,
          0.002528276527300477,
          0.0024886298924684525,
          0.002791259903460741,
          0.0024603847414255142,
          0.002283141016960144,
          0.0023033188190311193,
          0.0025658721569925547,
          0.002538976026698947,
          0.002305505331605673,
          0.0021831600461155176,
          0.0024435454979538918,
          0.0025962134823203087,
          0.002523268572986126,
          0.0024475974496454,
          0.0021950991358608007,
          0.0027223986107856035,
          0.0024880366399884224,
          0.0026205165777355433,
          0.002380242571234703,
          0.0026631338987499475,
          0.0026294165290892124,
          0.0026222935412079096,
          0.0025479397736489773,
          0.002551694167777896,
          0.0026894258335232735,
          0.0028018257580697536,
          0.002663595834746957,
          0.0026467086281627417,
          0.0024795173667371273,
          0.002717712428420782,
          0.002775233704596758,
          0.0026024479884654284,
          0.002512207720428705,
          0.0026209019124507904,
          0.002928504953160882,
          0.0027456507086753845,
          0.0024923672899603844,
          0.002491800347343087,
          0.0026809240225702524,
          0.0028461299370974302,
          0.00237188464961946,
          0.002569659613072872,
          0.0024799490347504616,
          0.0029167013708502054,
          0.0024575914721935987,
          0.0026719633024185896,
          0.002311504213139415,
          0.002646791748702526,
          0.0025397350545972586,
          0.0026439346838742495,
          0.0025599366053938866,
          0.002649783855304122,
          0.0026312496047466993,
          0.0026848420966416597,
          0.0024708586279302835,
          0.002527628792449832,
          0.0026759060565382242,
          0.0026122136041522026,
          0.002613597782328725,
          0.00254320097155869,
          0.002517323475331068,
          0.0027547806967049837,
          0.002767185214906931,
          0.0026173763908445835,
          0.002538470085710287,
          0.002643259707838297,
          0.0025911997072398663,
          0.002589349402114749,
          0.0027400138787925243,
          0.002644372871145606,
          0.002585433190688491,
          0.002407245570793748,
          0.0028944157529622316,
          0.0026511535979807377,
          0.002561270259320736,
          0.0024595139548182487,
          0.002579235006123781,
          0.00270159263163805,
          0.0024607754312455654,
          0.002480240073055029,
          0.0024287267588078976,
          0.002643186366185546,
          0.0025749970227479935,
          0.0024655817542225122,
          0.0023952911142259836,
          0.0025365352630615234,
          0.002680406905710697,
          0.002441439311951399,
          0.0024268138222396374,
          0.0024634271394461393,
          0.002511420287191868,
          0.0023138164542615414,
          0.0026581764686852694,
          0.0026141712442040443,
          0.002510198624804616,
          0.0022748331539332867,
          0.0024576117284595966,
          0.0026784141082316637,
          0.0025723616126924753,
          0.0023168225307017565,
          0.0021695606410503387,
          0.0024592489935457706,
          0.002774170134216547,
          0.002368626883253455,
          0.0023077838122844696,
          0.0022532420698553324,
          0.0026744503993541002,
          0.0028569153510034084,
          0.0023910440504550934,
          0.0022957369219511747,
          0.0023860090877860785,
          0.002696929732337594,
          0.0027160050813108683,
          0.0022231631446629763,
          0.0023520207032561302,
          0.0024686758406460285,
          0.002575908787548542,
          0.0023896838538348675,
          0.0023247848730534315,
          0.002548654330894351,
          0.0026237526908516884,
          0.002059820806607604,
          0.00226413831114769,
          0.0025751644279807806,
          0.0027905129827558994,
          0.002321122447028756,
          0.0023010214790701866,
          0.002669180277734995,
          0.0026737861335277557,
          0.0024103987962007523,
          0.0023441447410732508,
          0.0025301629211753607,
          0.002861568471416831,
          0.002327243098989129,
          0.0024928958155214787,
          0.0025862290058285,
          0.0025550760328769684,
          0.0025565733667463064,
          0.0023821815848350525,
          0.0025673205964267254,
          0.00253374595195055,
          0.0026076151989400387,
          0.0025101990904659033,
          0.0024713105522096157,
          0.0028213877230882645,
          0.0027462097350507975,
          0.0026028298307210207,
          0.0025378321297466755,
          0.002591865137219429,
          0.002724260091781616,
          0.002455990295857191,
          0.002342464169487357,
          0.002672850852832198,
          0.0026351704727858305,
          0.0025517300236970186,
          0.0022478834725916386,
          0.002522398717701435,
          0.0024861458223313093,
          0.0023863043170422316,
          0.0022364500910043716,
          0.0025672263000160456,
          0.002646101638674736,
          0.00245093647390604,
          0.0023171561770141125,
          0.0023300161119550467,
          0.0025803507305681705,
          0.0024458589032292366,
          0.002409245353192091,
          0.0024780973326414824,
          0.002481229603290558,
          0.002575645688921213,
          0.0025868951342999935,
          0.0026988782919943333,
          0.002392259193584323,
          0.002420898759737611,
          0.0024802391417324543,
          0.002776609966531396,
          0.002690008608624339,
          0.002401357749477029,
          0.002491145860403776,
          0.002750782063230872,
          0.002628248417750001,
          0.0024453126825392246,
          0.002333016600459814,
          0.002965213032439351,
          0.0027419368270784616,
          0.0024099135771393776,
          0.0022078845649957657,
          0.002581336535513401,
          0.0028439213056117296,
          0.0026416443288326263,
          0.0022661390248686075,
          0.00241648661904037,
          0.002777262357994914,
          0.002572496421635151,
          0.002274281345307827,
          0.0023515333887189627,
          0.002792417537420988,
          0.002625918248668313,
          0.0024354734923690557,
          0.002310211770236492,
          0.002659732010215521,
          0.002923734486103058,
          0.0026424166280776262,
          0.0024161036126315594,
          0.0024129413068294525,
          0.0028282783459872007,
          0.0028253598138689995,
          0.0023608263581991196,
          0.00231497036293149,
          0.002603123662993312,
          0.0028652865439653397,
          0.002629972295835614,
          0.0021932204253971577,
          0.0025035059079527855,
          0.0028346662875264883,
          0.002631989773362875,
          0.0021991359535604715,
          0.0025287261232733727,
          0.0027665768284350634,
          0.00256635551340878,
          0.0024831495247781277,
          0.0025228995364159346,
          0.0028430407401174307,
          0.0025371150113642216,
          0.0025549442507326603,
          0.002605713438242674,
          0.0026159060653299093,
          0.0025593191385269165,
          0.002402986166998744,
          0.0023844996467232704,
          0.0025204503908753395,
          0.002481118543073535,
          0.002400133293122053,
          0.0025480312760919333,
          0.002456983318552375,
          0.0024358201771974564,
          0.002340518170967698,
          0.0028237635269761086,
          0.002715936629101634,
          0.002277940046042204,
          0.0022772850934416056,
          0.002552664140239358,
          0.0026988794561475515,
          0.002589330542832613,
          1.3287149158713873e-12,
          0.005010138265788555,
          0.004411198198795319,
          0.0026152199134230614,
          0.0008404299733228981,
          0.003419807180762291,
          0.004773791879415512,
          0.0028859630692750216,
          0.0014293922577053308,
          0.0023863150272518396,
          0.004307525232434273,
          0.00325154815800488,
          0.0018165275687351823,
          0.0021060435101389885,
          0.003682540962472558,
          0.003331564599648118,
          0.0021106547210365534,
          0.0020276904106140137,
          0.003407818730920553,
          0.003237304277718067,
          0.0024057698901742697,
          0.00197489932179451,
          0.002684613922610879,
          0.0031880363821983337,
          0.0024544931948184967,
          0.0022099523339420557,
          0.0024418984539806843,
          0.003263297025114298,
          0.0026549058966338634,
          0.0023760534822940826,
          0.002338320715352893,
          0.0029450797010213137,
          0.00269322725944221,
          0.0027389703318476677,
          0.002462452743202448,
          0.002836650237441063,
          0.0025720230769366026,
          0.0026750294491648674,
          0.0025729441549628973,
          0.002712717978283763,
          0.0026467498391866684,
          0.0026072729378938675,
          0.002655590185895562,
          0.0027215315494686365,
          0.002708220388740301,
          0.0027118721045553684,
          0.0026915932539850473,
          0.00276314839720726,
          0.002638322301208973,
          0.002626113360747695,
          0.002672939095646143,
          0.002601701533421874,
          0.002660804195329547,
          0.002780071459710598,
          0.0026217219419777393,
          0.002490227110683918,
          0.002629761351272464,
          0.002823879010975361,
          0.0026873259339481592,
          0.0025293563958257437,
          0.0025167062412947416,
          0.0026970836333930492,
          0.0029865761753171682,
          0.002541746711358428,
          0.0023763724602758884,
          0.0025792999658733606,
          0.0030223631765693426,
          0.0025596804916858673,
          0.0025987846311181784,
          0.0023772206623107195,
          0.002937678713351488,
          0.0025694486685097218,
          0.0028201646637171507,
          0.002269752323627472,
          0.0026566232554614544,
          0.0027407286688685417,
          0.0028707196470350027,
          0.0024923866149038076,
          0.0023885539267212152,
          0.0026137595996260643,
          0.0028115781024098396,
          0.0026613499503582716,
          0.0022629520390182734,
          0.0026977418456226587,
          0.0027464230079203844,
          0.0026882383972406387,
          0.0021689508575946093,
          0.0024057021364569664,
          0.003008737927302718,
          0.002909081056714058,
          0.00229370198212564,
          0.002459422219544649,
          0.002949036890640855,
          0.002921679522842169,
          0.002267726929858327,
          0.0025236199144273996,
          0.0027072273660451174,
          0.002814946696162224,
          0.0023524914868175983,
          0.002512422390282154,
          0.0025641999673098326,
          0.0028473909478634596,
          0.0026618263218551874,
          0.002380525693297386,
          0.002615228295326233,
          0.0025749446358531713,
          0.0027341661043465137,
          0.0022845177445560694,
          0.002655185293406248,
          0.0027155724819749594,
          0.0027974373660981655,
          0.002294631442055106,
          0.0026742308400571346,
          0.0027624177746474743,
          0.0027958438731729984,
          0.0023173049557954073,
          0.002636025659739971,
          0.002823158400133252,
          0.0026665828190743923,
          0.002333170734345913,
          0.0026175149250775576,
          0.0028739282861351967,
          0.0025535745080560446,
          0.0024538864381611347,
          0.0026109779719263315,
          0.0028079794719815254,
          0.0026902048848569393,
          0.0025905785150825977,
          0.00247014407068491,
          0.002715342678129673,
          0.002689438872039318,
          0.0024909379426389933,
          0.0024024539161473513,
          0.0025630497839301825,
          0.0025320437271147966,
          0.002560226945206523,
          0.0024943752214312553,
          0.002410316141322255,
          0.0025500005576759577,
          0.002540148561820388,
          0.0027250489220023155,
          0.002652251860126853,
          0.0025436715222895145,
          0.0025685755535960197,
          0.002646457636728883,
          0.0026916437782347202,
          0.002777951769530773,
          0.00256163626909256,
          0.002702346071600914,
          0.0025810357183218002,
          0.0027408688329160213,
          0.0027811801992356777,
          0.002659263787791133,
          0.002680629026144743,
          0.0026951045729219913,
          0.002755939494818449,
          0.0027430655900388956,
          0.0027590435929596424,
          0.0026598505210131407,
          0.0024850601330399513,
          0.0028219600208103657,
          0.002672413131222129,
          0.0024960420560091734,
          0.002373353810980916,
          0.002764719072729349,
          0.0028267817106097937,
          0.0027268221601843834,
          0.0023981791455298662,
          0.0026656014379113913,
          0.0025140356738120317,
          0.0025742806028574705,
          0.002569189528003335,
          0.0026166061870753765,
          0.002481278032064438,
          0.0024008627515286207,
          0.0028095999732613564,
          0.002729560947045684,
          0.0026000221259891987,
          0.0023844426032155752,
          0.0027402760460972786,
          0.002729344181716442,
          0.002680819248780608,
          0.00249269837513566,
          0.0025703790597617626,
          0.002648723777383566,
          0.002747995313256979,
          0.0023948296438902617,
          0.002613871591165662,
          0.0026027089916169643,
          0.0026368596591055393,
          0.002498579677194357,
          0.0025649056769907475,
          0.0024922851007431746,
          0.0025316306855529547,
          0.0025909326504915953,
          0.0027865958400070667,
          0.0025925389491021633,
          0.002551683224737644,
          0.0027281553484499454,
          0.002676696516573429,
          0.002645300468429923,
          0.002693123184144497,
          0.0026146718300879,
          0.002660101279616356,
          0.0027271085418760777,
          0.0025789488572627306,
          0.002739406656473875,
          0.0028561940416693687,
          0.0026506574358791113,
          0.002385170664638281,
          0.0024814815260469913,
          0.0029665965121239424,
          0.002764273900538683,
          0.0024535409174859524,
          0.002563589019700885,
          0.002837548963725567,
          0.0029092268086969852,
          0.002414312679320574,
          0.0025202948600053787,
          0.0028159646317362785,
          0.002961119171231985,
          0.0025062442291527987,
          0.0024845132138580084,
          0.002939853584393859,
          0.0028585703112185,
          0.0028083398938179016,
          0.0026792953722178936,
          0.0026937914080917835,
          0.002677274402230978,
          0.0026330528780817986,
          0.0024334178306162357,
          0.0027682464569807053,
          0.0027040301356464624,
          0.00247061881236732,
          0.0024205113295465708,
          0.0027616529259830713,
          0.0028491755947470665,
          0.002519906498491764,
          0.0024824521970003843,
          0.0026498055085539818,
          0.002648655092343688,
          0.0027165766805410385,
          0.0024882578290998936,
          0.002462896052747965,
          0.002544210059568286,
          0.002664645668119192,
          0.002419455908238888,
          0.002510567894205451,
          0.002482254756614566,
          0.002649255096912384,
          0.002367365872487426,
          0.0024499872233718634,
          0.0025093667209148407,
          0.002825405215844512,
          0.002469441154971719,
          0.0023494053166359663,
          0.002302158158272505,
          0.002766001969575882,
          0.00255071884021163,
          0.0023429838474839926,
          0.0022781065199524164,
          0.0028483818750828505,
          0.0027456090319901705,
          0.002533567603677511,
          0.002225056756287813,
          0.0027004017028957605,
          0.0028091382700949907,
          0.002573144156485796,
          0.002469076542183757,
          0.0025544341187924147,
          0.0027040024287998676,
          0.002885587513446808,
          0.002367242705076933,
          0.0027644208166748285,
          0.002761637791991234,
          0.0026917068753391504,
          0.0024672532454133034,
          0.002775728702545166,
          0.0025776331312954426,
          0.002611829899251461,
          0.0026276796124875546,
          0.0027705433312803507,
          0.0025004304479807615,
          0.002645500935614109,
          0.0026671949308365583,
          0.002760792151093483,
          0.002440816955640912,
          0.002733272034674883,
          0.002631522947922349,
          0.0027850796468555927,
          0.002545649651437998,
          0.0026108906604349613,
          0.0026617790572345257,
          0.0026489596348255873,
          0.0025189754087477922,
          0.0025414875708520412,
          0.0027376008220016956,
          0.002833807608112693,
          0.002505925949662924,
          0.0025749257765710354,
          0.0026114373467862606,
          0.0027538121212273836,
          0.0024200354237109423,
          0.0025881577748805285,
          0.0026216269470751286,
          0.002725031925365329,
          0.0024572880938649178,
          0.0026194402016699314,
          0.0025962418876588345,
          0.0027880691923201084,
          0.0026169552002102137,
          0.002485803794115782,
          0.0026532055344432592,
          0.002797214314341545,
          0.002389158820733428,
          0.002430892549455166,
          0.0025501439813524485,
          0.0027555760461837053,
          0.002546965377405286,
          0.0022626048885285854,
          0.0028050425462424755,
          0.002633652649819851,
          0.002576337195932865,
          0.0024735108017921448,
          0.002666056388989091,
          0.0026624880265444517,
          0.0026905338745564222,
          0.0024346911814063787,
          0.0026223266031593084,
          0.0027168176602572203,
          0.0028600727673619986,
          0.0025326251052320004,
          0.0028095594607293606,
          0.0028216640930622816,
          0.00265321577899158,
          0.0023791363928467035,
          0.002539029810577631,
          0.002805867465212941,
          0.0029645555187016726,
          0.0022646752186119556,
          0.0024161245673894882,
          0.0027840868569910526,
          0.0029000116046518087,
          0.0023675570264458656,
          0.0023864260874688625,
          0.0025986728724092245,
          0.0027209168765693903,
          0.00238513620570302,
          0.002549692988395691,
          0.002793117193505168,
          0.0027919947169721127,
          0.0024504319299012423,
          0.0026702601462602615,
          0.0026490306481719017,
          0.0027416134253144264,
          0.0024597044102847576,
          0.0026316677685827017,
          0.0025755204260349274,
          0.0026296107098460197,
          0.0025713471695780754,
          0.00248429412022233,
          0.002523364033550024,
          0.0027538540307432413,
          0.0027841078117489815,
          0.0025946481619030237,
          0.002474321285262704,
          0.002680132631212473,
          0.0027057563420385122,
          0.002428770298138261,
          0.002617039019241929,
          0.0027407489251345396,
          0.0026309306267648935,
          0.0026008454151451588,
          0.0027170409448444843,
          0.002737600589171052,
          0.0027824360877275467,
          0.002706569153815508,
          0.002903750166296959,
          0.002556692808866501,
          0.0027398874517530203,
          0.0027750511653721333,
          0.002854116726666689,
          0.0025830520316958427,
          0.0025935089215636253,
          0.0028942206408828497,
          0.0028269668109714985,
          0.0025012039113789797,
          0.0024212957359850407,
          0.002817700617015362,
          0.002702922560274601,
          0.0025667378213256598,
          0.0024132162798196077,
          0.0024259595666080713,
          0.002617555670440197,
          0.002635526703670621,
          0.002671753289178014,
          0.0023375791497528553,
          0.0026917492505162954,
          0.0025498357135802507,
          0.0027848188765347004,
          0.002406141720712185,
          0.0025945152156054974,
          0.0027846423909068108,
          0.0025195509660989046,
          0.002333294600248337,
          0.002697207033634186,
          0.00289027183316648,
          0.0024159273598343134,
          0.002622909378260374,
          0.0026100315153598785,
          0.0029858301859349012,
          0.0025029287207871675,
          0.002578084822744131,
          0.002607836853712797,
          0.0029335119761526585,
          0.002621513092890382,
          0.002509042154997587,
          0.0022831475362181664,
          0.0028977429028600454,
          0.0027884291484951973,
          0.00252128136344254,
          0.002392695052549243,
          0.0029501072131097317,
          0.0026976231019943953,
          0.0026181438006460667,
          0.0024188957177102566,
          0.0027120099402964115,
          0.0025273810606449842,
          0.0027722276281565428,
          0.0025108596310019493,
          0.0025917827151715755,
          0.0025372765958309174,
          0.0027191860135644674,
          0.002714113797992468,
          0.002705777296796441,
          0.002700488083064556,
          0.002606424270197749,
          0.0024314674083143473,
          0.0028369417414069176,
          0.002656318247318268,
          0.002711731940507889,
          0.002503566909581423,
          0.002631980227306485,
          0.002563226968050003,
          0.0024970679078251123,
          0.0027230645064264536,
          0.002669165376573801,
          0.002631553914397955,
          0.002496961271390319,
          0.002688170410692692,
          0.002516102744266391,
          0.0026080766692757607,
          0.0026168825570493937,
          0.002712249755859375,
          0.002482692478224635,
          0.0025808350183069706,
          0.0027809650637209415,
          0.0029312600381672382,
          0.0023664585314691067,
          0.0024395326618105173,
          0.0028458246961236,
          0.0028304096776992083,
          0.002496901201084256,
          0.00246210815384984,
          0.002672953065484762
         ],
         "yaxis": "y"
        }
       ],
       "layout": {
        "legend": {
         "title": {
          "text": "variable"
         },
         "tracegroupgap": 0
        },
        "margin": {
         "t": 60
        },
        "template": {
         "data": {
          "bar": [
           {
            "error_x": {
             "color": "#2a3f5f"
            },
            "error_y": {
             "color": "#2a3f5f"
            },
            "marker": {
             "line": {
              "color": "#E5ECF6",
              "width": 0.5
             },
             "pattern": {
              "fillmode": "overlay",
              "size": 10,
              "solidity": 0.2
             }
            },
            "type": "bar"
           }
          ],
          "barpolar": [
           {
            "marker": {
             "line": {
              "color": "#E5ECF6",
              "width": 0.5
             },
             "pattern": {
              "fillmode": "overlay",
              "size": 10,
              "solidity": 0.2
             }
            },
            "type": "barpolar"
           }
          ],
          "carpet": [
           {
            "aaxis": {
             "endlinecolor": "#2a3f5f",
             "gridcolor": "white",
             "linecolor": "white",
             "minorgridcolor": "white",
             "startlinecolor": "#2a3f5f"
            },
            "baxis": {
             "endlinecolor": "#2a3f5f",
             "gridcolor": "white",
             "linecolor": "white",
             "minorgridcolor": "white",
             "startlinecolor": "#2a3f5f"
            },
            "type": "carpet"
           }
          ],
          "choropleth": [
           {
            "colorbar": {
             "outlinewidth": 0,
             "ticks": ""
            },
            "type": "choropleth"
           }
          ],
          "contour": [
           {
            "colorbar": {
             "outlinewidth": 0,
             "ticks": ""
            },
            "colorscale": [
             [
              0,
              "#0d0887"
             ],
             [
              0.1111111111111111,
              "#46039f"
             ],
             [
              0.2222222222222222,
              "#7201a8"
             ],
             [
              0.3333333333333333,
              "#9c179e"
             ],
             [
              0.4444444444444444,
              "#bd3786"
             ],
             [
              0.5555555555555556,
              "#d8576b"
             ],
             [
              0.6666666666666666,
              "#ed7953"
             ],
             [
              0.7777777777777778,
              "#fb9f3a"
             ],
             [
              0.8888888888888888,
              "#fdca26"
             ],
             [
              1,
              "#f0f921"
             ]
            ],
            "type": "contour"
           }
          ],
          "contourcarpet": [
           {
            "colorbar": {
             "outlinewidth": 0,
             "ticks": ""
            },
            "type": "contourcarpet"
           }
          ],
          "heatmap": [
           {
            "colorbar": {
             "outlinewidth": 0,
             "ticks": ""
            },
            "colorscale": [
             [
              0,
              "#0d0887"
             ],
             [
              0.1111111111111111,
              "#46039f"
             ],
             [
              0.2222222222222222,
              "#7201a8"
             ],
             [
              0.3333333333333333,
              "#9c179e"
             ],
             [
              0.4444444444444444,
              "#bd3786"
             ],
             [
              0.5555555555555556,
              "#d8576b"
             ],
             [
              0.6666666666666666,
              "#ed7953"
             ],
             [
              0.7777777777777778,
              "#fb9f3a"
             ],
             [
              0.8888888888888888,
              "#fdca26"
             ],
             [
              1,
              "#f0f921"
             ]
            ],
            "type": "heatmap"
           }
          ],
          "heatmapgl": [
           {
            "colorbar": {
             "outlinewidth": 0,
             "ticks": ""
            },
            "colorscale": [
             [
              0,
              "#0d0887"
             ],
             [
              0.1111111111111111,
              "#46039f"
             ],
             [
              0.2222222222222222,
              "#7201a8"
             ],
             [
              0.3333333333333333,
              "#9c179e"
             ],
             [
              0.4444444444444444,
              "#bd3786"
             ],
             [
              0.5555555555555556,
              "#d8576b"
             ],
             [
              0.6666666666666666,
              "#ed7953"
             ],
             [
              0.7777777777777778,
              "#fb9f3a"
             ],
             [
              0.8888888888888888,
              "#fdca26"
             ],
             [
              1,
              "#f0f921"
             ]
            ],
            "type": "heatmapgl"
           }
          ],
          "histogram": [
           {
            "marker": {
             "pattern": {
              "fillmode": "overlay",
              "size": 10,
              "solidity": 0.2
             }
            },
            "type": "histogram"
           }
          ],
          "histogram2d": [
           {
            "colorbar": {
             "outlinewidth": 0,
             "ticks": ""
            },
            "colorscale": [
             [
              0,
              "#0d0887"
             ],
             [
              0.1111111111111111,
              "#46039f"
             ],
             [
              0.2222222222222222,
              "#7201a8"
             ],
             [
              0.3333333333333333,
              "#9c179e"
             ],
             [
              0.4444444444444444,
              "#bd3786"
             ],
             [
              0.5555555555555556,
              "#d8576b"
             ],
             [
              0.6666666666666666,
              "#ed7953"
             ],
             [
              0.7777777777777778,
              "#fb9f3a"
             ],
             [
              0.8888888888888888,
              "#fdca26"
             ],
             [
              1,
              "#f0f921"
             ]
            ],
            "type": "histogram2d"
           }
          ],
          "histogram2dcontour": [
           {
            "colorbar": {
             "outlinewidth": 0,
             "ticks": ""
            },
            "colorscale": [
             [
              0,
              "#0d0887"
             ],
             [
              0.1111111111111111,
              "#46039f"
             ],
             [
              0.2222222222222222,
              "#7201a8"
             ],
             [
              0.3333333333333333,
              "#9c179e"
             ],
             [
              0.4444444444444444,
              "#bd3786"
             ],
             [
              0.5555555555555556,
              "#d8576b"
             ],
             [
              0.6666666666666666,
              "#ed7953"
             ],
             [
              0.7777777777777778,
              "#fb9f3a"
             ],
             [
              0.8888888888888888,
              "#fdca26"
             ],
             [
              1,
              "#f0f921"
             ]
            ],
            "type": "histogram2dcontour"
           }
          ],
          "mesh3d": [
           {
            "colorbar": {
             "outlinewidth": 0,
             "ticks": ""
            },
            "type": "mesh3d"
           }
          ],
          "parcoords": [
           {
            "line": {
             "colorbar": {
              "outlinewidth": 0,
              "ticks": ""
             }
            },
            "type": "parcoords"
           }
          ],
          "pie": [
           {
            "automargin": true,
            "type": "pie"
           }
          ],
          "scatter": [
           {
            "fillpattern": {
             "fillmode": "overlay",
             "size": 10,
             "solidity": 0.2
            },
            "type": "scatter"
           }
          ],
          "scatter3d": [
           {
            "line": {
             "colorbar": {
              "outlinewidth": 0,
              "ticks": ""
             }
            },
            "marker": {
             "colorbar": {
              "outlinewidth": 0,
              "ticks": ""
             }
            },
            "type": "scatter3d"
           }
          ],
          "scattercarpet": [
           {
            "marker": {
             "colorbar": {
              "outlinewidth": 0,
              "ticks": ""
             }
            },
            "type": "scattercarpet"
           }
          ],
          "scattergeo": [
           {
            "marker": {
             "colorbar": {
              "outlinewidth": 0,
              "ticks": ""
             }
            },
            "type": "scattergeo"
           }
          ],
          "scattergl": [
           {
            "marker": {
             "colorbar": {
              "outlinewidth": 0,
              "ticks": ""
             }
            },
            "type": "scattergl"
           }
          ],
          "scattermapbox": [
           {
            "marker": {
             "colorbar": {
              "outlinewidth": 0,
              "ticks": ""
             }
            },
            "type": "scattermapbox"
           }
          ],
          "scatterpolar": [
           {
            "marker": {
             "colorbar": {
              "outlinewidth": 0,
              "ticks": ""
             }
            },
            "type": "scatterpolar"
           }
          ],
          "scatterpolargl": [
           {
            "marker": {
             "colorbar": {
              "outlinewidth": 0,
              "ticks": ""
             }
            },
            "type": "scatterpolargl"
           }
          ],
          "scatterternary": [
           {
            "marker": {
             "colorbar": {
              "outlinewidth": 0,
              "ticks": ""
             }
            },
            "type": "scatterternary"
           }
          ],
          "surface": [
           {
            "colorbar": {
             "outlinewidth": 0,
             "ticks": ""
            },
            "colorscale": [
             [
              0,
              "#0d0887"
             ],
             [
              0.1111111111111111,
              "#46039f"
             ],
             [
              0.2222222222222222,
              "#7201a8"
             ],
             [
              0.3333333333333333,
              "#9c179e"
             ],
             [
              0.4444444444444444,
              "#bd3786"
             ],
             [
              0.5555555555555556,
              "#d8576b"
             ],
             [
              0.6666666666666666,
              "#ed7953"
             ],
             [
              0.7777777777777778,
              "#fb9f3a"
             ],
             [
              0.8888888888888888,
              "#fdca26"
             ],
             [
              1,
              "#f0f921"
             ]
            ],
            "type": "surface"
           }
          ],
          "table": [
           {
            "cells": {
             "fill": {
              "color": "#EBF0F8"
             },
             "line": {
              "color": "white"
             }
            },
            "header": {
             "fill": {
              "color": "#C8D4E3"
             },
             "line": {
              "color": "white"
             }
            },
            "type": "table"
           }
          ]
         },
         "layout": {
          "annotationdefaults": {
           "arrowcolor": "#2a3f5f",
           "arrowhead": 0,
           "arrowwidth": 1
          },
          "autotypenumbers": "strict",
          "coloraxis": {
           "colorbar": {
            "outlinewidth": 0,
            "ticks": ""
           }
          },
          "colorscale": {
           "diverging": [
            [
             0,
             "#8e0152"
            ],
            [
             0.1,
             "#c51b7d"
            ],
            [
             0.2,
             "#de77ae"
            ],
            [
             0.3,
             "#f1b6da"
            ],
            [
             0.4,
             "#fde0ef"
            ],
            [
             0.5,
             "#f7f7f7"
            ],
            [
             0.6,
             "#e6f5d0"
            ],
            [
             0.7,
             "#b8e186"
            ],
            [
             0.8,
             "#7fbc41"
            ],
            [
             0.9,
             "#4d9221"
            ],
            [
             1,
             "#276419"
            ]
           ],
           "sequential": [
            [
             0,
             "#0d0887"
            ],
            [
             0.1111111111111111,
             "#46039f"
            ],
            [
             0.2222222222222222,
             "#7201a8"
            ],
            [
             0.3333333333333333,
             "#9c179e"
            ],
            [
             0.4444444444444444,
             "#bd3786"
            ],
            [
             0.5555555555555556,
             "#d8576b"
            ],
            [
             0.6666666666666666,
             "#ed7953"
            ],
            [
             0.7777777777777778,
             "#fb9f3a"
            ],
            [
             0.8888888888888888,
             "#fdca26"
            ],
            [
             1,
             "#f0f921"
            ]
           ],
           "sequentialminus": [
            [
             0,
             "#0d0887"
            ],
            [
             0.1111111111111111,
             "#46039f"
            ],
            [
             0.2222222222222222,
             "#7201a8"
            ],
            [
             0.3333333333333333,
             "#9c179e"
            ],
            [
             0.4444444444444444,
             "#bd3786"
            ],
            [
             0.5555555555555556,
             "#d8576b"
            ],
            [
             0.6666666666666666,
             "#ed7953"
            ],
            [
             0.7777777777777778,
             "#fb9f3a"
            ],
            [
             0.8888888888888888,
             "#fdca26"
            ],
            [
             1,
             "#f0f921"
            ]
           ]
          },
          "colorway": [
           "#636efa",
           "#EF553B",
           "#00cc96",
           "#ab63fa",
           "#FFA15A",
           "#19d3f3",
           "#FF6692",
           "#B6E880",
           "#FF97FF",
           "#FECB52"
          ],
          "font": {
           "color": "#2a3f5f"
          },
          "geo": {
           "bgcolor": "white",
           "lakecolor": "white",
           "landcolor": "#E5ECF6",
           "showlakes": true,
           "showland": true,
           "subunitcolor": "white"
          },
          "hoverlabel": {
           "align": "left"
          },
          "hovermode": "closest",
          "mapbox": {
           "style": "light"
          },
          "paper_bgcolor": "white",
          "plot_bgcolor": "#E5ECF6",
          "polar": {
           "angularaxis": {
            "gridcolor": "white",
            "linecolor": "white",
            "ticks": ""
           },
           "bgcolor": "#E5ECF6",
           "radialaxis": {
            "gridcolor": "white",
            "linecolor": "white",
            "ticks": ""
           }
          },
          "scene": {
           "xaxis": {
            "backgroundcolor": "#E5ECF6",
            "gridcolor": "white",
            "gridwidth": 2,
            "linecolor": "white",
            "showbackground": true,
            "ticks": "",
            "zerolinecolor": "white"
           },
           "yaxis": {
            "backgroundcolor": "#E5ECF6",
            "gridcolor": "white",
            "gridwidth": 2,
            "linecolor": "white",
            "showbackground": true,
            "ticks": "",
            "zerolinecolor": "white"
           },
           "zaxis": {
            "backgroundcolor": "#E5ECF6",
            "gridcolor": "white",
            "gridwidth": 2,
            "linecolor": "white",
            "showbackground": true,
            "ticks": "",
            "zerolinecolor": "white"
           }
          },
          "shapedefaults": {
           "line": {
            "color": "#2a3f5f"
           }
          },
          "ternary": {
           "aaxis": {
            "gridcolor": "white",
            "linecolor": "white",
            "ticks": ""
           },
           "baxis": {
            "gridcolor": "white",
            "linecolor": "white",
            "ticks": ""
           },
           "bgcolor": "#E5ECF6",
           "caxis": {
            "gridcolor": "white",
            "linecolor": "white",
            "ticks": ""
           }
          },
          "title": {
           "x": 0.05
          },
          "xaxis": {
           "automargin": true,
           "gridcolor": "white",
           "linecolor": "white",
           "ticks": "",
           "title": {
            "standoff": 15
           },
           "zerolinecolor": "white",
           "zerolinewidth": 2
          },
          "yaxis": {
           "automargin": true,
           "gridcolor": "white",
           "linecolor": "white",
           "ticks": "",
           "title": {
            "standoff": 15
           },
           "zerolinecolor": "white",
           "zerolinewidth": 2
          }
         }
        },
        "xaxis": {
         "anchor": "y",
         "domain": [
          0,
          1
         ],
         "title": {
          "text": "index"
         }
        },
        "yaxis": {
         "anchor": "x",
         "domain": [
          0,
          1
         ],
         "title": {
          "text": "value"
         }
        }
       }
      }
     },
     "metadata": {},
     "output_type": "display_data"
    }
   ],
   "source": [
    "px.scatter(losses[:,1])"
   ]
  },
  {
   "cell_type": "markdown",
   "metadata": {},
   "source": [
    "### Evaluation"
   ]
  },
  {
   "cell_type": "code",
   "execution_count": 118,
   "metadata": {},
   "outputs": [
    {
     "name": "stderr",
     "output_type": "stream",
     "text": [
      "/opt/homebrew/Caskroom/miniforge/base/envs/phd/lib/python3.11/site-packages/sklearn/metrics/_classification.py:1471: UndefinedMetricWarning:\n",
      "\n",
      "Precision is ill-defined and being set to 0.0 in labels with no predicted samples. Use `zero_division` parameter to control this behavior.\n",
      "\n"
     ]
    },
    {
     "name": "stdout",
     "output_type": "stream",
     "text": [
      "Precision Score: 0.63\n",
      "Recall Score: 0.57\n",
      "F1 Score: 0.57\n",
      "Accuracy Score: 0.57\n",
      "Accuracy Score Top-3: 0.82\n"
     ]
    }
   ],
   "source": [
    "from utils.sector_classification import get_sector_score\n",
    "\n",
    "get_sector_score(embeddings.weight.detach().numpy(), sectors=data.sectors, top_k_accuracy=True)"
   ]
  },
  {
   "cell_type": "code",
   "execution_count": 119,
   "metadata": {},
   "outputs": [
    {
     "data": {
      "application/vnd.plotly.v1+json": {
       "config": {
        "plotlyServerURL": "https://plot.ly"
       },
       "data": [
        {
         "customdata": [
          [
           "AAPL",
           "TECHNOLOGY",
           "COMPUTER MANUFACTURING"
          ],
          [
           "ACXM",
           "TECHNOLOGY",
           "EDP SERVICES"
          ],
          [
           "ADBE",
           "TECHNOLOGY",
           "COMPUTER SOFTWARE: PREPACKAGED SOFTWARE"
          ],
          [
           "ADI",
           "TECHNOLOGY",
           "SEMICONDUCTORS"
          ],
          [
           "ADP",
           "TECHNOLOGY",
           "EDP SERVICES"
          ],
          [
           "ADSK",
           "TECHNOLOGY",
           "COMPUTER SOFTWARE: PREPACKAGED SOFTWARE"
          ],
          [
           "AGYS",
           "TECHNOLOGY",
           "EDP SERVICES"
          ],
          [
           "AMAT",
           "TECHNOLOGY",
           "SEMICONDUCTORS"
          ],
          [
           "AMSWA",
           "TECHNOLOGY",
           "COMPUTER SOFTWARE: PREPACKAGED SOFTWARE"
          ],
          [
           "BHE",
           "TECHNOLOGY",
           "ELECTRICAL PRODUCTS"
          ],
          [
           "CA",
           "TECHNOLOGY",
           "COMPUTER SOFTWARE: PREPACKAGED SOFTWARE"
          ],
          [
           "CACI",
           "TECHNOLOGY",
           "EDP SERVICES"
          ],
          [
           "CDNS",
           "TECHNOLOGY",
           "COMPUTER SOFTWARE: PREPACKAGED SOFTWARE"
          ],
          [
           "CERN",
           "TECHNOLOGY",
           "EDP SERVICES"
          ],
          [
           "CLGX",
           "TECHNOLOGY",
           "EDP SERVICES"
          ],
          [
           "CMTL",
           "TECHNOLOGY",
           "RADIO AND TELEVISION BROADCASTING AND COMMUNICATIONS EQUIPMENT"
          ],
          [
           "CRUS",
           "TECHNOLOGY",
           "SEMICONDUCTORS"
          ],
          [
           "CSCO",
           "TECHNOLOGY",
           "COMPUTER COMMUNICATIONS EQUIPMENT"
          ],
          [
           "CTS",
           "TECHNOLOGY",
           "ELECTRICAL PRODUCTS"
          ],
          [
           "CW",
           "TECHNOLOGY",
           "INDUSTRIAL MACHINERY/COMPONENTS"
          ],
          [
           "CY",
           "TECHNOLOGY",
           "SEMICONDUCTORS"
          ],
          [
           "DGII",
           "TECHNOLOGY",
           "COMPUTER COMMUNICATIONS EQUIPMENT"
          ],
          [
           "DIOD",
           "TECHNOLOGY",
           "SEMICONDUCTORS"
          ],
          [
           "DOV",
           "TECHNOLOGY",
           "INDUSTRIAL MACHINERY/COMPONENTS"
          ],
          [
           "EA",
           "TECHNOLOGY",
           "COMPUTER SOFTWARE: PREPACKAGED SOFTWARE"
          ],
          [
           "ERIC",
           "TECHNOLOGY",
           "RADIO AND TELEVISION BROADCASTING AND COMMUNICATIONS EQUIPMENT"
          ],
          [
           "ETN",
           "TECHNOLOGY",
           "INDUSTRIAL MACHINERY/COMPONENTS"
          ],
          [
           "FISV",
           "TECHNOLOGY",
           "EDP SERVICES"
          ],
          [
           "HPQ",
           "TECHNOLOGY",
           "COMPUTER MANUFACTURING"
          ],
          [
           "IBM",
           "TECHNOLOGY",
           "COMPUTER MANUFACTURING"
          ],
          [
           "IDTI",
           "TECHNOLOGY",
           "SEMICONDUCTORS"
          ],
          [
           "INTC",
           "TECHNOLOGY",
           "SEMICONDUCTORS"
          ],
          [
           "IPG",
           "TECHNOLOGY",
           "ADVERTISING"
          ],
          [
           "ITW",
           "TECHNOLOGY",
           "INDUSTRIAL MACHINERY/COMPONENTS"
          ],
          [
           "JKHY",
           "TECHNOLOGY",
           "EDP SERVICES"
          ],
          [
           "KELYA",
           "TECHNOLOGY",
           "PROFESSIONAL SERVICES"
          ],
          [
           "KLIC",
           "TECHNOLOGY",
           "SEMICONDUCTORS"
          ],
          [
           "LRCX",
           "TECHNOLOGY",
           "INDUSTRIAL MACHINERY/COMPONENTS"
          ],
          [
           "LSCC",
           "TECHNOLOGY",
           "SEMICONDUCTORS"
          ],
          [
           "MAN",
           "TECHNOLOGY",
           "PROFESSIONAL SERVICES"
          ],
          [
           "MSFT",
           "TECHNOLOGY",
           "COMPUTER SOFTWARE: PREPACKAGED SOFTWARE"
          ],
          [
           "MSI",
           "TECHNOLOGY",
           "RADIO AND TELEVISION BROADCASTING AND COMMUNICATIONS EQUIPMENT"
          ],
          [
           "MU",
           "TECHNOLOGY",
           "SEMICONDUCTORS"
          ],
          [
           "MXIM",
           "TECHNOLOGY",
           "SEMICONDUCTORS"
          ],
          [
           "OMC",
           "TECHNOLOGY",
           "ADVERTISING"
          ],
          [
           "ORCL",
           "TECHNOLOGY",
           "COMPUTER SOFTWARE: PREPACKAGED SOFTWARE"
          ],
          [
           "PKE",
           "TECHNOLOGY",
           "ELECTRICAL PRODUCTS"
          ],
          [
           "PLAB",
           "TECHNOLOGY",
           "SEMICONDUCTORS"
          ],
          [
           "PLXS",
           "TECHNOLOGY",
           "ELECTRICAL PRODUCTS"
          ],
          [
           "PNR",
           "TECHNOLOGY",
           "INDUSTRIAL MACHINERY/COMPONENTS"
          ],
          [
           "PTC",
           "TECHNOLOGY",
           "COMPUTER SOFTWARE: PREPACKAGED SOFTWARE"
          ],
          [
           "SGMS",
           "TECHNOLOGY",
           "EDP SERVICES"
          ],
          [
           "SIGM",
           "TECHNOLOGY",
           "SEMICONDUCTORS"
          ],
          [
           "SMTC",
           "TECHNOLOGY",
           "SEMICONDUCTORS"
          ],
          [
           "SPXC",
           "TECHNOLOGY",
           "INDUSTRIAL MACHINERY/COMPONENTS"
          ],
          [
           "SWKS",
           "TECHNOLOGY",
           "SEMICONDUCTORS"
          ],
          [
           "SXI",
           "TECHNOLOGY",
           "INDUSTRIAL MACHINERY/COMPONENTS"
          ],
          [
           "SYMC",
           "TECHNOLOGY",
           "COMPUTER SOFTWARE: PREPACKAGED SOFTWARE"
          ],
          [
           "TECD",
           "TECHNOLOGY",
           "RETAIL: COMPUTER SOFTWARE & PERIPHERAL EQUIPMENT"
          ],
          [
           "TXN",
           "TECHNOLOGY",
           "SEMICONDUCTORS"
          ],
          [
           "TYL",
           "TECHNOLOGY",
           "COMPUTER SOFTWARE: PREPACKAGED SOFTWARE"
          ],
          [
           "UIS",
           "TECHNOLOGY",
           "EDP SERVICES"
          ],
          [
           "WDC",
           "TECHNOLOGY",
           "ELECTRONIC COMPONENTS"
          ],
          [
           "WPP",
           "TECHNOLOGY",
           "ADVERTISING"
          ],
          [
           "XLNX",
           "TECHNOLOGY",
           "SEMICONDUCTORS"
          ],
          [
           "XRX",
           "TECHNOLOGY",
           "COMPUTER PERIPHERAL EQUIPMENT"
          ],
          [
           "ZIXI",
           "TECHNOLOGY",
           "EDP SERVICES"
          ]
         ],
         "hovertemplate": "<b>%{hovertext}</b><br><br>Sector=%{customdata[1]}<br>PC1=%{x}<br>PC2=%{y}<br>ticker=%{customdata[0]}<br>industry=%{customdata[2]}<extra></extra>",
         "hovertext": [
          "COMPUTER MANUFACTURING",
          "EDP SERVICES",
          "COMPUTER SOFTWARE: PREPACKAGED SOFTWARE",
          "SEMICONDUCTORS",
          "EDP SERVICES",
          "COMPUTER SOFTWARE: PREPACKAGED SOFTWARE",
          "EDP SERVICES",
          "SEMICONDUCTORS",
          "COMPUTER SOFTWARE: PREPACKAGED SOFTWARE",
          "ELECTRICAL PRODUCTS",
          "COMPUTER SOFTWARE: PREPACKAGED SOFTWARE",
          "EDP SERVICES",
          "COMPUTER SOFTWARE: PREPACKAGED SOFTWARE",
          "EDP SERVICES",
          "EDP SERVICES",
          "RADIO AND TELEVISION BROADCASTING AND COMMUNICATIONS EQUIPMENT",
          "SEMICONDUCTORS",
          "COMPUTER COMMUNICATIONS EQUIPMENT",
          "ELECTRICAL PRODUCTS",
          "INDUSTRIAL MACHINERY/COMPONENTS",
          "SEMICONDUCTORS",
          "COMPUTER COMMUNICATIONS EQUIPMENT",
          "SEMICONDUCTORS",
          "INDUSTRIAL MACHINERY/COMPONENTS",
          "COMPUTER SOFTWARE: PREPACKAGED SOFTWARE",
          "RADIO AND TELEVISION BROADCASTING AND COMMUNICATIONS EQUIPMENT",
          "INDUSTRIAL MACHINERY/COMPONENTS",
          "EDP SERVICES",
          "COMPUTER MANUFACTURING",
          "COMPUTER MANUFACTURING",
          "SEMICONDUCTORS",
          "SEMICONDUCTORS",
          "ADVERTISING",
          "INDUSTRIAL MACHINERY/COMPONENTS",
          "EDP SERVICES",
          "PROFESSIONAL SERVICES",
          "SEMICONDUCTORS",
          "INDUSTRIAL MACHINERY/COMPONENTS",
          "SEMICONDUCTORS",
          "PROFESSIONAL SERVICES",
          "COMPUTER SOFTWARE: PREPACKAGED SOFTWARE",
          "RADIO AND TELEVISION BROADCASTING AND COMMUNICATIONS EQUIPMENT",
          "SEMICONDUCTORS",
          "SEMICONDUCTORS",
          "ADVERTISING",
          "COMPUTER SOFTWARE: PREPACKAGED SOFTWARE",
          "ELECTRICAL PRODUCTS",
          "SEMICONDUCTORS",
          "ELECTRICAL PRODUCTS",
          "INDUSTRIAL MACHINERY/COMPONENTS",
          "COMPUTER SOFTWARE: PREPACKAGED SOFTWARE",
          "EDP SERVICES",
          "SEMICONDUCTORS",
          "SEMICONDUCTORS",
          "INDUSTRIAL MACHINERY/COMPONENTS",
          "SEMICONDUCTORS",
          "INDUSTRIAL MACHINERY/COMPONENTS",
          "COMPUTER SOFTWARE: PREPACKAGED SOFTWARE",
          "RETAIL: COMPUTER SOFTWARE & PERIPHERAL EQUIPMENT",
          "SEMICONDUCTORS",
          "COMPUTER SOFTWARE: PREPACKAGED SOFTWARE",
          "EDP SERVICES",
          "ELECTRONIC COMPONENTS",
          "ADVERTISING",
          "SEMICONDUCTORS",
          "COMPUTER PERIPHERAL EQUIPMENT",
          "EDP SERVICES"
         ],
         "legendgroup": "TECHNOLOGY",
         "marker": {
          "color": "#FD3216",
          "line": {
           "color": "DarkSlateGrey",
           "width": 1
          },
          "opacity": 0.7,
          "size": 8,
          "symbol": "circle"
         },
         "mode": "markers",
         "name": "TECHNOLOGY",
         "orientation": "v",
         "showlegend": true,
         "type": "scatter",
         "x": [
          0.6053515672683716,
          0.08077837526798248,
          0.6364932656288147,
          0.06473750621080399,
          0.8644197583198547,
          0.41021308302879333,
          -0.48109081387519836,
          -0.021474787965416908,
          -0.49396660923957825,
          -0.14431710541248322,
          0.8926383852958679,
          0.5381350517272949,
          0.6606897711753845,
          0.7602987885475159,
          0.3745690882205963,
          -0.051303680986166,
          -0.04404349997639656,
          0.7271488904953003,
          -0.48308223485946655,
          -0.12054790556430817,
          0.01851969212293625,
          -0.4676536023616791,
          -0.033578939735889435,
          0.3745432496070862,
          0.7466288805007935,
          0.554155170917511,
          0.35277658700942993,
          0.8973217606544495,
          0.6854189038276672,
          0.8883155584335327,
          -0.06086277961730957,
          0.39349958300590515,
          0.8707118630409241,
          0.7115451097488403,
          0.852500855922699,
          -0.4948732852935791,
          -0.13643431663513184,
          -0.07657056301832199,
          -0.04151468724012375,
          0.12046416103839874,
          0.8684378862380981,
          0.8114482760429382,
          0.07204917073249817,
          0.021629875525832176,
          0.960594654083252,
          0.7847843766212463,
          -0.5422321557998657,
          -0.12801320850849152,
          -0.15996228158473969,
          0.32575809955596924,
          0.1999112218618393,
          -0.18408936262130737,
          -0.014695401303470135,
          -0.05741623416543007,
          0.09889860451221466,
          -0.036156490445137024,
          -0.6577317714691162,
          0.6580737829208374,
          0.4684251546859741,
          0.15507738292217255,
          0.24866725504398346,
          0.14773710072040558,
          0.24396519362926483,
          0.8252373337745667,
          0.06499715894460678,
          0.7039706707000732,
          -0.2588083744049072
         ],
         "xaxis": "x",
         "y": [
          0.718021810054779,
          0.40982112288475037,
          0.6488322615623474,
          0.8485580086708069,
          0.06424321234226227,
          0.6803833842277527,
          0.4411006569862366,
          0.882561445236206,
          0.4496464431285858,
          0.6567081809043884,
          0.3601877689361572,
          0.47135376930236816,
          0.5823801755905151,
          0.3821873664855957,
          -0.4431796073913574,
          0.879947304725647,
          0.8821158409118652,
          0.5552512407302856,
          0.5278528928756714,
          0.1971985101699829,
          0.8753628730773926,
          0.4739626348018646,
          0.8531168699264526,
          0.04250900447368622,
          0.5803386569023132,
          0.5803877115249634,
          0.010186529718339443,
          0.16323527693748474,
          0.5909355878829956,
          0.1155552789568901,
          0.8976668119430542,
          0.787481963634491,
          -0.1665295958518982,
          -0.005957345943897963,
          0.2918244004249573,
          0.170206218957901,
          0.8777424693107605,
          0.897219717502594,
          0.8735809922218323,
          -0.0065656425431370735,
          0.32617640495300293,
          0.4821162223815918,
          0.8643553853034973,
          0.8706809282302856,
          -0.05429596081376076,
          0.5304402112960815,
          0.37572813034057617,
          0.8645448684692383,
          0.756544828414917,
          0.04600095748901367,
          0.7642715573310852,
          0.17794987559318542,
          0.7717134356498718,
          0.8819491863250732,
          0.1456129401922226,
          0.8945940136909485,
          0.11353921890258789,
          0.6772087812423706,
          0.5357522964477539,
          0.8407471179962158,
          0.7806000709533691,
          0.23127251863479614,
          0.7521330714225769,
          0.050746407359838486,
          0.874207079410553,
          0.17693886160850525,
          0.716994047164917
         ],
         "yaxis": "y"
        },
        {
         "customdata": [
          [
           "AB",
           "FINANCE",
           "INVESTMENT MANAGERS"
          ],
          [
           "ABM",
           "FINANCE",
           "DIVERSIFIED COMMERCIAL SERVICES"
          ],
          [
           "AEG",
           "FINANCE",
           "LIFE INSURANCE"
          ],
          [
           "AFG",
           "FINANCE",
           "PROPERTY-CASUALTY INSURERS"
          ],
          [
           "AFL",
           "FINANCE",
           "ACCIDENT &HEALTH INSURANCE"
          ],
          [
           "AIG",
           "FINANCE",
           "PROPERTY-CASUALTY INSURERS"
          ],
          [
           "AJG",
           "FINANCE",
           "SPECIALTY INSURERS"
          ],
          [
           "AON",
           "FINANCE",
           "SPECIALTY INSURERS"
          ],
          [
           "ASB",
           "FINANCE",
           "MAJOR BANKS"
          ],
          [
           "AXP",
           "FINANCE",
           "FINANCE: CONSUMER SERVICES"
          ],
          [
           "BAC",
           "FINANCE",
           "MAJOR BANKS"
          ],
          [
           "BBT",
           "FINANCE",
           "MAJOR BANKS"
          ],
          [
           "BBVA",
           "FINANCE",
           "COMMERCIAL BANKS"
          ],
          [
           "BCS",
           "FINANCE",
           "COMMERCIAL BANKS"
          ],
          [
           "BEN",
           "FINANCE",
           "INVESTMENT MANAGERS"
          ],
          [
           "BK",
           "FINANCE",
           "MAJOR BANKS"
          ],
          [
           "BOH",
           "FINANCE",
           "MAJOR BANKS"
          ],
          [
           "BPOP",
           "FINANCE",
           "MAJOR BANKS"
          ],
          [
           "BRO",
           "FINANCE",
           "SPECIALTY INSURERS"
          ],
          [
           "BXS",
           "FINANCE",
           "MAJOR BANKS"
          ],
          [
           "C",
           "FINANCE",
           "MAJOR BANKS"
          ],
          [
           "CB",
           "FINANCE",
           "PROPERTY-CASUALTY INSURERS"
          ],
          [
           "CBSH",
           "FINANCE",
           "MAJOR BANKS"
          ],
          [
           "CFR",
           "FINANCE",
           "MAJOR BANKS"
          ],
          [
           "CIA",
           "FINANCE",
           "LIFE INSURANCE"
          ],
          [
           "CINF",
           "FINANCE",
           "PROPERTY-CASUALTY INSURERS"
          ],
          [
           "CMA",
           "FINANCE",
           "MAJOR BANKS"
          ],
          [
           "CNA",
           "FINANCE",
           "PROPERTY-CASUALTY INSURERS"
          ],
          [
           "CVBF",
           "FINANCE",
           "MAJOR BANKS"
          ],
          [
           "DNB",
           "FINANCE",
           "FINANCE: CONSUMER SERVICES"
          ],
          [
           "EFX",
           "FINANCE",
           "FINANCE: CONSUMER SERVICES"
          ],
          [
           "EV",
           "FINANCE",
           "INVESTMENT MANAGERS"
          ],
          [
           "FBP",
           "FINANCE",
           "MAJOR BANKS"
          ],
          [
           "FFBC",
           "FINANCE",
           "MAJOR BANKS"
          ],
          [
           "FHN",
           "FINANCE",
           "MAJOR BANKS"
          ],
          [
           "FITB",
           "FINANCE",
           "MAJOR BANKS"
          ],
          [
           "FMBI",
           "FINANCE",
           "MAJOR BANKS"
          ],
          [
           "FNB",
           "FINANCE",
           "MAJOR BANKS"
          ],
          [
           "FULT",
           "FINANCE",
           "MAJOR BANKS"
          ],
          [
           "HBAN",
           "FINANCE",
           "MAJOR BANKS"
          ],
          [
           "INDB",
           "FINANCE",
           "MAJOR BANKS"
          ],
          [
           "JPM",
           "FINANCE",
           "MAJOR BANKS"
          ],
          [
           "KEY",
           "FINANCE",
           "MAJOR BANKS"
          ],
          [
           "KMPR",
           "FINANCE",
           "PROPERTY-CASUALTY INSURERS"
          ],
          [
           "L",
           "FINANCE",
           "PROPERTY-CASUALTY INSURERS"
          ],
          [
           "LM",
           "FINANCE",
           "INVESTMENT MANAGERS"
          ],
          [
           "LNC",
           "FINANCE",
           "LIFE INSURANCE"
          ],
          [
           "MBI",
           "FINANCE",
           "PROPERTY-CASUALTY INSURERS"
          ],
          [
           "MCY",
           "FINANCE",
           "PROPERTY-CASUALTY INSURERS"
          ],
          [
           "MKL",
           "FINANCE",
           "PROPERTY-CASUALTY INSURERS"
          ],
          [
           "MMC",
           "FINANCE",
           "SPECIALTY INSURERS"
          ],
          [
           "MTB",
           "FINANCE",
           "MAJOR BANKS"
          ],
          [
           "NTRS",
           "FINANCE",
           "MAJOR BANKS"
          ],
          [
           "OFG",
           "FINANCE",
           "MAJOR BANKS"
          ],
          [
           "ONB",
           "FINANCE",
           "MAJOR BANKS"
          ],
          [
           "ORI",
           "FINANCE",
           "PROPERTY-CASUALTY INSURERS"
          ],
          [
           "PBCT",
           "FINANCE",
           "SAVINGS INSTITUTIONS"
          ],
          [
           "PGR",
           "FINANCE",
           "PROPERTY-CASUALTY INSURERS"
          ],
          [
           "PNC",
           "FINANCE",
           "MAJOR BANKS"
          ],
          [
           "RF",
           "FINANCE",
           "MAJOR BANKS"
          ],
          [
           "RJF",
           "FINANCE",
           "INVESTMENT BANKERS/BROKERS/SERVICE"
          ],
          [
           "RLI",
           "FINANCE",
           "PROPERTY-CASUALTY INSURERS"
          ],
          [
           "ROL",
           "FINANCE",
           "DIVERSIFIED COMMERCIAL SERVICES"
          ],
          [
           "SCHW",
           "FINANCE",
           "INVESTMENT BANKERS/BROKERS/SERVICE"
          ],
          [
           "SEIC",
           "FINANCE",
           "INVESTMENT BANKERS/BROKERS/SERVICE"
          ],
          [
           "SFE",
           "FINANCE",
           "FINANCE/INVESTORS SERVICES"
          ],
          [
           "SIGI",
           "FINANCE",
           "PROPERTY-CASUALTY INSURERS"
          ],
          [
           "SIVB",
           "FINANCE",
           "MAJOR BANKS"
          ],
          [
           "SLM",
           "FINANCE",
           "FINANCE: CONSUMER SERVICES"
          ],
          [
           "SNV",
           "FINANCE",
           "MAJOR BANKS"
          ],
          [
           "SPGI",
           "FINANCE",
           "FINANCE: CONSUMER SERVICES"
          ],
          [
           "SRCE",
           "FINANCE",
           "MAJOR BANKS"
          ],
          [
           "STI",
           "FINANCE",
           "MAJOR BANKS"
          ],
          [
           "STT",
           "FINANCE",
           "MAJOR BANKS"
          ],
          [
           "TCF",
           "FINANCE",
           "MAJOR BANKS"
          ],
          [
           "TMK",
           "FINANCE",
           "LIFE INSURANCE"
          ],
          [
           "TRMK",
           "FINANCE",
           "MAJOR BANKS"
          ],
          [
           "TROW",
           "FINANCE",
           "INVESTMENT BANKERS/BROKERS/SERVICE"
          ],
          [
           "TRST",
           "FINANCE",
           "MAJOR BANKS"
          ],
          [
           "TRV",
           "FINANCE",
           "PROPERTY-CASUALTY INSURERS"
          ],
          [
           "UBSI",
           "FINANCE",
           "MAJOR BANKS"
          ],
          [
           "UMBF",
           "FINANCE",
           "MAJOR BANKS"
          ],
          [
           "UNM",
           "FINANCE",
           "ACCIDENT &HEALTH INSURANCE"
          ],
          [
           "USB",
           "FINANCE",
           "MAJOR BANKS"
          ],
          [
           "VLY",
           "FINANCE",
           "MAJOR BANKS"
          ],
          [
           "WABC",
           "FINANCE",
           "MAJOR BANKS"
          ],
          [
           "WAFD",
           "FINANCE",
           "MAJOR BANKS"
          ],
          [
           "WBS",
           "FINANCE",
           "MAJOR BANKS"
          ],
          [
           "WFC",
           "FINANCE",
           "MAJOR BANKS"
          ],
          [
           "WRB",
           "FINANCE",
           "PROPERTY-CASUALTY INSURERS"
          ],
          [
           "WSBC",
           "FINANCE",
           "MAJOR BANKS"
          ],
          [
           "WSFS",
           "FINANCE",
           "MAJOR BANKS"
          ],
          [
           "ZION",
           "FINANCE",
           "MAJOR BANKS"
          ]
         ],
         "hovertemplate": "<b>%{hovertext}</b><br><br>Sector=%{customdata[1]}<br>PC1=%{x}<br>PC2=%{y}<br>ticker=%{customdata[0]}<br>industry=%{customdata[2]}<extra></extra>",
         "hovertext": [
          "INVESTMENT MANAGERS",
          "DIVERSIFIED COMMERCIAL SERVICES",
          "LIFE INSURANCE",
          "PROPERTY-CASUALTY INSURERS",
          "ACCIDENT &HEALTH INSURANCE",
          "PROPERTY-CASUALTY INSURERS",
          "SPECIALTY INSURERS",
          "SPECIALTY INSURERS",
          "MAJOR BANKS",
          "FINANCE: CONSUMER SERVICES",
          "MAJOR BANKS",
          "MAJOR BANKS",
          "COMMERCIAL BANKS",
          "COMMERCIAL BANKS",
          "INVESTMENT MANAGERS",
          "MAJOR BANKS",
          "MAJOR BANKS",
          "MAJOR BANKS",
          "SPECIALTY INSURERS",
          "MAJOR BANKS",
          "MAJOR BANKS",
          "PROPERTY-CASUALTY INSURERS",
          "MAJOR BANKS",
          "MAJOR BANKS",
          "LIFE INSURANCE",
          "PROPERTY-CASUALTY INSURERS",
          "MAJOR BANKS",
          "PROPERTY-CASUALTY INSURERS",
          "MAJOR BANKS",
          "FINANCE: CONSUMER SERVICES",
          "FINANCE: CONSUMER SERVICES",
          "INVESTMENT MANAGERS",
          "MAJOR BANKS",
          "MAJOR BANKS",
          "MAJOR BANKS",
          "MAJOR BANKS",
          "MAJOR BANKS",
          "MAJOR BANKS",
          "MAJOR BANKS",
          "MAJOR BANKS",
          "MAJOR BANKS",
          "MAJOR BANKS",
          "MAJOR BANKS",
          "PROPERTY-CASUALTY INSURERS",
          "PROPERTY-CASUALTY INSURERS",
          "INVESTMENT MANAGERS",
          "LIFE INSURANCE",
          "PROPERTY-CASUALTY INSURERS",
          "PROPERTY-CASUALTY INSURERS",
          "PROPERTY-CASUALTY INSURERS",
          "SPECIALTY INSURERS",
          "MAJOR BANKS",
          "MAJOR BANKS",
          "MAJOR BANKS",
          "MAJOR BANKS",
          "PROPERTY-CASUALTY INSURERS",
          "SAVINGS INSTITUTIONS",
          "PROPERTY-CASUALTY INSURERS",
          "MAJOR BANKS",
          "MAJOR BANKS",
          "INVESTMENT BANKERS/BROKERS/SERVICE",
          "PROPERTY-CASUALTY INSURERS",
          "DIVERSIFIED COMMERCIAL SERVICES",
          "INVESTMENT BANKERS/BROKERS/SERVICE",
          "INVESTMENT BANKERS/BROKERS/SERVICE",
          "FINANCE/INVESTORS SERVICES",
          "PROPERTY-CASUALTY INSURERS",
          "MAJOR BANKS",
          "FINANCE: CONSUMER SERVICES",
          "MAJOR BANKS",
          "FINANCE: CONSUMER SERVICES",
          "MAJOR BANKS",
          "MAJOR BANKS",
          "MAJOR BANKS",
          "MAJOR BANKS",
          "LIFE INSURANCE",
          "MAJOR BANKS",
          "INVESTMENT BANKERS/BROKERS/SERVICE",
          "MAJOR BANKS",
          "PROPERTY-CASUALTY INSURERS",
          "MAJOR BANKS",
          "MAJOR BANKS",
          "ACCIDENT &HEALTH INSURANCE",
          "MAJOR BANKS",
          "MAJOR BANKS",
          "MAJOR BANKS",
          "MAJOR BANKS",
          "MAJOR BANKS",
          "MAJOR BANKS",
          "PROPERTY-CASUALTY INSURERS",
          "MAJOR BANKS",
          "MAJOR BANKS",
          "MAJOR BANKS"
         ],
         "legendgroup": "FINANCE",
         "marker": {
          "color": "#00FE35",
          "line": {
           "color": "DarkSlateGrey",
           "width": 1
          },
          "opacity": 0.7,
          "size": 8,
          "symbol": "diamond"
         },
         "mode": "markers",
         "name": "FINANCE",
         "orientation": "v",
         "showlegend": true,
         "type": "scatter",
         "x": [
          0.37152862548828125,
          -0.3398103415966034,
          0.2701660096645355,
          0.7113721370697021,
          0.7941201329231262,
          0.6278632879257202,
          0.7064442038536072,
          0.7595421671867371,
          -0.35250124335289,
          0.5541877150535583,
          -0.05425042659044266,
          -0.11820866167545319,
          0.33655697107315063,
          0.12071381509304047,
          0.3153381049633026,
          0.07793791592121124,
          -0.3977768123149872,
          -0.5662145018577576,
          0.7561802864074707,
          -0.7147263884544373,
          0.03212834894657135,
          0.6969345808029175,
          -0.3478659987449646,
          -0.2838797867298126,
          -0.729192316532135,
          0.7189163565635681,
          -0.27406400442123413,
          0.5734598636627197,
          -0.7942731380462646,
          0.7675134539604187,
          0.9473545551300049,
          0.10804750770330429,
          -0.8158602118492126,
          -0.8295614123344421,
          -0.4717448651790619,
          -0.3369390666484833,
          -0.683646023273468,
          -0.7593998312950134,
          -0.5998995304107666,
          -0.29951211810112,
          -0.802433431148529,
          0.030109630897641182,
          -0.2758673429489136,
          0.04107873514294624,
          0.7979544997215271,
          0.08684412389993668,
          0.047659341245889664,
          -0.14092229306697845,
          0.2815922200679779,
          0.30539265275001526,
          0.8384604454040527,
          -0.17499826848506927,
          0.08875066787004471,
          -0.7931111454963684,
          -0.7394553422927856,
          0.6025799512863159,
          -0.2298334687948227,
          0.6356080770492554,
          -0.046753108501434326,
          -0.27634745836257935,
          -0.12081009149551392,
          -0.2652023136615753,
          0.2631407678127289,
          -0.14285160601139069,
          0.41844332218170166,
          -0.35225388407707214,
          -0.5885002613067627,
          -0.537342369556427,
          -0.2851720154285431,
          -0.3135347366333008,
          0.8997296094894409,
          -0.8470414876937866,
          -0.1926027238368988,
          0.03458225727081299,
          -0.3796076476573944,
          0.7124128341674805,
          -0.6878846883773804,
          0.2783281207084656,
          -0.7790800929069519,
          0.6813468933105469,
          -0.7183140516281128,
          -0.6597253680229187,
          0.19768238067626953,
          0.13368850946426392,
          -0.48800987005233765,
          -0.5756097435951233,
          -0.49023300409317017,
          -0.5102401971817017,
          0.0739082470536232,
          0.5123533010482788,
          -0.8141306042671204,
          -0.8385120630264282,
          -0.3331224322319031
         ],
         "xaxis": "x",
         "y": [
          -0.5849945545196533,
          0.27159583568573,
          -0.2854781150817871,
          -0.3019087314605713,
          -0.4378911554813385,
          -0.5515686869621277,
          -0.1109100878238678,
          -0.13080886006355286,
          -0.5356056690216064,
          -0.47165271639823914,
          -0.6207001805305481,
          -0.6110211610794067,
          -0.23431821167469025,
          -0.4250440001487732,
          -0.32821863889694214,
          -0.46851101517677307,
          -0.5147742033004761,
          -0.5171687602996826,
          -0.1835910677909851,
          -0.2675118148326874,
          -0.5873494148254395,
          -0.2403416931629181,
          -0.5603349804878235,
          -0.5418381690979004,
          0.20174196362495422,
          -0.36872735619544983,
          -0.5496481657028198,
          -0.5264509916305542,
          -0.16677790880203247,
          -0.025437159463763237,
          -0.03580135479569435,
          -0.2647002339363098,
          -0.34562328457832336,
          -0.12603777647018433,
          -0.4873007535934448,
          -0.5430793166160583,
          -0.27103209495544434,
          -0.2272242307662964,
          -0.4343568682670593,
          -0.5521318316459656,
          -0.08261824399232864,
          -0.5218459963798523,
          -0.5434760451316833,
          -0.45366090536117554,
          -0.33983439207077026,
          -0.2658015489578247,
          -0.5210035443305969,
          -0.6742186546325684,
          -0.19834370911121368,
          -0.20532569289207458,
          -0.20484033226966858,
          -0.6200897693634033,
          -0.46486803889274597,
          -0.3473697006702423,
          -0.24482381343841553,
          -0.5148906111717224,
          -0.6387114524841309,
          -0.34306198358535767,
          -0.5650190711021423,
          -0.5341828465461731,
          -0.2802414894104004,
          -0.09473925083875656,
          0.30112195014953613,
          -0.1535235196352005,
          -0.04471535235643387,
          0.6190932393074036,
          -0.0716383159160614,
          -0.2596591114997864,
          -0.7130560874938965,
          -0.5483214855194092,
          -0.29804766178131104,
          -0.009527049958705902,
          -0.560599148273468,
          -0.46226826310157776,
          -0.4965873062610626,
          -0.4719012677669525,
          -0.2543150782585144,
          -0.2700519561767578,
          0.008302292786538601,
          -0.2935068905353546,
          -0.19213932752609253,
          -0.21937784552574158,
          -0.5303945541381836,
          -0.6420679092407227,
          -0.468392550945282,
          -0.3294127583503723,
          -0.45954176783561707,
          -0.48364102840423584,
          -0.6900189518928528,
          -0.19951267540454865,
          -0.04476921632885933,
          -0.13097719848155975,
          -0.5336599946022034
         ],
         "yaxis": "y"
        },
        {
         "customdata": [
          [
           "AEP",
           "PUBLIC UTILITIES",
           "ELECTRIC UTILITIES: CENTRAL"
          ],
          [
           "ALE",
           "PUBLIC UTILITIES",
           "POWER GENERATION"
          ],
          [
           "ATO",
           "PUBLIC UTILITIES",
           "OIL/GAS TRANSMISSION"
          ],
          [
           "AVA",
           "PUBLIC UTILITIES",
           "POWER GENERATION"
          ],
          [
           "AWR",
           "PUBLIC UTILITIES",
           "WATER SUPPLY"
          ],
          [
           "BCE",
           "PUBLIC UTILITIES",
           "TELECOMMUNICATIONS EQUIPMENT"
          ],
          [
           "BKH",
           "PUBLIC UTILITIES",
           "ELECTRIC UTILITIES: CENTRAL"
          ],
          [
           "BT",
           "PUBLIC UTILITIES",
           "TELECOMMUNICATIONS EQUIPMENT"
          ],
          [
           "CBB",
           "PUBLIC UTILITIES",
           "TELECOMMUNICATIONS EQUIPMENT"
          ],
          [
           "CMS",
           "PUBLIC UTILITIES",
           "POWER GENERATION"
          ],
          [
           "CNP",
           "PUBLIC UTILITIES",
           "ELECTRIC UTILITIES: CENTRAL"
          ],
          [
           "CTL",
           "PUBLIC UTILITIES",
           "TELECOMMUNICATIONS EQUIPMENT"
          ],
          [
           "CWT",
           "PUBLIC UTILITIES",
           "WATER SUPPLY"
          ],
          [
           "D",
           "PUBLIC UTILITIES",
           "ELECTRIC UTILITIES: CENTRAL"
          ],
          [
           "DTE",
           "PUBLIC UTILITIES",
           "ELECTRIC UTILITIES: CENTRAL"
          ],
          [
           "DUK",
           "PUBLIC UTILITIES",
           "POWER GENERATION"
          ],
          [
           "ED",
           "PUBLIC UTILITIES",
           "POWER GENERATION"
          ],
          [
           "EIX",
           "PUBLIC UTILITIES",
           "ELECTRIC UTILITIES: CENTRAL"
          ],
          [
           "ES",
           "PUBLIC UTILITIES",
           "ELECTRIC UTILITIES: CENTRAL"
          ],
          [
           "ETR",
           "PUBLIC UTILITIES",
           "ELECTRIC UTILITIES: CENTRAL"
          ],
          [
           "EXC",
           "PUBLIC UTILITIES",
           "POWER GENERATION"
          ],
          [
           "FTR",
           "PUBLIC UTILITIES",
           "TELECOMMUNICATIONS EQUIPMENT"
          ],
          [
           "HE",
           "PUBLIC UTILITIES",
           "ELECTRIC UTILITIES: CENTRAL"
          ],
          [
           "IDA",
           "PUBLIC UTILITIES",
           "ELECTRIC UTILITIES: CENTRAL"
          ],
          [
           "LNT",
           "PUBLIC UTILITIES",
           "POWER GENERATION"
          ],
          [
           "NEE",
           "PUBLIC UTILITIES",
           "ELECTRIC UTILITIES: CENTRAL"
          ],
          [
           "NFG",
           "PUBLIC UTILITIES",
           "OIL/GAS TRANSMISSION"
          ],
          [
           "NI",
           "PUBLIC UTILITIES",
           "POWER GENERATION"
          ],
          [
           "NJR",
           "PUBLIC UTILITIES",
           "OIL/GAS TRANSMISSION"
          ],
          [
           "NWN",
           "PUBLIC UTILITIES",
           "OIL/GAS TRANSMISSION"
          ],
          [
           "OGE",
           "PUBLIC UTILITIES",
           "ELECTRIC UTILITIES: CENTRAL"
          ],
          [
           "OKE",
           "PUBLIC UTILITIES",
           "OIL & GAS PRODUCTION"
          ],
          [
           "OTTR",
           "PUBLIC UTILITIES",
           "ELECTRIC UTILITIES: CENTRAL"
          ],
          [
           "PCG",
           "PUBLIC UTILITIES",
           "POWER GENERATION"
          ],
          [
           "PEG",
           "PUBLIC UTILITIES",
           "POWER GENERATION"
          ],
          [
           "PHI",
           "PUBLIC UTILITIES",
           "TELECOMMUNICATIONS EQUIPMENT"
          ],
          [
           "PNM",
           "PUBLIC UTILITIES",
           "ELECTRIC UTILITIES: CENTRAL"
          ],
          [
           "PNW",
           "PUBLIC UTILITIES",
           "ELECTRIC UTILITIES: CENTRAL"
          ],
          [
           "PPL",
           "PUBLIC UTILITIES",
           "ELECTRIC UTILITIES: CENTRAL"
          ],
          [
           "S",
           "PUBLIC UTILITIES",
           "TELECOMMUNICATIONS EQUIPMENT"
          ],
          [
           "SCG",
           "PUBLIC UTILITIES",
           "POWER GENERATION"
          ],
          [
           "SJI",
           "PUBLIC UTILITIES",
           "OIL/GAS TRANSMISSION"
          ],
          [
           "SO",
           "PUBLIC UTILITIES",
           "ELECTRIC UTILITIES: CENTRAL"
          ],
          [
           "SR",
           "PUBLIC UTILITIES",
           "OIL/GAS TRANSMISSION"
          ],
          [
           "SWX",
           "PUBLIC UTILITIES",
           "OIL & GAS PRODUCTION"
          ],
          [
           "T",
           "PUBLIC UTILITIES",
           "TELECOMMUNICATIONS EQUIPMENT"
          ],
          [
           "TEF",
           "PUBLIC UTILITIES",
           "TELECOMMUNICATIONS EQUIPMENT"
          ],
          [
           "TRP",
           "PUBLIC UTILITIES",
           "NATURAL GAS DISTRIBUTION"
          ],
          [
           "UGI",
           "PUBLIC UTILITIES",
           "NATURAL GAS DISTRIBUTION"
          ],
          [
           "USM",
           "PUBLIC UTILITIES",
           "TELECOMMUNICATIONS EQUIPMENT"
          ],
          [
           "VOD",
           "PUBLIC UTILITIES",
           "TELECOMMUNICATIONS EQUIPMENT"
          ],
          [
           "VVC",
           "PUBLIC UTILITIES",
           "NATURAL GAS DISTRIBUTION"
          ],
          [
           "VZ",
           "PUBLIC UTILITIES",
           "TELECOMMUNICATIONS EQUIPMENT"
          ],
          [
           "WEC",
           "PUBLIC UTILITIES",
           "POWER GENERATION"
          ],
          [
           "WM",
           "PUBLIC UTILITIES",
           "ENVIRONMENTAL SERVICES"
          ],
          [
           "WMB",
           "PUBLIC UTILITIES",
           "NATURAL GAS DISTRIBUTION"
          ],
          [
           "WTR",
           "PUBLIC UTILITIES",
           "WATER SUPPLY"
          ]
         ],
         "hovertemplate": "<b>%{hovertext}</b><br><br>Sector=%{customdata[1]}<br>PC1=%{x}<br>PC2=%{y}<br>ticker=%{customdata[0]}<br>industry=%{customdata[2]}<extra></extra>",
         "hovertext": [
          "ELECTRIC UTILITIES: CENTRAL",
          "POWER GENERATION",
          "OIL/GAS TRANSMISSION",
          "POWER GENERATION",
          "WATER SUPPLY",
          "TELECOMMUNICATIONS EQUIPMENT",
          "ELECTRIC UTILITIES: CENTRAL",
          "TELECOMMUNICATIONS EQUIPMENT",
          "TELECOMMUNICATIONS EQUIPMENT",
          "POWER GENERATION",
          "ELECTRIC UTILITIES: CENTRAL",
          "TELECOMMUNICATIONS EQUIPMENT",
          "WATER SUPPLY",
          "ELECTRIC UTILITIES: CENTRAL",
          "ELECTRIC UTILITIES: CENTRAL",
          "POWER GENERATION",
          "POWER GENERATION",
          "ELECTRIC UTILITIES: CENTRAL",
          "ELECTRIC UTILITIES: CENTRAL",
          "ELECTRIC UTILITIES: CENTRAL",
          "POWER GENERATION",
          "TELECOMMUNICATIONS EQUIPMENT",
          "ELECTRIC UTILITIES: CENTRAL",
          "ELECTRIC UTILITIES: CENTRAL",
          "POWER GENERATION",
          "ELECTRIC UTILITIES: CENTRAL",
          "OIL/GAS TRANSMISSION",
          "POWER GENERATION",
          "OIL/GAS TRANSMISSION",
          "OIL/GAS TRANSMISSION",
          "ELECTRIC UTILITIES: CENTRAL",
          "OIL & GAS PRODUCTION",
          "ELECTRIC UTILITIES: CENTRAL",
          "POWER GENERATION",
          "POWER GENERATION",
          "TELECOMMUNICATIONS EQUIPMENT",
          "ELECTRIC UTILITIES: CENTRAL",
          "ELECTRIC UTILITIES: CENTRAL",
          "ELECTRIC UTILITIES: CENTRAL",
          "TELECOMMUNICATIONS EQUIPMENT",
          "POWER GENERATION",
          "OIL/GAS TRANSMISSION",
          "ELECTRIC UTILITIES: CENTRAL",
          "OIL/GAS TRANSMISSION",
          "OIL & GAS PRODUCTION",
          "TELECOMMUNICATIONS EQUIPMENT",
          "TELECOMMUNICATIONS EQUIPMENT",
          "NATURAL GAS DISTRIBUTION",
          "NATURAL GAS DISTRIBUTION",
          "TELECOMMUNICATIONS EQUIPMENT",
          "TELECOMMUNICATIONS EQUIPMENT",
          "NATURAL GAS DISTRIBUTION",
          "TELECOMMUNICATIONS EQUIPMENT",
          "POWER GENERATION",
          "ENVIRONMENTAL SERVICES",
          "NATURAL GAS DISTRIBUTION",
          "WATER SUPPLY"
         ],
         "legendgroup": "PUBLIC UTILITIES",
         "marker": {
          "color": "#6A76FC",
          "line": {
           "color": "DarkSlateGrey",
           "width": 1
          },
          "opacity": 0.7,
          "size": 8,
          "symbol": "square"
         },
         "mode": "markers",
         "name": "PUBLIC UTILITIES",
         "orientation": "v",
         "showlegend": true,
         "type": "scatter",
         "x": [
          -0.41770365834236145,
          -0.3993038833141327,
          -0.31601953506469727,
          -0.30934378504753113,
          -0.8470607399940491,
          0.1477796882390976,
          -0.4251426160335541,
          0.3717368245124817,
          -0.1901085078716278,
          -0.43525418639183044,
          -0.4294734299182892,
          0.44350555539131165,
          -0.7373695969581604,
          -0.35360971093177795,
          -0.35369741916656494,
          -0.41964688897132874,
          -0.32049039006233215,
          -0.5279163718223572,
          -0.41226303577423096,
          -0.47740858793258667,
          -0.5728313326835632,
          0.178767129778862,
          -0.32533496618270874,
          -0.3532184362411499,
          -0.3339077830314636,
          -0.42694535851478577,
          -0.4648933708667755,
          -0.32029369473457336,
          -0.5029215216636658,
          -0.4745534062385559,
          -0.3373876214027405,
          -0.43685099482536316,
          -0.7138288617134094,
          -0.45498958230018616,
          -0.5478886961936951,
          -0.11391203105449677,
          -0.5247740149497986,
          -0.3498450517654419,
          -0.5146992802619934,
          0.6573427319526672,
          -0.29613634943962097,
          -0.47054076194763184,
          -0.3171411156654358,
          -0.5241541862487793,
          -0.5186835527420044,
          0.3401605486869812,
          0.6355270743370056,
          -0.06891275197267532,
          -0.3239932060241699,
          0.5021533966064453,
          0.4638938009738922,
          -0.32292088866233826,
          0.34974637627601624,
          -0.31372398138046265,
          0.6538286209106445,
          -0.7082752585411072,
          -0.2790112793445587
         ],
         "xaxis": "x",
         "y": [
          0.2481735348701477,
          0.18681490421295166,
          0.15548738837242126,
          0.21748529374599457,
          0.23393107950687408,
          0.018121561035513878,
          0.2214091718196869,
          0.07809020578861237,
          0.6128836274147034,
          0.1804768294095993,
          0.1797022521495819,
          -0.018212856724858284,
          0.2657497823238373,
          0.21828387677669525,
          0.20647338032722473,
          0.21840928494930267,
          0.2207232117652893,
          0.19603432714939117,
          0.21895039081573486,
          0.24109835922718048,
          0.22846300899982452,
          -0.0022587350104004145,
          0.14264839887619019,
          0.18649207055568695,
          0.2018628716468811,
          0.22911635041236877,
          0.08794571459293365,
          0.15898559987545013,
          0.20727594196796417,
          0.20129601657390594,
          0.15702927112579346,
          0.09251454472541809,
          0.28071075677871704,
          0.21691040694713593,
          0.24590997397899628,
          -0.0030083360616117716,
          0.192709818482399,
          0.2261035442352295,
          0.20219792425632477,
          -0.34686750173568726,
          0.18302029371261597,
          0.17088373005390167,
          0.2085786610841751,
          0.2303284853696823,
          0.24953266978263855,
          0.045843690633773804,
          -0.030035631731152534,
          0.02503260411322117,
          0.16011804342269897,
          0.12301014363765717,
          0.11896128952503204,
          0.18310897052288055,
          0.012814728543162346,
          0.18890011310577393,
          0.060414016246795654,
          -0.08944431692361832,
          0.17409978806972504
         ],
         "yaxis": "y"
        },
        {
         "customdata": [
          [
           "ANDV",
           "ENERGY",
           "INTEGRATED OIL COMPANIES"
          ],
          [
           "APA",
           "ENERGY",
           "OIL & GAS PRODUCTION"
          ],
          [
           "APC",
           "ENERGY",
           "OIL & GAS PRODUCTION"
          ],
          [
           "BC",
           "ENERGY",
           "INDUSTRIAL MACHINERY/COMPONENTS"
          ],
          [
           "BGG",
           "ENERGY",
           "INDUSTRIAL MACHINERY/COMPONENTS"
          ],
          [
           "BHGE",
           "ENERGY",
           "METAL FABRICATIONS"
          ],
          [
           "BP",
           "ENERGY",
           "INTEGRATED OIL COMPANIES"
          ],
          [
           "BPL",
           "ENERGY",
           "NATURAL GAS DISTRIBUTION"
          ],
          [
           "BPT",
           "ENERGY",
           "INTEGRATED OIL COMPANIES"
          ],
          [
           "CMI",
           "ENERGY",
           "INDUSTRIAL MACHINERY/COMPONENTS"
          ],
          [
           "COG",
           "ENERGY",
           "OIL & GAS PRODUCTION"
          ],
          [
           "COP",
           "ENERGY",
           "INTEGRATED OIL COMPANIES"
          ],
          [
           "CRK",
           "ENERGY",
           "OIL & GAS PRODUCTION"
          ],
          [
           "CVX",
           "ENERGY",
           "INTEGRATED OIL COMPANIES"
          ],
          [
           "DVN",
           "ENERGY",
           "OIL & GAS PRODUCTION"
          ],
          [
           "EGN",
           "ENERGY",
           "OIL & GAS PRODUCTION"
          ],
          [
           "EMR",
           "ENERGY",
           "CONSUMER ELECTRONICS/APPLIANCES"
          ],
          [
           "EOG",
           "ENERGY",
           "OIL & GAS PRODUCTION"
          ],
          [
           "EQT",
           "ENERGY",
           "OIL & GAS PRODUCTION"
          ],
          [
           "ESV",
           "ENERGY",
           "OIL & GAS PRODUCTION"
          ],
          [
           "GE",
           "ENERGY",
           "CONSUMER ELECTRONICS/APPLIANCES"
          ],
          [
           "HAL",
           "ENERGY",
           "OILFIELD SERVICES/EQUIPMENT"
          ],
          [
           "HES",
           "ENERGY",
           "INTEGRATED OIL COMPANIES"
          ],
          [
           "HP",
           "ENERGY",
           "OIL & GAS PRODUCTION"
          ],
          [
           "INT",
           "ENERGY",
           "OIL REFINING/MARKETING"
          ],
          [
           "MGEE",
           "ENERGY",
           "ELECTRIC UTILITIES: CENTRAL"
          ],
          [
           "MRO",
           "ENERGY",
           "OIL & GAS PRODUCTION"
          ],
          [
           "MUR",
           "ENERGY",
           "OIL & GAS PRODUCTION"
          ],
          [
           "NBL",
           "ENERGY",
           "OIL & GAS PRODUCTION"
          ],
          [
           "NBR",
           "ENERGY",
           "OIL & GAS PRODUCTION"
          ],
          [
           "NE",
           "ENERGY",
           "OIL & GAS PRODUCTION"
          ],
          [
           "OII",
           "ENERGY",
           "OILFIELD SERVICES/EQUIPMENT"
          ],
          [
           "OXY",
           "ENERGY",
           "OIL & GAS PRODUCTION"
          ],
          [
           "PHG",
           "ENERGY",
           "CONSUMER ELECTRONICS/APPLIANCES"
          ],
          [
           "PKD",
           "ENERGY",
           "OIL & GAS PRODUCTION"
          ],
          [
           "RDC",
           "ENERGY",
           "OIL & GAS PRODUCTION"
          ],
          [
           "SBR",
           "ENERGY",
           "OIL & GAS PRODUCTION"
          ],
          [
           "SJT",
           "ENERGY",
           "OIL & GAS PRODUCTION"
          ],
          [
           "SLB",
           "ENERGY",
           "OILFIELD SERVICES/EQUIPMENT"
          ],
          [
           "SSL",
           "ENERGY",
           "OIL & GAS PRODUCTION"
          ],
          [
           "SWN",
           "ENERGY",
           "OIL & GAS PRODUCTION"
          ],
          [
           "TTI",
           "ENERGY",
           "OIL & GAS PRODUCTION"
          ],
          [
           "UNT",
           "ENERGY",
           "OIL & GAS PRODUCTION"
          ],
          [
           "VLO",
           "ENERGY",
           "INTEGRATED OIL COMPANIES"
          ],
          [
           "WFT",
           "ENERGY",
           "METAL FABRICATIONS"
          ],
          [
           "XOM",
           "ENERGY",
           "INTEGRATED OIL COMPANIES"
          ]
         ],
         "hovertemplate": "<b>%{hovertext}</b><br><br>Sector=%{customdata[1]}<br>PC1=%{x}<br>PC2=%{y}<br>ticker=%{customdata[0]}<br>industry=%{customdata[2]}<extra></extra>",
         "hovertext": [
          "INTEGRATED OIL COMPANIES",
          "OIL & GAS PRODUCTION",
          "OIL & GAS PRODUCTION",
          "INDUSTRIAL MACHINERY/COMPONENTS",
          "INDUSTRIAL MACHINERY/COMPONENTS",
          "METAL FABRICATIONS",
          "INTEGRATED OIL COMPANIES",
          "NATURAL GAS DISTRIBUTION",
          "INTEGRATED OIL COMPANIES",
          "INDUSTRIAL MACHINERY/COMPONENTS",
          "OIL & GAS PRODUCTION",
          "INTEGRATED OIL COMPANIES",
          "OIL & GAS PRODUCTION",
          "INTEGRATED OIL COMPANIES",
          "OIL & GAS PRODUCTION",
          "OIL & GAS PRODUCTION",
          "CONSUMER ELECTRONICS/APPLIANCES",
          "OIL & GAS PRODUCTION",
          "OIL & GAS PRODUCTION",
          "OIL & GAS PRODUCTION",
          "CONSUMER ELECTRONICS/APPLIANCES",
          "OILFIELD SERVICES/EQUIPMENT",
          "INTEGRATED OIL COMPANIES",
          "OIL & GAS PRODUCTION",
          "OIL REFINING/MARKETING",
          "ELECTRIC UTILITIES: CENTRAL",
          "OIL & GAS PRODUCTION",
          "OIL & GAS PRODUCTION",
          "OIL & GAS PRODUCTION",
          "OIL & GAS PRODUCTION",
          "OIL & GAS PRODUCTION",
          "OILFIELD SERVICES/EQUIPMENT",
          "OIL & GAS PRODUCTION",
          "CONSUMER ELECTRONICS/APPLIANCES",
          "OIL & GAS PRODUCTION",
          "OIL & GAS PRODUCTION",
          "OIL & GAS PRODUCTION",
          "OIL & GAS PRODUCTION",
          "OILFIELD SERVICES/EQUIPMENT",
          "OIL & GAS PRODUCTION",
          "OIL & GAS PRODUCTION",
          "OIL & GAS PRODUCTION",
          "OIL & GAS PRODUCTION",
          "INTEGRATED OIL COMPANIES",
          "METAL FABRICATIONS",
          "INTEGRATED OIL COMPANIES"
         ],
         "legendgroup": "ENERGY",
         "marker": {
          "color": "#FED4C4",
          "line": {
           "color": "DarkSlateGrey",
           "width": 1
          },
          "opacity": 0.7,
          "size": 8,
          "symbol": "x"
         },
         "mode": "markers",
         "name": "ENERGY",
         "orientation": "v",
         "showlegend": true,
         "type": "scatter",
         "x": [
          -0.6817523241043091,
          -0.7666919827461243,
          -0.7378076314926147,
          -0.07614816725254059,
          -0.13392123579978943,
          -0.7231725454330444,
          -0.4483315944671631,
          -0.3137783110141754,
          -0.7408304810523987,
          0.08885139226913452,
          -0.6696052551269531,
          -0.6584123969078064,
          -0.6231988072395325,
          -0.3789510726928711,
          -0.7494823336601257,
          -0.7602238655090332,
          0.5880242586135864,
          -0.7288878560066223,
          -0.6751264333724976,
          -0.6753907799720764,
          0.9119579195976257,
          -0.7228770852088928,
          -0.7372401356697083,
          -0.6850975155830383,
          -0.9128624796867371,
          -0.61002516746521,
          -0.7297472953796387,
          -0.7437906861305237,
          -0.7312580943107605,
          -0.6385120749473572,
          -0.6589383482933044,
          -0.702772319316864,
          -0.739626407623291,
          0.5587224960327148,
          -0.6378307342529297,
          -0.6628286242485046,
          -0.5824533700942993,
          -0.663619875907898,
          -0.7469881176948547,
          -0.6242700219154358,
          -0.6529676914215088,
          -0.6512205600738525,
          -0.6571350693702698,
          -0.6909061670303345,
          -0.6578287482261658,
          -0.1255878210067749
         ],
         "xaxis": "x",
         "y": [
          -0.07794651389122009,
          -0.10437231510877609,
          -0.11042693257331848,
          -0.2807891070842743,
          -0.0008672617259435356,
          -0.11868327856063843,
          -0.026709042489528656,
          -0.01567026600241661,
          -0.05691637098789215,
          0.046148572117090225,
          -0.1249617263674736,
          -0.06618914753198624,
          -0.1428574025630951,
          -0.006987675093114376,
          -0.09081968665122986,
          -0.028194241225719452,
          -0.008866239339113235,
          -0.12023518234491348,
          -0.028988279402256012,
          -0.15467937290668488,
          -0.17685921490192413,
          -0.1308993399143219,
          -0.08963464200496674,
          -0.1328394114971161,
          0.020994707942008972,
          0.24702659249305725,
          -0.07067804783582687,
          -0.08565688133239746,
          -0.11282509565353394,
          -0.12467283010482788,
          -0.1378830373287201,
          -0.153200164437294,
          -0.08517690747976303,
          0.3721153140068054,
          -0.14344899356365204,
          -0.14324884116649628,
          -0.010061804205179214,
          -0.07090279459953308,
          -0.1219855472445488,
          -0.1042483001947403,
          -0.1332540363073349,
          -0.18666614592075348,
          -0.10880923271179199,
          -0.10307937115430832,
          -0.13718752562999725,
          0.004742799326777458
         ],
         "yaxis": "y"
        }
       ],
       "layout": {
        "height": 550,
        "legend": {
         "orientation": "h",
         "title": {
          "text": "Sector"
         },
         "tracegroupgap": 0,
         "x": 1,
         "xanchor": "right",
         "y": 1.02,
         "yanchor": "bottom"
        },
        "margin": {
         "t": 60
        },
        "template": {
         "data": {
          "bar": [
           {
            "error_x": {
             "color": "#2a3f5f"
            },
            "error_y": {
             "color": "#2a3f5f"
            },
            "marker": {
             "line": {
              "color": "white",
              "width": 0.5
             },
             "pattern": {
              "fillmode": "overlay",
              "size": 10,
              "solidity": 0.2
             }
            },
            "type": "bar"
           }
          ],
          "barpolar": [
           {
            "marker": {
             "line": {
              "color": "white",
              "width": 0.5
             },
             "pattern": {
              "fillmode": "overlay",
              "size": 10,
              "solidity": 0.2
             }
            },
            "type": "barpolar"
           }
          ],
          "carpet": [
           {
            "aaxis": {
             "endlinecolor": "#2a3f5f",
             "gridcolor": "#C8D4E3",
             "linecolor": "#C8D4E3",
             "minorgridcolor": "#C8D4E3",
             "startlinecolor": "#2a3f5f"
            },
            "baxis": {
             "endlinecolor": "#2a3f5f",
             "gridcolor": "#C8D4E3",
             "linecolor": "#C8D4E3",
             "minorgridcolor": "#C8D4E3",
             "startlinecolor": "#2a3f5f"
            },
            "type": "carpet"
           }
          ],
          "choropleth": [
           {
            "colorbar": {
             "outlinewidth": 0,
             "ticks": ""
            },
            "type": "choropleth"
           }
          ],
          "contour": [
           {
            "colorbar": {
             "outlinewidth": 0,
             "ticks": ""
            },
            "colorscale": [
             [
              0,
              "#0d0887"
             ],
             [
              0.1111111111111111,
              "#46039f"
             ],
             [
              0.2222222222222222,
              "#7201a8"
             ],
             [
              0.3333333333333333,
              "#9c179e"
             ],
             [
              0.4444444444444444,
              "#bd3786"
             ],
             [
              0.5555555555555556,
              "#d8576b"
             ],
             [
              0.6666666666666666,
              "#ed7953"
             ],
             [
              0.7777777777777778,
              "#fb9f3a"
             ],
             [
              0.8888888888888888,
              "#fdca26"
             ],
             [
              1,
              "#f0f921"
             ]
            ],
            "type": "contour"
           }
          ],
          "contourcarpet": [
           {
            "colorbar": {
             "outlinewidth": 0,
             "ticks": ""
            },
            "type": "contourcarpet"
           }
          ],
          "heatmap": [
           {
            "colorbar": {
             "outlinewidth": 0,
             "ticks": ""
            },
            "colorscale": [
             [
              0,
              "#0d0887"
             ],
             [
              0.1111111111111111,
              "#46039f"
             ],
             [
              0.2222222222222222,
              "#7201a8"
             ],
             [
              0.3333333333333333,
              "#9c179e"
             ],
             [
              0.4444444444444444,
              "#bd3786"
             ],
             [
              0.5555555555555556,
              "#d8576b"
             ],
             [
              0.6666666666666666,
              "#ed7953"
             ],
             [
              0.7777777777777778,
              "#fb9f3a"
             ],
             [
              0.8888888888888888,
              "#fdca26"
             ],
             [
              1,
              "#f0f921"
             ]
            ],
            "type": "heatmap"
           }
          ],
          "heatmapgl": [
           {
            "colorbar": {
             "outlinewidth": 0,
             "ticks": ""
            },
            "colorscale": [
             [
              0,
              "#0d0887"
             ],
             [
              0.1111111111111111,
              "#46039f"
             ],
             [
              0.2222222222222222,
              "#7201a8"
             ],
             [
              0.3333333333333333,
              "#9c179e"
             ],
             [
              0.4444444444444444,
              "#bd3786"
             ],
             [
              0.5555555555555556,
              "#d8576b"
             ],
             [
              0.6666666666666666,
              "#ed7953"
             ],
             [
              0.7777777777777778,
              "#fb9f3a"
             ],
             [
              0.8888888888888888,
              "#fdca26"
             ],
             [
              1,
              "#f0f921"
             ]
            ],
            "type": "heatmapgl"
           }
          ],
          "histogram": [
           {
            "marker": {
             "pattern": {
              "fillmode": "overlay",
              "size": 10,
              "solidity": 0.2
             }
            },
            "type": "histogram"
           }
          ],
          "histogram2d": [
           {
            "colorbar": {
             "outlinewidth": 0,
             "ticks": ""
            },
            "colorscale": [
             [
              0,
              "#0d0887"
             ],
             [
              0.1111111111111111,
              "#46039f"
             ],
             [
              0.2222222222222222,
              "#7201a8"
             ],
             [
              0.3333333333333333,
              "#9c179e"
             ],
             [
              0.4444444444444444,
              "#bd3786"
             ],
             [
              0.5555555555555556,
              "#d8576b"
             ],
             [
              0.6666666666666666,
              "#ed7953"
             ],
             [
              0.7777777777777778,
              "#fb9f3a"
             ],
             [
              0.8888888888888888,
              "#fdca26"
             ],
             [
              1,
              "#f0f921"
             ]
            ],
            "type": "histogram2d"
           }
          ],
          "histogram2dcontour": [
           {
            "colorbar": {
             "outlinewidth": 0,
             "ticks": ""
            },
            "colorscale": [
             [
              0,
              "#0d0887"
             ],
             [
              0.1111111111111111,
              "#46039f"
             ],
             [
              0.2222222222222222,
              "#7201a8"
             ],
             [
              0.3333333333333333,
              "#9c179e"
             ],
             [
              0.4444444444444444,
              "#bd3786"
             ],
             [
              0.5555555555555556,
              "#d8576b"
             ],
             [
              0.6666666666666666,
              "#ed7953"
             ],
             [
              0.7777777777777778,
              "#fb9f3a"
             ],
             [
              0.8888888888888888,
              "#fdca26"
             ],
             [
              1,
              "#f0f921"
             ]
            ],
            "type": "histogram2dcontour"
           }
          ],
          "mesh3d": [
           {
            "colorbar": {
             "outlinewidth": 0,
             "ticks": ""
            },
            "type": "mesh3d"
           }
          ],
          "parcoords": [
           {
            "line": {
             "colorbar": {
              "outlinewidth": 0,
              "ticks": ""
             }
            },
            "type": "parcoords"
           }
          ],
          "pie": [
           {
            "automargin": true,
            "type": "pie"
           }
          ],
          "scatter": [
           {
            "fillpattern": {
             "fillmode": "overlay",
             "size": 10,
             "solidity": 0.2
            },
            "type": "scatter"
           }
          ],
          "scatter3d": [
           {
            "line": {
             "colorbar": {
              "outlinewidth": 0,
              "ticks": ""
             }
            },
            "marker": {
             "colorbar": {
              "outlinewidth": 0,
              "ticks": ""
             }
            },
            "type": "scatter3d"
           }
          ],
          "scattercarpet": [
           {
            "marker": {
             "colorbar": {
              "outlinewidth": 0,
              "ticks": ""
             }
            },
            "type": "scattercarpet"
           }
          ],
          "scattergeo": [
           {
            "marker": {
             "colorbar": {
              "outlinewidth": 0,
              "ticks": ""
             }
            },
            "type": "scattergeo"
           }
          ],
          "scattergl": [
           {
            "marker": {
             "colorbar": {
              "outlinewidth": 0,
              "ticks": ""
             }
            },
            "type": "scattergl"
           }
          ],
          "scattermapbox": [
           {
            "marker": {
             "colorbar": {
              "outlinewidth": 0,
              "ticks": ""
             }
            },
            "type": "scattermapbox"
           }
          ],
          "scatterpolar": [
           {
            "marker": {
             "colorbar": {
              "outlinewidth": 0,
              "ticks": ""
             }
            },
            "type": "scatterpolar"
           }
          ],
          "scatterpolargl": [
           {
            "marker": {
             "colorbar": {
              "outlinewidth": 0,
              "ticks": ""
             }
            },
            "type": "scatterpolargl"
           }
          ],
          "scatterternary": [
           {
            "marker": {
             "colorbar": {
              "outlinewidth": 0,
              "ticks": ""
             }
            },
            "type": "scatterternary"
           }
          ],
          "surface": [
           {
            "colorbar": {
             "outlinewidth": 0,
             "ticks": ""
            },
            "colorscale": [
             [
              0,
              "#0d0887"
             ],
             [
              0.1111111111111111,
              "#46039f"
             ],
             [
              0.2222222222222222,
              "#7201a8"
             ],
             [
              0.3333333333333333,
              "#9c179e"
             ],
             [
              0.4444444444444444,
              "#bd3786"
             ],
             [
              0.5555555555555556,
              "#d8576b"
             ],
             [
              0.6666666666666666,
              "#ed7953"
             ],
             [
              0.7777777777777778,
              "#fb9f3a"
             ],
             [
              0.8888888888888888,
              "#fdca26"
             ],
             [
              1,
              "#f0f921"
             ]
            ],
            "type": "surface"
           }
          ],
          "table": [
           {
            "cells": {
             "fill": {
              "color": "#EBF0F8"
             },
             "line": {
              "color": "white"
             }
            },
            "header": {
             "fill": {
              "color": "#C8D4E3"
             },
             "line": {
              "color": "white"
             }
            },
            "type": "table"
           }
          ]
         },
         "layout": {
          "annotationdefaults": {
           "arrowcolor": "#2a3f5f",
           "arrowhead": 0,
           "arrowwidth": 1
          },
          "autotypenumbers": "strict",
          "coloraxis": {
           "colorbar": {
            "outlinewidth": 0,
            "ticks": ""
           }
          },
          "colorscale": {
           "diverging": [
            [
             0,
             "#8e0152"
            ],
            [
             0.1,
             "#c51b7d"
            ],
            [
             0.2,
             "#de77ae"
            ],
            [
             0.3,
             "#f1b6da"
            ],
            [
             0.4,
             "#fde0ef"
            ],
            [
             0.5,
             "#f7f7f7"
            ],
            [
             0.6,
             "#e6f5d0"
            ],
            [
             0.7,
             "#b8e186"
            ],
            [
             0.8,
             "#7fbc41"
            ],
            [
             0.9,
             "#4d9221"
            ],
            [
             1,
             "#276419"
            ]
           ],
           "sequential": [
            [
             0,
             "#0d0887"
            ],
            [
             0.1111111111111111,
             "#46039f"
            ],
            [
             0.2222222222222222,
             "#7201a8"
            ],
            [
             0.3333333333333333,
             "#9c179e"
            ],
            [
             0.4444444444444444,
             "#bd3786"
            ],
            [
             0.5555555555555556,
             "#d8576b"
            ],
            [
             0.6666666666666666,
             "#ed7953"
            ],
            [
             0.7777777777777778,
             "#fb9f3a"
            ],
            [
             0.8888888888888888,
             "#fdca26"
            ],
            [
             1,
             "#f0f921"
            ]
           ],
           "sequentialminus": [
            [
             0,
             "#0d0887"
            ],
            [
             0.1111111111111111,
             "#46039f"
            ],
            [
             0.2222222222222222,
             "#7201a8"
            ],
            [
             0.3333333333333333,
             "#9c179e"
            ],
            [
             0.4444444444444444,
             "#bd3786"
            ],
            [
             0.5555555555555556,
             "#d8576b"
            ],
            [
             0.6666666666666666,
             "#ed7953"
            ],
            [
             0.7777777777777778,
             "#fb9f3a"
            ],
            [
             0.8888888888888888,
             "#fdca26"
            ],
            [
             1,
             "#f0f921"
            ]
           ]
          },
          "colorway": [
           "#636efa",
           "#EF553B",
           "#00cc96",
           "#ab63fa",
           "#FFA15A",
           "#19d3f3",
           "#FF6692",
           "#B6E880",
           "#FF97FF",
           "#FECB52"
          ],
          "font": {
           "color": "#2a3f5f"
          },
          "geo": {
           "bgcolor": "white",
           "lakecolor": "white",
           "landcolor": "white",
           "showlakes": true,
           "showland": true,
           "subunitcolor": "#C8D4E3"
          },
          "hoverlabel": {
           "align": "left"
          },
          "hovermode": "closest",
          "mapbox": {
           "style": "light"
          },
          "paper_bgcolor": "white",
          "plot_bgcolor": "white",
          "polar": {
           "angularaxis": {
            "gridcolor": "#EBF0F8",
            "linecolor": "#EBF0F8",
            "ticks": ""
           },
           "bgcolor": "white",
           "radialaxis": {
            "gridcolor": "#EBF0F8",
            "linecolor": "#EBF0F8",
            "ticks": ""
           }
          },
          "scene": {
           "xaxis": {
            "backgroundcolor": "white",
            "gridcolor": "#DFE8F3",
            "gridwidth": 2,
            "linecolor": "#EBF0F8",
            "showbackground": true,
            "ticks": "",
            "zerolinecolor": "#EBF0F8"
           },
           "yaxis": {
            "backgroundcolor": "white",
            "gridcolor": "#DFE8F3",
            "gridwidth": 2,
            "linecolor": "#EBF0F8",
            "showbackground": true,
            "ticks": "",
            "zerolinecolor": "#EBF0F8"
           },
           "zaxis": {
            "backgroundcolor": "white",
            "gridcolor": "#DFE8F3",
            "gridwidth": 2,
            "linecolor": "#EBF0F8",
            "showbackground": true,
            "ticks": "",
            "zerolinecolor": "#EBF0F8"
           }
          },
          "shapedefaults": {
           "line": {
            "color": "#2a3f5f"
           }
          },
          "ternary": {
           "aaxis": {
            "gridcolor": "#DFE8F3",
            "linecolor": "#A2B1C6",
            "ticks": ""
           },
           "baxis": {
            "gridcolor": "#DFE8F3",
            "linecolor": "#A2B1C6",
            "ticks": ""
           },
           "bgcolor": "white",
           "caxis": {
            "gridcolor": "#DFE8F3",
            "linecolor": "#A2B1C6",
            "ticks": ""
           }
          },
          "title": {
           "x": 0.05
          },
          "xaxis": {
           "automargin": true,
           "gridcolor": "#EBF0F8",
           "linecolor": "#EBF0F8",
           "ticks": "",
           "title": {
            "standoff": 15
           },
           "zerolinecolor": "#EBF0F8",
           "zerolinewidth": 2
          },
          "yaxis": {
           "automargin": true,
           "gridcolor": "#EBF0F8",
           "linecolor": "#EBF0F8",
           "ticks": "",
           "title": {
            "standoff": 15
           },
           "zerolinecolor": "#EBF0F8",
           "zerolinewidth": 2
          }
         }
        },
        "width": 650,
        "xaxis": {
         "anchor": "y",
         "domain": [
          0,
          1
         ],
         "title": {
          "text": "PC1"
         }
        },
        "yaxis": {
         "anchor": "x",
         "domain": [
          0,
          1
         ],
         "title": {
          "text": "PC2"
         }
        }
       }
      }
     },
     "metadata": {},
     "output_type": "display_data"
    }
   ],
   "source": [
    "from utils.visualisation_functions import pca_plot_from_embeddings\n",
    "\n",
    "pca_plot_from_embeddings(\n",
    "    embedding_matrix=embeddings.weight.detach().numpy(),\n",
    "    sectors=data.sectors,\n",
    "    tickers=data.tickers,\n",
    "    industries=data.industries,\n",
    "    names=data.names,\n",
    "    dimensions=2,\n",
    "    reduced=True,\n",
    "    method=\"PCA\",\n",
    "    return_df=False,\n",
    "    rand_state=None,\n",
    ")"
   ]
  },
  {
   "cell_type": "code",
   "execution_count": 121,
   "metadata": {},
   "outputs": [
    {
     "name": "stderr",
     "output_type": "stream",
     "text": [
      "100%|██████████| 19/19 [00:00<00:00, 42.47it/s]\n"
     ]
    },
    {
     "data": {
      "text/plain": [
       "{'precision': 0.6288955675728009,\n",
       " 'recall': 0.6059782608695651,\n",
       " 'f1-score': 0.6118027998776332,\n",
       " 'accuracy': 0.6059782608695652}"
      ]
     },
     "execution_count": 121,
     "metadata": {},
     "output_type": "execute_result"
    }
   ],
   "source": [
    "from sklearn.neighbors import KNeighborsClassifier\n",
    "import numpy as np\n",
    "embeddings = embeddings.weight.detach()\n",
    "train_size = int(len(data.sectors)*0.7)\n",
    "X_train = embeddings[:train_size, :]\n",
    "X_test = embeddings[train_size:, :]\n",
    "y_train = data.sectors[:train_size]\n",
    "y_test = data.sectors[train_size:]\n",
    "\n",
    "from sklearn.svm import SVC\n",
    "from sklearn.tree import DecisionTreeClassifier\n",
    "from sklearn.linear_model import LogisticRegression\n",
    "from sklearn.neural_network import MLPClassifier\n",
    "from utils.ucr_helpers import evaluate_resampling_UCR\n",
    "report, _, _ = evaluate_resampling_UCR(\n",
    "    X_train,\n",
    "    X_test,\n",
    "    y_train,\n",
    "    y_test,\n",
    "    # classifier=SVC(kernel=\"rbf\"),\n",
    "    # classifier=LogisticRegression(),\n",
    "    classifier=KNeighborsClassifier(n_neighbors=1),\n",
    "    # classifier=MLPClassifier(),\n",
    "    n_resamples=20,\n",
    "    verbose=True,\n",
    "    scale=False,\n",
    "    over_sampling=True\n",
    ")\n",
    "report"
   ]
  }
 ],
 "metadata": {
  "kernelspec": {
   "display_name": "phd",
   "language": "python",
   "name": "python3"
  },
  "language_info": {
   "codemirror_mode": {
    "name": "ipython",
    "version": 3
   },
   "file_extension": ".py",
   "mimetype": "text/x-python",
   "name": "python",
   "nbconvert_exporter": "python",
   "pygments_lexer": "ipython3",
   "version": "3.11.6"
  }
 },
 "nbformat": 4,
 "nbformat_minor": 2
}
