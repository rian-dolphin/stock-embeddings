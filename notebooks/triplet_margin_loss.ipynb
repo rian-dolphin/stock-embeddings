{
 "cells": [
  {
   "cell_type": "markdown",
   "metadata": {},
   "source": [
    "### Triplet Contrastive Loss\n",
    "https://arxiv.org/pdf/1503.03832.pdf\n",
    "\n",
    "Simple triplet margin loss implementation as a baseline. Anchor with single positive and negative."
   ]
  },
  {
   "cell_type": "code",
   "execution_count": 1,
   "metadata": {},
   "outputs": [],
   "source": [
    "%load_ext autoreload\n",
    "%autoreload 2\n",
    "import sys\n",
    "sys.path.append('../')"
   ]
  },
  {
   "cell_type": "code",
   "execution_count": 2,
   "metadata": {},
   "outputs": [],
   "source": [
    "from utils.returns_data_class import ReturnsData\n",
    "PERIOD = 20\n",
    "data = ReturnsData(\n",
    "    daily_returns_path=\"../Data/returns_df_611.csv\",\n",
    "    extras_path=\"../Data/historical_stocks.csv\",\n",
    ")\n",
    "data.change_returns_period(PERIOD)\n",
    "X = data.returns_df.values.T"
   ]
  },
  {
   "cell_type": "code",
   "execution_count": 3,
   "metadata": {},
   "outputs": [
    {
     "data": {
      "text/plain": [
       "(611, 234)"
      ]
     },
     "execution_count": 3,
     "metadata": {},
     "output_type": "execute_result"
    }
   ],
   "source": [
    "X.shape"
   ]
  },
  {
   "cell_type": "code",
   "execution_count": 8,
   "metadata": {},
   "outputs": [
    {
     "name": "stdout",
     "output_type": "stream",
     "text": [
      "Context Size: 10, Period: 10, Stride: 3\n",
      "Number of Negative Samples: 25\n"
     ]
    },
    {
     "name": "stdout",
     "output_type": "stream",
     "text": [
      "Number (anchor, positive, negative) samples: 45825\n"
     ]
    }
   ],
   "source": [
    "num_TS = X.shape[0]\n",
    "num_pos_samples = 10\n",
    "period = 10\n",
    "stride = 3\n",
    "num_neg_samples = max(num_pos_samples, 25)\n",
    "\n",
    "print(f\"Context Size: {num_pos_samples}, Period: {period}, Stride: {stride}\")\n",
    "print(f\"Number of Negative Samples: {num_neg_samples}\")\n",
    "\n",
    "from utils.context import get_tgt_context_euclidean_multiprocess\n",
    "positive_tgt_context_sets = get_tgt_context_euclidean_multiprocess(ts_array=X, m=period, k=num_pos_samples, stride=stride, z_normalize=False, verbose=False)\n",
    "negative_tgt_context_sets = get_tgt_context_euclidean_multiprocess(ts_array=X, m=period, k=num_neg_samples, stride=stride, z_normalize=False, top_k=False, verbose=False)\n",
    "print(f\"Number (anchor, positive, negative) samples: {len(positive_tgt_context_sets)}\")"
   ]
  },
  {
   "cell_type": "code",
   "execution_count": 9,
   "metadata": {},
   "outputs": [],
   "source": [
    "index_samples = []\n",
    "for pos, neg in zip(positive_tgt_context_sets,negative_tgt_context_sets):\n",
    "    index_samples.append((pos[0], pos[1][0], neg[1][0]))"
   ]
  },
  {
   "cell_type": "code",
   "execution_count": 18,
   "metadata": {},
   "outputs": [
    {
     "name": "stdout",
     "output_type": "stream",
     "text": [
      "Epoch [1/100], Loss: 0.9396817772169299\n",
      "Epoch [11/100], Loss: 0.1571105663615349\n",
      "Epoch [21/100], Loss: 0.1084548790983254\n",
      "Epoch [31/100], Loss: 0.08388686467034737\n",
      "Epoch [41/100], Loss: 0.06774600644007035\n",
      "Epoch [51/100], Loss: 0.056713943792543374\n",
      "Epoch [61/100], Loss: 0.0488764102308697\n",
      "Epoch [71/100], Loss: 0.04271977274447763\n",
      "Epoch [81/100], Loss: 0.037823040562378334\n",
      "Epoch [91/100], Loss: 0.03380201569651993\n",
      "Epoch [100/100], Loss: 0.032446832476510645\n"
     ]
    }
   ],
   "source": [
    "import torch\n",
    "import torch.nn as nn\n",
    "import torch.optim as optim\n",
    "from torch.utils.data import DataLoader, TensorDataset\n",
    "\n",
    "# Parameters\n",
    "num_items = num_TS  # Number of items in your dataset\n",
    "embedding_size = 16  # Size of each embedding\n",
    "learning_rate = 0.001\n",
    "epochs = 100\n",
    "batch_size = 128\n",
    "\n",
    "# Initialize the embedding matrix\n",
    "embeddings = nn.Embedding(num_embeddings=num_items, embedding_dim=embedding_size)\n",
    "\n",
    "# Triplet margin loss\n",
    "triplet_loss = nn.TripletMarginLoss(margin=1.0, p=2)\n",
    "\n",
    "# Optimizer\n",
    "optimizer = optim.Adam(embeddings.parameters(), lr=learning_rate)\n",
    "\n",
    "# Prepare your index_samples as a tensor\n",
    "# index_samples = torch.tensor([(35, 12, 98), (47, 12, 4), ...])  # Your index tuples as a tensor\n",
    "# DataLoader for batching\n",
    "dataset = TensorDataset(torch.tensor(index_samples))\n",
    "data_loader = DataLoader(dataset, batch_size=batch_size, shuffle=True)\n",
    "\n",
    "# Training loop with batching\n",
    "\n",
    "def train(embeddings, loss_fn, optimizer, data_loader, epochs=10):\n",
    "    for epoch in range(epochs):\n",
    "        total_loss = 0\n",
    "\n",
    "        for batch in data_loader:\n",
    "            # Get the embeddings for anchor, positive, and negative\n",
    "            batch_embeddings = embeddings(batch[0]) # shape: (batch_size, 3, embedding_dim)\n",
    "            anchor_embedding = batch_embeddings[:,0,:]\n",
    "            positive_embedding = batch_embeddings[:,1,:]\n",
    "            negative_embedding = batch_embeddings[:,2,:]\n",
    "\n",
    "            # Compute the loss\n",
    "            loss = loss_fn(anchor_embedding, positive_embedding, negative_embedding)\n",
    "            total_loss += loss.item()\n",
    "\n",
    "            # Backward pass and optimize\n",
    "            optimizer.zero_grad()\n",
    "            loss.backward()\n",
    "            optimizer.step()\n",
    "\n",
    "        if (epoch % 10 == 0) | (epoch==epochs-1):\n",
    "            print(f'Epoch [{epoch+1}/{epochs}], Loss: {total_loss/len(data_loader)}')\n",
    "\n",
    "# Example index_samples\n",
    "# index_samples = [(35, 12, 98), (47, 12, 4), ...]  # Your index tuples\n",
    "\n",
    "# Call the train function\n",
    "train(embeddings, triplet_loss, optimizer, data_loader, epochs)\n"
   ]
  },
  {
   "cell_type": "markdown",
   "metadata": {},
   "source": [
    "### Get training data"
   ]
  },
  {
   "cell_type": "code",
   "execution_count": 19,
   "metadata": {},
   "outputs": [
    {
     "name": "stdout",
     "output_type": "stream",
     "text": [
      "Precision Score: 0.2\n",
      "Recall Score: 0.18\n",
      "F1 Score: 0.18\n",
      "Accuracy Score: 0.18\n",
      "Accuracy Score Top-3: 0.44\n"
     ]
    }
   ],
   "source": [
    "from utils.sector_classification import get_sector_score\n",
    "\n",
    "get_sector_score(embeddings.weight.detach().numpy(), sectors=data.sectors, top_k_accuracy=True)"
   ]
  },
  {
   "cell_type": "code",
   "execution_count": 15,
   "metadata": {},
   "outputs": [
    {
     "data": {
      "application/vnd.plotly.v1+json": {
       "config": {
        "plotlyServerURL": "https://plot.ly"
       },
       "data": [
        {
         "customdata": [
          [
           "AAPL",
           "TECHNOLOGY",
           "COMPUTER MANUFACTURING"
          ],
          [
           "ACXM",
           "TECHNOLOGY",
           "EDP SERVICES"
          ],
          [
           "ADBE",
           "TECHNOLOGY",
           "COMPUTER SOFTWARE: PREPACKAGED SOFTWARE"
          ],
          [
           "ADI",
           "TECHNOLOGY",
           "SEMICONDUCTORS"
          ],
          [
           "ADP",
           "TECHNOLOGY",
           "EDP SERVICES"
          ],
          [
           "ADSK",
           "TECHNOLOGY",
           "COMPUTER SOFTWARE: PREPACKAGED SOFTWARE"
          ],
          [
           "AGYS",
           "TECHNOLOGY",
           "EDP SERVICES"
          ],
          [
           "AMAT",
           "TECHNOLOGY",
           "SEMICONDUCTORS"
          ],
          [
           "AMSWA",
           "TECHNOLOGY",
           "COMPUTER SOFTWARE: PREPACKAGED SOFTWARE"
          ],
          [
           "BHE",
           "TECHNOLOGY",
           "ELECTRICAL PRODUCTS"
          ],
          [
           "CA",
           "TECHNOLOGY",
           "COMPUTER SOFTWARE: PREPACKAGED SOFTWARE"
          ],
          [
           "CACI",
           "TECHNOLOGY",
           "EDP SERVICES"
          ],
          [
           "CDNS",
           "TECHNOLOGY",
           "COMPUTER SOFTWARE: PREPACKAGED SOFTWARE"
          ],
          [
           "CERN",
           "TECHNOLOGY",
           "EDP SERVICES"
          ],
          [
           "CLGX",
           "TECHNOLOGY",
           "EDP SERVICES"
          ],
          [
           "CMTL",
           "TECHNOLOGY",
           "RADIO AND TELEVISION BROADCASTING AND COMMUNICATIONS EQUIPMENT"
          ],
          [
           "CRUS",
           "TECHNOLOGY",
           "SEMICONDUCTORS"
          ],
          [
           "CSCO",
           "TECHNOLOGY",
           "COMPUTER COMMUNICATIONS EQUIPMENT"
          ],
          [
           "CTS",
           "TECHNOLOGY",
           "ELECTRICAL PRODUCTS"
          ],
          [
           "CW",
           "TECHNOLOGY",
           "INDUSTRIAL MACHINERY/COMPONENTS"
          ],
          [
           "CY",
           "TECHNOLOGY",
           "SEMICONDUCTORS"
          ],
          [
           "DGII",
           "TECHNOLOGY",
           "COMPUTER COMMUNICATIONS EQUIPMENT"
          ],
          [
           "DIOD",
           "TECHNOLOGY",
           "SEMICONDUCTORS"
          ],
          [
           "DOV",
           "TECHNOLOGY",
           "INDUSTRIAL MACHINERY/COMPONENTS"
          ],
          [
           "EA",
           "TECHNOLOGY",
           "COMPUTER SOFTWARE: PREPACKAGED SOFTWARE"
          ],
          [
           "ERIC",
           "TECHNOLOGY",
           "RADIO AND TELEVISION BROADCASTING AND COMMUNICATIONS EQUIPMENT"
          ],
          [
           "ETN",
           "TECHNOLOGY",
           "INDUSTRIAL MACHINERY/COMPONENTS"
          ],
          [
           "FISV",
           "TECHNOLOGY",
           "EDP SERVICES"
          ],
          [
           "HPQ",
           "TECHNOLOGY",
           "COMPUTER MANUFACTURING"
          ],
          [
           "IBM",
           "TECHNOLOGY",
           "COMPUTER MANUFACTURING"
          ],
          [
           "IDTI",
           "TECHNOLOGY",
           "SEMICONDUCTORS"
          ],
          [
           "INTC",
           "TECHNOLOGY",
           "SEMICONDUCTORS"
          ],
          [
           "IPG",
           "TECHNOLOGY",
           "ADVERTISING"
          ],
          [
           "ITW",
           "TECHNOLOGY",
           "INDUSTRIAL MACHINERY/COMPONENTS"
          ],
          [
           "JKHY",
           "TECHNOLOGY",
           "EDP SERVICES"
          ],
          [
           "KELYA",
           "TECHNOLOGY",
           "PROFESSIONAL SERVICES"
          ],
          [
           "KLIC",
           "TECHNOLOGY",
           "SEMICONDUCTORS"
          ],
          [
           "LRCX",
           "TECHNOLOGY",
           "INDUSTRIAL MACHINERY/COMPONENTS"
          ],
          [
           "LSCC",
           "TECHNOLOGY",
           "SEMICONDUCTORS"
          ],
          [
           "MAN",
           "TECHNOLOGY",
           "PROFESSIONAL SERVICES"
          ],
          [
           "MSFT",
           "TECHNOLOGY",
           "COMPUTER SOFTWARE: PREPACKAGED SOFTWARE"
          ],
          [
           "MSI",
           "TECHNOLOGY",
           "RADIO AND TELEVISION BROADCASTING AND COMMUNICATIONS EQUIPMENT"
          ],
          [
           "MU",
           "TECHNOLOGY",
           "SEMICONDUCTORS"
          ],
          [
           "MXIM",
           "TECHNOLOGY",
           "SEMICONDUCTORS"
          ],
          [
           "OMC",
           "TECHNOLOGY",
           "ADVERTISING"
          ],
          [
           "ORCL",
           "TECHNOLOGY",
           "COMPUTER SOFTWARE: PREPACKAGED SOFTWARE"
          ],
          [
           "PKE",
           "TECHNOLOGY",
           "ELECTRICAL PRODUCTS"
          ],
          [
           "PLAB",
           "TECHNOLOGY",
           "SEMICONDUCTORS"
          ],
          [
           "PLXS",
           "TECHNOLOGY",
           "ELECTRICAL PRODUCTS"
          ],
          [
           "PNR",
           "TECHNOLOGY",
           "INDUSTRIAL MACHINERY/COMPONENTS"
          ],
          [
           "PTC",
           "TECHNOLOGY",
           "COMPUTER SOFTWARE: PREPACKAGED SOFTWARE"
          ],
          [
           "SGMS",
           "TECHNOLOGY",
           "EDP SERVICES"
          ],
          [
           "SIGM",
           "TECHNOLOGY",
           "SEMICONDUCTORS"
          ],
          [
           "SMTC",
           "TECHNOLOGY",
           "SEMICONDUCTORS"
          ],
          [
           "SPXC",
           "TECHNOLOGY",
           "INDUSTRIAL MACHINERY/COMPONENTS"
          ],
          [
           "SWKS",
           "TECHNOLOGY",
           "SEMICONDUCTORS"
          ],
          [
           "SXI",
           "TECHNOLOGY",
           "INDUSTRIAL MACHINERY/COMPONENTS"
          ],
          [
           "SYMC",
           "TECHNOLOGY",
           "COMPUTER SOFTWARE: PREPACKAGED SOFTWARE"
          ],
          [
           "TECD",
           "TECHNOLOGY",
           "RETAIL: COMPUTER SOFTWARE & PERIPHERAL EQUIPMENT"
          ],
          [
           "TXN",
           "TECHNOLOGY",
           "SEMICONDUCTORS"
          ],
          [
           "TYL",
           "TECHNOLOGY",
           "COMPUTER SOFTWARE: PREPACKAGED SOFTWARE"
          ],
          [
           "UIS",
           "TECHNOLOGY",
           "EDP SERVICES"
          ],
          [
           "WDC",
           "TECHNOLOGY",
           "ELECTRONIC COMPONENTS"
          ],
          [
           "WPP",
           "TECHNOLOGY",
           "ADVERTISING"
          ],
          [
           "XLNX",
           "TECHNOLOGY",
           "SEMICONDUCTORS"
          ],
          [
           "XRX",
           "TECHNOLOGY",
           "COMPUTER PERIPHERAL EQUIPMENT"
          ],
          [
           "ZIXI",
           "TECHNOLOGY",
           "EDP SERVICES"
          ]
         ],
         "hovertemplate": "<b>%{hovertext}</b><br><br>Sector=%{customdata[1]}<br>PC1=%{x}<br>PC2=%{y}<br>ticker=%{customdata[0]}<br>industry=%{customdata[2]}<extra></extra>",
         "hovertext": [
          "COMPUTER MANUFACTURING",
          "EDP SERVICES",
          "COMPUTER SOFTWARE: PREPACKAGED SOFTWARE",
          "SEMICONDUCTORS",
          "EDP SERVICES",
          "COMPUTER SOFTWARE: PREPACKAGED SOFTWARE",
          "EDP SERVICES",
          "SEMICONDUCTORS",
          "COMPUTER SOFTWARE: PREPACKAGED SOFTWARE",
          "ELECTRICAL PRODUCTS",
          "COMPUTER SOFTWARE: PREPACKAGED SOFTWARE",
          "EDP SERVICES",
          "COMPUTER SOFTWARE: PREPACKAGED SOFTWARE",
          "EDP SERVICES",
          "EDP SERVICES",
          "RADIO AND TELEVISION BROADCASTING AND COMMUNICATIONS EQUIPMENT",
          "SEMICONDUCTORS",
          "COMPUTER COMMUNICATIONS EQUIPMENT",
          "ELECTRICAL PRODUCTS",
          "INDUSTRIAL MACHINERY/COMPONENTS",
          "SEMICONDUCTORS",
          "COMPUTER COMMUNICATIONS EQUIPMENT",
          "SEMICONDUCTORS",
          "INDUSTRIAL MACHINERY/COMPONENTS",
          "COMPUTER SOFTWARE: PREPACKAGED SOFTWARE",
          "RADIO AND TELEVISION BROADCASTING AND COMMUNICATIONS EQUIPMENT",
          "INDUSTRIAL MACHINERY/COMPONENTS",
          "EDP SERVICES",
          "COMPUTER MANUFACTURING",
          "COMPUTER MANUFACTURING",
          "SEMICONDUCTORS",
          "SEMICONDUCTORS",
          "ADVERTISING",
          "INDUSTRIAL MACHINERY/COMPONENTS",
          "EDP SERVICES",
          "PROFESSIONAL SERVICES",
          "SEMICONDUCTORS",
          "INDUSTRIAL MACHINERY/COMPONENTS",
          "SEMICONDUCTORS",
          "PROFESSIONAL SERVICES",
          "COMPUTER SOFTWARE: PREPACKAGED SOFTWARE",
          "RADIO AND TELEVISION BROADCASTING AND COMMUNICATIONS EQUIPMENT",
          "SEMICONDUCTORS",
          "SEMICONDUCTORS",
          "ADVERTISING",
          "COMPUTER SOFTWARE: PREPACKAGED SOFTWARE",
          "ELECTRICAL PRODUCTS",
          "SEMICONDUCTORS",
          "ELECTRICAL PRODUCTS",
          "INDUSTRIAL MACHINERY/COMPONENTS",
          "COMPUTER SOFTWARE: PREPACKAGED SOFTWARE",
          "EDP SERVICES",
          "SEMICONDUCTORS",
          "SEMICONDUCTORS",
          "INDUSTRIAL MACHINERY/COMPONENTS",
          "SEMICONDUCTORS",
          "INDUSTRIAL MACHINERY/COMPONENTS",
          "COMPUTER SOFTWARE: PREPACKAGED SOFTWARE",
          "RETAIL: COMPUTER SOFTWARE & PERIPHERAL EQUIPMENT",
          "SEMICONDUCTORS",
          "COMPUTER SOFTWARE: PREPACKAGED SOFTWARE",
          "EDP SERVICES",
          "ELECTRONIC COMPONENTS",
          "ADVERTISING",
          "SEMICONDUCTORS",
          "COMPUTER PERIPHERAL EQUIPMENT",
          "EDP SERVICES"
         ],
         "legendgroup": "TECHNOLOGY",
         "marker": {
          "color": "#FD3216",
          "line": {
           "color": "DarkSlateGrey",
           "width": 1
          },
          "opacity": 0.7,
          "size": 8,
          "symbol": "circle"
         },
         "mode": "markers",
         "name": "TECHNOLOGY",
         "orientation": "v",
         "showlegend": true,
         "type": "scatter",
         "x": [
          0.47291046380996704,
          0.1418619006872177,
          0.428310751914978,
          0.09526839107275009,
          0.12304891645908356,
          0.5451381802558899,
          1.4560527801513672,
          0.5464493632316589,
          -2.667855739593506,
          0.5372524857521057,
          -0.5100553631782532,
          -0.1605411320924759,
          0.6804925203323364,
          -1.6350737810134888,
          -1.2091119289398193,
          -0.46705588698387146,
          -0.2718197703361511,
          1.3197168111801147,
          -0.9608651995658875,
          -0.1425338089466095,
          0.5017349123954773,
          1.375959038734436,
          -1.6242974996566772,
          -0.5682333707809448,
          0.16854646801948547,
          0.4984988272190094,
          0.01731998473405838,
          0.4648061692714691,
          -0.9058671593666077,
          -0.7945232391357422,
          -1.7272711992263794,
          -0.49340516328811646,
          0.32370704412460327,
          -0.36719977855682373,
          0.009322610683739185,
          0.19244620203971863,
          -0.5348694920539856,
          0.1690080165863037,
          1.3907866477966309,
          0.14391137659549713,
          -0.7024312019348145,
          1.0275441408157349,
          -1.6675281524658203,
          0.41945263743400574,
          -0.3096972405910492,
          -0.4266946315765381,
          1.1838243007659912,
          1.3837101459503174,
          0.6442325711250305,
          0.3081703186035156,
          -1.6263148784637451,
          -2.466587543487549,
          4.689138889312744,
          -0.8468388319015503,
          -0.9813647866249084,
          -0.22430460155010223,
          -0.27393054962158203,
          0.7152990698814392,
          0.01692189648747444,
          0.6039677262306213,
          1.5059095621109009,
          -0.7844136357307434,
          -1.1013269424438477,
          -0.05999794602394104,
          -0.302791953086853,
          1.0865141153335571,
          -0.3242962956428528
         ],
         "xaxis": "x",
         "y": [
          -0.036613136529922485,
          0.026895951479673386,
          0.05588104575872421,
          -0.6249293684959412,
          0.02768656425178051,
          -0.6536389589309692,
          -3.8952670097351074,
          -0.7196958661079407,
          -1.9155211448669434,
          -0.8698781728744507,
          2.3411943912506104,
          -1.408225178718567,
          1.5942577123641968,
          -0.801828920841217,
          1.4933550357818604,
          -3.159996747970581,
          -1.4800573587417603,
          0.4390454590320587,
          -0.9370925426483154,
          -0.8287703394889832,
          -0.5259751081466675,
          -0.5015704035758972,
          0.05802927166223526,
          -0.18098191916942596,
          -1.6097602844238281,
          -0.04275066405534744,
          -0.36250928044319153,
          -0.4870995879173279,
          0.13589385151863098,
          -0.4186122715473175,
          1.1025832891464233,
          -0.6827739477157593,
          0.6496933102607727,
          0.0819920226931572,
          0.9589396715164185,
          0.25273552536964417,
          -2.529785633087158,
          -0.5327439904212952,
          -1.8759193420410156,
          -0.4080718159675598,
          -0.13696394860744476,
          -0.720905065536499,
          -1.9205955266952515,
          -0.07144143432378769,
          0.7944074273109436,
          0.08551167696714401,
          -0.18740074336528778,
          -1.1143685579299927,
          -2.77398943901062,
          -1.3192647695541382,
          -0.44856467843055725,
          3.840606689453125,
          -1.0546908378601074,
          -0.11224019527435303,
          -0.5497562289237976,
          1.2368870973587036,
          -2.3203353881835938,
          1.4123930931091309,
          -0.9330875873565674,
          0.2102142572402954,
          0.11796332895755768,
          -1.0199148654937744,
          0.8077610731124878,
          -0.31793907284736633,
          0.8660395741462708,
          1.2865679264068604,
          2.953198194503784
         ],
         "yaxis": "y"
        },
        {
         "customdata": [
          [
           "AB",
           "FINANCE",
           "INVESTMENT MANAGERS"
          ],
          [
           "ABM",
           "FINANCE",
           "DIVERSIFIED COMMERCIAL SERVICES"
          ],
          [
           "AEG",
           "FINANCE",
           "LIFE INSURANCE"
          ],
          [
           "AFG",
           "FINANCE",
           "PROPERTY-CASUALTY INSURERS"
          ],
          [
           "AFL",
           "FINANCE",
           "ACCIDENT &HEALTH INSURANCE"
          ],
          [
           "AIG",
           "FINANCE",
           "PROPERTY-CASUALTY INSURERS"
          ],
          [
           "AJG",
           "FINANCE",
           "SPECIALTY INSURERS"
          ],
          [
           "AON",
           "FINANCE",
           "SPECIALTY INSURERS"
          ],
          [
           "ASB",
           "FINANCE",
           "MAJOR BANKS"
          ],
          [
           "AXP",
           "FINANCE",
           "FINANCE: CONSUMER SERVICES"
          ],
          [
           "BAC",
           "FINANCE",
           "MAJOR BANKS"
          ],
          [
           "BBT",
           "FINANCE",
           "MAJOR BANKS"
          ],
          [
           "BBVA",
           "FINANCE",
           "COMMERCIAL BANKS"
          ],
          [
           "BCS",
           "FINANCE",
           "COMMERCIAL BANKS"
          ],
          [
           "BEN",
           "FINANCE",
           "INVESTMENT MANAGERS"
          ],
          [
           "BK",
           "FINANCE",
           "MAJOR BANKS"
          ],
          [
           "BOH",
           "FINANCE",
           "MAJOR BANKS"
          ],
          [
           "BPOP",
           "FINANCE",
           "MAJOR BANKS"
          ],
          [
           "BRO",
           "FINANCE",
           "SPECIALTY INSURERS"
          ],
          [
           "BXS",
           "FINANCE",
           "MAJOR BANKS"
          ],
          [
           "C",
           "FINANCE",
           "MAJOR BANKS"
          ],
          [
           "CB",
           "FINANCE",
           "PROPERTY-CASUALTY INSURERS"
          ],
          [
           "CBSH",
           "FINANCE",
           "MAJOR BANKS"
          ],
          [
           "CFR",
           "FINANCE",
           "MAJOR BANKS"
          ],
          [
           "CIA",
           "FINANCE",
           "LIFE INSURANCE"
          ],
          [
           "CINF",
           "FINANCE",
           "PROPERTY-CASUALTY INSURERS"
          ],
          [
           "CMA",
           "FINANCE",
           "MAJOR BANKS"
          ],
          [
           "CNA",
           "FINANCE",
           "PROPERTY-CASUALTY INSURERS"
          ],
          [
           "CVBF",
           "FINANCE",
           "MAJOR BANKS"
          ],
          [
           "DNB",
           "FINANCE",
           "FINANCE: CONSUMER SERVICES"
          ],
          [
           "EFX",
           "FINANCE",
           "FINANCE: CONSUMER SERVICES"
          ],
          [
           "EV",
           "FINANCE",
           "INVESTMENT MANAGERS"
          ],
          [
           "FBP",
           "FINANCE",
           "MAJOR BANKS"
          ],
          [
           "FFBC",
           "FINANCE",
           "MAJOR BANKS"
          ],
          [
           "FHN",
           "FINANCE",
           "MAJOR BANKS"
          ],
          [
           "FITB",
           "FINANCE",
           "MAJOR BANKS"
          ],
          [
           "FMBI",
           "FINANCE",
           "MAJOR BANKS"
          ],
          [
           "FNB",
           "FINANCE",
           "MAJOR BANKS"
          ],
          [
           "FULT",
           "FINANCE",
           "MAJOR BANKS"
          ],
          [
           "HBAN",
           "FINANCE",
           "MAJOR BANKS"
          ],
          [
           "INDB",
           "FINANCE",
           "MAJOR BANKS"
          ],
          [
           "JPM",
           "FINANCE",
           "MAJOR BANKS"
          ],
          [
           "KEY",
           "FINANCE",
           "MAJOR BANKS"
          ],
          [
           "KMPR",
           "FINANCE",
           "PROPERTY-CASUALTY INSURERS"
          ],
          [
           "L",
           "FINANCE",
           "PROPERTY-CASUALTY INSURERS"
          ],
          [
           "LM",
           "FINANCE",
           "INVESTMENT MANAGERS"
          ],
          [
           "LNC",
           "FINANCE",
           "LIFE INSURANCE"
          ],
          [
           "MBI",
           "FINANCE",
           "PROPERTY-CASUALTY INSURERS"
          ],
          [
           "MCY",
           "FINANCE",
           "PROPERTY-CASUALTY INSURERS"
          ],
          [
           "MKL",
           "FINANCE",
           "PROPERTY-CASUALTY INSURERS"
          ],
          [
           "MMC",
           "FINANCE",
           "SPECIALTY INSURERS"
          ],
          [
           "MTB",
           "FINANCE",
           "MAJOR BANKS"
          ],
          [
           "NTRS",
           "FINANCE",
           "MAJOR BANKS"
          ],
          [
           "OFG",
           "FINANCE",
           "MAJOR BANKS"
          ],
          [
           "ONB",
           "FINANCE",
           "MAJOR BANKS"
          ],
          [
           "ORI",
           "FINANCE",
           "PROPERTY-CASUALTY INSURERS"
          ],
          [
           "PBCT",
           "FINANCE",
           "SAVINGS INSTITUTIONS"
          ],
          [
           "PGR",
           "FINANCE",
           "PROPERTY-CASUALTY INSURERS"
          ],
          [
           "PNC",
           "FINANCE",
           "MAJOR BANKS"
          ],
          [
           "RF",
           "FINANCE",
           "MAJOR BANKS"
          ],
          [
           "RJF",
           "FINANCE",
           "INVESTMENT BANKERS/BROKERS/SERVICE"
          ],
          [
           "RLI",
           "FINANCE",
           "PROPERTY-CASUALTY INSURERS"
          ],
          [
           "ROL",
           "FINANCE",
           "DIVERSIFIED COMMERCIAL SERVICES"
          ],
          [
           "SCHW",
           "FINANCE",
           "INVESTMENT BANKERS/BROKERS/SERVICE"
          ],
          [
           "SEIC",
           "FINANCE",
           "INVESTMENT BANKERS/BROKERS/SERVICE"
          ],
          [
           "SFE",
           "FINANCE",
           "FINANCE/INVESTORS SERVICES"
          ],
          [
           "SIGI",
           "FINANCE",
           "PROPERTY-CASUALTY INSURERS"
          ],
          [
           "SIVB",
           "FINANCE",
           "MAJOR BANKS"
          ],
          [
           "SLM",
           "FINANCE",
           "FINANCE: CONSUMER SERVICES"
          ],
          [
           "SNV",
           "FINANCE",
           "MAJOR BANKS"
          ],
          [
           "SPGI",
           "FINANCE",
           "FINANCE: CONSUMER SERVICES"
          ],
          [
           "SRCE",
           "FINANCE",
           "MAJOR BANKS"
          ],
          [
           "STI",
           "FINANCE",
           "MAJOR BANKS"
          ],
          [
           "STT",
           "FINANCE",
           "MAJOR BANKS"
          ],
          [
           "TCF",
           "FINANCE",
           "MAJOR BANKS"
          ],
          [
           "TMK",
           "FINANCE",
           "LIFE INSURANCE"
          ],
          [
           "TRMK",
           "FINANCE",
           "MAJOR BANKS"
          ],
          [
           "TROW",
           "FINANCE",
           "INVESTMENT BANKERS/BROKERS/SERVICE"
          ],
          [
           "TRST",
           "FINANCE",
           "MAJOR BANKS"
          ],
          [
           "TRV",
           "FINANCE",
           "PROPERTY-CASUALTY INSURERS"
          ],
          [
           "UBSI",
           "FINANCE",
           "MAJOR BANKS"
          ],
          [
           "UMBF",
           "FINANCE",
           "MAJOR BANKS"
          ],
          [
           "UNM",
           "FINANCE",
           "ACCIDENT &HEALTH INSURANCE"
          ],
          [
           "USB",
           "FINANCE",
           "MAJOR BANKS"
          ],
          [
           "VLY",
           "FINANCE",
           "MAJOR BANKS"
          ],
          [
           "WABC",
           "FINANCE",
           "MAJOR BANKS"
          ],
          [
           "WAFD",
           "FINANCE",
           "MAJOR BANKS"
          ],
          [
           "WBS",
           "FINANCE",
           "MAJOR BANKS"
          ],
          [
           "WFC",
           "FINANCE",
           "MAJOR BANKS"
          ],
          [
           "WRB",
           "FINANCE",
           "PROPERTY-CASUALTY INSURERS"
          ],
          [
           "WSBC",
           "FINANCE",
           "MAJOR BANKS"
          ],
          [
           "WSFS",
           "FINANCE",
           "MAJOR BANKS"
          ],
          [
           "ZION",
           "FINANCE",
           "MAJOR BANKS"
          ]
         ],
         "hovertemplate": "<b>%{hovertext}</b><br><br>Sector=%{customdata[1]}<br>PC1=%{x}<br>PC2=%{y}<br>ticker=%{customdata[0]}<br>industry=%{customdata[2]}<extra></extra>",
         "hovertext": [
          "INVESTMENT MANAGERS",
          "DIVERSIFIED COMMERCIAL SERVICES",
          "LIFE INSURANCE",
          "PROPERTY-CASUALTY INSURERS",
          "ACCIDENT &HEALTH INSURANCE",
          "PROPERTY-CASUALTY INSURERS",
          "SPECIALTY INSURERS",
          "SPECIALTY INSURERS",
          "MAJOR BANKS",
          "FINANCE: CONSUMER SERVICES",
          "MAJOR BANKS",
          "MAJOR BANKS",
          "COMMERCIAL BANKS",
          "COMMERCIAL BANKS",
          "INVESTMENT MANAGERS",
          "MAJOR BANKS",
          "MAJOR BANKS",
          "MAJOR BANKS",
          "SPECIALTY INSURERS",
          "MAJOR BANKS",
          "MAJOR BANKS",
          "PROPERTY-CASUALTY INSURERS",
          "MAJOR BANKS",
          "MAJOR BANKS",
          "LIFE INSURANCE",
          "PROPERTY-CASUALTY INSURERS",
          "MAJOR BANKS",
          "PROPERTY-CASUALTY INSURERS",
          "MAJOR BANKS",
          "FINANCE: CONSUMER SERVICES",
          "FINANCE: CONSUMER SERVICES",
          "INVESTMENT MANAGERS",
          "MAJOR BANKS",
          "MAJOR BANKS",
          "MAJOR BANKS",
          "MAJOR BANKS",
          "MAJOR BANKS",
          "MAJOR BANKS",
          "MAJOR BANKS",
          "MAJOR BANKS",
          "MAJOR BANKS",
          "MAJOR BANKS",
          "MAJOR BANKS",
          "PROPERTY-CASUALTY INSURERS",
          "PROPERTY-CASUALTY INSURERS",
          "INVESTMENT MANAGERS",
          "LIFE INSURANCE",
          "PROPERTY-CASUALTY INSURERS",
          "PROPERTY-CASUALTY INSURERS",
          "PROPERTY-CASUALTY INSURERS",
          "SPECIALTY INSURERS",
          "MAJOR BANKS",
          "MAJOR BANKS",
          "MAJOR BANKS",
          "MAJOR BANKS",
          "PROPERTY-CASUALTY INSURERS",
          "SAVINGS INSTITUTIONS",
          "PROPERTY-CASUALTY INSURERS",
          "MAJOR BANKS",
          "MAJOR BANKS",
          "INVESTMENT BANKERS/BROKERS/SERVICE",
          "PROPERTY-CASUALTY INSURERS",
          "DIVERSIFIED COMMERCIAL SERVICES",
          "INVESTMENT BANKERS/BROKERS/SERVICE",
          "INVESTMENT BANKERS/BROKERS/SERVICE",
          "FINANCE/INVESTORS SERVICES",
          "PROPERTY-CASUALTY INSURERS",
          "MAJOR BANKS",
          "FINANCE: CONSUMER SERVICES",
          "MAJOR BANKS",
          "FINANCE: CONSUMER SERVICES",
          "MAJOR BANKS",
          "MAJOR BANKS",
          "MAJOR BANKS",
          "MAJOR BANKS",
          "LIFE INSURANCE",
          "MAJOR BANKS",
          "INVESTMENT BANKERS/BROKERS/SERVICE",
          "MAJOR BANKS",
          "PROPERTY-CASUALTY INSURERS",
          "MAJOR BANKS",
          "MAJOR BANKS",
          "ACCIDENT &HEALTH INSURANCE",
          "MAJOR BANKS",
          "MAJOR BANKS",
          "MAJOR BANKS",
          "MAJOR BANKS",
          "MAJOR BANKS",
          "MAJOR BANKS",
          "PROPERTY-CASUALTY INSURERS",
          "MAJOR BANKS",
          "MAJOR BANKS",
          "MAJOR BANKS"
         ],
         "legendgroup": "FINANCE",
         "marker": {
          "color": "#00FE35",
          "line": {
           "color": "DarkSlateGrey",
           "width": 1
          },
          "opacity": 0.7,
          "size": 8,
          "symbol": "diamond"
         },
         "mode": "markers",
         "name": "FINANCE",
         "orientation": "v",
         "showlegend": true,
         "type": "scatter",
         "x": [
          -0.7238173484802246,
          -0.8010956048965454,
          1.5222930908203125,
          -0.4983651340007782,
          -0.43010249733924866,
          -2.3182766437530518,
          -0.17173680663108826,
          1.0198434591293335,
          -1.054126262664795,
          -0.5364457368850708,
          0.45123952627182007,
          -0.037925124168395996,
          0.9449342489242554,
          0.5411273837089539,
          0.24216987192630768,
          -0.08539698272943497,
          0.39334964752197266,
          -0.07964539527893066,
          -0.3302881419658661,
          -0.9082832336425781,
          0.28526756167411804,
          -0.1895475536584854,
          -0.6375766396522522,
          0.26600855588912964,
          -0.9713674783706665,
          -0.140158548951149,
          -0.13192269206047058,
          0.26636266708374023,
          0.021751446649432182,
          -0.4464486241340637,
          1.3514132499694824,
          -0.07507430762052536,
          -0.28655683994293213,
          1.0511490106582642,
          -0.4877675175666809,
          -1.4697911739349365,
          0.08546377718448639,
          0.20589756965637207,
          -1.071242094039917,
          -2.43312406539917,
          -0.05547867342829704,
          0.13108304142951965,
          -0.5010847449302673,
          0.561087965965271,
          -0.9845344424247742,
          0.45484626293182373,
          0.24595418572425842,
          0.16929061710834503,
          -0.9237910509109497,
          0.24030525982379913,
          0.1845274120569229,
          -0.6037763357162476,
          -0.3284813165664673,
          -1.0683454275131226,
          -0.592840313911438,
          -1.2685396671295166,
          -0.14515772461891174,
          -1.5189951658248901,
          -0.4952605366706848,
          -0.3516156077384949,
          0.19138884544372559,
          0.3138517141342163,
          -0.2637827396392822,
          -0.04801208898425102,
          -0.28630003333091736,
          2.868342161178589,
          0.32188087701797485,
          -1.3243833780288696,
          -0.012064185924828053,
          -0.16928505897521973,
          -0.4309913218021393,
          0.0031513809226453304,
          -0.21980981528759003,
          -0.36697646975517273,
          -1.2397772073745728,
          -0.30014151334762573,
          -0.07492859661579132,
          -0.15506669878959656,
          0.24062936007976532,
          0.7238225340843201,
          0.9194827079772949,
          -0.2094322144985199,
          0.7696869969367981,
          0.4203914999961853,
          0.24551400542259216,
          -0.46599081158638,
          -0.6493191719055176,
          0.10318885743618011,
          0.4562416672706604,
          0.4419670104980469,
          0.23086507618427277,
          -0.29190966486930847,
          0.46286800503730774
         ],
         "xaxis": "x",
         "y": [
          -0.3122016191482544,
          -0.7415152192115784,
          -0.12944579124450684,
          -0.05557744577527046,
          0.03157028555870056,
          1.2552175521850586,
          -0.9195232391357422,
          -0.09846340119838715,
          0.5945635437965393,
          0.3187582790851593,
          1.3168673515319824,
          0.03261834383010864,
          0.16916559636592865,
          1.0335257053375244,
          0.527708888053894,
          -0.794948160648346,
          -0.6337746977806091,
          1.1266911029815674,
          -0.7634826898574829,
          1.2275344133377075,
          0.40425652265548706,
          0.11352479457855225,
          -0.44688037037849426,
          -0.6990595459938049,
          3.406623601913452,
          0.5010650157928467,
          0.3644793629646301,
          0.7358754873275757,
          0.5184127688407898,
          -0.3448885679244995,
          -0.7215254902839661,
          -1.1399176120758057,
          2.7637526988983154,
          -0.5257917642593384,
          0.06533605605363846,
          1.392029047012329,
          -0.003448139177635312,
          0.05935332551598549,
          0.7653701305389404,
          -0.6579355597496033,
          -0.07246013730764389,
          0.24963173270225525,
          0.38383132219314575,
          1.0701048374176025,
          0.5383374691009521,
          -0.25679531693458557,
          -0.08663935214281082,
          -1.692597508430481,
          -0.35799092054367065,
          0.4341004192829132,
          -1.8931808471679688,
          1.206438660621643,
          1.0471992492675781,
          1.6948341131210327,
          -0.22156788408756256,
          0.06985901296138763,
          -0.28201329708099365,
          0.44924381375312805,
          0.38679853081703186,
          -0.05769651010632515,
          0.8754661679267883,
          -0.0022261093836277723,
          -1.1843329668045044,
          0.0661880150437355,
          0.7293024063110352,
          1.502231478691101,
          -0.03231796994805336,
          0.8444436192512512,
          -0.02279294840991497,
          1.3369373083114624,
          0.47595593333244324,
          0.6481047868728638,
          -0.8426947593688965,
          -0.4866414964199066,
          0.27474305033683777,
          -0.24861088395118713,
          0.34692561626434326,
          0.2992710471153259,
          -0.3669034242630005,
          -0.34080082178115845,
          1.4635331630706787,
          0.26853886246681213,
          0.5590288043022156,
          1.429107427597046,
          0.11846738308668137,
          -0.12296292185783386,
          -0.8482937216758728,
          1.1909611225128174,
          0.13579656183719635,
          -0.23339003324508667,
          0.8981043100357056,
          0.26061323285102844,
          0.3081219494342804
         ],
         "yaxis": "y"
        },
        {
         "customdata": [
          [
           "AEP",
           "PUBLIC UTILITIES",
           "ELECTRIC UTILITIES: CENTRAL"
          ],
          [
           "ALE",
           "PUBLIC UTILITIES",
           "POWER GENERATION"
          ],
          [
           "ATO",
           "PUBLIC UTILITIES",
           "OIL/GAS TRANSMISSION"
          ],
          [
           "AVA",
           "PUBLIC UTILITIES",
           "POWER GENERATION"
          ],
          [
           "AWR",
           "PUBLIC UTILITIES",
           "WATER SUPPLY"
          ],
          [
           "BCE",
           "PUBLIC UTILITIES",
           "TELECOMMUNICATIONS EQUIPMENT"
          ],
          [
           "BKH",
           "PUBLIC UTILITIES",
           "ELECTRIC UTILITIES: CENTRAL"
          ],
          [
           "BT",
           "PUBLIC UTILITIES",
           "TELECOMMUNICATIONS EQUIPMENT"
          ],
          [
           "CBB",
           "PUBLIC UTILITIES",
           "TELECOMMUNICATIONS EQUIPMENT"
          ],
          [
           "CMS",
           "PUBLIC UTILITIES",
           "POWER GENERATION"
          ],
          [
           "CNP",
           "PUBLIC UTILITIES",
           "ELECTRIC UTILITIES: CENTRAL"
          ],
          [
           "CTL",
           "PUBLIC UTILITIES",
           "TELECOMMUNICATIONS EQUIPMENT"
          ],
          [
           "CWT",
           "PUBLIC UTILITIES",
           "WATER SUPPLY"
          ],
          [
           "D",
           "PUBLIC UTILITIES",
           "ELECTRIC UTILITIES: CENTRAL"
          ],
          [
           "DTE",
           "PUBLIC UTILITIES",
           "ELECTRIC UTILITIES: CENTRAL"
          ],
          [
           "DUK",
           "PUBLIC UTILITIES",
           "POWER GENERATION"
          ],
          [
           "ED",
           "PUBLIC UTILITIES",
           "POWER GENERATION"
          ],
          [
           "EIX",
           "PUBLIC UTILITIES",
           "ELECTRIC UTILITIES: CENTRAL"
          ],
          [
           "ES",
           "PUBLIC UTILITIES",
           "ELECTRIC UTILITIES: CENTRAL"
          ],
          [
           "ETR",
           "PUBLIC UTILITIES",
           "ELECTRIC UTILITIES: CENTRAL"
          ],
          [
           "EXC",
           "PUBLIC UTILITIES",
           "POWER GENERATION"
          ],
          [
           "FTR",
           "PUBLIC UTILITIES",
           "TELECOMMUNICATIONS EQUIPMENT"
          ],
          [
           "HE",
           "PUBLIC UTILITIES",
           "ELECTRIC UTILITIES: CENTRAL"
          ],
          [
           "IDA",
           "PUBLIC UTILITIES",
           "ELECTRIC UTILITIES: CENTRAL"
          ],
          [
           "LNT",
           "PUBLIC UTILITIES",
           "POWER GENERATION"
          ],
          [
           "NEE",
           "PUBLIC UTILITIES",
           "ELECTRIC UTILITIES: CENTRAL"
          ],
          [
           "NFG",
           "PUBLIC UTILITIES",
           "OIL/GAS TRANSMISSION"
          ],
          [
           "NI",
           "PUBLIC UTILITIES",
           "POWER GENERATION"
          ],
          [
           "NJR",
           "PUBLIC UTILITIES",
           "OIL/GAS TRANSMISSION"
          ],
          [
           "NWN",
           "PUBLIC UTILITIES",
           "OIL/GAS TRANSMISSION"
          ],
          [
           "OGE",
           "PUBLIC UTILITIES",
           "ELECTRIC UTILITIES: CENTRAL"
          ],
          [
           "OKE",
           "PUBLIC UTILITIES",
           "OIL & GAS PRODUCTION"
          ],
          [
           "OTTR",
           "PUBLIC UTILITIES",
           "ELECTRIC UTILITIES: CENTRAL"
          ],
          [
           "PCG",
           "PUBLIC UTILITIES",
           "POWER GENERATION"
          ],
          [
           "PEG",
           "PUBLIC UTILITIES",
           "POWER GENERATION"
          ],
          [
           "PHI",
           "PUBLIC UTILITIES",
           "TELECOMMUNICATIONS EQUIPMENT"
          ],
          [
           "PNM",
           "PUBLIC UTILITIES",
           "ELECTRIC UTILITIES: CENTRAL"
          ],
          [
           "PNW",
           "PUBLIC UTILITIES",
           "ELECTRIC UTILITIES: CENTRAL"
          ],
          [
           "PPL",
           "PUBLIC UTILITIES",
           "ELECTRIC UTILITIES: CENTRAL"
          ],
          [
           "S",
           "PUBLIC UTILITIES",
           "TELECOMMUNICATIONS EQUIPMENT"
          ],
          [
           "SCG",
           "PUBLIC UTILITIES",
           "POWER GENERATION"
          ],
          [
           "SJI",
           "PUBLIC UTILITIES",
           "OIL/GAS TRANSMISSION"
          ],
          [
           "SO",
           "PUBLIC UTILITIES",
           "ELECTRIC UTILITIES: CENTRAL"
          ],
          [
           "SR",
           "PUBLIC UTILITIES",
           "OIL/GAS TRANSMISSION"
          ],
          [
           "SWX",
           "PUBLIC UTILITIES",
           "OIL & GAS PRODUCTION"
          ],
          [
           "T",
           "PUBLIC UTILITIES",
           "TELECOMMUNICATIONS EQUIPMENT"
          ],
          [
           "TEF",
           "PUBLIC UTILITIES",
           "TELECOMMUNICATIONS EQUIPMENT"
          ],
          [
           "TRP",
           "PUBLIC UTILITIES",
           "NATURAL GAS DISTRIBUTION"
          ],
          [
           "UGI",
           "PUBLIC UTILITIES",
           "NATURAL GAS DISTRIBUTION"
          ],
          [
           "USM",
           "PUBLIC UTILITIES",
           "TELECOMMUNICATIONS EQUIPMENT"
          ],
          [
           "VOD",
           "PUBLIC UTILITIES",
           "TELECOMMUNICATIONS EQUIPMENT"
          ],
          [
           "VVC",
           "PUBLIC UTILITIES",
           "NATURAL GAS DISTRIBUTION"
          ],
          [
           "VZ",
           "PUBLIC UTILITIES",
           "TELECOMMUNICATIONS EQUIPMENT"
          ],
          [
           "WEC",
           "PUBLIC UTILITIES",
           "POWER GENERATION"
          ],
          [
           "WM",
           "PUBLIC UTILITIES",
           "ENVIRONMENTAL SERVICES"
          ],
          [
           "WMB",
           "PUBLIC UTILITIES",
           "NATURAL GAS DISTRIBUTION"
          ],
          [
           "WTR",
           "PUBLIC UTILITIES",
           "WATER SUPPLY"
          ]
         ],
         "hovertemplate": "<b>%{hovertext}</b><br><br>Sector=%{customdata[1]}<br>PC1=%{x}<br>PC2=%{y}<br>ticker=%{customdata[0]}<br>industry=%{customdata[2]}<extra></extra>",
         "hovertext": [
          "ELECTRIC UTILITIES: CENTRAL",
          "POWER GENERATION",
          "OIL/GAS TRANSMISSION",
          "POWER GENERATION",
          "WATER SUPPLY",
          "TELECOMMUNICATIONS EQUIPMENT",
          "ELECTRIC UTILITIES: CENTRAL",
          "TELECOMMUNICATIONS EQUIPMENT",
          "TELECOMMUNICATIONS EQUIPMENT",
          "POWER GENERATION",
          "ELECTRIC UTILITIES: CENTRAL",
          "TELECOMMUNICATIONS EQUIPMENT",
          "WATER SUPPLY",
          "ELECTRIC UTILITIES: CENTRAL",
          "ELECTRIC UTILITIES: CENTRAL",
          "POWER GENERATION",
          "POWER GENERATION",
          "ELECTRIC UTILITIES: CENTRAL",
          "ELECTRIC UTILITIES: CENTRAL",
          "ELECTRIC UTILITIES: CENTRAL",
          "POWER GENERATION",
          "TELECOMMUNICATIONS EQUIPMENT",
          "ELECTRIC UTILITIES: CENTRAL",
          "ELECTRIC UTILITIES: CENTRAL",
          "POWER GENERATION",
          "ELECTRIC UTILITIES: CENTRAL",
          "OIL/GAS TRANSMISSION",
          "POWER GENERATION",
          "OIL/GAS TRANSMISSION",
          "OIL/GAS TRANSMISSION",
          "ELECTRIC UTILITIES: CENTRAL",
          "OIL & GAS PRODUCTION",
          "ELECTRIC UTILITIES: CENTRAL",
          "POWER GENERATION",
          "POWER GENERATION",
          "TELECOMMUNICATIONS EQUIPMENT",
          "ELECTRIC UTILITIES: CENTRAL",
          "ELECTRIC UTILITIES: CENTRAL",
          "ELECTRIC UTILITIES: CENTRAL",
          "TELECOMMUNICATIONS EQUIPMENT",
          "POWER GENERATION",
          "OIL/GAS TRANSMISSION",
          "ELECTRIC UTILITIES: CENTRAL",
          "OIL/GAS TRANSMISSION",
          "OIL & GAS PRODUCTION",
          "TELECOMMUNICATIONS EQUIPMENT",
          "TELECOMMUNICATIONS EQUIPMENT",
          "NATURAL GAS DISTRIBUTION",
          "NATURAL GAS DISTRIBUTION",
          "TELECOMMUNICATIONS EQUIPMENT",
          "TELECOMMUNICATIONS EQUIPMENT",
          "NATURAL GAS DISTRIBUTION",
          "TELECOMMUNICATIONS EQUIPMENT",
          "POWER GENERATION",
          "ENVIRONMENTAL SERVICES",
          "NATURAL GAS DISTRIBUTION",
          "WATER SUPPLY"
         ],
         "legendgroup": "PUBLIC UTILITIES",
         "marker": {
          "color": "#6A76FC",
          "line": {
           "color": "DarkSlateGrey",
           "width": 1
          },
          "opacity": 0.7,
          "size": 8,
          "symbol": "square"
         },
         "mode": "markers",
         "name": "PUBLIC UTILITIES",
         "orientation": "v",
         "showlegend": true,
         "type": "scatter",
         "x": [
          1.1385104656219482,
          2.372089385986328,
          0.4397445619106293,
          -2.3640074729919434,
          0.8503500819206238,
          -0.65477055311203,
          0.19464506208896637,
          0.0177139975130558,
          -0.7104516625404358,
          -0.1158875972032547,
          2.856619358062744,
          0.836747944355011,
          -0.15294843912124634,
          1.2471084594726562,
          -0.3087015748023987,
          0.3159150183200836,
          0.8800214529037476,
          1.0878973007202148,
          -0.5060806274414062,
          0.2920382022857666,
          0.5168533325195312,
          0.3045210540294647,
          1.334285855293274,
          0.7746585011482239,
          0.5608668327331543,
          0.9122800230979919,
          -0.5336049795150757,
          0.5489504337310791,
          0.8303911685943604,
          0.5321245789527893,
          0.5104739665985107,
          0.7576359510421753,
          0.3857937753200531,
          2.523394823074341,
          1.3256709575653076,
          -0.5406745076179504,
          0.9036426544189453,
          0.16903913021087646,
          1.0905048847198486,
          -1.0504493713378906,
          0.007465810980647802,
          1.2785685062408447,
          1.459204077720642,
          0.87879878282547,
          0.043042439967393875,
          0.6285942792892456,
          0.2192276567220688,
          0.9348939657211304,
          0.4932316541671753,
          0.6495598554611206,
          0.9168650507926941,
          -0.10435600578784943,
          0.7258690595626831,
          1.6180590391159058,
          1.2571228742599487,
          0.535595715045929,
          -0.6399571299552917
         ],
         "xaxis": "x",
         "y": [
          0.4346233606338501,
          1.1354384422302246,
          -0.7599127292633057,
          -0.017967453226447105,
          1.283290147781372,
          -0.3292003571987152,
          0.10818427056074142,
          -0.693429172039032,
          -2.4609320163726807,
          0.19341188669204712,
          2.3126330375671387,
          1.0732899904251099,
          0.44192051887512207,
          -0.08759235590696335,
          0.18041859567165375,
          -0.3509976267814636,
          -0.04722823202610016,
          1.5088001489639282,
          0.19136573374271393,
          -0.11773745715618134,
          -0.28509068489074707,
          -2.1163487434387207,
          -0.9014291167259216,
          -0.17234952747821808,
          0.33566465973854065,
          0.4476737380027771,
          0.3876536786556244,
          -0.13947927951812744,
          0.7954482436180115,
          -0.5287359356880188,
          0.39684009552001953,
          -0.021439803764224052,
          0.1713368147611618,
          -1.7467200756072998,
          0.6719328165054321,
          0.8854581713676453,
          0.7526655793190002,
          0.6488704085350037,
          1.4811761379241943,
          0.4977751076221466,
          1.2792831659317017,
          0.22397051751613617,
          -0.1926668882369995,
          -0.4082442820072174,
          0.19072756171226501,
          0.573656439781189,
          0.6907421350479126,
          0.38981667160987854,
          -0.24824701249599457,
          -0.908748984336853,
          0.2677227854728699,
          -0.028576361015439034,
          -0.5112573504447937,
          0.42138737440109253,
          1.1468862295150757,
          0.08521510660648346,
          0.11626655608415604
         ],
         "yaxis": "y"
        },
        {
         "customdata": [
          [
           "ANDV",
           "ENERGY",
           "INTEGRATED OIL COMPANIES"
          ],
          [
           "APA",
           "ENERGY",
           "OIL & GAS PRODUCTION"
          ],
          [
           "APC",
           "ENERGY",
           "OIL & GAS PRODUCTION"
          ],
          [
           "BC",
           "ENERGY",
           "INDUSTRIAL MACHINERY/COMPONENTS"
          ],
          [
           "BGG",
           "ENERGY",
           "INDUSTRIAL MACHINERY/COMPONENTS"
          ],
          [
           "BHGE",
           "ENERGY",
           "METAL FABRICATIONS"
          ],
          [
           "BP",
           "ENERGY",
           "INTEGRATED OIL COMPANIES"
          ],
          [
           "BPL",
           "ENERGY",
           "NATURAL GAS DISTRIBUTION"
          ],
          [
           "BPT",
           "ENERGY",
           "INTEGRATED OIL COMPANIES"
          ],
          [
           "CMI",
           "ENERGY",
           "INDUSTRIAL MACHINERY/COMPONENTS"
          ],
          [
           "COG",
           "ENERGY",
           "OIL & GAS PRODUCTION"
          ],
          [
           "COP",
           "ENERGY",
           "INTEGRATED OIL COMPANIES"
          ],
          [
           "CRK",
           "ENERGY",
           "OIL & GAS PRODUCTION"
          ],
          [
           "CVX",
           "ENERGY",
           "INTEGRATED OIL COMPANIES"
          ],
          [
           "DVN",
           "ENERGY",
           "OIL & GAS PRODUCTION"
          ],
          [
           "EGN",
           "ENERGY",
           "OIL & GAS PRODUCTION"
          ],
          [
           "EMR",
           "ENERGY",
           "CONSUMER ELECTRONICS/APPLIANCES"
          ],
          [
           "EOG",
           "ENERGY",
           "OIL & GAS PRODUCTION"
          ],
          [
           "EQT",
           "ENERGY",
           "OIL & GAS PRODUCTION"
          ],
          [
           "ESV",
           "ENERGY",
           "OIL & GAS PRODUCTION"
          ],
          [
           "GE",
           "ENERGY",
           "CONSUMER ELECTRONICS/APPLIANCES"
          ],
          [
           "HAL",
           "ENERGY",
           "OILFIELD SERVICES/EQUIPMENT"
          ],
          [
           "HES",
           "ENERGY",
           "INTEGRATED OIL COMPANIES"
          ],
          [
           "HP",
           "ENERGY",
           "OIL & GAS PRODUCTION"
          ],
          [
           "INT",
           "ENERGY",
           "OIL REFINING/MARKETING"
          ],
          [
           "MGEE",
           "ENERGY",
           "ELECTRIC UTILITIES: CENTRAL"
          ],
          [
           "MRO",
           "ENERGY",
           "OIL & GAS PRODUCTION"
          ],
          [
           "MUR",
           "ENERGY",
           "OIL & GAS PRODUCTION"
          ],
          [
           "NBL",
           "ENERGY",
           "OIL & GAS PRODUCTION"
          ],
          [
           "NBR",
           "ENERGY",
           "OIL & GAS PRODUCTION"
          ],
          [
           "NE",
           "ENERGY",
           "OIL & GAS PRODUCTION"
          ],
          [
           "OII",
           "ENERGY",
           "OILFIELD SERVICES/EQUIPMENT"
          ],
          [
           "OXY",
           "ENERGY",
           "OIL & GAS PRODUCTION"
          ],
          [
           "PHG",
           "ENERGY",
           "CONSUMER ELECTRONICS/APPLIANCES"
          ],
          [
           "PKD",
           "ENERGY",
           "OIL & GAS PRODUCTION"
          ],
          [
           "RDC",
           "ENERGY",
           "OIL & GAS PRODUCTION"
          ],
          [
           "SBR",
           "ENERGY",
           "OIL & GAS PRODUCTION"
          ],
          [
           "SJT",
           "ENERGY",
           "OIL & GAS PRODUCTION"
          ],
          [
           "SLB",
           "ENERGY",
           "OILFIELD SERVICES/EQUIPMENT"
          ],
          [
           "SSL",
           "ENERGY",
           "OIL & GAS PRODUCTION"
          ],
          [
           "SWN",
           "ENERGY",
           "OIL & GAS PRODUCTION"
          ],
          [
           "TTI",
           "ENERGY",
           "OIL & GAS PRODUCTION"
          ],
          [
           "UNT",
           "ENERGY",
           "OIL & GAS PRODUCTION"
          ],
          [
           "VLO",
           "ENERGY",
           "INTEGRATED OIL COMPANIES"
          ],
          [
           "WFT",
           "ENERGY",
           "METAL FABRICATIONS"
          ],
          [
           "XOM",
           "ENERGY",
           "INTEGRATED OIL COMPANIES"
          ]
         ],
         "hovertemplate": "<b>%{hovertext}</b><br><br>Sector=%{customdata[1]}<br>PC1=%{x}<br>PC2=%{y}<br>ticker=%{customdata[0]}<br>industry=%{customdata[2]}<extra></extra>",
         "hovertext": [
          "INTEGRATED OIL COMPANIES",
          "OIL & GAS PRODUCTION",
          "OIL & GAS PRODUCTION",
          "INDUSTRIAL MACHINERY/COMPONENTS",
          "INDUSTRIAL MACHINERY/COMPONENTS",
          "METAL FABRICATIONS",
          "INTEGRATED OIL COMPANIES",
          "NATURAL GAS DISTRIBUTION",
          "INTEGRATED OIL COMPANIES",
          "INDUSTRIAL MACHINERY/COMPONENTS",
          "OIL & GAS PRODUCTION",
          "INTEGRATED OIL COMPANIES",
          "OIL & GAS PRODUCTION",
          "INTEGRATED OIL COMPANIES",
          "OIL & GAS PRODUCTION",
          "OIL & GAS PRODUCTION",
          "CONSUMER ELECTRONICS/APPLIANCES",
          "OIL & GAS PRODUCTION",
          "OIL & GAS PRODUCTION",
          "OIL & GAS PRODUCTION",
          "CONSUMER ELECTRONICS/APPLIANCES",
          "OILFIELD SERVICES/EQUIPMENT",
          "INTEGRATED OIL COMPANIES",
          "OIL & GAS PRODUCTION",
          "OIL REFINING/MARKETING",
          "ELECTRIC UTILITIES: CENTRAL",
          "OIL & GAS PRODUCTION",
          "OIL & GAS PRODUCTION",
          "OIL & GAS PRODUCTION",
          "OIL & GAS PRODUCTION",
          "OIL & GAS PRODUCTION",
          "OILFIELD SERVICES/EQUIPMENT",
          "OIL & GAS PRODUCTION",
          "CONSUMER ELECTRONICS/APPLIANCES",
          "OIL & GAS PRODUCTION",
          "OIL & GAS PRODUCTION",
          "OIL & GAS PRODUCTION",
          "OIL & GAS PRODUCTION",
          "OILFIELD SERVICES/EQUIPMENT",
          "OIL & GAS PRODUCTION",
          "OIL & GAS PRODUCTION",
          "OIL & GAS PRODUCTION",
          "OIL & GAS PRODUCTION",
          "INTEGRATED OIL COMPANIES",
          "METAL FABRICATIONS",
          "INTEGRATED OIL COMPANIES"
         ],
         "legendgroup": "ENERGY",
         "marker": {
          "color": "#FED4C4",
          "line": {
           "color": "DarkSlateGrey",
           "width": 1
          },
          "opacity": 0.7,
          "size": 8,
          "symbol": "x"
         },
         "mode": "markers",
         "name": "ENERGY",
         "orientation": "v",
         "showlegend": true,
         "type": "scatter",
         "x": [
          -2.1157588958740234,
          -0.91237872838974,
          -2.077479839324951,
          1.1880521774291992,
          0.13647770881652832,
          -0.8742427825927734,
          0.2860274612903595,
          -0.5493525862693787,
          -1.0792938470840454,
          -0.3205670416355133,
          0.24974554777145386,
          -0.3908706605434418,
          -3.5089762210845947,
          -0.42515623569488525,
          -0.3950117826461792,
          -0.03290895000100136,
          -0.044019050896167755,
          -1.35110604763031,
          -1.952225685119629,
          -3.4415273666381836,
          0.22603802382946014,
          -2.2383973598480225,
          -1.0353686809539795,
          -2.105651617050171,
          -0.8342228531837463,
          0.6721242666244507,
          -0.7521918416023254,
          -2.0092098712921143,
          -1.8953559398651123,
          -4.407144069671631,
          -1.9406644105911255,
          -1.7508481740951538,
          -0.6506891846656799,
          -0.4778282642364502,
          -3.258103609085083,
          -1.0125072002410889,
          -1.4484608173370361,
          -1.6192905902862549,
          -0.7755202651023865,
          -1.6002205610275269,
          -0.15583668649196625,
          -1.7125276327133179,
          -3.525935649871826,
          0.10939193516969681,
          -2.0281758308410645,
          0.39567050337791443
         ],
         "xaxis": "x",
         "y": [
          0.1833188682794571,
          -0.18644830584526062,
          -1.214096188545227,
          -1.1205379962921143,
          -0.5283727645874023,
          -0.17200449109077454,
          -0.3790806233882904,
          -0.2864817976951599,
          -1.7548397779464722,
          -0.20352478325366974,
          1.3100379705429077,
          -0.26322054862976074,
          0.25421810150146484,
          0.17887535691261292,
          0.4844440817832947,
          -0.24786078929901123,
          -0.4123404324054718,
          0.07974909991025925,
          0.5528807640075684,
          -0.7183910012245178,
          0.48322099447250366,
          -0.27233412861824036,
          -0.5993769764900208,
          -1.034692406654358,
          1.1597645282745361,
          -0.173916295170784,
          -0.1542907953262329,
          -1.6140432357788086,
          1.2656288146972656,
          -1.827645182609558,
          -1.6032984256744385,
          0.08918267488479614,
          0.24720796942710876,
          0.03649488463997841,
          -2.6966025829315186,
          -0.5637019872665405,
          -0.4763505458831787,
          -1.1709020137786865,
          -0.5115347504615784,
          -0.5072888731956482,
          -0.11956439167261124,
          -2.418865919113159,
          0.5333929061889648,
          -0.1580425500869751,
          -2.4455313682556152,
          0.269756942987442
         ],
         "yaxis": "y"
        }
       ],
       "layout": {
        "height": 550,
        "legend": {
         "orientation": "h",
         "title": {
          "text": "Sector"
         },
         "tracegroupgap": 0,
         "x": 1,
         "xanchor": "right",
         "y": 1.02,
         "yanchor": "bottom"
        },
        "margin": {
         "t": 60
        },
        "template": {
         "data": {
          "bar": [
           {
            "error_x": {
             "color": "#2a3f5f"
            },
            "error_y": {
             "color": "#2a3f5f"
            },
            "marker": {
             "line": {
              "color": "white",
              "width": 0.5
             },
             "pattern": {
              "fillmode": "overlay",
              "size": 10,
              "solidity": 0.2
             }
            },
            "type": "bar"
           }
          ],
          "barpolar": [
           {
            "marker": {
             "line": {
              "color": "white",
              "width": 0.5
             },
             "pattern": {
              "fillmode": "overlay",
              "size": 10,
              "solidity": 0.2
             }
            },
            "type": "barpolar"
           }
          ],
          "carpet": [
           {
            "aaxis": {
             "endlinecolor": "#2a3f5f",
             "gridcolor": "#C8D4E3",
             "linecolor": "#C8D4E3",
             "minorgridcolor": "#C8D4E3",
             "startlinecolor": "#2a3f5f"
            },
            "baxis": {
             "endlinecolor": "#2a3f5f",
             "gridcolor": "#C8D4E3",
             "linecolor": "#C8D4E3",
             "minorgridcolor": "#C8D4E3",
             "startlinecolor": "#2a3f5f"
            },
            "type": "carpet"
           }
          ],
          "choropleth": [
           {
            "colorbar": {
             "outlinewidth": 0,
             "ticks": ""
            },
            "type": "choropleth"
           }
          ],
          "contour": [
           {
            "colorbar": {
             "outlinewidth": 0,
             "ticks": ""
            },
            "colorscale": [
             [
              0,
              "#0d0887"
             ],
             [
              0.1111111111111111,
              "#46039f"
             ],
             [
              0.2222222222222222,
              "#7201a8"
             ],
             [
              0.3333333333333333,
              "#9c179e"
             ],
             [
              0.4444444444444444,
              "#bd3786"
             ],
             [
              0.5555555555555556,
              "#d8576b"
             ],
             [
              0.6666666666666666,
              "#ed7953"
             ],
             [
              0.7777777777777778,
              "#fb9f3a"
             ],
             [
              0.8888888888888888,
              "#fdca26"
             ],
             [
              1,
              "#f0f921"
             ]
            ],
            "type": "contour"
           }
          ],
          "contourcarpet": [
           {
            "colorbar": {
             "outlinewidth": 0,
             "ticks": ""
            },
            "type": "contourcarpet"
           }
          ],
          "heatmap": [
           {
            "colorbar": {
             "outlinewidth": 0,
             "ticks": ""
            },
            "colorscale": [
             [
              0,
              "#0d0887"
             ],
             [
              0.1111111111111111,
              "#46039f"
             ],
             [
              0.2222222222222222,
              "#7201a8"
             ],
             [
              0.3333333333333333,
              "#9c179e"
             ],
             [
              0.4444444444444444,
              "#bd3786"
             ],
             [
              0.5555555555555556,
              "#d8576b"
             ],
             [
              0.6666666666666666,
              "#ed7953"
             ],
             [
              0.7777777777777778,
              "#fb9f3a"
             ],
             [
              0.8888888888888888,
              "#fdca26"
             ],
             [
              1,
              "#f0f921"
             ]
            ],
            "type": "heatmap"
           }
          ],
          "heatmapgl": [
           {
            "colorbar": {
             "outlinewidth": 0,
             "ticks": ""
            },
            "colorscale": [
             [
              0,
              "#0d0887"
             ],
             [
              0.1111111111111111,
              "#46039f"
             ],
             [
              0.2222222222222222,
              "#7201a8"
             ],
             [
              0.3333333333333333,
              "#9c179e"
             ],
             [
              0.4444444444444444,
              "#bd3786"
             ],
             [
              0.5555555555555556,
              "#d8576b"
             ],
             [
              0.6666666666666666,
              "#ed7953"
             ],
             [
              0.7777777777777778,
              "#fb9f3a"
             ],
             [
              0.8888888888888888,
              "#fdca26"
             ],
             [
              1,
              "#f0f921"
             ]
            ],
            "type": "heatmapgl"
           }
          ],
          "histogram": [
           {
            "marker": {
             "pattern": {
              "fillmode": "overlay",
              "size": 10,
              "solidity": 0.2
             }
            },
            "type": "histogram"
           }
          ],
          "histogram2d": [
           {
            "colorbar": {
             "outlinewidth": 0,
             "ticks": ""
            },
            "colorscale": [
             [
              0,
              "#0d0887"
             ],
             [
              0.1111111111111111,
              "#46039f"
             ],
             [
              0.2222222222222222,
              "#7201a8"
             ],
             [
              0.3333333333333333,
              "#9c179e"
             ],
             [
              0.4444444444444444,
              "#bd3786"
             ],
             [
              0.5555555555555556,
              "#d8576b"
             ],
             [
              0.6666666666666666,
              "#ed7953"
             ],
             [
              0.7777777777777778,
              "#fb9f3a"
             ],
             [
              0.8888888888888888,
              "#fdca26"
             ],
             [
              1,
              "#f0f921"
             ]
            ],
            "type": "histogram2d"
           }
          ],
          "histogram2dcontour": [
           {
            "colorbar": {
             "outlinewidth": 0,
             "ticks": ""
            },
            "colorscale": [
             [
              0,
              "#0d0887"
             ],
             [
              0.1111111111111111,
              "#46039f"
             ],
             [
              0.2222222222222222,
              "#7201a8"
             ],
             [
              0.3333333333333333,
              "#9c179e"
             ],
             [
              0.4444444444444444,
              "#bd3786"
             ],
             [
              0.5555555555555556,
              "#d8576b"
             ],
             [
              0.6666666666666666,
              "#ed7953"
             ],
             [
              0.7777777777777778,
              "#fb9f3a"
             ],
             [
              0.8888888888888888,
              "#fdca26"
             ],
             [
              1,
              "#f0f921"
             ]
            ],
            "type": "histogram2dcontour"
           }
          ],
          "mesh3d": [
           {
            "colorbar": {
             "outlinewidth": 0,
             "ticks": ""
            },
            "type": "mesh3d"
           }
          ],
          "parcoords": [
           {
            "line": {
             "colorbar": {
              "outlinewidth": 0,
              "ticks": ""
             }
            },
            "type": "parcoords"
           }
          ],
          "pie": [
           {
            "automargin": true,
            "type": "pie"
           }
          ],
          "scatter": [
           {
            "fillpattern": {
             "fillmode": "overlay",
             "size": 10,
             "solidity": 0.2
            },
            "type": "scatter"
           }
          ],
          "scatter3d": [
           {
            "line": {
             "colorbar": {
              "outlinewidth": 0,
              "ticks": ""
             }
            },
            "marker": {
             "colorbar": {
              "outlinewidth": 0,
              "ticks": ""
             }
            },
            "type": "scatter3d"
           }
          ],
          "scattercarpet": [
           {
            "marker": {
             "colorbar": {
              "outlinewidth": 0,
              "ticks": ""
             }
            },
            "type": "scattercarpet"
           }
          ],
          "scattergeo": [
           {
            "marker": {
             "colorbar": {
              "outlinewidth": 0,
              "ticks": ""
             }
            },
            "type": "scattergeo"
           }
          ],
          "scattergl": [
           {
            "marker": {
             "colorbar": {
              "outlinewidth": 0,
              "ticks": ""
             }
            },
            "type": "scattergl"
           }
          ],
          "scattermapbox": [
           {
            "marker": {
             "colorbar": {
              "outlinewidth": 0,
              "ticks": ""
             }
            },
            "type": "scattermapbox"
           }
          ],
          "scatterpolar": [
           {
            "marker": {
             "colorbar": {
              "outlinewidth": 0,
              "ticks": ""
             }
            },
            "type": "scatterpolar"
           }
          ],
          "scatterpolargl": [
           {
            "marker": {
             "colorbar": {
              "outlinewidth": 0,
              "ticks": ""
             }
            },
            "type": "scatterpolargl"
           }
          ],
          "scatterternary": [
           {
            "marker": {
             "colorbar": {
              "outlinewidth": 0,
              "ticks": ""
             }
            },
            "type": "scatterternary"
           }
          ],
          "surface": [
           {
            "colorbar": {
             "outlinewidth": 0,
             "ticks": ""
            },
            "colorscale": [
             [
              0,
              "#0d0887"
             ],
             [
              0.1111111111111111,
              "#46039f"
             ],
             [
              0.2222222222222222,
              "#7201a8"
             ],
             [
              0.3333333333333333,
              "#9c179e"
             ],
             [
              0.4444444444444444,
              "#bd3786"
             ],
             [
              0.5555555555555556,
              "#d8576b"
             ],
             [
              0.6666666666666666,
              "#ed7953"
             ],
             [
              0.7777777777777778,
              "#fb9f3a"
             ],
             [
              0.8888888888888888,
              "#fdca26"
             ],
             [
              1,
              "#f0f921"
             ]
            ],
            "type": "surface"
           }
          ],
          "table": [
           {
            "cells": {
             "fill": {
              "color": "#EBF0F8"
             },
             "line": {
              "color": "white"
             }
            },
            "header": {
             "fill": {
              "color": "#C8D4E3"
             },
             "line": {
              "color": "white"
             }
            },
            "type": "table"
           }
          ]
         },
         "layout": {
          "annotationdefaults": {
           "arrowcolor": "#2a3f5f",
           "arrowhead": 0,
           "arrowwidth": 1
          },
          "autotypenumbers": "strict",
          "coloraxis": {
           "colorbar": {
            "outlinewidth": 0,
            "ticks": ""
           }
          },
          "colorscale": {
           "diverging": [
            [
             0,
             "#8e0152"
            ],
            [
             0.1,
             "#c51b7d"
            ],
            [
             0.2,
             "#de77ae"
            ],
            [
             0.3,
             "#f1b6da"
            ],
            [
             0.4,
             "#fde0ef"
            ],
            [
             0.5,
             "#f7f7f7"
            ],
            [
             0.6,
             "#e6f5d0"
            ],
            [
             0.7,
             "#b8e186"
            ],
            [
             0.8,
             "#7fbc41"
            ],
            [
             0.9,
             "#4d9221"
            ],
            [
             1,
             "#276419"
            ]
           ],
           "sequential": [
            [
             0,
             "#0d0887"
            ],
            [
             0.1111111111111111,
             "#46039f"
            ],
            [
             0.2222222222222222,
             "#7201a8"
            ],
            [
             0.3333333333333333,
             "#9c179e"
            ],
            [
             0.4444444444444444,
             "#bd3786"
            ],
            [
             0.5555555555555556,
             "#d8576b"
            ],
            [
             0.6666666666666666,
             "#ed7953"
            ],
            [
             0.7777777777777778,
             "#fb9f3a"
            ],
            [
             0.8888888888888888,
             "#fdca26"
            ],
            [
             1,
             "#f0f921"
            ]
           ],
           "sequentialminus": [
            [
             0,
             "#0d0887"
            ],
            [
             0.1111111111111111,
             "#46039f"
            ],
            [
             0.2222222222222222,
             "#7201a8"
            ],
            [
             0.3333333333333333,
             "#9c179e"
            ],
            [
             0.4444444444444444,
             "#bd3786"
            ],
            [
             0.5555555555555556,
             "#d8576b"
            ],
            [
             0.6666666666666666,
             "#ed7953"
            ],
            [
             0.7777777777777778,
             "#fb9f3a"
            ],
            [
             0.8888888888888888,
             "#fdca26"
            ],
            [
             1,
             "#f0f921"
            ]
           ]
          },
          "colorway": [
           "#636efa",
           "#EF553B",
           "#00cc96",
           "#ab63fa",
           "#FFA15A",
           "#19d3f3",
           "#FF6692",
           "#B6E880",
           "#FF97FF",
           "#FECB52"
          ],
          "font": {
           "color": "#2a3f5f"
          },
          "geo": {
           "bgcolor": "white",
           "lakecolor": "white",
           "landcolor": "white",
           "showlakes": true,
           "showland": true,
           "subunitcolor": "#C8D4E3"
          },
          "hoverlabel": {
           "align": "left"
          },
          "hovermode": "closest",
          "mapbox": {
           "style": "light"
          },
          "paper_bgcolor": "white",
          "plot_bgcolor": "white",
          "polar": {
           "angularaxis": {
            "gridcolor": "#EBF0F8",
            "linecolor": "#EBF0F8",
            "ticks": ""
           },
           "bgcolor": "white",
           "radialaxis": {
            "gridcolor": "#EBF0F8",
            "linecolor": "#EBF0F8",
            "ticks": ""
           }
          },
          "scene": {
           "xaxis": {
            "backgroundcolor": "white",
            "gridcolor": "#DFE8F3",
            "gridwidth": 2,
            "linecolor": "#EBF0F8",
            "showbackground": true,
            "ticks": "",
            "zerolinecolor": "#EBF0F8"
           },
           "yaxis": {
            "backgroundcolor": "white",
            "gridcolor": "#DFE8F3",
            "gridwidth": 2,
            "linecolor": "#EBF0F8",
            "showbackground": true,
            "ticks": "",
            "zerolinecolor": "#EBF0F8"
           },
           "zaxis": {
            "backgroundcolor": "white",
            "gridcolor": "#DFE8F3",
            "gridwidth": 2,
            "linecolor": "#EBF0F8",
            "showbackground": true,
            "ticks": "",
            "zerolinecolor": "#EBF0F8"
           }
          },
          "shapedefaults": {
           "line": {
            "color": "#2a3f5f"
           }
          },
          "ternary": {
           "aaxis": {
            "gridcolor": "#DFE8F3",
            "linecolor": "#A2B1C6",
            "ticks": ""
           },
           "baxis": {
            "gridcolor": "#DFE8F3",
            "linecolor": "#A2B1C6",
            "ticks": ""
           },
           "bgcolor": "white",
           "caxis": {
            "gridcolor": "#DFE8F3",
            "linecolor": "#A2B1C6",
            "ticks": ""
           }
          },
          "title": {
           "x": 0.05
          },
          "xaxis": {
           "automargin": true,
           "gridcolor": "#EBF0F8",
           "linecolor": "#EBF0F8",
           "ticks": "",
           "title": {
            "standoff": 15
           },
           "zerolinecolor": "#EBF0F8",
           "zerolinewidth": 2
          },
          "yaxis": {
           "automargin": true,
           "gridcolor": "#EBF0F8",
           "linecolor": "#EBF0F8",
           "ticks": "",
           "title": {
            "standoff": 15
           },
           "zerolinecolor": "#EBF0F8",
           "zerolinewidth": 2
          }
         }
        },
        "width": 650,
        "xaxis": {
         "anchor": "y",
         "domain": [
          0,
          1
         ],
         "title": {
          "text": "PC1"
         }
        },
        "yaxis": {
         "anchor": "x",
         "domain": [
          0,
          1
         ],
         "title": {
          "text": "PC2"
         }
        }
       }
      }
     },
     "metadata": {},
     "output_type": "display_data"
    }
   ],
   "source": [
    "from utils.visualisation_functions import pca_plot_from_embeddings\n",
    "\n",
    "pca_plot_from_embeddings(\n",
    "    embedding_matrix=embeddings.weight.detach().numpy(),\n",
    "    sectors=data.sectors,\n",
    "    tickers=data.tickers,\n",
    "    industries=data.industries,\n",
    "    names=data.names,\n",
    "    dimensions=2,\n",
    "    reduced=True,\n",
    "    method=\"PCA\",\n",
    "    return_df=False,\n",
    "    rand_state=None,\n",
    ")"
   ]
  },
  {
   "cell_type": "code",
   "execution_count": null,
   "metadata": {},
   "outputs": [],
   "source": []
  }
 ],
 "metadata": {
  "kernelspec": {
   "display_name": "phd",
   "language": "python",
   "name": "python3"
  },
  "language_info": {
   "codemirror_mode": {
    "name": "ipython",
    "version": 3
   },
   "file_extension": ".py",
   "mimetype": "text/x-python",
   "name": "python",
   "nbconvert_exporter": "python",
   "pygments_lexer": "ipython3",
   "version": "3.11.6"
  }
 },
 "nbformat": 4,
 "nbformat_minor": 2
}
