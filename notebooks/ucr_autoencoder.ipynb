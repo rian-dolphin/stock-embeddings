{
 "cells": [
  {
   "cell_type": "code",
   "execution_count": 1,
   "metadata": {},
   "outputs": [],
   "source": [
    "%load_ext autoreload\n",
    "%autoreload 2"
   ]
  },
  {
   "cell_type": "code",
   "execution_count": 2,
   "metadata": {},
   "outputs": [],
   "source": [
    "import sys\n",
    "sys.path.append('../')\n",
    "\n",
    "import pandas as pd\n",
    "meta_df = pd.read_csv(\"../Data/UCR_Summary.csv\")\n",
    "meta_df[\"learned_w\"] = meta_df[\"DTW (learned_w) \"].apply(lambda xi: int(xi.split(\"(\")[-1].split(\")\")[0]))\n",
    "meta_df.index = meta_df[\"Name\"].str.lower()\n",
    "meta_df.columns = [c.strip() for c in meta_df.columns]\n",
    "\n",
    "results_df = pd.read_csv(\"../Data/UCR_results.csv\", delimiter=\"\\t\", encoding=\"utf-16\", index_col=0)"
   ]
  },
  {
   "cell_type": "markdown",
   "metadata": {},
   "source": [
    "### Load the data"
   ]
  },
  {
   "cell_type": "code",
   "execution_count": 3,
   "metadata": {},
   "outputs": [],
   "source": [
    "from utils.ucr_helpers import UCR_Data\n",
    "# data = UCR_Data(\"Mallat\")\n",
    "data:UCR_Data = UCR_Data(\"ItalyPowerDemand\")\n",
    "# data = UCR_Data(\"Beef\")"
   ]
  },
  {
   "cell_type": "code",
   "execution_count": 4,
   "metadata": {},
   "outputs": [
    {
     "name": "stdout",
     "output_type": "stream",
     "text": [
      "Number of classes: 2\n",
      "Number of training samples: 67\n",
      "Number of test samples: 1029\n",
      "Length of time series: 24\n"
     ]
    }
   ],
   "source": [
    "print(data.summary)"
   ]
  },
  {
   "cell_type": "code",
   "execution_count": 5,
   "metadata": {},
   "outputs": [
    {
     "data": {
      "application/vnd.plotly.v1+json": {
       "config": {
        "plotlyServerURL": "https://plot.ly"
       },
       "data": [
        {
         "legendgroup": "1",
         "legendgrouptitle": {
          "text": "Group 1"
         },
         "marker": {
          "color": "#EF553B"
         },
         "name": "1347",
         "opacity": 0.5,
         "type": "scatter",
         "x": [
          0,
          1,
          2,
          3,
          4,
          5,
          6,
          7,
          8,
          9,
          10,
          11,
          12,
          13,
          14,
          15,
          16,
          17,
          18,
          19,
          20,
          21,
          22,
          23
         ],
         "y": [
          -0.96916733,
          -1.3359228,
          -1.5289519,
          -1.6254665,
          -1.5675578,
          -1.4324374,
          -1.046379,
          -0.13914187,
          0.63297486,
          1.057639,
          1.2506682,
          1.1541536,
          0.84530695,
          0.51715735,
          0.26621942,
          0.4592486,
          0.5750661,
          0.32412817,
          1.1734565,
          1.2120624,
          0.49785443,
          0.36273401,
          -0.11983895,
          -0.56380606
         ]
        },
        {
         "legendgroup": "1",
         "legendgrouptitle": {
          "text": "Group 1"
         },
         "marker": {
          "color": "#EF553B"
         },
         "name": "1680",
         "opacity": 0.5,
         "type": "scatter",
         "x": [
          0,
          1,
          2,
          3,
          4,
          5,
          6,
          7,
          8,
          9,
          10,
          11,
          12,
          13,
          14,
          15,
          16,
          17,
          18,
          19,
          20,
          21,
          22,
          23
         ],
         "y": [
          -0.82552207,
          -1.2348718,
          -1.4190792,
          -1.6032866,
          -1.6442216,
          -1.4804817,
          -1.0097294,
          -0.10915994,
          1.0779544,
          1.3235643,
          1.2621618,
          1.0574869,
          0.85281203,
          0.38205979,
          0.42299477,
          0.40252728,
          0.23878737,
          0.77094208,
          1.0574869,
          0.91421451,
          0.50486472,
          0.054579967,
          -0.29336734,
          -0.70271714
         ]
        },
        {
         "legendgroup": "1",
         "legendgrouptitle": {
          "text": "Group 1"
         },
         "marker": {
          "color": "#EF553B"
         },
         "name": "158",
         "opacity": 0.5,
         "type": "scatter",
         "x": [
          0,
          1,
          2,
          3,
          4,
          5,
          6,
          7,
          8,
          9,
          10,
          11,
          12,
          13,
          14,
          15,
          16,
          17,
          18,
          19,
          20,
          21,
          22,
          23
         ],
         "y": [
          -0.052620727,
          -0.57519896,
          -1.0977772,
          -1.3590663,
          -1.4461627,
          -1.4026145,
          -0.96713263,
          -0.61874714,
          -0.83648807,
          -0.1397171,
          0.55705388,
          0.60060207,
          0.55705388,
          0.12157202,
          -0.35745803,
          -0.31390984,
          -0.53165077,
          -0.052620727,
          1.4715658,
          1.5586622,
          1.9070476,
          1.5586622,
          1.1231803,
          0.29576476
         ]
        },
        {
         "legendgroup": "1",
         "legendgrouptitle": {
          "text": "Group 1"
         },
         "marker": {
          "color": "#EF553B"
         },
         "name": "1952",
         "opacity": 0.5,
         "type": "scatter",
         "x": [
          0,
          1,
          2,
          3,
          4,
          5,
          6,
          7,
          8,
          9,
          10,
          11,
          12,
          13,
          14,
          15,
          16,
          17,
          18,
          19,
          20,
          21,
          22,
          23
         ],
         "y": [
          -0.30062385,
          -0.94997139,
          -1.2024954,
          -1.4910943,
          -1.6714686,
          -1.4910943,
          -1.1303457,
          -0.80567194,
          -0.48099817,
          0.31264881,
          0.70947229,
          0.63732257,
          0.63732257,
          0.38479853,
          -0.12024954,
          0.060124772,
          0.096199634,
          1.3588198,
          1.4670444,
          1.6834936,
          1.4309695,
          0.78162203,
          0.24049908,
          -0.1563244
         ]
        },
        {
         "legendgroup": "1",
         "legendgrouptitle": {
          "text": "Group 1"
         },
         "marker": {
          "color": "#EF553B"
         },
         "name": "1326",
         "opacity": 0.5,
         "type": "scatter",
         "x": [
          0,
          1,
          2,
          3,
          4,
          5,
          6,
          7,
          8,
          9,
          10,
          11,
          12,
          13,
          14,
          15,
          16,
          17,
          18,
          19,
          20,
          21,
          22,
          23
         ],
         "y": [
          -0.099111129,
          -0.65413341,
          -1.0505779,
          -1.2488002,
          -1.3280891,
          -1.1298668,
          -0.8920001,
          -0.65413341,
          -0.8127112,
          -0.13875557,
          0.4162667,
          0.61448894,
          0.53520005,
          -0.059466681,
          -0.13875557,
          -0.49555562,
          -0.57484452,
          -0.57484452,
          0.97128898,
          1.9624003,
          2.0416892,
          1.6452447,
          1.0902224,
          0.5748445
         ]
        },
        {
         "legendgroup": "2",
         "legendgrouptitle": {
          "text": "Group 2"
         },
         "marker": {
          "color": "#00CC96"
         },
         "name": "2170",
         "opacity": 0.5,
         "type": "scatter",
         "x": [
          0,
          1,
          2,
          3,
          4,
          5,
          6,
          7,
          8,
          9,
          10,
          11,
          12,
          13,
          14,
          15,
          16,
          17,
          18,
          19,
          20,
          21,
          22,
          23
         ],
         "y": [
          -0.78102183,
          -1.2415753,
          -1.540935,
          -1.5179073,
          -1.5639627,
          -1.5179073,
          -1.2646029,
          -0.044136361,
          0.80788747,
          1.2914685,
          1.2914685,
          1.2914685,
          1.1993579,
          0.85394281,
          0.71577678,
          0.60063843,
          0.64669377,
          0.27825103,
          0.18614035,
          0.18614035,
          0.48550007,
          0.27825103,
          -0.18230238,
          -0.45863444
         ]
        },
        {
         "legendgroup": "2",
         "legendgrouptitle": {
          "text": "Group 2"
         },
         "marker": {
          "color": "#00CC96"
         },
         "name": "2136",
         "opacity": 0.5,
         "type": "scatter",
         "x": [
          0,
          1,
          2,
          3,
          4,
          5,
          6,
          7,
          8,
          9,
          10,
          11,
          12,
          13,
          14,
          15,
          16,
          17,
          18,
          19,
          20,
          21,
          22,
          23
         ],
         "y": [
          -0.90183284,
          -1.2058214,
          -1.5706077,
          -1.6618043,
          -1.6314054,
          -1.5706077,
          -1.1146248,
          0.040531802,
          0.80050329,
          1.3476828,
          1.2260873,
          1.1652896,
          0.83090215,
          0.3445204,
          0.43571698,
          0.55731242,
          0.4965147,
          0.19252611,
          0.10132953,
          0.28372269,
          1.2260873,
          0.70930671,
          0.19252611,
          -0.29385566
         ]
        },
        {
         "legendgroup": "2",
         "legendgrouptitle": {
          "text": "Group 2"
         },
         "marker": {
          "color": "#00CC96"
         },
         "name": "2777",
         "opacity": 0.5,
         "type": "scatter",
         "x": [
          0,
          1,
          2,
          3,
          4,
          5,
          6,
          7,
          8,
          9,
          10,
          11,
          12,
          13,
          14,
          15,
          16,
          17,
          18,
          19,
          20,
          21,
          22,
          23
         ],
         "y": [
          -0.8869813,
          -1.3924905,
          -1.5329097,
          -1.5329097,
          -1.7294965,
          -1.4486581,
          -0.99931667,
          -0.38147217,
          0.65762994,
          1.4158937,
          1.2754744,
          1.2473906,
          0.9665522,
          0.60146226,
          0.6295461,
          0.76996531,
          0.76996531,
          0.37679153,
          0.20828849,
          0.26445617,
          0.20828849,
          0.65762994,
          0.15212081,
          -0.29722065
         ]
        },
        {
         "legendgroup": "2",
         "legendgrouptitle": {
          "text": "Group 2"
         },
         "marker": {
          "color": "#00CC96"
         },
         "name": "2702",
         "opacity": 0.5,
         "type": "scatter",
         "x": [
          0,
          1,
          2,
          3,
          4,
          5,
          6,
          7,
          8,
          9,
          10,
          11,
          12,
          13,
          14,
          15,
          16,
          17,
          18,
          19,
          20,
          21,
          22,
          23
         ],
         "y": [
          -0.89934535,
          -1.2423719,
          -1.4798519,
          -1.6645585,
          -1.6645585,
          -1.4798519,
          -1.1368253,
          -0.71463873,
          0.41998768,
          1.2907475,
          1.2115875,
          1.1324275,
          0.94772089,
          0.63108097,
          0.60469431,
          0.78940093,
          0.71024095,
          0.60469431,
          0.41998768,
          0.3408277,
          0.28805438,
          0.84217425,
          0.23528106,
          -0.18690551
         ]
        },
        {
         "legendgroup": "2",
         "legendgrouptitle": {
          "text": "Group 2"
         },
         "marker": {
          "color": "#00CC96"
         },
         "name": "2531",
         "opacity": 0.5,
         "type": "scatter",
         "x": [
          0,
          1,
          2,
          3,
          4,
          5,
          6,
          7,
          8,
          9,
          10,
          11,
          12,
          13,
          14,
          15,
          16,
          17,
          18,
          19,
          20,
          21,
          22,
          23
         ],
         "y": [
          -0.92155957,
          -1.2832933,
          -1.438322,
          -1.5158363,
          -1.5933507,
          -1.5416745,
          -1.4641601,
          -0.68901651,
          0.65456568,
          1.0421375,
          1.1713281,
          1.14549,
          0.88710876,
          0.78375628,
          0.88710876,
          0.86127064,
          0.70624192,
          0.5512132,
          0.42202262,
          0.42202262,
          0.24115578,
          0.34450826,
          0.37034638,
          -0.043063531
         ]
        }
       ],
       "layout": {
        "height": 300,
        "margin": {
         "b": 20,
         "l": 20,
         "r": 20,
         "t": 20
        },
        "template": {
         "data": {
          "bar": [
           {
            "error_x": {
             "color": "#f2f5fa"
            },
            "error_y": {
             "color": "#f2f5fa"
            },
            "marker": {
             "line": {
              "color": "rgb(17,17,17)",
              "width": 0.5
             },
             "pattern": {
              "fillmode": "overlay",
              "size": 10,
              "solidity": 0.2
             }
            },
            "type": "bar"
           }
          ],
          "barpolar": [
           {
            "marker": {
             "line": {
              "color": "rgb(17,17,17)",
              "width": 0.5
             },
             "pattern": {
              "fillmode": "overlay",
              "size": 10,
              "solidity": 0.2
             }
            },
            "type": "barpolar"
           }
          ],
          "carpet": [
           {
            "aaxis": {
             "endlinecolor": "#A2B1C6",
             "gridcolor": "#506784",
             "linecolor": "#506784",
             "minorgridcolor": "#506784",
             "startlinecolor": "#A2B1C6"
            },
            "baxis": {
             "endlinecolor": "#A2B1C6",
             "gridcolor": "#506784",
             "linecolor": "#506784",
             "minorgridcolor": "#506784",
             "startlinecolor": "#A2B1C6"
            },
            "type": "carpet"
           }
          ],
          "choropleth": [
           {
            "colorbar": {
             "outlinewidth": 0,
             "ticks": ""
            },
            "type": "choropleth"
           }
          ],
          "contour": [
           {
            "colorbar": {
             "outlinewidth": 0,
             "ticks": ""
            },
            "colorscale": [
             [
              0,
              "#0d0887"
             ],
             [
              0.1111111111111111,
              "#46039f"
             ],
             [
              0.2222222222222222,
              "#7201a8"
             ],
             [
              0.3333333333333333,
              "#9c179e"
             ],
             [
              0.4444444444444444,
              "#bd3786"
             ],
             [
              0.5555555555555556,
              "#d8576b"
             ],
             [
              0.6666666666666666,
              "#ed7953"
             ],
             [
              0.7777777777777778,
              "#fb9f3a"
             ],
             [
              0.8888888888888888,
              "#fdca26"
             ],
             [
              1,
              "#f0f921"
             ]
            ],
            "type": "contour"
           }
          ],
          "contourcarpet": [
           {
            "colorbar": {
             "outlinewidth": 0,
             "ticks": ""
            },
            "type": "contourcarpet"
           }
          ],
          "heatmap": [
           {
            "colorbar": {
             "outlinewidth": 0,
             "ticks": ""
            },
            "colorscale": [
             [
              0,
              "#0d0887"
             ],
             [
              0.1111111111111111,
              "#46039f"
             ],
             [
              0.2222222222222222,
              "#7201a8"
             ],
             [
              0.3333333333333333,
              "#9c179e"
             ],
             [
              0.4444444444444444,
              "#bd3786"
             ],
             [
              0.5555555555555556,
              "#d8576b"
             ],
             [
              0.6666666666666666,
              "#ed7953"
             ],
             [
              0.7777777777777778,
              "#fb9f3a"
             ],
             [
              0.8888888888888888,
              "#fdca26"
             ],
             [
              1,
              "#f0f921"
             ]
            ],
            "type": "heatmap"
           }
          ],
          "heatmapgl": [
           {
            "colorbar": {
             "outlinewidth": 0,
             "ticks": ""
            },
            "colorscale": [
             [
              0,
              "#0d0887"
             ],
             [
              0.1111111111111111,
              "#46039f"
             ],
             [
              0.2222222222222222,
              "#7201a8"
             ],
             [
              0.3333333333333333,
              "#9c179e"
             ],
             [
              0.4444444444444444,
              "#bd3786"
             ],
             [
              0.5555555555555556,
              "#d8576b"
             ],
             [
              0.6666666666666666,
              "#ed7953"
             ],
             [
              0.7777777777777778,
              "#fb9f3a"
             ],
             [
              0.8888888888888888,
              "#fdca26"
             ],
             [
              1,
              "#f0f921"
             ]
            ],
            "type": "heatmapgl"
           }
          ],
          "histogram": [
           {
            "marker": {
             "pattern": {
              "fillmode": "overlay",
              "size": 10,
              "solidity": 0.2
             }
            },
            "type": "histogram"
           }
          ],
          "histogram2d": [
           {
            "colorbar": {
             "outlinewidth": 0,
             "ticks": ""
            },
            "colorscale": [
             [
              0,
              "#0d0887"
             ],
             [
              0.1111111111111111,
              "#46039f"
             ],
             [
              0.2222222222222222,
              "#7201a8"
             ],
             [
              0.3333333333333333,
              "#9c179e"
             ],
             [
              0.4444444444444444,
              "#bd3786"
             ],
             [
              0.5555555555555556,
              "#d8576b"
             ],
             [
              0.6666666666666666,
              "#ed7953"
             ],
             [
              0.7777777777777778,
              "#fb9f3a"
             ],
             [
              0.8888888888888888,
              "#fdca26"
             ],
             [
              1,
              "#f0f921"
             ]
            ],
            "type": "histogram2d"
           }
          ],
          "histogram2dcontour": [
           {
            "colorbar": {
             "outlinewidth": 0,
             "ticks": ""
            },
            "colorscale": [
             [
              0,
              "#0d0887"
             ],
             [
              0.1111111111111111,
              "#46039f"
             ],
             [
              0.2222222222222222,
              "#7201a8"
             ],
             [
              0.3333333333333333,
              "#9c179e"
             ],
             [
              0.4444444444444444,
              "#bd3786"
             ],
             [
              0.5555555555555556,
              "#d8576b"
             ],
             [
              0.6666666666666666,
              "#ed7953"
             ],
             [
              0.7777777777777778,
              "#fb9f3a"
             ],
             [
              0.8888888888888888,
              "#fdca26"
             ],
             [
              1,
              "#f0f921"
             ]
            ],
            "type": "histogram2dcontour"
           }
          ],
          "mesh3d": [
           {
            "colorbar": {
             "outlinewidth": 0,
             "ticks": ""
            },
            "type": "mesh3d"
           }
          ],
          "parcoords": [
           {
            "line": {
             "colorbar": {
              "outlinewidth": 0,
              "ticks": ""
             }
            },
            "type": "parcoords"
           }
          ],
          "pie": [
           {
            "automargin": true,
            "type": "pie"
           }
          ],
          "scatter": [
           {
            "marker": {
             "line": {
              "color": "#283442"
             }
            },
            "type": "scatter"
           }
          ],
          "scatter3d": [
           {
            "line": {
             "colorbar": {
              "outlinewidth": 0,
              "ticks": ""
             }
            },
            "marker": {
             "colorbar": {
              "outlinewidth": 0,
              "ticks": ""
             }
            },
            "type": "scatter3d"
           }
          ],
          "scattercarpet": [
           {
            "marker": {
             "colorbar": {
              "outlinewidth": 0,
              "ticks": ""
             }
            },
            "type": "scattercarpet"
           }
          ],
          "scattergeo": [
           {
            "marker": {
             "colorbar": {
              "outlinewidth": 0,
              "ticks": ""
             }
            },
            "type": "scattergeo"
           }
          ],
          "scattergl": [
           {
            "marker": {
             "line": {
              "color": "#283442"
             }
            },
            "type": "scattergl"
           }
          ],
          "scattermapbox": [
           {
            "marker": {
             "colorbar": {
              "outlinewidth": 0,
              "ticks": ""
             }
            },
            "type": "scattermapbox"
           }
          ],
          "scatterpolar": [
           {
            "marker": {
             "colorbar": {
              "outlinewidth": 0,
              "ticks": ""
             }
            },
            "type": "scatterpolar"
           }
          ],
          "scatterpolargl": [
           {
            "marker": {
             "colorbar": {
              "outlinewidth": 0,
              "ticks": ""
             }
            },
            "type": "scatterpolargl"
           }
          ],
          "scatterternary": [
           {
            "marker": {
             "colorbar": {
              "outlinewidth": 0,
              "ticks": ""
             }
            },
            "type": "scatterternary"
           }
          ],
          "surface": [
           {
            "colorbar": {
             "outlinewidth": 0,
             "ticks": ""
            },
            "colorscale": [
             [
              0,
              "#0d0887"
             ],
             [
              0.1111111111111111,
              "#46039f"
             ],
             [
              0.2222222222222222,
              "#7201a8"
             ],
             [
              0.3333333333333333,
              "#9c179e"
             ],
             [
              0.4444444444444444,
              "#bd3786"
             ],
             [
              0.5555555555555556,
              "#d8576b"
             ],
             [
              0.6666666666666666,
              "#ed7953"
             ],
             [
              0.7777777777777778,
              "#fb9f3a"
             ],
             [
              0.8888888888888888,
              "#fdca26"
             ],
             [
              1,
              "#f0f921"
             ]
            ],
            "type": "surface"
           }
          ],
          "table": [
           {
            "cells": {
             "fill": {
              "color": "#506784"
             },
             "line": {
              "color": "rgb(17,17,17)"
             }
            },
            "header": {
             "fill": {
              "color": "#2a3f5f"
             },
             "line": {
              "color": "rgb(17,17,17)"
             }
            },
            "type": "table"
           }
          ]
         },
         "layout": {
          "annotationdefaults": {
           "arrowcolor": "#f2f5fa",
           "arrowhead": 0,
           "arrowwidth": 1
          },
          "autotypenumbers": "strict",
          "coloraxis": {
           "colorbar": {
            "outlinewidth": 0,
            "ticks": ""
           }
          },
          "colorscale": {
           "diverging": [
            [
             0,
             "#8e0152"
            ],
            [
             0.1,
             "#c51b7d"
            ],
            [
             0.2,
             "#de77ae"
            ],
            [
             0.3,
             "#f1b6da"
            ],
            [
             0.4,
             "#fde0ef"
            ],
            [
             0.5,
             "#f7f7f7"
            ],
            [
             0.6,
             "#e6f5d0"
            ],
            [
             0.7,
             "#b8e186"
            ],
            [
             0.8,
             "#7fbc41"
            ],
            [
             0.9,
             "#4d9221"
            ],
            [
             1,
             "#276419"
            ]
           ],
           "sequential": [
            [
             0,
             "#0d0887"
            ],
            [
             0.1111111111111111,
             "#46039f"
            ],
            [
             0.2222222222222222,
             "#7201a8"
            ],
            [
             0.3333333333333333,
             "#9c179e"
            ],
            [
             0.4444444444444444,
             "#bd3786"
            ],
            [
             0.5555555555555556,
             "#d8576b"
            ],
            [
             0.6666666666666666,
             "#ed7953"
            ],
            [
             0.7777777777777778,
             "#fb9f3a"
            ],
            [
             0.8888888888888888,
             "#fdca26"
            ],
            [
             1,
             "#f0f921"
            ]
           ],
           "sequentialminus": [
            [
             0,
             "#0d0887"
            ],
            [
             0.1111111111111111,
             "#46039f"
            ],
            [
             0.2222222222222222,
             "#7201a8"
            ],
            [
             0.3333333333333333,
             "#9c179e"
            ],
            [
             0.4444444444444444,
             "#bd3786"
            ],
            [
             0.5555555555555556,
             "#d8576b"
            ],
            [
             0.6666666666666666,
             "#ed7953"
            ],
            [
             0.7777777777777778,
             "#fb9f3a"
            ],
            [
             0.8888888888888888,
             "#fdca26"
            ],
            [
             1,
             "#f0f921"
            ]
           ]
          },
          "colorway": [
           "#636efa",
           "#EF553B",
           "#00cc96",
           "#ab63fa",
           "#FFA15A",
           "#19d3f3",
           "#FF6692",
           "#B6E880",
           "#FF97FF",
           "#FECB52"
          ],
          "font": {
           "color": "#f2f5fa"
          },
          "geo": {
           "bgcolor": "rgb(17,17,17)",
           "lakecolor": "rgb(17,17,17)",
           "landcolor": "rgb(17,17,17)",
           "showlakes": true,
           "showland": true,
           "subunitcolor": "#506784"
          },
          "hoverlabel": {
           "align": "left"
          },
          "hovermode": "closest",
          "mapbox": {
           "style": "dark"
          },
          "paper_bgcolor": "rgb(17,17,17)",
          "plot_bgcolor": "rgb(17,17,17)",
          "polar": {
           "angularaxis": {
            "gridcolor": "#506784",
            "linecolor": "#506784",
            "ticks": ""
           },
           "bgcolor": "rgb(17,17,17)",
           "radialaxis": {
            "gridcolor": "#506784",
            "linecolor": "#506784",
            "ticks": ""
           }
          },
          "scene": {
           "xaxis": {
            "backgroundcolor": "rgb(17,17,17)",
            "gridcolor": "#506784",
            "gridwidth": 2,
            "linecolor": "#506784",
            "showbackground": true,
            "ticks": "",
            "zerolinecolor": "#C8D4E3"
           },
           "yaxis": {
            "backgroundcolor": "rgb(17,17,17)",
            "gridcolor": "#506784",
            "gridwidth": 2,
            "linecolor": "#506784",
            "showbackground": true,
            "ticks": "",
            "zerolinecolor": "#C8D4E3"
           },
           "zaxis": {
            "backgroundcolor": "rgb(17,17,17)",
            "gridcolor": "#506784",
            "gridwidth": 2,
            "linecolor": "#506784",
            "showbackground": true,
            "ticks": "",
            "zerolinecolor": "#C8D4E3"
           }
          },
          "shapedefaults": {
           "line": {
            "color": "#f2f5fa"
           }
          },
          "sliderdefaults": {
           "bgcolor": "#C8D4E3",
           "bordercolor": "rgb(17,17,17)",
           "borderwidth": 1,
           "tickwidth": 0
          },
          "ternary": {
           "aaxis": {
            "gridcolor": "#506784",
            "linecolor": "#506784",
            "ticks": ""
           },
           "baxis": {
            "gridcolor": "#506784",
            "linecolor": "#506784",
            "ticks": ""
           },
           "bgcolor": "rgb(17,17,17)",
           "caxis": {
            "gridcolor": "#506784",
            "linecolor": "#506784",
            "ticks": ""
           }
          },
          "title": {
           "x": 0.05
          },
          "updatemenudefaults": {
           "bgcolor": "#506784",
           "borderwidth": 0
          },
          "xaxis": {
           "automargin": true,
           "gridcolor": "#283442",
           "linecolor": "#506784",
           "ticks": "",
           "title": {
            "standoff": 15
           },
           "zerolinecolor": "#283442",
           "zerolinewidth": 2
          },
          "yaxis": {
           "automargin": true,
           "gridcolor": "#283442",
           "linecolor": "#506784",
           "ticks": "",
           "title": {
            "standoff": 15
           },
           "zerolinecolor": "#283442",
           "zerolinewidth": 2
          }
         }
        },
        "width": 600,
        "xaxis": {
         "title": {
          "text": "Time"
         }
        },
        "yaxis": {
         "title": {
          "text": "Value"
         }
        }
       }
      }
     },
     "metadata": {},
     "output_type": "display_data"
    }
   ],
   "source": [
    "fig = data.plot_fig()\n",
    "fig.show()"
   ]
  },
  {
   "cell_type": "code",
   "execution_count": 6,
   "metadata": {},
   "outputs": [],
   "source": [
    "from torch.utils.data import Dataset, DataLoader\n",
    "import numpy as np\n",
    "\n",
    "# Define a custom Dataset\n",
    "class TimeSeriesDataset(Dataset):\n",
    "    def __init__(self, data):\n",
    "        self.data = data\n",
    "\n",
    "    def __len__(self):\n",
    "        return len(self.data)\n",
    "\n",
    "    def __getitem__(self, idx):\n",
    "        return self.data[idx]\n"
   ]
  },
  {
   "cell_type": "code",
   "execution_count": 10,
   "metadata": {},
   "outputs": [
    {
     "name": "stdout",
     "output_type": "stream",
     "text": [
      "0.1\n",
      "Epoch [1/100], Loss: 0.9140, LR: 0.013421772800000007\n"
     ]
    },
    {
     "name": "stderr",
     "output_type": "stream",
     "text": [
      "/var/folders/s_/qmwkpb2173510bsgf6j810s00000gn/T/ipykernel_65724/3176608321.py:58: UserWarning:\n",
      "\n",
      "To copy construct from a tensor, it is recommended to use sourceTensor.clone().detach() or sourceTensor.clone().detach().requires_grad_(True), rather than torch.tensor(sourceTensor).\n",
      "\n"
     ]
    },
    {
     "name": "stdout",
     "output_type": "stream",
     "text": [
      "Epoch [11/100], Loss: 0.9266, LR: 4.0173451106474913e-08\n",
      "Epoch [21/100], Loss: 0.9154, LR: 4.0173451106474913e-08\n",
      "Epoch [31/100], Loss: 0.9274, LR: 4.0173451106474913e-08\n",
      "Epoch [41/100], Loss: 0.9275, LR: 4.0173451106474913e-08\n",
      "Epoch [51/100], Loss: 0.9232, LR: 4.0173451106474913e-08\n",
      "Epoch [61/100], Loss: 0.9222, LR: 4.0173451106474913e-08\n",
      "Epoch [71/100], Loss: 0.9235, LR: 4.0173451106474913e-08\n",
      "Epoch [81/100], Loss: 0.9263, LR: 4.0173451106474913e-08\n",
      "Epoch [91/100], Loss: 0.9269, LR: 4.0173451106474913e-08\n",
      "Epoch [101/100], Loss: 0.9213, LR: 4.0173451106474913e-08\n"
     ]
    }
   ],
   "source": [
    "import torch\n",
    "import torch.nn as nn\n",
    "import torch.optim as optim\n",
    "\n",
    "# Define the autoencoder architecture\n",
    "class Autoencoder(nn.Module):\n",
    "    def __init__(self, input_size, encoding_dim):\n",
    "        super(Autoencoder, self).__init__()\n",
    "        # Encoder\n",
    "        self.encoder = nn.Sequential(\n",
    "            nn.Linear(input_size, encoding_dim),\n",
    "            nn.ReLU(True)\n",
    "        )\n",
    "        # Decoder\n",
    "        self.decoder = nn.Sequential(\n",
    "            nn.Linear(encoding_dim, input_size),\n",
    "            nn.ReLU(True)\n",
    "        )\n",
    "\n",
    "    def forward(self, x):\n",
    "        x = self.encoder(x)\n",
    "        x = self.decoder(x)\n",
    "        return x\n",
    "\n",
    "# class LSTM_Autoencoder(nn.Module):\n",
    "#     def __init__(self, input_size, hidden_size, num_layers=1):\n",
    "#         super(Autoencoder, self).__init__()\n",
    "#         self.encoder = nn.LSTM(input_size, hidden_size, num_layers, batch_first=True)\n",
    "#         self.decoder = nn.LSTM(hidden_size, input_size, num_layers, batch_first=True)\n",
    "\n",
    "#     def forward(self, x):\n",
    "#         encoded, _ = self.encoder(x)\n",
    "#         decoded, _ = self.decoder(encoded)\n",
    "#         return decoded\n",
    "\n",
    "# Parameters\n",
    "n_time_series = data.X.shape[0]  # Example number of time series\n",
    "length_time_series = data.X.shape[1]  # Example length of each time series\n",
    "encoding_dim = 160  # Size of the encoding\n",
    "\n",
    "# Instantiate the model\n",
    "autoencoder = Autoencoder(length_time_series, encoding_dim)\n",
    "\n",
    "# Define loss function and optimizer\n",
    "criterion = nn.MSELoss()\n",
    "optimizer = optim.Adam(autoencoder.parameters(), lr=0.1)\n",
    "print(optimizer.param_groups[0][\"lr\"])\n",
    "PATIENCE = 10\n",
    "scheduler = torch.optim.lr_scheduler.ReduceLROnPlateau(\n",
    "    optimizer, mode=\"min\", factor=0.8, patience=PATIENCE, threshold=0.1\n",
    ")\n",
    "\n",
    "# Prepare your data\n",
    "# Assuming X is your (n_time_series, length_time_series) dataset\n",
    "X = torch.tensor(data.X, dtype=torch.float32)\n",
    "\n",
    "# Convert your numpy array to a PyTorch tensor\n",
    "X_tensor = torch.tensor(X, dtype=torch.float32)\n",
    "\n",
    "# Create a dataset\n",
    "dataset = TimeSeriesDataset(X_tensor)\n",
    "\n",
    "# Create a DataLoader\n",
    "batch_size = 10\n",
    "dataloader = DataLoader(dataset, batch_size=batch_size, shuffle=True)\n",
    "\n",
    "# Training the model\n",
    "num_epochs = 100  # Number of epochs\n",
    "\n",
    "for epoch in range(num_epochs+1):\n",
    "    for batch in dataloader:\n",
    "        # Get the mini-batch\n",
    "\n",
    "        # Forward pass\n",
    "        outputs = autoencoder(batch)\n",
    "        loss = criterion(outputs, batch)\n",
    "\n",
    "        # Backward pass and optimization\n",
    "        optimizer.zero_grad()\n",
    "        loss.backward()\n",
    "        optimizer.step()\n",
    "        scheduler.step(loss)\n",
    "    if epoch % 10 ==0:\n",
    "        print(f'Epoch [{epoch+1}/{num_epochs}], Loss: {loss.item():.4f}, LR: {optimizer.param_groups[0][\"lr\"]}')\n",
    "\n",
    "# After training, you can use model.encoder to get the feature representation\n"
   ]
  },
  {
   "cell_type": "code",
   "execution_count": 12,
   "metadata": {},
   "outputs": [
    {
     "name": "stderr",
     "output_type": "stream",
     "text": [
      "100%|██████████| 19/19 [00:00<00:00, 22.90it/s]\n"
     ]
    },
    {
     "data": {
      "text/plain": [
       "{'precision': 0.9293481996083008,\n",
       " 'recall': 0.9275510204081634,\n",
       " 'f1-score': 0.9274634799100013,\n",
       " 'accuracy': 0.9275510204081634}"
      ]
     },
     "execution_count": 12,
     "metadata": {},
     "output_type": "execute_result"
    }
   ],
   "source": [
    "from sklearn.neighbors import KNeighborsClassifier\n",
    "import numpy as np\n",
    "# classifier = KNeighborsClassifier(n_neighbors=1, metric='euclidean')\n",
    "\n",
    "embeddings = autoencoder.encoder(X).detach().numpy()\n",
    "train_size = data.X_train.shape[0]\n",
    "X_train = embeddings[:train_size, :]\n",
    "X_test = embeddings[train_size:, :]\n",
    "y_train = data.y[:train_size]\n",
    "y_test = data.y[train_size:]\n",
    "\n",
    "from sklearn.svm import SVC\n",
    "from sklearn.tree import DecisionTreeClassifier\n",
    "from sklearn.linear_model import LogisticRegression\n",
    "from sklearn.neighbors import KNeighborsClassifier\n",
    "from utils.ucr_helpers import evaluate_resampling_UCR\n",
    "report, _, _ = evaluate_resampling_UCR(\n",
    "    X_train,\n",
    "    X_test,\n",
    "    data.y_train,\n",
    "    data.y_test,\n",
    "    # classifier=SVC(kernel=\"rbf\"),\n",
    "    classifier=KNeighborsClassifier(n_neighbors=1),\n",
    "    # classifier=DecisionTreeClassifier(),\n",
    "    n_resamples=20,\n",
    "    verbose=True,\n",
    "    scale=False,\n",
    "    over_sampling=True\n",
    ")\n",
    "report"
   ]
  },
  {
   "cell_type": "markdown",
   "metadata": {},
   "source": [
    "Potential to combine MF and Autoencoder embeddings?"
   ]
  }
 ],
 "metadata": {
  "kernelspec": {
   "display_name": "phd",
   "language": "python",
   "name": "python3"
  },
  "language_info": {
   "codemirror_mode": {
    "name": "ipython",
    "version": 3
   },
   "file_extension": ".py",
   "mimetype": "text/x-python",
   "name": "python",
   "nbconvert_exporter": "python",
   "pygments_lexer": "ipython3",
   "version": "3.11.6"
  },
  "orig_nbformat": 4
 },
 "nbformat": 4,
 "nbformat_minor": 2
}
