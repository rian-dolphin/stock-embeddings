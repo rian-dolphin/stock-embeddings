{
 "cells": [
  {
   "cell_type": "markdown",
   "metadata": {},
   "source": [
    "### Matrix Factorization of Correlation Matrix\n",
    "\n",
    "Simple baseline factorizing the correlation matrix."
   ]
  },
  {
   "cell_type": "code",
   "execution_count": 1,
   "metadata": {},
   "outputs": [],
   "source": [
    "import sys\n",
    "sys.path.append('../')"
   ]
  },
  {
   "cell_type": "code",
   "execution_count": 2,
   "metadata": {},
   "outputs": [],
   "source": [
    "from utils.returns_data_class import ReturnsData\n",
    "data = ReturnsData(daily_returns_path=\"../Data/returns_df_611.csv\",\n",
    "                   extras_path=\"../Data/historical_stocks.csv\",)"
   ]
  },
  {
   "cell_type": "code",
   "execution_count": 3,
   "metadata": {},
   "outputs": [],
   "source": [
    "from models.embedding_models import MatrixFactorization\n",
    "# correlations = torch.tensor(data.returns_df.corr().values)\n",
    "correlations = MatrixFactorization.get_correlation_matrix(X=data.daily_returns_df.T.values, scaled=False)\n",
    "# correlations = MatrixFactorization.apply_IQR_mask(correlations, percentiles=(0.25,0.75))\n",
    "# correlations = MatrixFactorization.apply_random_mask(correlations, percentage=0.9)"
   ]
  },
  {
   "cell_type": "code",
   "execution_count": 5,
   "metadata": {},
   "outputs": [
    {
     "name": "stdout",
     "output_type": "stream",
     "text": [
      "Precision Score: 0.63\n",
      "Recall Score: 0.52\n",
      "F1 Score: 0.52\n",
      "Accuracy Score: 0.52\n",
      "Accuracy Score Top-3: 0.82\n"
     ]
    }
   ],
   "source": [
    "import numpy as np\n",
    "from sklearn.decomposition import PCA, NMF\n",
    "from sklearn.manifold import TSNE\n",
    "def get_baseline_embeddings(similarity_matrix, num_dimensions, method='SVD'):\n",
    "    \"\"\"\n",
    "    Generate embeddings for each entity from a square symmetric similarity matrix using various methods.\n",
    "\n",
    "    :param similarity_matrix: A square symmetric matrix where element (i, j) is the similarity between entity i and entity j.\n",
    "    :param num_dimensions: The number of dimensions for the embeddings (must be <= min(matrix.shape)).\n",
    "    :param method: The matrix factorization method to use ('SVD', 'PCA', 'NMF', 't-SNE').\n",
    "    :return: A numpy array of shape (num_entities, num_dimensions) representing the embeddings.\n",
    "    \"\"\"\n",
    "    if method == 'SVD':\n",
    "        U, Sigma, VT = np.linalg.svd(similarity_matrix)\n",
    "        reduced_U = U[:, :num_dimensions]\n",
    "        reduced_Sigma = np.diag(Sigma[:num_dimensions])\n",
    "        embeddings = np.dot(reduced_U, reduced_Sigma)\n",
    "\n",
    "    elif method == 'PCA':\n",
    "        pca = PCA(n_components=num_dimensions)\n",
    "        embeddings = pca.fit_transform(similarity_matrix)\n",
    "\n",
    "    elif method == 'NMF':\n",
    "        model = NMF(n_components=num_dimensions, init='random', random_state=0)\n",
    "        W = model.fit_transform(similarity_matrix)\n",
    "        embeddings = W\n",
    "\n",
    "    elif method == 't-SNE':\n",
    "        tsne = TSNE(n_components=num_dimensions, learning_rate='auto', init='random')\n",
    "        embeddings = tsne.fit_transform(similarity_matrix)\n",
    "\n",
    "    else:\n",
    "        raise ValueError(\"Invalid method. Choose from 'SVD', 'PCA', 'NMF', 't-SNE'.\")\n",
    "\n",
    "    return embeddings\n",
    "\n",
    "embeddings = get_baseline_embeddings(correlations.fill_diagonal_(1), 20, \"SVD\")\n",
    "\n",
    "from utils.sector_classification import get_sector_score\n",
    "\n",
    "get_sector_score(embeddings, sectors=data.sectors, top_k_accuracy=True)"
   ]
  },
  {
   "cell_type": "code",
   "execution_count": 6,
   "metadata": {},
   "outputs": [
    {
     "data": {
      "application/vnd.plotly.v1+json": {
       "config": {
        "plotlyServerURL": "https://plot.ly"
       },
       "data": [
        {
         "customdata": [
          [
           "AAPL",
           "TECHNOLOGY",
           "COMPUTER MANUFACTURING"
          ],
          [
           "ACXM",
           "TECHNOLOGY",
           "EDP SERVICES"
          ],
          [
           "ADBE",
           "TECHNOLOGY",
           "COMPUTER SOFTWARE: PREPACKAGED SOFTWARE"
          ],
          [
           "ADI",
           "TECHNOLOGY",
           "SEMICONDUCTORS"
          ],
          [
           "ADP",
           "TECHNOLOGY",
           "EDP SERVICES"
          ],
          [
           "ADSK",
           "TECHNOLOGY",
           "COMPUTER SOFTWARE: PREPACKAGED SOFTWARE"
          ],
          [
           "AGYS",
           "TECHNOLOGY",
           "EDP SERVICES"
          ],
          [
           "AMAT",
           "TECHNOLOGY",
           "SEMICONDUCTORS"
          ],
          [
           "AMSWA",
           "TECHNOLOGY",
           "COMPUTER SOFTWARE: PREPACKAGED SOFTWARE"
          ],
          [
           "BHE",
           "TECHNOLOGY",
           "ELECTRICAL PRODUCTS"
          ],
          [
           "CA",
           "TECHNOLOGY",
           "COMPUTER SOFTWARE: PREPACKAGED SOFTWARE"
          ],
          [
           "CACI",
           "TECHNOLOGY",
           "EDP SERVICES"
          ],
          [
           "CDNS",
           "TECHNOLOGY",
           "COMPUTER SOFTWARE: PREPACKAGED SOFTWARE"
          ],
          [
           "CERN",
           "TECHNOLOGY",
           "EDP SERVICES"
          ],
          [
           "CLGX",
           "TECHNOLOGY",
           "EDP SERVICES"
          ],
          [
           "CMTL",
           "TECHNOLOGY",
           "RADIO AND TELEVISION BROADCASTING AND COMMUNICATIONS EQUIPMENT"
          ],
          [
           "CRUS",
           "TECHNOLOGY",
           "SEMICONDUCTORS"
          ],
          [
           "CSCO",
           "TECHNOLOGY",
           "COMPUTER COMMUNICATIONS EQUIPMENT"
          ],
          [
           "CTS",
           "TECHNOLOGY",
           "ELECTRICAL PRODUCTS"
          ],
          [
           "CW",
           "TECHNOLOGY",
           "INDUSTRIAL MACHINERY/COMPONENTS"
          ],
          [
           "CY",
           "TECHNOLOGY",
           "SEMICONDUCTORS"
          ],
          [
           "DGII",
           "TECHNOLOGY",
           "COMPUTER COMMUNICATIONS EQUIPMENT"
          ],
          [
           "DIOD",
           "TECHNOLOGY",
           "SEMICONDUCTORS"
          ],
          [
           "DOV",
           "TECHNOLOGY",
           "INDUSTRIAL MACHINERY/COMPONENTS"
          ],
          [
           "EA",
           "TECHNOLOGY",
           "COMPUTER SOFTWARE: PREPACKAGED SOFTWARE"
          ],
          [
           "ERIC",
           "TECHNOLOGY",
           "RADIO AND TELEVISION BROADCASTING AND COMMUNICATIONS EQUIPMENT"
          ],
          [
           "ETN",
           "TECHNOLOGY",
           "INDUSTRIAL MACHINERY/COMPONENTS"
          ],
          [
           "FISV",
           "TECHNOLOGY",
           "EDP SERVICES"
          ],
          [
           "HPQ",
           "TECHNOLOGY",
           "COMPUTER MANUFACTURING"
          ],
          [
           "IBM",
           "TECHNOLOGY",
           "COMPUTER MANUFACTURING"
          ],
          [
           "IDTI",
           "TECHNOLOGY",
           "SEMICONDUCTORS"
          ],
          [
           "INTC",
           "TECHNOLOGY",
           "SEMICONDUCTORS"
          ],
          [
           "IPG",
           "TECHNOLOGY",
           "ADVERTISING"
          ],
          [
           "ITW",
           "TECHNOLOGY",
           "INDUSTRIAL MACHINERY/COMPONENTS"
          ],
          [
           "JKHY",
           "TECHNOLOGY",
           "EDP SERVICES"
          ],
          [
           "KELYA",
           "TECHNOLOGY",
           "PROFESSIONAL SERVICES"
          ],
          [
           "KLIC",
           "TECHNOLOGY",
           "SEMICONDUCTORS"
          ],
          [
           "LRCX",
           "TECHNOLOGY",
           "INDUSTRIAL MACHINERY/COMPONENTS"
          ],
          [
           "LSCC",
           "TECHNOLOGY",
           "SEMICONDUCTORS"
          ],
          [
           "MAN",
           "TECHNOLOGY",
           "PROFESSIONAL SERVICES"
          ],
          [
           "MSFT",
           "TECHNOLOGY",
           "COMPUTER SOFTWARE: PREPACKAGED SOFTWARE"
          ],
          [
           "MSI",
           "TECHNOLOGY",
           "RADIO AND TELEVISION BROADCASTING AND COMMUNICATIONS EQUIPMENT"
          ],
          [
           "MU",
           "TECHNOLOGY",
           "SEMICONDUCTORS"
          ],
          [
           "MXIM",
           "TECHNOLOGY",
           "SEMICONDUCTORS"
          ],
          [
           "OMC",
           "TECHNOLOGY",
           "ADVERTISING"
          ],
          [
           "ORCL",
           "TECHNOLOGY",
           "COMPUTER SOFTWARE: PREPACKAGED SOFTWARE"
          ],
          [
           "PKE",
           "TECHNOLOGY",
           "ELECTRICAL PRODUCTS"
          ],
          [
           "PLAB",
           "TECHNOLOGY",
           "SEMICONDUCTORS"
          ],
          [
           "PLXS",
           "TECHNOLOGY",
           "ELECTRICAL PRODUCTS"
          ],
          [
           "PNR",
           "TECHNOLOGY",
           "INDUSTRIAL MACHINERY/COMPONENTS"
          ],
          [
           "PTC",
           "TECHNOLOGY",
           "COMPUTER SOFTWARE: PREPACKAGED SOFTWARE"
          ],
          [
           "SGMS",
           "TECHNOLOGY",
           "EDP SERVICES"
          ],
          [
           "SIGM",
           "TECHNOLOGY",
           "SEMICONDUCTORS"
          ],
          [
           "SMTC",
           "TECHNOLOGY",
           "SEMICONDUCTORS"
          ],
          [
           "SPXC",
           "TECHNOLOGY",
           "INDUSTRIAL MACHINERY/COMPONENTS"
          ],
          [
           "SWKS",
           "TECHNOLOGY",
           "SEMICONDUCTORS"
          ],
          [
           "SXI",
           "TECHNOLOGY",
           "INDUSTRIAL MACHINERY/COMPONENTS"
          ],
          [
           "SYMC",
           "TECHNOLOGY",
           "COMPUTER SOFTWARE: PREPACKAGED SOFTWARE"
          ],
          [
           "TECD",
           "TECHNOLOGY",
           "RETAIL: COMPUTER SOFTWARE & PERIPHERAL EQUIPMENT"
          ],
          [
           "TXN",
           "TECHNOLOGY",
           "SEMICONDUCTORS"
          ],
          [
           "TYL",
           "TECHNOLOGY",
           "COMPUTER SOFTWARE: PREPACKAGED SOFTWARE"
          ],
          [
           "UIS",
           "TECHNOLOGY",
           "EDP SERVICES"
          ],
          [
           "WDC",
           "TECHNOLOGY",
           "ELECTRONIC COMPONENTS"
          ],
          [
           "WPP",
           "TECHNOLOGY",
           "ADVERTISING"
          ],
          [
           "XLNX",
           "TECHNOLOGY",
           "SEMICONDUCTORS"
          ],
          [
           "XRX",
           "TECHNOLOGY",
           "COMPUTER PERIPHERAL EQUIPMENT"
          ],
          [
           "ZIXI",
           "TECHNOLOGY",
           "EDP SERVICES"
          ]
         ],
         "hovertemplate": "<b>%{hovertext}</b><br><br>Sector=%{customdata[1]}<br>PC1=%{x}<br>PC2=%{y}<br>ticker=%{customdata[0]}<br>industry=%{customdata[2]}<extra></extra>",
         "hovertext": [
          "COMPUTER MANUFACTURING",
          "EDP SERVICES",
          "COMPUTER SOFTWARE: PREPACKAGED SOFTWARE",
          "SEMICONDUCTORS",
          "EDP SERVICES",
          "COMPUTER SOFTWARE: PREPACKAGED SOFTWARE",
          "EDP SERVICES",
          "SEMICONDUCTORS",
          "COMPUTER SOFTWARE: PREPACKAGED SOFTWARE",
          "ELECTRICAL PRODUCTS",
          "COMPUTER SOFTWARE: PREPACKAGED SOFTWARE",
          "EDP SERVICES",
          "COMPUTER SOFTWARE: PREPACKAGED SOFTWARE",
          "EDP SERVICES",
          "EDP SERVICES",
          "RADIO AND TELEVISION BROADCASTING AND COMMUNICATIONS EQUIPMENT",
          "SEMICONDUCTORS",
          "COMPUTER COMMUNICATIONS EQUIPMENT",
          "ELECTRICAL PRODUCTS",
          "INDUSTRIAL MACHINERY/COMPONENTS",
          "SEMICONDUCTORS",
          "COMPUTER COMMUNICATIONS EQUIPMENT",
          "SEMICONDUCTORS",
          "INDUSTRIAL MACHINERY/COMPONENTS",
          "COMPUTER SOFTWARE: PREPACKAGED SOFTWARE",
          "RADIO AND TELEVISION BROADCASTING AND COMMUNICATIONS EQUIPMENT",
          "INDUSTRIAL MACHINERY/COMPONENTS",
          "EDP SERVICES",
          "COMPUTER MANUFACTURING",
          "COMPUTER MANUFACTURING",
          "SEMICONDUCTORS",
          "SEMICONDUCTORS",
          "ADVERTISING",
          "INDUSTRIAL MACHINERY/COMPONENTS",
          "EDP SERVICES",
          "PROFESSIONAL SERVICES",
          "SEMICONDUCTORS",
          "INDUSTRIAL MACHINERY/COMPONENTS",
          "SEMICONDUCTORS",
          "PROFESSIONAL SERVICES",
          "COMPUTER SOFTWARE: PREPACKAGED SOFTWARE",
          "RADIO AND TELEVISION BROADCASTING AND COMMUNICATIONS EQUIPMENT",
          "SEMICONDUCTORS",
          "SEMICONDUCTORS",
          "ADVERTISING",
          "COMPUTER SOFTWARE: PREPACKAGED SOFTWARE",
          "ELECTRICAL PRODUCTS",
          "SEMICONDUCTORS",
          "ELECTRICAL PRODUCTS",
          "INDUSTRIAL MACHINERY/COMPONENTS",
          "COMPUTER SOFTWARE: PREPACKAGED SOFTWARE",
          "EDP SERVICES",
          "SEMICONDUCTORS",
          "SEMICONDUCTORS",
          "INDUSTRIAL MACHINERY/COMPONENTS",
          "SEMICONDUCTORS",
          "INDUSTRIAL MACHINERY/COMPONENTS",
          "COMPUTER SOFTWARE: PREPACKAGED SOFTWARE",
          "RETAIL: COMPUTER SOFTWARE & PERIPHERAL EQUIPMENT",
          "SEMICONDUCTORS",
          "COMPUTER SOFTWARE: PREPACKAGED SOFTWARE",
          "EDP SERVICES",
          "ELECTRONIC COMPONENTS",
          "ADVERTISING",
          "SEMICONDUCTORS",
          "COMPUTER PERIPHERAL EQUIPMENT",
          "EDP SERVICES"
         ],
         "legendgroup": "TECHNOLOGY",
         "marker": {
          "color": "#FD3216",
          "line": {
           "color": "DarkSlateGrey",
           "width": 1
          },
          "opacity": 0.7,
          "size": 8,
          "symbol": "circle"
         },
         "mode": "markers",
         "name": "TECHNOLOGY",
         "orientation": "v",
         "showlegend": true,
         "type": "scatter",
         "x": [
          -0.8886843033677976,
          -0.6317622695575578,
          -0.8336109180797783,
          -1.2804356453068737,
          0.05900738161230234,
          -0.6105889107581435,
          -0.6083353238458362,
          -1.2548804525352735,
          -0.7118691664906643,
          -1.088797015606576,
          -0.6929776651024221,
          -0.44263014079554364,
          -0.7073742272546374,
          -0.7853285188855439,
          -0.3676365767790103,
          -0.7835142651013486,
          -1.0876489742051474,
          -1.1192937013938913,
          -0.766433691639827,
          0.22678885634170057,
          -0.9870139949089632,
          -0.5332348656084868,
          -0.9449791081922737,
          0.24821843230451074,
          -0.6251408171023711,
          -0.6169909446981394,
          0.41532478603223594,
          -0.34584346875196265,
          -0.6898868340654772,
          -0.4595891725143927,
          -1.282100904177765,
          -0.980672823037945,
          -0.1479598325477278,
          0.3916606654386934,
          -0.4492369925860114,
          -0.34014537191692623,
          -0.9874974378851815,
          -1.3093086131041967,
          -1.042392520614945,
          -0.1817534975487274,
          -0.45875533781713607,
          -0.8413975129333189,
          -0.8408635418046877,
          -1.25382076029019,
          -0.09878895459651016,
          -0.9509573594151359,
          -0.5989383282152598,
          -0.9267645726735325,
          -1.0446817256923802,
          0.20268872875899913,
          -0.7710259571153293,
          -0.44120539578785917,
          -0.9848865173163126,
          -1.3668752845420145,
          0.15770716617970582,
          -1.2789964377762781,
          -0.28409351376178343,
          -0.9308899658676687,
          -0.8924108845666815,
          -1.2248761779569437,
          -0.616776910144644,
          -0.6968936845545267,
          -0.8021149365347451,
          -0.10786714796642961,
          -1.3019681390797941,
          -0.5008811650528576,
          -1.1803415311160688
         ],
         "xaxis": "x",
         "y": [
          -0.6673485916601106,
          -0.31553836124311074,
          -0.6338042182864664,
          -1.1738968957144178,
          0.2148226728842726,
          -0.6378884597651873,
          -0.37730319522830486,
          -1.1486726998460925,
          -0.023362332815273643,
          -0.7656445970323682,
          -0.5505385054675491,
          -0.07614042376993468,
          -0.5687984000374378,
          -0.2833333655868083,
          0.5315585102004101,
          -0.27129238111738957,
          -0.8036881941986166,
          -0.8462740668009582,
          -0.3746143104430063,
          -0.09999534388545414,
          -1.3252360670657477,
          -0.01759729082758439,
          -0.8663362833883667,
          -0.7147144186744261,
          -0.3564014218735905,
          -0.6697104806731246,
          -0.6250169501006171,
          0.02316164432898493,
          -0.7777727397204972,
          -0.4265537712864062,
          -1.2681106573642456,
          -0.8360618678581715,
          -0.2026896440693317,
          -0.27833422558735293,
          -0.14032664607185727,
          -0.06830451568126569,
          -0.9724084553484069,
          -1.2721023260375957,
          -1.0442751245480937,
          -0.31152586876526933,
          -0.4960599126974863,
          -0.5623279077445806,
          -1.0153447238739812,
          -1.017798442617307,
          -0.31073217896621697,
          -0.6219799843218432,
          -0.3207649155854967,
          -0.7758413923514426,
          -0.9794810740932756,
          -0.4665440711994446,
          -0.5061898101387603,
          -0.5140336437741125,
          -0.312849037266398,
          -1.2008197537711809,
          -0.9758793892428957,
          -1.0356829676050356,
          0.18101087603846677,
          -0.5504888717624697,
          -0.6990110301662101,
          -1.162233171674864,
          0.009364748079975688,
          -0.3430853762209144,
          -0.6887979779428959,
          -0.5888509326067205,
          -1.0743023075739178,
          -0.31602271760154993,
          -0.36306872340368057
         ],
         "yaxis": "y"
        },
        {
         "customdata": [
          [
           "AB",
           "FINANCE",
           "INVESTMENT MANAGERS"
          ],
          [
           "ABM",
           "FINANCE",
           "DIVERSIFIED COMMERCIAL SERVICES"
          ],
          [
           "AEG",
           "FINANCE",
           "LIFE INSURANCE"
          ],
          [
           "AFG",
           "FINANCE",
           "PROPERTY-CASUALTY INSURERS"
          ],
          [
           "AFL",
           "FINANCE",
           "ACCIDENT &HEALTH INSURANCE"
          ],
          [
           "AIG",
           "FINANCE",
           "PROPERTY-CASUALTY INSURERS"
          ],
          [
           "AJG",
           "FINANCE",
           "SPECIALTY INSURERS"
          ],
          [
           "AON",
           "FINANCE",
           "SPECIALTY INSURERS"
          ],
          [
           "ASB",
           "FINANCE",
           "MAJOR BANKS"
          ],
          [
           "AXP",
           "FINANCE",
           "FINANCE: CONSUMER SERVICES"
          ],
          [
           "BAC",
           "FINANCE",
           "MAJOR BANKS"
          ],
          [
           "BBT",
           "FINANCE",
           "MAJOR BANKS"
          ],
          [
           "BBVA",
           "FINANCE",
           "COMMERCIAL BANKS"
          ],
          [
           "BCS",
           "FINANCE",
           "COMMERCIAL BANKS"
          ],
          [
           "BEN",
           "FINANCE",
           "INVESTMENT MANAGERS"
          ],
          [
           "BK",
           "FINANCE",
           "MAJOR BANKS"
          ],
          [
           "BOH",
           "FINANCE",
           "MAJOR BANKS"
          ],
          [
           "BPOP",
           "FINANCE",
           "MAJOR BANKS"
          ],
          [
           "BRO",
           "FINANCE",
           "SPECIALTY INSURERS"
          ],
          [
           "BXS",
           "FINANCE",
           "MAJOR BANKS"
          ],
          [
           "C",
           "FINANCE",
           "MAJOR BANKS"
          ],
          [
           "CB",
           "FINANCE",
           "PROPERTY-CASUALTY INSURERS"
          ],
          [
           "CBSH",
           "FINANCE",
           "MAJOR BANKS"
          ],
          [
           "CFR",
           "FINANCE",
           "MAJOR BANKS"
          ],
          [
           "CIA",
           "FINANCE",
           "LIFE INSURANCE"
          ],
          [
           "CINF",
           "FINANCE",
           "PROPERTY-CASUALTY INSURERS"
          ],
          [
           "CMA",
           "FINANCE",
           "MAJOR BANKS"
          ],
          [
           "CNA",
           "FINANCE",
           "PROPERTY-CASUALTY INSURERS"
          ],
          [
           "CVBF",
           "FINANCE",
           "MAJOR BANKS"
          ],
          [
           "DNB",
           "FINANCE",
           "FINANCE: CONSUMER SERVICES"
          ],
          [
           "EFX",
           "FINANCE",
           "FINANCE: CONSUMER SERVICES"
          ],
          [
           "EV",
           "FINANCE",
           "INVESTMENT MANAGERS"
          ],
          [
           "FBP",
           "FINANCE",
           "MAJOR BANKS"
          ],
          [
           "FFBC",
           "FINANCE",
           "MAJOR BANKS"
          ],
          [
           "FHN",
           "FINANCE",
           "MAJOR BANKS"
          ],
          [
           "FITB",
           "FINANCE",
           "MAJOR BANKS"
          ],
          [
           "FMBI",
           "FINANCE",
           "MAJOR BANKS"
          ],
          [
           "FNB",
           "FINANCE",
           "MAJOR BANKS"
          ],
          [
           "FULT",
           "FINANCE",
           "MAJOR BANKS"
          ],
          [
           "HBAN",
           "FINANCE",
           "MAJOR BANKS"
          ],
          [
           "INDB",
           "FINANCE",
           "MAJOR BANKS"
          ],
          [
           "JPM",
           "FINANCE",
           "MAJOR BANKS"
          ],
          [
           "KEY",
           "FINANCE",
           "MAJOR BANKS"
          ],
          [
           "KMPR",
           "FINANCE",
           "PROPERTY-CASUALTY INSURERS"
          ],
          [
           "L",
           "FINANCE",
           "PROPERTY-CASUALTY INSURERS"
          ],
          [
           "LM",
           "FINANCE",
           "INVESTMENT MANAGERS"
          ],
          [
           "LNC",
           "FINANCE",
           "LIFE INSURANCE"
          ],
          [
           "MBI",
           "FINANCE",
           "PROPERTY-CASUALTY INSURERS"
          ],
          [
           "MCY",
           "FINANCE",
           "PROPERTY-CASUALTY INSURERS"
          ],
          [
           "MKL",
           "FINANCE",
           "PROPERTY-CASUALTY INSURERS"
          ],
          [
           "MMC",
           "FINANCE",
           "SPECIALTY INSURERS"
          ],
          [
           "MTB",
           "FINANCE",
           "MAJOR BANKS"
          ],
          [
           "NTRS",
           "FINANCE",
           "MAJOR BANKS"
          ],
          [
           "OFG",
           "FINANCE",
           "MAJOR BANKS"
          ],
          [
           "ONB",
           "FINANCE",
           "MAJOR BANKS"
          ],
          [
           "ORI",
           "FINANCE",
           "PROPERTY-CASUALTY INSURERS"
          ],
          [
           "PBCT",
           "FINANCE",
           "SAVINGS INSTITUTIONS"
          ],
          [
           "PGR",
           "FINANCE",
           "PROPERTY-CASUALTY INSURERS"
          ],
          [
           "PNC",
           "FINANCE",
           "MAJOR BANKS"
          ],
          [
           "RF",
           "FINANCE",
           "MAJOR BANKS"
          ],
          [
           "RJF",
           "FINANCE",
           "INVESTMENT BANKERS/BROKERS/SERVICE"
          ],
          [
           "RLI",
           "FINANCE",
           "PROPERTY-CASUALTY INSURERS"
          ],
          [
           "ROL",
           "FINANCE",
           "DIVERSIFIED COMMERCIAL SERVICES"
          ],
          [
           "SCHW",
           "FINANCE",
           "INVESTMENT BANKERS/BROKERS/SERVICE"
          ],
          [
           "SEIC",
           "FINANCE",
           "INVESTMENT BANKERS/BROKERS/SERVICE"
          ],
          [
           "SFE",
           "FINANCE",
           "FINANCE/INVESTORS SERVICES"
          ],
          [
           "SIGI",
           "FINANCE",
           "PROPERTY-CASUALTY INSURERS"
          ],
          [
           "SIVB",
           "FINANCE",
           "MAJOR BANKS"
          ],
          [
           "SLM",
           "FINANCE",
           "FINANCE: CONSUMER SERVICES"
          ],
          [
           "SNV",
           "FINANCE",
           "MAJOR BANKS"
          ],
          [
           "SPGI",
           "FINANCE",
           "FINANCE: CONSUMER SERVICES"
          ],
          [
           "SRCE",
           "FINANCE",
           "MAJOR BANKS"
          ],
          [
           "STI",
           "FINANCE",
           "MAJOR BANKS"
          ],
          [
           "STT",
           "FINANCE",
           "MAJOR BANKS"
          ],
          [
           "TCF",
           "FINANCE",
           "MAJOR BANKS"
          ],
          [
           "TMK",
           "FINANCE",
           "LIFE INSURANCE"
          ],
          [
           "TRMK",
           "FINANCE",
           "MAJOR BANKS"
          ],
          [
           "TROW",
           "FINANCE",
           "INVESTMENT BANKERS/BROKERS/SERVICE"
          ],
          [
           "TRST",
           "FINANCE",
           "MAJOR BANKS"
          ],
          [
           "TRV",
           "FINANCE",
           "PROPERTY-CASUALTY INSURERS"
          ],
          [
           "UBSI",
           "FINANCE",
           "MAJOR BANKS"
          ],
          [
           "UMBF",
           "FINANCE",
           "MAJOR BANKS"
          ],
          [
           "UNM",
           "FINANCE",
           "ACCIDENT &HEALTH INSURANCE"
          ],
          [
           "USB",
           "FINANCE",
           "MAJOR BANKS"
          ],
          [
           "VLY",
           "FINANCE",
           "MAJOR BANKS"
          ],
          [
           "WABC",
           "FINANCE",
           "MAJOR BANKS"
          ],
          [
           "WAFD",
           "FINANCE",
           "MAJOR BANKS"
          ],
          [
           "WBS",
           "FINANCE",
           "MAJOR BANKS"
          ],
          [
           "WFC",
           "FINANCE",
           "MAJOR BANKS"
          ],
          [
           "WRB",
           "FINANCE",
           "PROPERTY-CASUALTY INSURERS"
          ],
          [
           "WSBC",
           "FINANCE",
           "MAJOR BANKS"
          ],
          [
           "WSFS",
           "FINANCE",
           "MAJOR BANKS"
          ],
          [
           "ZION",
           "FINANCE",
           "MAJOR BANKS"
          ]
         ],
         "hovertemplate": "<b>%{hovertext}</b><br><br>Sector=%{customdata[1]}<br>PC1=%{x}<br>PC2=%{y}<br>ticker=%{customdata[0]}<br>industry=%{customdata[2]}<extra></extra>",
         "hovertext": [
          "INVESTMENT MANAGERS",
          "DIVERSIFIED COMMERCIAL SERVICES",
          "LIFE INSURANCE",
          "PROPERTY-CASUALTY INSURERS",
          "ACCIDENT &HEALTH INSURANCE",
          "PROPERTY-CASUALTY INSURERS",
          "SPECIALTY INSURERS",
          "SPECIALTY INSURERS",
          "MAJOR BANKS",
          "FINANCE: CONSUMER SERVICES",
          "MAJOR BANKS",
          "MAJOR BANKS",
          "COMMERCIAL BANKS",
          "COMMERCIAL BANKS",
          "INVESTMENT MANAGERS",
          "MAJOR BANKS",
          "MAJOR BANKS",
          "MAJOR BANKS",
          "SPECIALTY INSURERS",
          "MAJOR BANKS",
          "MAJOR BANKS",
          "PROPERTY-CASUALTY INSURERS",
          "MAJOR BANKS",
          "MAJOR BANKS",
          "LIFE INSURANCE",
          "PROPERTY-CASUALTY INSURERS",
          "MAJOR BANKS",
          "PROPERTY-CASUALTY INSURERS",
          "MAJOR BANKS",
          "FINANCE: CONSUMER SERVICES",
          "FINANCE: CONSUMER SERVICES",
          "INVESTMENT MANAGERS",
          "MAJOR BANKS",
          "MAJOR BANKS",
          "MAJOR BANKS",
          "MAJOR BANKS",
          "MAJOR BANKS",
          "MAJOR BANKS",
          "MAJOR BANKS",
          "MAJOR BANKS",
          "MAJOR BANKS",
          "MAJOR BANKS",
          "MAJOR BANKS",
          "PROPERTY-CASUALTY INSURERS",
          "PROPERTY-CASUALTY INSURERS",
          "INVESTMENT MANAGERS",
          "LIFE INSURANCE",
          "PROPERTY-CASUALTY INSURERS",
          "PROPERTY-CASUALTY INSURERS",
          "PROPERTY-CASUALTY INSURERS",
          "SPECIALTY INSURERS",
          "MAJOR BANKS",
          "MAJOR BANKS",
          "MAJOR BANKS",
          "MAJOR BANKS",
          "PROPERTY-CASUALTY INSURERS",
          "SAVINGS INSTITUTIONS",
          "PROPERTY-CASUALTY INSURERS",
          "MAJOR BANKS",
          "MAJOR BANKS",
          "INVESTMENT BANKERS/BROKERS/SERVICE",
          "PROPERTY-CASUALTY INSURERS",
          "DIVERSIFIED COMMERCIAL SERVICES",
          "INVESTMENT BANKERS/BROKERS/SERVICE",
          "INVESTMENT BANKERS/BROKERS/SERVICE",
          "FINANCE/INVESTORS SERVICES",
          "PROPERTY-CASUALTY INSURERS",
          "MAJOR BANKS",
          "FINANCE: CONSUMER SERVICES",
          "MAJOR BANKS",
          "FINANCE: CONSUMER SERVICES",
          "MAJOR BANKS",
          "MAJOR BANKS",
          "MAJOR BANKS",
          "MAJOR BANKS",
          "LIFE INSURANCE",
          "MAJOR BANKS",
          "INVESTMENT BANKERS/BROKERS/SERVICE",
          "MAJOR BANKS",
          "PROPERTY-CASUALTY INSURERS",
          "MAJOR BANKS",
          "MAJOR BANKS",
          "ACCIDENT &HEALTH INSURANCE",
          "MAJOR BANKS",
          "MAJOR BANKS",
          "MAJOR BANKS",
          "MAJOR BANKS",
          "MAJOR BANKS",
          "MAJOR BANKS",
          "PROPERTY-CASUALTY INSURERS",
          "MAJOR BANKS",
          "MAJOR BANKS",
          "MAJOR BANKS"
         ],
         "legendgroup": "FINANCE",
         "marker": {
          "color": "#00FE35",
          "line": {
           "color": "DarkSlateGrey",
           "width": 1
          },
          "opacity": 0.7,
          "size": 8,
          "symbol": "diamond"
         },
         "mode": "markers",
         "name": "FINANCE",
         "orientation": "v",
         "showlegend": true,
         "type": "scatter",
         "x": [
          -0.20993007290765037,
          -0.18523136280657296,
          0.20294118902658212,
          0.44656884241200084,
          0.22757201666604304,
          -0.19136840053360996,
          -0.34753893896200855,
          -0.21099394227408444,
          -0.395936803869456,
          -0.15985795795335117,
          -0.4504463923595474,
          -0.43809804584983986,
          0.2845240040636015,
          -0.015456787234871695,
          0.09924444631727114,
          -0.1006505057418014,
          -0.3884595695634745,
          -0.5457890704877906,
          -0.18522457025603606,
          -0.5926369869491486,
          -0.3821997552592138,
          0.0676982925233642,
          -0.26998568033971454,
          -0.4255432143133189,
          -0.27582288318682274,
          0.27415864397614503,
          -0.526924105472623,
          0.1433174112687244,
          -0.6191636019370745,
          -0.059637103960369975,
          -0.04035605290295112,
          0.0007312825664770894,
          -0.6223058997919528,
          -0.5646393174502764,
          -0.5562047174592925,
          -0.5079561762181428,
          -0.572829344346089,
          -0.47849917969265315,
          -0.5932237636969779,
          -0.7391283920052529,
          -0.49061990829833135,
          -0.534284794231602,
          -0.3729448514670263,
          0.20766637545660807,
          0.9912270250947476,
          -0.18743094020649095,
          -0.004501291337788972,
          -0.38015497952416016,
          0.12219973560266754,
          -0.020493363288636438,
          -0.16019659088179286,
          -0.5293904247201978,
          -0.1925425955065208,
          -0.8266898166131585,
          -0.6038827257662627,
          -0.05508928164091578,
          -0.20965633965035013,
          0.09412076159838231,
          -0.5182313456641015,
          -0.6132375683438941,
          -0.3320238312321783,
          -0.1685013633557907,
          -0.2377448690553721,
          -0.7633616589571486,
          -0.30082730906844435,
          -0.8596830038517124,
          -0.10877568667037793,
          -0.8305677065878178,
          -0.13979150743386048,
          -0.6136640919765924,
          0.19966622953686752,
          -0.6343066651948197,
          -0.637047056215572,
          -0.20337977788041994,
          -0.492607116079485,
          0.20756052392179805,
          -0.4895497748956267,
          -0.18483402469560803,
          -0.5437420886547015,
          0.22348538156855363,
          -0.6350499926532991,
          -0.3436934040590162,
          0.13726768886948884,
          -0.4169272500937342,
          -0.3795767579115051,
          -0.5142044077348539,
          -0.38776850484278325,
          -0.5133641723015544,
          -0.40791963012070115,
          0.2687025967828256,
          -0.5510067015508866,
          -0.42190936321008193,
          -0.661662067192414
         ],
         "xaxis": "x",
         "y": [
          -0.042224335964113034,
          0.14078152729097854,
          -0.19010481802124923,
          0.4020224414861221,
          0.5347080777873973,
          0.5032488752381776,
          0.7510598205461938,
          0.5689023280358767,
          0.7494119507907293,
          0.22363953084305133,
          0.4532138931841205,
          0.851801188207572,
          -0.30127681057895506,
          0.04744513849788661,
          -0.011555225020490216,
          0.42212872957987274,
          0.7266857373545759,
          0.47167235901869375,
          0.49023613988841436,
          0.3710383928923799,
          0.2504343220609448,
          0.7228390236975896,
          0.7814746512992619,
          0.6030570985152631,
          0.27390199361085676,
          0.8704585068930345,
          0.6715860823578854,
          0.5901945232913239,
          0.5474388950712483,
          0.007935420400096937,
          0.10364686247791964,
          -0.07613644804557491,
          0.30408358866585056,
          0.5130992418094062,
          0.7939291725283922,
          0.7448614051382991,
          0.6169627817075951,
          0.7019812331772755,
          0.7279221948349078,
          0.7571265308253404,
          0.40318026086654024,
          0.3223073115957747,
          0.685186436028691,
          0.3402942372908912,
          0.2593104993061426,
          -0.17605866445663462,
          0.3276496129433136,
          0.39933188169539846,
          0.7087606869188521,
          0.645317652277415,
          0.5653100427417872,
          0.7717406480317422,
          0.3577149887401356,
          0.27127536166656,
          0.7098959681507747,
          0.7331554508594007,
          0.613390933291002,
          0.6773912592888452,
          0.7205023444244653,
          0.6961232214784308,
          -0.06255591545197492,
          0.6379706440592553,
          0.18276554301026185,
          -0.34888505551063187,
          -0.07843044961007412,
          -0.35299832928522495,
          0.6242868427839412,
          -0.18965618063298792,
          0.37504457664475405,
          0.6896545844195645,
          0.0962240542020876,
          0.544913024884681,
          0.7472001839215441,
          0.27801323997267074,
          0.7413150380580482,
          0.6212565766310372,
          0.6979364670446543,
          0.06662166476904137,
          0.522541829371057,
          0.7481771655374314,
          0.6386210359067295,
          0.4602715078052324,
          0.469200700234809,
          0.7787345194264796,
          0.8078716369153858,
          0.715259860092313,
          0.70203408542389,
          0.5175190908632131,
          0.8167519960919637,
          0.7572413787524768,
          0.557358510342752,
          0.4618005236364956,
          0.5844150779426147
         ],
         "yaxis": "y"
        },
        {
         "customdata": [
          [
           "AEP",
           "PUBLIC UTILITIES",
           "ELECTRIC UTILITIES: CENTRAL"
          ],
          [
           "ALE",
           "PUBLIC UTILITIES",
           "POWER GENERATION"
          ],
          [
           "ATO",
           "PUBLIC UTILITIES",
           "OIL/GAS TRANSMISSION"
          ],
          [
           "AVA",
           "PUBLIC UTILITIES",
           "POWER GENERATION"
          ],
          [
           "AWR",
           "PUBLIC UTILITIES",
           "WATER SUPPLY"
          ],
          [
           "BCE",
           "PUBLIC UTILITIES",
           "TELECOMMUNICATIONS EQUIPMENT"
          ],
          [
           "BKH",
           "PUBLIC UTILITIES",
           "ELECTRIC UTILITIES: CENTRAL"
          ],
          [
           "BT",
           "PUBLIC UTILITIES",
           "TELECOMMUNICATIONS EQUIPMENT"
          ],
          [
           "CBB",
           "PUBLIC UTILITIES",
           "TELECOMMUNICATIONS EQUIPMENT"
          ],
          [
           "CMS",
           "PUBLIC UTILITIES",
           "POWER GENERATION"
          ],
          [
           "CNP",
           "PUBLIC UTILITIES",
           "ELECTRIC UTILITIES: CENTRAL"
          ],
          [
           "CTL",
           "PUBLIC UTILITIES",
           "TELECOMMUNICATIONS EQUIPMENT"
          ],
          [
           "CWT",
           "PUBLIC UTILITIES",
           "WATER SUPPLY"
          ],
          [
           "D",
           "PUBLIC UTILITIES",
           "ELECTRIC UTILITIES: CENTRAL"
          ],
          [
           "DTE",
           "PUBLIC UTILITIES",
           "ELECTRIC UTILITIES: CENTRAL"
          ],
          [
           "DUK",
           "PUBLIC UTILITIES",
           "POWER GENERATION"
          ],
          [
           "ED",
           "PUBLIC UTILITIES",
           "POWER GENERATION"
          ],
          [
           "EIX",
           "PUBLIC UTILITIES",
           "ELECTRIC UTILITIES: CENTRAL"
          ],
          [
           "ES",
           "PUBLIC UTILITIES",
           "ELECTRIC UTILITIES: CENTRAL"
          ],
          [
           "ETR",
           "PUBLIC UTILITIES",
           "ELECTRIC UTILITIES: CENTRAL"
          ],
          [
           "EXC",
           "PUBLIC UTILITIES",
           "POWER GENERATION"
          ],
          [
           "FTR",
           "PUBLIC UTILITIES",
           "TELECOMMUNICATIONS EQUIPMENT"
          ],
          [
           "HE",
           "PUBLIC UTILITIES",
           "ELECTRIC UTILITIES: CENTRAL"
          ],
          [
           "IDA",
           "PUBLIC UTILITIES",
           "ELECTRIC UTILITIES: CENTRAL"
          ],
          [
           "LNT",
           "PUBLIC UTILITIES",
           "POWER GENERATION"
          ],
          [
           "NEE",
           "PUBLIC UTILITIES",
           "ELECTRIC UTILITIES: CENTRAL"
          ],
          [
           "NFG",
           "PUBLIC UTILITIES",
           "OIL/GAS TRANSMISSION"
          ],
          [
           "NI",
           "PUBLIC UTILITIES",
           "POWER GENERATION"
          ],
          [
           "NJR",
           "PUBLIC UTILITIES",
           "OIL/GAS TRANSMISSION"
          ],
          [
           "NWN",
           "PUBLIC UTILITIES",
           "OIL/GAS TRANSMISSION"
          ],
          [
           "OGE",
           "PUBLIC UTILITIES",
           "ELECTRIC UTILITIES: CENTRAL"
          ],
          [
           "OKE",
           "PUBLIC UTILITIES",
           "OIL & GAS PRODUCTION"
          ],
          [
           "OTTR",
           "PUBLIC UTILITIES",
           "ELECTRIC UTILITIES: CENTRAL"
          ],
          [
           "PCG",
           "PUBLIC UTILITIES",
           "POWER GENERATION"
          ],
          [
           "PEG",
           "PUBLIC UTILITIES",
           "POWER GENERATION"
          ],
          [
           "PHI",
           "PUBLIC UTILITIES",
           "TELECOMMUNICATIONS EQUIPMENT"
          ],
          [
           "PNM",
           "PUBLIC UTILITIES",
           "ELECTRIC UTILITIES: CENTRAL"
          ],
          [
           "PNW",
           "PUBLIC UTILITIES",
           "ELECTRIC UTILITIES: CENTRAL"
          ],
          [
           "PPL",
           "PUBLIC UTILITIES",
           "ELECTRIC UTILITIES: CENTRAL"
          ],
          [
           "S",
           "PUBLIC UTILITIES",
           "TELECOMMUNICATIONS EQUIPMENT"
          ],
          [
           "SCG",
           "PUBLIC UTILITIES",
           "POWER GENERATION"
          ],
          [
           "SJI",
           "PUBLIC UTILITIES",
           "OIL/GAS TRANSMISSION"
          ],
          [
           "SO",
           "PUBLIC UTILITIES",
           "ELECTRIC UTILITIES: CENTRAL"
          ],
          [
           "SR",
           "PUBLIC UTILITIES",
           "OIL/GAS TRANSMISSION"
          ],
          [
           "SWX",
           "PUBLIC UTILITIES",
           "OIL & GAS PRODUCTION"
          ],
          [
           "T",
           "PUBLIC UTILITIES",
           "TELECOMMUNICATIONS EQUIPMENT"
          ],
          [
           "TEF",
           "PUBLIC UTILITIES",
           "TELECOMMUNICATIONS EQUIPMENT"
          ],
          [
           "TRP",
           "PUBLIC UTILITIES",
           "NATURAL GAS DISTRIBUTION"
          ],
          [
           "UGI",
           "PUBLIC UTILITIES",
           "NATURAL GAS DISTRIBUTION"
          ],
          [
           "USM",
           "PUBLIC UTILITIES",
           "TELECOMMUNICATIONS EQUIPMENT"
          ],
          [
           "VOD",
           "PUBLIC UTILITIES",
           "TELECOMMUNICATIONS EQUIPMENT"
          ],
          [
           "VVC",
           "PUBLIC UTILITIES",
           "NATURAL GAS DISTRIBUTION"
          ],
          [
           "VZ",
           "PUBLIC UTILITIES",
           "TELECOMMUNICATIONS EQUIPMENT"
          ],
          [
           "WEC",
           "PUBLIC UTILITIES",
           "POWER GENERATION"
          ],
          [
           "WM",
           "PUBLIC UTILITIES",
           "ENVIRONMENTAL SERVICES"
          ],
          [
           "WMB",
           "PUBLIC UTILITIES",
           "NATURAL GAS DISTRIBUTION"
          ],
          [
           "WTR",
           "PUBLIC UTILITIES",
           "WATER SUPPLY"
          ]
         ],
         "hovertemplate": "<b>%{hovertext}</b><br><br>Sector=%{customdata[1]}<br>PC1=%{x}<br>PC2=%{y}<br>ticker=%{customdata[0]}<br>industry=%{customdata[2]}<extra></extra>",
         "hovertext": [
          "ELECTRIC UTILITIES: CENTRAL",
          "POWER GENERATION",
          "OIL/GAS TRANSMISSION",
          "POWER GENERATION",
          "WATER SUPPLY",
          "TELECOMMUNICATIONS EQUIPMENT",
          "ELECTRIC UTILITIES: CENTRAL",
          "TELECOMMUNICATIONS EQUIPMENT",
          "TELECOMMUNICATIONS EQUIPMENT",
          "POWER GENERATION",
          "ELECTRIC UTILITIES: CENTRAL",
          "TELECOMMUNICATIONS EQUIPMENT",
          "WATER SUPPLY",
          "ELECTRIC UTILITIES: CENTRAL",
          "ELECTRIC UTILITIES: CENTRAL",
          "POWER GENERATION",
          "POWER GENERATION",
          "ELECTRIC UTILITIES: CENTRAL",
          "ELECTRIC UTILITIES: CENTRAL",
          "ELECTRIC UTILITIES: CENTRAL",
          "POWER GENERATION",
          "TELECOMMUNICATIONS EQUIPMENT",
          "ELECTRIC UTILITIES: CENTRAL",
          "ELECTRIC UTILITIES: CENTRAL",
          "POWER GENERATION",
          "ELECTRIC UTILITIES: CENTRAL",
          "OIL/GAS TRANSMISSION",
          "POWER GENERATION",
          "OIL/GAS TRANSMISSION",
          "OIL/GAS TRANSMISSION",
          "ELECTRIC UTILITIES: CENTRAL",
          "OIL & GAS PRODUCTION",
          "ELECTRIC UTILITIES: CENTRAL",
          "POWER GENERATION",
          "POWER GENERATION",
          "TELECOMMUNICATIONS EQUIPMENT",
          "ELECTRIC UTILITIES: CENTRAL",
          "ELECTRIC UTILITIES: CENTRAL",
          "ELECTRIC UTILITIES: CENTRAL",
          "TELECOMMUNICATIONS EQUIPMENT",
          "POWER GENERATION",
          "OIL/GAS TRANSMISSION",
          "ELECTRIC UTILITIES: CENTRAL",
          "OIL/GAS TRANSMISSION",
          "OIL & GAS PRODUCTION",
          "TELECOMMUNICATIONS EQUIPMENT",
          "TELECOMMUNICATIONS EQUIPMENT",
          "NATURAL GAS DISTRIBUTION",
          "NATURAL GAS DISTRIBUTION",
          "TELECOMMUNICATIONS EQUIPMENT",
          "TELECOMMUNICATIONS EQUIPMENT",
          "NATURAL GAS DISTRIBUTION",
          "TELECOMMUNICATIONS EQUIPMENT",
          "POWER GENERATION",
          "ENVIRONMENTAL SERVICES",
          "NATURAL GAS DISTRIBUTION",
          "WATER SUPPLY"
         ],
         "legendgroup": "PUBLIC UTILITIES",
         "marker": {
          "color": "#6A76FC",
          "line": {
           "color": "DarkSlateGrey",
           "width": 1
          },
          "opacity": 0.7,
          "size": 8,
          "symbol": "square"
         },
         "mode": "markers",
         "name": "PUBLIC UTILITIES",
         "orientation": "v",
         "showlegend": true,
         "type": "scatter",
         "x": [
          1.4037255642358744,
          0.7186100891505366,
          0.8373034310781368,
          0.24999611840923028,
          0.16548815942376388,
          -0.3540506982156625,
          1.064922758497106,
          -0.1995357302464242,
          -0.631355156667644,
          0.9316475022661326,
          0.926132275209637,
          -0.04339948392359788,
          0.16264406070714185,
          1.701515692039955,
          1.5813530090390815,
          1.2112718770890285,
          1.431942116144251,
          0.8422111381737889,
          1.2935044054095564,
          1.617798995031218,
          1.6063751590969537,
          -0.14593656823001896,
          0.9422073252172614,
          1.0054980105613838,
          1.4388630863173029,
          1.6038891693654451,
          1.7686815697046347,
          1.2508437448964738,
          0.8748767990040144,
          0.7459808110099683,
          1.5990820980619835,
          1.605657989200129,
          -0.0011148374622082734,
          0.6904353571043687,
          1.7574243373506901,
          -0.1370182485554737,
          0.7466554375071328,
          1.4625392638309032,
          1.5530613786623775,
          -0.20004626323230387,
          1.2724132877087033,
          0.8161787412320072,
          1.372587686773481,
          0.5287737430409075,
          0.7965881303496802,
          0.2618613278590983,
          0.10703405091831872,
          0.9988917877730941,
          1.2215983581864818,
          -0.1316673762937233,
          -0.308383947451999,
          0.9660767428166488,
          0.05856678299006498,
          1.4087605824268497,
          0.18944190593857743,
          0.7691975628861386,
          0.5768622751130112
         ],
         "xaxis": "x",
         "y": [
          1.2648786586430292,
          0.9651858468453538,
          0.7164149659742444,
          0.5977702621116536,
          0.6075862071010713,
          -0.18121413699264768,
          0.6269012692975083,
          -0.2596010824464434,
          -0.20478813995840275,
          0.804306426258641,
          0.8316535861596903,
          0.13406873073553946,
          0.5930467004278062,
          1.0961014299579948,
          1.2356249949599818,
          1.2521437471757977,
          1.6888245290863704,
          0.888772236216988,
          0.981907023422202,
          1.1461950181156446,
          0.9617401306899042,
          -0.007501699701603591,
          0.9898652233479124,
          1.0409942843233186,
          0.9787944450319853,
          1.1336532710415994,
          -0.23363765294213582,
          0.8654880877887032,
          0.8060718081261952,
          0.8845053942423008,
          0.7620435959664047,
          -0.396925213407964,
          0.3491789757902871,
          0.9245370359803422,
          1.071595523538419,
          -0.1238139665634137,
          0.8505785482570927,
          1.3601733131438982,
          1.0347568830103415,
          -0.12124955572676467,
          1.1135627453384296,
          0.7364376963231951,
          1.63467239324133,
          0.6567966751941419,
          0.5382360239735758,
          0.5089263648912227,
          -0.4679439958163251,
          -0.288710292031582,
          0.4606686080877423,
          -0.2965598499092701,
          -0.3579146628535706,
          0.704365806122098,
          0.5117649139892787,
          1.3584170407412919,
          0.27348595523044006,
          -0.6241054091635936,
          0.6895994964800812
         ],
         "yaxis": "y"
        },
        {
         "customdata": [
          [
           "ANDV",
           "ENERGY",
           "INTEGRATED OIL COMPANIES"
          ],
          [
           "APA",
           "ENERGY",
           "OIL & GAS PRODUCTION"
          ],
          [
           "APC",
           "ENERGY",
           "OIL & GAS PRODUCTION"
          ],
          [
           "BC",
           "ENERGY",
           "INDUSTRIAL MACHINERY/COMPONENTS"
          ],
          [
           "BGG",
           "ENERGY",
           "INDUSTRIAL MACHINERY/COMPONENTS"
          ],
          [
           "BHGE",
           "ENERGY",
           "METAL FABRICATIONS"
          ],
          [
           "BP",
           "ENERGY",
           "INTEGRATED OIL COMPANIES"
          ],
          [
           "BPL",
           "ENERGY",
           "NATURAL GAS DISTRIBUTION"
          ],
          [
           "BPT",
           "ENERGY",
           "INTEGRATED OIL COMPANIES"
          ],
          [
           "CMI",
           "ENERGY",
           "INDUSTRIAL MACHINERY/COMPONENTS"
          ],
          [
           "COG",
           "ENERGY",
           "OIL & GAS PRODUCTION"
          ],
          [
           "COP",
           "ENERGY",
           "INTEGRATED OIL COMPANIES"
          ],
          [
           "CRK",
           "ENERGY",
           "OIL & GAS PRODUCTION"
          ],
          [
           "CVX",
           "ENERGY",
           "INTEGRATED OIL COMPANIES"
          ],
          [
           "DVN",
           "ENERGY",
           "OIL & GAS PRODUCTION"
          ],
          [
           "EGN",
           "ENERGY",
           "OIL & GAS PRODUCTION"
          ],
          [
           "EMR",
           "ENERGY",
           "CONSUMER ELECTRONICS/APPLIANCES"
          ],
          [
           "EOG",
           "ENERGY",
           "OIL & GAS PRODUCTION"
          ],
          [
           "EQT",
           "ENERGY",
           "OIL & GAS PRODUCTION"
          ],
          [
           "ESV",
           "ENERGY",
           "OIL & GAS PRODUCTION"
          ],
          [
           "GE",
           "ENERGY",
           "CONSUMER ELECTRONICS/APPLIANCES"
          ],
          [
           "HAL",
           "ENERGY",
           "OILFIELD SERVICES/EQUIPMENT"
          ],
          [
           "HES",
           "ENERGY",
           "INTEGRATED OIL COMPANIES"
          ],
          [
           "HP",
           "ENERGY",
           "OIL & GAS PRODUCTION"
          ],
          [
           "INT",
           "ENERGY",
           "OIL REFINING/MARKETING"
          ],
          [
           "MGEE",
           "ENERGY",
           "ELECTRIC UTILITIES: CENTRAL"
          ],
          [
           "MRO",
           "ENERGY",
           "OIL & GAS PRODUCTION"
          ],
          [
           "MUR",
           "ENERGY",
           "OIL & GAS PRODUCTION"
          ],
          [
           "NBL",
           "ENERGY",
           "OIL & GAS PRODUCTION"
          ],
          [
           "NBR",
           "ENERGY",
           "OIL & GAS PRODUCTION"
          ],
          [
           "NE",
           "ENERGY",
           "OIL & GAS PRODUCTION"
          ],
          [
           "OII",
           "ENERGY",
           "OILFIELD SERVICES/EQUIPMENT"
          ],
          [
           "OXY",
           "ENERGY",
           "OIL & GAS PRODUCTION"
          ],
          [
           "PHG",
           "ENERGY",
           "CONSUMER ELECTRONICS/APPLIANCES"
          ],
          [
           "PKD",
           "ENERGY",
           "OIL & GAS PRODUCTION"
          ],
          [
           "RDC",
           "ENERGY",
           "OIL & GAS PRODUCTION"
          ],
          [
           "SBR",
           "ENERGY",
           "OIL & GAS PRODUCTION"
          ],
          [
           "SJT",
           "ENERGY",
           "OIL & GAS PRODUCTION"
          ],
          [
           "SLB",
           "ENERGY",
           "OILFIELD SERVICES/EQUIPMENT"
          ],
          [
           "SSL",
           "ENERGY",
           "OIL & GAS PRODUCTION"
          ],
          [
           "SWN",
           "ENERGY",
           "OIL & GAS PRODUCTION"
          ],
          [
           "TTI",
           "ENERGY",
           "OIL & GAS PRODUCTION"
          ],
          [
           "UNT",
           "ENERGY",
           "OIL & GAS PRODUCTION"
          ],
          [
           "VLO",
           "ENERGY",
           "INTEGRATED OIL COMPANIES"
          ],
          [
           "WFT",
           "ENERGY",
           "METAL FABRICATIONS"
          ],
          [
           "XOM",
           "ENERGY",
           "INTEGRATED OIL COMPANIES"
          ]
         ],
         "hovertemplate": "<b>%{hovertext}</b><br><br>Sector=%{customdata[1]}<br>PC1=%{x}<br>PC2=%{y}<br>ticker=%{customdata[0]}<br>industry=%{customdata[2]}<extra></extra>",
         "hovertext": [
          "INTEGRATED OIL COMPANIES",
          "OIL & GAS PRODUCTION",
          "OIL & GAS PRODUCTION",
          "INDUSTRIAL MACHINERY/COMPONENTS",
          "INDUSTRIAL MACHINERY/COMPONENTS",
          "METAL FABRICATIONS",
          "INTEGRATED OIL COMPANIES",
          "NATURAL GAS DISTRIBUTION",
          "INTEGRATED OIL COMPANIES",
          "INDUSTRIAL MACHINERY/COMPONENTS",
          "OIL & GAS PRODUCTION",
          "INTEGRATED OIL COMPANIES",
          "OIL & GAS PRODUCTION",
          "INTEGRATED OIL COMPANIES",
          "OIL & GAS PRODUCTION",
          "OIL & GAS PRODUCTION",
          "CONSUMER ELECTRONICS/APPLIANCES",
          "OIL & GAS PRODUCTION",
          "OIL & GAS PRODUCTION",
          "OIL & GAS PRODUCTION",
          "CONSUMER ELECTRONICS/APPLIANCES",
          "OILFIELD SERVICES/EQUIPMENT",
          "INTEGRATED OIL COMPANIES",
          "OIL & GAS PRODUCTION",
          "OIL REFINING/MARKETING",
          "ELECTRIC UTILITIES: CENTRAL",
          "OIL & GAS PRODUCTION",
          "OIL & GAS PRODUCTION",
          "OIL & GAS PRODUCTION",
          "OIL & GAS PRODUCTION",
          "OIL & GAS PRODUCTION",
          "OILFIELD SERVICES/EQUIPMENT",
          "OIL & GAS PRODUCTION",
          "CONSUMER ELECTRONICS/APPLIANCES",
          "OIL & GAS PRODUCTION",
          "OIL & GAS PRODUCTION",
          "OIL & GAS PRODUCTION",
          "OIL & GAS PRODUCTION",
          "OILFIELD SERVICES/EQUIPMENT",
          "OIL & GAS PRODUCTION",
          "OIL & GAS PRODUCTION",
          "OIL & GAS PRODUCTION",
          "OIL & GAS PRODUCTION",
          "INTEGRATED OIL COMPANIES",
          "METAL FABRICATIONS",
          "INTEGRATED OIL COMPANIES"
         ],
         "legendgroup": "ENERGY",
         "marker": {
          "color": "#FED4C4",
          "line": {
           "color": "DarkSlateGrey",
           "width": 1
          },
          "opacity": 0.7,
          "size": 8,
          "symbol": "x"
         },
         "mode": "markers",
         "name": "ENERGY",
         "orientation": "v",
         "showlegend": true,
         "type": "scatter",
         "x": [
          0.6327563873231998,
          2.046222212520755,
          1.9091093894782547,
          -0.3210208406205161,
          -0.24215726674959828,
          1.6535474114651945,
          1.6605929725630977,
          0.6811834979148434,
          0.9385066641784975,
          0.4241902648941341,
          1.6127967719952898,
          2.0232805193010504,
          1.0150620445378633,
          2.110283666269753,
          1.9884590687796695,
          1.4567609363958365,
          0.6188799278621773,
          1.9311001405066288,
          1.647205606096599,
          1.65854486995741,
          -0.12378181165790965,
          1.5977116405209895,
          1.923477733882115,
          1.7535991863032925,
          0.3799177881553097,
          0.03916309732488832,
          1.887176291109953,
          1.8832929325454817,
          2.066439416351614,
          1.5819446800283492,
          1.7082757348921127,
          1.4862352454319223,
          2.0923317070512937,
          -0.4085990499340629,
          0.8235479674842991,
          1.6813668192712816,
          0.7661501026170466,
          0.880735183824794,
          1.7062142031065295,
          1.246001499946108,
          1.2779961342750963,
          1.0156481297250248,
          1.4001091085022037,
          1.1664856496496834,
          1.5417424425932034,
          2.015415579226241
         ],
         "xaxis": "x",
         "y": [
          -0.5887606122820839,
          -1.3522661616256197,
          -1.2101723502437494,
          -0.13758636480066835,
          -0.020763334622668495,
          -1.1968656700120561,
          -0.8314952959603438,
          -0.39604046156140477,
          -0.8785866678444947,
          -0.6442405208196705,
          -1.126023739314291,
          -1.0588099769076615,
          -0.9802263349603936,
          -0.7159994091196404,
          -1.3443589895065662,
          -0.856735674939523,
          -0.4391028510941132,
          -1.238542732126626,
          -0.7042132173724365,
          -1.478689827961631,
          -0.026157749402374558,
          -1.2511015141484068,
          -1.2450558611704594,
          -1.4909368816849342,
          -0.29591986526302466,
          0.6156778030303697,
          -1.2056972437826183,
          -1.299823637678124,
          -1.2683190640347979,
          -1.5631280851485598,
          -1.480081220113025,
          -1.2409880547483392,
          -1.0061478470209386,
          -0.8446847783681228,
          -1.1051585792417116,
          -1.4965003805106236,
          -0.6971300411740189,
          -0.8124080761989679,
          -1.2670217419634786,
          -0.8066191818464088,
          -1.0985909425775429,
          -0.9859315204530138,
          -1.490006515460426,
          -0.720519740131035,
          -1.4217275921959478,
          -0.4025254112667702
         ],
         "yaxis": "y"
        }
       ],
       "layout": {
        "height": 550,
        "legend": {
         "orientation": "h",
         "title": {
          "text": "Sector"
         },
         "tracegroupgap": 0,
         "x": 1,
         "xanchor": "right",
         "y": 1.02,
         "yanchor": "bottom"
        },
        "margin": {
         "t": 60
        },
        "template": {
         "data": {
          "bar": [
           {
            "error_x": {
             "color": "#2a3f5f"
            },
            "error_y": {
             "color": "#2a3f5f"
            },
            "marker": {
             "line": {
              "color": "white",
              "width": 0.5
             },
             "pattern": {
              "fillmode": "overlay",
              "size": 10,
              "solidity": 0.2
             }
            },
            "type": "bar"
           }
          ],
          "barpolar": [
           {
            "marker": {
             "line": {
              "color": "white",
              "width": 0.5
             },
             "pattern": {
              "fillmode": "overlay",
              "size": 10,
              "solidity": 0.2
             }
            },
            "type": "barpolar"
           }
          ],
          "carpet": [
           {
            "aaxis": {
             "endlinecolor": "#2a3f5f",
             "gridcolor": "#C8D4E3",
             "linecolor": "#C8D4E3",
             "minorgridcolor": "#C8D4E3",
             "startlinecolor": "#2a3f5f"
            },
            "baxis": {
             "endlinecolor": "#2a3f5f",
             "gridcolor": "#C8D4E3",
             "linecolor": "#C8D4E3",
             "minorgridcolor": "#C8D4E3",
             "startlinecolor": "#2a3f5f"
            },
            "type": "carpet"
           }
          ],
          "choropleth": [
           {
            "colorbar": {
             "outlinewidth": 0,
             "ticks": ""
            },
            "type": "choropleth"
           }
          ],
          "contour": [
           {
            "colorbar": {
             "outlinewidth": 0,
             "ticks": ""
            },
            "colorscale": [
             [
              0,
              "#0d0887"
             ],
             [
              0.1111111111111111,
              "#46039f"
             ],
             [
              0.2222222222222222,
              "#7201a8"
             ],
             [
              0.3333333333333333,
              "#9c179e"
             ],
             [
              0.4444444444444444,
              "#bd3786"
             ],
             [
              0.5555555555555556,
              "#d8576b"
             ],
             [
              0.6666666666666666,
              "#ed7953"
             ],
             [
              0.7777777777777778,
              "#fb9f3a"
             ],
             [
              0.8888888888888888,
              "#fdca26"
             ],
             [
              1,
              "#f0f921"
             ]
            ],
            "type": "contour"
           }
          ],
          "contourcarpet": [
           {
            "colorbar": {
             "outlinewidth": 0,
             "ticks": ""
            },
            "type": "contourcarpet"
           }
          ],
          "heatmap": [
           {
            "colorbar": {
             "outlinewidth": 0,
             "ticks": ""
            },
            "colorscale": [
             [
              0,
              "#0d0887"
             ],
             [
              0.1111111111111111,
              "#46039f"
             ],
             [
              0.2222222222222222,
              "#7201a8"
             ],
             [
              0.3333333333333333,
              "#9c179e"
             ],
             [
              0.4444444444444444,
              "#bd3786"
             ],
             [
              0.5555555555555556,
              "#d8576b"
             ],
             [
              0.6666666666666666,
              "#ed7953"
             ],
             [
              0.7777777777777778,
              "#fb9f3a"
             ],
             [
              0.8888888888888888,
              "#fdca26"
             ],
             [
              1,
              "#f0f921"
             ]
            ],
            "type": "heatmap"
           }
          ],
          "heatmapgl": [
           {
            "colorbar": {
             "outlinewidth": 0,
             "ticks": ""
            },
            "colorscale": [
             [
              0,
              "#0d0887"
             ],
             [
              0.1111111111111111,
              "#46039f"
             ],
             [
              0.2222222222222222,
              "#7201a8"
             ],
             [
              0.3333333333333333,
              "#9c179e"
             ],
             [
              0.4444444444444444,
              "#bd3786"
             ],
             [
              0.5555555555555556,
              "#d8576b"
             ],
             [
              0.6666666666666666,
              "#ed7953"
             ],
             [
              0.7777777777777778,
              "#fb9f3a"
             ],
             [
              0.8888888888888888,
              "#fdca26"
             ],
             [
              1,
              "#f0f921"
             ]
            ],
            "type": "heatmapgl"
           }
          ],
          "histogram": [
           {
            "marker": {
             "pattern": {
              "fillmode": "overlay",
              "size": 10,
              "solidity": 0.2
             }
            },
            "type": "histogram"
           }
          ],
          "histogram2d": [
           {
            "colorbar": {
             "outlinewidth": 0,
             "ticks": ""
            },
            "colorscale": [
             [
              0,
              "#0d0887"
             ],
             [
              0.1111111111111111,
              "#46039f"
             ],
             [
              0.2222222222222222,
              "#7201a8"
             ],
             [
              0.3333333333333333,
              "#9c179e"
             ],
             [
              0.4444444444444444,
              "#bd3786"
             ],
             [
              0.5555555555555556,
              "#d8576b"
             ],
             [
              0.6666666666666666,
              "#ed7953"
             ],
             [
              0.7777777777777778,
              "#fb9f3a"
             ],
             [
              0.8888888888888888,
              "#fdca26"
             ],
             [
              1,
              "#f0f921"
             ]
            ],
            "type": "histogram2d"
           }
          ],
          "histogram2dcontour": [
           {
            "colorbar": {
             "outlinewidth": 0,
             "ticks": ""
            },
            "colorscale": [
             [
              0,
              "#0d0887"
             ],
             [
              0.1111111111111111,
              "#46039f"
             ],
             [
              0.2222222222222222,
              "#7201a8"
             ],
             [
              0.3333333333333333,
              "#9c179e"
             ],
             [
              0.4444444444444444,
              "#bd3786"
             ],
             [
              0.5555555555555556,
              "#d8576b"
             ],
             [
              0.6666666666666666,
              "#ed7953"
             ],
             [
              0.7777777777777778,
              "#fb9f3a"
             ],
             [
              0.8888888888888888,
              "#fdca26"
             ],
             [
              1,
              "#f0f921"
             ]
            ],
            "type": "histogram2dcontour"
           }
          ],
          "mesh3d": [
           {
            "colorbar": {
             "outlinewidth": 0,
             "ticks": ""
            },
            "type": "mesh3d"
           }
          ],
          "parcoords": [
           {
            "line": {
             "colorbar": {
              "outlinewidth": 0,
              "ticks": ""
             }
            },
            "type": "parcoords"
           }
          ],
          "pie": [
           {
            "automargin": true,
            "type": "pie"
           }
          ],
          "scatter": [
           {
            "fillpattern": {
             "fillmode": "overlay",
             "size": 10,
             "solidity": 0.2
            },
            "type": "scatter"
           }
          ],
          "scatter3d": [
           {
            "line": {
             "colorbar": {
              "outlinewidth": 0,
              "ticks": ""
             }
            },
            "marker": {
             "colorbar": {
              "outlinewidth": 0,
              "ticks": ""
             }
            },
            "type": "scatter3d"
           }
          ],
          "scattercarpet": [
           {
            "marker": {
             "colorbar": {
              "outlinewidth": 0,
              "ticks": ""
             }
            },
            "type": "scattercarpet"
           }
          ],
          "scattergeo": [
           {
            "marker": {
             "colorbar": {
              "outlinewidth": 0,
              "ticks": ""
             }
            },
            "type": "scattergeo"
           }
          ],
          "scattergl": [
           {
            "marker": {
             "colorbar": {
              "outlinewidth": 0,
              "ticks": ""
             }
            },
            "type": "scattergl"
           }
          ],
          "scattermapbox": [
           {
            "marker": {
             "colorbar": {
              "outlinewidth": 0,
              "ticks": ""
             }
            },
            "type": "scattermapbox"
           }
          ],
          "scatterpolar": [
           {
            "marker": {
             "colorbar": {
              "outlinewidth": 0,
              "ticks": ""
             }
            },
            "type": "scatterpolar"
           }
          ],
          "scatterpolargl": [
           {
            "marker": {
             "colorbar": {
              "outlinewidth": 0,
              "ticks": ""
             }
            },
            "type": "scatterpolargl"
           }
          ],
          "scatterternary": [
           {
            "marker": {
             "colorbar": {
              "outlinewidth": 0,
              "ticks": ""
             }
            },
            "type": "scatterternary"
           }
          ],
          "surface": [
           {
            "colorbar": {
             "outlinewidth": 0,
             "ticks": ""
            },
            "colorscale": [
             [
              0,
              "#0d0887"
             ],
             [
              0.1111111111111111,
              "#46039f"
             ],
             [
              0.2222222222222222,
              "#7201a8"
             ],
             [
              0.3333333333333333,
              "#9c179e"
             ],
             [
              0.4444444444444444,
              "#bd3786"
             ],
             [
              0.5555555555555556,
              "#d8576b"
             ],
             [
              0.6666666666666666,
              "#ed7953"
             ],
             [
              0.7777777777777778,
              "#fb9f3a"
             ],
             [
              0.8888888888888888,
              "#fdca26"
             ],
             [
              1,
              "#f0f921"
             ]
            ],
            "type": "surface"
           }
          ],
          "table": [
           {
            "cells": {
             "fill": {
              "color": "#EBF0F8"
             },
             "line": {
              "color": "white"
             }
            },
            "header": {
             "fill": {
              "color": "#C8D4E3"
             },
             "line": {
              "color": "white"
             }
            },
            "type": "table"
           }
          ]
         },
         "layout": {
          "annotationdefaults": {
           "arrowcolor": "#2a3f5f",
           "arrowhead": 0,
           "arrowwidth": 1
          },
          "autotypenumbers": "strict",
          "coloraxis": {
           "colorbar": {
            "outlinewidth": 0,
            "ticks": ""
           }
          },
          "colorscale": {
           "diverging": [
            [
             0,
             "#8e0152"
            ],
            [
             0.1,
             "#c51b7d"
            ],
            [
             0.2,
             "#de77ae"
            ],
            [
             0.3,
             "#f1b6da"
            ],
            [
             0.4,
             "#fde0ef"
            ],
            [
             0.5,
             "#f7f7f7"
            ],
            [
             0.6,
             "#e6f5d0"
            ],
            [
             0.7,
             "#b8e186"
            ],
            [
             0.8,
             "#7fbc41"
            ],
            [
             0.9,
             "#4d9221"
            ],
            [
             1,
             "#276419"
            ]
           ],
           "sequential": [
            [
             0,
             "#0d0887"
            ],
            [
             0.1111111111111111,
             "#46039f"
            ],
            [
             0.2222222222222222,
             "#7201a8"
            ],
            [
             0.3333333333333333,
             "#9c179e"
            ],
            [
             0.4444444444444444,
             "#bd3786"
            ],
            [
             0.5555555555555556,
             "#d8576b"
            ],
            [
             0.6666666666666666,
             "#ed7953"
            ],
            [
             0.7777777777777778,
             "#fb9f3a"
            ],
            [
             0.8888888888888888,
             "#fdca26"
            ],
            [
             1,
             "#f0f921"
            ]
           ],
           "sequentialminus": [
            [
             0,
             "#0d0887"
            ],
            [
             0.1111111111111111,
             "#46039f"
            ],
            [
             0.2222222222222222,
             "#7201a8"
            ],
            [
             0.3333333333333333,
             "#9c179e"
            ],
            [
             0.4444444444444444,
             "#bd3786"
            ],
            [
             0.5555555555555556,
             "#d8576b"
            ],
            [
             0.6666666666666666,
             "#ed7953"
            ],
            [
             0.7777777777777778,
             "#fb9f3a"
            ],
            [
             0.8888888888888888,
             "#fdca26"
            ],
            [
             1,
             "#f0f921"
            ]
           ]
          },
          "colorway": [
           "#636efa",
           "#EF553B",
           "#00cc96",
           "#ab63fa",
           "#FFA15A",
           "#19d3f3",
           "#FF6692",
           "#B6E880",
           "#FF97FF",
           "#FECB52"
          ],
          "font": {
           "color": "#2a3f5f"
          },
          "geo": {
           "bgcolor": "white",
           "lakecolor": "white",
           "landcolor": "white",
           "showlakes": true,
           "showland": true,
           "subunitcolor": "#C8D4E3"
          },
          "hoverlabel": {
           "align": "left"
          },
          "hovermode": "closest",
          "mapbox": {
           "style": "light"
          },
          "paper_bgcolor": "white",
          "plot_bgcolor": "white",
          "polar": {
           "angularaxis": {
            "gridcolor": "#EBF0F8",
            "linecolor": "#EBF0F8",
            "ticks": ""
           },
           "bgcolor": "white",
           "radialaxis": {
            "gridcolor": "#EBF0F8",
            "linecolor": "#EBF0F8",
            "ticks": ""
           }
          },
          "scene": {
           "xaxis": {
            "backgroundcolor": "white",
            "gridcolor": "#DFE8F3",
            "gridwidth": 2,
            "linecolor": "#EBF0F8",
            "showbackground": true,
            "ticks": "",
            "zerolinecolor": "#EBF0F8"
           },
           "yaxis": {
            "backgroundcolor": "white",
            "gridcolor": "#DFE8F3",
            "gridwidth": 2,
            "linecolor": "#EBF0F8",
            "showbackground": true,
            "ticks": "",
            "zerolinecolor": "#EBF0F8"
           },
           "zaxis": {
            "backgroundcolor": "white",
            "gridcolor": "#DFE8F3",
            "gridwidth": 2,
            "linecolor": "#EBF0F8",
            "showbackground": true,
            "ticks": "",
            "zerolinecolor": "#EBF0F8"
           }
          },
          "shapedefaults": {
           "line": {
            "color": "#2a3f5f"
           }
          },
          "ternary": {
           "aaxis": {
            "gridcolor": "#DFE8F3",
            "linecolor": "#A2B1C6",
            "ticks": ""
           },
           "baxis": {
            "gridcolor": "#DFE8F3",
            "linecolor": "#A2B1C6",
            "ticks": ""
           },
           "bgcolor": "white",
           "caxis": {
            "gridcolor": "#DFE8F3",
            "linecolor": "#A2B1C6",
            "ticks": ""
           }
          },
          "title": {
           "x": 0.05
          },
          "xaxis": {
           "automargin": true,
           "gridcolor": "#EBF0F8",
           "linecolor": "#EBF0F8",
           "ticks": "",
           "title": {
            "standoff": 15
           },
           "zerolinecolor": "#EBF0F8",
           "zerolinewidth": 2
          },
          "yaxis": {
           "automargin": true,
           "gridcolor": "#EBF0F8",
           "linecolor": "#EBF0F8",
           "ticks": "",
           "title": {
            "standoff": 15
           },
           "zerolinecolor": "#EBF0F8",
           "zerolinewidth": 2
          }
         }
        },
        "width": 650,
        "xaxis": {
         "anchor": "y",
         "domain": [
          0,
          1
         ],
         "title": {
          "text": "PC1"
         }
        },
        "yaxis": {
         "anchor": "x",
         "domain": [
          0,
          1
         ],
         "title": {
          "text": "PC2"
         }
        }
       }
      }
     },
     "metadata": {},
     "output_type": "display_data"
    }
   ],
   "source": [
    "from utils.visualisation_functions import pca_plot_from_embeddings\n",
    "\n",
    "pca_plot_from_embeddings(\n",
    "    embedding_matrix=embeddings,\n",
    "    sectors=data.sectors,\n",
    "    tickers=data.tickers,\n",
    "    industries=data.industries,\n",
    "    names=data.names,\n",
    "    dimensions=2,\n",
    "    reduced=True,\n",
    "    method=\"PCA\",\n",
    "    return_df=False,\n",
    "    rand_state=None,\n",
    ")"
   ]
  },
  {
   "cell_type": "code",
   "execution_count": 7,
   "metadata": {},
   "outputs": [
    {
     "name": "stderr",
     "output_type": "stream",
     "text": [
      "100%|██████████| 19/19 [00:00<00:00, 39.94it/s]\n"
     ]
    },
    {
     "data": {
      "text/plain": [
       "{'precision': 0.6515704621579725,\n",
       " 'recall': 0.6282608695652174,\n",
       " 'f1-score': 0.6311999105397661,\n",
       " 'accuracy': 0.6282608695652174}"
      ]
     },
     "execution_count": 7,
     "metadata": {},
     "output_type": "execute_result"
    }
   ],
   "source": [
    "from sklearn.neighbors import KNeighborsClassifier\n",
    "import numpy as np\n",
    "\n",
    "train_size = int(len(data.sectors)*0.7)\n",
    "X_train = embeddings[:train_size, :]\n",
    "X_test = embeddings[train_size:, :]\n",
    "y_train = data.sectors[:train_size]\n",
    "y_test = data.sectors[train_size:]\n",
    "\n",
    "from sklearn.svm import SVC\n",
    "from sklearn.tree import DecisionTreeClassifier\n",
    "from sklearn.linear_model import LogisticRegression\n",
    "from sklearn.neural_network import MLPClassifier\n",
    "from utils.ucr_helpers import evaluate_resampling_UCR\n",
    "report, _, _ = evaluate_resampling_UCR(\n",
    "    X_train,\n",
    "    X_test,\n",
    "    y_train,\n",
    "    y_test,\n",
    "    # classifier=SVC(kernel=\"rbf\"),\n",
    "    # classifier=LogisticRegression(),\n",
    "    classifier=KNeighborsClassifier(n_neighbors=1),\n",
    "    # classifier=MLPClassifier(),\n",
    "    n_resamples=20,\n",
    "    verbose=True,\n",
    "    scale=False,\n",
    "    over_sampling=True\n",
    ")\n",
    "report"
   ]
  },
  {
   "cell_type": "code",
   "execution_count": null,
   "metadata": {},
   "outputs": [],
   "source": []
  }
 ],
 "metadata": {
  "kernelspec": {
   "display_name": "phd",
   "language": "python",
   "name": "python3"
  },
  "language_info": {
   "codemirror_mode": {
    "name": "ipython",
    "version": 3
   },
   "file_extension": ".py",
   "mimetype": "text/x-python",
   "name": "python",
   "nbconvert_exporter": "python",
   "pygments_lexer": "ipython3",
   "version": "3.11.6"
  },
  "orig_nbformat": 4
 },
 "nbformat": 4,
 "nbformat_minor": 2
}
