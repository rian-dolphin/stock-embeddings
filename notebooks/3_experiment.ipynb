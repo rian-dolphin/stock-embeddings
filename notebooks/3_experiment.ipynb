{
 "cells": [
  {
   "cell_type": "markdown",
   "metadata": {},
   "source": [
    "### XXXXXX"
   ]
  },
  {
   "cell_type": "code",
   "execution_count": 1,
   "metadata": {},
   "outputs": [],
   "source": [
    "%load_ext autoreload\n",
    "%autoreload 2\n",
    "import sys\n",
    "sys.path.append('../')"
   ]
  },
  {
   "cell_type": "code",
   "execution_count": 2,
   "metadata": {},
   "outputs": [
    {
     "name": "stdout",
     "output_type": "stream",
     "text": [
      "No change made because period entered is 1\n"
     ]
    }
   ],
   "source": [
    "from utils.returns_data_class import ReturnsData\n",
    "PERIOD = 1\n",
    "data = ReturnsData(\n",
    "    daily_returns_path=\"../Data/returns_df_611.csv\",\n",
    "    extras_path=\"../Data/historical_stocks.csv\",\n",
    ")\n",
    "data.change_returns_period(PERIOD)\n",
    "X = data.returns_df.values.T"
   ]
  },
  {
   "cell_type": "code",
   "execution_count": 3,
   "metadata": {},
   "outputs": [
    {
     "data": {
      "text/plain": [
       "(611, 4692)"
      ]
     },
     "execution_count": 3,
     "metadata": {},
     "output_type": "execute_result"
    }
   ],
   "source": [
    "X.shape"
   ]
  },
  {
   "cell_type": "code",
   "execution_count": 4,
   "metadata": {},
   "outputs": [
    {
     "name": "stdout",
     "output_type": "stream",
     "text": [
      "Context Size: 20, Period: 20, Stride: 3\n",
      "Number of Negative Samples: 20\n"
     ]
    },
    {
     "name": "stderr",
     "output_type": "stream",
     "text": [
      "100%|██████████| 87/87 [00:09<00:00,  8.75it/s]\n",
      "100%|██████████| 87/87 [00:10<00:00,  8.65it/s]\n",
      "100%|██████████| 87/87 [00:10<00:00,  8.32it/s]\n",
      "100%|██████████| 87/87 [00:10<00:00,  8.25it/s]\n",
      "100%|██████████| 87/87 [00:10<00:00,  8.10it/s]\n",
      "100%|██████████| 89/89 [00:10<00:00,  8.20it/s]\n",
      "100%|██████████| 87/87 [00:11<00:00,  7.76it/s]\n"
     ]
    },
    {
     "name": "stdout",
     "output_type": "stream",
     "text": [
      "nearly returning\n"
     ]
    },
    {
     "name": "stderr",
     "output_type": "stream",
     "text": [
      "100%|██████████| 87/87 [00:09<00:00,  9.38it/s]\n",
      "100%|██████████| 87/87 [00:09<00:00,  9.25it/s]\n",
      "100%|██████████| 87/87 [00:09<00:00,  9.12it/s]\n",
      "100%|██████████| 87/87 [00:09<00:00,  8.90it/s]\n",
      "100%|██████████| 87/87 [00:09<00:00,  8.93it/s]\n",
      "100%|██████████| 89/89 [00:09<00:00,  9.10it/s]\n",
      "100%|██████████| 87/87 [00:10<00:00,  8.45it/s]\n"
     ]
    },
    {
     "name": "stdout",
     "output_type": "stream",
     "text": [
      "nearly returning\n",
      "Number (anchor, positive, negative) samples: 951938\n"
     ]
    }
   ],
   "source": [
    "num_TS = X.shape[0]\n",
    "num_pos_samples = 20\n",
    "period = 20\n",
    "stride = 3\n",
    "num_neg_samples = 20\n",
    "\n",
    "print(f\"Context Size: {num_pos_samples}, Period: {period}, Stride: {stride}\")\n",
    "print(f\"Number of Negative Samples: {num_neg_samples}\")\n",
    "\n",
    "from utils.context import get_tgt_context_euclidean_multiprocess\n",
    "positive_tgt_context_sets = get_tgt_context_euclidean_multiprocess(ts_array=X, m=period, k=num_pos_samples, stride=stride, z_normalize=False, verbose=True)\n",
    "negative_tgt_context_sets = get_tgt_context_euclidean_multiprocess(ts_array=X, m=period, k=num_neg_samples, stride=stride, z_normalize=False, top_k=False, verbose=True)\n",
    "print(f\"Number (anchor, positive, negative) samples: {len(positive_tgt_context_sets)}\")"
   ]
  },
  {
   "cell_type": "code",
   "execution_count": 5,
   "metadata": {},
   "outputs": [],
   "source": [
    "index_samples = []\n",
    "for pos, neg in zip(positive_tgt_context_sets,negative_tgt_context_sets):\n",
    "    index_samples.append((pos[0], pos[1], neg[1]))"
   ]
  },
  {
   "cell_type": "code",
   "execution_count": 118,
   "metadata": {},
   "outputs": [],
   "source": [
    "import torch\n",
    "from torch.utils.data import Dataset, DataLoader\n",
    "\n",
    "\n",
    "class MultiPosNegDataset(Dataset):\n",
    "    def __init__(self, index_samples):\n",
    "        self.index_samples = index_samples\n",
    "\n",
    "    def __len__(self):\n",
    "        return len(self.index_samples)\n",
    "\n",
    "    def __getitem__(self, idx):\n",
    "        anchor_idx, positive_indices, negative_indices = self.index_samples[idx]\n",
    "        # Convert indices list to tensor\n",
    "\n",
    "        positive_indices_tensor = torch.tensor(positive_indices)\n",
    "        negative_indices_tensor = torch.tensor(negative_indices)\n",
    "        return anchor_idx, positive_indices_tensor, negative_indices_tensor\n",
    "\n",
    "\n",
    "def normalize_embeddings(embeddings):\n",
    "    with torch.no_grad():  # Ensure no gradients are computed in this block\n",
    "        norms = embeddings.weight.norm(dim=1, keepdim=True)\n",
    "        embeddings.weight.data = embeddings.weight.data / norms\n",
    "    return embeddings\n",
    "\n",
    "\n",
    "# def experimental_loss(\n",
    "#     anchor_embeddings: torch.Tensor,\n",
    "#     positive_embeddings: torch.Tensor,\n",
    "#     negative_embeddings: torch.Tensor,\n",
    "# ) -> torch.Tensor:\n",
    "#     \"\"\"\n",
    "\n",
    "#     Args:\n",
    "#         anchor_embeddings (torch.Tensor): shape (batch_size, embedding_dim)\n",
    "#         positive_embeddings (torch.Tensor): (batch_size, num_pos_samples, embedding_dim)\n",
    "#         negative_embeddings (torch.Tensor): (batch_size, num_neg_samples, embedding_dim)\n",
    "\n",
    "#     Returns:\n",
    "#         torch.Tensor: _description_\n",
    "#     \"\"\"\n",
    "#     positive_scores = torch.einsum(\n",
    "#             \"bpd,bd->bp\", [positive_embeddings, anchor_embeddings]\n",
    "#         )\n",
    "#     negative_scores = torch.einsum(\n",
    "#             \"bnd,bd->bn\", [negative_embeddings, anchor_embeddings]\n",
    "#         )\n",
    "#     # positive_loss = - torch.sum(torch.nn.functional.logsigmoid(positive_scores), dim=1)\n",
    "#     # negative_loss = - torch.sum(torch.log(1-torch.sigmoid(negative_scores)), dim=1)\n",
    "#     criterion = torch.nn.BCEWithLogitsLoss()\n",
    "#     positive_loss = criterion(positive_scores, torch.ones_like(positive_scores))\n",
    "#     negative_loss = criterion(negative_scores, torch.zeros_like(negative_scores))\n",
    "#     loss = torch.sum(positive_loss + negative_loss)\n",
    "\n",
    "#     return loss\n",
    "\n",
    "def experimental_loss(\n",
    "    anchor_embeddings: torch.Tensor,\n",
    "    positive_embeddings: torch.Tensor,\n",
    "    negative_embeddings: torch.Tensor,\n",
    ") -> torch.Tensor:\n",
    "    \"\"\"\n",
    "\n",
    "    Args:\n",
    "        anchor_embeddings (torch.Tensor): shape (batch_size, embedding_dim)\n",
    "        positive_embeddings (torch.Tensor): (batch_size, num_pos_samples, embedding_dim)\n",
    "        negative_embeddings (torch.Tensor): (batch_size, num_neg_samples, embedding_dim)\n",
    "\n",
    "    Returns:\n",
    "        torch.Tensor: _description_\n",
    "    \"\"\"\n",
    "    positive_scores = torch.einsum(\n",
    "            \"bd,bd->b\", [torch.mean(positive_embeddings, dim=1), anchor_embeddings]\n",
    "        )\n",
    "    negative_scores = torch.einsum(\n",
    "            \"bd,bd->b\", [torch.mean(negative_embeddings, dim=1), anchor_embeddings]\n",
    "        )\n",
    "    # positive_loss = - torch.sum(torch.nn.functional.logsigmoid(positive_scores))\n",
    "    # negative_loss = - torch.sum(torch.log(1-torch.sigmoid(negative_scores)+0.00001))\n",
    "    criterion = torch.nn.BCEWithLogitsLoss()\n",
    "    positive_loss = criterion(positive_scores, torch.ones_like(positive_scores))\n",
    "    negative_loss = criterion(negative_scores, torch.zeros_like(negative_scores))\n",
    "\n",
    "    loss = positive_loss + negative_loss\n",
    "\n",
    "    return loss\n",
    "\n",
    "def experimental_loss(\n",
    "    anchor_embeddings: torch.Tensor,\n",
    "    positive_embeddings: torch.Tensor,\n",
    "    negative_embeddings: torch.Tensor,\n",
    ") -> torch.Tensor:\n",
    "    \"\"\"\n",
    "\n",
    "    Args:\n",
    "        anchor_embeddings (torch.Tensor): shape (batch_size, embedding_dim)\n",
    "        positive_embeddings (torch.Tensor): (batch_size, num_pos_samples, embedding_dim)\n",
    "        negative_embeddings (torch.Tensor): (batch_size, num_neg_samples, embedding_dim)\n",
    "\n",
    "    Returns:\n",
    "        torch.Tensor: _description_\n",
    "    \"\"\"\n",
    "    ### POSITIVE LOSS - Sigmoid over each positive\n",
    "    positive_scores = torch.einsum(\n",
    "            \"bpd,bd->bp\", [positive_embeddings, anchor_embeddings]\n",
    "        )\n",
    "    criterion = torch.nn.BCEWithLogitsLoss()\n",
    "    positive_loss = criterion(positive_scores, torch.ones_like(positive_scores))\n",
    "\n",
    "    ### NEGATIVE LOSS - Softmax with aggregate positive representation\n",
    "    criterion = torch.nn.NLLLoss()\n",
    "    aggregate_positive_embeddings = torch.mean(positive_embeddings, dim=1) # (batch_size, embedding_dim)\n",
    "    aggregate_positive_scores = torch.einsum(\n",
    "            \"bd,bd->b\", [aggregate_positive_embeddings, anchor_embeddings]\n",
    "        )\n",
    "    # aggregate_positive_scores = torch.mean(positive_scores, dim=1)\n",
    "    negative_scores = torch.einsum(\n",
    "            \"bnd,bd->bn\", [negative_embeddings, anchor_embeddings]\n",
    "        )\n",
    "    #-- Make first column the aggregate positive scores\n",
    "    #- concatenated.shape = (batch_size, 1+num_neg_samples)\n",
    "    concatenated = torch.concat((aggregate_positive_scores.unsqueeze(1), negative_scores), dim=1)\n",
    "    #-- Create target for NLLLoss\n",
    "    target = torch.zeros(concatenated.shape[0], dtype=torch.long)\n",
    "\n",
    "    negative_loss = criterion(torch.nn.functional.log_softmax(concatenated, dim=1), target)\n",
    "    loss = positive_loss + negative_loss\n",
    "\n",
    "    return loss"
   ]
  },
  {
   "cell_type": "code",
   "execution_count": 128,
   "metadata": {},
   "outputs": [
    {
     "name": "stdout",
     "output_type": "stream",
     "text": [
      "Epoch [1/2], Loss: 3.1179292017413722\n",
      "Epoch [2/2], Loss: 2.87751510835463\n"
     ]
    }
   ],
   "source": [
    "import numpy as np\n",
    "import torch\n",
    "import torch.nn as nn\n",
    "import torch.optim as optim\n",
    "from torch.utils.data import DataLoader, TensorDataset\n",
    "\n",
    "# Parameters\n",
    "num_items = num_TS  # Number of items in your dataset\n",
    "embedding_size = 16  # Size of each embedding\n",
    "learning_rate = 0.01\n",
    "epochs = 2\n",
    "batch_size = 2048\n",
    "\n",
    "# Initialize the embedding matrix\n",
    "embeddings = nn.Embedding(num_embeddings=num_items, embedding_dim=embedding_size)\n",
    "\n",
    "# Optimizer\n",
    "optimizer = optim.Adam(embeddings.parameters(), lr=learning_rate)\n",
    "\n",
    "# Prepare your index_samples as a tensor\n",
    "# index_samples = torch.tensor([(35, 12, 98), (47, 12, 4), ...])  # Your index tuples as a tensor\n",
    "# Create the dataset and data loader\n",
    "npair_dataset = MultiPosNegDataset(index_samples)\n",
    "data_loader = DataLoader(npair_dataset, batch_size=batch_size, shuffle=True)\n",
    "\n",
    "losses = []\n",
    "REGULARIZATION_WEIGHT = 1\n",
    "# Training loop with batching\n",
    "for epoch in range(epochs):\n",
    "    total_loss = 0\n",
    "    # normalise the embeddings to prevent degenerate solution\n",
    "    embeddings = normalize_embeddings(embeddings)\n",
    "\n",
    "    for i, (anchor_idx, positive_idx, negative_indices) in enumerate(data_loader):\n",
    "\n",
    "        # Get the embeddings for anchor, positive, and negative\n",
    "        anchor_embeddings = embeddings(anchor_idx) # shape: (batch_size, embedding_dim)\n",
    "        positive_embeddings = embeddings(positive_idx) # shape: (batch_size, num_pos_samples embedding_dim)\n",
    "        negative_embeddings = embeddings(negative_indices) # shape: (batch_size, num_neg_samples, embedding_dim)\n",
    "\n",
    "        # Compute the loss\n",
    "        loss = experimental_loss(anchor_embeddings, positive_embeddings, negative_embeddings)\n",
    "        regularization_loss = REGULARIZATION_WEIGHT * torch.square(embeddings.weight.norm(dim=1) - 1).sum()\n",
    "        loss = loss + regularization_loss\n",
    "        total_loss += loss.item()\n",
    "        losses.append((loss.item(), regularization_loss.item()))\n",
    "\n",
    "        # Backward pass and optimize\n",
    "        optimizer.zero_grad()\n",
    "        loss.backward()\n",
    "        optimizer.step()\n",
    "\n",
    "    if (epoch % 10 == 0) | (epoch==epochs-1) | (epoch==0):\n",
    "        print(f'Epoch [{epoch+1}/{epochs}], Loss: {total_loss/len(data_loader)}')\n",
    "\n",
    "embeddings = normalize_embeddings(embeddings)"
   ]
  },
  {
   "cell_type": "code",
   "execution_count": 129,
   "metadata": {},
   "outputs": [
    {
     "data": {
      "application/vnd.plotly.v1+json": {
       "config": {
        "plotlyServerURL": "https://plot.ly"
       },
       "data": [
        {
         "hovertemplate": "variable=0<br>index=%{x}<br>value=%{y}<extra></extra>",
         "legendgroup": "0",
         "marker": {
          "color": "#636efa",
          "symbol": "circle"
         },
         "mode": "markers",
         "name": "0",
         "orientation": "v",
         "showlegend": true,
         "type": "scatter",
         "x": [
          0,
          1,
          2,
          3,
          4,
          5,
          6,
          7,
          8,
          9,
          10,
          11,
          12,
          13,
          14,
          15,
          16,
          17,
          18,
          19,
          20,
          21,
          22,
          23,
          24,
          25,
          26,
          27,
          28,
          29,
          30,
          31,
          32,
          33,
          34,
          35,
          36,
          37,
          38,
          39,
          40,
          41,
          42,
          43,
          44,
          45,
          46,
          47,
          48,
          49,
          50,
          51,
          52,
          53,
          54,
          55,
          56,
          57,
          58,
          59,
          60,
          61,
          62,
          63,
          64,
          65,
          66,
          67,
          68,
          69,
          70,
          71,
          72,
          73,
          74,
          75,
          76,
          77,
          78,
          79,
          80,
          81,
          82,
          83,
          84,
          85,
          86,
          87,
          88,
          89,
          90,
          91,
          92,
          93,
          94,
          95,
          96,
          97,
          98,
          99,
          100,
          101,
          102,
          103,
          104,
          105,
          106,
          107,
          108,
          109,
          110,
          111,
          112,
          113,
          114,
          115,
          116,
          117,
          118,
          119,
          120,
          121,
          122,
          123,
          124,
          125,
          126,
          127,
          128,
          129,
          130,
          131,
          132,
          133,
          134,
          135,
          136,
          137,
          138,
          139,
          140,
          141,
          142,
          143,
          144,
          145,
          146,
          147,
          148,
          149,
          150,
          151,
          152,
          153,
          154,
          155,
          156,
          157,
          158,
          159,
          160,
          161,
          162,
          163,
          164,
          165,
          166,
          167,
          168,
          169,
          170,
          171,
          172,
          173,
          174,
          175,
          176,
          177,
          178,
          179,
          180,
          181,
          182,
          183,
          184,
          185,
          186,
          187,
          188,
          189,
          190,
          191,
          192,
          193,
          194,
          195,
          196,
          197,
          198,
          199,
          200,
          201,
          202,
          203,
          204,
          205,
          206,
          207,
          208,
          209,
          210,
          211,
          212,
          213,
          214,
          215,
          216,
          217,
          218,
          219,
          220,
          221,
          222,
          223,
          224,
          225,
          226,
          227,
          228,
          229,
          230,
          231,
          232,
          233,
          234,
          235,
          236,
          237,
          238,
          239,
          240,
          241,
          242,
          243,
          244,
          245,
          246,
          247,
          248,
          249,
          250,
          251,
          252,
          253,
          254,
          255,
          256,
          257,
          258,
          259,
          260,
          261,
          262,
          263,
          264,
          265,
          266,
          267,
          268,
          269,
          270,
          271,
          272,
          273,
          274,
          275,
          276,
          277,
          278,
          279,
          280,
          281,
          282,
          283,
          284,
          285,
          286,
          287,
          288,
          289,
          290,
          291,
          292,
          293,
          294,
          295,
          296,
          297,
          298,
          299,
          300,
          301,
          302,
          303,
          304,
          305,
          306,
          307,
          308,
          309,
          310,
          311,
          312,
          313,
          314,
          315,
          316,
          317,
          318,
          319,
          320,
          321,
          322,
          323,
          324,
          325,
          326,
          327,
          328,
          329,
          330,
          331,
          332,
          333,
          334,
          335,
          336,
          337,
          338,
          339,
          340,
          341,
          342,
          343,
          344,
          345,
          346,
          347,
          348,
          349,
          350,
          351,
          352,
          353,
          354,
          355,
          356,
          357,
          358,
          359,
          360,
          361,
          362,
          363,
          364,
          365,
          366,
          367,
          368,
          369,
          370,
          371,
          372,
          373,
          374,
          375,
          376,
          377,
          378,
          379,
          380,
          381,
          382,
          383,
          384,
          385,
          386,
          387,
          388,
          389,
          390,
          391,
          392,
          393,
          394,
          395,
          396,
          397,
          398,
          399,
          400,
          401,
          402,
          403,
          404,
          405,
          406,
          407,
          408,
          409,
          410,
          411,
          412,
          413,
          414,
          415,
          416,
          417,
          418,
          419,
          420,
          421,
          422,
          423,
          424,
          425,
          426,
          427,
          428,
          429,
          430,
          431,
          432,
          433,
          434,
          435,
          436,
          437,
          438,
          439,
          440,
          441,
          442,
          443,
          444,
          445,
          446,
          447,
          448,
          449,
          450,
          451,
          452,
          453,
          454,
          455,
          456,
          457,
          458,
          459,
          460,
          461,
          462,
          463,
          464,
          465,
          466,
          467,
          468,
          469,
          470,
          471,
          472,
          473,
          474,
          475,
          476,
          477,
          478,
          479,
          480,
          481,
          482,
          483,
          484,
          485,
          486,
          487,
          488,
          489,
          490,
          491,
          492,
          493,
          494,
          495,
          496,
          497,
          498,
          499,
          500,
          501,
          502,
          503,
          504,
          505,
          506,
          507,
          508,
          509,
          510,
          511,
          512,
          513,
          514,
          515,
          516,
          517,
          518,
          519,
          520,
          521,
          522,
          523,
          524,
          525,
          526,
          527,
          528,
          529,
          530,
          531,
          532,
          533,
          534,
          535,
          536,
          537,
          538,
          539,
          540,
          541,
          542,
          543,
          544,
          545,
          546,
          547,
          548,
          549,
          550,
          551,
          552,
          553,
          554,
          555,
          556,
          557,
          558,
          559,
          560,
          561,
          562,
          563,
          564,
          565,
          566,
          567,
          568,
          569,
          570,
          571,
          572,
          573,
          574,
          575,
          576,
          577,
          578,
          579,
          580,
          581,
          582,
          583,
          584,
          585,
          586,
          587,
          588,
          589,
          590,
          591,
          592,
          593,
          594,
          595,
          596,
          597,
          598,
          599,
          600,
          601,
          602,
          603,
          604,
          605,
          606,
          607,
          608,
          609,
          610,
          611,
          612,
          613,
          614,
          615,
          616,
          617,
          618,
          619,
          620,
          621,
          622,
          623,
          624,
          625,
          626,
          627,
          628,
          629,
          630,
          631,
          632,
          633,
          634,
          635,
          636,
          637,
          638,
          639,
          640,
          641,
          642,
          643,
          644,
          645,
          646,
          647,
          648,
          649,
          650,
          651,
          652,
          653,
          654,
          655,
          656,
          657,
          658,
          659,
          660,
          661,
          662,
          663,
          664,
          665,
          666,
          667,
          668,
          669,
          670,
          671,
          672,
          673,
          674,
          675,
          676,
          677,
          678,
          679,
          680,
          681,
          682,
          683,
          684,
          685,
          686,
          687,
          688,
          689,
          690,
          691,
          692,
          693,
          694,
          695,
          696,
          697,
          698,
          699,
          700,
          701,
          702,
          703,
          704,
          705,
          706,
          707,
          708,
          709,
          710,
          711,
          712,
          713,
          714,
          715,
          716,
          717,
          718,
          719,
          720,
          721,
          722,
          723,
          724,
          725,
          726,
          727,
          728,
          729,
          730,
          731,
          732,
          733,
          734,
          735,
          736,
          737,
          738,
          739,
          740,
          741,
          742,
          743,
          744,
          745,
          746,
          747,
          748,
          749,
          750,
          751,
          752,
          753,
          754,
          755,
          756,
          757,
          758,
          759,
          760,
          761,
          762,
          763,
          764,
          765,
          766,
          767,
          768,
          769,
          770,
          771,
          772,
          773,
          774,
          775,
          776,
          777,
          778,
          779,
          780,
          781,
          782,
          783,
          784,
          785,
          786,
          787,
          788,
          789,
          790,
          791,
          792,
          793,
          794,
          795,
          796,
          797,
          798,
          799,
          800,
          801,
          802,
          803,
          804,
          805,
          806,
          807,
          808,
          809,
          810,
          811,
          812,
          813,
          814,
          815,
          816,
          817,
          818,
          819,
          820,
          821,
          822,
          823,
          824,
          825,
          826,
          827,
          828,
          829,
          830,
          831,
          832,
          833,
          834,
          835,
          836,
          837,
          838,
          839,
          840,
          841,
          842,
          843,
          844,
          845,
          846,
          847,
          848,
          849,
          850,
          851,
          852,
          853,
          854,
          855,
          856,
          857,
          858,
          859,
          860,
          861,
          862,
          863,
          864,
          865,
          866,
          867,
          868,
          869,
          870,
          871,
          872,
          873,
          874,
          875,
          876,
          877,
          878,
          879,
          880,
          881,
          882,
          883,
          884,
          885,
          886,
          887,
          888,
          889,
          890,
          891,
          892,
          893,
          894,
          895,
          896,
          897,
          898,
          899,
          900,
          901,
          902,
          903,
          904,
          905,
          906,
          907,
          908,
          909,
          910,
          911,
          912,
          913,
          914,
          915,
          916,
          917,
          918,
          919,
          920,
          921,
          922,
          923,
          924,
          925,
          926,
          927,
          928,
          929
         ],
         "xaxis": "x",
         "y": [
          3.7759242057800293,
          3.9081473350524902,
          3.8763680458068848,
          3.8631858825683594,
          3.8622047901153564,
          3.8411436080932617,
          3.8066537380218506,
          3.8068361282348633,
          3.822425603866577,
          3.81711745262146,
          3.7958245277404785,
          3.7806684970855713,
          3.790242910385132,
          3.7982332706451416,
          3.786844253540039,
          3.775245189666748,
          3.7796406745910645,
          3.7797398567199707,
          3.7816097736358643,
          3.7740116119384766,
          3.775186777114868,
          3.7717466354370117,
          3.7680726051330566,
          3.7700138092041016,
          3.76487135887146,
          3.7649118900299072,
          3.759186029434204,
          3.756542921066284,
          3.7605249881744385,
          3.76008677482605,
          3.758183479309082,
          3.753490447998047,
          3.7498106956481934,
          3.7521462440490723,
          3.747925043106079,
          3.751267433166504,
          3.7456533908843994,
          3.742816925048828,
          3.749876022338867,
          3.7430827617645264,
          3.737719774246216,
          3.727938652038574,
          3.7332141399383545,
          3.7313756942749023,
          3.7290279865264893,
          3.726674795150757,
          3.7231690883636475,
          3.7266480922698975,
          3.7183380126953125,
          3.7201709747314453,
          3.711261034011841,
          3.716310739517212,
          3.7089006900787354,
          3.709827423095703,
          3.6982901096343994,
          3.700951099395752,
          3.699479579925537,
          3.6892547607421875,
          3.6901113986968994,
          3.6876535415649414,
          3.6832640171051025,
          3.679387092590332,
          3.67620587348938,
          3.6700825691223145,
          3.6703948974609375,
          3.6667611598968506,
          3.655092477798462,
          3.656816244125366,
          3.641643762588501,
          3.6410880088806152,
          3.635232925415039,
          3.6267900466918945,
          3.6215999126434326,
          3.616776943206787,
          3.6106913089752197,
          3.612147569656372,
          3.6091973781585693,
          3.5928549766540527,
          3.5951647758483887,
          3.591670036315918,
          3.5786292552948,
          3.578275442123413,
          3.56801176071167,
          3.5575780868530273,
          3.5544471740722656,
          3.538529872894287,
          3.5347707271575928,
          3.5339295864105225,
          3.5208568572998047,
          3.52158522605896,
          3.508730411529541,
          3.496523857116699,
          3.4962334632873535,
          3.492025136947632,
          3.4791440963745117,
          3.4715664386749268,
          3.466968297958374,
          3.459954023361206,
          3.444105863571167,
          3.448636531829834,
          3.4402499198913574,
          3.4225151538848877,
          3.425142526626587,
          3.4000163078308105,
          3.4139153957366943,
          3.395394802093506,
          3.3863110542297363,
          3.3741753101348877,
          3.3774380683898926,
          3.35569429397583,
          3.3412883281707764,
          3.3267579078674316,
          3.324162006378174,
          3.334613561630249,
          3.322597026824951,
          3.2817177772521973,
          3.3055570125579834,
          3.2914252281188965,
          3.293804168701172,
          3.276790142059326,
          3.271812915802002,
          3.2753255367279053,
          3.2550759315490723,
          3.251499891281128,
          3.2511041164398193,
          3.2407047748565674,
          3.2278311252593994,
          3.232051134109497,
          3.217989206314087,
          3.204427719116211,
          3.2000932693481445,
          3.202253580093384,
          3.2045187950134277,
          3.1782386302948,
          3.204002618789673,
          3.171642541885376,
          3.161696434020996,
          3.1699366569519043,
          3.147864818572998,
          3.1560797691345215,
          3.1186511516571045,
          3.145540714263916,
          3.1573283672332764,
          3.110360622406006,
          3.1086366176605225,
          3.1271815299987793,
          3.1190264225006104,
          3.1089541912078857,
          3.119053840637207,
          3.086912155151367,
          3.1065986156463623,
          3.0960168838500977,
          3.0881223678588867,
          3.0931007862091064,
          3.0872068405151367,
          3.061516523361206,
          3.0547235012054443,
          3.059973955154419,
          3.054269313812256,
          3.055898427963257,
          3.056349992752075,
          3.0459797382354736,
          3.0708677768707275,
          3.052773952484131,
          3.039484977722168,
          3.0415728092193604,
          3.0109951496124268,
          3.0163018703460693,
          3.0146665573120117,
          3.021381139755249,
          3.025869607925415,
          3.0297935009002686,
          3.0235092639923096,
          2.9912590980529785,
          3.0194168090820312,
          3.0147149562835693,
          2.989687919616699,
          3.011812448501587,
          3.0170981884002686,
          2.9822998046875,
          2.985217809677124,
          2.9910356998443604,
          2.9754676818847656,
          2.967190742492676,
          3.007800817489624,
          2.9817748069763184,
          2.9801015853881836,
          2.9703757762908936,
          2.973531723022461,
          2.9875097274780273,
          2.974329710006714,
          2.9495184421539307,
          2.984922170639038,
          2.964611291885376,
          2.948305130004883,
          2.9756052494049072,
          2.96309232711792,
          2.972102403640747,
          2.953490734100342,
          2.954282283782959,
          2.9527313709259033,
          2.9753236770629883,
          2.931467056274414,
          2.9437429904937744,
          2.938779592514038,
          2.9462778568267822,
          2.957066535949707,
          2.956801176071167,
          2.931485414505005,
          2.9425361156463623,
          2.941779136657715,
          2.940202236175537,
          2.934314727783203,
          2.921203374862671,
          2.9458253383636475,
          2.938171625137329,
          2.944148063659668,
          2.943815231323242,
          2.9476051330566406,
          2.924553394317627,
          2.9267759323120117,
          2.9135324954986572,
          2.9319474697113037,
          2.9426629543304443,
          2.9271295070648193,
          2.93163800239563,
          2.9076812267303467,
          2.9272947311401367,
          2.9136528968811035,
          2.9529812335968018,
          2.9390954971313477,
          2.9280340671539307,
          2.9192862510681152,
          2.92509126663208,
          2.8951311111450195,
          2.9317734241485596,
          2.902202844619751,
          2.9253439903259277,
          2.9200403690338135,
          2.9217185974121094,
          2.903980255126953,
          2.9137399196624756,
          2.9089601039886475,
          2.9087116718292236,
          2.913463592529297,
          2.9102060794830322,
          2.9116897583007812,
          2.9319796562194824,
          2.916938304901123,
          2.9002983570098877,
          2.9188828468322754,
          2.926407814025879,
          2.9007930755615234,
          2.899871826171875,
          2.904320240020752,
          2.929629325866699,
          2.9075939655303955,
          2.893796443939209,
          2.9200665950775146,
          2.8964428901672363,
          2.907160520553589,
          2.9037716388702393,
          2.9263927936553955,
          2.9040465354919434,
          2.883687973022461,
          2.9143075942993164,
          2.9032983779907227,
          2.9292187690734863,
          2.9020118713378906,
          2.897895336151123,
          2.921208381652832,
          2.8963184356689453,
          2.9082510471343994,
          2.920346975326538,
          2.9064409732818604,
          2.9137959480285645,
          2.890530586242676,
          2.888040781021118,
          2.9045488834381104,
          2.920119285583496,
          2.8843026161193848,
          2.8817100524902344,
          2.9163246154785156,
          2.8868160247802734,
          2.901179790496826,
          2.916191577911377,
          2.919677734375,
          2.8822946548461914,
          2.8924081325531006,
          2.928276538848877,
          2.9063141345977783,
          2.904594659805298,
          2.9079651832580566,
          2.913560628890991,
          2.9136064052581787,
          2.90114164352417,
          2.897394895553589,
          2.903050661087036,
          2.902644634246826,
          2.906129837036133,
          2.8816428184509277,
          2.8872621059417725,
          2.8983194828033447,
          2.9042563438415527,
          2.8666012287139893,
          2.8750998973846436,
          2.9009318351745605,
          2.8688254356384277,
          2.894629716873169,
          2.908062696456909,
          2.9179203510284424,
          2.864914655685425,
          2.8944766521453857,
          2.8926780223846436,
          2.9108519554138184,
          2.88588285446167,
          2.8743603229522705,
          2.8918824195861816,
          2.9038946628570557,
          2.9276106357574463,
          2.8888025283813477,
          2.8713552951812744,
          2.8770525455474854,
          2.871084690093994,
          2.903416633605957,
          2.868873357772827,
          2.8846001625061035,
          2.8817994594573975,
          2.866199016571045,
          2.8920962810516357,
          2.888681650161743,
          2.8602359294891357,
          2.8789079189300537,
          2.886070966720581,
          2.876547336578369,
          2.9138245582580566,
          2.8793632984161377,
          2.90541672706604,
          2.8706893920898438,
          2.8866426944732666,
          2.910507917404175,
          2.8930087089538574,
          2.8724122047424316,
          2.8782405853271484,
          2.8578386306762695,
          2.8892362117767334,
          2.8752334117889404,
          2.8865790367126465,
          2.897653818130493,
          2.903017520904541,
          2.911390542984009,
          2.8798539638519287,
          2.9201035499572754,
          2.8722240924835205,
          2.9080300331115723,
          2.8946151733398438,
          2.880693197250366,
          2.900763511657715,
          2.903069496154785,
          2.891901731491089,
          2.9059150218963623,
          2.8962485790252686,
          2.9186158180236816,
          2.872767925262451,
          2.8818538188934326,
          2.8742501735687256,
          2.8812930583953857,
          2.868161678314209,
          2.898206949234009,
          2.913637161254883,
          2.8962180614471436,
          2.86489200592041,
          2.885904550552368,
          2.8795647621154785,
          2.8928945064544678,
          2.8882241249084473,
          2.8903286457061768,
          2.9104864597320557,
          2.8970282077789307,
          2.862121343612671,
          2.8805124759674072,
          2.8960177898406982,
          2.8805642127990723,
          2.9118988513946533,
          2.881157875061035,
          2.9014880657196045,
          2.883964776992798,
          2.896355628967285,
          2.8912227153778076,
          2.883435010910034,
          2.8990538120269775,
          2.8744120597839355,
          2.8846261501312256,
          2.9047982692718506,
          2.8932225704193115,
          2.8864047527313232,
          2.869476318359375,
          2.890270233154297,
          2.8793888092041016,
          2.910048723220825,
          2.8806238174438477,
          2.8974976539611816,
          2.887021541595459,
          2.859661102294922,
          2.8651821613311768,
          2.8648946285247803,
          2.9025790691375732,
          2.8788657188415527,
          2.8822808265686035,
          2.8694632053375244,
          2.874084234237671,
          2.8729920387268066,
          2.8719279766082764,
          2.87985897064209,
          2.8845913410186768,
          2.8906283378601074,
          2.869035243988037,
          2.8895254135131836,
          2.860351800918579,
          2.899768114089966,
          2.8889288902282715,
          2.8510701656341553,
          2.8781116008758545,
          2.900897264480591,
          2.898674964904785,
          2.904937505722046,
          2.8718974590301514,
          2.895007848739624,
          2.886075973510742,
          2.8765127658843994,
          2.877371311187744,
          2.878319263458252,
          2.9100341796875,
          2.8932549953460693,
          2.8801374435424805,
          2.912053346633911,
          2.8785929679870605,
          2.881049871444702,
          2.8922770023345947,
          2.888026714324951,
          2.8834457397460938,
          2.8706562519073486,
          2.89141583442688,
          2.878154993057251,
          2.887761116027832,
          2.8752634525299072,
          2.887845754623413,
          2.8906960487365723,
          2.8875443935394287,
          2.9026715755462646,
          2.8810102939605713,
          2.881178140640259,
          2.875511646270752,
          2.8467695713043213,
          2.8670084476470947,
          2.8857572078704834,
          2.8920445442199707,
          2.8512959480285645,
          2.8713366985321045,
          2.8812901973724365,
          2.85912823677063,
          2.898235559463501,
          2.8759727478027344,
          2.8584916591644287,
          2.895829200744629,
          2.8908650875091553,
          2.862593650817871,
          2.895866870880127,
          2.873286485671997,
          2.907339572906494,
          2.852320909500122,
          2.8685176372528076,
          2.8861258029937744,
          2.8647866249084473,
          2.8778021335601807,
          2.881497859954834,
          2.8676397800445557,
          2.901730537414551,
          2.8434276580810547,
          2.8920977115631104,
          2.9028913974761963,
          2.869316339492798,
          2.8720381259918213,
          2.873459815979004,
          2.885042905807495,
          2.9057061672210693,
          2.8841185569763184,
          2.890881061553955,
          2.8888227939605713,
          2.8697710037231445,
          2.8822250366210938,
          2.8649308681488037,
          2.8608076572418213,
          2.8798460960388184,
          2.8687620162963867,
          2.879849672317505,
          2.8882839679718018,
          2.86354923248291,
          2.8733179569244385,
          2.891879081726074,
          2.8866524696350098,
          2.88006854057312,
          2.8877458572387695,
          2.856558084487915,
          2.8741135597229004,
          2.887342691421509,
          2.8815386295318604,
          2.8838796615600586,
          2.861306667327881,
          2.862156391143799,
          2.8631751537323,
          2.8731048107147217,
          2.8737316131591797,
          2.9105589389801025,
          2.862947702407837,
          2.9151623249053955,
          2.876817464828491,
          2.8663673400878906,
          2.862823724746704,
          2.8871660232543945,
          2.8768527507781982,
          2.885505199432373,
          2.866016387939453,
          2.887970209121704,
          2.8914856910705566,
          2.8857340812683105,
          2.8575613498687744,
          2.893589496612549,
          2.887725830078125,
          2.8843648433685303,
          2.8910233974456787,
          2.8914971351623535,
          2.881129264831543,
          2.8830409049987793,
          2.878568410873413,
          2.8925232887268066,
          2.85986065864563,
          2.889946222305298,
          2.8898258209228516,
          2.8933448791503906,
          2.8834993839263916,
          2.8814542293548584,
          2.8943064212799072,
          2.874694585800171,
          2.87800931930542,
          2.870435953140259,
          2.877943754196167,
          2.8637657165527344,
          2.8782780170440674,
          2.8656814098358154,
          2.912750720977783,
          2.9022982120513916,
          2.8696391582489014,
          2.8840742111206055,
          2.889976978302002,
          2.861288070678711,
          2.865861415863037,
          2.8815767765045166,
          2.874894857406616,
          2.8655788898468018,
          2.8923964500427246,
          2.9063687324523926,
          2.8683831691741943,
          2.8868772983551025,
          2.8938159942626953,
          2.8932902812957764,
          2.8855741024017334,
          2.88222074508667,
          2.8594930171966553,
          2.8880372047424316,
          2.8869071006774902,
          2.8818798065185547,
          2.8877322673797607,
          2.8615670204162598,
          2.8897082805633545,
          2.8802342414855957,
          2.876540184020996,
          2.877537488937378,
          2.8869805335998535,
          2.887078046798706,
          2.8708198070526123,
          2.8692941665649414,
          2.874988317489624,
          2.8944578170776367,
          2.868147850036621,
          2.8809492588043213,
          2.8865737915039062,
          2.865074396133423,
          2.867544651031494,
          2.8968665599823,
          2.850208282470703,
          2.8830277919769287,
          2.880868434906006,
          2.8633787631988525,
          2.859980344772339,
          2.849992513656616,
          2.8558545112609863,
          2.8641092777252197,
          2.886078357696533,
          2.8646674156188965,
          2.862116575241089,
          2.8908050060272217,
          2.883777379989624,
          2.884026288986206,
          2.8623738288879395,
          2.8883841037750244,
          2.8629679679870605,
          2.900132656097412,
          2.91064190864563,
          2.885964870452881,
          2.8826091289520264,
          2.891557455062866,
          2.884746551513672,
          2.9102845191955566,
          2.8700149059295654,
          2.879683017730713,
          2.8772990703582764,
          2.8749890327453613,
          2.8687925338745117,
          2.8928444385528564,
          2.8794891834259033,
          2.868969202041626,
          2.8914010524749756,
          2.8833818435668945,
          2.853515148162842,
          2.8797218799591064,
          2.875093698501587,
          2.893031120300293,
          2.8981270790100098,
          2.870558977127075,
          2.8677597045898438,
          2.866748571395874,
          2.8855679035186768,
          2.8887431621551514,
          2.8873116970062256,
          2.852532386779785,
          2.8752012252807617,
          2.877866744995117,
          2.864590644836426,
          2.8612637519836426,
          2.8781094551086426,
          2.8820533752441406,
          2.8670644760131836,
          2.879493474960327,
          2.8706631660461426,
          2.869582176208496,
          2.894207715988159,
          2.8943252563476562,
          2.8813722133636475,
          2.887359857559204,
          2.8882174491882324,
          2.871668815612793,
          2.8664519786834717,
          2.8690202236175537,
          2.8578133583068848,
          2.878110408782959,
          2.8837523460388184,
          2.893012762069702,
          2.880584716796875,
          2.8812015056610107,
          2.8829357624053955,
          2.8682942390441895,
          2.8654558658599854,
          2.867131233215332,
          2.880317211151123,
          2.8512604236602783,
          2.9006898403167725,
          2.8772032260894775,
          2.8820953369140625,
          2.8860836029052734,
          2.84362530708313,
          2.860766649246216,
          2.8711376190185547,
          2.903547525405884,
          2.897754192352295,
          2.8515303134918213,
          2.8652732372283936,
          2.867645263671875,
          2.8608505725860596,
          2.8591527938842773,
          2.8634912967681885,
          2.892803907394409,
          2.881186008453369,
          2.8783624172210693,
          2.8718390464782715,
          2.8811655044555664,
          2.8772294521331787,
          2.887702465057373,
          2.874720573425293,
          2.850064992904663,
          2.8555896282196045,
          2.8797922134399414,
          2.8861806392669678,
          2.8841497898101807,
          2.8913681507110596,
          2.868652820587158,
          2.875295400619507,
          2.893057346343994,
          2.886268377304077,
          2.872570753097534,
          2.8725414276123047,
          2.8761394023895264,
          2.8972411155700684,
          2.893521308898926,
          2.88275146484375,
          2.861330270767212,
          2.8824832439422607,
          2.8958048820495605,
          2.8571178913116455,
          2.880768299102783,
          2.873140335083008,
          2.8766677379608154,
          2.8871233463287354,
          2.8610143661499023,
          2.902374505996704,
          2.8808443546295166,
          2.8799047470092773,
          2.860231399536133,
          2.87703800201416,
          2.878230571746826,
          2.883692741394043,
          2.8559958934783936,
          2.8743197917938232,
          2.8784425258636475,
          2.890669584274292,
          2.862673759460449,
          2.867239236831665,
          2.8724865913391113,
          2.8687057495117188,
          2.887078046798706,
          2.9041991233825684,
          2.874615430831909,
          2.8778927326202393,
          2.894782543182373,
          2.8937745094299316,
          2.8892712593078613,
          2.9029178619384766,
          2.848280668258667,
          2.8954195976257324,
          2.870861291885376,
          2.878876209259033,
          2.8805878162384033,
          2.8891894817352295,
          2.8956310749053955,
          2.878133773803711,
          2.8949294090270996,
          2.8873467445373535,
          2.8781182765960693,
          2.876182794570923,
          2.879990577697754,
          2.888495683670044,
          2.8574321269989014,
          2.86295485496521,
          2.865870714187622,
          2.844102144241333,
          2.886589527130127,
          2.8667428493499756,
          2.879551410675049,
          2.880054235458374,
          2.8938982486724854,
          2.8752081394195557,
          2.8690688610076904,
          2.881603240966797,
          2.8817124366760254,
          2.891173839569092,
          2.8650646209716797,
          2.8946828842163086,
          2.891710042953491,
          2.881173610687256,
          2.893775701522827,
          2.8872694969177246,
          2.879777193069458,
          2.9089338779449463,
          2.8577449321746826,
          2.898019552230835,
          2.871530294418335,
          2.868335247039795,
          2.8626437187194824,
          2.8730075359344482,
          2.876296043395996,
          2.8595783710479736,
          2.8743808269500732,
          2.859809160232544,
          2.891680955886841,
          2.86201810836792,
          2.890247106552124,
          2.887392520904541,
          2.882915496826172,
          2.891822338104248,
          2.873218059539795,
          2.8715620040893555,
          2.8768203258514404,
          2.877112865447998,
          2.8615574836730957,
          2.884338617324829,
          2.8942272663116455,
          2.8466954231262207,
          2.8658924102783203,
          2.8679897785186768,
          2.8789565563201904,
          2.914440393447876,
          2.8658854961395264,
          2.8759968280792236,
          2.9038052558898926,
          2.8959827423095703,
          2.884091854095459,
          2.884147882461548,
          2.872570276260376,
          2.8641631603240967,
          2.889946937561035,
          2.891265630722046,
          2.8812615871429443,
          2.8759095668792725,
          2.84904408454895,
          2.886017084121704,
          2.850907802581787,
          2.867342233657837,
          2.8657190799713135,
          2.8775837421417236,
          2.8596456050872803,
          2.86523175239563,
          2.883005380630493,
          2.8707878589630127,
          2.8941376209259033,
          2.8696212768554688,
          2.9186227321624756,
          2.8534953594207764,
          2.880674362182617,
          2.8733582496643066,
          2.8733489513397217,
          2.856135606765747,
          2.9007880687713623,
          2.878934621810913,
          2.862330913543701,
          2.8695623874664307,
          2.899322748184204,
          2.8724846839904785,
          2.8916144371032715,
          2.8758881092071533,
          2.8784215450286865,
          2.8550403118133545,
          2.8662800788879395,
          2.88454008102417,
          2.86974835395813,
          2.8776276111602783,
          2.871938467025757,
          2.868225574493408,
          2.8658785820007324,
          2.8601114749908447,
          2.871589183807373,
          2.874224901199341,
          2.897263526916504,
          2.858724594116211,
          2.8793716430664062,
          2.852369785308838,
          2.8784005641937256,
          2.893639087677002,
          2.8870115280151367,
          2.8822638988494873,
          2.8767216205596924,
          2.8639986515045166,
          2.8823602199554443,
          2.901815414428711,
          2.8822860717773438,
          2.8791260719299316,
          2.859375238418579,
          2.85168194770813,
          2.879025459289551,
          2.8716840744018555,
          2.867060422897339,
          2.8976852893829346,
          2.875196695327759,
          2.8665246963500977,
          2.875030517578125,
          2.8750851154327393,
          2.8597307205200195,
          2.8872902393341064,
          2.8732736110687256,
          2.8885886669158936,
          2.868420362472534,
          2.8837428092956543,
          2.9066996574401855,
          2.860482692718506,
          2.886751651763916,
          2.8684918880462646,
          2.8653886318206787,
          2.8663768768310547,
          2.864672899246216,
          2.8726415634155273,
          2.8702216148376465,
          2.8722281455993652,
          2.8876383304595947,
          2.8388636112213135,
          2.871802806854248,
          2.8804047107696533,
          2.869436740875244,
          2.9019088745117188,
          2.885103702545166,
          2.8717715740203857,
          2.852544069290161,
          2.8821427822113037,
          2.892469644546509,
          2.8632116317749023,
          2.860948324203491,
          2.8699841499328613,
          2.8574466705322266,
          2.8689846992492676,
          2.8842475414276123,
          2.876190185546875,
          2.876232862472534,
          2.87410044670105,
          2.8800175189971924,
          2.8855440616607666,
          2.879544496536255,
          2.891357660293579,
          2.86313533782959,
          2.8767096996307373,
          2.850785732269287,
          2.8950281143188477,
          2.864349603652954,
          2.8641180992126465,
          2.8425278663635254,
          2.886228561401367,
          2.8772597312927246,
          2.8468189239501953,
          2.884840250015259,
          2.87967848777771,
          2.887544631958008,
          2.869898557662964,
          2.8782036304473877
         ],
         "yaxis": "y"
        }
       ],
       "layout": {
        "legend": {
         "title": {
          "text": "variable"
         },
         "tracegroupgap": 0
        },
        "margin": {
         "t": 60
        },
        "template": {
         "data": {
          "bar": [
           {
            "error_x": {
             "color": "#2a3f5f"
            },
            "error_y": {
             "color": "#2a3f5f"
            },
            "marker": {
             "line": {
              "color": "#E5ECF6",
              "width": 0.5
             },
             "pattern": {
              "fillmode": "overlay",
              "size": 10,
              "solidity": 0.2
             }
            },
            "type": "bar"
           }
          ],
          "barpolar": [
           {
            "marker": {
             "line": {
              "color": "#E5ECF6",
              "width": 0.5
             },
             "pattern": {
              "fillmode": "overlay",
              "size": 10,
              "solidity": 0.2
             }
            },
            "type": "barpolar"
           }
          ],
          "carpet": [
           {
            "aaxis": {
             "endlinecolor": "#2a3f5f",
             "gridcolor": "white",
             "linecolor": "white",
             "minorgridcolor": "white",
             "startlinecolor": "#2a3f5f"
            },
            "baxis": {
             "endlinecolor": "#2a3f5f",
             "gridcolor": "white",
             "linecolor": "white",
             "minorgridcolor": "white",
             "startlinecolor": "#2a3f5f"
            },
            "type": "carpet"
           }
          ],
          "choropleth": [
           {
            "colorbar": {
             "outlinewidth": 0,
             "ticks": ""
            },
            "type": "choropleth"
           }
          ],
          "contour": [
           {
            "colorbar": {
             "outlinewidth": 0,
             "ticks": ""
            },
            "colorscale": [
             [
              0,
              "#0d0887"
             ],
             [
              0.1111111111111111,
              "#46039f"
             ],
             [
              0.2222222222222222,
              "#7201a8"
             ],
             [
              0.3333333333333333,
              "#9c179e"
             ],
             [
              0.4444444444444444,
              "#bd3786"
             ],
             [
              0.5555555555555556,
              "#d8576b"
             ],
             [
              0.6666666666666666,
              "#ed7953"
             ],
             [
              0.7777777777777778,
              "#fb9f3a"
             ],
             [
              0.8888888888888888,
              "#fdca26"
             ],
             [
              1,
              "#f0f921"
             ]
            ],
            "type": "contour"
           }
          ],
          "contourcarpet": [
           {
            "colorbar": {
             "outlinewidth": 0,
             "ticks": ""
            },
            "type": "contourcarpet"
           }
          ],
          "heatmap": [
           {
            "colorbar": {
             "outlinewidth": 0,
             "ticks": ""
            },
            "colorscale": [
             [
              0,
              "#0d0887"
             ],
             [
              0.1111111111111111,
              "#46039f"
             ],
             [
              0.2222222222222222,
              "#7201a8"
             ],
             [
              0.3333333333333333,
              "#9c179e"
             ],
             [
              0.4444444444444444,
              "#bd3786"
             ],
             [
              0.5555555555555556,
              "#d8576b"
             ],
             [
              0.6666666666666666,
              "#ed7953"
             ],
             [
              0.7777777777777778,
              "#fb9f3a"
             ],
             [
              0.8888888888888888,
              "#fdca26"
             ],
             [
              1,
              "#f0f921"
             ]
            ],
            "type": "heatmap"
           }
          ],
          "heatmapgl": [
           {
            "colorbar": {
             "outlinewidth": 0,
             "ticks": ""
            },
            "colorscale": [
             [
              0,
              "#0d0887"
             ],
             [
              0.1111111111111111,
              "#46039f"
             ],
             [
              0.2222222222222222,
              "#7201a8"
             ],
             [
              0.3333333333333333,
              "#9c179e"
             ],
             [
              0.4444444444444444,
              "#bd3786"
             ],
             [
              0.5555555555555556,
              "#d8576b"
             ],
             [
              0.6666666666666666,
              "#ed7953"
             ],
             [
              0.7777777777777778,
              "#fb9f3a"
             ],
             [
              0.8888888888888888,
              "#fdca26"
             ],
             [
              1,
              "#f0f921"
             ]
            ],
            "type": "heatmapgl"
           }
          ],
          "histogram": [
           {
            "marker": {
             "pattern": {
              "fillmode": "overlay",
              "size": 10,
              "solidity": 0.2
             }
            },
            "type": "histogram"
           }
          ],
          "histogram2d": [
           {
            "colorbar": {
             "outlinewidth": 0,
             "ticks": ""
            },
            "colorscale": [
             [
              0,
              "#0d0887"
             ],
             [
              0.1111111111111111,
              "#46039f"
             ],
             [
              0.2222222222222222,
              "#7201a8"
             ],
             [
              0.3333333333333333,
              "#9c179e"
             ],
             [
              0.4444444444444444,
              "#bd3786"
             ],
             [
              0.5555555555555556,
              "#d8576b"
             ],
             [
              0.6666666666666666,
              "#ed7953"
             ],
             [
              0.7777777777777778,
              "#fb9f3a"
             ],
             [
              0.8888888888888888,
              "#fdca26"
             ],
             [
              1,
              "#f0f921"
             ]
            ],
            "type": "histogram2d"
           }
          ],
          "histogram2dcontour": [
           {
            "colorbar": {
             "outlinewidth": 0,
             "ticks": ""
            },
            "colorscale": [
             [
              0,
              "#0d0887"
             ],
             [
              0.1111111111111111,
              "#46039f"
             ],
             [
              0.2222222222222222,
              "#7201a8"
             ],
             [
              0.3333333333333333,
              "#9c179e"
             ],
             [
              0.4444444444444444,
              "#bd3786"
             ],
             [
              0.5555555555555556,
              "#d8576b"
             ],
             [
              0.6666666666666666,
              "#ed7953"
             ],
             [
              0.7777777777777778,
              "#fb9f3a"
             ],
             [
              0.8888888888888888,
              "#fdca26"
             ],
             [
              1,
              "#f0f921"
             ]
            ],
            "type": "histogram2dcontour"
           }
          ],
          "mesh3d": [
           {
            "colorbar": {
             "outlinewidth": 0,
             "ticks": ""
            },
            "type": "mesh3d"
           }
          ],
          "parcoords": [
           {
            "line": {
             "colorbar": {
              "outlinewidth": 0,
              "ticks": ""
             }
            },
            "type": "parcoords"
           }
          ],
          "pie": [
           {
            "automargin": true,
            "type": "pie"
           }
          ],
          "scatter": [
           {
            "fillpattern": {
             "fillmode": "overlay",
             "size": 10,
             "solidity": 0.2
            },
            "type": "scatter"
           }
          ],
          "scatter3d": [
           {
            "line": {
             "colorbar": {
              "outlinewidth": 0,
              "ticks": ""
             }
            },
            "marker": {
             "colorbar": {
              "outlinewidth": 0,
              "ticks": ""
             }
            },
            "type": "scatter3d"
           }
          ],
          "scattercarpet": [
           {
            "marker": {
             "colorbar": {
              "outlinewidth": 0,
              "ticks": ""
             }
            },
            "type": "scattercarpet"
           }
          ],
          "scattergeo": [
           {
            "marker": {
             "colorbar": {
              "outlinewidth": 0,
              "ticks": ""
             }
            },
            "type": "scattergeo"
           }
          ],
          "scattergl": [
           {
            "marker": {
             "colorbar": {
              "outlinewidth": 0,
              "ticks": ""
             }
            },
            "type": "scattergl"
           }
          ],
          "scattermapbox": [
           {
            "marker": {
             "colorbar": {
              "outlinewidth": 0,
              "ticks": ""
             }
            },
            "type": "scattermapbox"
           }
          ],
          "scatterpolar": [
           {
            "marker": {
             "colorbar": {
              "outlinewidth": 0,
              "ticks": ""
             }
            },
            "type": "scatterpolar"
           }
          ],
          "scatterpolargl": [
           {
            "marker": {
             "colorbar": {
              "outlinewidth": 0,
              "ticks": ""
             }
            },
            "type": "scatterpolargl"
           }
          ],
          "scatterternary": [
           {
            "marker": {
             "colorbar": {
              "outlinewidth": 0,
              "ticks": ""
             }
            },
            "type": "scatterternary"
           }
          ],
          "surface": [
           {
            "colorbar": {
             "outlinewidth": 0,
             "ticks": ""
            },
            "colorscale": [
             [
              0,
              "#0d0887"
             ],
             [
              0.1111111111111111,
              "#46039f"
             ],
             [
              0.2222222222222222,
              "#7201a8"
             ],
             [
              0.3333333333333333,
              "#9c179e"
             ],
             [
              0.4444444444444444,
              "#bd3786"
             ],
             [
              0.5555555555555556,
              "#d8576b"
             ],
             [
              0.6666666666666666,
              "#ed7953"
             ],
             [
              0.7777777777777778,
              "#fb9f3a"
             ],
             [
              0.8888888888888888,
              "#fdca26"
             ],
             [
              1,
              "#f0f921"
             ]
            ],
            "type": "surface"
           }
          ],
          "table": [
           {
            "cells": {
             "fill": {
              "color": "#EBF0F8"
             },
             "line": {
              "color": "white"
             }
            },
            "header": {
             "fill": {
              "color": "#C8D4E3"
             },
             "line": {
              "color": "white"
             }
            },
            "type": "table"
           }
          ]
         },
         "layout": {
          "annotationdefaults": {
           "arrowcolor": "#2a3f5f",
           "arrowhead": 0,
           "arrowwidth": 1
          },
          "autotypenumbers": "strict",
          "coloraxis": {
           "colorbar": {
            "outlinewidth": 0,
            "ticks": ""
           }
          },
          "colorscale": {
           "diverging": [
            [
             0,
             "#8e0152"
            ],
            [
             0.1,
             "#c51b7d"
            ],
            [
             0.2,
             "#de77ae"
            ],
            [
             0.3,
             "#f1b6da"
            ],
            [
             0.4,
             "#fde0ef"
            ],
            [
             0.5,
             "#f7f7f7"
            ],
            [
             0.6,
             "#e6f5d0"
            ],
            [
             0.7,
             "#b8e186"
            ],
            [
             0.8,
             "#7fbc41"
            ],
            [
             0.9,
             "#4d9221"
            ],
            [
             1,
             "#276419"
            ]
           ],
           "sequential": [
            [
             0,
             "#0d0887"
            ],
            [
             0.1111111111111111,
             "#46039f"
            ],
            [
             0.2222222222222222,
             "#7201a8"
            ],
            [
             0.3333333333333333,
             "#9c179e"
            ],
            [
             0.4444444444444444,
             "#bd3786"
            ],
            [
             0.5555555555555556,
             "#d8576b"
            ],
            [
             0.6666666666666666,
             "#ed7953"
            ],
            [
             0.7777777777777778,
             "#fb9f3a"
            ],
            [
             0.8888888888888888,
             "#fdca26"
            ],
            [
             1,
             "#f0f921"
            ]
           ],
           "sequentialminus": [
            [
             0,
             "#0d0887"
            ],
            [
             0.1111111111111111,
             "#46039f"
            ],
            [
             0.2222222222222222,
             "#7201a8"
            ],
            [
             0.3333333333333333,
             "#9c179e"
            ],
            [
             0.4444444444444444,
             "#bd3786"
            ],
            [
             0.5555555555555556,
             "#d8576b"
            ],
            [
             0.6666666666666666,
             "#ed7953"
            ],
            [
             0.7777777777777778,
             "#fb9f3a"
            ],
            [
             0.8888888888888888,
             "#fdca26"
            ],
            [
             1,
             "#f0f921"
            ]
           ]
          },
          "colorway": [
           "#636efa",
           "#EF553B",
           "#00cc96",
           "#ab63fa",
           "#FFA15A",
           "#19d3f3",
           "#FF6692",
           "#B6E880",
           "#FF97FF",
           "#FECB52"
          ],
          "font": {
           "color": "#2a3f5f"
          },
          "geo": {
           "bgcolor": "white",
           "lakecolor": "white",
           "landcolor": "#E5ECF6",
           "showlakes": true,
           "showland": true,
           "subunitcolor": "white"
          },
          "hoverlabel": {
           "align": "left"
          },
          "hovermode": "closest",
          "mapbox": {
           "style": "light"
          },
          "paper_bgcolor": "white",
          "plot_bgcolor": "#E5ECF6",
          "polar": {
           "angularaxis": {
            "gridcolor": "white",
            "linecolor": "white",
            "ticks": ""
           },
           "bgcolor": "#E5ECF6",
           "radialaxis": {
            "gridcolor": "white",
            "linecolor": "white",
            "ticks": ""
           }
          },
          "scene": {
           "xaxis": {
            "backgroundcolor": "#E5ECF6",
            "gridcolor": "white",
            "gridwidth": 2,
            "linecolor": "white",
            "showbackground": true,
            "ticks": "",
            "zerolinecolor": "white"
           },
           "yaxis": {
            "backgroundcolor": "#E5ECF6",
            "gridcolor": "white",
            "gridwidth": 2,
            "linecolor": "white",
            "showbackground": true,
            "ticks": "",
            "zerolinecolor": "white"
           },
           "zaxis": {
            "backgroundcolor": "#E5ECF6",
            "gridcolor": "white",
            "gridwidth": 2,
            "linecolor": "white",
            "showbackground": true,
            "ticks": "",
            "zerolinecolor": "white"
           }
          },
          "shapedefaults": {
           "line": {
            "color": "#2a3f5f"
           }
          },
          "ternary": {
           "aaxis": {
            "gridcolor": "white",
            "linecolor": "white",
            "ticks": ""
           },
           "baxis": {
            "gridcolor": "white",
            "linecolor": "white",
            "ticks": ""
           },
           "bgcolor": "#E5ECF6",
           "caxis": {
            "gridcolor": "white",
            "linecolor": "white",
            "ticks": ""
           }
          },
          "title": {
           "x": 0.05
          },
          "xaxis": {
           "automargin": true,
           "gridcolor": "white",
           "linecolor": "white",
           "ticks": "",
           "title": {
            "standoff": 15
           },
           "zerolinecolor": "white",
           "zerolinewidth": 2
          },
          "yaxis": {
           "automargin": true,
           "gridcolor": "white",
           "linecolor": "white",
           "ticks": "",
           "title": {
            "standoff": 15
           },
           "zerolinecolor": "white",
           "zerolinewidth": 2
          }
         }
        },
        "xaxis": {
         "anchor": "y",
         "domain": [
          0,
          1
         ],
         "title": {
          "text": "index"
         }
        },
        "yaxis": {
         "anchor": "x",
         "domain": [
          0,
          1
         ],
         "title": {
          "text": "value"
         }
        }
       }
      }
     },
     "metadata": {},
     "output_type": "display_data"
    }
   ],
   "source": [
    "import plotly.express as px\n",
    "losses=np.array(losses)\n",
    "px.scatter(losses[:,0])"
   ]
  },
  {
   "cell_type": "code",
   "execution_count": 130,
   "metadata": {},
   "outputs": [
    {
     "data": {
      "application/vnd.plotly.v1+json": {
       "config": {
        "plotlyServerURL": "https://plot.ly"
       },
       "data": [
        {
         "hovertemplate": "variable=0<br>index=%{x}<br>value=%{y}<extra></extra>",
         "legendgroup": "0",
         "marker": {
          "color": "#636efa",
          "symbol": "circle"
         },
         "mode": "markers",
         "name": "0",
         "orientation": "v",
         "showlegend": true,
         "type": "scatter",
         "x": [
          0,
          1,
          2,
          3,
          4,
          5,
          6,
          7,
          8,
          9,
          10,
          11,
          12,
          13,
          14,
          15,
          16,
          17,
          18,
          19,
          20,
          21,
          22,
          23,
          24,
          25,
          26,
          27,
          28,
          29,
          30,
          31,
          32,
          33,
          34,
          35,
          36,
          37,
          38,
          39,
          40,
          41,
          42,
          43,
          44,
          45,
          46,
          47,
          48,
          49,
          50,
          51,
          52,
          53,
          54,
          55,
          56,
          57,
          58,
          59,
          60,
          61,
          62,
          63,
          64,
          65,
          66,
          67,
          68,
          69,
          70,
          71,
          72,
          73,
          74,
          75,
          76,
          77,
          78,
          79,
          80,
          81,
          82,
          83,
          84,
          85,
          86,
          87,
          88,
          89,
          90,
          91,
          92,
          93,
          94,
          95,
          96,
          97,
          98,
          99,
          100,
          101,
          102,
          103,
          104,
          105,
          106,
          107,
          108,
          109,
          110,
          111,
          112,
          113,
          114,
          115,
          116,
          117,
          118,
          119,
          120,
          121,
          122,
          123,
          124,
          125,
          126,
          127,
          128,
          129,
          130,
          131,
          132,
          133,
          134,
          135,
          136,
          137,
          138,
          139,
          140,
          141,
          142,
          143,
          144,
          145,
          146,
          147,
          148,
          149,
          150,
          151,
          152,
          153,
          154,
          155,
          156,
          157,
          158,
          159,
          160,
          161,
          162,
          163,
          164,
          165,
          166,
          167,
          168,
          169,
          170,
          171,
          172,
          173,
          174,
          175,
          176,
          177,
          178,
          179,
          180,
          181,
          182,
          183,
          184,
          185,
          186,
          187,
          188,
          189,
          190,
          191,
          192,
          193,
          194,
          195,
          196,
          197,
          198,
          199,
          200,
          201,
          202,
          203,
          204,
          205,
          206,
          207,
          208,
          209,
          210,
          211,
          212,
          213,
          214,
          215,
          216,
          217,
          218,
          219,
          220,
          221,
          222,
          223,
          224,
          225,
          226,
          227,
          228,
          229,
          230,
          231,
          232,
          233,
          234,
          235,
          236,
          237,
          238,
          239,
          240,
          241,
          242,
          243,
          244,
          245,
          246,
          247,
          248,
          249,
          250,
          251,
          252,
          253,
          254,
          255,
          256,
          257,
          258,
          259,
          260,
          261,
          262,
          263,
          264,
          265,
          266,
          267,
          268,
          269,
          270,
          271,
          272,
          273,
          274,
          275,
          276,
          277,
          278,
          279,
          280,
          281,
          282,
          283,
          284,
          285,
          286,
          287,
          288,
          289,
          290,
          291,
          292,
          293,
          294,
          295,
          296,
          297,
          298,
          299,
          300,
          301,
          302,
          303,
          304,
          305,
          306,
          307,
          308,
          309,
          310,
          311,
          312,
          313,
          314,
          315,
          316,
          317,
          318,
          319,
          320,
          321,
          322,
          323,
          324,
          325,
          326,
          327,
          328,
          329,
          330,
          331,
          332,
          333,
          334,
          335,
          336,
          337,
          338,
          339,
          340,
          341,
          342,
          343,
          344,
          345,
          346,
          347,
          348,
          349,
          350,
          351,
          352,
          353,
          354,
          355,
          356,
          357,
          358,
          359,
          360,
          361,
          362,
          363,
          364,
          365,
          366,
          367,
          368,
          369,
          370,
          371,
          372,
          373,
          374,
          375,
          376,
          377,
          378,
          379,
          380,
          381,
          382,
          383,
          384,
          385,
          386,
          387,
          388,
          389,
          390,
          391,
          392,
          393,
          394,
          395,
          396,
          397,
          398,
          399,
          400,
          401,
          402,
          403,
          404,
          405,
          406,
          407,
          408,
          409,
          410,
          411,
          412,
          413,
          414,
          415,
          416,
          417,
          418,
          419,
          420,
          421,
          422,
          423,
          424,
          425,
          426,
          427,
          428,
          429,
          430,
          431,
          432,
          433,
          434,
          435,
          436,
          437,
          438,
          439,
          440,
          441,
          442,
          443,
          444,
          445,
          446,
          447,
          448,
          449,
          450,
          451,
          452,
          453,
          454,
          455,
          456,
          457,
          458,
          459,
          460,
          461,
          462,
          463,
          464,
          465,
          466,
          467,
          468,
          469,
          470,
          471,
          472,
          473,
          474,
          475,
          476,
          477,
          478,
          479,
          480,
          481,
          482,
          483,
          484,
          485,
          486,
          487,
          488,
          489,
          490,
          491,
          492,
          493,
          494,
          495,
          496,
          497,
          498,
          499,
          500,
          501,
          502,
          503,
          504,
          505,
          506,
          507,
          508,
          509,
          510,
          511,
          512,
          513,
          514,
          515,
          516,
          517,
          518,
          519,
          520,
          521,
          522,
          523,
          524,
          525,
          526,
          527,
          528,
          529,
          530,
          531,
          532,
          533,
          534,
          535,
          536,
          537,
          538,
          539,
          540,
          541,
          542,
          543,
          544,
          545,
          546,
          547,
          548,
          549,
          550,
          551,
          552,
          553,
          554,
          555,
          556,
          557,
          558,
          559,
          560,
          561,
          562,
          563,
          564,
          565,
          566,
          567,
          568,
          569,
          570,
          571,
          572,
          573,
          574,
          575,
          576,
          577,
          578,
          579,
          580,
          581,
          582,
          583,
          584,
          585,
          586,
          587,
          588,
          589,
          590,
          591,
          592,
          593,
          594,
          595,
          596,
          597,
          598,
          599,
          600,
          601,
          602,
          603,
          604,
          605,
          606,
          607,
          608,
          609,
          610,
          611,
          612,
          613,
          614,
          615,
          616,
          617,
          618,
          619,
          620,
          621,
          622,
          623,
          624,
          625,
          626,
          627,
          628,
          629,
          630,
          631,
          632,
          633,
          634,
          635,
          636,
          637,
          638,
          639,
          640,
          641,
          642,
          643,
          644,
          645,
          646,
          647,
          648,
          649,
          650,
          651,
          652,
          653,
          654,
          655,
          656,
          657,
          658,
          659,
          660,
          661,
          662,
          663,
          664,
          665,
          666,
          667,
          668,
          669,
          670,
          671,
          672,
          673,
          674,
          675,
          676,
          677,
          678,
          679,
          680,
          681,
          682,
          683,
          684,
          685,
          686,
          687,
          688,
          689,
          690,
          691,
          692,
          693,
          694,
          695,
          696,
          697,
          698,
          699,
          700,
          701,
          702,
          703,
          704,
          705,
          706,
          707,
          708,
          709,
          710,
          711,
          712,
          713,
          714,
          715,
          716,
          717,
          718,
          719,
          720,
          721,
          722,
          723,
          724,
          725,
          726,
          727,
          728,
          729,
          730,
          731,
          732,
          733,
          734,
          735,
          736,
          737,
          738,
          739,
          740,
          741,
          742,
          743,
          744,
          745,
          746,
          747,
          748,
          749,
          750,
          751,
          752,
          753,
          754,
          755,
          756,
          757,
          758,
          759,
          760,
          761,
          762,
          763,
          764,
          765,
          766,
          767,
          768,
          769,
          770,
          771,
          772,
          773,
          774,
          775,
          776,
          777,
          778,
          779,
          780,
          781,
          782,
          783,
          784,
          785,
          786,
          787,
          788,
          789,
          790,
          791,
          792,
          793,
          794,
          795,
          796,
          797,
          798,
          799,
          800,
          801,
          802,
          803,
          804,
          805,
          806,
          807,
          808,
          809,
          810,
          811,
          812,
          813,
          814,
          815,
          816,
          817,
          818,
          819,
          820,
          821,
          822,
          823,
          824,
          825,
          826,
          827,
          828,
          829,
          830,
          831,
          832,
          833,
          834,
          835,
          836,
          837,
          838,
          839,
          840,
          841,
          842,
          843,
          844,
          845,
          846,
          847,
          848,
          849,
          850,
          851,
          852,
          853,
          854,
          855,
          856,
          857,
          858,
          859,
          860,
          861,
          862,
          863,
          864,
          865,
          866,
          867,
          868,
          869,
          870,
          871,
          872,
          873,
          874,
          875,
          876,
          877,
          878,
          879,
          880,
          881,
          882,
          883,
          884,
          885,
          886,
          887,
          888,
          889,
          890,
          891,
          892,
          893,
          894,
          895,
          896,
          897,
          898,
          899,
          900,
          901,
          902,
          903,
          904,
          905,
          906,
          907,
          908,
          909,
          910,
          911,
          912,
          913,
          914,
          915,
          916,
          917,
          918,
          919,
          920,
          921,
          922,
          923,
          924,
          925,
          926,
          927,
          928,
          929
         ],
         "xaxis": "x",
         "y": [
          1.1226575225009583e-12,
          0.1379367709159851,
          0.10455957800149918,
          0.09324222803115845,
          0.08944252878427505,
          0.07159263640642166,
          0.041474610567092896,
          0.03852316737174988,
          0.05702585726976395,
          0.05296222120523453,
          0.027372265234589577,
          0.01623137667775154,
          0.027744008228182793,
          0.035101279616355896,
          0.02503318153321743,
          0.0134500777348876,
          0.013864526525139809,
          0.018827049061655998,
          0.017847631126642227,
          0.012951472774147987,
          0.010434185154736042,
          0.010351145640015602,
          0.009969285689294338,
          0.0091071967035532,
          0.008304775692522526,
          0.007079845294356346,
          0.005961509887129068,
          0.005870063789188862,
          0.005991608370095491,
          0.00512711564078927,
          0.004078380763530731,
          0.00393577478826046,
          0.003989206627011299,
          0.0033969483338296413,
          0.002783687086775899,
          0.0026846230030059814,
          0.002634341362863779,
          0.0023046336136758327,
          0.002032657153904438,
          0.0019462333293631673,
          0.0017911565955728292,
          0.0015527086798101664,
          0.0013810696545988321,
          0.0013361377641558647,
          0.0012754835188388824,
          0.0010939131025224924,
          0.0009472966194152832,
          0.000922474660910666,
          0.0008872774778865278,
          0.0007945270626805723,
          0.0007559983641840518,
          0.0007466013776138425,
          0.0006381875718943775,
          0.0005362067022360861,
          0.0005206256755627692,
          0.0005590097280219197,
          0.0005431182798929513,
          0.00046377614489756525,
          0.00044690363574773073,
          0.00043152333819307387,
          0.00041231204522773623,
          0.0003861584700644016,
          0.00038479003706015646,
          0.0003972950216848403,
          0.0004015404265373945,
          0.00037628060090355575,
          0.00035072737955488265,
          0.000365014944691211,
          0.00039744877722114325,
          0.0004331837990321219,
          0.0004344632034189999,
          0.00039336486952379346,
          0.0004184505669400096,
          0.00048034454812295735,
          0.00045837913057766855,
          0.0004074194293934852,
          0.0004202059644740075,
          0.0005085665616206825,
          0.0005593369132839143,
          0.0004883467918261886,
          0.000453396060038358,
          0.0005208292277529836,
          0.0006067064823582768,
          0.0005801126244477928,
          0.0006312773912213743,
          0.0006225220859050751,
          0.0006945600034669042,
          0.0007292531663551927,
          0.0006820254493504763,
          0.0006759990355931222,
          0.0007540388614870608,
          0.000836377264931798,
          0.0009026697953231633,
          0.0007722439477220178,
          0.0008358664927072823,
          0.0009152592974714935,
          0.0009265114786103368,
          0.000935251940973103,
          0.0009243879467248917,
          0.0011434194166213274,
          0.0010128028225153685,
          0.000957063224632293,
          0.0011627457570284605,
          0.00122684589587152,
          0.0012769943568855524,
          0.0010876139858737588,
          0.001259319018572569,
          0.0013916738098487258,
          0.0014615082181990147,
          0.001301788492128253,
          0.00139825779478997,
          0.0016840884927660227,
          0.001639439957216382,
          0.0014591652434319258,
          0.0013729124329984188,
          0.0017074979841709137,
          0.0019249008037149906,
          0.001685240538790822,
          0.0014730464899912477,
          0.0017083538696169853,
          0.001762594562023878,
          0.001826901687309146,
          0.001710214070044458,
          0.001938416389748454,
          0.0019300016574561596,
          0.0018642469076439738,
          0.0019533997401595116,
          0.0020075582433491945,
          0.0019527743570506573,
          0.0018272098386660218,
          0.0020175022073090076,
          0.002183173783123493,
          0.0019297038670629263,
          0.001878045964986086,
          0.0020686835050582886,
          0.002124496502801776,
          0.002052689902484417,
          0.0021014101803302765,
          0.0020714125130325556,
          0.002114341827109456,
          0.0021899535786360502,
          0.002310211071744561,
          0.001994882244616747,
          0.0020294608548283577,
          0.002298051957041025,
          0.002551174256950617,
          0.0020009903237223625,
          0.0019684932194650173,
          0.002421447541564703,
          0.0024157632142305374,
          0.0023128266911953688,
          0.002030083443969488,
          0.0024078995920717716,
          0.002460308140143752,
          0.0023370981216430664,
          0.002131038811057806,
          0.0025611952878534794,
          0.002660150872543454,
          0.002269872697070241,
          0.002343615284189582,
          0.0022744741290807724,
          0.002638610079884529,
          0.002391711575910449,
          0.0023493252228945494,
          0.0024449829943478107,
          0.002613033400848508,
          0.0024902108125388622,
          0.0025549065321683884,
          0.002652012510225177,
          0.00260357023216784,
          0.002528267912566662,
          0.0026034978218376637,
          0.00260161142796278,
          0.0026000086218118668,
          0.002712805522605777,
          0.002523471135646105,
          0.0024787085130810738,
          0.0027429694309830666,
          0.0027908827178180218,
          0.002243836410343647,
          0.0024462093133479357,
          0.0027812588959932327,
          0.002626084489747882,
          0.0024867907632142305,
          0.0024743692483752966,
          0.0025029347743839025,
          0.002492474624887109,
          0.002544739516451955,
          0.002666461281478405,
          0.0024737371131777763,
          0.0024236240424215794,
          0.002344540087506175,
          0.0028452519327402115,
          0.002617546357214451,
          0.0022037504240870476,
          0.002583189634606242,
          0.0026154308579862118,
          0.0025787176564335823,
          0.0022607462015002966,
          0.002474655397236347,
          0.002823193557560444,
          0.002533638384193182,
          0.0023419347126036882,
          0.0024484300520271063,
          0.002838506828993559,
          0.0027283472009003162,
          0.002342774299904704,
          0.0022810392547398806,
          0.0025969038251787424,
          0.0028028227388858795,
          0.0026289946399629116,
          0.0022321450524032116,
          0.002443313365802169,
          0.00274459645152092,
          0.002811003942042589,
          0.0023008561693131924,
          0.002261864021420479,
          0.0024748111609369516,
          0.002683711238205433,
          0.0024711836595088243,
          0.002528276527300477,
          0.0024886298924684525,
          0.002791259903460741,
          0.0024603847414255142,
          0.002283141016960144,
          0.0023033188190311193,
          0.0025658721569925547,
          0.002538976026698947,
          0.002305505331605673,
          0.0021831600461155176,
          0.0024435454979538918,
          0.0025962134823203087,
          0.002523268572986126,
          0.0024475974496454,
          0.0021950991358608007,
          0.0027223986107856035,
          0.0024880366399884224,
          0.0026205165777355433,
          0.002380242571234703,
          0.0026631338987499475,
          0.0026294165290892124,
          0.0026222935412079096,
          0.0025479397736489773,
          0.002551694167777896,
          0.0026894258335232735,
          0.0028018257580697536,
          0.002663595834746957,
          0.0026467086281627417,
          0.0024795173667371273,
          0.002717712428420782,
          0.002775233704596758,
          0.0026024479884654284,
          0.002512207720428705,
          0.0026209019124507904,
          0.002928504953160882,
          0.0027456507086753845,
          0.0024923672899603844,
          0.002491800347343087,
          0.0026809240225702524,
          0.0028461299370974302,
          0.00237188464961946,
          0.002569659613072872,
          0.0024799490347504616,
          0.0029167013708502054,
          0.0024575914721935987,
          0.0026719633024185896,
          0.002311504213139415,
          0.002646791748702526,
          0.0025397350545972586,
          0.0026439346838742495,
          0.0025599366053938866,
          0.002649783855304122,
          0.0026312496047466993,
          0.0026848420966416597,
          0.0024708586279302835,
          0.002527628792449832,
          0.0026759060565382242,
          0.0026122136041522026,
          0.002613597782328725,
          0.00254320097155869,
          0.002517323475331068,
          0.0027547806967049837,
          0.002767185214906931,
          0.0026173763908445835,
          0.002538470085710287,
          0.002643259707838297,
          0.0025911997072398663,
          0.002589349402114749,
          0.0027400138787925243,
          0.002644372871145606,
          0.002585433190688491,
          0.002407245570793748,
          0.0028944157529622316,
          0.0026511535979807377,
          0.002561270259320736,
          0.0024595139548182487,
          0.002579235006123781,
          0.00270159263163805,
          0.0024607754312455654,
          0.002480240073055029,
          0.0024287267588078976,
          0.002643186366185546,
          0.0025749970227479935,
          0.0024655817542225122,
          0.0023952911142259836,
          0.0025365352630615234,
          0.002680406905710697,
          0.002441439311951399,
          0.0024268138222396374,
          0.0024634271394461393,
          0.002511420287191868,
          0.0023138164542615414,
          0.0026581764686852694,
          0.0026141712442040443,
          0.002510198624804616,
          0.0022748331539332867,
          0.0024576117284595966,
          0.0026784141082316637,
          0.0025723616126924753,
          0.0023168225307017565,
          0.0021695606410503387,
          0.0024592489935457706,
          0.002774170134216547,
          0.002368626883253455,
          0.0023077838122844696,
          0.0022532420698553324,
          0.0026744503993541002,
          0.0028569153510034084,
          0.0023910440504550934,
          0.0022957369219511747,
          0.0023860090877860785,
          0.002696929732337594,
          0.0027160050813108683,
          0.0022231631446629763,
          0.0023520207032561302,
          0.0024686758406460285,
          0.002575908787548542,
          0.0023896838538348675,
          0.0023247848730534315,
          0.002548654330894351,
          0.0026237526908516884,
          0.002059820806607604,
          0.00226413831114769,
          0.0025751644279807806,
          0.0027905129827558994,
          0.002321122447028756,
          0.0023010214790701866,
          0.002669180277734995,
          0.0026737861335277557,
          0.0024103987962007523,
          0.0023441447410732508,
          0.0025301629211753607,
          0.002861568471416831,
          0.002327243098989129,
          0.0024928958155214787,
          0.0025862290058285,
          0.0025550760328769684,
          0.0025565733667463064,
          0.0023821815848350525,
          0.0025673205964267254,
          0.00253374595195055,
          0.0026076151989400387,
          0.0025101990904659033,
          0.0024713105522096157,
          0.0028213877230882645,
          0.0027462097350507975,
          0.0026028298307210207,
          0.0025378321297466755,
          0.002591865137219429,
          0.002724260091781616,
          0.002455990295857191,
          0.002342464169487357,
          0.002672850852832198,
          0.0026351704727858305,
          0.0025517300236970186,
          0.0022478834725916386,
          0.002522398717701435,
          0.0024861458223313093,
          0.0023863043170422316,
          0.0022364500910043716,
          0.0025672263000160456,
          0.002646101638674736,
          0.00245093647390604,
          0.0023171561770141125,
          0.0023300161119550467,
          0.0025803507305681705,
          0.0024458589032292366,
          0.002409245353192091,
          0.0024780973326414824,
          0.002481229603290558,
          0.002575645688921213,
          0.0025868951342999935,
          0.0026988782919943333,
          0.002392259193584323,
          0.002420898759737611,
          0.0024802391417324543,
          0.002776609966531396,
          0.002690008608624339,
          0.002401357749477029,
          0.002491145860403776,
          0.002750782063230872,
          0.002628248417750001,
          0.0024453126825392246,
          0.002333016600459814,
          0.002965213032439351,
          0.0027419368270784616,
          0.0024099135771393776,
          0.0022078845649957657,
          0.002581336535513401,
          0.0028439213056117296,
          0.0026416443288326263,
          0.0022661390248686075,
          0.00241648661904037,
          0.002777262357994914,
          0.002572496421635151,
          0.002274281345307827,
          0.0023515333887189627,
          0.002792417537420988,
          0.002625918248668313,
          0.0024354734923690557,
          0.002310211770236492,
          0.002659732010215521,
          0.002923734486103058,
          0.0026424166280776262,
          0.0024161036126315594,
          0.0024129413068294525,
          0.0028282783459872007,
          0.0028253598138689995,
          0.0023608263581991196,
          0.00231497036293149,
          0.002603123662993312,
          0.0028652865439653397,
          0.002629972295835614,
          0.0021932204253971577,
          0.0025035059079527855,
          0.0028346662875264883,
          0.002631989773362875,
          0.0021991359535604715,
          0.0025287261232733727,
          0.0027665768284350634,
          0.00256635551340878,
          0.0024831495247781277,
          0.0025228995364159346,
          0.0028430407401174307,
          0.0025371150113642216,
          0.0025549442507326603,
          0.002605713438242674,
          0.0026159060653299093,
          0.0025593191385269165,
          0.002402986166998744,
          0.0023844996467232704,
          0.0025204503908753395,
          0.002481118543073535,
          0.002400133293122053,
          0.0025480312760919333,
          0.002456983318552375,
          0.0024358201771974564,
          0.002340518170967698,
          0.0028237635269761086,
          0.002715936629101634,
          0.002277940046042204,
          0.0022772850934416056,
          0.002552664140239358,
          0.0026988794561475515,
          0.002589330542832613,
          1.3287149158713873e-12,
          0.005010138265788555,
          0.004411198198795319,
          0.0026152199134230614,
          0.0008404299733228981,
          0.003419807180762291,
          0.004773791879415512,
          0.0028859630692750216,
          0.0014293922577053308,
          0.0023863150272518396,
          0.004307525232434273,
          0.00325154815800488,
          0.0018165275687351823,
          0.0021060435101389885,
          0.003682540962472558,
          0.003331564599648118,
          0.0021106547210365534,
          0.0020276904106140137,
          0.003407818730920553,
          0.003237304277718067,
          0.0024057698901742697,
          0.00197489932179451,
          0.002684613922610879,
          0.0031880363821983337,
          0.0024544931948184967,
          0.0022099523339420557,
          0.0024418984539806843,
          0.003263297025114298,
          0.0026549058966338634,
          0.0023760534822940826,
          0.002338320715352893,
          0.0029450797010213137,
          0.00269322725944221,
          0.0027389703318476677,
          0.002462452743202448,
          0.002836650237441063,
          0.0025720230769366026,
          0.0026750294491648674,
          0.0025729441549628973,
          0.002712717978283763,
          0.0026467498391866684,
          0.0026072729378938675,
          0.002655590185895562,
          0.0027215315494686365,
          0.002708220388740301,
          0.0027118721045553684,
          0.0026915932539850473,
          0.00276314839720726,
          0.002638322301208973,
          0.002626113360747695,
          0.002672939095646143,
          0.002601701533421874,
          0.002660804195329547,
          0.002780071459710598,
          0.0026217219419777393,
          0.002490227110683918,
          0.002629761351272464,
          0.002823879010975361,
          0.0026873259339481592,
          0.0025293563958257437,
          0.0025167062412947416,
          0.0026970836333930492,
          0.0029865761753171682,
          0.002541746711358428,
          0.0023763724602758884,
          0.0025792999658733606,
          0.0030223631765693426,
          0.0025596804916858673,
          0.0025987846311181784,
          0.0023772206623107195,
          0.002937678713351488,
          0.0025694486685097218,
          0.0028201646637171507,
          0.002269752323627472,
          0.0026566232554614544,
          0.0027407286688685417,
          0.0028707196470350027,
          0.0024923866149038076,
          0.0023885539267212152,
          0.0026137595996260643,
          0.0028115781024098396,
          0.0026613499503582716,
          0.0022629520390182734,
          0.0026977418456226587,
          0.0027464230079203844,
          0.0026882383972406387,
          0.0021689508575946093,
          0.0024057021364569664,
          0.003008737927302718,
          0.002909081056714058,
          0.00229370198212564,
          0.002459422219544649,
          0.002949036890640855,
          0.002921679522842169,
          0.002267726929858327,
          0.0025236199144273996,
          0.0027072273660451174,
          0.002814946696162224,
          0.0023524914868175983,
          0.002512422390282154,
          0.0025641999673098326,
          0.0028473909478634596,
          0.0026618263218551874,
          0.002380525693297386,
          0.002615228295326233,
          0.0025749446358531713,
          0.0027341661043465137,
          0.0022845177445560694,
          0.002655185293406248,
          0.0027155724819749594,
          0.0027974373660981655,
          0.002294631442055106,
          0.0026742308400571346,
          0.0027624177746474743,
          0.0027958438731729984,
          0.0023173049557954073,
          0.002636025659739971,
          0.002823158400133252,
          0.0026665828190743923,
          0.002333170734345913,
          0.0026175149250775576,
          0.0028739282861351967,
          0.0025535745080560446,
          0.0024538864381611347,
          0.0026109779719263315,
          0.0028079794719815254,
          0.0026902048848569393,
          0.0025905785150825977,
          0.00247014407068491,
          0.002715342678129673,
          0.002689438872039318,
          0.0024909379426389933,
          0.0024024539161473513,
          0.0025630497839301825,
          0.0025320437271147966,
          0.002560226945206523,
          0.0024943752214312553,
          0.002410316141322255,
          0.0025500005576759577,
          0.002540148561820388,
          0.0027250489220023155,
          0.002652251860126853,
          0.0025436715222895145,
          0.0025685755535960197,
          0.002646457636728883,
          0.0026916437782347202,
          0.002777951769530773,
          0.00256163626909256,
          0.002702346071600914,
          0.0025810357183218002,
          0.0027408688329160213,
          0.0027811801992356777,
          0.002659263787791133,
          0.002680629026144743,
          0.0026951045729219913,
          0.002755939494818449,
          0.0027430655900388956,
          0.0027590435929596424,
          0.0026598505210131407,
          0.0024850601330399513,
          0.0028219600208103657,
          0.002672413131222129,
          0.0024960420560091734,
          0.002373353810980916,
          0.002764719072729349,
          0.0028267817106097937,
          0.0027268221601843834,
          0.0023981791455298662,
          0.0026656014379113913,
          0.0025140356738120317,
          0.0025742806028574705,
          0.002569189528003335,
          0.0026166061870753765,
          0.002481278032064438,
          0.0024008627515286207,
          0.0028095999732613564,
          0.002729560947045684,
          0.0026000221259891987,
          0.0023844426032155752,
          0.0027402760460972786,
          0.002729344181716442,
          0.002680819248780608,
          0.00249269837513566,
          0.0025703790597617626,
          0.002648723777383566,
          0.002747995313256979,
          0.0023948296438902617,
          0.002613871591165662,
          0.0026027089916169643,
          0.0026368596591055393,
          0.002498579677194357,
          0.0025649056769907475,
          0.0024922851007431746,
          0.0025316306855529547,
          0.0025909326504915953,
          0.0027865958400070667,
          0.0025925389491021633,
          0.002551683224737644,
          0.0027281553484499454,
          0.002676696516573429,
          0.002645300468429923,
          0.002693123184144497,
          0.0026146718300879,
          0.002660101279616356,
          0.0027271085418760777,
          0.0025789488572627306,
          0.002739406656473875,
          0.0028561940416693687,
          0.0026506574358791113,
          0.002385170664638281,
          0.0024814815260469913,
          0.0029665965121239424,
          0.002764273900538683,
          0.0024535409174859524,
          0.002563589019700885,
          0.002837548963725567,
          0.0029092268086969852,
          0.002414312679320574,
          0.0025202948600053787,
          0.0028159646317362785,
          0.002961119171231985,
          0.0025062442291527987,
          0.0024845132138580084,
          0.002939853584393859,
          0.0028585703112185,
          0.0028083398938179016,
          0.0026792953722178936,
          0.0026937914080917835,
          0.002677274402230978,
          0.0026330528780817986,
          0.0024334178306162357,
          0.0027682464569807053,
          0.0027040301356464624,
          0.00247061881236732,
          0.0024205113295465708,
          0.0027616529259830713,
          0.0028491755947470665,
          0.002519906498491764,
          0.0024824521970003843,
          0.0026498055085539818,
          0.002648655092343688,
          0.0027165766805410385,
          0.0024882578290998936,
          0.002462896052747965,
          0.002544210059568286,
          0.002664645668119192,
          0.002419455908238888,
          0.002510567894205451,
          0.002482254756614566,
          0.002649255096912384,
          0.002367365872487426,
          0.0024499872233718634,
          0.0025093667209148407,
          0.002825405215844512,
          0.002469441154971719,
          0.0023494053166359663,
          0.002302158158272505,
          0.002766001969575882,
          0.00255071884021163,
          0.0023429838474839926,
          0.0022781065199524164,
          0.0028483818750828505,
          0.0027456090319901705,
          0.002533567603677511,
          0.002225056756287813,
          0.0027004017028957605,
          0.0028091382700949907,
          0.002573144156485796,
          0.002469076542183757,
          0.0025544341187924147,
          0.0027040024287998676,
          0.002885587513446808,
          0.002367242705076933,
          0.0027644208166748285,
          0.002761637791991234,
          0.0026917068753391504,
          0.0024672532454133034,
          0.002775728702545166,
          0.0025776331312954426,
          0.002611829899251461,
          0.0026276796124875546,
          0.0027705433312803507,
          0.0025004304479807615,
          0.002645500935614109,
          0.0026671949308365583,
          0.002760792151093483,
          0.002440816955640912,
          0.002733272034674883,
          0.002631522947922349,
          0.0027850796468555927,
          0.002545649651437998,
          0.0026108906604349613,
          0.0026617790572345257,
          0.0026489596348255873,
          0.0025189754087477922,
          0.0025414875708520412,
          0.0027376008220016956,
          0.002833807608112693,
          0.002505925949662924,
          0.0025749257765710354,
          0.0026114373467862606,
          0.0027538121212273836,
          0.0024200354237109423,
          0.0025881577748805285,
          0.0026216269470751286,
          0.002725031925365329,
          0.0024572880938649178,
          0.0026194402016699314,
          0.0025962418876588345,
          0.0027880691923201084,
          0.0026169552002102137,
          0.002485803794115782,
          0.0026532055344432592,
          0.002797214314341545,
          0.002389158820733428,
          0.002430892549455166,
          0.0025501439813524485,
          0.0027555760461837053,
          0.002546965377405286,
          0.0022626048885285854,
          0.0028050425462424755,
          0.002633652649819851,
          0.002576337195932865,
          0.0024735108017921448,
          0.002666056388989091,
          0.0026624880265444517,
          0.0026905338745564222,
          0.0024346911814063787,
          0.0026223266031593084,
          0.0027168176602572203,
          0.0028600727673619986,
          0.0025326251052320004,
          0.0028095594607293606,
          0.0028216640930622816,
          0.00265321577899158,
          0.0023791363928467035,
          0.002539029810577631,
          0.002805867465212941,
          0.0029645555187016726,
          0.0022646752186119556,
          0.0024161245673894882,
          0.0027840868569910526,
          0.0029000116046518087,
          0.0023675570264458656,
          0.0023864260874688625,
          0.0025986728724092245,
          0.0027209168765693903,
          0.00238513620570302,
          0.002549692988395691,
          0.002793117193505168,
          0.0027919947169721127,
          0.0024504319299012423,
          0.0026702601462602615,
          0.0026490306481719017,
          0.0027416134253144264,
          0.0024597044102847576,
          0.0026316677685827017,
          0.0025755204260349274,
          0.0026296107098460197,
          0.0025713471695780754,
          0.00248429412022233,
          0.002523364033550024,
          0.0027538540307432413,
          0.0027841078117489815,
          0.0025946481619030237,
          0.002474321285262704,
          0.002680132631212473,
          0.0027057563420385122,
          0.002428770298138261,
          0.002617039019241929,
          0.0027407489251345396,
          0.0026309306267648935,
          0.0026008454151451588,
          0.0027170409448444843,
          0.002737600589171052,
          0.0027824360877275467,
          0.002706569153815508,
          0.002903750166296959,
          0.002556692808866501,
          0.0027398874517530203,
          0.0027750511653721333,
          0.002854116726666689,
          0.0025830520316958427,
          0.0025935089215636253,
          0.0028942206408828497,
          0.0028269668109714985,
          0.0025012039113789797,
          0.0024212957359850407,
          0.002817700617015362,
          0.002702922560274601,
          0.0025667378213256598,
          0.0024132162798196077,
          0.0024259595666080713,
          0.002617555670440197,
          0.002635526703670621,
          0.002671753289178014,
          0.0023375791497528553,
          0.0026917492505162954,
          0.0025498357135802507,
          0.0027848188765347004,
          0.002406141720712185,
          0.0025945152156054974,
          0.0027846423909068108,
          0.0025195509660989046,
          0.002333294600248337,
          0.002697207033634186,
          0.00289027183316648,
          0.0024159273598343134,
          0.002622909378260374,
          0.0026100315153598785,
          0.0029858301859349012,
          0.0025029287207871675,
          0.002578084822744131,
          0.002607836853712797,
          0.0029335119761526585,
          0.002621513092890382,
          0.002509042154997587,
          0.0022831475362181664,
          0.0028977429028600454,
          0.0027884291484951973,
          0.00252128136344254,
          0.002392695052549243,
          0.0029501072131097317,
          0.0026976231019943953,
          0.0026181438006460667,
          0.0024188957177102566,
          0.0027120099402964115,
          0.0025273810606449842,
          0.0027722276281565428,
          0.0025108596310019493,
          0.0025917827151715755,
          0.0025372765958309174,
          0.0027191860135644674,
          0.002714113797992468,
          0.002705777296796441,
          0.002700488083064556,
          0.002606424270197749,
          0.0024314674083143473,
          0.0028369417414069176,
          0.002656318247318268,
          0.002711731940507889,
          0.002503566909581423,
          0.002631980227306485,
          0.002563226968050003,
          0.0024970679078251123,
          0.0027230645064264536,
          0.002669165376573801,
          0.002631553914397955,
          0.002496961271390319,
          0.002688170410692692,
          0.002516102744266391,
          0.0026080766692757607,
          0.0026168825570493937,
          0.002712249755859375,
          0.002482692478224635,
          0.0025808350183069706,
          0.0027809650637209415,
          0.0029312600381672382,
          0.0023664585314691067,
          0.0024395326618105173,
          0.0028458246961236,
          0.0028304096776992083,
          0.002496901201084256,
          0.00246210815384984,
          0.002672953065484762
         ],
         "yaxis": "y"
        }
       ],
       "layout": {
        "legend": {
         "title": {
          "text": "variable"
         },
         "tracegroupgap": 0
        },
        "margin": {
         "t": 60
        },
        "template": {
         "data": {
          "bar": [
           {
            "error_x": {
             "color": "#2a3f5f"
            },
            "error_y": {
             "color": "#2a3f5f"
            },
            "marker": {
             "line": {
              "color": "#E5ECF6",
              "width": 0.5
             },
             "pattern": {
              "fillmode": "overlay",
              "size": 10,
              "solidity": 0.2
             }
            },
            "type": "bar"
           }
          ],
          "barpolar": [
           {
            "marker": {
             "line": {
              "color": "#E5ECF6",
              "width": 0.5
             },
             "pattern": {
              "fillmode": "overlay",
              "size": 10,
              "solidity": 0.2
             }
            },
            "type": "barpolar"
           }
          ],
          "carpet": [
           {
            "aaxis": {
             "endlinecolor": "#2a3f5f",
             "gridcolor": "white",
             "linecolor": "white",
             "minorgridcolor": "white",
             "startlinecolor": "#2a3f5f"
            },
            "baxis": {
             "endlinecolor": "#2a3f5f",
             "gridcolor": "white",
             "linecolor": "white",
             "minorgridcolor": "white",
             "startlinecolor": "#2a3f5f"
            },
            "type": "carpet"
           }
          ],
          "choropleth": [
           {
            "colorbar": {
             "outlinewidth": 0,
             "ticks": ""
            },
            "type": "choropleth"
           }
          ],
          "contour": [
           {
            "colorbar": {
             "outlinewidth": 0,
             "ticks": ""
            },
            "colorscale": [
             [
              0,
              "#0d0887"
             ],
             [
              0.1111111111111111,
              "#46039f"
             ],
             [
              0.2222222222222222,
              "#7201a8"
             ],
             [
              0.3333333333333333,
              "#9c179e"
             ],
             [
              0.4444444444444444,
              "#bd3786"
             ],
             [
              0.5555555555555556,
              "#d8576b"
             ],
             [
              0.6666666666666666,
              "#ed7953"
             ],
             [
              0.7777777777777778,
              "#fb9f3a"
             ],
             [
              0.8888888888888888,
              "#fdca26"
             ],
             [
              1,
              "#f0f921"
             ]
            ],
            "type": "contour"
           }
          ],
          "contourcarpet": [
           {
            "colorbar": {
             "outlinewidth": 0,
             "ticks": ""
            },
            "type": "contourcarpet"
           }
          ],
          "heatmap": [
           {
            "colorbar": {
             "outlinewidth": 0,
             "ticks": ""
            },
            "colorscale": [
             [
              0,
              "#0d0887"
             ],
             [
              0.1111111111111111,
              "#46039f"
             ],
             [
              0.2222222222222222,
              "#7201a8"
             ],
             [
              0.3333333333333333,
              "#9c179e"
             ],
             [
              0.4444444444444444,
              "#bd3786"
             ],
             [
              0.5555555555555556,
              "#d8576b"
             ],
             [
              0.6666666666666666,
              "#ed7953"
             ],
             [
              0.7777777777777778,
              "#fb9f3a"
             ],
             [
              0.8888888888888888,
              "#fdca26"
             ],
             [
              1,
              "#f0f921"
             ]
            ],
            "type": "heatmap"
           }
          ],
          "heatmapgl": [
           {
            "colorbar": {
             "outlinewidth": 0,
             "ticks": ""
            },
            "colorscale": [
             [
              0,
              "#0d0887"
             ],
             [
              0.1111111111111111,
              "#46039f"
             ],
             [
              0.2222222222222222,
              "#7201a8"
             ],
             [
              0.3333333333333333,
              "#9c179e"
             ],
             [
              0.4444444444444444,
              "#bd3786"
             ],
             [
              0.5555555555555556,
              "#d8576b"
             ],
             [
              0.6666666666666666,
              "#ed7953"
             ],
             [
              0.7777777777777778,
              "#fb9f3a"
             ],
             [
              0.8888888888888888,
              "#fdca26"
             ],
             [
              1,
              "#f0f921"
             ]
            ],
            "type": "heatmapgl"
           }
          ],
          "histogram": [
           {
            "marker": {
             "pattern": {
              "fillmode": "overlay",
              "size": 10,
              "solidity": 0.2
             }
            },
            "type": "histogram"
           }
          ],
          "histogram2d": [
           {
            "colorbar": {
             "outlinewidth": 0,
             "ticks": ""
            },
            "colorscale": [
             [
              0,
              "#0d0887"
             ],
             [
              0.1111111111111111,
              "#46039f"
             ],
             [
              0.2222222222222222,
              "#7201a8"
             ],
             [
              0.3333333333333333,
              "#9c179e"
             ],
             [
              0.4444444444444444,
              "#bd3786"
             ],
             [
              0.5555555555555556,
              "#d8576b"
             ],
             [
              0.6666666666666666,
              "#ed7953"
             ],
             [
              0.7777777777777778,
              "#fb9f3a"
             ],
             [
              0.8888888888888888,
              "#fdca26"
             ],
             [
              1,
              "#f0f921"
             ]
            ],
            "type": "histogram2d"
           }
          ],
          "histogram2dcontour": [
           {
            "colorbar": {
             "outlinewidth": 0,
             "ticks": ""
            },
            "colorscale": [
             [
              0,
              "#0d0887"
             ],
             [
              0.1111111111111111,
              "#46039f"
             ],
             [
              0.2222222222222222,
              "#7201a8"
             ],
             [
              0.3333333333333333,
              "#9c179e"
             ],
             [
              0.4444444444444444,
              "#bd3786"
             ],
             [
              0.5555555555555556,
              "#d8576b"
             ],
             [
              0.6666666666666666,
              "#ed7953"
             ],
             [
              0.7777777777777778,
              "#fb9f3a"
             ],
             [
              0.8888888888888888,
              "#fdca26"
             ],
             [
              1,
              "#f0f921"
             ]
            ],
            "type": "histogram2dcontour"
           }
          ],
          "mesh3d": [
           {
            "colorbar": {
             "outlinewidth": 0,
             "ticks": ""
            },
            "type": "mesh3d"
           }
          ],
          "parcoords": [
           {
            "line": {
             "colorbar": {
              "outlinewidth": 0,
              "ticks": ""
             }
            },
            "type": "parcoords"
           }
          ],
          "pie": [
           {
            "automargin": true,
            "type": "pie"
           }
          ],
          "scatter": [
           {
            "fillpattern": {
             "fillmode": "overlay",
             "size": 10,
             "solidity": 0.2
            },
            "type": "scatter"
           }
          ],
          "scatter3d": [
           {
            "line": {
             "colorbar": {
              "outlinewidth": 0,
              "ticks": ""
             }
            },
            "marker": {
             "colorbar": {
              "outlinewidth": 0,
              "ticks": ""
             }
            },
            "type": "scatter3d"
           }
          ],
          "scattercarpet": [
           {
            "marker": {
             "colorbar": {
              "outlinewidth": 0,
              "ticks": ""
             }
            },
            "type": "scattercarpet"
           }
          ],
          "scattergeo": [
           {
            "marker": {
             "colorbar": {
              "outlinewidth": 0,
              "ticks": ""
             }
            },
            "type": "scattergeo"
           }
          ],
          "scattergl": [
           {
            "marker": {
             "colorbar": {
              "outlinewidth": 0,
              "ticks": ""
             }
            },
            "type": "scattergl"
           }
          ],
          "scattermapbox": [
           {
            "marker": {
             "colorbar": {
              "outlinewidth": 0,
              "ticks": ""
             }
            },
            "type": "scattermapbox"
           }
          ],
          "scatterpolar": [
           {
            "marker": {
             "colorbar": {
              "outlinewidth": 0,
              "ticks": ""
             }
            },
            "type": "scatterpolar"
           }
          ],
          "scatterpolargl": [
           {
            "marker": {
             "colorbar": {
              "outlinewidth": 0,
              "ticks": ""
             }
            },
            "type": "scatterpolargl"
           }
          ],
          "scatterternary": [
           {
            "marker": {
             "colorbar": {
              "outlinewidth": 0,
              "ticks": ""
             }
            },
            "type": "scatterternary"
           }
          ],
          "surface": [
           {
            "colorbar": {
             "outlinewidth": 0,
             "ticks": ""
            },
            "colorscale": [
             [
              0,
              "#0d0887"
             ],
             [
              0.1111111111111111,
              "#46039f"
             ],
             [
              0.2222222222222222,
              "#7201a8"
             ],
             [
              0.3333333333333333,
              "#9c179e"
             ],
             [
              0.4444444444444444,
              "#bd3786"
             ],
             [
              0.5555555555555556,
              "#d8576b"
             ],
             [
              0.6666666666666666,
              "#ed7953"
             ],
             [
              0.7777777777777778,
              "#fb9f3a"
             ],
             [
              0.8888888888888888,
              "#fdca26"
             ],
             [
              1,
              "#f0f921"
             ]
            ],
            "type": "surface"
           }
          ],
          "table": [
           {
            "cells": {
             "fill": {
              "color": "#EBF0F8"
             },
             "line": {
              "color": "white"
             }
            },
            "header": {
             "fill": {
              "color": "#C8D4E3"
             },
             "line": {
              "color": "white"
             }
            },
            "type": "table"
           }
          ]
         },
         "layout": {
          "annotationdefaults": {
           "arrowcolor": "#2a3f5f",
           "arrowhead": 0,
           "arrowwidth": 1
          },
          "autotypenumbers": "strict",
          "coloraxis": {
           "colorbar": {
            "outlinewidth": 0,
            "ticks": ""
           }
          },
          "colorscale": {
           "diverging": [
            [
             0,
             "#8e0152"
            ],
            [
             0.1,
             "#c51b7d"
            ],
            [
             0.2,
             "#de77ae"
            ],
            [
             0.3,
             "#f1b6da"
            ],
            [
             0.4,
             "#fde0ef"
            ],
            [
             0.5,
             "#f7f7f7"
            ],
            [
             0.6,
             "#e6f5d0"
            ],
            [
             0.7,
             "#b8e186"
            ],
            [
             0.8,
             "#7fbc41"
            ],
            [
             0.9,
             "#4d9221"
            ],
            [
             1,
             "#276419"
            ]
           ],
           "sequential": [
            [
             0,
             "#0d0887"
            ],
            [
             0.1111111111111111,
             "#46039f"
            ],
            [
             0.2222222222222222,
             "#7201a8"
            ],
            [
             0.3333333333333333,
             "#9c179e"
            ],
            [
             0.4444444444444444,
             "#bd3786"
            ],
            [
             0.5555555555555556,
             "#d8576b"
            ],
            [
             0.6666666666666666,
             "#ed7953"
            ],
            [
             0.7777777777777778,
             "#fb9f3a"
            ],
            [
             0.8888888888888888,
             "#fdca26"
            ],
            [
             1,
             "#f0f921"
            ]
           ],
           "sequentialminus": [
            [
             0,
             "#0d0887"
            ],
            [
             0.1111111111111111,
             "#46039f"
            ],
            [
             0.2222222222222222,
             "#7201a8"
            ],
            [
             0.3333333333333333,
             "#9c179e"
            ],
            [
             0.4444444444444444,
             "#bd3786"
            ],
            [
             0.5555555555555556,
             "#d8576b"
            ],
            [
             0.6666666666666666,
             "#ed7953"
            ],
            [
             0.7777777777777778,
             "#fb9f3a"
            ],
            [
             0.8888888888888888,
             "#fdca26"
            ],
            [
             1,
             "#f0f921"
            ]
           ]
          },
          "colorway": [
           "#636efa",
           "#EF553B",
           "#00cc96",
           "#ab63fa",
           "#FFA15A",
           "#19d3f3",
           "#FF6692",
           "#B6E880",
           "#FF97FF",
           "#FECB52"
          ],
          "font": {
           "color": "#2a3f5f"
          },
          "geo": {
           "bgcolor": "white",
           "lakecolor": "white",
           "landcolor": "#E5ECF6",
           "showlakes": true,
           "showland": true,
           "subunitcolor": "white"
          },
          "hoverlabel": {
           "align": "left"
          },
          "hovermode": "closest",
          "mapbox": {
           "style": "light"
          },
          "paper_bgcolor": "white",
          "plot_bgcolor": "#E5ECF6",
          "polar": {
           "angularaxis": {
            "gridcolor": "white",
            "linecolor": "white",
            "ticks": ""
           },
           "bgcolor": "#E5ECF6",
           "radialaxis": {
            "gridcolor": "white",
            "linecolor": "white",
            "ticks": ""
           }
          },
          "scene": {
           "xaxis": {
            "backgroundcolor": "#E5ECF6",
            "gridcolor": "white",
            "gridwidth": 2,
            "linecolor": "white",
            "showbackground": true,
            "ticks": "",
            "zerolinecolor": "white"
           },
           "yaxis": {
            "backgroundcolor": "#E5ECF6",
            "gridcolor": "white",
            "gridwidth": 2,
            "linecolor": "white",
            "showbackground": true,
            "ticks": "",
            "zerolinecolor": "white"
           },
           "zaxis": {
            "backgroundcolor": "#E5ECF6",
            "gridcolor": "white",
            "gridwidth": 2,
            "linecolor": "white",
            "showbackground": true,
            "ticks": "",
            "zerolinecolor": "white"
           }
          },
          "shapedefaults": {
           "line": {
            "color": "#2a3f5f"
           }
          },
          "ternary": {
           "aaxis": {
            "gridcolor": "white",
            "linecolor": "white",
            "ticks": ""
           },
           "baxis": {
            "gridcolor": "white",
            "linecolor": "white",
            "ticks": ""
           },
           "bgcolor": "#E5ECF6",
           "caxis": {
            "gridcolor": "white",
            "linecolor": "white",
            "ticks": ""
           }
          },
          "title": {
           "x": 0.05
          },
          "xaxis": {
           "automargin": true,
           "gridcolor": "white",
           "linecolor": "white",
           "ticks": "",
           "title": {
            "standoff": 15
           },
           "zerolinecolor": "white",
           "zerolinewidth": 2
          },
          "yaxis": {
           "automargin": true,
           "gridcolor": "white",
           "linecolor": "white",
           "ticks": "",
           "title": {
            "standoff": 15
           },
           "zerolinecolor": "white",
           "zerolinewidth": 2
          }
         }
        },
        "xaxis": {
         "anchor": "y",
         "domain": [
          0,
          1
         ],
         "title": {
          "text": "index"
         }
        },
        "yaxis": {
         "anchor": "x",
         "domain": [
          0,
          1
         ],
         "title": {
          "text": "value"
         }
        }
       }
      }
     },
     "metadata": {},
     "output_type": "display_data"
    }
   ],
   "source": [
    "px.scatter(losses[:,1])"
   ]
  },
  {
   "cell_type": "code",
   "execution_count": 88,
   "metadata": {},
   "outputs": [
    {
     "data": {
      "text/plain": [
       "tensor(1.6216, grad_fn=<NllLossBackward0>)"
      ]
     },
     "execution_count": 88,
     "metadata": {},
     "output_type": "execute_result"
    }
   ],
   "source": [
    "experimental_loss(anchor_embeddings, positive_embeddings, negative_embeddings)\n"
   ]
  },
  {
   "cell_type": "code",
   "execution_count": 47,
   "metadata": {},
   "outputs": [
    {
     "data": {
      "text/plain": [
       "torch.Size([1666, 40])"
      ]
     },
     "execution_count": 47,
     "metadata": {},
     "output_type": "execute_result"
    }
   ],
   "source": [
    "torch.concat((temp, temp), dim=1).shape"
   ]
  },
  {
   "cell_type": "code",
   "execution_count": null,
   "metadata": {},
   "outputs": [],
   "source": []
  },
  {
   "cell_type": "markdown",
   "metadata": {},
   "source": [
    "### Get training data"
   ]
  },
  {
   "cell_type": "code",
   "execution_count": 131,
   "metadata": {},
   "outputs": [
    {
     "name": "stderr",
     "output_type": "stream",
     "text": [
      "/opt/homebrew/Caskroom/miniforge/base/envs/phd/lib/python3.11/site-packages/sklearn/metrics/_classification.py:1471: UndefinedMetricWarning:\n",
      "\n",
      "Precision is ill-defined and being set to 0.0 in labels with no predicted samples. Use `zero_division` parameter to control this behavior.\n",
      "\n"
     ]
    },
    {
     "name": "stdout",
     "output_type": "stream",
     "text": [
      "Precision Score: 0.55\n",
      "Recall Score: 0.4\n",
      "F1 Score: 0.4\n",
      "Accuracy Score: 0.4\n",
      "Accuracy Score Top-3: 0.76\n"
     ]
    }
   ],
   "source": [
    "from utils.sector_classification import get_sector_score\n",
    "\n",
    "get_sector_score(embeddings.weight.detach().numpy(), sectors=data.sectors, top_k_accuracy=True)"
   ]
  },
  {
   "cell_type": "code",
   "execution_count": 18,
   "metadata": {},
   "outputs": [
    {
     "data": {
      "application/vnd.plotly.v1+json": {
       "config": {
        "plotlyServerURL": "https://plot.ly"
       },
       "data": [
        {
         "customdata": [
          [
           "AAPL",
           "TECHNOLOGY",
           "COMPUTER MANUFACTURING"
          ],
          [
           "ACXM",
           "TECHNOLOGY",
           "EDP SERVICES"
          ],
          [
           "ADBE",
           "TECHNOLOGY",
           "COMPUTER SOFTWARE: PREPACKAGED SOFTWARE"
          ],
          [
           "ADI",
           "TECHNOLOGY",
           "SEMICONDUCTORS"
          ],
          [
           "ADP",
           "TECHNOLOGY",
           "EDP SERVICES"
          ],
          [
           "ADSK",
           "TECHNOLOGY",
           "COMPUTER SOFTWARE: PREPACKAGED SOFTWARE"
          ],
          [
           "AGYS",
           "TECHNOLOGY",
           "EDP SERVICES"
          ],
          [
           "AMAT",
           "TECHNOLOGY",
           "SEMICONDUCTORS"
          ],
          [
           "AMSWA",
           "TECHNOLOGY",
           "COMPUTER SOFTWARE: PREPACKAGED SOFTWARE"
          ],
          [
           "BHE",
           "TECHNOLOGY",
           "ELECTRICAL PRODUCTS"
          ],
          [
           "CA",
           "TECHNOLOGY",
           "COMPUTER SOFTWARE: PREPACKAGED SOFTWARE"
          ],
          [
           "CACI",
           "TECHNOLOGY",
           "EDP SERVICES"
          ],
          [
           "CDNS",
           "TECHNOLOGY",
           "COMPUTER SOFTWARE: PREPACKAGED SOFTWARE"
          ],
          [
           "CERN",
           "TECHNOLOGY",
           "EDP SERVICES"
          ],
          [
           "CLGX",
           "TECHNOLOGY",
           "EDP SERVICES"
          ],
          [
           "CMTL",
           "TECHNOLOGY",
           "RADIO AND TELEVISION BROADCASTING AND COMMUNICATIONS EQUIPMENT"
          ],
          [
           "CRUS",
           "TECHNOLOGY",
           "SEMICONDUCTORS"
          ],
          [
           "CSCO",
           "TECHNOLOGY",
           "COMPUTER COMMUNICATIONS EQUIPMENT"
          ],
          [
           "CTS",
           "TECHNOLOGY",
           "ELECTRICAL PRODUCTS"
          ],
          [
           "CW",
           "TECHNOLOGY",
           "INDUSTRIAL MACHINERY/COMPONENTS"
          ],
          [
           "CY",
           "TECHNOLOGY",
           "SEMICONDUCTORS"
          ],
          [
           "DGII",
           "TECHNOLOGY",
           "COMPUTER COMMUNICATIONS EQUIPMENT"
          ],
          [
           "DIOD",
           "TECHNOLOGY",
           "SEMICONDUCTORS"
          ],
          [
           "DOV",
           "TECHNOLOGY",
           "INDUSTRIAL MACHINERY/COMPONENTS"
          ],
          [
           "EA",
           "TECHNOLOGY",
           "COMPUTER SOFTWARE: PREPACKAGED SOFTWARE"
          ],
          [
           "ERIC",
           "TECHNOLOGY",
           "RADIO AND TELEVISION BROADCASTING AND COMMUNICATIONS EQUIPMENT"
          ],
          [
           "ETN",
           "TECHNOLOGY",
           "INDUSTRIAL MACHINERY/COMPONENTS"
          ],
          [
           "FISV",
           "TECHNOLOGY",
           "EDP SERVICES"
          ],
          [
           "HPQ",
           "TECHNOLOGY",
           "COMPUTER MANUFACTURING"
          ],
          [
           "IBM",
           "TECHNOLOGY",
           "COMPUTER MANUFACTURING"
          ],
          [
           "IDTI",
           "TECHNOLOGY",
           "SEMICONDUCTORS"
          ],
          [
           "INTC",
           "TECHNOLOGY",
           "SEMICONDUCTORS"
          ],
          [
           "IPG",
           "TECHNOLOGY",
           "ADVERTISING"
          ],
          [
           "ITW",
           "TECHNOLOGY",
           "INDUSTRIAL MACHINERY/COMPONENTS"
          ],
          [
           "JKHY",
           "TECHNOLOGY",
           "EDP SERVICES"
          ],
          [
           "KELYA",
           "TECHNOLOGY",
           "PROFESSIONAL SERVICES"
          ],
          [
           "KLIC",
           "TECHNOLOGY",
           "SEMICONDUCTORS"
          ],
          [
           "LRCX",
           "TECHNOLOGY",
           "INDUSTRIAL MACHINERY/COMPONENTS"
          ],
          [
           "LSCC",
           "TECHNOLOGY",
           "SEMICONDUCTORS"
          ],
          [
           "MAN",
           "TECHNOLOGY",
           "PROFESSIONAL SERVICES"
          ],
          [
           "MSFT",
           "TECHNOLOGY",
           "COMPUTER SOFTWARE: PREPACKAGED SOFTWARE"
          ],
          [
           "MSI",
           "TECHNOLOGY",
           "RADIO AND TELEVISION BROADCASTING AND COMMUNICATIONS EQUIPMENT"
          ],
          [
           "MU",
           "TECHNOLOGY",
           "SEMICONDUCTORS"
          ],
          [
           "MXIM",
           "TECHNOLOGY",
           "SEMICONDUCTORS"
          ],
          [
           "OMC",
           "TECHNOLOGY",
           "ADVERTISING"
          ],
          [
           "ORCL",
           "TECHNOLOGY",
           "COMPUTER SOFTWARE: PREPACKAGED SOFTWARE"
          ],
          [
           "PKE",
           "TECHNOLOGY",
           "ELECTRICAL PRODUCTS"
          ],
          [
           "PLAB",
           "TECHNOLOGY",
           "SEMICONDUCTORS"
          ],
          [
           "PLXS",
           "TECHNOLOGY",
           "ELECTRICAL PRODUCTS"
          ],
          [
           "PNR",
           "TECHNOLOGY",
           "INDUSTRIAL MACHINERY/COMPONENTS"
          ],
          [
           "PTC",
           "TECHNOLOGY",
           "COMPUTER SOFTWARE: PREPACKAGED SOFTWARE"
          ],
          [
           "SGMS",
           "TECHNOLOGY",
           "EDP SERVICES"
          ],
          [
           "SIGM",
           "TECHNOLOGY",
           "SEMICONDUCTORS"
          ],
          [
           "SMTC",
           "TECHNOLOGY",
           "SEMICONDUCTORS"
          ],
          [
           "SPXC",
           "TECHNOLOGY",
           "INDUSTRIAL MACHINERY/COMPONENTS"
          ],
          [
           "SWKS",
           "TECHNOLOGY",
           "SEMICONDUCTORS"
          ],
          [
           "SXI",
           "TECHNOLOGY",
           "INDUSTRIAL MACHINERY/COMPONENTS"
          ],
          [
           "SYMC",
           "TECHNOLOGY",
           "COMPUTER SOFTWARE: PREPACKAGED SOFTWARE"
          ],
          [
           "TECD",
           "TECHNOLOGY",
           "RETAIL: COMPUTER SOFTWARE & PERIPHERAL EQUIPMENT"
          ],
          [
           "TXN",
           "TECHNOLOGY",
           "SEMICONDUCTORS"
          ],
          [
           "TYL",
           "TECHNOLOGY",
           "COMPUTER SOFTWARE: PREPACKAGED SOFTWARE"
          ],
          [
           "UIS",
           "TECHNOLOGY",
           "EDP SERVICES"
          ],
          [
           "WDC",
           "TECHNOLOGY",
           "ELECTRONIC COMPONENTS"
          ],
          [
           "WPP",
           "TECHNOLOGY",
           "ADVERTISING"
          ],
          [
           "XLNX",
           "TECHNOLOGY",
           "SEMICONDUCTORS"
          ],
          [
           "XRX",
           "TECHNOLOGY",
           "COMPUTER PERIPHERAL EQUIPMENT"
          ],
          [
           "ZIXI",
           "TECHNOLOGY",
           "EDP SERVICES"
          ]
         ],
         "hovertemplate": "<b>%{hovertext}</b><br><br>Sector=%{customdata[1]}<br>PC1=%{x}<br>PC2=%{y}<br>ticker=%{customdata[0]}<br>industry=%{customdata[2]}<extra></extra>",
         "hovertext": [
          "COMPUTER MANUFACTURING",
          "EDP SERVICES",
          "COMPUTER SOFTWARE: PREPACKAGED SOFTWARE",
          "SEMICONDUCTORS",
          "EDP SERVICES",
          "COMPUTER SOFTWARE: PREPACKAGED SOFTWARE",
          "EDP SERVICES",
          "SEMICONDUCTORS",
          "COMPUTER SOFTWARE: PREPACKAGED SOFTWARE",
          "ELECTRICAL PRODUCTS",
          "COMPUTER SOFTWARE: PREPACKAGED SOFTWARE",
          "EDP SERVICES",
          "COMPUTER SOFTWARE: PREPACKAGED SOFTWARE",
          "EDP SERVICES",
          "EDP SERVICES",
          "RADIO AND TELEVISION BROADCASTING AND COMMUNICATIONS EQUIPMENT",
          "SEMICONDUCTORS",
          "COMPUTER COMMUNICATIONS EQUIPMENT",
          "ELECTRICAL PRODUCTS",
          "INDUSTRIAL MACHINERY/COMPONENTS",
          "SEMICONDUCTORS",
          "COMPUTER COMMUNICATIONS EQUIPMENT",
          "SEMICONDUCTORS",
          "INDUSTRIAL MACHINERY/COMPONENTS",
          "COMPUTER SOFTWARE: PREPACKAGED SOFTWARE",
          "RADIO AND TELEVISION BROADCASTING AND COMMUNICATIONS EQUIPMENT",
          "INDUSTRIAL MACHINERY/COMPONENTS",
          "EDP SERVICES",
          "COMPUTER MANUFACTURING",
          "COMPUTER MANUFACTURING",
          "SEMICONDUCTORS",
          "SEMICONDUCTORS",
          "ADVERTISING",
          "INDUSTRIAL MACHINERY/COMPONENTS",
          "EDP SERVICES",
          "PROFESSIONAL SERVICES",
          "SEMICONDUCTORS",
          "INDUSTRIAL MACHINERY/COMPONENTS",
          "SEMICONDUCTORS",
          "PROFESSIONAL SERVICES",
          "COMPUTER SOFTWARE: PREPACKAGED SOFTWARE",
          "RADIO AND TELEVISION BROADCASTING AND COMMUNICATIONS EQUIPMENT",
          "SEMICONDUCTORS",
          "SEMICONDUCTORS",
          "ADVERTISING",
          "COMPUTER SOFTWARE: PREPACKAGED SOFTWARE",
          "ELECTRICAL PRODUCTS",
          "SEMICONDUCTORS",
          "ELECTRICAL PRODUCTS",
          "INDUSTRIAL MACHINERY/COMPONENTS",
          "COMPUTER SOFTWARE: PREPACKAGED SOFTWARE",
          "EDP SERVICES",
          "SEMICONDUCTORS",
          "SEMICONDUCTORS",
          "INDUSTRIAL MACHINERY/COMPONENTS",
          "SEMICONDUCTORS",
          "INDUSTRIAL MACHINERY/COMPONENTS",
          "COMPUTER SOFTWARE: PREPACKAGED SOFTWARE",
          "RETAIL: COMPUTER SOFTWARE & PERIPHERAL EQUIPMENT",
          "SEMICONDUCTORS",
          "COMPUTER SOFTWARE: PREPACKAGED SOFTWARE",
          "EDP SERVICES",
          "ELECTRONIC COMPONENTS",
          "ADVERTISING",
          "SEMICONDUCTORS",
          "COMPUTER PERIPHERAL EQUIPMENT",
          "EDP SERVICES"
         ],
         "legendgroup": "TECHNOLOGY",
         "marker": {
          "color": "#FD3216",
          "line": {
           "color": "DarkSlateGrey",
           "width": 1
          },
          "opacity": 0.7,
          "size": 8,
          "symbol": "circle"
         },
         "mode": "markers",
         "name": "TECHNOLOGY",
         "orientation": "v",
         "showlegend": true,
         "type": "scatter",
         "x": [
          0.3981800675392151,
          -0.25772184133529663,
          -0.43670061230659485,
          0.20153214037418365,
          -0.09670356661081314,
          -0.22391240298748016,
          -0.18712329864501953,
          0.23535597324371338,
          0.1818350851535797,
          -0.10792076587677002,
          -0.27405378222465515,
          0.08223794400691986,
          -0.09985227137804031,
          0.24110949039459229,
          0.11574803292751312,
          0.012272641062736511,
          0.3048580586910248,
          -0.4070759415626526,
          -0.30706819891929626,
          -0.3303956091403961,
          -0.055502500385046005,
          -0.2642088830471039,
          -0.3945004940032959,
          -0.043802738189697266,
          -0.1086488738656044,
          -0.31162765622138977,
          0.1257660835981369,
          -0.32298344373703003,
          -0.22944238781929016,
          0.1878131628036499,
          0.00835662055760622,
          0.0663408637046814,
          -0.35802409052848816,
          0.037156250327825546,
          0.11907120794057846,
          -0.4146314263343811,
          -0.4073779582977295,
          -0.032092317938804626,
          0.1348847895860672,
          -0.06183621659874916,
          -0.03858799859881401,
          0.06576700508594513,
          -0.4309244155883789,
          0.04168788716197014,
          0.08608678728342056,
          -0.07786649465560913,
          -0.09355830401182175,
          -0.05541141331195831,
          -0.16364115476608276,
          -0.06542104482650757,
          -0.4559828042984009,
          -0.5069296956062317,
          0.3887915313243866,
          0.014742482453584671,
          -0.4385122060775757,
          0.25726792216300964,
          -0.44119155406951904,
          0.14182977378368378,
          0.2177794724702835,
          0.14303886890411377,
          0.377254456281662,
          -0.2889355421066284,
          0.1411362737417221,
          0.054748669266700745,
          -0.025759490206837654,
          -0.10824219137430191,
          0.23861272633075714
         ],
         "xaxis": "x",
         "y": [
          0.6411712765693665,
          -0.008191240020096302,
          0.43750056624412537,
          0.36499348282814026,
          0.027920428663492203,
          0.09593136608600616,
          0.5196220278739929,
          0.44048643112182617,
          0.8161457777023315,
          0.23237912356853485,
          0.31327518820762634,
          0.07981254160404205,
          0.454610139131546,
          0.45974302291870117,
          -0.19958527386188507,
          0.4964200258255005,
          0.6566750407218933,
          0.4491645395755768,
          0.415093332529068,
          0.06769055128097534,
          0.6577108502388,
          0.473326176404953,
          0.214077427983284,
          0.16564439237117767,
          0.042156368494033813,
          0.5224525332450867,
          -0.18338938057422638,
          0.05799036845564842,
          0.3791481852531433,
          0.209283709526062,
          0.21783338487148285,
          0.4141859710216522,
          0.25791409611701965,
          0.17444169521331787,
          0.20177483558654785,
          0.15140706300735474,
          0.5885894298553467,
          0.42085859179496765,
          0.6996068954467773,
          0.12330702692270279,
          0.2873404026031494,
          0.5632229447364807,
          0.34752845764160156,
          0.5917553901672363,
          -0.06075339764356613,
          0.1603807657957077,
          0.30631837248802185,
          0.5747360587120056,
          0.5160304307937622,
          -0.18949145078659058,
          0.23280586302280426,
          0.07422234117984772,
          0.559607207775116,
          0.5644432902336121,
          0.013165385462343693,
          0.6793897747993469,
          0.015545115806162357,
          0.3465172350406647,
          0.5049492716789246,
          0.45141151547431946,
          0.556168794631958,
          -0.028638599440455437,
          0.3813324272632599,
          0.2136019915342331,
          0.5505897998809814,
          0.08085336536169052,
          0.1337881237268448
         ],
         "yaxis": "y"
        },
        {
         "customdata": [
          [
           "AB",
           "FINANCE",
           "INVESTMENT MANAGERS"
          ],
          [
           "ABM",
           "FINANCE",
           "DIVERSIFIED COMMERCIAL SERVICES"
          ],
          [
           "AEG",
           "FINANCE",
           "LIFE INSURANCE"
          ],
          [
           "AFG",
           "FINANCE",
           "PROPERTY-CASUALTY INSURERS"
          ],
          [
           "AFL",
           "FINANCE",
           "ACCIDENT &HEALTH INSURANCE"
          ],
          [
           "AIG",
           "FINANCE",
           "PROPERTY-CASUALTY INSURERS"
          ],
          [
           "AJG",
           "FINANCE",
           "SPECIALTY INSURERS"
          ],
          [
           "AON",
           "FINANCE",
           "SPECIALTY INSURERS"
          ],
          [
           "ASB",
           "FINANCE",
           "MAJOR BANKS"
          ],
          [
           "AXP",
           "FINANCE",
           "FINANCE: CONSUMER SERVICES"
          ],
          [
           "BAC",
           "FINANCE",
           "MAJOR BANKS"
          ],
          [
           "BBT",
           "FINANCE",
           "MAJOR BANKS"
          ],
          [
           "BBVA",
           "FINANCE",
           "COMMERCIAL BANKS"
          ],
          [
           "BCS",
           "FINANCE",
           "COMMERCIAL BANKS"
          ],
          [
           "BEN",
           "FINANCE",
           "INVESTMENT MANAGERS"
          ],
          [
           "BK",
           "FINANCE",
           "MAJOR BANKS"
          ],
          [
           "BOH",
           "FINANCE",
           "MAJOR BANKS"
          ],
          [
           "BPOP",
           "FINANCE",
           "MAJOR BANKS"
          ],
          [
           "BRO",
           "FINANCE",
           "SPECIALTY INSURERS"
          ],
          [
           "BXS",
           "FINANCE",
           "MAJOR BANKS"
          ],
          [
           "C",
           "FINANCE",
           "MAJOR BANKS"
          ],
          [
           "CB",
           "FINANCE",
           "PROPERTY-CASUALTY INSURERS"
          ],
          [
           "CBSH",
           "FINANCE",
           "MAJOR BANKS"
          ],
          [
           "CFR",
           "FINANCE",
           "MAJOR BANKS"
          ],
          [
           "CIA",
           "FINANCE",
           "LIFE INSURANCE"
          ],
          [
           "CINF",
           "FINANCE",
           "PROPERTY-CASUALTY INSURERS"
          ],
          [
           "CMA",
           "FINANCE",
           "MAJOR BANKS"
          ],
          [
           "CNA",
           "FINANCE",
           "PROPERTY-CASUALTY INSURERS"
          ],
          [
           "CVBF",
           "FINANCE",
           "MAJOR BANKS"
          ],
          [
           "DNB",
           "FINANCE",
           "FINANCE: CONSUMER SERVICES"
          ],
          [
           "EFX",
           "FINANCE",
           "FINANCE: CONSUMER SERVICES"
          ],
          [
           "EV",
           "FINANCE",
           "INVESTMENT MANAGERS"
          ],
          [
           "FBP",
           "FINANCE",
           "MAJOR BANKS"
          ],
          [
           "FFBC",
           "FINANCE",
           "MAJOR BANKS"
          ],
          [
           "FHN",
           "FINANCE",
           "MAJOR BANKS"
          ],
          [
           "FITB",
           "FINANCE",
           "MAJOR BANKS"
          ],
          [
           "FMBI",
           "FINANCE",
           "MAJOR BANKS"
          ],
          [
           "FNB",
           "FINANCE",
           "MAJOR BANKS"
          ],
          [
           "FULT",
           "FINANCE",
           "MAJOR BANKS"
          ],
          [
           "HBAN",
           "FINANCE",
           "MAJOR BANKS"
          ],
          [
           "INDB",
           "FINANCE",
           "MAJOR BANKS"
          ],
          [
           "JPM",
           "FINANCE",
           "MAJOR BANKS"
          ],
          [
           "KEY",
           "FINANCE",
           "MAJOR BANKS"
          ],
          [
           "KMPR",
           "FINANCE",
           "PROPERTY-CASUALTY INSURERS"
          ],
          [
           "L",
           "FINANCE",
           "PROPERTY-CASUALTY INSURERS"
          ],
          [
           "LM",
           "FINANCE",
           "INVESTMENT MANAGERS"
          ],
          [
           "LNC",
           "FINANCE",
           "LIFE INSURANCE"
          ],
          [
           "MBI",
           "FINANCE",
           "PROPERTY-CASUALTY INSURERS"
          ],
          [
           "MCY",
           "FINANCE",
           "PROPERTY-CASUALTY INSURERS"
          ],
          [
           "MKL",
           "FINANCE",
           "PROPERTY-CASUALTY INSURERS"
          ],
          [
           "MMC",
           "FINANCE",
           "SPECIALTY INSURERS"
          ],
          [
           "MTB",
           "FINANCE",
           "MAJOR BANKS"
          ],
          [
           "NTRS",
           "FINANCE",
           "MAJOR BANKS"
          ],
          [
           "OFG",
           "FINANCE",
           "MAJOR BANKS"
          ],
          [
           "ONB",
           "FINANCE",
           "MAJOR BANKS"
          ],
          [
           "ORI",
           "FINANCE",
           "PROPERTY-CASUALTY INSURERS"
          ],
          [
           "PBCT",
           "FINANCE",
           "SAVINGS INSTITUTIONS"
          ],
          [
           "PGR",
           "FINANCE",
           "PROPERTY-CASUALTY INSURERS"
          ],
          [
           "PNC",
           "FINANCE",
           "MAJOR BANKS"
          ],
          [
           "RF",
           "FINANCE",
           "MAJOR BANKS"
          ],
          [
           "RJF",
           "FINANCE",
           "INVESTMENT BANKERS/BROKERS/SERVICE"
          ],
          [
           "RLI",
           "FINANCE",
           "PROPERTY-CASUALTY INSURERS"
          ],
          [
           "ROL",
           "FINANCE",
           "DIVERSIFIED COMMERCIAL SERVICES"
          ],
          [
           "SCHW",
           "FINANCE",
           "INVESTMENT BANKERS/BROKERS/SERVICE"
          ],
          [
           "SEIC",
           "FINANCE",
           "INVESTMENT BANKERS/BROKERS/SERVICE"
          ],
          [
           "SFE",
           "FINANCE",
           "FINANCE/INVESTORS SERVICES"
          ],
          [
           "SIGI",
           "FINANCE",
           "PROPERTY-CASUALTY INSURERS"
          ],
          [
           "SIVB",
           "FINANCE",
           "MAJOR BANKS"
          ],
          [
           "SLM",
           "FINANCE",
           "FINANCE: CONSUMER SERVICES"
          ],
          [
           "SNV",
           "FINANCE",
           "MAJOR BANKS"
          ],
          [
           "SPGI",
           "FINANCE",
           "FINANCE: CONSUMER SERVICES"
          ],
          [
           "SRCE",
           "FINANCE",
           "MAJOR BANKS"
          ],
          [
           "STI",
           "FINANCE",
           "MAJOR BANKS"
          ],
          [
           "STT",
           "FINANCE",
           "MAJOR BANKS"
          ],
          [
           "TCF",
           "FINANCE",
           "MAJOR BANKS"
          ],
          [
           "TMK",
           "FINANCE",
           "LIFE INSURANCE"
          ],
          [
           "TRMK",
           "FINANCE",
           "MAJOR BANKS"
          ],
          [
           "TROW",
           "FINANCE",
           "INVESTMENT BANKERS/BROKERS/SERVICE"
          ],
          [
           "TRST",
           "FINANCE",
           "MAJOR BANKS"
          ],
          [
           "TRV",
           "FINANCE",
           "PROPERTY-CASUALTY INSURERS"
          ],
          [
           "UBSI",
           "FINANCE",
           "MAJOR BANKS"
          ],
          [
           "UMBF",
           "FINANCE",
           "MAJOR BANKS"
          ],
          [
           "UNM",
           "FINANCE",
           "ACCIDENT &HEALTH INSURANCE"
          ],
          [
           "USB",
           "FINANCE",
           "MAJOR BANKS"
          ],
          [
           "VLY",
           "FINANCE",
           "MAJOR BANKS"
          ],
          [
           "WABC",
           "FINANCE",
           "MAJOR BANKS"
          ],
          [
           "WAFD",
           "FINANCE",
           "MAJOR BANKS"
          ],
          [
           "WBS",
           "FINANCE",
           "MAJOR BANKS"
          ],
          [
           "WFC",
           "FINANCE",
           "MAJOR BANKS"
          ],
          [
           "WRB",
           "FINANCE",
           "PROPERTY-CASUALTY INSURERS"
          ],
          [
           "WSBC",
           "FINANCE",
           "MAJOR BANKS"
          ],
          [
           "WSFS",
           "FINANCE",
           "MAJOR BANKS"
          ],
          [
           "ZION",
           "FINANCE",
           "MAJOR BANKS"
          ]
         ],
         "hovertemplate": "<b>%{hovertext}</b><br><br>Sector=%{customdata[1]}<br>PC1=%{x}<br>PC2=%{y}<br>ticker=%{customdata[0]}<br>industry=%{customdata[2]}<extra></extra>",
         "hovertext": [
          "INVESTMENT MANAGERS",
          "DIVERSIFIED COMMERCIAL SERVICES",
          "LIFE INSURANCE",
          "PROPERTY-CASUALTY INSURERS",
          "ACCIDENT &HEALTH INSURANCE",
          "PROPERTY-CASUALTY INSURERS",
          "SPECIALTY INSURERS",
          "SPECIALTY INSURERS",
          "MAJOR BANKS",
          "FINANCE: CONSUMER SERVICES",
          "MAJOR BANKS",
          "MAJOR BANKS",
          "COMMERCIAL BANKS",
          "COMMERCIAL BANKS",
          "INVESTMENT MANAGERS",
          "MAJOR BANKS",
          "MAJOR BANKS",
          "MAJOR BANKS",
          "SPECIALTY INSURERS",
          "MAJOR BANKS",
          "MAJOR BANKS",
          "PROPERTY-CASUALTY INSURERS",
          "MAJOR BANKS",
          "MAJOR BANKS",
          "LIFE INSURANCE",
          "PROPERTY-CASUALTY INSURERS",
          "MAJOR BANKS",
          "PROPERTY-CASUALTY INSURERS",
          "MAJOR BANKS",
          "FINANCE: CONSUMER SERVICES",
          "FINANCE: CONSUMER SERVICES",
          "INVESTMENT MANAGERS",
          "MAJOR BANKS",
          "MAJOR BANKS",
          "MAJOR BANKS",
          "MAJOR BANKS",
          "MAJOR BANKS",
          "MAJOR BANKS",
          "MAJOR BANKS",
          "MAJOR BANKS",
          "MAJOR BANKS",
          "MAJOR BANKS",
          "MAJOR BANKS",
          "PROPERTY-CASUALTY INSURERS",
          "PROPERTY-CASUALTY INSURERS",
          "INVESTMENT MANAGERS",
          "LIFE INSURANCE",
          "PROPERTY-CASUALTY INSURERS",
          "PROPERTY-CASUALTY INSURERS",
          "PROPERTY-CASUALTY INSURERS",
          "SPECIALTY INSURERS",
          "MAJOR BANKS",
          "MAJOR BANKS",
          "MAJOR BANKS",
          "MAJOR BANKS",
          "PROPERTY-CASUALTY INSURERS",
          "SAVINGS INSTITUTIONS",
          "PROPERTY-CASUALTY INSURERS",
          "MAJOR BANKS",
          "MAJOR BANKS",
          "INVESTMENT BANKERS/BROKERS/SERVICE",
          "PROPERTY-CASUALTY INSURERS",
          "DIVERSIFIED COMMERCIAL SERVICES",
          "INVESTMENT BANKERS/BROKERS/SERVICE",
          "INVESTMENT BANKERS/BROKERS/SERVICE",
          "FINANCE/INVESTORS SERVICES",
          "PROPERTY-CASUALTY INSURERS",
          "MAJOR BANKS",
          "FINANCE: CONSUMER SERVICES",
          "MAJOR BANKS",
          "FINANCE: CONSUMER SERVICES",
          "MAJOR BANKS",
          "MAJOR BANKS",
          "MAJOR BANKS",
          "MAJOR BANKS",
          "LIFE INSURANCE",
          "MAJOR BANKS",
          "INVESTMENT BANKERS/BROKERS/SERVICE",
          "MAJOR BANKS",
          "PROPERTY-CASUALTY INSURERS",
          "MAJOR BANKS",
          "MAJOR BANKS",
          "ACCIDENT &HEALTH INSURANCE",
          "MAJOR BANKS",
          "MAJOR BANKS",
          "MAJOR BANKS",
          "MAJOR BANKS",
          "MAJOR BANKS",
          "MAJOR BANKS",
          "PROPERTY-CASUALTY INSURERS",
          "MAJOR BANKS",
          "MAJOR BANKS",
          "MAJOR BANKS"
         ],
         "legendgroup": "FINANCE",
         "marker": {
          "color": "#00FE35",
          "line": {
           "color": "DarkSlateGrey",
           "width": 1
          },
          "opacity": 0.7,
          "size": 8,
          "symbol": "diamond"
         },
         "mode": "markers",
         "name": "FINANCE",
         "orientation": "v",
         "showlegend": true,
         "type": "scatter",
         "x": [
          0.12721550464630127,
          -0.05725662782788277,
          0.05643643066287041,
          0.16692516207695007,
          0.06656033545732498,
          -0.37301403284072876,
          0.13037630915641785,
          0.3803418278694153,
          -0.25627750158309937,
          -0.3803483247756958,
          -0.7054479122161865,
          -0.1650223582983017,
          0.26014286279678345,
          -0.4842854142189026,
          -0.11976906657218933,
          -0.07270879298448563,
          -0.0587252713739872,
          -0.5011561512947083,
          0.1414533257484436,
          0.15376706421375275,
          -0.27654212713241577,
          -0.08083285391330719,
          -0.10492758452892303,
          -0.25452175736427307,
          -0.01967724785208702,
          0.18883690237998962,
          -0.43938764929771423,
          -0.13895577192306519,
          -0.28803330659866333,
          0.09712428599596024,
          -0.2626584470272064,
          -0.37588760256767273,
          -0.6134425401687622,
          -0.08027742058038712,
          -0.4323883056640625,
          -0.29317137598991394,
          -0.2753726541996002,
          -0.023462943732738495,
          -0.19478538632392883,
          -0.612479031085968,
          -0.20487430691719055,
          -0.3798596262931824,
          -0.475157231092453,
          -0.007486546412110329,
          0.38844025135040283,
          -0.20969648659229279,
          -0.3651899993419647,
          -0.4629848003387451,
          -0.2792808413505554,
          0.01576007343828678,
          0.08382616192102432,
          -0.44272926449775696,
          -0.32899653911590576,
          -0.43915387988090515,
          0.06616915762424469,
          -0.1710200160741806,
          0.1387500762939453,
          -0.08544528484344482,
          -0.3471473157405853,
          -0.6116337776184082,
          -0.06333250552415848,
          -0.05164511874318123,
          -0.07444346696138382,
          -0.41687148809432983,
          -0.2687417268753052,
          0.05721842497587204,
          -0.22974251210689545,
          -0.44925567507743835,
          -0.3377808928489685,
          -0.25528526306152344,
          -0.31515926122665405,
          -0.25057604908943176,
          -0.47387516498565674,
          -0.3460893929004669,
          -0.3295935392379761,
          0.16224659979343414,
          0.010930605232715607,
          -0.11518276482820511,
          0.05583448335528374,
          -0.017297862097620964,
          -0.42799535393714905,
          -0.3085613250732422,
          -0.4416366219520569,
          -0.2790882885456085,
          -0.2723977863788605,
          -0.03864645957946777,
          0.3751467168331146,
          -0.460897296667099,
          -0.20117689669132233,
          -0.061453815549612045,
          -0.3547314405441284,
          0.23260588943958282,
          -0.6302232146263123
         ],
         "xaxis": "x",
         "y": [
          0.15838977694511414,
          0.11639904230833054,
          -0.02928522787988186,
          -0.11713730543851852,
          0.10955370962619781,
          -0.4347105026245117,
          0.03024037927389145,
          -0.08026519417762756,
          -0.4372365176677704,
          -0.07642875611782074,
          -0.4250059127807617,
          -0.21093614399433136,
          -0.31221508979797363,
          -0.32233932614326477,
          0.0016909423284232616,
          -0.0014479159144684672,
          -0.3509160578250885,
          -0.46790358424186707,
          0.15867184102535248,
          -0.3869670033454895,
          -0.48428571224212646,
          -0.017384983599185944,
          -0.0756133496761322,
          -0.279462069272995,
          -0.29596200585365295,
          -0.14881132543087006,
          -0.21131391823291779,
          -0.3309786915779114,
          -0.12302439659833908,
          -0.34265774488449097,
          0.19881300628185272,
          -0.20130044221878052,
          -0.5610551834106445,
          -0.09399199485778809,
          -0.3326804041862488,
          -0.5724395513534546,
          -0.3730021119117737,
          -0.1541910171508789,
          -0.2514462471008301,
          -0.3186867833137512,
          0.20733128488063812,
          0.08316261321306229,
          -0.21470212936401367,
          -0.4594113528728485,
          0.19929413497447968,
          -0.13215933740139008,
          -0.27572280168533325,
          -0.6326136589050293,
          -0.011582235805690289,
          -0.18852970004081726,
          -0.17370156943798065,
          -0.38224002718925476,
          -0.04718640446662903,
          -0.5539187788963318,
          -0.4739648401737213,
          -0.25137951970100403,
          -0.42791569232940674,
          0.03430047258734703,
          -0.22574615478515625,
          -0.4721914231777191,
          -0.05773306265473366,
          0.02227645181119442,
          0.433048278093338,
          0.32476162910461426,
          0.30274614691734314,
          0.40546634793281555,
          0.17770101130008698,
          -0.1999390721321106,
          -0.39207056164741516,
          -0.5636996626853943,
          -0.13425223529338837,
          0.22454823553562164,
          -0.22886739671230316,
          -0.14915870130062103,
          -0.12062698602676392,
          -0.4051032066345215,
          -0.21902421116828918,
          0.13776586949825287,
          -0.24750709533691406,
          -0.09957075119018555,
          0.005220772698521614,
          -0.20218421518802643,
          -0.019510477781295776,
          -0.0075511387549340725,
          -0.433870792388916,
          -0.1999499499797821,
          -0.40110620856285095,
          -0.15160462260246277,
          -0.3956156373023987,
          -0.05103089660406113,
          -0.16364546120166779,
          -0.2534949481487274,
          -0.2885782718658447
         ],
         "yaxis": "y"
        },
        {
         "customdata": [
          [
           "AEP",
           "PUBLIC UTILITIES",
           "ELECTRIC UTILITIES: CENTRAL"
          ],
          [
           "ALE",
           "PUBLIC UTILITIES",
           "POWER GENERATION"
          ],
          [
           "ATO",
           "PUBLIC UTILITIES",
           "OIL/GAS TRANSMISSION"
          ],
          [
           "AVA",
           "PUBLIC UTILITIES",
           "POWER GENERATION"
          ],
          [
           "AWR",
           "PUBLIC UTILITIES",
           "WATER SUPPLY"
          ],
          [
           "BCE",
           "PUBLIC UTILITIES",
           "TELECOMMUNICATIONS EQUIPMENT"
          ],
          [
           "BKH",
           "PUBLIC UTILITIES",
           "ELECTRIC UTILITIES: CENTRAL"
          ],
          [
           "BT",
           "PUBLIC UTILITIES",
           "TELECOMMUNICATIONS EQUIPMENT"
          ],
          [
           "CBB",
           "PUBLIC UTILITIES",
           "TELECOMMUNICATIONS EQUIPMENT"
          ],
          [
           "CMS",
           "PUBLIC UTILITIES",
           "POWER GENERATION"
          ],
          [
           "CNP",
           "PUBLIC UTILITIES",
           "ELECTRIC UTILITIES: CENTRAL"
          ],
          [
           "CTL",
           "PUBLIC UTILITIES",
           "TELECOMMUNICATIONS EQUIPMENT"
          ],
          [
           "CWT",
           "PUBLIC UTILITIES",
           "WATER SUPPLY"
          ],
          [
           "D",
           "PUBLIC UTILITIES",
           "ELECTRIC UTILITIES: CENTRAL"
          ],
          [
           "DTE",
           "PUBLIC UTILITIES",
           "ELECTRIC UTILITIES: CENTRAL"
          ],
          [
           "DUK",
           "PUBLIC UTILITIES",
           "POWER GENERATION"
          ],
          [
           "ED",
           "PUBLIC UTILITIES",
           "POWER GENERATION"
          ],
          [
           "EIX",
           "PUBLIC UTILITIES",
           "ELECTRIC UTILITIES: CENTRAL"
          ],
          [
           "ES",
           "PUBLIC UTILITIES",
           "ELECTRIC UTILITIES: CENTRAL"
          ],
          [
           "ETR",
           "PUBLIC UTILITIES",
           "ELECTRIC UTILITIES: CENTRAL"
          ],
          [
           "EXC",
           "PUBLIC UTILITIES",
           "POWER GENERATION"
          ],
          [
           "FTR",
           "PUBLIC UTILITIES",
           "TELECOMMUNICATIONS EQUIPMENT"
          ],
          [
           "HE",
           "PUBLIC UTILITIES",
           "ELECTRIC UTILITIES: CENTRAL"
          ],
          [
           "IDA",
           "PUBLIC UTILITIES",
           "ELECTRIC UTILITIES: CENTRAL"
          ],
          [
           "LNT",
           "PUBLIC UTILITIES",
           "POWER GENERATION"
          ],
          [
           "NEE",
           "PUBLIC UTILITIES",
           "ELECTRIC UTILITIES: CENTRAL"
          ],
          [
           "NFG",
           "PUBLIC UTILITIES",
           "OIL/GAS TRANSMISSION"
          ],
          [
           "NI",
           "PUBLIC UTILITIES",
           "POWER GENERATION"
          ],
          [
           "NJR",
           "PUBLIC UTILITIES",
           "OIL/GAS TRANSMISSION"
          ],
          [
           "NWN",
           "PUBLIC UTILITIES",
           "OIL/GAS TRANSMISSION"
          ],
          [
           "OGE",
           "PUBLIC UTILITIES",
           "ELECTRIC UTILITIES: CENTRAL"
          ],
          [
           "OKE",
           "PUBLIC UTILITIES",
           "OIL & GAS PRODUCTION"
          ],
          [
           "OTTR",
           "PUBLIC UTILITIES",
           "ELECTRIC UTILITIES: CENTRAL"
          ],
          [
           "PCG",
           "PUBLIC UTILITIES",
           "POWER GENERATION"
          ],
          [
           "PEG",
           "PUBLIC UTILITIES",
           "POWER GENERATION"
          ],
          [
           "PHI",
           "PUBLIC UTILITIES",
           "TELECOMMUNICATIONS EQUIPMENT"
          ],
          [
           "PNM",
           "PUBLIC UTILITIES",
           "ELECTRIC UTILITIES: CENTRAL"
          ],
          [
           "PNW",
           "PUBLIC UTILITIES",
           "ELECTRIC UTILITIES: CENTRAL"
          ],
          [
           "PPL",
           "PUBLIC UTILITIES",
           "ELECTRIC UTILITIES: CENTRAL"
          ],
          [
           "S",
           "PUBLIC UTILITIES",
           "TELECOMMUNICATIONS EQUIPMENT"
          ],
          [
           "SCG",
           "PUBLIC UTILITIES",
           "POWER GENERATION"
          ],
          [
           "SJI",
           "PUBLIC UTILITIES",
           "OIL/GAS TRANSMISSION"
          ],
          [
           "SO",
           "PUBLIC UTILITIES",
           "ELECTRIC UTILITIES: CENTRAL"
          ],
          [
           "SR",
           "PUBLIC UTILITIES",
           "OIL/GAS TRANSMISSION"
          ],
          [
           "SWX",
           "PUBLIC UTILITIES",
           "OIL & GAS PRODUCTION"
          ],
          [
           "T",
           "PUBLIC UTILITIES",
           "TELECOMMUNICATIONS EQUIPMENT"
          ],
          [
           "TEF",
           "PUBLIC UTILITIES",
           "TELECOMMUNICATIONS EQUIPMENT"
          ],
          [
           "TRP",
           "PUBLIC UTILITIES",
           "NATURAL GAS DISTRIBUTION"
          ],
          [
           "UGI",
           "PUBLIC UTILITIES",
           "NATURAL GAS DISTRIBUTION"
          ],
          [
           "USM",
           "PUBLIC UTILITIES",
           "TELECOMMUNICATIONS EQUIPMENT"
          ],
          [
           "VOD",
           "PUBLIC UTILITIES",
           "TELECOMMUNICATIONS EQUIPMENT"
          ],
          [
           "VVC",
           "PUBLIC UTILITIES",
           "NATURAL GAS DISTRIBUTION"
          ],
          [
           "VZ",
           "PUBLIC UTILITIES",
           "TELECOMMUNICATIONS EQUIPMENT"
          ],
          [
           "WEC",
           "PUBLIC UTILITIES",
           "POWER GENERATION"
          ],
          [
           "WM",
           "PUBLIC UTILITIES",
           "ENVIRONMENTAL SERVICES"
          ],
          [
           "WMB",
           "PUBLIC UTILITIES",
           "NATURAL GAS DISTRIBUTION"
          ],
          [
           "WTR",
           "PUBLIC UTILITIES",
           "WATER SUPPLY"
          ]
         ],
         "hovertemplate": "<b>%{hovertext}</b><br><br>Sector=%{customdata[1]}<br>PC1=%{x}<br>PC2=%{y}<br>ticker=%{customdata[0]}<br>industry=%{customdata[2]}<extra></extra>",
         "hovertext": [
          "ELECTRIC UTILITIES: CENTRAL",
          "POWER GENERATION",
          "OIL/GAS TRANSMISSION",
          "POWER GENERATION",
          "WATER SUPPLY",
          "TELECOMMUNICATIONS EQUIPMENT",
          "ELECTRIC UTILITIES: CENTRAL",
          "TELECOMMUNICATIONS EQUIPMENT",
          "TELECOMMUNICATIONS EQUIPMENT",
          "POWER GENERATION",
          "ELECTRIC UTILITIES: CENTRAL",
          "TELECOMMUNICATIONS EQUIPMENT",
          "WATER SUPPLY",
          "ELECTRIC UTILITIES: CENTRAL",
          "ELECTRIC UTILITIES: CENTRAL",
          "POWER GENERATION",
          "POWER GENERATION",
          "ELECTRIC UTILITIES: CENTRAL",
          "ELECTRIC UTILITIES: CENTRAL",
          "ELECTRIC UTILITIES: CENTRAL",
          "POWER GENERATION",
          "TELECOMMUNICATIONS EQUIPMENT",
          "ELECTRIC UTILITIES: CENTRAL",
          "ELECTRIC UTILITIES: CENTRAL",
          "POWER GENERATION",
          "ELECTRIC UTILITIES: CENTRAL",
          "OIL/GAS TRANSMISSION",
          "POWER GENERATION",
          "OIL/GAS TRANSMISSION",
          "OIL/GAS TRANSMISSION",
          "ELECTRIC UTILITIES: CENTRAL",
          "OIL & GAS PRODUCTION",
          "ELECTRIC UTILITIES: CENTRAL",
          "POWER GENERATION",
          "POWER GENERATION",
          "TELECOMMUNICATIONS EQUIPMENT",
          "ELECTRIC UTILITIES: CENTRAL",
          "ELECTRIC UTILITIES: CENTRAL",
          "ELECTRIC UTILITIES: CENTRAL",
          "TELECOMMUNICATIONS EQUIPMENT",
          "POWER GENERATION",
          "OIL/GAS TRANSMISSION",
          "ELECTRIC UTILITIES: CENTRAL",
          "OIL/GAS TRANSMISSION",
          "OIL & GAS PRODUCTION",
          "TELECOMMUNICATIONS EQUIPMENT",
          "TELECOMMUNICATIONS EQUIPMENT",
          "NATURAL GAS DISTRIBUTION",
          "NATURAL GAS DISTRIBUTION",
          "TELECOMMUNICATIONS EQUIPMENT",
          "TELECOMMUNICATIONS EQUIPMENT",
          "NATURAL GAS DISTRIBUTION",
          "TELECOMMUNICATIONS EQUIPMENT",
          "POWER GENERATION",
          "ENVIRONMENTAL SERVICES",
          "NATURAL GAS DISTRIBUTION",
          "WATER SUPPLY"
         ],
         "legendgroup": "PUBLIC UTILITIES",
         "marker": {
          "color": "#6A76FC",
          "line": {
           "color": "DarkSlateGrey",
           "width": 1
          },
          "opacity": 0.7,
          "size": 8,
          "symbol": "square"
         },
         "mode": "markers",
         "name": "PUBLIC UTILITIES",
         "orientation": "v",
         "showlegend": true,
         "type": "scatter",
         "x": [
          0.11819026619195938,
          0.11880558729171753,
          0.17400586605072021,
          -0.03414652496576309,
          0.08381867408752441,
          0.16554366052150726,
          0.11977215111255646,
          0.025844795629382133,
          0.046777717769145966,
          -0.04506034031510353,
          0.6251506805419922,
          0.23757417500019073,
          0.16943946480751038,
          0.2274227887392044,
          0.13100787997245789,
          0.12895122170448303,
          0.1570506989955902,
          0.26799261569976807,
          0.45851829648017883,
          0.1984284520149231,
          0.30422544479370117,
          0.4737465977668762,
          0.4195678234100342,
          0.00402099872007966,
          0.12944930791854858,
          0.24026606976985931,
          0.6266846060752869,
          0.32208898663520813,
          0.15292435884475708,
          0.07748539745807648,
          0.2686396837234497,
          0.41288238763809204,
          0.5097014904022217,
          0.0482308529317379,
          0.33697471022605896,
          0.3449837565422058,
          0.47690191864967346,
          0.12659764289855957,
          0.05669927969574928,
          -0.0036215796135365963,
          -0.28023919463157654,
          0.29635655879974365,
          0.40149739384651184,
          0.13832835853099823,
          -0.10870306938886642,
          0.13950051367282867,
          0.42253926396369934,
          0.43401026725769043,
          0.4077529013156891,
          0.28109997510910034,
          0.007550042122602463,
          0.30225658416748047,
          0.45457741618156433,
          0.26429852843284607,
          0.17748062312602997,
          0.46984943747520447,
          -0.05486104637384415
         ],
         "xaxis": "x",
         "y": [
          0.06258240342140198,
          -0.10756657272577286,
          -0.07340516149997711,
          0.25030645728111267,
          0.301225483417511,
          0.11678947508335114,
          0.04636917635798454,
          0.04792897030711174,
          0.24674922227859497,
          0.20843172073364258,
          -0.08119619637727737,
          0.23871202766895294,
          -0.013685585930943489,
          0.01492292620241642,
          -0.20701277256011963,
          -0.02966974303126335,
          -0.01701168157160282,
          0.09818588942289352,
          -0.01103118620812893,
          -0.176762655377388,
          -0.2188640832901001,
          -0.03412388265132904,
          -0.04515092074871063,
          0.14642827212810516,
          -0.07195829600095749,
          -0.24976612627506256,
          0.0025872765108942986,
          0.24471689760684967,
          -0.09506671130657196,
          -0.016911696642637253,
          0.043819889426231384,
          0.05149446800351143,
          -0.12491454184055328,
          0.2714294195175171,
          -0.16784319281578064,
          0.2103404551744461,
          0.08917795121669769,
          0.08140132576227188,
          0.27208462357521057,
          0.1973055899143219,
          -0.0935182049870491,
          -0.08971215784549713,
          -0.14580541849136353,
          -0.027770519256591797,
          -0.19843511283397675,
          0.1687079668045044,
          -0.1090068370103836,
          -0.41319137811660767,
          0.03437082841992378,
          0.33994847536087036,
          0.28612008690834045,
          -0.18122340738773346,
          0.14072099328041077,
          -0.25123026967048645,
          -0.20693792402744293,
          -0.03110472485423088,
          0.07163473218679428
         ],
         "yaxis": "y"
        },
        {
         "customdata": [
          [
           "ANDV",
           "ENERGY",
           "INTEGRATED OIL COMPANIES"
          ],
          [
           "APA",
           "ENERGY",
           "OIL & GAS PRODUCTION"
          ],
          [
           "APC",
           "ENERGY",
           "OIL & GAS PRODUCTION"
          ],
          [
           "BC",
           "ENERGY",
           "INDUSTRIAL MACHINERY/COMPONENTS"
          ],
          [
           "BGG",
           "ENERGY",
           "INDUSTRIAL MACHINERY/COMPONENTS"
          ],
          [
           "BHGE",
           "ENERGY",
           "METAL FABRICATIONS"
          ],
          [
           "BP",
           "ENERGY",
           "INTEGRATED OIL COMPANIES"
          ],
          [
           "BPL",
           "ENERGY",
           "NATURAL GAS DISTRIBUTION"
          ],
          [
           "BPT",
           "ENERGY",
           "INTEGRATED OIL COMPANIES"
          ],
          [
           "CMI",
           "ENERGY",
           "INDUSTRIAL MACHINERY/COMPONENTS"
          ],
          [
           "COG",
           "ENERGY",
           "OIL & GAS PRODUCTION"
          ],
          [
           "COP",
           "ENERGY",
           "INTEGRATED OIL COMPANIES"
          ],
          [
           "CRK",
           "ENERGY",
           "OIL & GAS PRODUCTION"
          ],
          [
           "CVX",
           "ENERGY",
           "INTEGRATED OIL COMPANIES"
          ],
          [
           "DVN",
           "ENERGY",
           "OIL & GAS PRODUCTION"
          ],
          [
           "EGN",
           "ENERGY",
           "OIL & GAS PRODUCTION"
          ],
          [
           "EMR",
           "ENERGY",
           "CONSUMER ELECTRONICS/APPLIANCES"
          ],
          [
           "EOG",
           "ENERGY",
           "OIL & GAS PRODUCTION"
          ],
          [
           "EQT",
           "ENERGY",
           "OIL & GAS PRODUCTION"
          ],
          [
           "ESV",
           "ENERGY",
           "OIL & GAS PRODUCTION"
          ],
          [
           "GE",
           "ENERGY",
           "CONSUMER ELECTRONICS/APPLIANCES"
          ],
          [
           "HAL",
           "ENERGY",
           "OILFIELD SERVICES/EQUIPMENT"
          ],
          [
           "HES",
           "ENERGY",
           "INTEGRATED OIL COMPANIES"
          ],
          [
           "HP",
           "ENERGY",
           "OIL & GAS PRODUCTION"
          ],
          [
           "INT",
           "ENERGY",
           "OIL REFINING/MARKETING"
          ],
          [
           "MGEE",
           "ENERGY",
           "ELECTRIC UTILITIES: CENTRAL"
          ],
          [
           "MRO",
           "ENERGY",
           "OIL & GAS PRODUCTION"
          ],
          [
           "MUR",
           "ENERGY",
           "OIL & GAS PRODUCTION"
          ],
          [
           "NBL",
           "ENERGY",
           "OIL & GAS PRODUCTION"
          ],
          [
           "NBR",
           "ENERGY",
           "OIL & GAS PRODUCTION"
          ],
          [
           "NE",
           "ENERGY",
           "OIL & GAS PRODUCTION"
          ],
          [
           "OII",
           "ENERGY",
           "OILFIELD SERVICES/EQUIPMENT"
          ],
          [
           "OXY",
           "ENERGY",
           "OIL & GAS PRODUCTION"
          ],
          [
           "PHG",
           "ENERGY",
           "CONSUMER ELECTRONICS/APPLIANCES"
          ],
          [
           "PKD",
           "ENERGY",
           "OIL & GAS PRODUCTION"
          ],
          [
           "RDC",
           "ENERGY",
           "OIL & GAS PRODUCTION"
          ],
          [
           "SBR",
           "ENERGY",
           "OIL & GAS PRODUCTION"
          ],
          [
           "SJT",
           "ENERGY",
           "OIL & GAS PRODUCTION"
          ],
          [
           "SLB",
           "ENERGY",
           "OILFIELD SERVICES/EQUIPMENT"
          ],
          [
           "SSL",
           "ENERGY",
           "OIL & GAS PRODUCTION"
          ],
          [
           "SWN",
           "ENERGY",
           "OIL & GAS PRODUCTION"
          ],
          [
           "TTI",
           "ENERGY",
           "OIL & GAS PRODUCTION"
          ],
          [
           "UNT",
           "ENERGY",
           "OIL & GAS PRODUCTION"
          ],
          [
           "VLO",
           "ENERGY",
           "INTEGRATED OIL COMPANIES"
          ],
          [
           "WFT",
           "ENERGY",
           "METAL FABRICATIONS"
          ],
          [
           "XOM",
           "ENERGY",
           "INTEGRATED OIL COMPANIES"
          ]
         ],
         "hovertemplate": "<b>%{hovertext}</b><br><br>Sector=%{customdata[1]}<br>PC1=%{x}<br>PC2=%{y}<br>ticker=%{customdata[0]}<br>industry=%{customdata[2]}<extra></extra>",
         "hovertext": [
          "INTEGRATED OIL COMPANIES",
          "OIL & GAS PRODUCTION",
          "OIL & GAS PRODUCTION",
          "INDUSTRIAL MACHINERY/COMPONENTS",
          "INDUSTRIAL MACHINERY/COMPONENTS",
          "METAL FABRICATIONS",
          "INTEGRATED OIL COMPANIES",
          "NATURAL GAS DISTRIBUTION",
          "INTEGRATED OIL COMPANIES",
          "INDUSTRIAL MACHINERY/COMPONENTS",
          "OIL & GAS PRODUCTION",
          "INTEGRATED OIL COMPANIES",
          "OIL & GAS PRODUCTION",
          "INTEGRATED OIL COMPANIES",
          "OIL & GAS PRODUCTION",
          "OIL & GAS PRODUCTION",
          "CONSUMER ELECTRONICS/APPLIANCES",
          "OIL & GAS PRODUCTION",
          "OIL & GAS PRODUCTION",
          "OIL & GAS PRODUCTION",
          "CONSUMER ELECTRONICS/APPLIANCES",
          "OILFIELD SERVICES/EQUIPMENT",
          "INTEGRATED OIL COMPANIES",
          "OIL & GAS PRODUCTION",
          "OIL REFINING/MARKETING",
          "ELECTRIC UTILITIES: CENTRAL",
          "OIL & GAS PRODUCTION",
          "OIL & GAS PRODUCTION",
          "OIL & GAS PRODUCTION",
          "OIL & GAS PRODUCTION",
          "OIL & GAS PRODUCTION",
          "OILFIELD SERVICES/EQUIPMENT",
          "OIL & GAS PRODUCTION",
          "CONSUMER ELECTRONICS/APPLIANCES",
          "OIL & GAS PRODUCTION",
          "OIL & GAS PRODUCTION",
          "OIL & GAS PRODUCTION",
          "OIL & GAS PRODUCTION",
          "OILFIELD SERVICES/EQUIPMENT",
          "OIL & GAS PRODUCTION",
          "OIL & GAS PRODUCTION",
          "OIL & GAS PRODUCTION",
          "OIL & GAS PRODUCTION",
          "INTEGRATED OIL COMPANIES",
          "METAL FABRICATIONS",
          "INTEGRATED OIL COMPANIES"
         ],
         "legendgroup": "ENERGY",
         "marker": {
          "color": "#FED4C4",
          "line": {
           "color": "DarkSlateGrey",
           "width": 1
          },
          "opacity": 0.7,
          "size": 8,
          "symbol": "x"
         },
         "mode": "markers",
         "name": "ENERGY",
         "orientation": "v",
         "showlegend": true,
         "type": "scatter",
         "x": [
          0.25485771894454956,
          0.5488737225532532,
          0.31398510932922363,
          -0.7715663909912109,
          -0.42210182547569275,
          0.3174208998680115,
          0.4071177542209625,
          0.4646078944206238,
          0.8468361496925354,
          -0.15493711829185486,
          0.6400204300880432,
          0.4439058005809784,
          0.6032522916793823,
          0.3769327700138092,
          0.4850793182849884,
          0.5807238221168518,
          0.17152999341487885,
          0.6071082353591919,
          0.37367209792137146,
          0.8662768602371216,
          -0.2524239718914032,
          0.5112156867980957,
          0.6517626643180847,
          0.4856567084789276,
          0.4456903040409088,
          0.08970386534929276,
          0.5905299782752991,
          0.529668927192688,
          0.689792811870575,
          0.47536468505859375,
          0.6589093208312988,
          0.6049480438232422,
          0.5810201168060303,
          -0.08391077816486359,
          0.2577536404132843,
          0.7131428718566895,
          0.5328048467636108,
          0.5432801842689514,
          0.3748209774494171,
          0.7625942826271057,
          0.6253241896629333,
          0.3929649889469147,
          0.2567841708660126,
          0.4770360589027405,
          0.4110904037952423,
          0.46464037895202637
         ],
         "xaxis": "x",
         "y": [
          -0.14671403169631958,
          -0.4196740388870239,
          -0.3022562563419342,
          -0.09858758002519608,
          -0.2853063941001892,
          -0.2510877847671509,
          -0.06497266888618469,
          0.059621915221214294,
          0.1720213145017624,
          0.1845114529132843,
          -0.4251541793346405,
          -0.19631995260715485,
          -0.41656842827796936,
          -0.03874276205897331,
          -0.4997216761112213,
          -0.41351082921028137,
          -0.08522234857082367,
          -0.3723830580711365,
          -0.36978790163993835,
          -0.31854867935180664,
          -0.08931992202997208,
          -0.2104293555021286,
          -0.2671223282814026,
          -0.18309111893177032,
          -0.31510886549949646,
          0.2126186341047287,
          -0.3631807565689087,
          -0.5285376310348511,
          -0.21642078459262848,
          -0.24593716859817505,
          -0.3479790687561035,
          -0.214268758893013,
          -0.056415677070617676,
          0.24189168214797974,
          -0.24625401198863983,
          -0.11176507920026779,
          -0.15868256986141205,
          -0.16323162615299225,
          0.04606596380472183,
          -0.02455313317477703,
          -0.3608724772930145,
          -0.13215211033821106,
          -0.3533249795436859,
          -0.2012220174074173,
          -0.3497485816478729,
          -0.15110431611537933
         ],
         "yaxis": "y"
        }
       ],
       "layout": {
        "height": 550,
        "legend": {
         "orientation": "h",
         "title": {
          "text": "Sector"
         },
         "tracegroupgap": 0,
         "x": 1,
         "xanchor": "right",
         "y": 1.02,
         "yanchor": "bottom"
        },
        "margin": {
         "t": 60
        },
        "template": {
         "data": {
          "bar": [
           {
            "error_x": {
             "color": "#2a3f5f"
            },
            "error_y": {
             "color": "#2a3f5f"
            },
            "marker": {
             "line": {
              "color": "white",
              "width": 0.5
             },
             "pattern": {
              "fillmode": "overlay",
              "size": 10,
              "solidity": 0.2
             }
            },
            "type": "bar"
           }
          ],
          "barpolar": [
           {
            "marker": {
             "line": {
              "color": "white",
              "width": 0.5
             },
             "pattern": {
              "fillmode": "overlay",
              "size": 10,
              "solidity": 0.2
             }
            },
            "type": "barpolar"
           }
          ],
          "carpet": [
           {
            "aaxis": {
             "endlinecolor": "#2a3f5f",
             "gridcolor": "#C8D4E3",
             "linecolor": "#C8D4E3",
             "minorgridcolor": "#C8D4E3",
             "startlinecolor": "#2a3f5f"
            },
            "baxis": {
             "endlinecolor": "#2a3f5f",
             "gridcolor": "#C8D4E3",
             "linecolor": "#C8D4E3",
             "minorgridcolor": "#C8D4E3",
             "startlinecolor": "#2a3f5f"
            },
            "type": "carpet"
           }
          ],
          "choropleth": [
           {
            "colorbar": {
             "outlinewidth": 0,
             "ticks": ""
            },
            "type": "choropleth"
           }
          ],
          "contour": [
           {
            "colorbar": {
             "outlinewidth": 0,
             "ticks": ""
            },
            "colorscale": [
             [
              0,
              "#0d0887"
             ],
             [
              0.1111111111111111,
              "#46039f"
             ],
             [
              0.2222222222222222,
              "#7201a8"
             ],
             [
              0.3333333333333333,
              "#9c179e"
             ],
             [
              0.4444444444444444,
              "#bd3786"
             ],
             [
              0.5555555555555556,
              "#d8576b"
             ],
             [
              0.6666666666666666,
              "#ed7953"
             ],
             [
              0.7777777777777778,
              "#fb9f3a"
             ],
             [
              0.8888888888888888,
              "#fdca26"
             ],
             [
              1,
              "#f0f921"
             ]
            ],
            "type": "contour"
           }
          ],
          "contourcarpet": [
           {
            "colorbar": {
             "outlinewidth": 0,
             "ticks": ""
            },
            "type": "contourcarpet"
           }
          ],
          "heatmap": [
           {
            "colorbar": {
             "outlinewidth": 0,
             "ticks": ""
            },
            "colorscale": [
             [
              0,
              "#0d0887"
             ],
             [
              0.1111111111111111,
              "#46039f"
             ],
             [
              0.2222222222222222,
              "#7201a8"
             ],
             [
              0.3333333333333333,
              "#9c179e"
             ],
             [
              0.4444444444444444,
              "#bd3786"
             ],
             [
              0.5555555555555556,
              "#d8576b"
             ],
             [
              0.6666666666666666,
              "#ed7953"
             ],
             [
              0.7777777777777778,
              "#fb9f3a"
             ],
             [
              0.8888888888888888,
              "#fdca26"
             ],
             [
              1,
              "#f0f921"
             ]
            ],
            "type": "heatmap"
           }
          ],
          "heatmapgl": [
           {
            "colorbar": {
             "outlinewidth": 0,
             "ticks": ""
            },
            "colorscale": [
             [
              0,
              "#0d0887"
             ],
             [
              0.1111111111111111,
              "#46039f"
             ],
             [
              0.2222222222222222,
              "#7201a8"
             ],
             [
              0.3333333333333333,
              "#9c179e"
             ],
             [
              0.4444444444444444,
              "#bd3786"
             ],
             [
              0.5555555555555556,
              "#d8576b"
             ],
             [
              0.6666666666666666,
              "#ed7953"
             ],
             [
              0.7777777777777778,
              "#fb9f3a"
             ],
             [
              0.8888888888888888,
              "#fdca26"
             ],
             [
              1,
              "#f0f921"
             ]
            ],
            "type": "heatmapgl"
           }
          ],
          "histogram": [
           {
            "marker": {
             "pattern": {
              "fillmode": "overlay",
              "size": 10,
              "solidity": 0.2
             }
            },
            "type": "histogram"
           }
          ],
          "histogram2d": [
           {
            "colorbar": {
             "outlinewidth": 0,
             "ticks": ""
            },
            "colorscale": [
             [
              0,
              "#0d0887"
             ],
             [
              0.1111111111111111,
              "#46039f"
             ],
             [
              0.2222222222222222,
              "#7201a8"
             ],
             [
              0.3333333333333333,
              "#9c179e"
             ],
             [
              0.4444444444444444,
              "#bd3786"
             ],
             [
              0.5555555555555556,
              "#d8576b"
             ],
             [
              0.6666666666666666,
              "#ed7953"
             ],
             [
              0.7777777777777778,
              "#fb9f3a"
             ],
             [
              0.8888888888888888,
              "#fdca26"
             ],
             [
              1,
              "#f0f921"
             ]
            ],
            "type": "histogram2d"
           }
          ],
          "histogram2dcontour": [
           {
            "colorbar": {
             "outlinewidth": 0,
             "ticks": ""
            },
            "colorscale": [
             [
              0,
              "#0d0887"
             ],
             [
              0.1111111111111111,
              "#46039f"
             ],
             [
              0.2222222222222222,
              "#7201a8"
             ],
             [
              0.3333333333333333,
              "#9c179e"
             ],
             [
              0.4444444444444444,
              "#bd3786"
             ],
             [
              0.5555555555555556,
              "#d8576b"
             ],
             [
              0.6666666666666666,
              "#ed7953"
             ],
             [
              0.7777777777777778,
              "#fb9f3a"
             ],
             [
              0.8888888888888888,
              "#fdca26"
             ],
             [
              1,
              "#f0f921"
             ]
            ],
            "type": "histogram2dcontour"
           }
          ],
          "mesh3d": [
           {
            "colorbar": {
             "outlinewidth": 0,
             "ticks": ""
            },
            "type": "mesh3d"
           }
          ],
          "parcoords": [
           {
            "line": {
             "colorbar": {
              "outlinewidth": 0,
              "ticks": ""
             }
            },
            "type": "parcoords"
           }
          ],
          "pie": [
           {
            "automargin": true,
            "type": "pie"
           }
          ],
          "scatter": [
           {
            "fillpattern": {
             "fillmode": "overlay",
             "size": 10,
             "solidity": 0.2
            },
            "type": "scatter"
           }
          ],
          "scatter3d": [
           {
            "line": {
             "colorbar": {
              "outlinewidth": 0,
              "ticks": ""
             }
            },
            "marker": {
             "colorbar": {
              "outlinewidth": 0,
              "ticks": ""
             }
            },
            "type": "scatter3d"
           }
          ],
          "scattercarpet": [
           {
            "marker": {
             "colorbar": {
              "outlinewidth": 0,
              "ticks": ""
             }
            },
            "type": "scattercarpet"
           }
          ],
          "scattergeo": [
           {
            "marker": {
             "colorbar": {
              "outlinewidth": 0,
              "ticks": ""
             }
            },
            "type": "scattergeo"
           }
          ],
          "scattergl": [
           {
            "marker": {
             "colorbar": {
              "outlinewidth": 0,
              "ticks": ""
             }
            },
            "type": "scattergl"
           }
          ],
          "scattermapbox": [
           {
            "marker": {
             "colorbar": {
              "outlinewidth": 0,
              "ticks": ""
             }
            },
            "type": "scattermapbox"
           }
          ],
          "scatterpolar": [
           {
            "marker": {
             "colorbar": {
              "outlinewidth": 0,
              "ticks": ""
             }
            },
            "type": "scatterpolar"
           }
          ],
          "scatterpolargl": [
           {
            "marker": {
             "colorbar": {
              "outlinewidth": 0,
              "ticks": ""
             }
            },
            "type": "scatterpolargl"
           }
          ],
          "scatterternary": [
           {
            "marker": {
             "colorbar": {
              "outlinewidth": 0,
              "ticks": ""
             }
            },
            "type": "scatterternary"
           }
          ],
          "surface": [
           {
            "colorbar": {
             "outlinewidth": 0,
             "ticks": ""
            },
            "colorscale": [
             [
              0,
              "#0d0887"
             ],
             [
              0.1111111111111111,
              "#46039f"
             ],
             [
              0.2222222222222222,
              "#7201a8"
             ],
             [
              0.3333333333333333,
              "#9c179e"
             ],
             [
              0.4444444444444444,
              "#bd3786"
             ],
             [
              0.5555555555555556,
              "#d8576b"
             ],
             [
              0.6666666666666666,
              "#ed7953"
             ],
             [
              0.7777777777777778,
              "#fb9f3a"
             ],
             [
              0.8888888888888888,
              "#fdca26"
             ],
             [
              1,
              "#f0f921"
             ]
            ],
            "type": "surface"
           }
          ],
          "table": [
           {
            "cells": {
             "fill": {
              "color": "#EBF0F8"
             },
             "line": {
              "color": "white"
             }
            },
            "header": {
             "fill": {
              "color": "#C8D4E3"
             },
             "line": {
              "color": "white"
             }
            },
            "type": "table"
           }
          ]
         },
         "layout": {
          "annotationdefaults": {
           "arrowcolor": "#2a3f5f",
           "arrowhead": 0,
           "arrowwidth": 1
          },
          "autotypenumbers": "strict",
          "coloraxis": {
           "colorbar": {
            "outlinewidth": 0,
            "ticks": ""
           }
          },
          "colorscale": {
           "diverging": [
            [
             0,
             "#8e0152"
            ],
            [
             0.1,
             "#c51b7d"
            ],
            [
             0.2,
             "#de77ae"
            ],
            [
             0.3,
             "#f1b6da"
            ],
            [
             0.4,
             "#fde0ef"
            ],
            [
             0.5,
             "#f7f7f7"
            ],
            [
             0.6,
             "#e6f5d0"
            ],
            [
             0.7,
             "#b8e186"
            ],
            [
             0.8,
             "#7fbc41"
            ],
            [
             0.9,
             "#4d9221"
            ],
            [
             1,
             "#276419"
            ]
           ],
           "sequential": [
            [
             0,
             "#0d0887"
            ],
            [
             0.1111111111111111,
             "#46039f"
            ],
            [
             0.2222222222222222,
             "#7201a8"
            ],
            [
             0.3333333333333333,
             "#9c179e"
            ],
            [
             0.4444444444444444,
             "#bd3786"
            ],
            [
             0.5555555555555556,
             "#d8576b"
            ],
            [
             0.6666666666666666,
             "#ed7953"
            ],
            [
             0.7777777777777778,
             "#fb9f3a"
            ],
            [
             0.8888888888888888,
             "#fdca26"
            ],
            [
             1,
             "#f0f921"
            ]
           ],
           "sequentialminus": [
            [
             0,
             "#0d0887"
            ],
            [
             0.1111111111111111,
             "#46039f"
            ],
            [
             0.2222222222222222,
             "#7201a8"
            ],
            [
             0.3333333333333333,
             "#9c179e"
            ],
            [
             0.4444444444444444,
             "#bd3786"
            ],
            [
             0.5555555555555556,
             "#d8576b"
            ],
            [
             0.6666666666666666,
             "#ed7953"
            ],
            [
             0.7777777777777778,
             "#fb9f3a"
            ],
            [
             0.8888888888888888,
             "#fdca26"
            ],
            [
             1,
             "#f0f921"
            ]
           ]
          },
          "colorway": [
           "#636efa",
           "#EF553B",
           "#00cc96",
           "#ab63fa",
           "#FFA15A",
           "#19d3f3",
           "#FF6692",
           "#B6E880",
           "#FF97FF",
           "#FECB52"
          ],
          "font": {
           "color": "#2a3f5f"
          },
          "geo": {
           "bgcolor": "white",
           "lakecolor": "white",
           "landcolor": "white",
           "showlakes": true,
           "showland": true,
           "subunitcolor": "#C8D4E3"
          },
          "hoverlabel": {
           "align": "left"
          },
          "hovermode": "closest",
          "mapbox": {
           "style": "light"
          },
          "paper_bgcolor": "white",
          "plot_bgcolor": "white",
          "polar": {
           "angularaxis": {
            "gridcolor": "#EBF0F8",
            "linecolor": "#EBF0F8",
            "ticks": ""
           },
           "bgcolor": "white",
           "radialaxis": {
            "gridcolor": "#EBF0F8",
            "linecolor": "#EBF0F8",
            "ticks": ""
           }
          },
          "scene": {
           "xaxis": {
            "backgroundcolor": "white",
            "gridcolor": "#DFE8F3",
            "gridwidth": 2,
            "linecolor": "#EBF0F8",
            "showbackground": true,
            "ticks": "",
            "zerolinecolor": "#EBF0F8"
           },
           "yaxis": {
            "backgroundcolor": "white",
            "gridcolor": "#DFE8F3",
            "gridwidth": 2,
            "linecolor": "#EBF0F8",
            "showbackground": true,
            "ticks": "",
            "zerolinecolor": "#EBF0F8"
           },
           "zaxis": {
            "backgroundcolor": "white",
            "gridcolor": "#DFE8F3",
            "gridwidth": 2,
            "linecolor": "#EBF0F8",
            "showbackground": true,
            "ticks": "",
            "zerolinecolor": "#EBF0F8"
           }
          },
          "shapedefaults": {
           "line": {
            "color": "#2a3f5f"
           }
          },
          "ternary": {
           "aaxis": {
            "gridcolor": "#DFE8F3",
            "linecolor": "#A2B1C6",
            "ticks": ""
           },
           "baxis": {
            "gridcolor": "#DFE8F3",
            "linecolor": "#A2B1C6",
            "ticks": ""
           },
           "bgcolor": "white",
           "caxis": {
            "gridcolor": "#DFE8F3",
            "linecolor": "#A2B1C6",
            "ticks": ""
           }
          },
          "title": {
           "x": 0.05
          },
          "xaxis": {
           "automargin": true,
           "gridcolor": "#EBF0F8",
           "linecolor": "#EBF0F8",
           "ticks": "",
           "title": {
            "standoff": 15
           },
           "zerolinecolor": "#EBF0F8",
           "zerolinewidth": 2
          },
          "yaxis": {
           "automargin": true,
           "gridcolor": "#EBF0F8",
           "linecolor": "#EBF0F8",
           "ticks": "",
           "title": {
            "standoff": 15
           },
           "zerolinecolor": "#EBF0F8",
           "zerolinewidth": 2
          }
         }
        },
        "width": 650,
        "xaxis": {
         "anchor": "y",
         "domain": [
          0,
          1
         ],
         "title": {
          "text": "PC1"
         }
        },
        "yaxis": {
         "anchor": "x",
         "domain": [
          0,
          1
         ],
         "title": {
          "text": "PC2"
         }
        }
       }
      }
     },
     "metadata": {},
     "output_type": "display_data"
    }
   ],
   "source": [
    "from utils.visualisation_functions import pca_plot_from_embeddings\n",
    "\n",
    "pca_plot_from_embeddings(\n",
    "    embedding_matrix=embeddings.weight.detach().numpy(),\n",
    "    sectors=data.sectors,\n",
    "    tickers=data.tickers,\n",
    "    industries=data.industries,\n",
    "    names=data.names,\n",
    "    dimensions=2,\n",
    "    reduced=True,\n",
    "    method=\"PCA\",\n",
    "    return_df=False,\n",
    "    rand_state=None,\n",
    ")"
   ]
  },
  {
   "cell_type": "code",
   "execution_count": null,
   "metadata": {},
   "outputs": [],
   "source": []
  }
 ],
 "metadata": {
  "kernelspec": {
   "display_name": "phd",
   "language": "python",
   "name": "python3"
  },
  "language_info": {
   "codemirror_mode": {
    "name": "ipython",
    "version": 3
   },
   "file_extension": ".py",
   "mimetype": "text/x-python",
   "name": "python",
   "nbconvert_exporter": "python",
   "pygments_lexer": "ipython3",
   "version": "3.11.6"
  }
 },
 "nbformat": 4,
 "nbformat_minor": 2
}
