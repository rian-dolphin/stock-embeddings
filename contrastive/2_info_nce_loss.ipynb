{
 "cells": [
  {
   "cell_type": "markdown",
   "metadata": {},
   "source": [
    "### InfoNCE Contrastive Loss\n",
    "https://arxiv.org/pdf/1807.03748.pdf\n",
    "\n",
    "InfoNCE loss implementation:\n",
    "- Anchor with single positive and multiple negatives.\n",
    "- Positive is most similar \n",
    "- Negatives are least similar"
   ]
  },
  {
   "cell_type": "code",
   "execution_count": 1,
   "metadata": {},
   "outputs": [],
   "source": [
    "%load_ext autoreload\n",
    "%autoreload 2\n",
    "import sys\n",
    "sys.path.append('../')"
   ]
  },
  {
   "cell_type": "code",
   "execution_count": 2,
   "metadata": {},
   "outputs": [],
   "source": [
    "from utils.returns_data_class import ReturnsData\n",
    "PERIOD = 20\n",
    "data = ReturnsData(\n",
    "    daily_returns_path=\"../Data/returns_df_611.csv\",\n",
    "    extras_path=\"../Data/historical_stocks.csv\",\n",
    ")\n",
    "data.change_returns_period(PERIOD)\n",
    "X = data.returns_df.values.T"
   ]
  },
  {
   "cell_type": "code",
   "execution_count": 3,
   "metadata": {},
   "outputs": [
    {
     "data": {
      "text/plain": [
       "(611, 234)"
      ]
     },
     "execution_count": 3,
     "metadata": {},
     "output_type": "execute_result"
    }
   ],
   "source": [
    "X.shape"
   ]
  },
  {
   "cell_type": "code",
   "execution_count": 19,
   "metadata": {},
   "outputs": [
    {
     "name": "stdout",
     "output_type": "stream",
     "text": [
      "Context Size: 1, Period: 10, Stride: 3\n",
      "Number of Negative Samples: 10\n",
      "Number (anchor, positive, negative) samples: 45825\n"
     ]
    }
   ],
   "source": [
    "num_TS = X.shape[0]\n",
    "num_pos_samples = 1\n",
    "period = 10\n",
    "stride = 3\n",
    "num_neg_samples = 10\n",
    "\n",
    "print(f\"Context Size: {num_pos_samples}, Period: {period}, Stride: {stride}\")\n",
    "print(f\"Number of Negative Samples: {num_neg_samples}\")\n",
    "\n",
    "from utils.context import get_tgt_context_euclidean_multiprocess\n",
    "positive_tgt_context_sets = get_tgt_context_euclidean_multiprocess(ts_array=X, m=period, k=num_pos_samples, stride=stride, z_normalize=False, verbose=False)\n",
    "negative_tgt_context_sets = get_tgt_context_euclidean_multiprocess(ts_array=X, m=period, k=num_neg_samples, stride=stride, z_normalize=False, top_k=False, verbose=False)\n",
    "print(f\"Number (anchor, positive, negative) samples: {len(positive_tgt_context_sets)}\")"
   ]
  },
  {
   "cell_type": "code",
   "execution_count": 20,
   "metadata": {},
   "outputs": [],
   "source": [
    "index_samples = []\n",
    "for pos, neg in zip(positive_tgt_context_sets,negative_tgt_context_sets):\n",
    "    index_samples.append((pos[0], pos[1][0], neg[1]))"
   ]
  },
  {
   "cell_type": "code",
   "execution_count": 21,
   "metadata": {},
   "outputs": [],
   "source": [
    "import torch\n",
    "from torch.utils.data import Dataset, DataLoader\n",
    "\n",
    "\n",
    "class NPairDataset(Dataset):\n",
    "    def __init__(self, index_samples):\n",
    "        self.index_samples = index_samples\n",
    "\n",
    "    def __len__(self):\n",
    "        return len(self.index_samples)\n",
    "\n",
    "    def __getitem__(self, idx):\n",
    "        anchor_idx, positive_idx, negative_indices = self.index_samples[idx]\n",
    "        # Convert negative indices list to tensor\n",
    "        negative_indices_tensor = torch.tensor(negative_indices)\n",
    "        return anchor_idx, positive_idx, negative_indices_tensor\n",
    "\n",
    "\n",
    "def normalize_embeddings(embeddings):\n",
    "    with torch.no_grad():  # Ensure no gradients are computed in this block\n",
    "        norms = embeddings.weight.norm(dim=1, keepdim=True)\n",
    "        embeddings.weight.data = embeddings.weight.data / norms\n",
    "    return embeddings\n",
    "\n",
    "\n",
    "def info_nce_loss(\n",
    "    anchor_embeddings: torch.Tensor,\n",
    "    positive_embeddings: torch.Tensor,\n",
    "    negative_embeddings: torch.Tensor,\n",
    ") -> torch.Tensor:\n",
    "    \"\"\"See Equation 6.20 in Bishop Deep Learning (called NCE)\n",
    "\n",
    "    Args:\n",
    "        anchor_embeddings (torch.Tensor): shape (batch_size, embedding_dim)\n",
    "        positive_embeddings (torch.Tensor): (batch_size, embedding_dim)\n",
    "        negative_embeddings (torch.Tensor): (batch_size, num_negative_samples, embedding_dim)\n",
    "\n",
    "    Returns:\n",
    "        torch.Tensor: _description_\n",
    "    \"\"\"\n",
    "    numerator = torch.exp(\n",
    "        torch.einsum(\"bd,bd->b\", anchor_embeddings, positive_embeddings)\n",
    "    )\n",
    "    denominator = numerator + torch.sum(\n",
    "        torch.exp(torch.einsum(\"bd,bnd->bn\", anchor_embeddings, negative_embeddings)),\n",
    "        dim=1,\n",
    "    )\n",
    "    loss = torch.sum(-torch.log(numerator / denominator))\n",
    "    return loss"
   ]
  },
  {
   "cell_type": "code",
   "execution_count": 23,
   "metadata": {},
   "outputs": [
    {
     "name": "stdout",
     "output_type": "stream",
     "text": [
      "Epoch [1/100], Loss: 4740.7499203889265\n",
      "Epoch [11/100], Loss: 2416.5103759765625\n",
      "Epoch [21/100], Loss: 2421.149169921875\n",
      "Epoch [31/100], Loss: 2415.4263332201085\n",
      "Epoch [41/100], Loss: 2418.4303509256115\n",
      "Epoch [51/100], Loss: 2412.4856142790422\n",
      "Epoch [61/100], Loss: 2418.1203002929688\n",
      "Epoch [71/100], Loss: 2415.030082370924\n"
     ]
    },
    {
     "ename": "KeyboardInterrupt",
     "evalue": "",
     "output_type": "error",
     "traceback": [
      "\u001b[0;31m---------------------------------------------------------------------------\u001b[0m",
      "\u001b[0;31mKeyboardInterrupt\u001b[0m                         Traceback (most recent call last)",
      "Cell \u001b[0;32mIn[23], line 31\u001b[0m\n\u001b[1;32m     28\u001b[0m \u001b[38;5;66;03m# normalise the embeddings to prevent degenerate solution\u001b[39;00m\n\u001b[1;32m     29\u001b[0m embeddings \u001b[38;5;241m=\u001b[39m normalize_embeddings(embeddings)\n\u001b[0;32m---> 31\u001b[0m \u001b[43m\u001b[49m\u001b[38;5;28;43;01mfor\u001b[39;49;00m\u001b[43m \u001b[49m\u001b[43manchor_idx\u001b[49m\u001b[43m,\u001b[49m\u001b[43m \u001b[49m\u001b[43mpositive_idx\u001b[49m\u001b[43m,\u001b[49m\u001b[43m \u001b[49m\u001b[43mnegative_indices\u001b[49m\u001b[43m \u001b[49m\u001b[38;5;129;43;01min\u001b[39;49;00m\u001b[43m \u001b[49m\u001b[43mdata_loader\u001b[49m\u001b[43m:\u001b[49m\n\u001b[1;32m     32\u001b[0m \n\u001b[1;32m     33\u001b[0m \u001b[43m    \u001b[49m\u001b[38;5;66;43;03m# Get the embeddings for anchor, positive, and negative\u001b[39;49;00m\n\u001b[1;32m     34\u001b[0m \u001b[43m    \u001b[49m\u001b[43manchor_embeddings\u001b[49m\u001b[43m \u001b[49m\u001b[38;5;241;43m=\u001b[39;49m\u001b[43m \u001b[49m\u001b[43membeddings\u001b[49m\u001b[43m(\u001b[49m\u001b[43manchor_idx\u001b[49m\u001b[43m)\u001b[49m\u001b[43m \u001b[49m\u001b[38;5;66;43;03m# shape: (batch_size, embedding_dim)\u001b[39;49;00m\n\u001b[1;32m     35\u001b[0m \u001b[43m    \u001b[49m\u001b[43mpositive_embeddings\u001b[49m\u001b[43m \u001b[49m\u001b[38;5;241;43m=\u001b[39;49m\u001b[43m \u001b[49m\u001b[43membeddings\u001b[49m\u001b[43m(\u001b[49m\u001b[43mpositive_idx\u001b[49m\u001b[43m)\u001b[49m\u001b[43m \u001b[49m\u001b[38;5;66;43;03m# shape: (batch_size, embedding_dim)\u001b[39;49;00m\n",
      "File \u001b[0;32m/opt/homebrew/Caskroom/miniforge/base/envs/phd/lib/python3.11/site-packages/torch/utils/data/dataloader.py:630\u001b[0m, in \u001b[0;36m_BaseDataLoaderIter.__next__\u001b[0;34m(self)\u001b[0m\n\u001b[1;32m    627\u001b[0m \u001b[38;5;28;01mif\u001b[39;00m \u001b[38;5;28mself\u001b[39m\u001b[38;5;241m.\u001b[39m_sampler_iter \u001b[38;5;129;01mis\u001b[39;00m \u001b[38;5;28;01mNone\u001b[39;00m:\n\u001b[1;32m    628\u001b[0m     \u001b[38;5;66;03m# TODO(https://github.com/pytorch/pytorch/issues/76750)\u001b[39;00m\n\u001b[1;32m    629\u001b[0m     \u001b[38;5;28mself\u001b[39m\u001b[38;5;241m.\u001b[39m_reset()  \u001b[38;5;66;03m# type: ignore[call-arg]\u001b[39;00m\n\u001b[0;32m--> 630\u001b[0m data \u001b[38;5;241m=\u001b[39m \u001b[38;5;28;43mself\u001b[39;49m\u001b[38;5;241;43m.\u001b[39;49m\u001b[43m_next_data\u001b[49m\u001b[43m(\u001b[49m\u001b[43m)\u001b[49m\n\u001b[1;32m    631\u001b[0m \u001b[38;5;28mself\u001b[39m\u001b[38;5;241m.\u001b[39m_num_yielded \u001b[38;5;241m+\u001b[39m\u001b[38;5;241m=\u001b[39m \u001b[38;5;241m1\u001b[39m\n\u001b[1;32m    632\u001b[0m \u001b[38;5;28;01mif\u001b[39;00m \u001b[38;5;28mself\u001b[39m\u001b[38;5;241m.\u001b[39m_dataset_kind \u001b[38;5;241m==\u001b[39m _DatasetKind\u001b[38;5;241m.\u001b[39mIterable \u001b[38;5;129;01mand\u001b[39;00m \\\n\u001b[1;32m    633\u001b[0m         \u001b[38;5;28mself\u001b[39m\u001b[38;5;241m.\u001b[39m_IterableDataset_len_called \u001b[38;5;129;01mis\u001b[39;00m \u001b[38;5;129;01mnot\u001b[39;00m \u001b[38;5;28;01mNone\u001b[39;00m \u001b[38;5;129;01mand\u001b[39;00m \\\n\u001b[1;32m    634\u001b[0m         \u001b[38;5;28mself\u001b[39m\u001b[38;5;241m.\u001b[39m_num_yielded \u001b[38;5;241m>\u001b[39m \u001b[38;5;28mself\u001b[39m\u001b[38;5;241m.\u001b[39m_IterableDataset_len_called:\n",
      "File \u001b[0;32m/opt/homebrew/Caskroom/miniforge/base/envs/phd/lib/python3.11/site-packages/torch/utils/data/dataloader.py:674\u001b[0m, in \u001b[0;36m_SingleProcessDataLoaderIter._next_data\u001b[0;34m(self)\u001b[0m\n\u001b[1;32m    672\u001b[0m \u001b[38;5;28;01mdef\u001b[39;00m \u001b[38;5;21m_next_data\u001b[39m(\u001b[38;5;28mself\u001b[39m):\n\u001b[1;32m    673\u001b[0m     index \u001b[38;5;241m=\u001b[39m \u001b[38;5;28mself\u001b[39m\u001b[38;5;241m.\u001b[39m_next_index()  \u001b[38;5;66;03m# may raise StopIteration\u001b[39;00m\n\u001b[0;32m--> 674\u001b[0m     data \u001b[38;5;241m=\u001b[39m \u001b[38;5;28;43mself\u001b[39;49m\u001b[38;5;241;43m.\u001b[39;49m\u001b[43m_dataset_fetcher\u001b[49m\u001b[38;5;241;43m.\u001b[39;49m\u001b[43mfetch\u001b[49m\u001b[43m(\u001b[49m\u001b[43mindex\u001b[49m\u001b[43m)\u001b[49m  \u001b[38;5;66;03m# may raise StopIteration\u001b[39;00m\n\u001b[1;32m    675\u001b[0m     \u001b[38;5;28;01mif\u001b[39;00m \u001b[38;5;28mself\u001b[39m\u001b[38;5;241m.\u001b[39m_pin_memory:\n\u001b[1;32m    676\u001b[0m         data \u001b[38;5;241m=\u001b[39m _utils\u001b[38;5;241m.\u001b[39mpin_memory\u001b[38;5;241m.\u001b[39mpin_memory(data, \u001b[38;5;28mself\u001b[39m\u001b[38;5;241m.\u001b[39m_pin_memory_device)\n",
      "File \u001b[0;32m/opt/homebrew/Caskroom/miniforge/base/envs/phd/lib/python3.11/site-packages/torch/utils/data/_utils/fetch.py:51\u001b[0m, in \u001b[0;36m_MapDatasetFetcher.fetch\u001b[0;34m(self, possibly_batched_index)\u001b[0m\n\u001b[1;32m     49\u001b[0m         data \u001b[38;5;241m=\u001b[39m \u001b[38;5;28mself\u001b[39m\u001b[38;5;241m.\u001b[39mdataset\u001b[38;5;241m.\u001b[39m__getitems__(possibly_batched_index)\n\u001b[1;32m     50\u001b[0m     \u001b[38;5;28;01melse\u001b[39;00m:\n\u001b[0;32m---> 51\u001b[0m         data \u001b[38;5;241m=\u001b[39m \u001b[43m[\u001b[49m\u001b[38;5;28;43mself\u001b[39;49m\u001b[38;5;241;43m.\u001b[39;49m\u001b[43mdataset\u001b[49m\u001b[43m[\u001b[49m\u001b[43midx\u001b[49m\u001b[43m]\u001b[49m\u001b[43m \u001b[49m\u001b[38;5;28;43;01mfor\u001b[39;49;00m\u001b[43m \u001b[49m\u001b[43midx\u001b[49m\u001b[43m \u001b[49m\u001b[38;5;129;43;01min\u001b[39;49;00m\u001b[43m \u001b[49m\u001b[43mpossibly_batched_index\u001b[49m\u001b[43m]\u001b[49m\n\u001b[1;32m     52\u001b[0m \u001b[38;5;28;01melse\u001b[39;00m:\n\u001b[1;32m     53\u001b[0m     data \u001b[38;5;241m=\u001b[39m \u001b[38;5;28mself\u001b[39m\u001b[38;5;241m.\u001b[39mdataset[possibly_batched_index]\n",
      "File \u001b[0;32m/opt/homebrew/Caskroom/miniforge/base/envs/phd/lib/python3.11/site-packages/torch/utils/data/_utils/fetch.py:51\u001b[0m, in \u001b[0;36m<listcomp>\u001b[0;34m(.0)\u001b[0m\n\u001b[1;32m     49\u001b[0m         data \u001b[38;5;241m=\u001b[39m \u001b[38;5;28mself\u001b[39m\u001b[38;5;241m.\u001b[39mdataset\u001b[38;5;241m.\u001b[39m__getitems__(possibly_batched_index)\n\u001b[1;32m     50\u001b[0m     \u001b[38;5;28;01melse\u001b[39;00m:\n\u001b[0;32m---> 51\u001b[0m         data \u001b[38;5;241m=\u001b[39m [\u001b[38;5;28;43mself\u001b[39;49m\u001b[38;5;241;43m.\u001b[39;49m\u001b[43mdataset\u001b[49m\u001b[43m[\u001b[49m\u001b[43midx\u001b[49m\u001b[43m]\u001b[49m \u001b[38;5;28;01mfor\u001b[39;00m idx \u001b[38;5;129;01min\u001b[39;00m possibly_batched_index]\n\u001b[1;32m     52\u001b[0m \u001b[38;5;28;01melse\u001b[39;00m:\n\u001b[1;32m     53\u001b[0m     data \u001b[38;5;241m=\u001b[39m \u001b[38;5;28mself\u001b[39m\u001b[38;5;241m.\u001b[39mdataset[possibly_batched_index]\n",
      "Cell \u001b[0;32mIn[21], line 15\u001b[0m, in \u001b[0;36mNPairDataset.__getitem__\u001b[0;34m(self, idx)\u001b[0m\n\u001b[1;32m     13\u001b[0m anchor_idx, positive_idx, negative_indices \u001b[38;5;241m=\u001b[39m \u001b[38;5;28mself\u001b[39m\u001b[38;5;241m.\u001b[39mindex_samples[idx]\n\u001b[1;32m     14\u001b[0m \u001b[38;5;66;03m# Convert negative indices list to tensor\u001b[39;00m\n\u001b[0;32m---> 15\u001b[0m negative_indices_tensor \u001b[38;5;241m=\u001b[39m \u001b[43mtorch\u001b[49m\u001b[38;5;241;43m.\u001b[39;49m\u001b[43mtensor\u001b[49m\u001b[43m(\u001b[49m\u001b[43mnegative_indices\u001b[49m\u001b[43m)\u001b[49m\n\u001b[1;32m     16\u001b[0m \u001b[38;5;28;01mreturn\u001b[39;00m anchor_idx, positive_idx, negative_indices_tensor\n",
      "\u001b[0;31mKeyboardInterrupt\u001b[0m: "
     ]
    }
   ],
   "source": [
    "import torch\n",
    "import torch.nn as nn\n",
    "import torch.optim as optim\n",
    "from torch.utils.data import DataLoader, TensorDataset\n",
    "\n",
    "# Parameters\n",
    "num_items = num_TS  # Number of items in your dataset\n",
    "embedding_size = 16  # Size of each embedding\n",
    "learning_rate = 0.01\n",
    "epochs = 100\n",
    "batch_size = 2048\n",
    "\n",
    "# Initialize the embedding matrix\n",
    "embeddings = nn.Embedding(num_embeddings=num_items, embedding_dim=embedding_size)\n",
    "\n",
    "# Optimizer\n",
    "optimizer = optim.Adam(embeddings.parameters(), lr=learning_rate)\n",
    "\n",
    "# Prepare your index_samples as a tensor\n",
    "# index_samples = torch.tensor([(35, 12, 98), (47, 12, 4), ...])  # Your index tuples as a tensor\n",
    "# Create the dataset and data loader\n",
    "npair_dataset = NPairDataset(index_samples)\n",
    "data_loader = DataLoader(npair_dataset, batch_size=batch_size, shuffle=True)\n",
    "\n",
    "# Training loop with batching\n",
    "for epoch in range(epochs):\n",
    "    total_loss = 0\n",
    "    # normalise the embeddings to prevent degenerate solution\n",
    "    embeddings = normalize_embeddings(embeddings)\n",
    "\n",
    "    for anchor_idx, positive_idx, negative_indices in data_loader:\n",
    "\n",
    "        # Get the embeddings for anchor, positive, and negative\n",
    "        anchor_embeddings = embeddings(anchor_idx) # shape: (batch_size, embedding_dim)\n",
    "        positive_embeddings = embeddings(positive_idx) # shape: (batch_size, embedding_dim)\n",
    "        negative_embeddings = embeddings(negative_indices) # shape: (batch_size, num_neg_samples, embedding_dim)\n",
    "\n",
    "        # Compute the loss\n",
    "        loss = info_nce_loss(anchor_embeddings, positive_embeddings, negative_embeddings)\n",
    "        total_loss += loss.item()\n",
    "\n",
    "        # Backward pass and optimize\n",
    "        optimizer.zero_grad()\n",
    "        loss.backward()\n",
    "        optimizer.step()\n",
    "\n",
    "    if (epoch % 10 == 0) | (epoch==epochs-1):\n",
    "        print(f'Epoch [{epoch+1}/{epochs}], Loss: {total_loss/len(data_loader)}')\n",
    "\n",
    "embeddings = normalize_embeddings(embeddings)"
   ]
  },
  {
   "cell_type": "markdown",
   "metadata": {},
   "source": [
    "### Get training data"
   ]
  },
  {
   "cell_type": "code",
   "execution_count": 24,
   "metadata": {},
   "outputs": [
    {
     "name": "stderr",
     "output_type": "stream",
     "text": [
      "/opt/homebrew/Caskroom/miniforge/base/envs/phd/lib/python3.11/site-packages/sklearn/metrics/_classification.py:1471: UndefinedMetricWarning:\n",
      "\n",
      "Precision is ill-defined and being set to 0.0 in labels with no predicted samples. Use `zero_division` parameter to control this behavior.\n",
      "\n",
      "/opt/homebrew/Caskroom/miniforge/base/envs/phd/lib/python3.11/site-packages/sklearn/metrics/_classification.py:1471: UndefinedMetricWarning:\n",
      "\n",
      "Precision is ill-defined and being set to 0.0 in labels with no predicted samples. Use `zero_division` parameter to control this behavior.\n",
      "\n"
     ]
    },
    {
     "name": "stdout",
     "output_type": "stream",
     "text": [
      "Precision Score: 0.41\n",
      "Recall Score: 0.28\n",
      "F1 Score: 0.26\n",
      "Accuracy Score: 0.28\n",
      "Accuracy Score Top-3: 0.6\n"
     ]
    },
    {
     "name": "stderr",
     "output_type": "stream",
     "text": [
      "/opt/homebrew/Caskroom/miniforge/base/envs/phd/lib/python3.11/site-packages/sklearn/metrics/_classification.py:1471: UndefinedMetricWarning:\n",
      "\n",
      "Precision is ill-defined and being set to 0.0 in labels with no predicted samples. Use `zero_division` parameter to control this behavior.\n",
      "\n"
     ]
    }
   ],
   "source": [
    "from utils.sector_classification import get_sector_score\n",
    "\n",
    "get_sector_score(embeddings.weight.detach().numpy(), sectors=data.sectors, top_k_accuracy=True)"
   ]
  },
  {
   "cell_type": "code",
   "execution_count": 25,
   "metadata": {},
   "outputs": [
    {
     "data": {
      "application/vnd.plotly.v1+json": {
       "config": {
        "plotlyServerURL": "https://plot.ly"
       },
       "data": [
        {
         "customdata": [
          [
           "AAPL",
           "TECHNOLOGY",
           "COMPUTER MANUFACTURING"
          ],
          [
           "ACXM",
           "TECHNOLOGY",
           "EDP SERVICES"
          ],
          [
           "ADBE",
           "TECHNOLOGY",
           "COMPUTER SOFTWARE: PREPACKAGED SOFTWARE"
          ],
          [
           "ADI",
           "TECHNOLOGY",
           "SEMICONDUCTORS"
          ],
          [
           "ADP",
           "TECHNOLOGY",
           "EDP SERVICES"
          ],
          [
           "ADSK",
           "TECHNOLOGY",
           "COMPUTER SOFTWARE: PREPACKAGED SOFTWARE"
          ],
          [
           "AGYS",
           "TECHNOLOGY",
           "EDP SERVICES"
          ],
          [
           "AMAT",
           "TECHNOLOGY",
           "SEMICONDUCTORS"
          ],
          [
           "AMSWA",
           "TECHNOLOGY",
           "COMPUTER SOFTWARE: PREPACKAGED SOFTWARE"
          ],
          [
           "BHE",
           "TECHNOLOGY",
           "ELECTRICAL PRODUCTS"
          ],
          [
           "CA",
           "TECHNOLOGY",
           "COMPUTER SOFTWARE: PREPACKAGED SOFTWARE"
          ],
          [
           "CACI",
           "TECHNOLOGY",
           "EDP SERVICES"
          ],
          [
           "CDNS",
           "TECHNOLOGY",
           "COMPUTER SOFTWARE: PREPACKAGED SOFTWARE"
          ],
          [
           "CERN",
           "TECHNOLOGY",
           "EDP SERVICES"
          ],
          [
           "CLGX",
           "TECHNOLOGY",
           "EDP SERVICES"
          ],
          [
           "CMTL",
           "TECHNOLOGY",
           "RADIO AND TELEVISION BROADCASTING AND COMMUNICATIONS EQUIPMENT"
          ],
          [
           "CRUS",
           "TECHNOLOGY",
           "SEMICONDUCTORS"
          ],
          [
           "CSCO",
           "TECHNOLOGY",
           "COMPUTER COMMUNICATIONS EQUIPMENT"
          ],
          [
           "CTS",
           "TECHNOLOGY",
           "ELECTRICAL PRODUCTS"
          ],
          [
           "CW",
           "TECHNOLOGY",
           "INDUSTRIAL MACHINERY/COMPONENTS"
          ],
          [
           "CY",
           "TECHNOLOGY",
           "SEMICONDUCTORS"
          ],
          [
           "DGII",
           "TECHNOLOGY",
           "COMPUTER COMMUNICATIONS EQUIPMENT"
          ],
          [
           "DIOD",
           "TECHNOLOGY",
           "SEMICONDUCTORS"
          ],
          [
           "DOV",
           "TECHNOLOGY",
           "INDUSTRIAL MACHINERY/COMPONENTS"
          ],
          [
           "EA",
           "TECHNOLOGY",
           "COMPUTER SOFTWARE: PREPACKAGED SOFTWARE"
          ],
          [
           "ERIC",
           "TECHNOLOGY",
           "RADIO AND TELEVISION BROADCASTING AND COMMUNICATIONS EQUIPMENT"
          ],
          [
           "ETN",
           "TECHNOLOGY",
           "INDUSTRIAL MACHINERY/COMPONENTS"
          ],
          [
           "FISV",
           "TECHNOLOGY",
           "EDP SERVICES"
          ],
          [
           "HPQ",
           "TECHNOLOGY",
           "COMPUTER MANUFACTURING"
          ],
          [
           "IBM",
           "TECHNOLOGY",
           "COMPUTER MANUFACTURING"
          ],
          [
           "IDTI",
           "TECHNOLOGY",
           "SEMICONDUCTORS"
          ],
          [
           "INTC",
           "TECHNOLOGY",
           "SEMICONDUCTORS"
          ],
          [
           "IPG",
           "TECHNOLOGY",
           "ADVERTISING"
          ],
          [
           "ITW",
           "TECHNOLOGY",
           "INDUSTRIAL MACHINERY/COMPONENTS"
          ],
          [
           "JKHY",
           "TECHNOLOGY",
           "EDP SERVICES"
          ],
          [
           "KELYA",
           "TECHNOLOGY",
           "PROFESSIONAL SERVICES"
          ],
          [
           "KLIC",
           "TECHNOLOGY",
           "SEMICONDUCTORS"
          ],
          [
           "LRCX",
           "TECHNOLOGY",
           "INDUSTRIAL MACHINERY/COMPONENTS"
          ],
          [
           "LSCC",
           "TECHNOLOGY",
           "SEMICONDUCTORS"
          ],
          [
           "MAN",
           "TECHNOLOGY",
           "PROFESSIONAL SERVICES"
          ],
          [
           "MSFT",
           "TECHNOLOGY",
           "COMPUTER SOFTWARE: PREPACKAGED SOFTWARE"
          ],
          [
           "MSI",
           "TECHNOLOGY",
           "RADIO AND TELEVISION BROADCASTING AND COMMUNICATIONS EQUIPMENT"
          ],
          [
           "MU",
           "TECHNOLOGY",
           "SEMICONDUCTORS"
          ],
          [
           "MXIM",
           "TECHNOLOGY",
           "SEMICONDUCTORS"
          ],
          [
           "OMC",
           "TECHNOLOGY",
           "ADVERTISING"
          ],
          [
           "ORCL",
           "TECHNOLOGY",
           "COMPUTER SOFTWARE: PREPACKAGED SOFTWARE"
          ],
          [
           "PKE",
           "TECHNOLOGY",
           "ELECTRICAL PRODUCTS"
          ],
          [
           "PLAB",
           "TECHNOLOGY",
           "SEMICONDUCTORS"
          ],
          [
           "PLXS",
           "TECHNOLOGY",
           "ELECTRICAL PRODUCTS"
          ],
          [
           "PNR",
           "TECHNOLOGY",
           "INDUSTRIAL MACHINERY/COMPONENTS"
          ],
          [
           "PTC",
           "TECHNOLOGY",
           "COMPUTER SOFTWARE: PREPACKAGED SOFTWARE"
          ],
          [
           "SGMS",
           "TECHNOLOGY",
           "EDP SERVICES"
          ],
          [
           "SIGM",
           "TECHNOLOGY",
           "SEMICONDUCTORS"
          ],
          [
           "SMTC",
           "TECHNOLOGY",
           "SEMICONDUCTORS"
          ],
          [
           "SPXC",
           "TECHNOLOGY",
           "INDUSTRIAL MACHINERY/COMPONENTS"
          ],
          [
           "SWKS",
           "TECHNOLOGY",
           "SEMICONDUCTORS"
          ],
          [
           "SXI",
           "TECHNOLOGY",
           "INDUSTRIAL MACHINERY/COMPONENTS"
          ],
          [
           "SYMC",
           "TECHNOLOGY",
           "COMPUTER SOFTWARE: PREPACKAGED SOFTWARE"
          ],
          [
           "TECD",
           "TECHNOLOGY",
           "RETAIL: COMPUTER SOFTWARE & PERIPHERAL EQUIPMENT"
          ],
          [
           "TXN",
           "TECHNOLOGY",
           "SEMICONDUCTORS"
          ],
          [
           "TYL",
           "TECHNOLOGY",
           "COMPUTER SOFTWARE: PREPACKAGED SOFTWARE"
          ],
          [
           "UIS",
           "TECHNOLOGY",
           "EDP SERVICES"
          ],
          [
           "WDC",
           "TECHNOLOGY",
           "ELECTRONIC COMPONENTS"
          ],
          [
           "WPP",
           "TECHNOLOGY",
           "ADVERTISING"
          ],
          [
           "XLNX",
           "TECHNOLOGY",
           "SEMICONDUCTORS"
          ],
          [
           "XRX",
           "TECHNOLOGY",
           "COMPUTER PERIPHERAL EQUIPMENT"
          ],
          [
           "ZIXI",
           "TECHNOLOGY",
           "EDP SERVICES"
          ]
         ],
         "hovertemplate": "<b>%{hovertext}</b><br><br>Sector=%{customdata[1]}<br>PC1=%{x}<br>PC2=%{y}<br>ticker=%{customdata[0]}<br>industry=%{customdata[2]}<extra></extra>",
         "hovertext": [
          "COMPUTER MANUFACTURING",
          "EDP SERVICES",
          "COMPUTER SOFTWARE: PREPACKAGED SOFTWARE",
          "SEMICONDUCTORS",
          "EDP SERVICES",
          "COMPUTER SOFTWARE: PREPACKAGED SOFTWARE",
          "EDP SERVICES",
          "SEMICONDUCTORS",
          "COMPUTER SOFTWARE: PREPACKAGED SOFTWARE",
          "ELECTRICAL PRODUCTS",
          "COMPUTER SOFTWARE: PREPACKAGED SOFTWARE",
          "EDP SERVICES",
          "COMPUTER SOFTWARE: PREPACKAGED SOFTWARE",
          "EDP SERVICES",
          "EDP SERVICES",
          "RADIO AND TELEVISION BROADCASTING AND COMMUNICATIONS EQUIPMENT",
          "SEMICONDUCTORS",
          "COMPUTER COMMUNICATIONS EQUIPMENT",
          "ELECTRICAL PRODUCTS",
          "INDUSTRIAL MACHINERY/COMPONENTS",
          "SEMICONDUCTORS",
          "COMPUTER COMMUNICATIONS EQUIPMENT",
          "SEMICONDUCTORS",
          "INDUSTRIAL MACHINERY/COMPONENTS",
          "COMPUTER SOFTWARE: PREPACKAGED SOFTWARE",
          "RADIO AND TELEVISION BROADCASTING AND COMMUNICATIONS EQUIPMENT",
          "INDUSTRIAL MACHINERY/COMPONENTS",
          "EDP SERVICES",
          "COMPUTER MANUFACTURING",
          "COMPUTER MANUFACTURING",
          "SEMICONDUCTORS",
          "SEMICONDUCTORS",
          "ADVERTISING",
          "INDUSTRIAL MACHINERY/COMPONENTS",
          "EDP SERVICES",
          "PROFESSIONAL SERVICES",
          "SEMICONDUCTORS",
          "INDUSTRIAL MACHINERY/COMPONENTS",
          "SEMICONDUCTORS",
          "PROFESSIONAL SERVICES",
          "COMPUTER SOFTWARE: PREPACKAGED SOFTWARE",
          "RADIO AND TELEVISION BROADCASTING AND COMMUNICATIONS EQUIPMENT",
          "SEMICONDUCTORS",
          "SEMICONDUCTORS",
          "ADVERTISING",
          "COMPUTER SOFTWARE: PREPACKAGED SOFTWARE",
          "ELECTRICAL PRODUCTS",
          "SEMICONDUCTORS",
          "ELECTRICAL PRODUCTS",
          "INDUSTRIAL MACHINERY/COMPONENTS",
          "COMPUTER SOFTWARE: PREPACKAGED SOFTWARE",
          "EDP SERVICES",
          "SEMICONDUCTORS",
          "SEMICONDUCTORS",
          "INDUSTRIAL MACHINERY/COMPONENTS",
          "SEMICONDUCTORS",
          "INDUSTRIAL MACHINERY/COMPONENTS",
          "COMPUTER SOFTWARE: PREPACKAGED SOFTWARE",
          "RETAIL: COMPUTER SOFTWARE & PERIPHERAL EQUIPMENT",
          "SEMICONDUCTORS",
          "COMPUTER SOFTWARE: PREPACKAGED SOFTWARE",
          "EDP SERVICES",
          "ELECTRONIC COMPONENTS",
          "ADVERTISING",
          "SEMICONDUCTORS",
          "COMPUTER PERIPHERAL EQUIPMENT",
          "EDP SERVICES"
         ],
         "legendgroup": "TECHNOLOGY",
         "marker": {
          "color": "#FD3216",
          "line": {
           "color": "DarkSlateGrey",
           "width": 1
          },
          "opacity": 0.7,
          "size": 8,
          "symbol": "circle"
         },
         "mode": "markers",
         "name": "TECHNOLOGY",
         "orientation": "v",
         "showlegend": true,
         "type": "scatter",
         "x": [
          0.07299834489822388,
          -0.12465651333332062,
          -0.2037455290555954,
          0.0023075593635439873,
          -0.04184923321008682,
          -0.012392387725412846,
          -0.4749605357646942,
          -0.01219899207353592,
          -0.4726174771785736,
          -0.07771128416061401,
          -0.0992569550871849,
          -0.030365196987986565,
          -0.041631851345300674,
          0.008001228794455528,
          0.1309043914079666,
          -0.26315709948539734,
          -0.12607255578041077,
          -0.05120109021663666,
          -0.20849713683128357,
          0.0844220221042633,
          -0.3569769263267517,
          -0.19058997929096222,
          -0.11626023799180984,
          0.011041564866900444,
          0.07849448174238205,
          -0.2161451280117035,
          0.09953434765338898,
          -0.030719056725502014,
          -0.18805254995822906,
          0.012751838192343712,
          -0.08168388158082962,
          0.014121152460575104,
          -0.0389716662466526,
          -0.024207161739468575,
          -0.044476769864559174,
          -0.11447202414274216,
          -0.37990301847457886,
          -0.034514665603637695,
          -0.32518669962882996,
          0.06009168550372124,
          -0.0028123478405177593,
          -0.10568403452634811,
          -0.4248621463775635,
          -0.013592791743576527,
          -0.005889603402465582,
          0.007626018486917019,
          -0.12210394442081451,
          -0.2705302834510803,
          -0.08442719280719757,
          0.02887802943587303,
          -0.13638868927955627,
          -0.36880531907081604,
          -0.06003285571932793,
          -0.060483936220407486,
          0.16390873491764069,
          -0.2850618362426758,
          -0.07494880259037018,
          -0.0634230300784111,
          -0.008525471203029156,
          0.008024686947464943,
          -0.273893803358078,
          -0.32068514823913574,
          0.14957691729068756,
          0.03457168489694595,
          0.008523796685039997,
          -0.0716148093342781,
          -0.1577746570110321
         ],
         "xaxis": "x",
         "y": [
          -0.06325951218605042,
          -0.026124628260731697,
          0.07905768603086472,
          -0.019891342148184776,
          0.051753558218479156,
          -0.12631505727767944,
          -0.2417728155851364,
          -0.0007247691391967237,
          0.022617433220148087,
          -0.126442089676857,
          0.03648897260427475,
          0.10424180328845978,
          -0.008075707592070103,
          0.4716370701789856,
          -0.0038243059534579515,
          0.28991085290908813,
          0.28059080243110657,
          0.03069175034761429,
          -0.2408028393983841,
          -0.008814607746899128,
          -0.07851538807153702,
          -0.09523271769285202,
          -0.3687608540058136,
          0.011565775610506535,
          -0.012910113669931889,
          0.10729656368494034,
          -0.024282844737172127,
          0.054692599922418594,
          0.13604877889156342,
          0.05032810568809509,
          -0.24596814811229706,
          -0.06170949339866638,
          -0.022394312545657158,
          0.03685969114303589,
          0.05695737898349762,
          -0.045297589153051376,
          -0.04566866531968117,
          -0.11226437985897064,
          -0.304160475730896,
          -0.08871437609195709,
          0.06105344742536545,
          0.06328196823596954,
          -0.29973384737968445,
          -0.0034078608732670546,
          0.018351536244153976,
          0.018344294279813766,
          -0.08253341913223267,
          -0.17890889942646027,
          -0.22074392437934875,
          -0.0142931854352355,
          -0.596893846988678,
          -0.10690789669752121,
          0.4416563808917999,
          -0.07961566746234894,
          -0.21493475139141083,
          0.2227780967950821,
          -0.10658086091279984,
          0.08217185735702515,
          -0.0037292141932994127,
          0.020992131903767586,
          0.42293858528137207,
          -0.15916021168231964,
          -0.04427794739603996,
          0.030001021921634674,
          -0.018346404656767845,
          0.1566953808069229,
          0.437951922416687
         ],
         "yaxis": "y"
        },
        {
         "customdata": [
          [
           "AB",
           "FINANCE",
           "INVESTMENT MANAGERS"
          ],
          [
           "ABM",
           "FINANCE",
           "DIVERSIFIED COMMERCIAL SERVICES"
          ],
          [
           "AEG",
           "FINANCE",
           "LIFE INSURANCE"
          ],
          [
           "AFG",
           "FINANCE",
           "PROPERTY-CASUALTY INSURERS"
          ],
          [
           "AFL",
           "FINANCE",
           "ACCIDENT &HEALTH INSURANCE"
          ],
          [
           "AIG",
           "FINANCE",
           "PROPERTY-CASUALTY INSURERS"
          ],
          [
           "AJG",
           "FINANCE",
           "SPECIALTY INSURERS"
          ],
          [
           "AON",
           "FINANCE",
           "SPECIALTY INSURERS"
          ],
          [
           "ASB",
           "FINANCE",
           "MAJOR BANKS"
          ],
          [
           "AXP",
           "FINANCE",
           "FINANCE: CONSUMER SERVICES"
          ],
          [
           "BAC",
           "FINANCE",
           "MAJOR BANKS"
          ],
          [
           "BBT",
           "FINANCE",
           "MAJOR BANKS"
          ],
          [
           "BBVA",
           "FINANCE",
           "COMMERCIAL BANKS"
          ],
          [
           "BCS",
           "FINANCE",
           "COMMERCIAL BANKS"
          ],
          [
           "BEN",
           "FINANCE",
           "INVESTMENT MANAGERS"
          ],
          [
           "BK",
           "FINANCE",
           "MAJOR BANKS"
          ],
          [
           "BOH",
           "FINANCE",
           "MAJOR BANKS"
          ],
          [
           "BPOP",
           "FINANCE",
           "MAJOR BANKS"
          ],
          [
           "BRO",
           "FINANCE",
           "SPECIALTY INSURERS"
          ],
          [
           "BXS",
           "FINANCE",
           "MAJOR BANKS"
          ],
          [
           "C",
           "FINANCE",
           "MAJOR BANKS"
          ],
          [
           "CB",
           "FINANCE",
           "PROPERTY-CASUALTY INSURERS"
          ],
          [
           "CBSH",
           "FINANCE",
           "MAJOR BANKS"
          ],
          [
           "CFR",
           "FINANCE",
           "MAJOR BANKS"
          ],
          [
           "CIA",
           "FINANCE",
           "LIFE INSURANCE"
          ],
          [
           "CINF",
           "FINANCE",
           "PROPERTY-CASUALTY INSURERS"
          ],
          [
           "CMA",
           "FINANCE",
           "MAJOR BANKS"
          ],
          [
           "CNA",
           "FINANCE",
           "PROPERTY-CASUALTY INSURERS"
          ],
          [
           "CVBF",
           "FINANCE",
           "MAJOR BANKS"
          ],
          [
           "DNB",
           "FINANCE",
           "FINANCE: CONSUMER SERVICES"
          ],
          [
           "EFX",
           "FINANCE",
           "FINANCE: CONSUMER SERVICES"
          ],
          [
           "EV",
           "FINANCE",
           "INVESTMENT MANAGERS"
          ],
          [
           "FBP",
           "FINANCE",
           "MAJOR BANKS"
          ],
          [
           "FFBC",
           "FINANCE",
           "MAJOR BANKS"
          ],
          [
           "FHN",
           "FINANCE",
           "MAJOR BANKS"
          ],
          [
           "FITB",
           "FINANCE",
           "MAJOR BANKS"
          ],
          [
           "FMBI",
           "FINANCE",
           "MAJOR BANKS"
          ],
          [
           "FNB",
           "FINANCE",
           "MAJOR BANKS"
          ],
          [
           "FULT",
           "FINANCE",
           "MAJOR BANKS"
          ],
          [
           "HBAN",
           "FINANCE",
           "MAJOR BANKS"
          ],
          [
           "INDB",
           "FINANCE",
           "MAJOR BANKS"
          ],
          [
           "JPM",
           "FINANCE",
           "MAJOR BANKS"
          ],
          [
           "KEY",
           "FINANCE",
           "MAJOR BANKS"
          ],
          [
           "KMPR",
           "FINANCE",
           "PROPERTY-CASUALTY INSURERS"
          ],
          [
           "L",
           "FINANCE",
           "PROPERTY-CASUALTY INSURERS"
          ],
          [
           "LM",
           "FINANCE",
           "INVESTMENT MANAGERS"
          ],
          [
           "LNC",
           "FINANCE",
           "LIFE INSURANCE"
          ],
          [
           "MBI",
           "FINANCE",
           "PROPERTY-CASUALTY INSURERS"
          ],
          [
           "MCY",
           "FINANCE",
           "PROPERTY-CASUALTY INSURERS"
          ],
          [
           "MKL",
           "FINANCE",
           "PROPERTY-CASUALTY INSURERS"
          ],
          [
           "MMC",
           "FINANCE",
           "SPECIALTY INSURERS"
          ],
          [
           "MTB",
           "FINANCE",
           "MAJOR BANKS"
          ],
          [
           "NTRS",
           "FINANCE",
           "MAJOR BANKS"
          ],
          [
           "OFG",
           "FINANCE",
           "MAJOR BANKS"
          ],
          [
           "ONB",
           "FINANCE",
           "MAJOR BANKS"
          ],
          [
           "ORI",
           "FINANCE",
           "PROPERTY-CASUALTY INSURERS"
          ],
          [
           "PBCT",
           "FINANCE",
           "SAVINGS INSTITUTIONS"
          ],
          [
           "PGR",
           "FINANCE",
           "PROPERTY-CASUALTY INSURERS"
          ],
          [
           "PNC",
           "FINANCE",
           "MAJOR BANKS"
          ],
          [
           "RF",
           "FINANCE",
           "MAJOR BANKS"
          ],
          [
           "RJF",
           "FINANCE",
           "INVESTMENT BANKERS/BROKERS/SERVICE"
          ],
          [
           "RLI",
           "FINANCE",
           "PROPERTY-CASUALTY INSURERS"
          ],
          [
           "ROL",
           "FINANCE",
           "DIVERSIFIED COMMERCIAL SERVICES"
          ],
          [
           "SCHW",
           "FINANCE",
           "INVESTMENT BANKERS/BROKERS/SERVICE"
          ],
          [
           "SEIC",
           "FINANCE",
           "INVESTMENT BANKERS/BROKERS/SERVICE"
          ],
          [
           "SFE",
           "FINANCE",
           "FINANCE/INVESTORS SERVICES"
          ],
          [
           "SIGI",
           "FINANCE",
           "PROPERTY-CASUALTY INSURERS"
          ],
          [
           "SIVB",
           "FINANCE",
           "MAJOR BANKS"
          ],
          [
           "SLM",
           "FINANCE",
           "FINANCE: CONSUMER SERVICES"
          ],
          [
           "SNV",
           "FINANCE",
           "MAJOR BANKS"
          ],
          [
           "SPGI",
           "FINANCE",
           "FINANCE: CONSUMER SERVICES"
          ],
          [
           "SRCE",
           "FINANCE",
           "MAJOR BANKS"
          ],
          [
           "STI",
           "FINANCE",
           "MAJOR BANKS"
          ],
          [
           "STT",
           "FINANCE",
           "MAJOR BANKS"
          ],
          [
           "TCF",
           "FINANCE",
           "MAJOR BANKS"
          ],
          [
           "TMK",
           "FINANCE",
           "LIFE INSURANCE"
          ],
          [
           "TRMK",
           "FINANCE",
           "MAJOR BANKS"
          ],
          [
           "TROW",
           "FINANCE",
           "INVESTMENT BANKERS/BROKERS/SERVICE"
          ],
          [
           "TRST",
           "FINANCE",
           "MAJOR BANKS"
          ],
          [
           "TRV",
           "FINANCE",
           "PROPERTY-CASUALTY INSURERS"
          ],
          [
           "UBSI",
           "FINANCE",
           "MAJOR BANKS"
          ],
          [
           "UMBF",
           "FINANCE",
           "MAJOR BANKS"
          ],
          [
           "UNM",
           "FINANCE",
           "ACCIDENT &HEALTH INSURANCE"
          ],
          [
           "USB",
           "FINANCE",
           "MAJOR BANKS"
          ],
          [
           "VLY",
           "FINANCE",
           "MAJOR BANKS"
          ],
          [
           "WABC",
           "FINANCE",
           "MAJOR BANKS"
          ],
          [
           "WAFD",
           "FINANCE",
           "MAJOR BANKS"
          ],
          [
           "WBS",
           "FINANCE",
           "MAJOR BANKS"
          ],
          [
           "WFC",
           "FINANCE",
           "MAJOR BANKS"
          ],
          [
           "WRB",
           "FINANCE",
           "PROPERTY-CASUALTY INSURERS"
          ],
          [
           "WSBC",
           "FINANCE",
           "MAJOR BANKS"
          ],
          [
           "WSFS",
           "FINANCE",
           "MAJOR BANKS"
          ],
          [
           "ZION",
           "FINANCE",
           "MAJOR BANKS"
          ]
         ],
         "hovertemplate": "<b>%{hovertext}</b><br><br>Sector=%{customdata[1]}<br>PC1=%{x}<br>PC2=%{y}<br>ticker=%{customdata[0]}<br>industry=%{customdata[2]}<extra></extra>",
         "hovertext": [
          "INVESTMENT MANAGERS",
          "DIVERSIFIED COMMERCIAL SERVICES",
          "LIFE INSURANCE",
          "PROPERTY-CASUALTY INSURERS",
          "ACCIDENT &HEALTH INSURANCE",
          "PROPERTY-CASUALTY INSURERS",
          "SPECIALTY INSURERS",
          "SPECIALTY INSURERS",
          "MAJOR BANKS",
          "FINANCE: CONSUMER SERVICES",
          "MAJOR BANKS",
          "MAJOR BANKS",
          "COMMERCIAL BANKS",
          "COMMERCIAL BANKS",
          "INVESTMENT MANAGERS",
          "MAJOR BANKS",
          "MAJOR BANKS",
          "MAJOR BANKS",
          "SPECIALTY INSURERS",
          "MAJOR BANKS",
          "MAJOR BANKS",
          "PROPERTY-CASUALTY INSURERS",
          "MAJOR BANKS",
          "MAJOR BANKS",
          "LIFE INSURANCE",
          "PROPERTY-CASUALTY INSURERS",
          "MAJOR BANKS",
          "PROPERTY-CASUALTY INSURERS",
          "MAJOR BANKS",
          "FINANCE: CONSUMER SERVICES",
          "FINANCE: CONSUMER SERVICES",
          "INVESTMENT MANAGERS",
          "MAJOR BANKS",
          "MAJOR BANKS",
          "MAJOR BANKS",
          "MAJOR BANKS",
          "MAJOR BANKS",
          "MAJOR BANKS",
          "MAJOR BANKS",
          "MAJOR BANKS",
          "MAJOR BANKS",
          "MAJOR BANKS",
          "MAJOR BANKS",
          "PROPERTY-CASUALTY INSURERS",
          "PROPERTY-CASUALTY INSURERS",
          "INVESTMENT MANAGERS",
          "LIFE INSURANCE",
          "PROPERTY-CASUALTY INSURERS",
          "PROPERTY-CASUALTY INSURERS",
          "PROPERTY-CASUALTY INSURERS",
          "SPECIALTY INSURERS",
          "MAJOR BANKS",
          "MAJOR BANKS",
          "MAJOR BANKS",
          "MAJOR BANKS",
          "PROPERTY-CASUALTY INSURERS",
          "SAVINGS INSTITUTIONS",
          "PROPERTY-CASUALTY INSURERS",
          "MAJOR BANKS",
          "MAJOR BANKS",
          "INVESTMENT BANKERS/BROKERS/SERVICE",
          "PROPERTY-CASUALTY INSURERS",
          "DIVERSIFIED COMMERCIAL SERVICES",
          "INVESTMENT BANKERS/BROKERS/SERVICE",
          "INVESTMENT BANKERS/BROKERS/SERVICE",
          "FINANCE/INVESTORS SERVICES",
          "PROPERTY-CASUALTY INSURERS",
          "MAJOR BANKS",
          "FINANCE: CONSUMER SERVICES",
          "MAJOR BANKS",
          "FINANCE: CONSUMER SERVICES",
          "MAJOR BANKS",
          "MAJOR BANKS",
          "MAJOR BANKS",
          "MAJOR BANKS",
          "LIFE INSURANCE",
          "MAJOR BANKS",
          "INVESTMENT BANKERS/BROKERS/SERVICE",
          "MAJOR BANKS",
          "PROPERTY-CASUALTY INSURERS",
          "MAJOR BANKS",
          "MAJOR BANKS",
          "ACCIDENT &HEALTH INSURANCE",
          "MAJOR BANKS",
          "MAJOR BANKS",
          "MAJOR BANKS",
          "MAJOR BANKS",
          "MAJOR BANKS",
          "MAJOR BANKS",
          "PROPERTY-CASUALTY INSURERS",
          "MAJOR BANKS",
          "MAJOR BANKS",
          "MAJOR BANKS"
         ],
         "legendgroup": "FINANCE",
         "marker": {
          "color": "#00FE35",
          "line": {
           "color": "DarkSlateGrey",
           "width": 1
          },
          "opacity": 0.7,
          "size": 8,
          "symbol": "diamond"
         },
         "mode": "markers",
         "name": "FINANCE",
         "orientation": "v",
         "showlegend": true,
         "type": "scatter",
         "x": [
          0.060153309255838394,
          -0.07657892256975174,
          -0.010579359717667103,
          -0.06548457592725754,
          -0.017905201762914658,
          -0.3707135319709778,
          -0.054855749011039734,
          -0.014214460738003254,
          -0.07630158215761185,
          -0.04724739119410515,
          -0.31816622614860535,
          -0.06447920948266983,
          0.1612040400505066,
          -0.09718406200408936,
          0.005396340973675251,
          -0.012714117765426636,
          -0.08595709502696991,
          -0.6825947165489197,
          -0.030428554862737656,
          -0.057067036628723145,
          -0.09048520773649216,
          -0.06262317299842834,
          -0.07438808679580688,
          -0.04767129570245743,
          -0.29571840167045593,
          -0.04668886587023735,
          -0.06501282006502151,
          -0.01954810507595539,
          -0.0420280359685421,
          0.017614858224987984,
          -0.031859140843153,
          0.0015521533787250519,
          -0.6430069804191589,
          -0.051247488707304,
          -0.4788505733013153,
          -0.15996374189853668,
          -0.08145929872989655,
          -0.05976412817835808,
          -0.05731993168592453,
          -0.3190232515335083,
          -0.061268363147974014,
          -0.03946302831172943,
          -0.07753113657236099,
          0.08973518013954163,
          -0.005316897761076689,
          -0.047134093940258026,
          -0.06047360226511955,
          -0.39216458797454834,
          -0.029164334759116173,
          -0.03001757152378559,
          -0.03792765364050865,
          -0.03694206476211548,
          -0.05125576630234718,
          -0.6036405563354492,
          -0.044808875769376755,
          -0.05365537852048874,
          -0.020757777616381645,
          -0.031961169093847275,
          -0.051894038915634155,
          -0.12391015887260437,
          0.0006727419095113873,
          -0.03375055268406868,
          -0.06564341485500336,
          -0.05322347208857536,
          -0.07270672172307968,
          -0.1730019897222519,
          -0.0517021045088768,
          -0.08757620304822922,
          -0.2717263400554657,
          -0.37129709124565125,
          -0.013347352854907513,
          -0.07487060129642487,
          -0.09704084694385529,
          -0.047010473906993866,
          -0.029125655069947243,
          -0.07941772043704987,
          -0.07206161320209503,
          -0.01501371618360281,
          -0.04189564660191536,
          -0.051002297550439835,
          -0.08109229058027267,
          -0.04966503381729126,
          -0.07819460332393646,
          -0.011283314786851406,
          -0.058131322264671326,
          -0.054050710052251816,
          -0.0367182157933712,
          -0.06001653894782066,
          -0.0342395082116127,
          -0.03825930505990982,
          -0.18763241171836853,
          -0.05230099707841873,
          -0.15085338056087494
         ],
         "xaxis": "x",
         "y": [
          -0.009257626719772816,
          -0.024870624765753746,
          0.039006978273391724,
          0.037073224782943726,
          0.04336034879088402,
          -0.08007192611694336,
          0.06503567099571228,
          0.052193742245435715,
          0.014178648591041565,
          0.03761982545256615,
          -0.05404255539178848,
          0.03873167186975479,
          -0.024782368913292885,
          -0.03625126928091049,
          0.016851961612701416,
          0.04668816924095154,
          0.014209012500941753,
          -0.10342945903539658,
          0.007851391099393368,
          0.05123934522271156,
          -0.03177708759903908,
          0.030627956613898277,
          0.0677948072552681,
          0.04816636070609093,
          0.3609253466129303,
          0.050971899181604385,
          0.04055323451757431,
          0.0015067795757204294,
          0.03444097563624382,
          0.0171333197504282,
          0.07222352176904678,
          -0.00411788048222661,
          -0.05536361038684845,
          0.05248982459306717,
          -0.05175403878092766,
          0.13779032230377197,
          0.008333246223628521,
          0.12362736463546753,
          0.03803207352757454,
          0.09997479617595673,
          0.03554389998316765,
          -0.0020079356618225574,
          0.03083423152565956,
          -0.06926466524600983,
          0.05060445889830589,
          -0.04472026973962784,
          0.020808907225728035,
          0.13129672408103943,
          0.05359984561800957,
          0.03766492381691933,
          0.5509315133094788,
          0.043473340570926666,
          0.05283394455909729,
          -0.3218488097190857,
          0.04855510592460632,
          0.045189764350652695,
          0.035470277070999146,
          0.059636011719703674,
          0.03913514316082001,
          0.0031943887006491423,
          0.017871934920549393,
          0.050620898604393005,
          0.05156850069761276,
          0.01859874278306961,
          0.01344204694032669,
          0.2767033278942108,
          0.05493656545877457,
          -0.06301278620958328,
          -0.32596734166145325,
          -0.014432750642299652,
          0.017254875972867012,
          0.08000391721725464,
          0.036820508539676666,
          0.024759618565440178,
          0.006238073576241732,
          0.05296260491013527,
          0.036477088928222656,
          0.006704795174300671,
          0.052507270127534866,
          0.03374496474862099,
          0.045245517045259476,
          0.024920767173171043,
          -0.0306691974401474,
          0.03640981391072273,
          0.057637859135866165,
          0.03719162195920944,
          0.030867010354995728,
          0.016254635527729988,
          0.031087281182408333,
          0.05413759499788284,
          0.06506218016147614,
          0.048810120671987534,
          0.03141257166862488
         ],
         "yaxis": "y"
        },
        {
         "customdata": [
          [
           "AEP",
           "PUBLIC UTILITIES",
           "ELECTRIC UTILITIES: CENTRAL"
          ],
          [
           "ALE",
           "PUBLIC UTILITIES",
           "POWER GENERATION"
          ],
          [
           "ATO",
           "PUBLIC UTILITIES",
           "OIL/GAS TRANSMISSION"
          ],
          [
           "AVA",
           "PUBLIC UTILITIES",
           "POWER GENERATION"
          ],
          [
           "AWR",
           "PUBLIC UTILITIES",
           "WATER SUPPLY"
          ],
          [
           "BCE",
           "PUBLIC UTILITIES",
           "TELECOMMUNICATIONS EQUIPMENT"
          ],
          [
           "BKH",
           "PUBLIC UTILITIES",
           "ELECTRIC UTILITIES: CENTRAL"
          ],
          [
           "BT",
           "PUBLIC UTILITIES",
           "TELECOMMUNICATIONS EQUIPMENT"
          ],
          [
           "CBB",
           "PUBLIC UTILITIES",
           "TELECOMMUNICATIONS EQUIPMENT"
          ],
          [
           "CMS",
           "PUBLIC UTILITIES",
           "POWER GENERATION"
          ],
          [
           "CNP",
           "PUBLIC UTILITIES",
           "ELECTRIC UTILITIES: CENTRAL"
          ],
          [
           "CTL",
           "PUBLIC UTILITIES",
           "TELECOMMUNICATIONS EQUIPMENT"
          ],
          [
           "CWT",
           "PUBLIC UTILITIES",
           "WATER SUPPLY"
          ],
          [
           "D",
           "PUBLIC UTILITIES",
           "ELECTRIC UTILITIES: CENTRAL"
          ],
          [
           "DTE",
           "PUBLIC UTILITIES",
           "ELECTRIC UTILITIES: CENTRAL"
          ],
          [
           "DUK",
           "PUBLIC UTILITIES",
           "POWER GENERATION"
          ],
          [
           "ED",
           "PUBLIC UTILITIES",
           "POWER GENERATION"
          ],
          [
           "EIX",
           "PUBLIC UTILITIES",
           "ELECTRIC UTILITIES: CENTRAL"
          ],
          [
           "ES",
           "PUBLIC UTILITIES",
           "ELECTRIC UTILITIES: CENTRAL"
          ],
          [
           "ETR",
           "PUBLIC UTILITIES",
           "ELECTRIC UTILITIES: CENTRAL"
          ],
          [
           "EXC",
           "PUBLIC UTILITIES",
           "POWER GENERATION"
          ],
          [
           "FTR",
           "PUBLIC UTILITIES",
           "TELECOMMUNICATIONS EQUIPMENT"
          ],
          [
           "HE",
           "PUBLIC UTILITIES",
           "ELECTRIC UTILITIES: CENTRAL"
          ],
          [
           "IDA",
           "PUBLIC UTILITIES",
           "ELECTRIC UTILITIES: CENTRAL"
          ],
          [
           "LNT",
           "PUBLIC UTILITIES",
           "POWER GENERATION"
          ],
          [
           "NEE",
           "PUBLIC UTILITIES",
           "ELECTRIC UTILITIES: CENTRAL"
          ],
          [
           "NFG",
           "PUBLIC UTILITIES",
           "OIL/GAS TRANSMISSION"
          ],
          [
           "NI",
           "PUBLIC UTILITIES",
           "POWER GENERATION"
          ],
          [
           "NJR",
           "PUBLIC UTILITIES",
           "OIL/GAS TRANSMISSION"
          ],
          [
           "NWN",
           "PUBLIC UTILITIES",
           "OIL/GAS TRANSMISSION"
          ],
          [
           "OGE",
           "PUBLIC UTILITIES",
           "ELECTRIC UTILITIES: CENTRAL"
          ],
          [
           "OKE",
           "PUBLIC UTILITIES",
           "OIL & GAS PRODUCTION"
          ],
          [
           "OTTR",
           "PUBLIC UTILITIES",
           "ELECTRIC UTILITIES: CENTRAL"
          ],
          [
           "PCG",
           "PUBLIC UTILITIES",
           "POWER GENERATION"
          ],
          [
           "PEG",
           "PUBLIC UTILITIES",
           "POWER GENERATION"
          ],
          [
           "PHI",
           "PUBLIC UTILITIES",
           "TELECOMMUNICATIONS EQUIPMENT"
          ],
          [
           "PNM",
           "PUBLIC UTILITIES",
           "ELECTRIC UTILITIES: CENTRAL"
          ],
          [
           "PNW",
           "PUBLIC UTILITIES",
           "ELECTRIC UTILITIES: CENTRAL"
          ],
          [
           "PPL",
           "PUBLIC UTILITIES",
           "ELECTRIC UTILITIES: CENTRAL"
          ],
          [
           "S",
           "PUBLIC UTILITIES",
           "TELECOMMUNICATIONS EQUIPMENT"
          ],
          [
           "SCG",
           "PUBLIC UTILITIES",
           "POWER GENERATION"
          ],
          [
           "SJI",
           "PUBLIC UTILITIES",
           "OIL/GAS TRANSMISSION"
          ],
          [
           "SO",
           "PUBLIC UTILITIES",
           "ELECTRIC UTILITIES: CENTRAL"
          ],
          [
           "SR",
           "PUBLIC UTILITIES",
           "OIL/GAS TRANSMISSION"
          ],
          [
           "SWX",
           "PUBLIC UTILITIES",
           "OIL & GAS PRODUCTION"
          ],
          [
           "T",
           "PUBLIC UTILITIES",
           "TELECOMMUNICATIONS EQUIPMENT"
          ],
          [
           "TEF",
           "PUBLIC UTILITIES",
           "TELECOMMUNICATIONS EQUIPMENT"
          ],
          [
           "TRP",
           "PUBLIC UTILITIES",
           "NATURAL GAS DISTRIBUTION"
          ],
          [
           "UGI",
           "PUBLIC UTILITIES",
           "NATURAL GAS DISTRIBUTION"
          ],
          [
           "USM",
           "PUBLIC UTILITIES",
           "TELECOMMUNICATIONS EQUIPMENT"
          ],
          [
           "VOD",
           "PUBLIC UTILITIES",
           "TELECOMMUNICATIONS EQUIPMENT"
          ],
          [
           "VVC",
           "PUBLIC UTILITIES",
           "NATURAL GAS DISTRIBUTION"
          ],
          [
           "VZ",
           "PUBLIC UTILITIES",
           "TELECOMMUNICATIONS EQUIPMENT"
          ],
          [
           "WEC",
           "PUBLIC UTILITIES",
           "POWER GENERATION"
          ],
          [
           "WM",
           "PUBLIC UTILITIES",
           "ENVIRONMENTAL SERVICES"
          ],
          [
           "WMB",
           "PUBLIC UTILITIES",
           "NATURAL GAS DISTRIBUTION"
          ],
          [
           "WTR",
           "PUBLIC UTILITIES",
           "WATER SUPPLY"
          ]
         ],
         "hovertemplate": "<b>%{hovertext}</b><br><br>Sector=%{customdata[1]}<br>PC1=%{x}<br>PC2=%{y}<br>ticker=%{customdata[0]}<br>industry=%{customdata[2]}<extra></extra>",
         "hovertext": [
          "ELECTRIC UTILITIES: CENTRAL",
          "POWER GENERATION",
          "OIL/GAS TRANSMISSION",
          "POWER GENERATION",
          "WATER SUPPLY",
          "TELECOMMUNICATIONS EQUIPMENT",
          "ELECTRIC UTILITIES: CENTRAL",
          "TELECOMMUNICATIONS EQUIPMENT",
          "TELECOMMUNICATIONS EQUIPMENT",
          "POWER GENERATION",
          "ELECTRIC UTILITIES: CENTRAL",
          "TELECOMMUNICATIONS EQUIPMENT",
          "WATER SUPPLY",
          "ELECTRIC UTILITIES: CENTRAL",
          "ELECTRIC UTILITIES: CENTRAL",
          "POWER GENERATION",
          "POWER GENERATION",
          "ELECTRIC UTILITIES: CENTRAL",
          "ELECTRIC UTILITIES: CENTRAL",
          "ELECTRIC UTILITIES: CENTRAL",
          "POWER GENERATION",
          "TELECOMMUNICATIONS EQUIPMENT",
          "ELECTRIC UTILITIES: CENTRAL",
          "ELECTRIC UTILITIES: CENTRAL",
          "POWER GENERATION",
          "ELECTRIC UTILITIES: CENTRAL",
          "OIL/GAS TRANSMISSION",
          "POWER GENERATION",
          "OIL/GAS TRANSMISSION",
          "OIL/GAS TRANSMISSION",
          "ELECTRIC UTILITIES: CENTRAL",
          "OIL & GAS PRODUCTION",
          "ELECTRIC UTILITIES: CENTRAL",
          "POWER GENERATION",
          "POWER GENERATION",
          "TELECOMMUNICATIONS EQUIPMENT",
          "ELECTRIC UTILITIES: CENTRAL",
          "ELECTRIC UTILITIES: CENTRAL",
          "ELECTRIC UTILITIES: CENTRAL",
          "TELECOMMUNICATIONS EQUIPMENT",
          "POWER GENERATION",
          "OIL/GAS TRANSMISSION",
          "ELECTRIC UTILITIES: CENTRAL",
          "OIL/GAS TRANSMISSION",
          "OIL & GAS PRODUCTION",
          "TELECOMMUNICATIONS EQUIPMENT",
          "TELECOMMUNICATIONS EQUIPMENT",
          "NATURAL GAS DISTRIBUTION",
          "NATURAL GAS DISTRIBUTION",
          "TELECOMMUNICATIONS EQUIPMENT",
          "TELECOMMUNICATIONS EQUIPMENT",
          "NATURAL GAS DISTRIBUTION",
          "TELECOMMUNICATIONS EQUIPMENT",
          "POWER GENERATION",
          "ENVIRONMENTAL SERVICES",
          "NATURAL GAS DISTRIBUTION",
          "WATER SUPPLY"
         ],
         "legendgroup": "PUBLIC UTILITIES",
         "marker": {
          "color": "#6A76FC",
          "line": {
           "color": "DarkSlateGrey",
           "width": 1
          },
          "opacity": 0.7,
          "size": 8,
          "symbol": "square"
         },
         "mode": "markers",
         "name": "PUBLIC UTILITIES",
         "orientation": "v",
         "showlegend": true,
         "type": "scatter",
         "x": [
          -0.04269134998321533,
          -0.36213070154190063,
          -0.06666696816682816,
          -0.1699378937482834,
          -0.05277058482170105,
          -0.061344508081674576,
          -0.008224671706557274,
          0.11808714270591736,
          0.032956384122371674,
          -0.03244310989975929,
          0.3009110689163208,
          -0.0075233979150652885,
          -0.06831331551074982,
          -0.041128288954496384,
          -0.03696241229772568,
          -0.015096927992999554,
          -0.04551068693399429,
          0.02925286814570427,
          -0.0375492237508297,
          -0.027295313775539398,
          -0.017916787415742874,
          0.2730640769004822,
          -0.04832956939935684,
          -0.05097373574972153,
          -0.008747425861656666,
          -0.008029544726014137,
          0.0989084243774414,
          -0.016441194340586662,
          -0.051422301679849625,
          -0.02560107409954071,
          0.012838673777878284,
          0.25266459584236145,
          -0.0815424919128418,
          -0.04328985884785652,
          0.002024158602580428,
          -0.001977400854229927,
          -0.020345715805888176,
          -0.04215965047478676,
          -0.03141828998923302,
          -0.06906913965940475,
          -0.04031239449977875,
          -0.015999987721443176,
          -0.02791859582066536,
          -0.0650797188282013,
          -0.04693061485886574,
          -0.031004944816231728,
          0.08767370134592056,
          -0.017297830432653427,
          -0.036918897181749344,
          0.012739909812808037,
          -0.026361342519521713,
          -0.036628358066082,
          -0.025774696841835976,
          -0.016276521608233452,
          -0.009257451631128788,
          0.807797372341156,
          -0.04683186486363411
         ],
         "xaxis": "x",
         "y": [
          0.06246689334511757,
          0.6387274265289307,
          0.05099426582455635,
          0.4305593967437744,
          0.06838405877351761,
          0.0808129832148552,
          0.05479035899043083,
          0.018690256401896477,
          0.2679537534713745,
          0.06418397277593613,
          0.8336094617843628,
          0.07076780498027802,
          0.03728079795837402,
          0.07541639357805252,
          0.05549284815788269,
          0.06943196058273315,
          0.06177162006497383,
          0.19109714031219482,
          0.07514534890651703,
          0.06784813106060028,
          0.05702114850282669,
          0.619496762752533,
          0.08340953290462494,
          0.10036377608776093,
          0.05340157821774483,
          0.06506875902414322,
          0.029954899102449417,
          0.06577368080615997,
          0.0986243188381195,
          0.05718313530087471,
          0.11954834312200546,
          -0.04945821315050125,
          0.09569604694843292,
          0.24838413298130035,
          0.07127812504768372,
          0.08040658384561539,
          0.0634351298213005,
          0.07026002556085587,
          0.06930281966924667,
          0.3082972466945648,
          0.0787312462925911,
          0.0486043356359005,
          0.06474541127681732,
          0.07001571357250214,
          0.08771978318691254,
          0.06724400818347931,
          0.058756522834300995,
          0.052402839064598083,
          0.07242140173912048,
          0.08171685039997101,
          0.0749862939119339,
          0.05414291471242905,
          0.05231102555990219,
          0.059768956154584885,
          0.04986058548092842,
          0.29284289479255676,
          0.08083304762840271
         ],
         "yaxis": "y"
        },
        {
         "customdata": [
          [
           "ANDV",
           "ENERGY",
           "INTEGRATED OIL COMPANIES"
          ],
          [
           "APA",
           "ENERGY",
           "OIL & GAS PRODUCTION"
          ],
          [
           "APC",
           "ENERGY",
           "OIL & GAS PRODUCTION"
          ],
          [
           "BC",
           "ENERGY",
           "INDUSTRIAL MACHINERY/COMPONENTS"
          ],
          [
           "BGG",
           "ENERGY",
           "INDUSTRIAL MACHINERY/COMPONENTS"
          ],
          [
           "BHGE",
           "ENERGY",
           "METAL FABRICATIONS"
          ],
          [
           "BP",
           "ENERGY",
           "INTEGRATED OIL COMPANIES"
          ],
          [
           "BPL",
           "ENERGY",
           "NATURAL GAS DISTRIBUTION"
          ],
          [
           "BPT",
           "ENERGY",
           "INTEGRATED OIL COMPANIES"
          ],
          [
           "CMI",
           "ENERGY",
           "INDUSTRIAL MACHINERY/COMPONENTS"
          ],
          [
           "COG",
           "ENERGY",
           "OIL & GAS PRODUCTION"
          ],
          [
           "COP",
           "ENERGY",
           "INTEGRATED OIL COMPANIES"
          ],
          [
           "CRK",
           "ENERGY",
           "OIL & GAS PRODUCTION"
          ],
          [
           "CVX",
           "ENERGY",
           "INTEGRATED OIL COMPANIES"
          ],
          [
           "DVN",
           "ENERGY",
           "OIL & GAS PRODUCTION"
          ],
          [
           "EGN",
           "ENERGY",
           "OIL & GAS PRODUCTION"
          ],
          [
           "EMR",
           "ENERGY",
           "CONSUMER ELECTRONICS/APPLIANCES"
          ],
          [
           "EOG",
           "ENERGY",
           "OIL & GAS PRODUCTION"
          ],
          [
           "EQT",
           "ENERGY",
           "OIL & GAS PRODUCTION"
          ],
          [
           "ESV",
           "ENERGY",
           "OIL & GAS PRODUCTION"
          ],
          [
           "GE",
           "ENERGY",
           "CONSUMER ELECTRONICS/APPLIANCES"
          ],
          [
           "HAL",
           "ENERGY",
           "OILFIELD SERVICES/EQUIPMENT"
          ],
          [
           "HES",
           "ENERGY",
           "INTEGRATED OIL COMPANIES"
          ],
          [
           "HP",
           "ENERGY",
           "OIL & GAS PRODUCTION"
          ],
          [
           "INT",
           "ENERGY",
           "OIL REFINING/MARKETING"
          ],
          [
           "MGEE",
           "ENERGY",
           "ELECTRIC UTILITIES: CENTRAL"
          ],
          [
           "MRO",
           "ENERGY",
           "OIL & GAS PRODUCTION"
          ],
          [
           "MUR",
           "ENERGY",
           "OIL & GAS PRODUCTION"
          ],
          [
           "NBL",
           "ENERGY",
           "OIL & GAS PRODUCTION"
          ],
          [
           "NBR",
           "ENERGY",
           "OIL & GAS PRODUCTION"
          ],
          [
           "NE",
           "ENERGY",
           "OIL & GAS PRODUCTION"
          ],
          [
           "OII",
           "ENERGY",
           "OILFIELD SERVICES/EQUIPMENT"
          ],
          [
           "OXY",
           "ENERGY",
           "OIL & GAS PRODUCTION"
          ],
          [
           "PHG",
           "ENERGY",
           "CONSUMER ELECTRONICS/APPLIANCES"
          ],
          [
           "PKD",
           "ENERGY",
           "OIL & GAS PRODUCTION"
          ],
          [
           "RDC",
           "ENERGY",
           "OIL & GAS PRODUCTION"
          ],
          [
           "SBR",
           "ENERGY",
           "OIL & GAS PRODUCTION"
          ],
          [
           "SJT",
           "ENERGY",
           "OIL & GAS PRODUCTION"
          ],
          [
           "SLB",
           "ENERGY",
           "OILFIELD SERVICES/EQUIPMENT"
          ],
          [
           "SSL",
           "ENERGY",
           "OIL & GAS PRODUCTION"
          ],
          [
           "SWN",
           "ENERGY",
           "OIL & GAS PRODUCTION"
          ],
          [
           "TTI",
           "ENERGY",
           "OIL & GAS PRODUCTION"
          ],
          [
           "UNT",
           "ENERGY",
           "OIL & GAS PRODUCTION"
          ],
          [
           "VLO",
           "ENERGY",
           "INTEGRATED OIL COMPANIES"
          ],
          [
           "WFT",
           "ENERGY",
           "METAL FABRICATIONS"
          ],
          [
           "XOM",
           "ENERGY",
           "INTEGRATED OIL COMPANIES"
          ]
         ],
         "hovertemplate": "<b>%{hovertext}</b><br><br>Sector=%{customdata[1]}<br>PC1=%{x}<br>PC2=%{y}<br>ticker=%{customdata[0]}<br>industry=%{customdata[2]}<extra></extra>",
         "hovertext": [
          "INTEGRATED OIL COMPANIES",
          "OIL & GAS PRODUCTION",
          "OIL & GAS PRODUCTION",
          "INDUSTRIAL MACHINERY/COMPONENTS",
          "INDUSTRIAL MACHINERY/COMPONENTS",
          "METAL FABRICATIONS",
          "INTEGRATED OIL COMPANIES",
          "NATURAL GAS DISTRIBUTION",
          "INTEGRATED OIL COMPANIES",
          "INDUSTRIAL MACHINERY/COMPONENTS",
          "OIL & GAS PRODUCTION",
          "INTEGRATED OIL COMPANIES",
          "OIL & GAS PRODUCTION",
          "INTEGRATED OIL COMPANIES",
          "OIL & GAS PRODUCTION",
          "OIL & GAS PRODUCTION",
          "CONSUMER ELECTRONICS/APPLIANCES",
          "OIL & GAS PRODUCTION",
          "OIL & GAS PRODUCTION",
          "OIL & GAS PRODUCTION",
          "CONSUMER ELECTRONICS/APPLIANCES",
          "OILFIELD SERVICES/EQUIPMENT",
          "INTEGRATED OIL COMPANIES",
          "OIL & GAS PRODUCTION",
          "OIL REFINING/MARKETING",
          "ELECTRIC UTILITIES: CENTRAL",
          "OIL & GAS PRODUCTION",
          "OIL & GAS PRODUCTION",
          "OIL & GAS PRODUCTION",
          "OIL & GAS PRODUCTION",
          "OIL & GAS PRODUCTION",
          "OILFIELD SERVICES/EQUIPMENT",
          "OIL & GAS PRODUCTION",
          "CONSUMER ELECTRONICS/APPLIANCES",
          "OIL & GAS PRODUCTION",
          "OIL & GAS PRODUCTION",
          "OIL & GAS PRODUCTION",
          "OIL & GAS PRODUCTION",
          "OILFIELD SERVICES/EQUIPMENT",
          "OIL & GAS PRODUCTION",
          "OIL & GAS PRODUCTION",
          "OIL & GAS PRODUCTION",
          "OIL & GAS PRODUCTION",
          "INTEGRATED OIL COMPANIES",
          "METAL FABRICATIONS",
          "INTEGRATED OIL COMPANIES"
         ],
         "legendgroup": "ENERGY",
         "marker": {
          "color": "#FED4C4",
          "line": {
           "color": "DarkSlateGrey",
           "width": 1
          },
          "opacity": 0.7,
          "size": 8,
          "symbol": "x"
         },
         "mode": "markers",
         "name": "ENERGY",
         "orientation": "v",
         "showlegend": true,
         "type": "scatter",
         "x": [
          0.791606068611145,
          0.7050046324729919,
          0.7597156167030334,
          -0.6459049582481384,
          -0.04706801474094391,
          0.7564668655395508,
          0.27096015214920044,
          0.056629668921232224,
          0.9394775629043579,
          -0.02700091525912285,
          1.0645084381103516,
          0.36783865094184875,
          0.5120061039924622,
          0.12571613490581512,
          0.9704246520996094,
          0.5081450343132019,
          0.05593609809875488,
          0.810836911201477,
          0.4505760371685028,
          1.2197277545928955,
          0.04177997633814812,
          0.9669710993766785,
          0.742154061794281,
          1.0916692018508911,
          0.6851527094841003,
          -0.08125359565019608,
          1.0683157444000244,
          0.6947634220123291,
          0.7901620268821716,
          1.0516301393508911,
          1.187836766242981,
          0.9498254060745239,
          0.4025435447692871,
          0.013920637778937817,
          0.7329144477844238,
          1.143104076385498,
          0.3897453844547272,
          0.4281931519508362,
          0.8560890555381775,
          0.7018056511878967,
          1.0215380191802979,
          0.755662202835083,
          1.0308499336242676,
          1.0214202404022217,
          1.2037858963012695,
          0.0945756658911705
         ],
         "xaxis": "x",
         "y": [
          -0.15286590158939362,
          -0.10591844469308853,
          -0.17257337272167206,
          -0.6999984979629517,
          -0.023031583055853844,
          -0.22809603810310364,
          0.014550844207406044,
          0.05029040575027466,
          0.21878235042095184,
          -0.13197439908981323,
          0.08542044460773468,
          -0.03856588900089264,
          0.19846825301647186,
          0.02253270335495472,
          -0.17372336983680725,
          -0.032932981848716736,
          0.03999943286180496,
          -0.1696527749300003,
          -0.03908826410770416,
          -0.43005454540252686,
          0.016697168350219727,
          -0.2783493995666504,
          -0.14672686159610748,
          -0.3606884181499481,
          -0.004439457319676876,
          0.08185315132141113,
          -0.2770451009273529,
          -0.14368991553783417,
          -0.13793736696243286,
          -0.2855808436870575,
          -0.4291677176952362,
          -0.18074484169483185,
          -0.04964258149266243,
          -0.014876093715429306,
          -0.0899776890873909,
          -0.40998438000679016,
          -0.027738450095057487,
          -0.007202000357210636,
          -0.20911431312561035,
          -0.1019139513373375,
          0.14579300582408905,
          -0.21277602016925812,
          -0.2384788990020752,
          -0.2026694267988205,
          -0.5191835761070251,
          0.033561062067747116
         ],
         "yaxis": "y"
        }
       ],
       "layout": {
        "height": 550,
        "legend": {
         "orientation": "h",
         "title": {
          "text": "Sector"
         },
         "tracegroupgap": 0,
         "x": 1,
         "xanchor": "right",
         "y": 1.02,
         "yanchor": "bottom"
        },
        "margin": {
         "t": 60
        },
        "template": {
         "data": {
          "bar": [
           {
            "error_x": {
             "color": "#2a3f5f"
            },
            "error_y": {
             "color": "#2a3f5f"
            },
            "marker": {
             "line": {
              "color": "white",
              "width": 0.5
             },
             "pattern": {
              "fillmode": "overlay",
              "size": 10,
              "solidity": 0.2
             }
            },
            "type": "bar"
           }
          ],
          "barpolar": [
           {
            "marker": {
             "line": {
              "color": "white",
              "width": 0.5
             },
             "pattern": {
              "fillmode": "overlay",
              "size": 10,
              "solidity": 0.2
             }
            },
            "type": "barpolar"
           }
          ],
          "carpet": [
           {
            "aaxis": {
             "endlinecolor": "#2a3f5f",
             "gridcolor": "#C8D4E3",
             "linecolor": "#C8D4E3",
             "minorgridcolor": "#C8D4E3",
             "startlinecolor": "#2a3f5f"
            },
            "baxis": {
             "endlinecolor": "#2a3f5f",
             "gridcolor": "#C8D4E3",
             "linecolor": "#C8D4E3",
             "minorgridcolor": "#C8D4E3",
             "startlinecolor": "#2a3f5f"
            },
            "type": "carpet"
           }
          ],
          "choropleth": [
           {
            "colorbar": {
             "outlinewidth": 0,
             "ticks": ""
            },
            "type": "choropleth"
           }
          ],
          "contour": [
           {
            "colorbar": {
             "outlinewidth": 0,
             "ticks": ""
            },
            "colorscale": [
             [
              0,
              "#0d0887"
             ],
             [
              0.1111111111111111,
              "#46039f"
             ],
             [
              0.2222222222222222,
              "#7201a8"
             ],
             [
              0.3333333333333333,
              "#9c179e"
             ],
             [
              0.4444444444444444,
              "#bd3786"
             ],
             [
              0.5555555555555556,
              "#d8576b"
             ],
             [
              0.6666666666666666,
              "#ed7953"
             ],
             [
              0.7777777777777778,
              "#fb9f3a"
             ],
             [
              0.8888888888888888,
              "#fdca26"
             ],
             [
              1,
              "#f0f921"
             ]
            ],
            "type": "contour"
           }
          ],
          "contourcarpet": [
           {
            "colorbar": {
             "outlinewidth": 0,
             "ticks": ""
            },
            "type": "contourcarpet"
           }
          ],
          "heatmap": [
           {
            "colorbar": {
             "outlinewidth": 0,
             "ticks": ""
            },
            "colorscale": [
             [
              0,
              "#0d0887"
             ],
             [
              0.1111111111111111,
              "#46039f"
             ],
             [
              0.2222222222222222,
              "#7201a8"
             ],
             [
              0.3333333333333333,
              "#9c179e"
             ],
             [
              0.4444444444444444,
              "#bd3786"
             ],
             [
              0.5555555555555556,
              "#d8576b"
             ],
             [
              0.6666666666666666,
              "#ed7953"
             ],
             [
              0.7777777777777778,
              "#fb9f3a"
             ],
             [
              0.8888888888888888,
              "#fdca26"
             ],
             [
              1,
              "#f0f921"
             ]
            ],
            "type": "heatmap"
           }
          ],
          "heatmapgl": [
           {
            "colorbar": {
             "outlinewidth": 0,
             "ticks": ""
            },
            "colorscale": [
             [
              0,
              "#0d0887"
             ],
             [
              0.1111111111111111,
              "#46039f"
             ],
             [
              0.2222222222222222,
              "#7201a8"
             ],
             [
              0.3333333333333333,
              "#9c179e"
             ],
             [
              0.4444444444444444,
              "#bd3786"
             ],
             [
              0.5555555555555556,
              "#d8576b"
             ],
             [
              0.6666666666666666,
              "#ed7953"
             ],
             [
              0.7777777777777778,
              "#fb9f3a"
             ],
             [
              0.8888888888888888,
              "#fdca26"
             ],
             [
              1,
              "#f0f921"
             ]
            ],
            "type": "heatmapgl"
           }
          ],
          "histogram": [
           {
            "marker": {
             "pattern": {
              "fillmode": "overlay",
              "size": 10,
              "solidity": 0.2
             }
            },
            "type": "histogram"
           }
          ],
          "histogram2d": [
           {
            "colorbar": {
             "outlinewidth": 0,
             "ticks": ""
            },
            "colorscale": [
             [
              0,
              "#0d0887"
             ],
             [
              0.1111111111111111,
              "#46039f"
             ],
             [
              0.2222222222222222,
              "#7201a8"
             ],
             [
              0.3333333333333333,
              "#9c179e"
             ],
             [
              0.4444444444444444,
              "#bd3786"
             ],
             [
              0.5555555555555556,
              "#d8576b"
             ],
             [
              0.6666666666666666,
              "#ed7953"
             ],
             [
              0.7777777777777778,
              "#fb9f3a"
             ],
             [
              0.8888888888888888,
              "#fdca26"
             ],
             [
              1,
              "#f0f921"
             ]
            ],
            "type": "histogram2d"
           }
          ],
          "histogram2dcontour": [
           {
            "colorbar": {
             "outlinewidth": 0,
             "ticks": ""
            },
            "colorscale": [
             [
              0,
              "#0d0887"
             ],
             [
              0.1111111111111111,
              "#46039f"
             ],
             [
              0.2222222222222222,
              "#7201a8"
             ],
             [
              0.3333333333333333,
              "#9c179e"
             ],
             [
              0.4444444444444444,
              "#bd3786"
             ],
             [
              0.5555555555555556,
              "#d8576b"
             ],
             [
              0.6666666666666666,
              "#ed7953"
             ],
             [
              0.7777777777777778,
              "#fb9f3a"
             ],
             [
              0.8888888888888888,
              "#fdca26"
             ],
             [
              1,
              "#f0f921"
             ]
            ],
            "type": "histogram2dcontour"
           }
          ],
          "mesh3d": [
           {
            "colorbar": {
             "outlinewidth": 0,
             "ticks": ""
            },
            "type": "mesh3d"
           }
          ],
          "parcoords": [
           {
            "line": {
             "colorbar": {
              "outlinewidth": 0,
              "ticks": ""
             }
            },
            "type": "parcoords"
           }
          ],
          "pie": [
           {
            "automargin": true,
            "type": "pie"
           }
          ],
          "scatter": [
           {
            "fillpattern": {
             "fillmode": "overlay",
             "size": 10,
             "solidity": 0.2
            },
            "type": "scatter"
           }
          ],
          "scatter3d": [
           {
            "line": {
             "colorbar": {
              "outlinewidth": 0,
              "ticks": ""
             }
            },
            "marker": {
             "colorbar": {
              "outlinewidth": 0,
              "ticks": ""
             }
            },
            "type": "scatter3d"
           }
          ],
          "scattercarpet": [
           {
            "marker": {
             "colorbar": {
              "outlinewidth": 0,
              "ticks": ""
             }
            },
            "type": "scattercarpet"
           }
          ],
          "scattergeo": [
           {
            "marker": {
             "colorbar": {
              "outlinewidth": 0,
              "ticks": ""
             }
            },
            "type": "scattergeo"
           }
          ],
          "scattergl": [
           {
            "marker": {
             "colorbar": {
              "outlinewidth": 0,
              "ticks": ""
             }
            },
            "type": "scattergl"
           }
          ],
          "scattermapbox": [
           {
            "marker": {
             "colorbar": {
              "outlinewidth": 0,
              "ticks": ""
             }
            },
            "type": "scattermapbox"
           }
          ],
          "scatterpolar": [
           {
            "marker": {
             "colorbar": {
              "outlinewidth": 0,
              "ticks": ""
             }
            },
            "type": "scatterpolar"
           }
          ],
          "scatterpolargl": [
           {
            "marker": {
             "colorbar": {
              "outlinewidth": 0,
              "ticks": ""
             }
            },
            "type": "scatterpolargl"
           }
          ],
          "scatterternary": [
           {
            "marker": {
             "colorbar": {
              "outlinewidth": 0,
              "ticks": ""
             }
            },
            "type": "scatterternary"
           }
          ],
          "surface": [
           {
            "colorbar": {
             "outlinewidth": 0,
             "ticks": ""
            },
            "colorscale": [
             [
              0,
              "#0d0887"
             ],
             [
              0.1111111111111111,
              "#46039f"
             ],
             [
              0.2222222222222222,
              "#7201a8"
             ],
             [
              0.3333333333333333,
              "#9c179e"
             ],
             [
              0.4444444444444444,
              "#bd3786"
             ],
             [
              0.5555555555555556,
              "#d8576b"
             ],
             [
              0.6666666666666666,
              "#ed7953"
             ],
             [
              0.7777777777777778,
              "#fb9f3a"
             ],
             [
              0.8888888888888888,
              "#fdca26"
             ],
             [
              1,
              "#f0f921"
             ]
            ],
            "type": "surface"
           }
          ],
          "table": [
           {
            "cells": {
             "fill": {
              "color": "#EBF0F8"
             },
             "line": {
              "color": "white"
             }
            },
            "header": {
             "fill": {
              "color": "#C8D4E3"
             },
             "line": {
              "color": "white"
             }
            },
            "type": "table"
           }
          ]
         },
         "layout": {
          "annotationdefaults": {
           "arrowcolor": "#2a3f5f",
           "arrowhead": 0,
           "arrowwidth": 1
          },
          "autotypenumbers": "strict",
          "coloraxis": {
           "colorbar": {
            "outlinewidth": 0,
            "ticks": ""
           }
          },
          "colorscale": {
           "diverging": [
            [
             0,
             "#8e0152"
            ],
            [
             0.1,
             "#c51b7d"
            ],
            [
             0.2,
             "#de77ae"
            ],
            [
             0.3,
             "#f1b6da"
            ],
            [
             0.4,
             "#fde0ef"
            ],
            [
             0.5,
             "#f7f7f7"
            ],
            [
             0.6,
             "#e6f5d0"
            ],
            [
             0.7,
             "#b8e186"
            ],
            [
             0.8,
             "#7fbc41"
            ],
            [
             0.9,
             "#4d9221"
            ],
            [
             1,
             "#276419"
            ]
           ],
           "sequential": [
            [
             0,
             "#0d0887"
            ],
            [
             0.1111111111111111,
             "#46039f"
            ],
            [
             0.2222222222222222,
             "#7201a8"
            ],
            [
             0.3333333333333333,
             "#9c179e"
            ],
            [
             0.4444444444444444,
             "#bd3786"
            ],
            [
             0.5555555555555556,
             "#d8576b"
            ],
            [
             0.6666666666666666,
             "#ed7953"
            ],
            [
             0.7777777777777778,
             "#fb9f3a"
            ],
            [
             0.8888888888888888,
             "#fdca26"
            ],
            [
             1,
             "#f0f921"
            ]
           ],
           "sequentialminus": [
            [
             0,
             "#0d0887"
            ],
            [
             0.1111111111111111,
             "#46039f"
            ],
            [
             0.2222222222222222,
             "#7201a8"
            ],
            [
             0.3333333333333333,
             "#9c179e"
            ],
            [
             0.4444444444444444,
             "#bd3786"
            ],
            [
             0.5555555555555556,
             "#d8576b"
            ],
            [
             0.6666666666666666,
             "#ed7953"
            ],
            [
             0.7777777777777778,
             "#fb9f3a"
            ],
            [
             0.8888888888888888,
             "#fdca26"
            ],
            [
             1,
             "#f0f921"
            ]
           ]
          },
          "colorway": [
           "#636efa",
           "#EF553B",
           "#00cc96",
           "#ab63fa",
           "#FFA15A",
           "#19d3f3",
           "#FF6692",
           "#B6E880",
           "#FF97FF",
           "#FECB52"
          ],
          "font": {
           "color": "#2a3f5f"
          },
          "geo": {
           "bgcolor": "white",
           "lakecolor": "white",
           "landcolor": "white",
           "showlakes": true,
           "showland": true,
           "subunitcolor": "#C8D4E3"
          },
          "hoverlabel": {
           "align": "left"
          },
          "hovermode": "closest",
          "mapbox": {
           "style": "light"
          },
          "paper_bgcolor": "white",
          "plot_bgcolor": "white",
          "polar": {
           "angularaxis": {
            "gridcolor": "#EBF0F8",
            "linecolor": "#EBF0F8",
            "ticks": ""
           },
           "bgcolor": "white",
           "radialaxis": {
            "gridcolor": "#EBF0F8",
            "linecolor": "#EBF0F8",
            "ticks": ""
           }
          },
          "scene": {
           "xaxis": {
            "backgroundcolor": "white",
            "gridcolor": "#DFE8F3",
            "gridwidth": 2,
            "linecolor": "#EBF0F8",
            "showbackground": true,
            "ticks": "",
            "zerolinecolor": "#EBF0F8"
           },
           "yaxis": {
            "backgroundcolor": "white",
            "gridcolor": "#DFE8F3",
            "gridwidth": 2,
            "linecolor": "#EBF0F8",
            "showbackground": true,
            "ticks": "",
            "zerolinecolor": "#EBF0F8"
           },
           "zaxis": {
            "backgroundcolor": "white",
            "gridcolor": "#DFE8F3",
            "gridwidth": 2,
            "linecolor": "#EBF0F8",
            "showbackground": true,
            "ticks": "",
            "zerolinecolor": "#EBF0F8"
           }
          },
          "shapedefaults": {
           "line": {
            "color": "#2a3f5f"
           }
          },
          "ternary": {
           "aaxis": {
            "gridcolor": "#DFE8F3",
            "linecolor": "#A2B1C6",
            "ticks": ""
           },
           "baxis": {
            "gridcolor": "#DFE8F3",
            "linecolor": "#A2B1C6",
            "ticks": ""
           },
           "bgcolor": "white",
           "caxis": {
            "gridcolor": "#DFE8F3",
            "linecolor": "#A2B1C6",
            "ticks": ""
           }
          },
          "title": {
           "x": 0.05
          },
          "xaxis": {
           "automargin": true,
           "gridcolor": "#EBF0F8",
           "linecolor": "#EBF0F8",
           "ticks": "",
           "title": {
            "standoff": 15
           },
           "zerolinecolor": "#EBF0F8",
           "zerolinewidth": 2
          },
          "yaxis": {
           "automargin": true,
           "gridcolor": "#EBF0F8",
           "linecolor": "#EBF0F8",
           "ticks": "",
           "title": {
            "standoff": 15
           },
           "zerolinecolor": "#EBF0F8",
           "zerolinewidth": 2
          }
         }
        },
        "width": 650,
        "xaxis": {
         "anchor": "y",
         "domain": [
          0,
          1
         ],
         "title": {
          "text": "PC1"
         }
        },
        "yaxis": {
         "anchor": "x",
         "domain": [
          0,
          1
         ],
         "title": {
          "text": "PC2"
         }
        }
       }
      }
     },
     "metadata": {},
     "output_type": "display_data"
    }
   ],
   "source": [
    "from utils.visualisation_functions import pca_plot_from_embeddings\n",
    "\n",
    "pca_plot_from_embeddings(\n",
    "    embedding_matrix=embeddings.weight.detach().numpy(),\n",
    "    sectors=data.sectors,\n",
    "    tickers=data.tickers,\n",
    "    industries=data.industries,\n",
    "    names=data.names,\n",
    "    dimensions=2,\n",
    "    reduced=True,\n",
    "    method=\"PCA\",\n",
    "    return_df=False,\n",
    "    rand_state=None,\n",
    ")"
   ]
  },
  {
   "cell_type": "code",
   "execution_count": null,
   "metadata": {},
   "outputs": [],
   "source": []
  }
 ],
 "metadata": {
  "kernelspec": {
   "display_name": "phd",
   "language": "python",
   "name": "python3"
  },
  "language_info": {
   "codemirror_mode": {
    "name": "ipython",
    "version": 3
   },
   "file_extension": ".py",
   "mimetype": "text/x-python",
   "name": "python",
   "nbconvert_exporter": "python",
   "pygments_lexer": "ipython3",
   "version": "3.11.6"
  }
 },
 "nbformat": 4,
 "nbformat_minor": 2
}
