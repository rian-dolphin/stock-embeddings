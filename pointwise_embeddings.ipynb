{
 "cells": [
  {
   "cell_type": "markdown",
   "metadata": {},
   "source": [
    "### This Notebooks Contains the Code For Learning Stock Embeddings\n",
    "This approach was described in:\n",
    "- The original preprint: [Stock Embeddings: Learning Distributed Representations for Financial Assets](https://arxiv.org/pdf/2202.08968.pdf)\n",
    "- The more updated conference publication which can be found [here](https://www.mdpi.com/2673-4591/39/1/30/pdf?version=1695109017)\n",
    "\n",
    "For any questions, reach out to me at dolphrian@gmail.com"
   ]
  },
  {
   "cell_type": "code",
   "execution_count": 1,
   "metadata": {},
   "outputs": [
    {
     "name": "stdout",
     "output_type": "stream",
     "text": [
      "Running for period 1\n",
      "No change made because period entered is 1\n"
     ]
    },
    {
     "name": "stderr",
     "output_type": "stream",
     "text": [
      "100%|██████████| 611/611 [00:05<00:00, 108.05it/s]\n"
     ]
    },
    {
     "name": "stdout",
     "output_type": "stream",
     "text": [
      "====================\n",
      "Running for period 5\n"
     ]
    },
    {
     "name": "stderr",
     "output_type": "stream",
     "text": [
      "100%|██████████| 611/611 [00:01<00:00, 449.64it/s] \n"
     ]
    },
    {
     "name": "stdout",
     "output_type": "stream",
     "text": [
      "====================\n",
      "Running for period 10\n"
     ]
    },
    {
     "name": "stderr",
     "output_type": "stream",
     "text": [
      "100%|██████████| 611/611 [00:00<00:00, 1846.59it/s]"
     ]
    },
    {
     "name": "stdout",
     "output_type": "stream",
     "text": [
      "====================\n",
      "Total number of target context sets: 1860195\n"
     ]
    },
    {
     "name": "stderr",
     "output_type": "stream",
     "text": [
      "\n"
     ]
    }
   ],
   "source": [
    "from utils.returns_data_class import ReturnsData\n",
    "from utils.pointwise_context import get_pointwise_tgt_context_sets\n",
    "\n",
    "# Constants and configurations\n",
    "PERIODS = [1, 5, 10]\n",
    "TRAIN_PCT = 1\n",
    "CONTEXT_SIZE = 32\n",
    "\n",
    "tgt_context_sets = []\n",
    "for period in PERIODS:\n",
    "    print(f\"Running for period {period}\")\n",
    "    data = ReturnsData(\n",
    "        daily_returns_path=\"Data/returns_df_611.csv\",\n",
    "        extras_path=\"Data/historical_stocks.csv\",\n",
    "    )\n",
    "    data.change_returns_period(period)\n",
    "    data.train_test_split(TRAIN_PCT)\n",
    "\n",
    "    tgt_context_sets += get_pointwise_tgt_context_sets(\n",
    "        data.train_returns_df,\n",
    "        context_size=CONTEXT_SIZE,\n",
    "        verbose=True,\n",
    "        iqr_noise_reduction=True,\n",
    "    )\n",
    "    print(\"=\"*20)\n",
    "print(f\"Total number of target context sets: {len(tgt_context_sets)}\")"
   ]
  },
  {
   "cell_type": "code",
   "execution_count": 2,
   "metadata": {},
   "outputs": [
    {
     "name": "stdout",
     "output_type": "stream",
     "text": [
      "The most commonly co-occurring stocks with JPM are: ['C', 'BAC', 'STI', 'WFC', 'PNC']\n"
     ]
    }
   ],
   "source": [
    "import pandas as pd\n",
    "import numpy as np\n",
    "\n",
    "ticker = \"JPM\"\n",
    "i = data.ticker2idx[ticker]\n",
    "temp = np.array([xi[1] for xi in tgt_context_sets if xi[0] == i]).flatten()\n",
    "print(\n",
    "    f\"The most commonly co-occurring stocks with {ticker} are: {[data.idx2ticker[xi] for xi in pd.Series(temp).value_counts().index][:5]}\"\n",
    ")"
   ]
  },
  {
   "cell_type": "code",
   "execution_count": 3,
   "metadata": {},
   "outputs": [],
   "source": [
    "from models.embedding_models import ClassificationEmbeddings\n",
    "\n",
    "EMBEDDING_DIM = 20\n",
    "model = ClassificationEmbeddings(\n",
    "    n_time_series=len(data.tickers), embedding_dim=EMBEDDING_DIM\n",
    ")"
   ]
  },
  {
   "cell_type": "code",
   "execution_count": 4,
   "metadata": {},
   "outputs": [
    {
     "name": "stdout",
     "output_type": "stream",
     "text": [
      "Training embeddings...\n"
     ]
    },
    {
     "name": "stderr",
     "output_type": "stream",
     "text": [
      " 10%|█         | 1/10 [00:47<07:06, 47.35s/it]"
     ]
    },
    {
     "name": "stdout",
     "output_type": "stream",
     "text": [
      "Epoch 0: Loss = 0.10349648851070103\n"
     ]
    },
    {
     "name": "stderr",
     "output_type": "stream",
     "text": [
      " 20%|██        | 2/10 [01:34<06:17, 47.14s/it]"
     ]
    },
    {
     "name": "stdout",
     "output_type": "stream",
     "text": [
      "Epoch 1: Loss = 0.10100494772452158\n"
     ]
    },
    {
     "name": "stderr",
     "output_type": "stream",
     "text": [
      " 30%|███       | 3/10 [02:22<05:34, 47.81s/it]"
     ]
    },
    {
     "name": "stdout",
     "output_type": "stream",
     "text": [
      "Epoch 2: Loss = 0.09943320442528768\n"
     ]
    },
    {
     "name": "stderr",
     "output_type": "stream",
     "text": [
      " 40%|████      | 4/10 [03:10<04:45, 47.65s/it]"
     ]
    },
    {
     "name": "stdout",
     "output_type": "stream",
     "text": [
      "Epoch 3: Loss = 0.09860378110160643\n"
     ]
    },
    {
     "name": "stderr",
     "output_type": "stream",
     "text": [
      " 50%|█████     | 5/10 [03:57<03:56, 47.35s/it]"
     ]
    },
    {
     "name": "stdout",
     "output_type": "stream",
     "text": [
      "Epoch 4: Loss = 0.098134168269875\n"
     ]
    },
    {
     "name": "stderr",
     "output_type": "stream",
     "text": [
      " 60%|██████    | 6/10 [04:43<03:07, 46.87s/it]"
     ]
    },
    {
     "name": "stdout",
     "output_type": "stream",
     "text": [
      "Epoch 5: Loss = 0.09783325901406574\n"
     ]
    },
    {
     "name": "stderr",
     "output_type": "stream",
     "text": [
      " 70%|███████   | 7/10 [05:32<02:22, 47.61s/it]"
     ]
    },
    {
     "name": "stdout",
     "output_type": "stream",
     "text": [
      "Epoch 6: Loss = 0.09762726479700054\n"
     ]
    },
    {
     "name": "stderr",
     "output_type": "stream",
     "text": [
      " 80%|████████  | 8/10 [06:21<01:36, 48.02s/it]"
     ]
    },
    {
     "name": "stdout",
     "output_type": "stream",
     "text": [
      "Epoch 7: Loss = 0.09748321516561402\n"
     ]
    },
    {
     "name": "stderr",
     "output_type": "stream",
     "text": [
      " 90%|█████████ | 9/10 [07:08<00:47, 47.70s/it]"
     ]
    },
    {
     "name": "stdout",
     "output_type": "stream",
     "text": [
      "Epoch 8: Loss = 0.09738020642517808\n"
     ]
    },
    {
     "name": "stderr",
     "output_type": "stream",
     "text": [
      "100%|██████████| 10/10 [07:55<00:00, 47.54s/it]"
     ]
    },
    {
     "name": "stdout",
     "output_type": "stream",
     "text": [
      "Epoch 9: Loss = 0.09730453273448397\n"
     ]
    },
    {
     "name": "stderr",
     "output_type": "stream",
     "text": [
      "\n"
     ]
    }
   ],
   "source": [
    "from utils.classifier_training_helpers import train_embeddings_from_tgt_context_sets\n",
    "\n",
    "EPOCHS = 10\n",
    "\n",
    "model, losses = train_embeddings_from_tgt_context_sets(\n",
    "    n_time_series=len(data.tickers),\n",
    "    tgt_context_sets=tgt_context_sets,\n",
    "    model=model,\n",
    "    epochs=EPOCHS,\n",
    "    batch_size=64,\n",
    "    early_stopping=False,\n",
    "    device=\"cpu\",\n",
    "    # embedding_dim=EMBEDDING_DIM,\n",
    "    verbose=True,\n",
    ")"
   ]
  },
  {
   "cell_type": "code",
   "execution_count": 7,
   "metadata": {},
   "outputs": [
    {
     "name": "stderr",
     "output_type": "stream",
     "text": [
      "/opt/anaconda3/envs/phd/lib/python3.11/site-packages/threadpoolctl.py:1010: RuntimeWarning: \n",
      "Found Intel OpenMP ('libiomp') and LLVM OpenMP ('libomp') loaded at\n",
      "the same time. Both libraries are known to be incompatible and this\n",
      "can cause random crashes or deadlocks on Linux when loaded in the\n",
      "same Python program.\n",
      "Using threadpoolctl may cause crashes or deadlocks. For more\n",
      "information and possible workarounds, please see\n",
      "    https://github.com/joblib/threadpoolctl/blob/master/multiple_openmp.md\n",
      "\n",
      "  warnings.warn(msg, RuntimeWarning)\n"
     ]
    },
    {
     "name": "stdout",
     "output_type": "stream",
     "text": [
      "Precision Score: 0.65\n",
      "Recall Score: 0.62\n",
      "F1 Score: 0.63\n",
      "Accuracy Score: 0.62\n",
      "Accuracy Score Top-3: 0.84\n"
     ]
    },
    {
     "name": "stderr",
     "output_type": "stream",
     "text": [
      "/opt/anaconda3/envs/phd/lib/python3.11/site-packages/sklearn/metrics/_classification.py:1471: UndefinedMetricWarning: Precision is ill-defined and being set to 0.0 in labels with no predicted samples. Use `zero_division` parameter to control this behavior.\n",
      "  _warn_prf(average, modifier, msg_start, len(result))\n"
     ]
    }
   ],
   "source": [
    "from utils.sector_classification import get_sector_score\n",
    "\n",
    "get_sector_score(model.embeddings.weight.detach().numpy(), sectors=data.sectors, top_k_accuracy=True)"
   ]
  },
  {
   "cell_type": "code",
   "execution_count": 10,
   "metadata": {},
   "outputs": [
    {
     "data": {
      "application/vnd.plotly.v1+json": {
       "config": {
        "plotlyServerURL": "https://plot.ly"
       },
       "data": [
        {
         "customdata": [
          [
           "AAPL",
           "TECHNOLOGY",
           "COMPUTER MANUFACTURING"
          ],
          [
           "ACXM",
           "TECHNOLOGY",
           "EDP SERVICES"
          ],
          [
           "ADBE",
           "TECHNOLOGY",
           "COMPUTER SOFTWARE: PREPACKAGED SOFTWARE"
          ],
          [
           "ADI",
           "TECHNOLOGY",
           "SEMICONDUCTORS"
          ],
          [
           "ADP",
           "TECHNOLOGY",
           "EDP SERVICES"
          ],
          [
           "ADSK",
           "TECHNOLOGY",
           "COMPUTER SOFTWARE: PREPACKAGED SOFTWARE"
          ],
          [
           "AGYS",
           "TECHNOLOGY",
           "EDP SERVICES"
          ],
          [
           "AMAT",
           "TECHNOLOGY",
           "SEMICONDUCTORS"
          ],
          [
           "AMSWA",
           "TECHNOLOGY",
           "COMPUTER SOFTWARE: PREPACKAGED SOFTWARE"
          ],
          [
           "BHE",
           "TECHNOLOGY",
           "ELECTRICAL PRODUCTS"
          ],
          [
           "CA",
           "TECHNOLOGY",
           "COMPUTER SOFTWARE: PREPACKAGED SOFTWARE"
          ],
          [
           "CACI",
           "TECHNOLOGY",
           "EDP SERVICES"
          ],
          [
           "CDNS",
           "TECHNOLOGY",
           "COMPUTER SOFTWARE: PREPACKAGED SOFTWARE"
          ],
          [
           "CERN",
           "TECHNOLOGY",
           "EDP SERVICES"
          ],
          [
           "CLGX",
           "TECHNOLOGY",
           "EDP SERVICES"
          ],
          [
           "CMTL",
           "TECHNOLOGY",
           "RADIO AND TELEVISION BROADCASTING AND COMMUNICATIONS EQUIPMENT"
          ],
          [
           "CRUS",
           "TECHNOLOGY",
           "SEMICONDUCTORS"
          ],
          [
           "CSCO",
           "TECHNOLOGY",
           "COMPUTER COMMUNICATIONS EQUIPMENT"
          ],
          [
           "CTS",
           "TECHNOLOGY",
           "ELECTRICAL PRODUCTS"
          ],
          [
           "CW",
           "TECHNOLOGY",
           "INDUSTRIAL MACHINERY/COMPONENTS"
          ],
          [
           "CY",
           "TECHNOLOGY",
           "SEMICONDUCTORS"
          ],
          [
           "DGII",
           "TECHNOLOGY",
           "COMPUTER COMMUNICATIONS EQUIPMENT"
          ],
          [
           "DIOD",
           "TECHNOLOGY",
           "SEMICONDUCTORS"
          ],
          [
           "DOV",
           "TECHNOLOGY",
           "INDUSTRIAL MACHINERY/COMPONENTS"
          ],
          [
           "EA",
           "TECHNOLOGY",
           "COMPUTER SOFTWARE: PREPACKAGED SOFTWARE"
          ],
          [
           "ERIC",
           "TECHNOLOGY",
           "RADIO AND TELEVISION BROADCASTING AND COMMUNICATIONS EQUIPMENT"
          ],
          [
           "ETN",
           "TECHNOLOGY",
           "INDUSTRIAL MACHINERY/COMPONENTS"
          ],
          [
           "FISV",
           "TECHNOLOGY",
           "EDP SERVICES"
          ],
          [
           "HPQ",
           "TECHNOLOGY",
           "COMPUTER MANUFACTURING"
          ],
          [
           "IBM",
           "TECHNOLOGY",
           "COMPUTER MANUFACTURING"
          ],
          [
           "IDTI",
           "TECHNOLOGY",
           "SEMICONDUCTORS"
          ],
          [
           "INTC",
           "TECHNOLOGY",
           "SEMICONDUCTORS"
          ],
          [
           "IPG",
           "TECHNOLOGY",
           "ADVERTISING"
          ],
          [
           "ITW",
           "TECHNOLOGY",
           "INDUSTRIAL MACHINERY/COMPONENTS"
          ],
          [
           "JKHY",
           "TECHNOLOGY",
           "EDP SERVICES"
          ],
          [
           "KELYA",
           "TECHNOLOGY",
           "PROFESSIONAL SERVICES"
          ],
          [
           "KLIC",
           "TECHNOLOGY",
           "SEMICONDUCTORS"
          ],
          [
           "LRCX",
           "TECHNOLOGY",
           "INDUSTRIAL MACHINERY/COMPONENTS"
          ],
          [
           "LSCC",
           "TECHNOLOGY",
           "SEMICONDUCTORS"
          ],
          [
           "MAN",
           "TECHNOLOGY",
           "PROFESSIONAL SERVICES"
          ],
          [
           "MSFT",
           "TECHNOLOGY",
           "COMPUTER SOFTWARE: PREPACKAGED SOFTWARE"
          ],
          [
           "MSI",
           "TECHNOLOGY",
           "RADIO AND TELEVISION BROADCASTING AND COMMUNICATIONS EQUIPMENT"
          ],
          [
           "MU",
           "TECHNOLOGY",
           "SEMICONDUCTORS"
          ],
          [
           "MXIM",
           "TECHNOLOGY",
           "SEMICONDUCTORS"
          ],
          [
           "OMC",
           "TECHNOLOGY",
           "ADVERTISING"
          ],
          [
           "ORCL",
           "TECHNOLOGY",
           "COMPUTER SOFTWARE: PREPACKAGED SOFTWARE"
          ],
          [
           "PKE",
           "TECHNOLOGY",
           "ELECTRICAL PRODUCTS"
          ],
          [
           "PLAB",
           "TECHNOLOGY",
           "SEMICONDUCTORS"
          ],
          [
           "PLXS",
           "TECHNOLOGY",
           "ELECTRICAL PRODUCTS"
          ],
          [
           "PNR",
           "TECHNOLOGY",
           "INDUSTRIAL MACHINERY/COMPONENTS"
          ],
          [
           "PTC",
           "TECHNOLOGY",
           "COMPUTER SOFTWARE: PREPACKAGED SOFTWARE"
          ],
          [
           "SGMS",
           "TECHNOLOGY",
           "EDP SERVICES"
          ],
          [
           "SIGM",
           "TECHNOLOGY",
           "SEMICONDUCTORS"
          ],
          [
           "SMTC",
           "TECHNOLOGY",
           "SEMICONDUCTORS"
          ],
          [
           "SPXC",
           "TECHNOLOGY",
           "INDUSTRIAL MACHINERY/COMPONENTS"
          ],
          [
           "SWKS",
           "TECHNOLOGY",
           "SEMICONDUCTORS"
          ],
          [
           "SXI",
           "TECHNOLOGY",
           "INDUSTRIAL MACHINERY/COMPONENTS"
          ],
          [
           "SYMC",
           "TECHNOLOGY",
           "COMPUTER SOFTWARE: PREPACKAGED SOFTWARE"
          ],
          [
           "TECD",
           "TECHNOLOGY",
           "RETAIL: COMPUTER SOFTWARE & PERIPHERAL EQUIPMENT"
          ],
          [
           "TXN",
           "TECHNOLOGY",
           "SEMICONDUCTORS"
          ],
          [
           "TYL",
           "TECHNOLOGY",
           "COMPUTER SOFTWARE: PREPACKAGED SOFTWARE"
          ],
          [
           "UIS",
           "TECHNOLOGY",
           "EDP SERVICES"
          ],
          [
           "WDC",
           "TECHNOLOGY",
           "ELECTRONIC COMPONENTS"
          ],
          [
           "WPP",
           "TECHNOLOGY",
           "ADVERTISING"
          ],
          [
           "XLNX",
           "TECHNOLOGY",
           "SEMICONDUCTORS"
          ],
          [
           "XRX",
           "TECHNOLOGY",
           "COMPUTER PERIPHERAL EQUIPMENT"
          ],
          [
           "ZIXI",
           "TECHNOLOGY",
           "EDP SERVICES"
          ]
         ],
         "hovertemplate": "<b>%{hovertext}</b><br><br>Sector=%{customdata[1]}<br>PC1=%{x}<br>PC2=%{y}<br>ticker=%{customdata[0]}<br>industry=%{customdata[2]}<extra></extra>",
         "hovertext": [
          "COMPUTER MANUFACTURING",
          "EDP SERVICES",
          "COMPUTER SOFTWARE: PREPACKAGED SOFTWARE",
          "SEMICONDUCTORS",
          "EDP SERVICES",
          "COMPUTER SOFTWARE: PREPACKAGED SOFTWARE",
          "EDP SERVICES",
          "SEMICONDUCTORS",
          "COMPUTER SOFTWARE: PREPACKAGED SOFTWARE",
          "ELECTRICAL PRODUCTS",
          "COMPUTER SOFTWARE: PREPACKAGED SOFTWARE",
          "EDP SERVICES",
          "COMPUTER SOFTWARE: PREPACKAGED SOFTWARE",
          "EDP SERVICES",
          "EDP SERVICES",
          "RADIO AND TELEVISION BROADCASTING AND COMMUNICATIONS EQUIPMENT",
          "SEMICONDUCTORS",
          "COMPUTER COMMUNICATIONS EQUIPMENT",
          "ELECTRICAL PRODUCTS",
          "INDUSTRIAL MACHINERY/COMPONENTS",
          "SEMICONDUCTORS",
          "COMPUTER COMMUNICATIONS EQUIPMENT",
          "SEMICONDUCTORS",
          "INDUSTRIAL MACHINERY/COMPONENTS",
          "COMPUTER SOFTWARE: PREPACKAGED SOFTWARE",
          "RADIO AND TELEVISION BROADCASTING AND COMMUNICATIONS EQUIPMENT",
          "INDUSTRIAL MACHINERY/COMPONENTS",
          "EDP SERVICES",
          "COMPUTER MANUFACTURING",
          "COMPUTER MANUFACTURING",
          "SEMICONDUCTORS",
          "SEMICONDUCTORS",
          "ADVERTISING",
          "INDUSTRIAL MACHINERY/COMPONENTS",
          "EDP SERVICES",
          "PROFESSIONAL SERVICES",
          "SEMICONDUCTORS",
          "INDUSTRIAL MACHINERY/COMPONENTS",
          "SEMICONDUCTORS",
          "PROFESSIONAL SERVICES",
          "COMPUTER SOFTWARE: PREPACKAGED SOFTWARE",
          "RADIO AND TELEVISION BROADCASTING AND COMMUNICATIONS EQUIPMENT",
          "SEMICONDUCTORS",
          "SEMICONDUCTORS",
          "ADVERTISING",
          "COMPUTER SOFTWARE: PREPACKAGED SOFTWARE",
          "ELECTRICAL PRODUCTS",
          "SEMICONDUCTORS",
          "ELECTRICAL PRODUCTS",
          "INDUSTRIAL MACHINERY/COMPONENTS",
          "COMPUTER SOFTWARE: PREPACKAGED SOFTWARE",
          "EDP SERVICES",
          "SEMICONDUCTORS",
          "SEMICONDUCTORS",
          "INDUSTRIAL MACHINERY/COMPONENTS",
          "SEMICONDUCTORS",
          "INDUSTRIAL MACHINERY/COMPONENTS",
          "COMPUTER SOFTWARE: PREPACKAGED SOFTWARE",
          "RETAIL: COMPUTER SOFTWARE & PERIPHERAL EQUIPMENT",
          "SEMICONDUCTORS",
          "COMPUTER SOFTWARE: PREPACKAGED SOFTWARE",
          "EDP SERVICES",
          "ELECTRONIC COMPONENTS",
          "ADVERTISING",
          "SEMICONDUCTORS",
          "COMPUTER PERIPHERAL EQUIPMENT",
          "EDP SERVICES"
         ],
         "legendgroup": "TECHNOLOGY",
         "marker": {
          "color": "#FD3216",
          "line": {
           "color": "DarkSlateGrey",
           "width": 1
          },
          "opacity": 0.7,
          "size": 8,
          "symbol": "circle"
         },
         "mode": "markers",
         "name": "TECHNOLOGY",
         "orientation": "v",
         "showlegend": true,
         "type": "scatter",
         "x": [
          -0.8586096167564392,
          -0.1346372812986374,
          -0.4519195556640625,
          -0.23262788355350494,
          0.4338153302669525,
          -0.1867353916168213,
          -0.5797547698020935,
          -0.24980399012565613,
          -1.0871180295944214,
          0.01146642304956913,
          -0.2805021107196808,
          -0.47437378764152527,
          -0.06130780652165413,
          -0.6981306076049805,
          0.10431269556283951,
          -1.1029150485992432,
          -0.7715649604797363,
          -0.15206828713417053,
          -0.04223321005702019,
          0.5718485713005066,
          -0.4963113069534302,
          -0.936966061592102,
          -0.42034128308296204,
          1.4336799383163452,
          -0.5712765455245972,
          -0.4987793266773224,
          1.3954523801803589,
          0.2747415602207184,
          -0.36342358589172363,
          0.055468980222940445,
          -0.7099771499633789,
          -0.185691237449646,
          0.28266745805740356,
          1.3915013074874878,
          -0.14795610308647156,
          0.3378990888595581,
          -0.4303097426891327,
          -0.28380000591278076,
          -0.7207188606262207,
          0.9632570743560791,
          -0.03728954493999481,
          -0.2415282130241394,
          -0.48787921667099,
          -0.46202799677848816,
          0.4379127621650696,
          -0.4126303195953369,
          -0.18379640579223633,
          -0.46401917934417725,
          -0.2827605903148651,
          0.8449735045433044,
          -0.38836202025413513,
          -0.6835991144180298,
          -1.4043757915496826,
          -0.4626178443431854,
          0.5211790800094604,
          -0.7634695172309875,
          0.18755584955215454,
          -0.6432825326919556,
          -0.2638438045978546,
          -0.15127243101596832,
          -1.044434905052185,
          -0.009919953532516956,
          -0.6248769760131836,
          0.09941308945417404,
          -0.431022047996521,
          0.014233110472559929,
          -1.276395320892334
         ],
         "xaxis": "x",
         "y": [
          -0.9948409199714661,
          -0.12428015470504761,
          -1.3270306587219238,
          -1.5956894159317017,
          -0.8724245429039001,
          -1.0639166831970215,
          0.6648441553115845,
          -1.4917471408843994,
          0.5196909308433533,
          -0.6722202897071838,
          -1.3518775701522827,
          -0.11195938289165497,
          -0.9684998989105225,
          -1.0230125188827515,
          0.39283326268196106,
          0.10335350781679153,
          -0.40329280495643616,
          -1.6008849143981934,
          0.411525160074234,
          0.08068037778139114,
          -0.8933373689651489,
          0.6438218951225281,
          -0.37930700182914734,
          -1.4798696041107178,
          -0.6694635152816772,
          -1.2308366298675537,
          -1.2751652002334595,
          -0.9642389416694641,
          -1.1900542974472046,
          -1.217949390411377,
          -0.8323894739151001,
          -1.5902377367019653,
          -0.6190520524978638,
          -1.3884046077728271,
          -0.7286720275878906,
          0.6773359179496765,
          -0.4812990725040436,
          -1.4178274869918823,
          -0.27557769417762756,
          -0.7283504605293274,
          -1.1819297075271606,
          -0.9940257668495178,
          -0.637712299823761,
          -1.3790464401245117,
          -1.1135401725769043,
          -1.6355901956558228,
          0.3420812785625458,
          -0.005599981639534235,
          -0.7031764388084412,
          -1.376882553100586,
          -0.8779684901237488,
          0.13173316419124603,
          0.029883025214076042,
          -1.0407931804656982,
          -0.9091078042984009,
          -0.8598014116287231,
          1.128187656402588,
          -1.1439286470413208,
          -0.775978147983551,
          -2.120387077331543,
          -0.2707492709159851,
          0.13264867663383484,
          -0.8367166519165039,
          -1.2195039987564087,
          -1.5058999061584473,
          -0.8597343564033508,
          0.22336247563362122
         ],
         "yaxis": "y"
        },
        {
         "customdata": [
          [
           "AB",
           "FINANCE",
           "INVESTMENT MANAGERS"
          ],
          [
           "ABM",
           "FINANCE",
           "DIVERSIFIED COMMERCIAL SERVICES"
          ],
          [
           "AEG",
           "FINANCE",
           "LIFE INSURANCE"
          ],
          [
           "AFG",
           "FINANCE",
           "PROPERTY-CASUALTY INSURERS"
          ],
          [
           "AFL",
           "FINANCE",
           "ACCIDENT &HEALTH INSURANCE"
          ],
          [
           "AIG",
           "FINANCE",
           "PROPERTY-CASUALTY INSURERS"
          ],
          [
           "AJG",
           "FINANCE",
           "SPECIALTY INSURERS"
          ],
          [
           "AON",
           "FINANCE",
           "SPECIALTY INSURERS"
          ],
          [
           "ASB",
           "FINANCE",
           "MAJOR BANKS"
          ],
          [
           "AXP",
           "FINANCE",
           "FINANCE: CONSUMER SERVICES"
          ],
          [
           "BAC",
           "FINANCE",
           "MAJOR BANKS"
          ],
          [
           "BBT",
           "FINANCE",
           "MAJOR BANKS"
          ],
          [
           "BBVA",
           "FINANCE",
           "COMMERCIAL BANKS"
          ],
          [
           "BCS",
           "FINANCE",
           "COMMERCIAL BANKS"
          ],
          [
           "BEN",
           "FINANCE",
           "INVESTMENT MANAGERS"
          ],
          [
           "BK",
           "FINANCE",
           "MAJOR BANKS"
          ],
          [
           "BOH",
           "FINANCE",
           "MAJOR BANKS"
          ],
          [
           "BPOP",
           "FINANCE",
           "MAJOR BANKS"
          ],
          [
           "BRO",
           "FINANCE",
           "SPECIALTY INSURERS"
          ],
          [
           "BXS",
           "FINANCE",
           "MAJOR BANKS"
          ],
          [
           "C",
           "FINANCE",
           "MAJOR BANKS"
          ],
          [
           "CB",
           "FINANCE",
           "PROPERTY-CASUALTY INSURERS"
          ],
          [
           "CBSH",
           "FINANCE",
           "MAJOR BANKS"
          ],
          [
           "CFR",
           "FINANCE",
           "MAJOR BANKS"
          ],
          [
           "CIA",
           "FINANCE",
           "LIFE INSURANCE"
          ],
          [
           "CINF",
           "FINANCE",
           "PROPERTY-CASUALTY INSURERS"
          ],
          [
           "CMA",
           "FINANCE",
           "MAJOR BANKS"
          ],
          [
           "CNA",
           "FINANCE",
           "PROPERTY-CASUALTY INSURERS"
          ],
          [
           "CVBF",
           "FINANCE",
           "MAJOR BANKS"
          ],
          [
           "DNB",
           "FINANCE",
           "FINANCE: CONSUMER SERVICES"
          ],
          [
           "EFX",
           "FINANCE",
           "FINANCE: CONSUMER SERVICES"
          ],
          [
           "EV",
           "FINANCE",
           "INVESTMENT MANAGERS"
          ],
          [
           "FBP",
           "FINANCE",
           "MAJOR BANKS"
          ],
          [
           "FFBC",
           "FINANCE",
           "MAJOR BANKS"
          ],
          [
           "FHN",
           "FINANCE",
           "MAJOR BANKS"
          ],
          [
           "FITB",
           "FINANCE",
           "MAJOR BANKS"
          ],
          [
           "FMBI",
           "FINANCE",
           "MAJOR BANKS"
          ],
          [
           "FNB",
           "FINANCE",
           "MAJOR BANKS"
          ],
          [
           "FULT",
           "FINANCE",
           "MAJOR BANKS"
          ],
          [
           "HBAN",
           "FINANCE",
           "MAJOR BANKS"
          ],
          [
           "INDB",
           "FINANCE",
           "MAJOR BANKS"
          ],
          [
           "JPM",
           "FINANCE",
           "MAJOR BANKS"
          ],
          [
           "KEY",
           "FINANCE",
           "MAJOR BANKS"
          ],
          [
           "KMPR",
           "FINANCE",
           "PROPERTY-CASUALTY INSURERS"
          ],
          [
           "L",
           "FINANCE",
           "PROPERTY-CASUALTY INSURERS"
          ],
          [
           "LM",
           "FINANCE",
           "INVESTMENT MANAGERS"
          ],
          [
           "LNC",
           "FINANCE",
           "LIFE INSURANCE"
          ],
          [
           "MBI",
           "FINANCE",
           "PROPERTY-CASUALTY INSURERS"
          ],
          [
           "MCY",
           "FINANCE",
           "PROPERTY-CASUALTY INSURERS"
          ],
          [
           "MKL",
           "FINANCE",
           "PROPERTY-CASUALTY INSURERS"
          ],
          [
           "MMC",
           "FINANCE",
           "SPECIALTY INSURERS"
          ],
          [
           "MTB",
           "FINANCE",
           "MAJOR BANKS"
          ],
          [
           "NTRS",
           "FINANCE",
           "MAJOR BANKS"
          ],
          [
           "OFG",
           "FINANCE",
           "MAJOR BANKS"
          ],
          [
           "ONB",
           "FINANCE",
           "MAJOR BANKS"
          ],
          [
           "ORI",
           "FINANCE",
           "PROPERTY-CASUALTY INSURERS"
          ],
          [
           "PBCT",
           "FINANCE",
           "SAVINGS INSTITUTIONS"
          ],
          [
           "PGR",
           "FINANCE",
           "PROPERTY-CASUALTY INSURERS"
          ],
          [
           "PNC",
           "FINANCE",
           "MAJOR BANKS"
          ],
          [
           "RF",
           "FINANCE",
           "MAJOR BANKS"
          ],
          [
           "RJF",
           "FINANCE",
           "INVESTMENT BANKERS/BROKERS/SERVICE"
          ],
          [
           "RLI",
           "FINANCE",
           "PROPERTY-CASUALTY INSURERS"
          ],
          [
           "ROL",
           "FINANCE",
           "DIVERSIFIED COMMERCIAL SERVICES"
          ],
          [
           "SCHW",
           "FINANCE",
           "INVESTMENT BANKERS/BROKERS/SERVICE"
          ],
          [
           "SEIC",
           "FINANCE",
           "INVESTMENT BANKERS/BROKERS/SERVICE"
          ],
          [
           "SFE",
           "FINANCE",
           "FINANCE/INVESTORS SERVICES"
          ],
          [
           "SIGI",
           "FINANCE",
           "PROPERTY-CASUALTY INSURERS"
          ],
          [
           "SIVB",
           "FINANCE",
           "MAJOR BANKS"
          ],
          [
           "SLM",
           "FINANCE",
           "FINANCE: CONSUMER SERVICES"
          ],
          [
           "SNV",
           "FINANCE",
           "MAJOR BANKS"
          ],
          [
           "SPGI",
           "FINANCE",
           "FINANCE: CONSUMER SERVICES"
          ],
          [
           "SRCE",
           "FINANCE",
           "MAJOR BANKS"
          ],
          [
           "STI",
           "FINANCE",
           "MAJOR BANKS"
          ],
          [
           "STT",
           "FINANCE",
           "MAJOR BANKS"
          ],
          [
           "TCF",
           "FINANCE",
           "MAJOR BANKS"
          ],
          [
           "TMK",
           "FINANCE",
           "LIFE INSURANCE"
          ],
          [
           "TRMK",
           "FINANCE",
           "MAJOR BANKS"
          ],
          [
           "TROW",
           "FINANCE",
           "INVESTMENT BANKERS/BROKERS/SERVICE"
          ],
          [
           "TRST",
           "FINANCE",
           "MAJOR BANKS"
          ],
          [
           "TRV",
           "FINANCE",
           "PROPERTY-CASUALTY INSURERS"
          ],
          [
           "UBSI",
           "FINANCE",
           "MAJOR BANKS"
          ],
          [
           "UMBF",
           "FINANCE",
           "MAJOR BANKS"
          ],
          [
           "UNM",
           "FINANCE",
           "ACCIDENT &HEALTH INSURANCE"
          ],
          [
           "USB",
           "FINANCE",
           "MAJOR BANKS"
          ],
          [
           "VLY",
           "FINANCE",
           "MAJOR BANKS"
          ],
          [
           "WABC",
           "FINANCE",
           "MAJOR BANKS"
          ],
          [
           "WAFD",
           "FINANCE",
           "MAJOR BANKS"
          ],
          [
           "WBS",
           "FINANCE",
           "MAJOR BANKS"
          ],
          [
           "WFC",
           "FINANCE",
           "MAJOR BANKS"
          ],
          [
           "WRB",
           "FINANCE",
           "PROPERTY-CASUALTY INSURERS"
          ],
          [
           "WSBC",
           "FINANCE",
           "MAJOR BANKS"
          ],
          [
           "WSFS",
           "FINANCE",
           "MAJOR BANKS"
          ],
          [
           "ZION",
           "FINANCE",
           "MAJOR BANKS"
          ]
         ],
         "hovertemplate": "<b>%{hovertext}</b><br><br>Sector=%{customdata[1]}<br>PC1=%{x}<br>PC2=%{y}<br>ticker=%{customdata[0]}<br>industry=%{customdata[2]}<extra></extra>",
         "hovertext": [
          "INVESTMENT MANAGERS",
          "DIVERSIFIED COMMERCIAL SERVICES",
          "LIFE INSURANCE",
          "PROPERTY-CASUALTY INSURERS",
          "ACCIDENT &HEALTH INSURANCE",
          "PROPERTY-CASUALTY INSURERS",
          "SPECIALTY INSURERS",
          "SPECIALTY INSURERS",
          "MAJOR BANKS",
          "FINANCE: CONSUMER SERVICES",
          "MAJOR BANKS",
          "MAJOR BANKS",
          "COMMERCIAL BANKS",
          "COMMERCIAL BANKS",
          "INVESTMENT MANAGERS",
          "MAJOR BANKS",
          "MAJOR BANKS",
          "MAJOR BANKS",
          "SPECIALTY INSURERS",
          "MAJOR BANKS",
          "MAJOR BANKS",
          "PROPERTY-CASUALTY INSURERS",
          "MAJOR BANKS",
          "MAJOR BANKS",
          "LIFE INSURANCE",
          "PROPERTY-CASUALTY INSURERS",
          "MAJOR BANKS",
          "PROPERTY-CASUALTY INSURERS",
          "MAJOR BANKS",
          "FINANCE: CONSUMER SERVICES",
          "FINANCE: CONSUMER SERVICES",
          "INVESTMENT MANAGERS",
          "MAJOR BANKS",
          "MAJOR BANKS",
          "MAJOR BANKS",
          "MAJOR BANKS",
          "MAJOR BANKS",
          "MAJOR BANKS",
          "MAJOR BANKS",
          "MAJOR BANKS",
          "MAJOR BANKS",
          "MAJOR BANKS",
          "MAJOR BANKS",
          "PROPERTY-CASUALTY INSURERS",
          "PROPERTY-CASUALTY INSURERS",
          "INVESTMENT MANAGERS",
          "LIFE INSURANCE",
          "PROPERTY-CASUALTY INSURERS",
          "PROPERTY-CASUALTY INSURERS",
          "PROPERTY-CASUALTY INSURERS",
          "SPECIALTY INSURERS",
          "MAJOR BANKS",
          "MAJOR BANKS",
          "MAJOR BANKS",
          "MAJOR BANKS",
          "PROPERTY-CASUALTY INSURERS",
          "SAVINGS INSTITUTIONS",
          "PROPERTY-CASUALTY INSURERS",
          "MAJOR BANKS",
          "MAJOR BANKS",
          "INVESTMENT BANKERS/BROKERS/SERVICE",
          "PROPERTY-CASUALTY INSURERS",
          "DIVERSIFIED COMMERCIAL SERVICES",
          "INVESTMENT BANKERS/BROKERS/SERVICE",
          "INVESTMENT BANKERS/BROKERS/SERVICE",
          "FINANCE/INVESTORS SERVICES",
          "PROPERTY-CASUALTY INSURERS",
          "MAJOR BANKS",
          "FINANCE: CONSUMER SERVICES",
          "MAJOR BANKS",
          "FINANCE: CONSUMER SERVICES",
          "MAJOR BANKS",
          "MAJOR BANKS",
          "MAJOR BANKS",
          "MAJOR BANKS",
          "LIFE INSURANCE",
          "MAJOR BANKS",
          "INVESTMENT BANKERS/BROKERS/SERVICE",
          "MAJOR BANKS",
          "PROPERTY-CASUALTY INSURERS",
          "MAJOR BANKS",
          "MAJOR BANKS",
          "ACCIDENT &HEALTH INSURANCE",
          "MAJOR BANKS",
          "MAJOR BANKS",
          "MAJOR BANKS",
          "MAJOR BANKS",
          "MAJOR BANKS",
          "MAJOR BANKS",
          "PROPERTY-CASUALTY INSURERS",
          "MAJOR BANKS",
          "MAJOR BANKS",
          "MAJOR BANKS"
         ],
         "legendgroup": "FINANCE",
         "marker": {
          "color": "#00FE35",
          "line": {
           "color": "DarkSlateGrey",
           "width": 1
          },
          "opacity": 0.7,
          "size": 8,
          "symbol": "diamond"
         },
         "mode": "markers",
         "name": "FINANCE",
         "orientation": "v",
         "showlegend": true,
         "type": "scatter",
         "x": [
          0.3460509479045868,
          0.02636350505053997,
          0.7286257743835449,
          0.9867621660232544,
          1.280125617980957,
          1.3220524787902832,
          0.42030006647109985,
          0.45777446031570435,
          2.077038049697876,
          1.5353734493255615,
          2.0051352977752686,
          2.3121886253356934,
          0.5227521061897278,
          0.8095524311065674,
          1.663327693939209,
          1.983695387840271,
          1.7738944292068481,
          1.1038557291030884,
          0.3803396224975586,
          1.6056301593780518,
          1.9203159809112549,
          0.5256897211074829,
          1.992187738418579,
          1.9056298732757568,
          -0.7658866047859192,
          1.4746465682983398,
          2.0868825912475586,
          1.0548070669174194,
          1.3376514911651611,
          0.16326218843460083,
          0.44264164566993713,
          1.6147305965423584,
          0.050281260162591934,
          0.9270648956298828,
          1.7540853023529053,
          1.9504684209823608,
          1.7666853666305542,
          1.3916635513305664,
          1.7793769836425781,
          2.1109747886657715,
          0.724683940410614,
          2.1111888885498047,
          2.169593572616577,
          0.9297873973846436,
          0.9479226469993591,
          1.336843490600586,
          1.8903543949127197,
          0.3380948603153229,
          0.169088676571846,
          0.28238728642463684,
          0.6734889149665833,
          1.9707961082458496,
          1.8701039552688599,
          0.27032384276390076,
          1.4892510175704956,
          1.1651866436004639,
          1.3063408136367798,
          0.5981226563453674,
          2.11364483833313,
          2.0478756427764893,
          1.7482421398162842,
          0.20947007834911346,
          -0.02961721643805504,
          0.9769248962402344,
          1.0501220226287842,
          -0.7069280743598938,
          0.21362115442752838,
          1.3211780786514282,
          0.6645024418830872,
          1.697105050086975,
          0.6022486686706543,
          0.4057699739933014,
          2.2547433376312256,
          1.8358818292617798,
          1.814700961112976,
          1.8339418172836304,
          1.7625410556793213,
          1.7375404834747314,
          0.6395010948181152,
          0.7190633416175842,
          1.4166710376739502,
          1.244081735610962,
          1.345016360282898,
          1.9821754693984985,
          1.6135165691375732,
          1.7925206422805786,
          1.3294302225112915,
          2.0146477222442627,
          2.073082447052002,
          0.22916878759860992,
          0.8177781701087952,
          0.40300220251083374,
          2.017519474029541
         ],
         "xaxis": "x",
         "y": [
          0.23898683488368988,
          0.557434618473053,
          -0.3894171118736267,
          0.19576069712638855,
          -0.20560778677463531,
          0.15034881234169006,
          -0.26479440927505493,
          -0.7408289313316345,
          1.1839163303375244,
          -0.25618991255760193,
          0.574084460735321,
          0.9077558517456055,
          -0.3507610261440277,
          -0.040030963718891144,
          -0.4049167335033417,
          -0.38075020909309387,
          1.1729211807250977,
          1.1612932682037354,
          -0.3228716254234314,
          1.603003740310669,
          0.17436526715755463,
          -0.1903637796640396,
          1.020188570022583,
          0.9328621625900269,
          1.0310722589492798,
          0.49564751982688904,
          0.7956992983818054,
          0.32689884305000305,
          1.6185753345489502,
          -0.5894919633865356,
          -0.43367284536361694,
          -0.010357973165810108,
          1.536167860031128,
          1.8271254301071167,
          1.2482532262802124,
          0.778838038444519,
          1.8215014934539795,
          1.9961620569229126,
          1.5299348831176758,
          1.0929101705551147,
          1.4632235765457153,
          -0.19818861782550812,
          0.9362355470657349,
          0.796342134475708,
          -0.0476425476372242,
          -0.36964190006256104,
          0.10376831144094467,
          1.0343327522277832,
          0.6051758527755737,
          0.3926067352294922,
          -0.5921522974967957,
          0.912243127822876,
          -0.12785984575748444,
          1.3444764614105225,
          1.865531086921692,
          0.42775410413742065,
          0.7298557758331299,
          0.11314795166254044,
          0.5384790301322937,
          0.9985182881355286,
          -0.11828570812940598,
          1.1503974199295044,
          0.30155250430107117,
          -0.7266653776168823,
          -0.5076379776000977,
          0.14904291927814484,
          1.1153981685638428,
          0.0755380317568779,
          0.6209333539009094,
          1.1171358823776245,
          -0.4372686445713043,
          1.5688517093658447,
          0.8494346737861633,
          -0.26887932419776917,
          1.2080461978912354,
          -0.07370129227638245,
          1.7938909530639648,
          -0.4585871696472168,
          1.5242098569869995,
          -0.23686544597148895,
          1.8451765775680542,
          1.6403428316116333,
          -0.21682700514793396,
          0.30643343925476074,
          1.6915985345840454,
          1.512339472770691,
          1.5318065881729126,
          1.4070992469787598,
          0.5903953909873962,
          0.17967574298381805,
          1.7144519090652466,
          1.6640264987945557,
          0.7467695474624634
         ],
         "yaxis": "y"
        },
        {
         "customdata": [
          [
           "AEP",
           "PUBLIC UTILITIES",
           "ELECTRIC UTILITIES: CENTRAL"
          ],
          [
           "ALE",
           "PUBLIC UTILITIES",
           "POWER GENERATION"
          ],
          [
           "ATO",
           "PUBLIC UTILITIES",
           "OIL/GAS TRANSMISSION"
          ],
          [
           "AVA",
           "PUBLIC UTILITIES",
           "POWER GENERATION"
          ],
          [
           "AWR",
           "PUBLIC UTILITIES",
           "WATER SUPPLY"
          ],
          [
           "BCE",
           "PUBLIC UTILITIES",
           "TELECOMMUNICATIONS EQUIPMENT"
          ],
          [
           "BKH",
           "PUBLIC UTILITIES",
           "ELECTRIC UTILITIES: CENTRAL"
          ],
          [
           "BT",
           "PUBLIC UTILITIES",
           "TELECOMMUNICATIONS EQUIPMENT"
          ],
          [
           "CBB",
           "PUBLIC UTILITIES",
           "TELECOMMUNICATIONS EQUIPMENT"
          ],
          [
           "CMS",
           "PUBLIC UTILITIES",
           "POWER GENERATION"
          ],
          [
           "CNP",
           "PUBLIC UTILITIES",
           "ELECTRIC UTILITIES: CENTRAL"
          ],
          [
           "CTL",
           "PUBLIC UTILITIES",
           "TELECOMMUNICATIONS EQUIPMENT"
          ],
          [
           "CWT",
           "PUBLIC UTILITIES",
           "WATER SUPPLY"
          ],
          [
           "D",
           "PUBLIC UTILITIES",
           "ELECTRIC UTILITIES: CENTRAL"
          ],
          [
           "DTE",
           "PUBLIC UTILITIES",
           "ELECTRIC UTILITIES: CENTRAL"
          ],
          [
           "DUK",
           "PUBLIC UTILITIES",
           "POWER GENERATION"
          ],
          [
           "ED",
           "PUBLIC UTILITIES",
           "POWER GENERATION"
          ],
          [
           "EIX",
           "PUBLIC UTILITIES",
           "ELECTRIC UTILITIES: CENTRAL"
          ],
          [
           "ES",
           "PUBLIC UTILITIES",
           "ELECTRIC UTILITIES: CENTRAL"
          ],
          [
           "ETR",
           "PUBLIC UTILITIES",
           "ELECTRIC UTILITIES: CENTRAL"
          ],
          [
           "EXC",
           "PUBLIC UTILITIES",
           "POWER GENERATION"
          ],
          [
           "FTR",
           "PUBLIC UTILITIES",
           "TELECOMMUNICATIONS EQUIPMENT"
          ],
          [
           "HE",
           "PUBLIC UTILITIES",
           "ELECTRIC UTILITIES: CENTRAL"
          ],
          [
           "IDA",
           "PUBLIC UTILITIES",
           "ELECTRIC UTILITIES: CENTRAL"
          ],
          [
           "LNT",
           "PUBLIC UTILITIES",
           "POWER GENERATION"
          ],
          [
           "NEE",
           "PUBLIC UTILITIES",
           "ELECTRIC UTILITIES: CENTRAL"
          ],
          [
           "NFG",
           "PUBLIC UTILITIES",
           "OIL/GAS TRANSMISSION"
          ],
          [
           "NI",
           "PUBLIC UTILITIES",
           "POWER GENERATION"
          ],
          [
           "NJR",
           "PUBLIC UTILITIES",
           "OIL/GAS TRANSMISSION"
          ],
          [
           "NWN",
           "PUBLIC UTILITIES",
           "OIL/GAS TRANSMISSION"
          ],
          [
           "OGE",
           "PUBLIC UTILITIES",
           "ELECTRIC UTILITIES: CENTRAL"
          ],
          [
           "OKE",
           "PUBLIC UTILITIES",
           "OIL & GAS PRODUCTION"
          ],
          [
           "OTTR",
           "PUBLIC UTILITIES",
           "ELECTRIC UTILITIES: CENTRAL"
          ],
          [
           "PCG",
           "PUBLIC UTILITIES",
           "POWER GENERATION"
          ],
          [
           "PEG",
           "PUBLIC UTILITIES",
           "POWER GENERATION"
          ],
          [
           "PHI",
           "PUBLIC UTILITIES",
           "TELECOMMUNICATIONS EQUIPMENT"
          ],
          [
           "PNM",
           "PUBLIC UTILITIES",
           "ELECTRIC UTILITIES: CENTRAL"
          ],
          [
           "PNW",
           "PUBLIC UTILITIES",
           "ELECTRIC UTILITIES: CENTRAL"
          ],
          [
           "PPL",
           "PUBLIC UTILITIES",
           "ELECTRIC UTILITIES: CENTRAL"
          ],
          [
           "S",
           "PUBLIC UTILITIES",
           "TELECOMMUNICATIONS EQUIPMENT"
          ],
          [
           "SCG",
           "PUBLIC UTILITIES",
           "POWER GENERATION"
          ],
          [
           "SJI",
           "PUBLIC UTILITIES",
           "OIL/GAS TRANSMISSION"
          ],
          [
           "SO",
           "PUBLIC UTILITIES",
           "ELECTRIC UTILITIES: CENTRAL"
          ],
          [
           "SR",
           "PUBLIC UTILITIES",
           "OIL/GAS TRANSMISSION"
          ],
          [
           "SWX",
           "PUBLIC UTILITIES",
           "OIL & GAS PRODUCTION"
          ],
          [
           "T",
           "PUBLIC UTILITIES",
           "TELECOMMUNICATIONS EQUIPMENT"
          ],
          [
           "TEF",
           "PUBLIC UTILITIES",
           "TELECOMMUNICATIONS EQUIPMENT"
          ],
          [
           "TRP",
           "PUBLIC UTILITIES",
           "NATURAL GAS DISTRIBUTION"
          ],
          [
           "UGI",
           "PUBLIC UTILITIES",
           "NATURAL GAS DISTRIBUTION"
          ],
          [
           "USM",
           "PUBLIC UTILITIES",
           "TELECOMMUNICATIONS EQUIPMENT"
          ],
          [
           "VOD",
           "PUBLIC UTILITIES",
           "TELECOMMUNICATIONS EQUIPMENT"
          ],
          [
           "VVC",
           "PUBLIC UTILITIES",
           "NATURAL GAS DISTRIBUTION"
          ],
          [
           "VZ",
           "PUBLIC UTILITIES",
           "TELECOMMUNICATIONS EQUIPMENT"
          ],
          [
           "WEC",
           "PUBLIC UTILITIES",
           "POWER GENERATION"
          ],
          [
           "WM",
           "PUBLIC UTILITIES",
           "ENVIRONMENTAL SERVICES"
          ],
          [
           "WMB",
           "PUBLIC UTILITIES",
           "NATURAL GAS DISTRIBUTION"
          ],
          [
           "WTR",
           "PUBLIC UTILITIES",
           "WATER SUPPLY"
          ]
         ],
         "hovertemplate": "<b>%{hovertext}</b><br><br>Sector=%{customdata[1]}<br>PC1=%{x}<br>PC2=%{y}<br>ticker=%{customdata[0]}<br>industry=%{customdata[2]}<extra></extra>",
         "hovertext": [
          "ELECTRIC UTILITIES: CENTRAL",
          "POWER GENERATION",
          "OIL/GAS TRANSMISSION",
          "POWER GENERATION",
          "WATER SUPPLY",
          "TELECOMMUNICATIONS EQUIPMENT",
          "ELECTRIC UTILITIES: CENTRAL",
          "TELECOMMUNICATIONS EQUIPMENT",
          "TELECOMMUNICATIONS EQUIPMENT",
          "POWER GENERATION",
          "ELECTRIC UTILITIES: CENTRAL",
          "TELECOMMUNICATIONS EQUIPMENT",
          "WATER SUPPLY",
          "ELECTRIC UTILITIES: CENTRAL",
          "ELECTRIC UTILITIES: CENTRAL",
          "POWER GENERATION",
          "POWER GENERATION",
          "ELECTRIC UTILITIES: CENTRAL",
          "ELECTRIC UTILITIES: CENTRAL",
          "ELECTRIC UTILITIES: CENTRAL",
          "POWER GENERATION",
          "TELECOMMUNICATIONS EQUIPMENT",
          "ELECTRIC UTILITIES: CENTRAL",
          "ELECTRIC UTILITIES: CENTRAL",
          "POWER GENERATION",
          "ELECTRIC UTILITIES: CENTRAL",
          "OIL/GAS TRANSMISSION",
          "POWER GENERATION",
          "OIL/GAS TRANSMISSION",
          "OIL/GAS TRANSMISSION",
          "ELECTRIC UTILITIES: CENTRAL",
          "OIL & GAS PRODUCTION",
          "ELECTRIC UTILITIES: CENTRAL",
          "POWER GENERATION",
          "POWER GENERATION",
          "TELECOMMUNICATIONS EQUIPMENT",
          "ELECTRIC UTILITIES: CENTRAL",
          "ELECTRIC UTILITIES: CENTRAL",
          "ELECTRIC UTILITIES: CENTRAL",
          "TELECOMMUNICATIONS EQUIPMENT",
          "POWER GENERATION",
          "OIL/GAS TRANSMISSION",
          "ELECTRIC UTILITIES: CENTRAL",
          "OIL/GAS TRANSMISSION",
          "OIL & GAS PRODUCTION",
          "TELECOMMUNICATIONS EQUIPMENT",
          "TELECOMMUNICATIONS EQUIPMENT",
          "NATURAL GAS DISTRIBUTION",
          "NATURAL GAS DISTRIBUTION",
          "TELECOMMUNICATIONS EQUIPMENT",
          "TELECOMMUNICATIONS EQUIPMENT",
          "NATURAL GAS DISTRIBUTION",
          "TELECOMMUNICATIONS EQUIPMENT",
          "POWER GENERATION",
          "ENVIRONMENTAL SERVICES",
          "NATURAL GAS DISTRIBUTION",
          "WATER SUPPLY"
         ],
         "legendgroup": "PUBLIC UTILITIES",
         "marker": {
          "color": "#6A76FC",
          "line": {
           "color": "DarkSlateGrey",
           "width": 1
          },
          "opacity": 0.7,
          "size": 8,
          "symbol": "square"
         },
         "mode": "markers",
         "name": "PUBLIC UTILITIES",
         "orientation": "v",
         "showlegend": true,
         "type": "scatter",
         "x": [
          -1.2893483638763428,
          -0.9486057162284851,
          -0.8044416904449463,
          -1.291715145111084,
          -1.0225929021835327,
          -0.8266837000846863,
          -1.0271834135055542,
          -0.6106542944908142,
          -0.9552136063575745,
          -1.538408637046814,
          -1.3656344413757324,
          -0.7264670133590698,
          -1.0588068962097168,
          -1.084078073501587,
          -0.9782915711402893,
          -1.4443310499191284,
          -1.0915248394012451,
          -1.5734238624572754,
          -1.0692369937896729,
          -1.2224345207214355,
          -1.2961219549179077,
          -1.0790414810180664,
          -0.6432268023490906,
          -0.9067956209182739,
          -1.0003801584243774,
          -1.0097146034240723,
          -0.5615316033363342,
          -1.0719420909881592,
          -0.9078278541564941,
          -0.8419458866119385,
          -0.7643790245056152,
          -0.7651803493499756,
          -0.7745845913887024,
          -1.5909353494644165,
          -1.2745766639709473,
          -1.3478072881698608,
          -1.0167337656021118,
          -1.143041729927063,
          -1.4245854616165161,
          -0.6373307704925537,
          -0.9615033268928528,
          -0.8653578758239746,
          -1.1630122661590576,
          -0.8482837677001953,
          -0.8608320355415344,
          -0.5399149060249329,
          0.03389864042401314,
          -0.8332022428512573,
          -0.9352077841758728,
          -0.5598205924034119,
          -0.7360650897026062,
          -0.9066044092178345,
          -0.585723340511322,
          -1.0198066234588623,
          -0.011709139682352543,
          -1.0407191514968872,
          -1.1757822036743164
         ],
         "xaxis": "x",
         "y": [
          0.4282272458076477,
          0.929031252861023,
          0.9651905298233032,
          0.7426614761352539,
          1.5606379508972168,
          -0.3589977025985718,
          0.9326248168945312,
          -0.6576204895973206,
          0.3122561573982239,
          0.2564992904663086,
          0.14360518753528595,
          -0.11117442697286606,
          1.3634288311004639,
          0.2688444256782532,
          0.4086390733718872,
          0.44722673296928406,
          0.854809045791626,
          0.2493983656167984,
          0.6305071711540222,
          0.5027412176132202,
          0.6387688517570496,
          0.22312015295028687,
          1.0069888830184937,
          1.0899658203125,
          0.8544039130210876,
          0.5392027497291565,
          0.285106897354126,
          0.5759957432746887,
          1.4047049283981323,
          1.4171687364578247,
          0.5418649315834045,
          0.15584012866020203,
          1.2246098518371582,
          0.36616355180740356,
          0.640720784664154,
          -0.05853506550192833,
          1.1658228635787964,
          0.7214638590812683,
          0.4984312653541565,
          0.2827322781085968,
          0.9875639081001282,
          1.3851014375686646,
          0.7108553051948547,
          1.1763683557510376,
          1.1805742979049683,
          -0.5227023959159851,
          -0.8458586931228638,
          -0.03212800994515419,
          0.6435211300849915,
          0.12097999453544617,
          -1.0258173942565918,
          0.8292795419692993,
          -0.31420251727104187,
          0.7885217070579529,
          -0.6486802697181702,
          -0.6536362767219543,
          0.6023234724998474
         ],
         "yaxis": "y"
        },
        {
         "customdata": [
          [
           "ANDV",
           "ENERGY",
           "INTEGRATED OIL COMPANIES"
          ],
          [
           "APA",
           "ENERGY",
           "OIL & GAS PRODUCTION"
          ],
          [
           "APC",
           "ENERGY",
           "OIL & GAS PRODUCTION"
          ],
          [
           "BC",
           "ENERGY",
           "INDUSTRIAL MACHINERY/COMPONENTS"
          ],
          [
           "BGG",
           "ENERGY",
           "INDUSTRIAL MACHINERY/COMPONENTS"
          ],
          [
           "BHGE",
           "ENERGY",
           "METAL FABRICATIONS"
          ],
          [
           "BP",
           "ENERGY",
           "INTEGRATED OIL COMPANIES"
          ],
          [
           "BPL",
           "ENERGY",
           "NATURAL GAS DISTRIBUTION"
          ],
          [
           "BPT",
           "ENERGY",
           "INTEGRATED OIL COMPANIES"
          ],
          [
           "CMI",
           "ENERGY",
           "INDUSTRIAL MACHINERY/COMPONENTS"
          ],
          [
           "COG",
           "ENERGY",
           "OIL & GAS PRODUCTION"
          ],
          [
           "COP",
           "ENERGY",
           "INTEGRATED OIL COMPANIES"
          ],
          [
           "CRK",
           "ENERGY",
           "OIL & GAS PRODUCTION"
          ],
          [
           "CVX",
           "ENERGY",
           "INTEGRATED OIL COMPANIES"
          ],
          [
           "DVN",
           "ENERGY",
           "OIL & GAS PRODUCTION"
          ],
          [
           "EGN",
           "ENERGY",
           "OIL & GAS PRODUCTION"
          ],
          [
           "EMR",
           "ENERGY",
           "CONSUMER ELECTRONICS/APPLIANCES"
          ],
          [
           "EOG",
           "ENERGY",
           "OIL & GAS PRODUCTION"
          ],
          [
           "EQT",
           "ENERGY",
           "OIL & GAS PRODUCTION"
          ],
          [
           "ESV",
           "ENERGY",
           "OIL & GAS PRODUCTION"
          ],
          [
           "GE",
           "ENERGY",
           "CONSUMER ELECTRONICS/APPLIANCES"
          ],
          [
           "HAL",
           "ENERGY",
           "OILFIELD SERVICES/EQUIPMENT"
          ],
          [
           "HES",
           "ENERGY",
           "INTEGRATED OIL COMPANIES"
          ],
          [
           "HP",
           "ENERGY",
           "OIL & GAS PRODUCTION"
          ],
          [
           "INT",
           "ENERGY",
           "OIL REFINING/MARKETING"
          ],
          [
           "MGEE",
           "ENERGY",
           "ELECTRIC UTILITIES: CENTRAL"
          ],
          [
           "MRO",
           "ENERGY",
           "OIL & GAS PRODUCTION"
          ],
          [
           "MUR",
           "ENERGY",
           "OIL & GAS PRODUCTION"
          ],
          [
           "NBL",
           "ENERGY",
           "OIL & GAS PRODUCTION"
          ],
          [
           "NBR",
           "ENERGY",
           "OIL & GAS PRODUCTION"
          ],
          [
           "NE",
           "ENERGY",
           "OIL & GAS PRODUCTION"
          ],
          [
           "OII",
           "ENERGY",
           "OILFIELD SERVICES/EQUIPMENT"
          ],
          [
           "OXY",
           "ENERGY",
           "OIL & GAS PRODUCTION"
          ],
          [
           "PHG",
           "ENERGY",
           "CONSUMER ELECTRONICS/APPLIANCES"
          ],
          [
           "PKD",
           "ENERGY",
           "OIL & GAS PRODUCTION"
          ],
          [
           "RDC",
           "ENERGY",
           "OIL & GAS PRODUCTION"
          ],
          [
           "SBR",
           "ENERGY",
           "OIL & GAS PRODUCTION"
          ],
          [
           "SJT",
           "ENERGY",
           "OIL & GAS PRODUCTION"
          ],
          [
           "SLB",
           "ENERGY",
           "OILFIELD SERVICES/EQUIPMENT"
          ],
          [
           "SSL",
           "ENERGY",
           "OIL & GAS PRODUCTION"
          ],
          [
           "SWN",
           "ENERGY",
           "OIL & GAS PRODUCTION"
          ],
          [
           "TTI",
           "ENERGY",
           "OIL & GAS PRODUCTION"
          ],
          [
           "UNT",
           "ENERGY",
           "OIL & GAS PRODUCTION"
          ],
          [
           "VLO",
           "ENERGY",
           "INTEGRATED OIL COMPANIES"
          ],
          [
           "WFT",
           "ENERGY",
           "METAL FABRICATIONS"
          ],
          [
           "XOM",
           "ENERGY",
           "INTEGRATED OIL COMPANIES"
          ]
         ],
         "hovertemplate": "<b>%{hovertext}</b><br><br>Sector=%{customdata[1]}<br>PC1=%{x}<br>PC2=%{y}<br>ticker=%{customdata[0]}<br>industry=%{customdata[2]}<extra></extra>",
         "hovertext": [
          "INTEGRATED OIL COMPANIES",
          "OIL & GAS PRODUCTION",
          "OIL & GAS PRODUCTION",
          "INDUSTRIAL MACHINERY/COMPONENTS",
          "INDUSTRIAL MACHINERY/COMPONENTS",
          "METAL FABRICATIONS",
          "INTEGRATED OIL COMPANIES",
          "NATURAL GAS DISTRIBUTION",
          "INTEGRATED OIL COMPANIES",
          "INDUSTRIAL MACHINERY/COMPONENTS",
          "OIL & GAS PRODUCTION",
          "INTEGRATED OIL COMPANIES",
          "OIL & GAS PRODUCTION",
          "INTEGRATED OIL COMPANIES",
          "OIL & GAS PRODUCTION",
          "OIL & GAS PRODUCTION",
          "CONSUMER ELECTRONICS/APPLIANCES",
          "OIL & GAS PRODUCTION",
          "OIL & GAS PRODUCTION",
          "OIL & GAS PRODUCTION",
          "CONSUMER ELECTRONICS/APPLIANCES",
          "OILFIELD SERVICES/EQUIPMENT",
          "INTEGRATED OIL COMPANIES",
          "OIL & GAS PRODUCTION",
          "OIL REFINING/MARKETING",
          "ELECTRIC UTILITIES: CENTRAL",
          "OIL & GAS PRODUCTION",
          "OIL & GAS PRODUCTION",
          "OIL & GAS PRODUCTION",
          "OIL & GAS PRODUCTION",
          "OIL & GAS PRODUCTION",
          "OILFIELD SERVICES/EQUIPMENT",
          "OIL & GAS PRODUCTION",
          "CONSUMER ELECTRONICS/APPLIANCES",
          "OIL & GAS PRODUCTION",
          "OIL & GAS PRODUCTION",
          "OIL & GAS PRODUCTION",
          "OIL & GAS PRODUCTION",
          "OILFIELD SERVICES/EQUIPMENT",
          "OIL & GAS PRODUCTION",
          "OIL & GAS PRODUCTION",
          "OIL & GAS PRODUCTION",
          "OIL & GAS PRODUCTION",
          "INTEGRATED OIL COMPANIES",
          "METAL FABRICATIONS",
          "INTEGRATED OIL COMPANIES"
         ],
         "legendgroup": "ENERGY",
         "marker": {
          "color": "#FED4C4",
          "line": {
           "color": "DarkSlateGrey",
           "width": 1
          },
          "opacity": 0.7,
          "size": 8,
          "symbol": "x"
         },
         "mode": "markers",
         "name": "ENERGY",
         "orientation": "v",
         "showlegend": true,
         "type": "scatter",
         "x": [
          -0.8447281122207642,
          -0.45151156187057495,
          -0.289914071559906,
          1.0268619060516357,
          0.6861005425453186,
          -0.3073078393936157,
          -0.058646347373723984,
          -0.9049176573753357,
          -1.4923642873764038,
          1.2220577001571655,
          -0.74970543384552,
          -0.22154957056045532,
          -1.092266321182251,
          0.013319325633347034,
          -0.5923453569412231,
          -0.6680905222892761,
          1.1604764461517334,
          -0.39513808488845825,
          -0.4977557063102722,
          -0.8679800629615784,
          1.063570261001587,
          -0.36408334970474243,
          -0.23107998073101044,
          -0.32154345512390137,
          -0.5571640133857727,
          -1.1456294059753418,
          -0.3212776184082031,
          -0.35795000195503235,
          -0.5755906105041504,
          -0.5759112238883972,
          -0.7601330876350403,
          -0.6434997320175171,
          -0.14975348114967346,
          0.2147669494152069,
          -0.9297236204147339,
          -0.611648440361023,
          -1.1840336322784424,
          -1.2389918565750122,
          -0.09872493147850037,
          -0.6258110404014587,
          -1.0630273818969727,
          -0.711249828338623,
          -0.6109472513198853,
          -0.5833930373191833,
          -0.5764226913452148,
          -0.11279471218585968
         ],
         "xaxis": "x",
         "y": [
          0.03598645702004433,
          -0.36363205313682556,
          -0.30623599886894226,
          0.2826043367385864,
          0.3543544113636017,
          -0.6095744371414185,
          -0.7320250868797302,
          0.2184085100889206,
          -0.013448283076286316,
          -1.2893086671829224,
          0.023235084488987923,
          -0.4294266998767853,
          0.2971646785736084,
          -0.553511917591095,
          -0.21685507893562317,
          0.20116031169891357,
          -1.4391388893127441,
          -0.45097386837005615,
          0.20240944623947144,
          -0.2408033311367035,
          -0.8790639638900757,
          -0.7782374620437622,
          -0.09369739145040512,
          -0.19292064011096954,
          0.051600828766822815,
          1.2233867645263672,
          -0.12475127726793289,
          -0.2506062388420105,
          -0.11047440767288208,
          0.023182338103652,
          -0.14051023125648499,
          -0.23959656059741974,
          -0.36052176356315613,
          -1.4250839948654175,
          0.3825809359550476,
          -0.12841764092445374,
          0.03713494911789894,
          0.25702032446861267,
          -0.9096627235412598,
          -0.4195619821548462,
          0.12602229416370392,
          0.4018763303756714,
          -0.2342921942472458,
          -0.11998927593231201,
          -0.18218396604061127,
          -0.508773684501648
         ],
         "yaxis": "y"
        }
       ],
       "layout": {
        "height": 550,
        "legend": {
         "orientation": "h",
         "title": {
          "text": "Sector"
         },
         "tracegroupgap": 0,
         "x": 1,
         "xanchor": "right",
         "y": 1.02,
         "yanchor": "bottom"
        },
        "margin": {
         "t": 60
        },
        "template": {
         "data": {
          "bar": [
           {
            "error_x": {
             "color": "#2a3f5f"
            },
            "error_y": {
             "color": "#2a3f5f"
            },
            "marker": {
             "line": {
              "color": "white",
              "width": 0.5
             },
             "pattern": {
              "fillmode": "overlay",
              "size": 10,
              "solidity": 0.2
             }
            },
            "type": "bar"
           }
          ],
          "barpolar": [
           {
            "marker": {
             "line": {
              "color": "white",
              "width": 0.5
             },
             "pattern": {
              "fillmode": "overlay",
              "size": 10,
              "solidity": 0.2
             }
            },
            "type": "barpolar"
           }
          ],
          "carpet": [
           {
            "aaxis": {
             "endlinecolor": "#2a3f5f",
             "gridcolor": "#C8D4E3",
             "linecolor": "#C8D4E3",
             "minorgridcolor": "#C8D4E3",
             "startlinecolor": "#2a3f5f"
            },
            "baxis": {
             "endlinecolor": "#2a3f5f",
             "gridcolor": "#C8D4E3",
             "linecolor": "#C8D4E3",
             "minorgridcolor": "#C8D4E3",
             "startlinecolor": "#2a3f5f"
            },
            "type": "carpet"
           }
          ],
          "choropleth": [
           {
            "colorbar": {
             "outlinewidth": 0,
             "ticks": ""
            },
            "type": "choropleth"
           }
          ],
          "contour": [
           {
            "colorbar": {
             "outlinewidth": 0,
             "ticks": ""
            },
            "colorscale": [
             [
              0,
              "#0d0887"
             ],
             [
              0.1111111111111111,
              "#46039f"
             ],
             [
              0.2222222222222222,
              "#7201a8"
             ],
             [
              0.3333333333333333,
              "#9c179e"
             ],
             [
              0.4444444444444444,
              "#bd3786"
             ],
             [
              0.5555555555555556,
              "#d8576b"
             ],
             [
              0.6666666666666666,
              "#ed7953"
             ],
             [
              0.7777777777777778,
              "#fb9f3a"
             ],
             [
              0.8888888888888888,
              "#fdca26"
             ],
             [
              1,
              "#f0f921"
             ]
            ],
            "type": "contour"
           }
          ],
          "contourcarpet": [
           {
            "colorbar": {
             "outlinewidth": 0,
             "ticks": ""
            },
            "type": "contourcarpet"
           }
          ],
          "heatmap": [
           {
            "colorbar": {
             "outlinewidth": 0,
             "ticks": ""
            },
            "colorscale": [
             [
              0,
              "#0d0887"
             ],
             [
              0.1111111111111111,
              "#46039f"
             ],
             [
              0.2222222222222222,
              "#7201a8"
             ],
             [
              0.3333333333333333,
              "#9c179e"
             ],
             [
              0.4444444444444444,
              "#bd3786"
             ],
             [
              0.5555555555555556,
              "#d8576b"
             ],
             [
              0.6666666666666666,
              "#ed7953"
             ],
             [
              0.7777777777777778,
              "#fb9f3a"
             ],
             [
              0.8888888888888888,
              "#fdca26"
             ],
             [
              1,
              "#f0f921"
             ]
            ],
            "type": "heatmap"
           }
          ],
          "heatmapgl": [
           {
            "colorbar": {
             "outlinewidth": 0,
             "ticks": ""
            },
            "colorscale": [
             [
              0,
              "#0d0887"
             ],
             [
              0.1111111111111111,
              "#46039f"
             ],
             [
              0.2222222222222222,
              "#7201a8"
             ],
             [
              0.3333333333333333,
              "#9c179e"
             ],
             [
              0.4444444444444444,
              "#bd3786"
             ],
             [
              0.5555555555555556,
              "#d8576b"
             ],
             [
              0.6666666666666666,
              "#ed7953"
             ],
             [
              0.7777777777777778,
              "#fb9f3a"
             ],
             [
              0.8888888888888888,
              "#fdca26"
             ],
             [
              1,
              "#f0f921"
             ]
            ],
            "type": "heatmapgl"
           }
          ],
          "histogram": [
           {
            "marker": {
             "pattern": {
              "fillmode": "overlay",
              "size": 10,
              "solidity": 0.2
             }
            },
            "type": "histogram"
           }
          ],
          "histogram2d": [
           {
            "colorbar": {
             "outlinewidth": 0,
             "ticks": ""
            },
            "colorscale": [
             [
              0,
              "#0d0887"
             ],
             [
              0.1111111111111111,
              "#46039f"
             ],
             [
              0.2222222222222222,
              "#7201a8"
             ],
             [
              0.3333333333333333,
              "#9c179e"
             ],
             [
              0.4444444444444444,
              "#bd3786"
             ],
             [
              0.5555555555555556,
              "#d8576b"
             ],
             [
              0.6666666666666666,
              "#ed7953"
             ],
             [
              0.7777777777777778,
              "#fb9f3a"
             ],
             [
              0.8888888888888888,
              "#fdca26"
             ],
             [
              1,
              "#f0f921"
             ]
            ],
            "type": "histogram2d"
           }
          ],
          "histogram2dcontour": [
           {
            "colorbar": {
             "outlinewidth": 0,
             "ticks": ""
            },
            "colorscale": [
             [
              0,
              "#0d0887"
             ],
             [
              0.1111111111111111,
              "#46039f"
             ],
             [
              0.2222222222222222,
              "#7201a8"
             ],
             [
              0.3333333333333333,
              "#9c179e"
             ],
             [
              0.4444444444444444,
              "#bd3786"
             ],
             [
              0.5555555555555556,
              "#d8576b"
             ],
             [
              0.6666666666666666,
              "#ed7953"
             ],
             [
              0.7777777777777778,
              "#fb9f3a"
             ],
             [
              0.8888888888888888,
              "#fdca26"
             ],
             [
              1,
              "#f0f921"
             ]
            ],
            "type": "histogram2dcontour"
           }
          ],
          "mesh3d": [
           {
            "colorbar": {
             "outlinewidth": 0,
             "ticks": ""
            },
            "type": "mesh3d"
           }
          ],
          "parcoords": [
           {
            "line": {
             "colorbar": {
              "outlinewidth": 0,
              "ticks": ""
             }
            },
            "type": "parcoords"
           }
          ],
          "pie": [
           {
            "automargin": true,
            "type": "pie"
           }
          ],
          "scatter": [
           {
            "fillpattern": {
             "fillmode": "overlay",
             "size": 10,
             "solidity": 0.2
            },
            "type": "scatter"
           }
          ],
          "scatter3d": [
           {
            "line": {
             "colorbar": {
              "outlinewidth": 0,
              "ticks": ""
             }
            },
            "marker": {
             "colorbar": {
              "outlinewidth": 0,
              "ticks": ""
             }
            },
            "type": "scatter3d"
           }
          ],
          "scattercarpet": [
           {
            "marker": {
             "colorbar": {
              "outlinewidth": 0,
              "ticks": ""
             }
            },
            "type": "scattercarpet"
           }
          ],
          "scattergeo": [
           {
            "marker": {
             "colorbar": {
              "outlinewidth": 0,
              "ticks": ""
             }
            },
            "type": "scattergeo"
           }
          ],
          "scattergl": [
           {
            "marker": {
             "colorbar": {
              "outlinewidth": 0,
              "ticks": ""
             }
            },
            "type": "scattergl"
           }
          ],
          "scattermapbox": [
           {
            "marker": {
             "colorbar": {
              "outlinewidth": 0,
              "ticks": ""
             }
            },
            "type": "scattermapbox"
           }
          ],
          "scatterpolar": [
           {
            "marker": {
             "colorbar": {
              "outlinewidth": 0,
              "ticks": ""
             }
            },
            "type": "scatterpolar"
           }
          ],
          "scatterpolargl": [
           {
            "marker": {
             "colorbar": {
              "outlinewidth": 0,
              "ticks": ""
             }
            },
            "type": "scatterpolargl"
           }
          ],
          "scatterternary": [
           {
            "marker": {
             "colorbar": {
              "outlinewidth": 0,
              "ticks": ""
             }
            },
            "type": "scatterternary"
           }
          ],
          "surface": [
           {
            "colorbar": {
             "outlinewidth": 0,
             "ticks": ""
            },
            "colorscale": [
             [
              0,
              "#0d0887"
             ],
             [
              0.1111111111111111,
              "#46039f"
             ],
             [
              0.2222222222222222,
              "#7201a8"
             ],
             [
              0.3333333333333333,
              "#9c179e"
             ],
             [
              0.4444444444444444,
              "#bd3786"
             ],
             [
              0.5555555555555556,
              "#d8576b"
             ],
             [
              0.6666666666666666,
              "#ed7953"
             ],
             [
              0.7777777777777778,
              "#fb9f3a"
             ],
             [
              0.8888888888888888,
              "#fdca26"
             ],
             [
              1,
              "#f0f921"
             ]
            ],
            "type": "surface"
           }
          ],
          "table": [
           {
            "cells": {
             "fill": {
              "color": "#EBF0F8"
             },
             "line": {
              "color": "white"
             }
            },
            "header": {
             "fill": {
              "color": "#C8D4E3"
             },
             "line": {
              "color": "white"
             }
            },
            "type": "table"
           }
          ]
         },
         "layout": {
          "annotationdefaults": {
           "arrowcolor": "#2a3f5f",
           "arrowhead": 0,
           "arrowwidth": 1
          },
          "autotypenumbers": "strict",
          "coloraxis": {
           "colorbar": {
            "outlinewidth": 0,
            "ticks": ""
           }
          },
          "colorscale": {
           "diverging": [
            [
             0,
             "#8e0152"
            ],
            [
             0.1,
             "#c51b7d"
            ],
            [
             0.2,
             "#de77ae"
            ],
            [
             0.3,
             "#f1b6da"
            ],
            [
             0.4,
             "#fde0ef"
            ],
            [
             0.5,
             "#f7f7f7"
            ],
            [
             0.6,
             "#e6f5d0"
            ],
            [
             0.7,
             "#b8e186"
            ],
            [
             0.8,
             "#7fbc41"
            ],
            [
             0.9,
             "#4d9221"
            ],
            [
             1,
             "#276419"
            ]
           ],
           "sequential": [
            [
             0,
             "#0d0887"
            ],
            [
             0.1111111111111111,
             "#46039f"
            ],
            [
             0.2222222222222222,
             "#7201a8"
            ],
            [
             0.3333333333333333,
             "#9c179e"
            ],
            [
             0.4444444444444444,
             "#bd3786"
            ],
            [
             0.5555555555555556,
             "#d8576b"
            ],
            [
             0.6666666666666666,
             "#ed7953"
            ],
            [
             0.7777777777777778,
             "#fb9f3a"
            ],
            [
             0.8888888888888888,
             "#fdca26"
            ],
            [
             1,
             "#f0f921"
            ]
           ],
           "sequentialminus": [
            [
             0,
             "#0d0887"
            ],
            [
             0.1111111111111111,
             "#46039f"
            ],
            [
             0.2222222222222222,
             "#7201a8"
            ],
            [
             0.3333333333333333,
             "#9c179e"
            ],
            [
             0.4444444444444444,
             "#bd3786"
            ],
            [
             0.5555555555555556,
             "#d8576b"
            ],
            [
             0.6666666666666666,
             "#ed7953"
            ],
            [
             0.7777777777777778,
             "#fb9f3a"
            ],
            [
             0.8888888888888888,
             "#fdca26"
            ],
            [
             1,
             "#f0f921"
            ]
           ]
          },
          "colorway": [
           "#636efa",
           "#EF553B",
           "#00cc96",
           "#ab63fa",
           "#FFA15A",
           "#19d3f3",
           "#FF6692",
           "#B6E880",
           "#FF97FF",
           "#FECB52"
          ],
          "font": {
           "color": "#2a3f5f"
          },
          "geo": {
           "bgcolor": "white",
           "lakecolor": "white",
           "landcolor": "white",
           "showlakes": true,
           "showland": true,
           "subunitcolor": "#C8D4E3"
          },
          "hoverlabel": {
           "align": "left"
          },
          "hovermode": "closest",
          "mapbox": {
           "style": "light"
          },
          "paper_bgcolor": "white",
          "plot_bgcolor": "white",
          "polar": {
           "angularaxis": {
            "gridcolor": "#EBF0F8",
            "linecolor": "#EBF0F8",
            "ticks": ""
           },
           "bgcolor": "white",
           "radialaxis": {
            "gridcolor": "#EBF0F8",
            "linecolor": "#EBF0F8",
            "ticks": ""
           }
          },
          "scene": {
           "xaxis": {
            "backgroundcolor": "white",
            "gridcolor": "#DFE8F3",
            "gridwidth": 2,
            "linecolor": "#EBF0F8",
            "showbackground": true,
            "ticks": "",
            "zerolinecolor": "#EBF0F8"
           },
           "yaxis": {
            "backgroundcolor": "white",
            "gridcolor": "#DFE8F3",
            "gridwidth": 2,
            "linecolor": "#EBF0F8",
            "showbackground": true,
            "ticks": "",
            "zerolinecolor": "#EBF0F8"
           },
           "zaxis": {
            "backgroundcolor": "white",
            "gridcolor": "#DFE8F3",
            "gridwidth": 2,
            "linecolor": "#EBF0F8",
            "showbackground": true,
            "ticks": "",
            "zerolinecolor": "#EBF0F8"
           }
          },
          "shapedefaults": {
           "line": {
            "color": "#2a3f5f"
           }
          },
          "ternary": {
           "aaxis": {
            "gridcolor": "#DFE8F3",
            "linecolor": "#A2B1C6",
            "ticks": ""
           },
           "baxis": {
            "gridcolor": "#DFE8F3",
            "linecolor": "#A2B1C6",
            "ticks": ""
           },
           "bgcolor": "white",
           "caxis": {
            "gridcolor": "#DFE8F3",
            "linecolor": "#A2B1C6",
            "ticks": ""
           }
          },
          "title": {
           "x": 0.05
          },
          "xaxis": {
           "automargin": true,
           "gridcolor": "#EBF0F8",
           "linecolor": "#EBF0F8",
           "ticks": "",
           "title": {
            "standoff": 15
           },
           "zerolinecolor": "#EBF0F8",
           "zerolinewidth": 2
          },
          "yaxis": {
           "automargin": true,
           "gridcolor": "#EBF0F8",
           "linecolor": "#EBF0F8",
           "ticks": "",
           "title": {
            "standoff": 15
           },
           "zerolinecolor": "#EBF0F8",
           "zerolinewidth": 2
          }
         }
        },
        "width": 650,
        "xaxis": {
         "anchor": "y",
         "domain": [
          0,
          1
         ],
         "title": {
          "text": "PC1"
         }
        },
        "yaxis": {
         "anchor": "x",
         "domain": [
          0,
          1
         ],
         "title": {
          "text": "PC2"
         }
        }
       }
      }
     },
     "metadata": {},
     "output_type": "display_data"
    }
   ],
   "source": [
    "from utils.visualisation_functions import pca_plot_from_embeddings\n",
    "\n",
    "pca_plot_from_embeddings(\n",
    "    embedding_matrix=model.embeddings.weight.detach().numpy(),\n",
    "    sectors=data.sectors,\n",
    "    tickers=data.tickers,\n",
    "    industries=data.industries,\n",
    "    names=data.names,\n",
    "    dimensions=2,\n",
    "    reduced=True,\n",
    "    method=\"PCA\",\n",
    "    return_df=False,\n",
    "    rand_state=None,\n",
    ")"
   ]
  },
  {
   "cell_type": "code",
   "execution_count": 3,
   "metadata": {},
   "outputs": [],
   "source": [
    "SAVE_MODEL = False\n",
    "SAVE_PATH_TEMPLATE = \"abs_diff_E{epochs}_C{context_size}_D{embedding_dim}_P{periods}_train{train_pct}.pt\"\n",
    "save_path = SAVE_PATH_TEMPLATE.format(\n",
    "    epochs=EPOCHS,\n",
    "    context_size=CONTEXT_SIZE,\n",
    "    embedding_dim=EMBEDDING_DIM,\n",
    "    periods=\"-\".join(map(str, PERIODS)),\n",
    "    train_pct=TRAIN_PCT,\n",
    ")\n",
    "\n",
    "# Example usage of saving and loading model\n",
    "# model.save_model(\"model_test.pt\")\n",
    "# model = ClassificationEmbeddings.load_model(path=\"model_test.pt\")"
   ]
  },
  {
   "cell_type": "code",
   "execution_count": null,
   "metadata": {},
   "outputs": [],
   "source": []
  }
 ],
 "metadata": {
  "kernelspec": {
   "display_name": "phd",
   "language": "python",
   "name": "python3"
  },
  "language_info": {
   "codemirror_mode": {
    "name": "ipython",
    "version": 3
   },
   "file_extension": ".py",
   "mimetype": "text/x-python",
   "name": "python",
   "nbconvert_exporter": "python",
   "pygments_lexer": "ipython3",
   "version": "3.11.5"
  },
  "orig_nbformat": 4
 },
 "nbformat": 4,
 "nbformat_minor": 2
}
